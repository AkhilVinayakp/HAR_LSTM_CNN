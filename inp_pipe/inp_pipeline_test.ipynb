{
  "nbformat": 4,
  "nbformat_minor": 0,
  "metadata": {
    "colab": {
      "name": "inp_pipeline_test.ipynb",
      "provenance": [],
      "mount_file_id": "1l4-VwucxMCrGyUcZnBNwY4QoeZBl4h1x",
      "authorship_tag": "ABX9TyMlarFODw/fwGi0BUVOZ4s8",
      "include_colab_link": true
    },
    "kernelspec": {
      "name": "python3",
      "display_name": "Python 3"
    },
    "language_info": {
      "name": "python"
    }
  },
  "cells": [
    {
      "cell_type": "markdown",
      "metadata": {
        "id": "view-in-github",
        "colab_type": "text"
      },
      "source": [
        "<a href=\"https://colab.research.google.com/github/AkhilVinayakp/HAR_LSTM_CNN/blob/main/inp_pipe/inp_pipeline_test.ipynb\" target=\"_parent\"><img src=\"https://colab.research.google.com/assets/colab-badge.svg\" alt=\"Open In Colab\"/></a>"
      ]
    },
    {
      "cell_type": "code",
      "metadata": {
        "id": "0fQPQ2P34IeQ"
      },
      "source": [
        "import tensorflow as tf\n",
        "import pandas as pd\n",
        "import numpy as np\n",
        "import matplotlib.pyplot as plt\n",
        "from tensorflow.keras.utils import to_categorical\n",
        "from statistics import mode"
      ],
      "execution_count": 86,
      "outputs": []
    },
    {
      "cell_type": "code",
      "metadata": {
        "colab": {
          "base_uri": "https://localhost:8080/",
          "height": 54
        },
        "id": "5Fpb-f8i4o0q",
        "outputId": "bc111a58-8acf-47b1-f892-cf146d14d5f4"
      },
      "source": [
        "%cd /content/drive/My\\ Drive/datasets \n",
        "%pwd"
      ],
      "execution_count": 59,
      "outputs": [
        {
          "output_type": "stream",
          "text": [
            "/content/drive/My Drive/datasets\n"
          ],
          "name": "stdout"
        },
        {
          "output_type": "execute_result",
          "data": {
            "application/vnd.google.colaboratory.intrinsic+json": {
              "type": "string"
            },
            "text/plain": [
              "'/content/drive/My Drive/datasets'"
            ]
          },
          "metadata": {
            "tags": []
          },
          "execution_count": 59
        }
      ]
    },
    {
      "cell_type": "code",
      "metadata": {
        "id": "t2OYRGfD4s_x"
      },
      "source": [
        "\n",
        "df =  pd.read_csv('inter_norm_mini.csv')"
      ],
      "execution_count": 61,
      "outputs": []
    },
    {
      "cell_type": "code",
      "metadata": {
        "colab": {
          "base_uri": "https://localhost:8080/",
          "height": 206
        },
        "id": "IxDmsTR44vXQ",
        "outputId": "0eedfdc9-adda-4282-f34c-e7c2f254d7fe"
      },
      "source": [
        "df.head()"
      ],
      "execution_count": null,
      "outputs": [
        {
          "output_type": "execute_result",
          "data": {
            "text/html": [
              "<div>\n",
              "<style scoped>\n",
              "    .dataframe tbody tr th:only-of-type {\n",
              "        vertical-align: middle;\n",
              "    }\n",
              "\n",
              "    .dataframe tbody tr th {\n",
              "        vertical-align: top;\n",
              "    }\n",
              "\n",
              "    .dataframe thead th {\n",
              "        text-align: right;\n",
              "    }\n",
              "</style>\n",
              "<table border=\"1\" class=\"dataframe\">\n",
              "  <thead>\n",
              "    <tr style=\"text-align: right;\">\n",
              "      <th></th>\n",
              "      <th>user</th>\n",
              "      <th>activity</th>\n",
              "      <th>timestamp</th>\n",
              "      <th>x-axis</th>\n",
              "      <th>y-axis</th>\n",
              "      <th>z-axis</th>\n",
              "    </tr>\n",
              "  </thead>\n",
              "  <tbody>\n",
              "    <tr>\n",
              "      <th>0</th>\n",
              "      <td>14</td>\n",
              "      <td>Downstairs</td>\n",
              "      <td>57725432324000</td>\n",
              "      <td>0.668528</td>\n",
              "      <td>0.725448</td>\n",
              "      <td>-0.163691</td>\n",
              "    </tr>\n",
              "    <tr>\n",
              "      <th>1</th>\n",
              "      <td>7</td>\n",
              "      <td>Upstairs</td>\n",
              "      <td>208866321473000</td>\n",
              "      <td>0.454967</td>\n",
              "      <td>0.875538</td>\n",
              "      <td>-0.162600</td>\n",
              "    </tr>\n",
              "    <tr>\n",
              "      <th>2</th>\n",
              "      <td>29</td>\n",
              "      <td>Jogging</td>\n",
              "      <td>0</td>\n",
              "      <td>0.287281</td>\n",
              "      <td>0.887311</td>\n",
              "      <td>-0.360761</td>\n",
              "    </tr>\n",
              "    <tr>\n",
              "      <th>3</th>\n",
              "      <td>15</td>\n",
              "      <td>Jogging</td>\n",
              "      <td>0</td>\n",
              "      <td>0.944283</td>\n",
              "      <td>0.292972</td>\n",
              "      <td>-0.149990</td>\n",
              "    </tr>\n",
              "    <tr>\n",
              "      <th>4</th>\n",
              "      <td>8</td>\n",
              "      <td>Jogging</td>\n",
              "      <td>111020251899000</td>\n",
              "      <td>-0.124547</td>\n",
              "      <td>-0.706035</td>\n",
              "      <td>-0.697139</td>\n",
              "    </tr>\n",
              "  </tbody>\n",
              "</table>\n",
              "</div>"
            ],
            "text/plain": [
              "   user    activity        timestamp    x-axis    y-axis    z-axis\n",
              "0    14  Downstairs   57725432324000  0.668528  0.725448 -0.163691\n",
              "1     7    Upstairs  208866321473000  0.454967  0.875538 -0.162600\n",
              "2    29     Jogging                0  0.287281  0.887311 -0.360761\n",
              "3    15     Jogging                0  0.944283  0.292972 -0.149990\n",
              "4     8     Jogging  111020251899000 -0.124547 -0.706035 -0.697139"
            ]
          },
          "metadata": {
            "tags": []
          },
          "execution_count": 4
        }
      ]
    },
    {
      "cell_type": "code",
      "metadata": {
        "id": "3xl2CIe04zQQ"
      },
      "source": [
        "df.drop('user', inplace=True, axis=1)"
      ],
      "execution_count": 62,
      "outputs": []
    },
    {
      "cell_type": "code",
      "metadata": {
        "id": "Vr3pVmps7wM6"
      },
      "source": [
        "df.drop('timestamp', inplace=True, axis=1)"
      ],
      "execution_count": 63,
      "outputs": []
    },
    {
      "cell_type": "code",
      "metadata": {
        "colab": {
          "base_uri": "https://localhost:8080/",
          "height": 424
        },
        "id": "qlYlGrig7w7-",
        "outputId": "838bc48d-1e60-420a-815a-23621a21275a"
      },
      "source": [
        "df"
      ],
      "execution_count": null,
      "outputs": [
        {
          "output_type": "execute_result",
          "data": {
            "text/html": [
              "<div>\n",
              "<style scoped>\n",
              "    .dataframe tbody tr th:only-of-type {\n",
              "        vertical-align: middle;\n",
              "    }\n",
              "\n",
              "    .dataframe tbody tr th {\n",
              "        vertical-align: top;\n",
              "    }\n",
              "\n",
              "    .dataframe thead th {\n",
              "        text-align: right;\n",
              "    }\n",
              "</style>\n",
              "<table border=\"1\" class=\"dataframe\">\n",
              "  <thead>\n",
              "    <tr style=\"text-align: right;\">\n",
              "      <th></th>\n",
              "      <th>activity</th>\n",
              "      <th>x-axis</th>\n",
              "      <th>y-axis</th>\n",
              "      <th>z-axis</th>\n",
              "    </tr>\n",
              "  </thead>\n",
              "  <tbody>\n",
              "    <tr>\n",
              "      <th>0</th>\n",
              "      <td>Downstairs</td>\n",
              "      <td>0.668528</td>\n",
              "      <td>0.725448</td>\n",
              "      <td>-0.163691</td>\n",
              "    </tr>\n",
              "    <tr>\n",
              "      <th>1</th>\n",
              "      <td>Upstairs</td>\n",
              "      <td>0.454967</td>\n",
              "      <td>0.875538</td>\n",
              "      <td>-0.162600</td>\n",
              "    </tr>\n",
              "    <tr>\n",
              "      <th>2</th>\n",
              "      <td>Jogging</td>\n",
              "      <td>0.287281</td>\n",
              "      <td>0.887311</td>\n",
              "      <td>-0.360761</td>\n",
              "    </tr>\n",
              "    <tr>\n",
              "      <th>3</th>\n",
              "      <td>Jogging</td>\n",
              "      <td>0.944283</td>\n",
              "      <td>0.292972</td>\n",
              "      <td>-0.149990</td>\n",
              "    </tr>\n",
              "    <tr>\n",
              "      <th>4</th>\n",
              "      <td>Jogging</td>\n",
              "      <td>-0.124547</td>\n",
              "      <td>-0.706035</td>\n",
              "      <td>-0.697139</td>\n",
              "    </tr>\n",
              "    <tr>\n",
              "      <th>...</th>\n",
              "      <td>...</td>\n",
              "      <td>...</td>\n",
              "      <td>...</td>\n",
              "      <td>...</td>\n",
              "    </tr>\n",
              "    <tr>\n",
              "      <th>105</th>\n",
              "      <td>Downstairs</td>\n",
              "      <td>0.449064</td>\n",
              "      <td>0.893440</td>\n",
              "      <td>-0.010313</td>\n",
              "    </tr>\n",
              "    <tr>\n",
              "      <th>106</th>\n",
              "      <td>Downstairs</td>\n",
              "      <td>-0.157978</td>\n",
              "      <td>0.929553</td>\n",
              "      <td>0.333128</td>\n",
              "    </tr>\n",
              "    <tr>\n",
              "      <th>107</th>\n",
              "      <td>Jogging</td>\n",
              "      <td>0.687072</td>\n",
              "      <td>0.721425</td>\n",
              "      <td>-0.086476</td>\n",
              "    </tr>\n",
              "    <tr>\n",
              "      <th>108</th>\n",
              "      <td>Walking</td>\n",
              "      <td>0.927688</td>\n",
              "      <td>0.373049</td>\n",
              "      <td>-0.015133</td>\n",
              "    </tr>\n",
              "    <tr>\n",
              "      <th>109</th>\n",
              "      <td>Walking</td>\n",
              "      <td>0.444785</td>\n",
              "      <td>0.834132</td>\n",
              "      <td>-0.326175</td>\n",
              "    </tr>\n",
              "  </tbody>\n",
              "</table>\n",
              "<p>110 rows × 4 columns</p>\n",
              "</div>"
            ],
            "text/plain": [
              "       activity    x-axis    y-axis    z-axis\n",
              "0    Downstairs  0.668528  0.725448 -0.163691\n",
              "1      Upstairs  0.454967  0.875538 -0.162600\n",
              "2       Jogging  0.287281  0.887311 -0.360761\n",
              "3       Jogging  0.944283  0.292972 -0.149990\n",
              "4       Jogging -0.124547 -0.706035 -0.697139\n",
              "..          ...       ...       ...       ...\n",
              "105  Downstairs  0.449064  0.893440 -0.010313\n",
              "106  Downstairs -0.157978  0.929553  0.333128\n",
              "107     Jogging  0.687072  0.721425 -0.086476\n",
              "108     Walking  0.927688  0.373049 -0.015133\n",
              "109     Walking  0.444785  0.834132 -0.326175\n",
              "\n",
              "[110 rows x 4 columns]"
            ]
          },
          "metadata": {
            "tags": []
          },
          "execution_count": 8
        }
      ]
    },
    {
      "cell_type": "code",
      "metadata": {
        "id": "YCBC5a7F75L2"
      },
      "source": [
        "df.activity = df.activity.astype('category')\n",
        "df.activity = df.activity.cat.codes.astype('float64')"
      ],
      "execution_count": 64,
      "outputs": []
    },
    {
      "cell_type": "code",
      "metadata": {
        "colab": {
          "base_uri": "https://localhost:8080/",
          "height": 424
        },
        "id": "0bTBILux8hSm",
        "outputId": "a13d7646-c33b-4470-d0f8-3f5416e1343b"
      },
      "source": [
        "df"
      ],
      "execution_count": null,
      "outputs": [
        {
          "output_type": "execute_result",
          "data": {
            "text/html": [
              "<div>\n",
              "<style scoped>\n",
              "    .dataframe tbody tr th:only-of-type {\n",
              "        vertical-align: middle;\n",
              "    }\n",
              "\n",
              "    .dataframe tbody tr th {\n",
              "        vertical-align: top;\n",
              "    }\n",
              "\n",
              "    .dataframe thead th {\n",
              "        text-align: right;\n",
              "    }\n",
              "</style>\n",
              "<table border=\"1\" class=\"dataframe\">\n",
              "  <thead>\n",
              "    <tr style=\"text-align: right;\">\n",
              "      <th></th>\n",
              "      <th>activity</th>\n",
              "      <th>x-axis</th>\n",
              "      <th>y-axis</th>\n",
              "      <th>z-axis</th>\n",
              "    </tr>\n",
              "  </thead>\n",
              "  <tbody>\n",
              "    <tr>\n",
              "      <th>0</th>\n",
              "      <td>0.0</td>\n",
              "      <td>0.668528</td>\n",
              "      <td>0.725448</td>\n",
              "      <td>-0.163691</td>\n",
              "    </tr>\n",
              "    <tr>\n",
              "      <th>1</th>\n",
              "      <td>4.0</td>\n",
              "      <td>0.454967</td>\n",
              "      <td>0.875538</td>\n",
              "      <td>-0.162600</td>\n",
              "    </tr>\n",
              "    <tr>\n",
              "      <th>2</th>\n",
              "      <td>1.0</td>\n",
              "      <td>0.287281</td>\n",
              "      <td>0.887311</td>\n",
              "      <td>-0.360761</td>\n",
              "    </tr>\n",
              "    <tr>\n",
              "      <th>3</th>\n",
              "      <td>1.0</td>\n",
              "      <td>0.944283</td>\n",
              "      <td>0.292972</td>\n",
              "      <td>-0.149990</td>\n",
              "    </tr>\n",
              "    <tr>\n",
              "      <th>4</th>\n",
              "      <td>1.0</td>\n",
              "      <td>-0.124547</td>\n",
              "      <td>-0.706035</td>\n",
              "      <td>-0.697139</td>\n",
              "    </tr>\n",
              "    <tr>\n",
              "      <th>...</th>\n",
              "      <td>...</td>\n",
              "      <td>...</td>\n",
              "      <td>...</td>\n",
              "      <td>...</td>\n",
              "    </tr>\n",
              "    <tr>\n",
              "      <th>105</th>\n",
              "      <td>0.0</td>\n",
              "      <td>0.449064</td>\n",
              "      <td>0.893440</td>\n",
              "      <td>-0.010313</td>\n",
              "    </tr>\n",
              "    <tr>\n",
              "      <th>106</th>\n",
              "      <td>0.0</td>\n",
              "      <td>-0.157978</td>\n",
              "      <td>0.929553</td>\n",
              "      <td>0.333128</td>\n",
              "    </tr>\n",
              "    <tr>\n",
              "      <th>107</th>\n",
              "      <td>1.0</td>\n",
              "      <td>0.687072</td>\n",
              "      <td>0.721425</td>\n",
              "      <td>-0.086476</td>\n",
              "    </tr>\n",
              "    <tr>\n",
              "      <th>108</th>\n",
              "      <td>5.0</td>\n",
              "      <td>0.927688</td>\n",
              "      <td>0.373049</td>\n",
              "      <td>-0.015133</td>\n",
              "    </tr>\n",
              "    <tr>\n",
              "      <th>109</th>\n",
              "      <td>5.0</td>\n",
              "      <td>0.444785</td>\n",
              "      <td>0.834132</td>\n",
              "      <td>-0.326175</td>\n",
              "    </tr>\n",
              "  </tbody>\n",
              "</table>\n",
              "<p>110 rows × 4 columns</p>\n",
              "</div>"
            ],
            "text/plain": [
              "     activity    x-axis    y-axis    z-axis\n",
              "0         0.0  0.668528  0.725448 -0.163691\n",
              "1         4.0  0.454967  0.875538 -0.162600\n",
              "2         1.0  0.287281  0.887311 -0.360761\n",
              "3         1.0  0.944283  0.292972 -0.149990\n",
              "4         1.0 -0.124547 -0.706035 -0.697139\n",
              "..        ...       ...       ...       ...\n",
              "105       0.0  0.449064  0.893440 -0.010313\n",
              "106       0.0 -0.157978  0.929553  0.333128\n",
              "107       1.0  0.687072  0.721425 -0.086476\n",
              "108       5.0  0.927688  0.373049 -0.015133\n",
              "109       5.0  0.444785  0.834132 -0.326175\n",
              "\n",
              "[110 rows x 4 columns]"
            ]
          },
          "metadata": {
            "tags": []
          },
          "execution_count": 25
        }
      ]
    },
    {
      "cell_type": "code",
      "metadata": {
        "colab": {
          "base_uri": "https://localhost:8080/"
        },
        "id": "QvnlMwQb_9Uk",
        "outputId": "79f13991-40ed-4348-9372-942daf2d4dbb"
      },
      "source": [
        "df.dtypes"
      ],
      "execution_count": null,
      "outputs": [
        {
          "output_type": "execute_result",
          "data": {
            "text/plain": [
              "activity    float64\n",
              "x-axis      float64\n",
              "y-axis      float64\n",
              "z-axis      float64\n",
              "dtype: object"
            ]
          },
          "metadata": {
            "tags": []
          },
          "execution_count": 26
        }
      ]
    },
    {
      "cell_type": "code",
      "metadata": {
        "id": "4bYXNA898hnW"
      },
      "source": [
        "dataset = tf.data.Dataset.from_tensor_slices(df)"
      ],
      "execution_count": null,
      "outputs": []
    },
    {
      "cell_type": "code",
      "metadata": {
        "id": "cxp-s3kxNTQB"
      },
      "source": [
        "window_size = 20"
      ],
      "execution_count": null,
      "outputs": []
    },
    {
      "cell_type": "code",
      "metadata": {
        "id": "w02HgtsrMlgy"
      },
      "source": [
        "def enc(y):\n",
        "  return y+1"
      ],
      "execution_count": null,
      "outputs": []
    },
    {
      "cell_type": "code",
      "metadata": {
        "colab": {
          "base_uri": "https://localhost:8080/",
          "height": 413
        },
        "id": "MfP2-cX-_ShS",
        "outputId": "b87c3db0-b50d-46ef-e63f-9c7b39726de3"
      },
      "source": [
        "# dataset = dataset.batch(20, drop_remainder=True)\n",
        "dataset = tf.data.Dataset.from_tensor_slices(df)\n",
        "dataset = dataset.window(20,shift=10, drop_remainder=True)\n",
        "dataset = dataset.flat_map(lambda window : window.batch(20))\n",
        "dataset = dataset.map(lambda window: (window[:,1:],window[:,0]))\n",
        "dataset = dataset.map(lambda: enc(x))"
      ],
      "execution_count": 65,
      "outputs": [
        {
          "output_type": "error",
          "ename": "TypeError",
          "evalue": "ignored",
          "traceback": [
            "\u001b[0;31m---------------------------------------------------------------------------\u001b[0m",
            "\u001b[0;31mTypeError\u001b[0m                                 Traceback (most recent call last)",
            "\u001b[0;32m<ipython-input-65-c7413e997bab>\u001b[0m in \u001b[0;36m<module>\u001b[0;34m()\u001b[0m\n\u001b[1;32m      4\u001b[0m \u001b[0mdataset\u001b[0m \u001b[0;34m=\u001b[0m \u001b[0mdataset\u001b[0m\u001b[0;34m.\u001b[0m\u001b[0mflat_map\u001b[0m\u001b[0;34m(\u001b[0m\u001b[0;32mlambda\u001b[0m \u001b[0mwindow\u001b[0m \u001b[0;34m:\u001b[0m \u001b[0mwindow\u001b[0m\u001b[0;34m.\u001b[0m\u001b[0mbatch\u001b[0m\u001b[0;34m(\u001b[0m\u001b[0;36m20\u001b[0m\u001b[0;34m)\u001b[0m\u001b[0;34m)\u001b[0m\u001b[0;34m\u001b[0m\u001b[0;34m\u001b[0m\u001b[0m\n\u001b[1;32m      5\u001b[0m \u001b[0mdataset\u001b[0m \u001b[0;34m=\u001b[0m \u001b[0mdataset\u001b[0m\u001b[0;34m.\u001b[0m\u001b[0mmap\u001b[0m\u001b[0;34m(\u001b[0m\u001b[0;32mlambda\u001b[0m \u001b[0mwindow\u001b[0m\u001b[0;34m:\u001b[0m \u001b[0;34m(\u001b[0m\u001b[0mwindow\u001b[0m\u001b[0;34m[\u001b[0m\u001b[0;34m:\u001b[0m\u001b[0;34m,\u001b[0m\u001b[0;36m1\u001b[0m\u001b[0;34m:\u001b[0m\u001b[0;34m]\u001b[0m\u001b[0;34m,\u001b[0m\u001b[0mwindow\u001b[0m\u001b[0;34m[\u001b[0m\u001b[0;34m:\u001b[0m\u001b[0;34m,\u001b[0m\u001b[0;36m0\u001b[0m\u001b[0;34m]\u001b[0m\u001b[0;34m)\u001b[0m\u001b[0;34m)\u001b[0m\u001b[0;34m\u001b[0m\u001b[0;34m\u001b[0m\u001b[0m\n\u001b[0;32m----> 6\u001b[0;31m \u001b[0mdataset\u001b[0m \u001b[0;34m=\u001b[0m \u001b[0mdataset\u001b[0m\u001b[0;34m.\u001b[0m\u001b[0mmap\u001b[0m\u001b[0;34m(\u001b[0m\u001b[0;32mlambda\u001b[0m \u001b[0mx\u001b[0m \u001b[0;34m:\u001b[0m \u001b[0menc\u001b[0m\u001b[0;34m(\u001b[0m\u001b[0mx\u001b[0m\u001b[0;34m)\u001b[0m\u001b[0;34m)\u001b[0m\u001b[0;34m\u001b[0m\u001b[0;34m\u001b[0m\u001b[0m\n\u001b[0m",
            "\u001b[0;32m/usr/local/lib/python3.7/dist-packages/tensorflow/python/data/ops/dataset_ops.py\u001b[0m in \u001b[0;36mmap\u001b[0;34m(self, map_func, num_parallel_calls, deterministic)\u001b[0m\n\u001b[1;32m   1803\u001b[0m     \"\"\"\n\u001b[1;32m   1804\u001b[0m     \u001b[0;32mif\u001b[0m \u001b[0mnum_parallel_calls\u001b[0m \u001b[0;32mis\u001b[0m \u001b[0;32mNone\u001b[0m\u001b[0;34m:\u001b[0m\u001b[0;34m\u001b[0m\u001b[0;34m\u001b[0m\u001b[0m\n\u001b[0;32m-> 1805\u001b[0;31m       \u001b[0;32mreturn\u001b[0m \u001b[0mMapDataset\u001b[0m\u001b[0;34m(\u001b[0m\u001b[0mself\u001b[0m\u001b[0;34m,\u001b[0m \u001b[0mmap_func\u001b[0m\u001b[0;34m,\u001b[0m \u001b[0mpreserve_cardinality\u001b[0m\u001b[0;34m=\u001b[0m\u001b[0;32mTrue\u001b[0m\u001b[0;34m)\u001b[0m\u001b[0;34m\u001b[0m\u001b[0;34m\u001b[0m\u001b[0m\n\u001b[0m\u001b[1;32m   1806\u001b[0m     \u001b[0;32melse\u001b[0m\u001b[0;34m:\u001b[0m\u001b[0;34m\u001b[0m\u001b[0;34m\u001b[0m\u001b[0m\n\u001b[1;32m   1807\u001b[0m       return ParallelMapDataset(\n",
            "\u001b[0;32m/usr/local/lib/python3.7/dist-packages/tensorflow/python/data/ops/dataset_ops.py\u001b[0m in \u001b[0;36m__init__\u001b[0;34m(self, input_dataset, map_func, use_inter_op_parallelism, preserve_cardinality, use_legacy_function)\u001b[0m\n\u001b[1;32m   4205\u001b[0m         \u001b[0mself\u001b[0m\u001b[0;34m.\u001b[0m\u001b[0m_transformation_name\u001b[0m\u001b[0;34m(\u001b[0m\u001b[0;34m)\u001b[0m\u001b[0;34m,\u001b[0m\u001b[0;34m\u001b[0m\u001b[0;34m\u001b[0m\u001b[0m\n\u001b[1;32m   4206\u001b[0m         \u001b[0mdataset\u001b[0m\u001b[0;34m=\u001b[0m\u001b[0minput_dataset\u001b[0m\u001b[0;34m,\u001b[0m\u001b[0;34m\u001b[0m\u001b[0;34m\u001b[0m\u001b[0m\n\u001b[0;32m-> 4207\u001b[0;31m         use_legacy_function=use_legacy_function)\n\u001b[0m\u001b[1;32m   4208\u001b[0m     variant_tensor = gen_dataset_ops.map_dataset(\n\u001b[1;32m   4209\u001b[0m         \u001b[0minput_dataset\u001b[0m\u001b[0;34m.\u001b[0m\u001b[0m_variant_tensor\u001b[0m\u001b[0;34m,\u001b[0m  \u001b[0;31m# pylint: disable=protected-access\u001b[0m\u001b[0;34m\u001b[0m\u001b[0;34m\u001b[0m\u001b[0m\n",
            "\u001b[0;32m/usr/local/lib/python3.7/dist-packages/tensorflow/python/data/ops/dataset_ops.py\u001b[0m in \u001b[0;36m__init__\u001b[0;34m(self, func, transformation_name, dataset, input_classes, input_shapes, input_types, input_structure, add_to_graph, use_legacy_function, defun_kwargs)\u001b[0m\n\u001b[1;32m   3523\u001b[0m       \u001b[0;32mwith\u001b[0m \u001b[0mtracking\u001b[0m\u001b[0;34m.\u001b[0m\u001b[0mresource_tracker_scope\u001b[0m\u001b[0;34m(\u001b[0m\u001b[0mresource_tracker\u001b[0m\u001b[0;34m)\u001b[0m\u001b[0;34m:\u001b[0m\u001b[0;34m\u001b[0m\u001b[0;34m\u001b[0m\u001b[0m\n\u001b[1;32m   3524\u001b[0m         \u001b[0;31m# TODO(b/141462134): Switch to using garbage collection.\u001b[0m\u001b[0;34m\u001b[0m\u001b[0;34m\u001b[0m\u001b[0;34m\u001b[0m\u001b[0m\n\u001b[0;32m-> 3525\u001b[0;31m         \u001b[0mself\u001b[0m\u001b[0;34m.\u001b[0m\u001b[0m_function\u001b[0m \u001b[0;34m=\u001b[0m \u001b[0mwrapper_fn\u001b[0m\u001b[0;34m.\u001b[0m\u001b[0mget_concrete_function\u001b[0m\u001b[0;34m(\u001b[0m\u001b[0;34m)\u001b[0m\u001b[0;34m\u001b[0m\u001b[0;34m\u001b[0m\u001b[0m\n\u001b[0m\u001b[1;32m   3526\u001b[0m         \u001b[0;32mif\u001b[0m \u001b[0madd_to_graph\u001b[0m\u001b[0;34m:\u001b[0m\u001b[0;34m\u001b[0m\u001b[0;34m\u001b[0m\u001b[0m\n\u001b[1;32m   3527\u001b[0m           \u001b[0mself\u001b[0m\u001b[0;34m.\u001b[0m\u001b[0m_function\u001b[0m\u001b[0;34m.\u001b[0m\u001b[0madd_to_graph\u001b[0m\u001b[0;34m(\u001b[0m\u001b[0mops\u001b[0m\u001b[0;34m.\u001b[0m\u001b[0mget_default_graph\u001b[0m\u001b[0;34m(\u001b[0m\u001b[0;34m)\u001b[0m\u001b[0;34m)\u001b[0m\u001b[0;34m\u001b[0m\u001b[0;34m\u001b[0m\u001b[0m\n",
            "\u001b[0;32m/usr/local/lib/python3.7/dist-packages/tensorflow/python/eager/function.py\u001b[0m in \u001b[0;36mget_concrete_function\u001b[0;34m(self, *args, **kwargs)\u001b[0m\n\u001b[1;32m   3050\u001b[0m     \"\"\"\n\u001b[1;32m   3051\u001b[0m     graph_function = self._get_concrete_function_garbage_collected(\n\u001b[0;32m-> 3052\u001b[0;31m         *args, **kwargs)\n\u001b[0m\u001b[1;32m   3053\u001b[0m     \u001b[0mgraph_function\u001b[0m\u001b[0;34m.\u001b[0m\u001b[0m_garbage_collector\u001b[0m\u001b[0;34m.\u001b[0m\u001b[0mrelease\u001b[0m\u001b[0;34m(\u001b[0m\u001b[0;34m)\u001b[0m  \u001b[0;31m# pylint: disable=protected-access\u001b[0m\u001b[0;34m\u001b[0m\u001b[0;34m\u001b[0m\u001b[0m\n\u001b[1;32m   3054\u001b[0m     \u001b[0;32mreturn\u001b[0m \u001b[0mgraph_function\u001b[0m\u001b[0;34m\u001b[0m\u001b[0;34m\u001b[0m\u001b[0m\n",
            "\u001b[0;32m/usr/local/lib/python3.7/dist-packages/tensorflow/python/eager/function.py\u001b[0m in \u001b[0;36m_get_concrete_function_garbage_collected\u001b[0;34m(self, *args, **kwargs)\u001b[0m\n\u001b[1;32m   3017\u001b[0m       \u001b[0margs\u001b[0m\u001b[0;34m,\u001b[0m \u001b[0mkwargs\u001b[0m \u001b[0;34m=\u001b[0m \u001b[0;32mNone\u001b[0m\u001b[0;34m,\u001b[0m \u001b[0;32mNone\u001b[0m\u001b[0;34m\u001b[0m\u001b[0;34m\u001b[0m\u001b[0m\n\u001b[1;32m   3018\u001b[0m     \u001b[0;32mwith\u001b[0m \u001b[0mself\u001b[0m\u001b[0;34m.\u001b[0m\u001b[0m_lock\u001b[0m\u001b[0;34m:\u001b[0m\u001b[0;34m\u001b[0m\u001b[0;34m\u001b[0m\u001b[0m\n\u001b[0;32m-> 3019\u001b[0;31m       \u001b[0mgraph_function\u001b[0m\u001b[0;34m,\u001b[0m \u001b[0m_\u001b[0m \u001b[0;34m=\u001b[0m \u001b[0mself\u001b[0m\u001b[0;34m.\u001b[0m\u001b[0m_maybe_define_function\u001b[0m\u001b[0;34m(\u001b[0m\u001b[0margs\u001b[0m\u001b[0;34m,\u001b[0m \u001b[0mkwargs\u001b[0m\u001b[0;34m)\u001b[0m\u001b[0;34m\u001b[0m\u001b[0;34m\u001b[0m\u001b[0m\n\u001b[0m\u001b[1;32m   3020\u001b[0m       \u001b[0mseen_names\u001b[0m \u001b[0;34m=\u001b[0m \u001b[0mset\u001b[0m\u001b[0;34m(\u001b[0m\u001b[0;34m)\u001b[0m\u001b[0;34m\u001b[0m\u001b[0;34m\u001b[0m\u001b[0m\n\u001b[1;32m   3021\u001b[0m       captured = object_identity.ObjectIdentitySet(\n",
            "\u001b[0;32m/usr/local/lib/python3.7/dist-packages/tensorflow/python/eager/function.py\u001b[0m in \u001b[0;36m_maybe_define_function\u001b[0;34m(self, args, kwargs)\u001b[0m\n\u001b[1;32m   3359\u001b[0m \u001b[0;34m\u001b[0m\u001b[0m\n\u001b[1;32m   3360\u001b[0m           \u001b[0mself\u001b[0m\u001b[0;34m.\u001b[0m\u001b[0m_function_cache\u001b[0m\u001b[0;34m.\u001b[0m\u001b[0mmissed\u001b[0m\u001b[0;34m.\u001b[0m\u001b[0madd\u001b[0m\u001b[0;34m(\u001b[0m\u001b[0mcall_context_key\u001b[0m\u001b[0;34m)\u001b[0m\u001b[0;34m\u001b[0m\u001b[0;34m\u001b[0m\u001b[0m\n\u001b[0;32m-> 3361\u001b[0;31m           \u001b[0mgraph_function\u001b[0m \u001b[0;34m=\u001b[0m \u001b[0mself\u001b[0m\u001b[0;34m.\u001b[0m\u001b[0m_create_graph_function\u001b[0m\u001b[0;34m(\u001b[0m\u001b[0margs\u001b[0m\u001b[0;34m,\u001b[0m \u001b[0mkwargs\u001b[0m\u001b[0;34m)\u001b[0m\u001b[0;34m\u001b[0m\u001b[0;34m\u001b[0m\u001b[0m\n\u001b[0m\u001b[1;32m   3362\u001b[0m           \u001b[0mself\u001b[0m\u001b[0;34m.\u001b[0m\u001b[0m_function_cache\u001b[0m\u001b[0;34m.\u001b[0m\u001b[0mprimary\u001b[0m\u001b[0;34m[\u001b[0m\u001b[0mcache_key\u001b[0m\u001b[0;34m]\u001b[0m \u001b[0;34m=\u001b[0m \u001b[0mgraph_function\u001b[0m\u001b[0;34m\u001b[0m\u001b[0;34m\u001b[0m\u001b[0m\n\u001b[1;32m   3363\u001b[0m \u001b[0;34m\u001b[0m\u001b[0m\n",
            "\u001b[0;32m/usr/local/lib/python3.7/dist-packages/tensorflow/python/eager/function.py\u001b[0m in \u001b[0;36m_create_graph_function\u001b[0;34m(self, args, kwargs, override_flat_arg_shapes)\u001b[0m\n\u001b[1;32m   3204\u001b[0m             \u001b[0marg_names\u001b[0m\u001b[0;34m=\u001b[0m\u001b[0marg_names\u001b[0m\u001b[0;34m,\u001b[0m\u001b[0;34m\u001b[0m\u001b[0;34m\u001b[0m\u001b[0m\n\u001b[1;32m   3205\u001b[0m             \u001b[0moverride_flat_arg_shapes\u001b[0m\u001b[0;34m=\u001b[0m\u001b[0moverride_flat_arg_shapes\u001b[0m\u001b[0;34m,\u001b[0m\u001b[0;34m\u001b[0m\u001b[0;34m\u001b[0m\u001b[0m\n\u001b[0;32m-> 3206\u001b[0;31m             capture_by_value=self._capture_by_value),\n\u001b[0m\u001b[1;32m   3207\u001b[0m         \u001b[0mself\u001b[0m\u001b[0;34m.\u001b[0m\u001b[0m_function_attributes\u001b[0m\u001b[0;34m,\u001b[0m\u001b[0;34m\u001b[0m\u001b[0;34m\u001b[0m\u001b[0m\n\u001b[1;32m   3208\u001b[0m         \u001b[0mfunction_spec\u001b[0m\u001b[0;34m=\u001b[0m\u001b[0mself\u001b[0m\u001b[0;34m.\u001b[0m\u001b[0mfunction_spec\u001b[0m\u001b[0;34m,\u001b[0m\u001b[0;34m\u001b[0m\u001b[0;34m\u001b[0m\u001b[0m\n",
            "\u001b[0;32m/usr/local/lib/python3.7/dist-packages/tensorflow/python/framework/func_graph.py\u001b[0m in \u001b[0;36mfunc_graph_from_py_func\u001b[0;34m(name, python_func, args, kwargs, signature, func_graph, autograph, autograph_options, add_control_dependencies, arg_names, op_return_value, collections, capture_by_value, override_flat_arg_shapes)\u001b[0m\n\u001b[1;32m    988\u001b[0m         \u001b[0m_\u001b[0m\u001b[0;34m,\u001b[0m \u001b[0moriginal_func\u001b[0m \u001b[0;34m=\u001b[0m \u001b[0mtf_decorator\u001b[0m\u001b[0;34m.\u001b[0m\u001b[0munwrap\u001b[0m\u001b[0;34m(\u001b[0m\u001b[0mpython_func\u001b[0m\u001b[0;34m)\u001b[0m\u001b[0;34m\u001b[0m\u001b[0;34m\u001b[0m\u001b[0m\n\u001b[1;32m    989\u001b[0m \u001b[0;34m\u001b[0m\u001b[0m\n\u001b[0;32m--> 990\u001b[0;31m       \u001b[0mfunc_outputs\u001b[0m \u001b[0;34m=\u001b[0m \u001b[0mpython_func\u001b[0m\u001b[0;34m(\u001b[0m\u001b[0;34m*\u001b[0m\u001b[0mfunc_args\u001b[0m\u001b[0;34m,\u001b[0m \u001b[0;34m**\u001b[0m\u001b[0mfunc_kwargs\u001b[0m\u001b[0;34m)\u001b[0m\u001b[0;34m\u001b[0m\u001b[0;34m\u001b[0m\u001b[0m\n\u001b[0m\u001b[1;32m    991\u001b[0m \u001b[0;34m\u001b[0m\u001b[0m\n\u001b[1;32m    992\u001b[0m       \u001b[0;31m# invariant: `func_outputs` contains only Tensors, CompositeTensors,\u001b[0m\u001b[0;34m\u001b[0m\u001b[0;34m\u001b[0m\u001b[0;34m\u001b[0m\u001b[0m\n",
            "\u001b[0;32m/usr/local/lib/python3.7/dist-packages/tensorflow/python/data/ops/dataset_ops.py\u001b[0m in \u001b[0;36mwrapper_fn\u001b[0;34m(*args)\u001b[0m\n\u001b[1;32m   3516\u001b[0m           attributes=defun_kwargs)\n\u001b[1;32m   3517\u001b[0m       \u001b[0;32mdef\u001b[0m \u001b[0mwrapper_fn\u001b[0m\u001b[0;34m(\u001b[0m\u001b[0;34m*\u001b[0m\u001b[0margs\u001b[0m\u001b[0;34m)\u001b[0m\u001b[0;34m:\u001b[0m  \u001b[0;31m# pylint: disable=missing-docstring\u001b[0m\u001b[0;34m\u001b[0m\u001b[0;34m\u001b[0m\u001b[0m\n\u001b[0;32m-> 3518\u001b[0;31m         \u001b[0mret\u001b[0m \u001b[0;34m=\u001b[0m \u001b[0m_wrapper_helper\u001b[0m\u001b[0;34m(\u001b[0m\u001b[0;34m*\u001b[0m\u001b[0margs\u001b[0m\u001b[0;34m)\u001b[0m\u001b[0;34m\u001b[0m\u001b[0;34m\u001b[0m\u001b[0m\n\u001b[0m\u001b[1;32m   3519\u001b[0m         \u001b[0mret\u001b[0m \u001b[0;34m=\u001b[0m \u001b[0mstructure\u001b[0m\u001b[0;34m.\u001b[0m\u001b[0mto_tensor_list\u001b[0m\u001b[0;34m(\u001b[0m\u001b[0mself\u001b[0m\u001b[0;34m.\u001b[0m\u001b[0m_output_structure\u001b[0m\u001b[0;34m,\u001b[0m \u001b[0mret\u001b[0m\u001b[0;34m)\u001b[0m\u001b[0;34m\u001b[0m\u001b[0;34m\u001b[0m\u001b[0m\n\u001b[1;32m   3520\u001b[0m         \u001b[0;32mreturn\u001b[0m \u001b[0;34m[\u001b[0m\u001b[0mops\u001b[0m\u001b[0;34m.\u001b[0m\u001b[0mconvert_to_tensor\u001b[0m\u001b[0;34m(\u001b[0m\u001b[0mt\u001b[0m\u001b[0;34m)\u001b[0m \u001b[0;32mfor\u001b[0m \u001b[0mt\u001b[0m \u001b[0;32min\u001b[0m \u001b[0mret\u001b[0m\u001b[0;34m]\u001b[0m\u001b[0;34m\u001b[0m\u001b[0;34m\u001b[0m\u001b[0m\n",
            "\u001b[0;32m/usr/local/lib/python3.7/dist-packages/tensorflow/python/data/ops/dataset_ops.py\u001b[0m in \u001b[0;36m_wrapper_helper\u001b[0;34m(*args)\u001b[0m\n\u001b[1;32m   3451\u001b[0m         \u001b[0mnested_args\u001b[0m \u001b[0;34m=\u001b[0m \u001b[0;34m(\u001b[0m\u001b[0mnested_args\u001b[0m\u001b[0;34m,\u001b[0m\u001b[0;34m)\u001b[0m\u001b[0;34m\u001b[0m\u001b[0;34m\u001b[0m\u001b[0m\n\u001b[1;32m   3452\u001b[0m \u001b[0;34m\u001b[0m\u001b[0m\n\u001b[0;32m-> 3453\u001b[0;31m       \u001b[0mret\u001b[0m \u001b[0;34m=\u001b[0m \u001b[0mautograph\u001b[0m\u001b[0;34m.\u001b[0m\u001b[0mtf_convert\u001b[0m\u001b[0;34m(\u001b[0m\u001b[0mfunc\u001b[0m\u001b[0;34m,\u001b[0m \u001b[0mag_ctx\u001b[0m\u001b[0;34m)\u001b[0m\u001b[0;34m(\u001b[0m\u001b[0;34m*\u001b[0m\u001b[0mnested_args\u001b[0m\u001b[0;34m)\u001b[0m\u001b[0;34m\u001b[0m\u001b[0;34m\u001b[0m\u001b[0m\n\u001b[0m\u001b[1;32m   3454\u001b[0m       \u001b[0;31m# If `func` returns a list of tensors, `nest.flatten()` and\u001b[0m\u001b[0;34m\u001b[0m\u001b[0;34m\u001b[0m\u001b[0;34m\u001b[0m\u001b[0m\n\u001b[1;32m   3455\u001b[0m       \u001b[0;31m# `ops.convert_to_tensor()` would conspire to attempt to stack\u001b[0m\u001b[0;34m\u001b[0m\u001b[0;34m\u001b[0m\u001b[0;34m\u001b[0m\u001b[0m\n",
            "\u001b[0;32m/usr/local/lib/python3.7/dist-packages/tensorflow/python/autograph/impl/api.py\u001b[0m in \u001b[0;36mwrapper\u001b[0;34m(*args, **kwargs)\u001b[0m\n\u001b[1;32m    668\u001b[0m       \u001b[0;32mexcept\u001b[0m \u001b[0mException\u001b[0m \u001b[0;32mas\u001b[0m \u001b[0me\u001b[0m\u001b[0;34m:\u001b[0m  \u001b[0;31m# pylint:disable=broad-except\u001b[0m\u001b[0;34m\u001b[0m\u001b[0;34m\u001b[0m\u001b[0m\n\u001b[1;32m    669\u001b[0m         \u001b[0;32mif\u001b[0m \u001b[0mhasattr\u001b[0m\u001b[0;34m(\u001b[0m\u001b[0me\u001b[0m\u001b[0;34m,\u001b[0m \u001b[0;34m'ag_error_metadata'\u001b[0m\u001b[0;34m)\u001b[0m\u001b[0;34m:\u001b[0m\u001b[0;34m\u001b[0m\u001b[0;34m\u001b[0m\u001b[0m\n\u001b[0;32m--> 670\u001b[0;31m           \u001b[0;32mraise\u001b[0m \u001b[0me\u001b[0m\u001b[0;34m.\u001b[0m\u001b[0mag_error_metadata\u001b[0m\u001b[0;34m.\u001b[0m\u001b[0mto_exception\u001b[0m\u001b[0;34m(\u001b[0m\u001b[0me\u001b[0m\u001b[0;34m)\u001b[0m\u001b[0;34m\u001b[0m\u001b[0;34m\u001b[0m\u001b[0m\n\u001b[0m\u001b[1;32m    671\u001b[0m         \u001b[0;32melse\u001b[0m\u001b[0;34m:\u001b[0m\u001b[0;34m\u001b[0m\u001b[0;34m\u001b[0m\u001b[0m\n\u001b[1;32m    672\u001b[0m           \u001b[0;32mraise\u001b[0m\u001b[0;34m\u001b[0m\u001b[0;34m\u001b[0m\u001b[0m\n",
            "\u001b[0;31mTypeError\u001b[0m: in user code:\n\n\n    TypeError: <lambda>() takes 1 positional argument but 2 were given\n"
          ]
        }
      ]
    },
    {
      "cell_type": "code",
      "metadata": {
        "colab": {
          "base_uri": "https://localhost:8080/"
        },
        "id": "RN-IWYcNNgAZ",
        "outputId": "32fff075-ea9d-4fb2-c9b8-285c1868c4bb"
      },
      "source": [
        "type(dataset)"
      ],
      "execution_count": null,
      "outputs": [
        {
          "output_type": "execute_result",
          "data": {
            "text/plain": [
              "tensorflow.python.data.ops.dataset_ops.MapDataset"
            ]
          },
          "metadata": {
            "tags": []
          },
          "execution_count": 53
        }
      ]
    },
    {
      "cell_type": "code",
      "metadata": {
        "colab": {
          "base_uri": "https://localhost:8080/",
          "height": 189
        },
        "id": "YGJOSOFJ_xAd",
        "outputId": "14255b22-5458-4065-8ecb-a60ecc4ab365"
      },
      "source": [
        "for window in dataset:\n",
        "  print(window.numpy())"
      ],
      "execution_count": null,
      "outputs": [
        {
          "output_type": "error",
          "ename": "AttributeError",
          "evalue": "ignored",
          "traceback": [
            "\u001b[0;31m---------------------------------------------------------------------------\u001b[0m",
            "\u001b[0;31mAttributeError\u001b[0m                            Traceback (most recent call last)",
            "\u001b[0;32m<ipython-input-52-67d6aa038407>\u001b[0m in \u001b[0;36m<module>\u001b[0;34m()\u001b[0m\n\u001b[1;32m      1\u001b[0m \u001b[0;32mfor\u001b[0m \u001b[0mwindow\u001b[0m \u001b[0;32min\u001b[0m \u001b[0mdataset\u001b[0m\u001b[0;34m:\u001b[0m\u001b[0;34m\u001b[0m\u001b[0;34m\u001b[0m\u001b[0m\n\u001b[0;32m----> 2\u001b[0;31m   \u001b[0mprint\u001b[0m\u001b[0;34m(\u001b[0m\u001b[0mwindow\u001b[0m\u001b[0;34m.\u001b[0m\u001b[0mnumpy\u001b[0m\u001b[0;34m(\u001b[0m\u001b[0;34m)\u001b[0m\u001b[0;34m)\u001b[0m\u001b[0;34m\u001b[0m\u001b[0;34m\u001b[0m\u001b[0m\n\u001b[0m",
            "\u001b[0;31mAttributeError\u001b[0m: 'tuple' object has no attribute 'numpy'"
          ]
        }
      ]
    },
    {
      "cell_type": "code",
      "metadata": {
        "id": "6QKF3aWM92m-"
      },
      "source": [
        "def encod(window):\n",
        "  (x, y) = window\n",
        "  y = y + 1\n",
        "  print(y)\n",
        "  return (x, y) \n",
        "\n"
      ],
      "execution_count": 82,
      "outputs": []
    },
    {
      "cell_type": "code",
      "metadata": {
        "id": "ptib0wGlittV"
      },
      "source": [
        "@tf.function\n",
        "def enc(window):\n",
        "  r = window.numpy()\n",
        "  return mode(r)\n"
      ],
      "execution_count": 101,
      "outputs": []
    },
    {
      "cell_type": "code",
      "metadata": {
        "id": "6aZ0COFc-NMl"
      },
      "source": [
        "# test datset\n",
        "sr = np.arange(0,50)\n",
        "sr = sr.reshape(10,5)"
      ],
      "execution_count": 84,
      "outputs": []
    },
    {
      "cell_type": "code",
      "metadata": {
        "id": "tWmqP6tvJJwV"
      },
      "source": [
        "sr_set = tf.data.Dataset.from_tensor_slices(sr)\n",
        "sr_set = sr_set.window(4,shift=2, drop_remainder=True)\n",
        "sr_set = sr_set.flat_map(lambda window : window.batch(4))\n",
        "sr_set = sr_set.map(lambda window: (window[:,1:],window[3,0]))\n",
        "# sr_set = sr_set.map(lambda x: encod(x))"
      ],
      "execution_count": 109,
      "outputs": []
    },
    {
      "cell_type": "code",
      "metadata": {
        "colab": {
          "base_uri": "https://localhost:8080/"
        },
        "id": "YgGb3vG1JP7S",
        "outputId": "6b04e862-f992-4932-91b3-ef21e1ce8d84"
      },
      "source": [
        "for x, y in sr_set:\n",
        "  print('x=', x)\n",
        "  print('y =', y)"
      ],
      "execution_count": 110,
      "outputs": [
        {
          "output_type": "stream",
          "text": [
            "x= tf.Tensor(\n",
            "[[ 1  2  3  4]\n",
            " [ 6  7  8  9]\n",
            " [11 12 13 14]\n",
            " [16 17 18 19]], shape=(4, 4), dtype=int64)\n",
            "y = tf.Tensor(15, shape=(), dtype=int64)\n",
            "x= tf.Tensor(\n",
            "[[11 12 13 14]\n",
            " [16 17 18 19]\n",
            " [21 22 23 24]\n",
            " [26 27 28 29]], shape=(4, 4), dtype=int64)\n",
            "y = tf.Tensor(25, shape=(), dtype=int64)\n",
            "x= tf.Tensor(\n",
            "[[21 22 23 24]\n",
            " [26 27 28 29]\n",
            " [31 32 33 34]\n",
            " [36 37 38 39]], shape=(4, 4), dtype=int64)\n",
            "y = tf.Tensor(35, shape=(), dtype=int64)\n",
            "x= tf.Tensor(\n",
            "[[31 32 33 34]\n",
            " [36 37 38 39]\n",
            " [41 42 43 44]\n",
            " [46 47 48 49]], shape=(4, 4), dtype=int64)\n",
            "y = tf.Tensor(45, shape=(), dtype=int64)\n"
          ],
          "name": "stdout"
        }
      ]
    },
    {
      "cell_type": "code",
      "metadata": {
        "id": "euUJmgmuJXAZ",
        "colab": {
          "base_uri": "https://localhost:8080/",
          "height": 171
        },
        "outputId": "2568ef3a-e81b-4ece-ebc1-0bf8ab006bf7"
      },
      "source": [
        "t = sr_set.as_numpy_iterator()"
      ],
      "execution_count": 113,
      "outputs": [
        {
          "output_type": "error",
          "ename": "TypeError",
          "evalue": "ignored",
          "traceback": [
            "\u001b[0;31m---------------------------------------------------------------------------\u001b[0m",
            "\u001b[0;31mTypeError\u001b[0m                                 Traceback (most recent call last)",
            "\u001b[0;32m<ipython-input-113-5209bc2b8999>\u001b[0m in \u001b[0;36m<module>\u001b[0;34m()\u001b[0m\n\u001b[0;32m----> 1\u001b[0;31m \u001b[0mt\u001b[0m \u001b[0;34m=\u001b[0m \u001b[0msr_set\u001b[0m\u001b[0;34m.\u001b[0m\u001b[0mas_numpy_iterator\u001b[0m\u001b[0;34m(\u001b[0m\u001b[0;34m)\u001b[0m\u001b[0;34m[\u001b[0m\u001b[0;36m0\u001b[0m\u001b[0;34m]\u001b[0m\u001b[0;34m\u001b[0m\u001b[0;34m\u001b[0m\u001b[0m\n\u001b[0m",
            "\u001b[0;31mTypeError\u001b[0m: '_NumpyIterator' object is not subscriptable"
          ]
        }
      ]
    },
    {
      "cell_type": "code",
      "metadata": {
        "id": "mtv7ciP1pnbn"
      },
      "source": [
        "r = list(t)"
      ],
      "execution_count": 114,
      "outputs": []
    },
    {
      "cell_type": "code",
      "metadata": {
        "colab": {
          "base_uri": "https://localhost:8080/"
        },
        "id": "lwvnV8JqppC-",
        "outputId": "0df455f4-cda2-4f51-a7fe-8809d465b49c"
      },
      "source": [
        "r[1][0]"
      ],
      "execution_count": 126,
      "outputs": [
        {
          "output_type": "execute_result",
          "data": {
            "text/plain": [
              "array([[21, 22, 23, 24],\n",
              "       [26, 27, 28, 29],\n",
              "       [31, 32, 33, 34],\n",
              "       [36, 37, 38, 39]])"
            ]
          },
          "metadata": {
            "tags": []
          },
          "execution_count": 126
        }
      ]
    },
    {
      "cell_type": "code",
      "metadata": {
        "id": "0sMAU0vOp7Zm"
      },
      "source": [
        "def create_windowed_dataset(series, window_size,shift_size, batch_size,shuffle_buffer):\n",
        "  dataset = tf.data.Dataset.from_tensor_slices(series)\n",
        "  dataset = dataset.window(window_size , shift = shift_size, drop_remainder = True)\n",
        "  dataset = dataset.flat_map(lambda window: window.batch(window_size))\n",
        "  dataset = dataset.shuffle(shuffle_buffer).map(lambda window: (window[:,1:],window[window_size - 1,0]))\n",
        "  dataset = dataset.batch(batch_size).prefetch(1)\n",
        "  return dataset"
      ],
      "execution_count": 120,
      "outputs": []
    },
    {
      "cell_type": "code",
      "metadata": {
        "id": "ao2hA_LGqfcP"
      },
      "source": [
        "df_windowed = create_windowed_dataset(df, 20, 10, 1, 128)"
      ],
      "execution_count": 121,
      "outputs": []
    },
    {
      "cell_type": "code",
      "metadata": {
        "colab": {
          "base_uri": "https://localhost:8080/"
        },
        "id": "lg_VdvGKqlNO",
        "outputId": "c9c11f31-3a86-4a8d-935b-e84df9ffa667"
      },
      "source": [
        "df_windowed"
      ],
      "execution_count": 122,
      "outputs": [
        {
          "output_type": "execute_result",
          "data": {
            "text/plain": [
              "<PrefetchDataset shapes: ((None, None, 3), (None,)), types: (tf.float64, tf.float64)>"
            ]
          },
          "metadata": {
            "tags": []
          },
          "execution_count": 122
        }
      ]
    },
    {
      "cell_type": "code",
      "metadata": {
        "id": "sknhngE0qmct"
      },
      "source": [
        "l = list(df_windowed.as_numpy_iterator())"
      ],
      "execution_count": 123,
      "outputs": []
    },
    {
      "cell_type": "code",
      "metadata": {
        "colab": {
          "base_uri": "https://localhost:8080/"
        },
        "id": "0CjG7h0Fqsrm",
        "outputId": "bc6275a7-231e-47c9-b4d3-9e8472cba896"
      },
      "source": [
        "features = []\n",
        "target = []\n",
        "for i in l:\n",
        "  print(i)\n",
        "  print('*************************')\n",
        "  features.append(i[0])\n",
        "  target.append(i[1])"
      ],
      "execution_count": 128,
      "outputs": [
        {
          "output_type": "stream",
          "text": [
            "(array([[[-0.22053876,  0.26030804, -0.94000127],\n",
            "        [ 0.53488269,  0.84450583, -0.02665349],\n",
            "        [-0.43088559,  0.40075373,  0.80853822],\n",
            "        [-0.05337563,  0.94968346,  0.30862983],\n",
            "        [ 0.14023914,  0.9836492 ,  0.11299218],\n",
            "        [ 0.36444961,  0.65847418,  0.65847418],\n",
            "        [-0.58527729,  0.79734935,  0.14725662],\n",
            "        [-0.110272  ,  0.67286339,  0.73150185],\n",
            "        [ 0.65987666, -0.51961302, -0.54273851],\n",
            "        [ 0.83415229,  0.53690614, -0.12618141],\n",
            "        [ 0.33484121,  0.94151589, -0.03780465],\n",
            "        [ 0.21046914,  0.93462569, -0.28666629],\n",
            "        [ 0.08463995,  0.9202801 ,  0.38199557],\n",
            "        [-0.42632147,  0.72442595,  0.54171675],\n",
            "        [-0.03972223,  0.47761254,  0.87767215],\n",
            "        [-0.53768979,  0.84002714,  0.07241613],\n",
            "        [ 0.74317007,  0.55328778,  0.37625906],\n",
            "        [-0.58384127,  0.8035446 ,  0.11595454],\n",
            "        [ 0.44175539,  0.87418612, -0.20162043],\n",
            "        [ 0.53268716,  0.84538552, -0.03959428]]]), array([5.]))\n",
            "*************************\n",
            "(array([[[-0.3585072 ,  0.93065542, -0.07316473],\n",
            "        [ 0.83627903,  0.09824842,  0.53942992],\n",
            "        [ 0.93468117,  0.07189855,  0.34814036],\n",
            "        [-0.2625914 ,  0.91857256,  0.29541532],\n",
            "        [-0.54579279,  0.81868919, -0.17848877],\n",
            "        [ 0.44727076,  0.72234769,  0.5274113 ],\n",
            "        [ 0.95034663,  0.25454465, -0.17902041],\n",
            "        [ 0.83707636, -0.08834815, -0.53990533],\n",
            "        [-0.04333827,  0.99803643,  0.04522254],\n",
            "        [-0.20481394,  0.95766032, -0.20233134],\n",
            "        [-0.821949  ,  0.55701261,  0.11889828],\n",
            "        [ 0.59888847,  0.79982701, -0.04011673],\n",
            "        [-0.57586414, -0.55588147, -0.59948002],\n",
            "        [ 0.87026412, -0.48609347, -0.07970888],\n",
            "        [-0.56500272, -0.35058622,  0.74690108],\n",
            "        [ 0.51184852,  0.78734773, -0.34364901],\n",
            "        [-0.45783238,  0.83841063, -0.2957315 ],\n",
            "        [ 0.57465643,  0.78758176, -0.22245215],\n",
            "        [ 0.62939519,  0.75102315, -0.19956433],\n",
            "        [ 0.84602538,  0.52637097, -0.08470337]]]), array([4.]))\n",
            "*************************\n",
            "(array([[[ 0.6685284 ,  0.72544819, -0.16369087],\n",
            "        [ 0.45496694,  0.87553776, -0.16259987],\n",
            "        [ 0.28728102,  0.88731124, -0.36076083],\n",
            "        [ 0.94428294,  0.2929721 , -0.14999024],\n",
            "        [-0.12454685, -0.70603506, -0.69713885],\n",
            "        [-0.68807897, -0.47305429,  0.55024264],\n",
            "        [ 0.53509978,  0.17343934,  0.82679322],\n",
            "        [ 0.99259356,  0.11641529,  0.03472035],\n",
            "        [ 0.32051582,  0.86609973,  0.38358944],\n",
            "        [ 0.11197539,  0.95277305,  0.28228537],\n",
            "        [-0.3585072 ,  0.93065542, -0.07316473],\n",
            "        [ 0.83627903,  0.09824842,  0.53942992],\n",
            "        [ 0.93468117,  0.07189855,  0.34814036],\n",
            "        [-0.2625914 ,  0.91857256,  0.29541532],\n",
            "        [-0.54579279,  0.81868919, -0.17848877],\n",
            "        [ 0.44727076,  0.72234769,  0.5274113 ],\n",
            "        [ 0.95034663,  0.25454465, -0.17902041],\n",
            "        [ 0.83707636, -0.08834815, -0.53990533],\n",
            "        [-0.04333827,  0.99803643,  0.04522254],\n",
            "        [-0.20481394,  0.95766032, -0.20233134]]]), array([0.]))\n",
            "*************************\n",
            "(array([[[ 0.3072479 ,  0.93477431,  0.17831352],\n",
            "        [-0.5338924 ,  0.83278968, -0.1463566 ],\n",
            "        [ 0.10584969,  0.32377551,  0.94019427],\n",
            "        [-0.94705918,  0.25118954,  0.19995682],\n",
            "        [ 0.77224331,  0.48635907, -0.4087727 ],\n",
            "        [ 0.21565834,  0.76289136,  0.60949836],\n",
            "        [ 0.58551313,  0.24710639,  0.77208342],\n",
            "        [ 0.72968543,  0.59958648,  0.32871754],\n",
            "        [ 0.79448334,  0.59979374, -0.09509838],\n",
            "        [ 0.19566   ,  0.97904116,  0.0565294 ],\n",
            "        [-0.57814569,  0.60463142, -0.54787628],\n",
            "        [-0.57751818,  0.80646289, -0.12684774],\n",
            "        [-0.86867423,  0.2690975 ,  0.4159226 ],\n",
            "        [ 0.09191825,  0.98836833, -0.12115728],\n",
            "        [-0.24998585,  0.61445638, -0.74829836],\n",
            "        [ 0.44906384,  0.89344016, -0.01031253],\n",
            "        [-0.15797821,  0.92955293,  0.33312796],\n",
            "        [ 0.68707166,  0.72142525, -0.08647626],\n",
            "        [ 0.9276882 ,  0.37304908, -0.0151325 ],\n",
            "        [ 0.44478452,  0.83413212, -0.32617531]]]), array([5.]))\n",
            "*************************\n",
            "(array([[[-0.25652545,  0.95769501,  0.1304414 ],\n",
            "        [-0.46730622,  0.86974975,  0.15861987],\n",
            "        [ 0.97132205,  0.21035899,  0.11082672],\n",
            "        [ 0.1556745 ,  0.98573343,  0.06399268],\n",
            "        [ 0.14294859,  0.92861182,  0.34241173],\n",
            "        [ 0.62868875,  0.7360097 , -0.25107802],\n",
            "        [ 0.5054063 ,  0.86248684,  0.02609435],\n",
            "        [ 0.26849053,  0.94614347,  0.18090153],\n",
            "        [ 0.25636562,  0.81014063,  0.52720852],\n",
            "        [-0.69913657,  0.1141806 , -0.70581219],\n",
            "        [-0.36199418,  0.93084219, -0.04993023],\n",
            "        [-0.8014647 ,  0.36263294,  0.47555408],\n",
            "        [ 0.5747794 ,  0.77167352,  0.27230244],\n",
            "        [ 0.27677702,  0.8839008 ,  0.37697992],\n",
            "        [ 0.20184381,  0.97171428, -0.12259869],\n",
            "        [ 0.38267834,  0.89607353, -0.22496561],\n",
            "        [ 0.3212759 ,  0.94192252,  0.0977945 ],\n",
            "        [-0.63316247,  0.66550737,  0.39522808],\n",
            "        [-0.7936093 , -0.53262746, -0.29409567],\n",
            "        [-0.92401931, -0.36114342,  0.12555377]]]), array([1.]))\n",
            "*************************\n",
            "(array([[[ 0.33484121,  0.94151589, -0.03780465],\n",
            "        [ 0.21046914,  0.93462569, -0.28666629],\n",
            "        [ 0.08463995,  0.9202801 ,  0.38199557],\n",
            "        [-0.42632147,  0.72442595,  0.54171675],\n",
            "        [-0.03972223,  0.47761254,  0.87767215],\n",
            "        [-0.53768979,  0.84002714,  0.07241613],\n",
            "        [ 0.74317007,  0.55328778,  0.37625906],\n",
            "        [-0.58384127,  0.8035446 ,  0.11595454],\n",
            "        [ 0.44175539,  0.87418612, -0.20162043],\n",
            "        [ 0.53268716,  0.84538552, -0.03959428],\n",
            "        [-0.25652545,  0.95769501,  0.1304414 ],\n",
            "        [-0.46730622,  0.86974975,  0.15861987],\n",
            "        [ 0.97132205,  0.21035899,  0.11082672],\n",
            "        [ 0.1556745 ,  0.98573343,  0.06399268],\n",
            "        [ 0.14294859,  0.92861182,  0.34241173],\n",
            "        [ 0.62868875,  0.7360097 , -0.25107802],\n",
            "        [ 0.5054063 ,  0.86248684,  0.02609435],\n",
            "        [ 0.26849053,  0.94614347,  0.18090153],\n",
            "        [ 0.25636562,  0.81014063,  0.52720852],\n",
            "        [-0.69913657,  0.1141806 , -0.70581219]]]), array([5.]))\n",
            "*************************\n",
            "(array([[[-0.821949  ,  0.55701261,  0.11889828],\n",
            "        [ 0.59888847,  0.79982701, -0.04011673],\n",
            "        [-0.57586414, -0.55588147, -0.59948002],\n",
            "        [ 0.87026412, -0.48609347, -0.07970888],\n",
            "        [-0.56500272, -0.35058622,  0.74690108],\n",
            "        [ 0.51184852,  0.78734773, -0.34364901],\n",
            "        [-0.45783238,  0.83841063, -0.2957315 ],\n",
            "        [ 0.57465643,  0.78758176, -0.22245215],\n",
            "        [ 0.62939519,  0.75102315, -0.19956433],\n",
            "        [ 0.84602538,  0.52637097, -0.08470337],\n",
            "        [-0.14206307,  0.96914257,  0.20144669],\n",
            "        [ 0.20752775,  0.94924729,  0.23635105],\n",
            "        [-0.01245451,  0.98843556,  0.15112919],\n",
            "        [ 0.43921277,  0.83052786, -0.34251367],\n",
            "        [ 0.15551598,  0.96310772,  0.21963221],\n",
            "        [-0.69004053,  0.71318654,  0.12332485],\n",
            "        [-0.00425084,  0.99257183, -0.12158571],\n",
            "        [-0.32227625,  0.89992583,  0.29372013],\n",
            "        [ 0.97004226,  0.01956194, -0.24214736],\n",
            "        [ 0.85535017,  0.42415512,  0.29743658]]]), array([1.]))\n",
            "*************************\n",
            "(array([[[-0.14206307,  0.96914257,  0.20144669],\n",
            "        [ 0.20752775,  0.94924729,  0.23635105],\n",
            "        [-0.01245451,  0.98843556,  0.15112919],\n",
            "        [ 0.43921277,  0.83052786, -0.34251367],\n",
            "        [ 0.15551598,  0.96310772,  0.21963221],\n",
            "        [-0.69004053,  0.71318654,  0.12332485],\n",
            "        [-0.00425084,  0.99257183, -0.12158571],\n",
            "        [-0.32227625,  0.89992583,  0.29372013],\n",
            "        [ 0.97004226,  0.01956194, -0.24214736],\n",
            "        [ 0.85535017,  0.42415512,  0.29743658],\n",
            "        [ 0.70332015,  0.70332015, -0.10335153],\n",
            "        [-0.12008361,  0.76853509, -0.62843754],\n",
            "        [ 0.7489412 ,  0.63287364,  0.196362  ],\n",
            "        [-0.01835245,  0.86944746,  0.49368442],\n",
            "        [-0.55057487, -0.31957658, -0.77119266],\n",
            "        [-0.46357379,  0.85949856, -0.21531736],\n",
            "        [-0.51721011,  0.83156236, -0.20247899],\n",
            "        [-0.05831352,  0.95540461, -0.28948499],\n",
            "        [ 0.54151359,  0.24426972,  0.80442236],\n",
            "        [ 0.44132663, -0.65708631, -0.6111206 ]]]), array([1.]))\n",
            "*************************\n",
            "(array([[[ 0.70332015,  0.70332015, -0.10335153],\n",
            "        [-0.12008361,  0.76853509, -0.62843754],\n",
            "        [ 0.7489412 ,  0.63287364,  0.196362  ],\n",
            "        [-0.01835245,  0.86944746,  0.49368442],\n",
            "        [-0.55057487, -0.31957658, -0.77119266],\n",
            "        [-0.46357379,  0.85949856, -0.21531736],\n",
            "        [-0.51721011,  0.83156236, -0.20247899],\n",
            "        [-0.05831352,  0.95540461, -0.28948499],\n",
            "        [ 0.54151359,  0.24426972,  0.80442236],\n",
            "        [ 0.44132663, -0.65708631, -0.6111206 ],\n",
            "        [-0.22053876,  0.26030804, -0.94000127],\n",
            "        [ 0.53488269,  0.84450583, -0.02665349],\n",
            "        [-0.43088559,  0.40075373,  0.80853822],\n",
            "        [-0.05337563,  0.94968346,  0.30862983],\n",
            "        [ 0.14023914,  0.9836492 ,  0.11299218],\n",
            "        [ 0.36444961,  0.65847418,  0.65847418],\n",
            "        [-0.58527729,  0.79734935,  0.14725662],\n",
            "        [-0.110272  ,  0.67286339,  0.73150185],\n",
            "        [ 0.65987666, -0.51961302, -0.54273851],\n",
            "        [ 0.83415229,  0.53690614, -0.12618141]]]), array([1.]))\n",
            "*************************\n",
            "(array([[[-0.36199418,  0.93084219, -0.04993023],\n",
            "        [-0.8014647 ,  0.36263294,  0.47555408],\n",
            "        [ 0.5747794 ,  0.77167352,  0.27230244],\n",
            "        [ 0.27677702,  0.8839008 ,  0.37697992],\n",
            "        [ 0.20184381,  0.97171428, -0.12259869],\n",
            "        [ 0.38267834,  0.89607353, -0.22496561],\n",
            "        [ 0.3212759 ,  0.94192252,  0.0977945 ],\n",
            "        [-0.63316247,  0.66550737,  0.39522808],\n",
            "        [-0.7936093 , -0.53262746, -0.29409567],\n",
            "        [-0.92401931, -0.36114342,  0.12555377],\n",
            "        [ 0.3072479 ,  0.93477431,  0.17831352],\n",
            "        [-0.5338924 ,  0.83278968, -0.1463566 ],\n",
            "        [ 0.10584969,  0.32377551,  0.94019427],\n",
            "        [-0.94705918,  0.25118954,  0.19995682],\n",
            "        [ 0.77224331,  0.48635907, -0.4087727 ],\n",
            "        [ 0.21565834,  0.76289136,  0.60949836],\n",
            "        [ 0.58551313,  0.24710639,  0.77208342],\n",
            "        [ 0.72968543,  0.59958648,  0.32871754],\n",
            "        [ 0.79448334,  0.59979374, -0.09509838],\n",
            "        [ 0.19566   ,  0.97904116,  0.0565294 ]]]), array([4.]))\n",
            "*************************\n"
          ],
          "name": "stdout"
        }
      ]
    },
    {
      "cell_type": "code",
      "metadata": {
        "id": "cm3jzhBVqtVt"
      },
      "source": [
        "features = np.array(features)\n",
        "target = np.array(target)"
      ],
      "execution_count": 130,
      "outputs": []
    },
    {
      "cell_type": "code",
      "metadata": {
        "id": "wd-CTmoVrjDe"
      },
      "source": [
        "features =  features.reshape((10,20,3))"
      ],
      "execution_count": 137,
      "outputs": []
    },
    {
      "cell_type": "code",
      "metadata": {
        "colab": {
          "base_uri": "https://localhost:8080/"
        },
        "id": "QfGxj1BRrr9N",
        "outputId": "e267b47f-e8fc-4907-b52f-4ef33f9fbcdf"
      },
      "source": [
        "features.shape"
      ],
      "execution_count": 138,
      "outputs": [
        {
          "output_type": "execute_result",
          "data": {
            "text/plain": [
              "(10, 20, 3)"
            ]
          },
          "metadata": {
            "tags": []
          },
          "execution_count": 138
        }
      ]
    },
    {
      "cell_type": "code",
      "metadata": {
        "id": "UHKpelbUrxsF"
      },
      "source": [
        ""
      ],
      "execution_count": null,
      "outputs": []
    }
  ]
}