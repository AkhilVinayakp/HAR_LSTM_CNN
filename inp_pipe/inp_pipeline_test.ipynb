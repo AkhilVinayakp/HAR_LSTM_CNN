{
  "nbformat": 4,
  "nbformat_minor": 0,
  "metadata": {
    "colab": {
      "name": "inp_pipeline_test.ipynb",
      "provenance": [],
      "mount_file_id": "1l4-VwucxMCrGyUcZnBNwY4QoeZBl4h1x",
      "authorship_tag": "ABX9TyOlv41O/fs7+RdKEd5gUgyC",
      "include_colab_link": true
    },
    "kernelspec": {
      "name": "python3",
      "display_name": "Python 3"
    },
    "language_info": {
      "name": "python"
    }
  },
  "cells": [
    {
      "cell_type": "markdown",
      "metadata": {
        "id": "view-in-github",
        "colab_type": "text"
      },
      "source": [
        "<a href=\"https://colab.research.google.com/github/AkhilVinayakp/HAR_LSTM_CNN/blob/main/inp_pipe/inp_pipeline_test.ipynb\" target=\"_parent\"><img src=\"https://colab.research.google.com/assets/colab-badge.svg\" alt=\"Open In Colab\"/></a>"
      ]
    },
    {
      "cell_type": "code",
      "metadata": {
        "id": "0fQPQ2P34IeQ"
      },
      "source": [
        "import tensorflow as tf\n",
        "import pandas as pd\n",
        "import numpy as np\n",
        "import matplotlib.pyplot as plt\n",
        "from tensorflow.keras.utils import to_categorical"
      ],
      "execution_count": null,
      "outputs": []
    },
    {
      "cell_type": "code",
      "metadata": {
        "colab": {
          "base_uri": "https://localhost:8080/",
          "height": 54
        },
        "id": "5Fpb-f8i4o0q",
        "outputId": "dab6302c-b983-4e9f-d7ad-573ac3bd88f0"
      },
      "source": [
        "%cd /content/drive/My\\ Drive/datasets \n",
        "%pwd"
      ],
      "execution_count": null,
      "outputs": [
        {
          "output_type": "stream",
          "text": [
            "/content/drive/My Drive/datasets\n"
          ],
          "name": "stdout"
        },
        {
          "output_type": "execute_result",
          "data": {
            "application/vnd.google.colaboratory.intrinsic+json": {
              "type": "string"
            },
            "text/plain": [
              "'/content/drive/My Drive/datasets'"
            ]
          },
          "metadata": {
            "tags": []
          },
          "execution_count": 2
        }
      ]
    },
    {
      "cell_type": "code",
      "metadata": {
        "id": "t2OYRGfD4s_x"
      },
      "source": [
        "\n",
        "df =  pd.read_csv('inter_norm_mini.csv')"
      ],
      "execution_count": null,
      "outputs": []
    },
    {
      "cell_type": "code",
      "metadata": {
        "colab": {
          "base_uri": "https://localhost:8080/",
          "height": 206
        },
        "id": "IxDmsTR44vXQ",
        "outputId": "0eedfdc9-adda-4282-f34c-e7c2f254d7fe"
      },
      "source": [
        "df.head()"
      ],
      "execution_count": null,
      "outputs": [
        {
          "output_type": "execute_result",
          "data": {
            "text/html": [
              "<div>\n",
              "<style scoped>\n",
              "    .dataframe tbody tr th:only-of-type {\n",
              "        vertical-align: middle;\n",
              "    }\n",
              "\n",
              "    .dataframe tbody tr th {\n",
              "        vertical-align: top;\n",
              "    }\n",
              "\n",
              "    .dataframe thead th {\n",
              "        text-align: right;\n",
              "    }\n",
              "</style>\n",
              "<table border=\"1\" class=\"dataframe\">\n",
              "  <thead>\n",
              "    <tr style=\"text-align: right;\">\n",
              "      <th></th>\n",
              "      <th>user</th>\n",
              "      <th>activity</th>\n",
              "      <th>timestamp</th>\n",
              "      <th>x-axis</th>\n",
              "      <th>y-axis</th>\n",
              "      <th>z-axis</th>\n",
              "    </tr>\n",
              "  </thead>\n",
              "  <tbody>\n",
              "    <tr>\n",
              "      <th>0</th>\n",
              "      <td>14</td>\n",
              "      <td>Downstairs</td>\n",
              "      <td>57725432324000</td>\n",
              "      <td>0.668528</td>\n",
              "      <td>0.725448</td>\n",
              "      <td>-0.163691</td>\n",
              "    </tr>\n",
              "    <tr>\n",
              "      <th>1</th>\n",
              "      <td>7</td>\n",
              "      <td>Upstairs</td>\n",
              "      <td>208866321473000</td>\n",
              "      <td>0.454967</td>\n",
              "      <td>0.875538</td>\n",
              "      <td>-0.162600</td>\n",
              "    </tr>\n",
              "    <tr>\n",
              "      <th>2</th>\n",
              "      <td>29</td>\n",
              "      <td>Jogging</td>\n",
              "      <td>0</td>\n",
              "      <td>0.287281</td>\n",
              "      <td>0.887311</td>\n",
              "      <td>-0.360761</td>\n",
              "    </tr>\n",
              "    <tr>\n",
              "      <th>3</th>\n",
              "      <td>15</td>\n",
              "      <td>Jogging</td>\n",
              "      <td>0</td>\n",
              "      <td>0.944283</td>\n",
              "      <td>0.292972</td>\n",
              "      <td>-0.149990</td>\n",
              "    </tr>\n",
              "    <tr>\n",
              "      <th>4</th>\n",
              "      <td>8</td>\n",
              "      <td>Jogging</td>\n",
              "      <td>111020251899000</td>\n",
              "      <td>-0.124547</td>\n",
              "      <td>-0.706035</td>\n",
              "      <td>-0.697139</td>\n",
              "    </tr>\n",
              "  </tbody>\n",
              "</table>\n",
              "</div>"
            ],
            "text/plain": [
              "   user    activity        timestamp    x-axis    y-axis    z-axis\n",
              "0    14  Downstairs   57725432324000  0.668528  0.725448 -0.163691\n",
              "1     7    Upstairs  208866321473000  0.454967  0.875538 -0.162600\n",
              "2    29     Jogging                0  0.287281  0.887311 -0.360761\n",
              "3    15     Jogging                0  0.944283  0.292972 -0.149990\n",
              "4     8     Jogging  111020251899000 -0.124547 -0.706035 -0.697139"
            ]
          },
          "metadata": {
            "tags": []
          },
          "execution_count": 4
        }
      ]
    },
    {
      "cell_type": "code",
      "metadata": {
        "id": "3xl2CIe04zQQ"
      },
      "source": [
        "df.drop('user', inplace=True, axis=1)"
      ],
      "execution_count": null,
      "outputs": []
    },
    {
      "cell_type": "code",
      "metadata": {
        "id": "Vr3pVmps7wM6"
      },
      "source": [
        "df.drop('timestamp', inplace=True, axis=1)"
      ],
      "execution_count": null,
      "outputs": []
    },
    {
      "cell_type": "code",
      "metadata": {
        "colab": {
          "base_uri": "https://localhost:8080/",
          "height": 424
        },
        "id": "qlYlGrig7w7-",
        "outputId": "838bc48d-1e60-420a-815a-23621a21275a"
      },
      "source": [
        "df"
      ],
      "execution_count": null,
      "outputs": [
        {
          "output_type": "execute_result",
          "data": {
            "text/html": [
              "<div>\n",
              "<style scoped>\n",
              "    .dataframe tbody tr th:only-of-type {\n",
              "        vertical-align: middle;\n",
              "    }\n",
              "\n",
              "    .dataframe tbody tr th {\n",
              "        vertical-align: top;\n",
              "    }\n",
              "\n",
              "    .dataframe thead th {\n",
              "        text-align: right;\n",
              "    }\n",
              "</style>\n",
              "<table border=\"1\" class=\"dataframe\">\n",
              "  <thead>\n",
              "    <tr style=\"text-align: right;\">\n",
              "      <th></th>\n",
              "      <th>activity</th>\n",
              "      <th>x-axis</th>\n",
              "      <th>y-axis</th>\n",
              "      <th>z-axis</th>\n",
              "    </tr>\n",
              "  </thead>\n",
              "  <tbody>\n",
              "    <tr>\n",
              "      <th>0</th>\n",
              "      <td>Downstairs</td>\n",
              "      <td>0.668528</td>\n",
              "      <td>0.725448</td>\n",
              "      <td>-0.163691</td>\n",
              "    </tr>\n",
              "    <tr>\n",
              "      <th>1</th>\n",
              "      <td>Upstairs</td>\n",
              "      <td>0.454967</td>\n",
              "      <td>0.875538</td>\n",
              "      <td>-0.162600</td>\n",
              "    </tr>\n",
              "    <tr>\n",
              "      <th>2</th>\n",
              "      <td>Jogging</td>\n",
              "      <td>0.287281</td>\n",
              "      <td>0.887311</td>\n",
              "      <td>-0.360761</td>\n",
              "    </tr>\n",
              "    <tr>\n",
              "      <th>3</th>\n",
              "      <td>Jogging</td>\n",
              "      <td>0.944283</td>\n",
              "      <td>0.292972</td>\n",
              "      <td>-0.149990</td>\n",
              "    </tr>\n",
              "    <tr>\n",
              "      <th>4</th>\n",
              "      <td>Jogging</td>\n",
              "      <td>-0.124547</td>\n",
              "      <td>-0.706035</td>\n",
              "      <td>-0.697139</td>\n",
              "    </tr>\n",
              "    <tr>\n",
              "      <th>...</th>\n",
              "      <td>...</td>\n",
              "      <td>...</td>\n",
              "      <td>...</td>\n",
              "      <td>...</td>\n",
              "    </tr>\n",
              "    <tr>\n",
              "      <th>105</th>\n",
              "      <td>Downstairs</td>\n",
              "      <td>0.449064</td>\n",
              "      <td>0.893440</td>\n",
              "      <td>-0.010313</td>\n",
              "    </tr>\n",
              "    <tr>\n",
              "      <th>106</th>\n",
              "      <td>Downstairs</td>\n",
              "      <td>-0.157978</td>\n",
              "      <td>0.929553</td>\n",
              "      <td>0.333128</td>\n",
              "    </tr>\n",
              "    <tr>\n",
              "      <th>107</th>\n",
              "      <td>Jogging</td>\n",
              "      <td>0.687072</td>\n",
              "      <td>0.721425</td>\n",
              "      <td>-0.086476</td>\n",
              "    </tr>\n",
              "    <tr>\n",
              "      <th>108</th>\n",
              "      <td>Walking</td>\n",
              "      <td>0.927688</td>\n",
              "      <td>0.373049</td>\n",
              "      <td>-0.015133</td>\n",
              "    </tr>\n",
              "    <tr>\n",
              "      <th>109</th>\n",
              "      <td>Walking</td>\n",
              "      <td>0.444785</td>\n",
              "      <td>0.834132</td>\n",
              "      <td>-0.326175</td>\n",
              "    </tr>\n",
              "  </tbody>\n",
              "</table>\n",
              "<p>110 rows × 4 columns</p>\n",
              "</div>"
            ],
            "text/plain": [
              "       activity    x-axis    y-axis    z-axis\n",
              "0    Downstairs  0.668528  0.725448 -0.163691\n",
              "1      Upstairs  0.454967  0.875538 -0.162600\n",
              "2       Jogging  0.287281  0.887311 -0.360761\n",
              "3       Jogging  0.944283  0.292972 -0.149990\n",
              "4       Jogging -0.124547 -0.706035 -0.697139\n",
              "..          ...       ...       ...       ...\n",
              "105  Downstairs  0.449064  0.893440 -0.010313\n",
              "106  Downstairs -0.157978  0.929553  0.333128\n",
              "107     Jogging  0.687072  0.721425 -0.086476\n",
              "108     Walking  0.927688  0.373049 -0.015133\n",
              "109     Walking  0.444785  0.834132 -0.326175\n",
              "\n",
              "[110 rows x 4 columns]"
            ]
          },
          "metadata": {
            "tags": []
          },
          "execution_count": 8
        }
      ]
    },
    {
      "cell_type": "code",
      "metadata": {
        "id": "YCBC5a7F75L2"
      },
      "source": [
        "df.activity = df.activity.astype('category')\n",
        "df.activity = df.activity.cat.codes.astype('float64')"
      ],
      "execution_count": null,
      "outputs": []
    },
    {
      "cell_type": "code",
      "metadata": {
        "colab": {
          "base_uri": "https://localhost:8080/",
          "height": 424
        },
        "id": "0bTBILux8hSm",
        "outputId": "a13d7646-c33b-4470-d0f8-3f5416e1343b"
      },
      "source": [
        "df"
      ],
      "execution_count": null,
      "outputs": [
        {
          "output_type": "execute_result",
          "data": {
            "text/html": [
              "<div>\n",
              "<style scoped>\n",
              "    .dataframe tbody tr th:only-of-type {\n",
              "        vertical-align: middle;\n",
              "    }\n",
              "\n",
              "    .dataframe tbody tr th {\n",
              "        vertical-align: top;\n",
              "    }\n",
              "\n",
              "    .dataframe thead th {\n",
              "        text-align: right;\n",
              "    }\n",
              "</style>\n",
              "<table border=\"1\" class=\"dataframe\">\n",
              "  <thead>\n",
              "    <tr style=\"text-align: right;\">\n",
              "      <th></th>\n",
              "      <th>activity</th>\n",
              "      <th>x-axis</th>\n",
              "      <th>y-axis</th>\n",
              "      <th>z-axis</th>\n",
              "    </tr>\n",
              "  </thead>\n",
              "  <tbody>\n",
              "    <tr>\n",
              "      <th>0</th>\n",
              "      <td>0.0</td>\n",
              "      <td>0.668528</td>\n",
              "      <td>0.725448</td>\n",
              "      <td>-0.163691</td>\n",
              "    </tr>\n",
              "    <tr>\n",
              "      <th>1</th>\n",
              "      <td>4.0</td>\n",
              "      <td>0.454967</td>\n",
              "      <td>0.875538</td>\n",
              "      <td>-0.162600</td>\n",
              "    </tr>\n",
              "    <tr>\n",
              "      <th>2</th>\n",
              "      <td>1.0</td>\n",
              "      <td>0.287281</td>\n",
              "      <td>0.887311</td>\n",
              "      <td>-0.360761</td>\n",
              "    </tr>\n",
              "    <tr>\n",
              "      <th>3</th>\n",
              "      <td>1.0</td>\n",
              "      <td>0.944283</td>\n",
              "      <td>0.292972</td>\n",
              "      <td>-0.149990</td>\n",
              "    </tr>\n",
              "    <tr>\n",
              "      <th>4</th>\n",
              "      <td>1.0</td>\n",
              "      <td>-0.124547</td>\n",
              "      <td>-0.706035</td>\n",
              "      <td>-0.697139</td>\n",
              "    </tr>\n",
              "    <tr>\n",
              "      <th>...</th>\n",
              "      <td>...</td>\n",
              "      <td>...</td>\n",
              "      <td>...</td>\n",
              "      <td>...</td>\n",
              "    </tr>\n",
              "    <tr>\n",
              "      <th>105</th>\n",
              "      <td>0.0</td>\n",
              "      <td>0.449064</td>\n",
              "      <td>0.893440</td>\n",
              "      <td>-0.010313</td>\n",
              "    </tr>\n",
              "    <tr>\n",
              "      <th>106</th>\n",
              "      <td>0.0</td>\n",
              "      <td>-0.157978</td>\n",
              "      <td>0.929553</td>\n",
              "      <td>0.333128</td>\n",
              "    </tr>\n",
              "    <tr>\n",
              "      <th>107</th>\n",
              "      <td>1.0</td>\n",
              "      <td>0.687072</td>\n",
              "      <td>0.721425</td>\n",
              "      <td>-0.086476</td>\n",
              "    </tr>\n",
              "    <tr>\n",
              "      <th>108</th>\n",
              "      <td>5.0</td>\n",
              "      <td>0.927688</td>\n",
              "      <td>0.373049</td>\n",
              "      <td>-0.015133</td>\n",
              "    </tr>\n",
              "    <tr>\n",
              "      <th>109</th>\n",
              "      <td>5.0</td>\n",
              "      <td>0.444785</td>\n",
              "      <td>0.834132</td>\n",
              "      <td>-0.326175</td>\n",
              "    </tr>\n",
              "  </tbody>\n",
              "</table>\n",
              "<p>110 rows × 4 columns</p>\n",
              "</div>"
            ],
            "text/plain": [
              "     activity    x-axis    y-axis    z-axis\n",
              "0         0.0  0.668528  0.725448 -0.163691\n",
              "1         4.0  0.454967  0.875538 -0.162600\n",
              "2         1.0  0.287281  0.887311 -0.360761\n",
              "3         1.0  0.944283  0.292972 -0.149990\n",
              "4         1.0 -0.124547 -0.706035 -0.697139\n",
              "..        ...       ...       ...       ...\n",
              "105       0.0  0.449064  0.893440 -0.010313\n",
              "106       0.0 -0.157978  0.929553  0.333128\n",
              "107       1.0  0.687072  0.721425 -0.086476\n",
              "108       5.0  0.927688  0.373049 -0.015133\n",
              "109       5.0  0.444785  0.834132 -0.326175\n",
              "\n",
              "[110 rows x 4 columns]"
            ]
          },
          "metadata": {
            "tags": []
          },
          "execution_count": 25
        }
      ]
    },
    {
      "cell_type": "code",
      "metadata": {
        "colab": {
          "base_uri": "https://localhost:8080/"
        },
        "id": "QvnlMwQb_9Uk",
        "outputId": "79f13991-40ed-4348-9372-942daf2d4dbb"
      },
      "source": [
        "df.dtypes"
      ],
      "execution_count": null,
      "outputs": [
        {
          "output_type": "execute_result",
          "data": {
            "text/plain": [
              "activity    float64\n",
              "x-axis      float64\n",
              "y-axis      float64\n",
              "z-axis      float64\n",
              "dtype: object"
            ]
          },
          "metadata": {
            "tags": []
          },
          "execution_count": 26
        }
      ]
    },
    {
      "cell_type": "code",
      "metadata": {
        "id": "4bYXNA898hnW"
      },
      "source": [
        "dataset = tf.data.Dataset.from_tensor_slices(df)"
      ],
      "execution_count": null,
      "outputs": []
    },
    {
      "cell_type": "code",
      "metadata": {
        "id": "cxp-s3kxNTQB"
      },
      "source": [
        "window_size = 20"
      ],
      "execution_count": null,
      "outputs": []
    },
    {
      "cell_type": "code",
      "metadata": {
        "id": "w02HgtsrMlgy"
      },
      "source": [
        "def enc(y):\n",
        "  return y+1"
      ],
      "execution_count": null,
      "outputs": []
    },
    {
      "cell_type": "code",
      "metadata": {
        "colab": {
          "base_uri": "https://localhost:8080/",
          "height": 207
        },
        "id": "MfP2-cX-_ShS",
        "outputId": "f70f5604-a444-4c31-cbcc-3a2b347e20f6"
      },
      "source": [
        "# dataset = dataset.batch(20, drop_remainder=True)\n",
        "dataset = tf.data.Dataset.from_tensor_slices(df)\n",
        "dataset = dataset.window(20,shift=10, drop_remainder=True)\n",
        "dataset = dataset.flat_map(lambda window : window.batch(20))\n",
        "dataset = dataset.map(lambda window: (window[:,1:],window[:,0]))\n",
        "dataset = dataset.map(lambda x, y : x , enc(y))"
      ],
      "execution_count": null,
      "outputs": [
        {
          "output_type": "error",
          "ename": "NameError",
          "evalue": "ignored",
          "traceback": [
            "\u001b[0;31m---------------------------------------------------------------------------\u001b[0m",
            "\u001b[0;31mNameError\u001b[0m                                 Traceback (most recent call last)",
            "\u001b[0;32m<ipython-input-57-527741f05ce6>\u001b[0m in \u001b[0;36m<module>\u001b[0;34m()\u001b[0m\n\u001b[1;32m      4\u001b[0m \u001b[0mdataset\u001b[0m \u001b[0;34m=\u001b[0m \u001b[0mdataset\u001b[0m\u001b[0;34m.\u001b[0m\u001b[0mflat_map\u001b[0m\u001b[0;34m(\u001b[0m\u001b[0;32mlambda\u001b[0m \u001b[0mwindow\u001b[0m \u001b[0;34m:\u001b[0m \u001b[0mwindow\u001b[0m\u001b[0;34m.\u001b[0m\u001b[0mbatch\u001b[0m\u001b[0;34m(\u001b[0m\u001b[0;36m20\u001b[0m\u001b[0;34m)\u001b[0m\u001b[0;34m)\u001b[0m\u001b[0;34m\u001b[0m\u001b[0;34m\u001b[0m\u001b[0m\n\u001b[1;32m      5\u001b[0m \u001b[0mdataset\u001b[0m \u001b[0;34m=\u001b[0m \u001b[0mdataset\u001b[0m\u001b[0;34m.\u001b[0m\u001b[0mmap\u001b[0m\u001b[0;34m(\u001b[0m\u001b[0;32mlambda\u001b[0m \u001b[0mwindow\u001b[0m\u001b[0;34m:\u001b[0m \u001b[0;34m(\u001b[0m\u001b[0mwindow\u001b[0m\u001b[0;34m[\u001b[0m\u001b[0;34m:\u001b[0m\u001b[0;34m,\u001b[0m\u001b[0;36m1\u001b[0m\u001b[0;34m:\u001b[0m\u001b[0;34m]\u001b[0m\u001b[0;34m,\u001b[0m\u001b[0mwindow\u001b[0m\u001b[0;34m[\u001b[0m\u001b[0;34m:\u001b[0m\u001b[0;34m,\u001b[0m\u001b[0;36m0\u001b[0m\u001b[0;34m]\u001b[0m\u001b[0;34m)\u001b[0m\u001b[0;34m)\u001b[0m\u001b[0;34m\u001b[0m\u001b[0;34m\u001b[0m\u001b[0m\n\u001b[0;32m----> 6\u001b[0;31m \u001b[0mdataset\u001b[0m \u001b[0;34m=\u001b[0m \u001b[0mdataset\u001b[0m\u001b[0;34m.\u001b[0m\u001b[0mmap\u001b[0m\u001b[0;34m(\u001b[0m\u001b[0;32mlambda\u001b[0m \u001b[0mx\u001b[0m\u001b[0;34m,\u001b[0m \u001b[0my\u001b[0m \u001b[0;34m:\u001b[0m \u001b[0mx\u001b[0m \u001b[0;34m,\u001b[0m \u001b[0menc\u001b[0m\u001b[0;34m(\u001b[0m\u001b[0my\u001b[0m\u001b[0;34m)\u001b[0m\u001b[0;34m)\u001b[0m\u001b[0;34m\u001b[0m\u001b[0;34m\u001b[0m\u001b[0m\n\u001b[0m",
            "\u001b[0;31mNameError\u001b[0m: name 'y' is not defined"
          ]
        }
      ]
    },
    {
      "cell_type": "code",
      "metadata": {
        "colab": {
          "base_uri": "https://localhost:8080/"
        },
        "id": "RN-IWYcNNgAZ",
        "outputId": "32fff075-ea9d-4fb2-c9b8-285c1868c4bb"
      },
      "source": [
        "type(dataset)"
      ],
      "execution_count": null,
      "outputs": [
        {
          "output_type": "execute_result",
          "data": {
            "text/plain": [
              "tensorflow.python.data.ops.dataset_ops.MapDataset"
            ]
          },
          "metadata": {
            "tags": []
          },
          "execution_count": 53
        }
      ]
    },
    {
      "cell_type": "code",
      "metadata": {
        "colab": {
          "base_uri": "https://localhost:8080/",
          "height": 189
        },
        "id": "YGJOSOFJ_xAd",
        "outputId": "14255b22-5458-4065-8ecb-a60ecc4ab365"
      },
      "source": [
        "for window in dataset:\n",
        "  print(window.numpy())"
      ],
      "execution_count": null,
      "outputs": [
        {
          "output_type": "error",
          "ename": "AttributeError",
          "evalue": "ignored",
          "traceback": [
            "\u001b[0;31m---------------------------------------------------------------------------\u001b[0m",
            "\u001b[0;31mAttributeError\u001b[0m                            Traceback (most recent call last)",
            "\u001b[0;32m<ipython-input-52-67d6aa038407>\u001b[0m in \u001b[0;36m<module>\u001b[0;34m()\u001b[0m\n\u001b[1;32m      1\u001b[0m \u001b[0;32mfor\u001b[0m \u001b[0mwindow\u001b[0m \u001b[0;32min\u001b[0m \u001b[0mdataset\u001b[0m\u001b[0;34m:\u001b[0m\u001b[0;34m\u001b[0m\u001b[0;34m\u001b[0m\u001b[0m\n\u001b[0;32m----> 2\u001b[0;31m   \u001b[0mprint\u001b[0m\u001b[0;34m(\u001b[0m\u001b[0mwindow\u001b[0m\u001b[0;34m.\u001b[0m\u001b[0mnumpy\u001b[0m\u001b[0;34m(\u001b[0m\u001b[0;34m)\u001b[0m\u001b[0;34m)\u001b[0m\u001b[0;34m\u001b[0m\u001b[0;34m\u001b[0m\u001b[0m\n\u001b[0m",
            "\u001b[0;31mAttributeError\u001b[0m: 'tuple' object has no attribute 'numpy'"
          ]
        }
      ]
    },
    {
      "cell_type": "code",
      "metadata": {
        "id": "6QKF3aWM92m-"
      },
      "source": [
        "for \n"
      ],
      "execution_count": null,
      "outputs": []
    },
    {
      "cell_type": "code",
      "metadata": {
        "id": "6aZ0COFc-NMl"
      },
      "source": [
        "# test datset\n",
        "sr = np.arange(0,50)\n",
        "sr = sr.reshape(10,5)"
      ],
      "execution_count": null,
      "outputs": []
    },
    {
      "cell_type": "code",
      "metadata": {
        "id": "tWmqP6tvJJwV"
      },
      "source": [
        "sr_set = tf.data.Dataset.from_tensor_slices(sr)"
      ],
      "execution_count": null,
      "outputs": []
    },
    {
      "cell_type": "code",
      "metadata": {
        "colab": {
          "base_uri": "https://localhost:8080/"
        },
        "id": "YgGb3vG1JP7S",
        "outputId": "af34fd9f-dcff-4fbf-98b3-25069ebe2ea6"
      },
      "source": [
        "for s in sr_set.as_numpy_iterator():\n",
        "  print(s)"
      ],
      "execution_count": null,
      "outputs": [
        {
          "output_type": "stream",
          "text": [
            "[0 1 2 3 4]\n",
            "[5 6 7 8 9]\n",
            "[10 11 12 13 14]\n",
            "[15 16 17 18 19]\n",
            "[20 21 22 23 24]\n",
            "[25 26 27 28 29]\n",
            "[30 31 32 33 34]\n",
            "[35 36 37 38 39]\n",
            "[40 41 42 43 44]\n",
            "[45 46 47 48 49]\n"
          ],
          "name": "stdout"
        }
      ]
    },
    {
      "cell_type": "code",
      "metadata": {
        "id": "euUJmgmuJXAZ"
      },
      "source": [
        ""
      ],
      "execution_count": null,
      "outputs": []
    }
  ]
}