{
  "nbformat": 4,
  "nbformat_minor": 0,
  "metadata": {
    "colab": {
      "name": "LSmt_cnn_UCIHAR.ipynb",
      "provenance": [],
      "mount_file_id": "1sGHkCleCb98CDKLfH1tJmxxOeSCztXjd",
      "authorship_tag": "ABX9TyNOzD6ooMTzYR3dh0Fq+fb4",
      "include_colab_link": true
    },
    "kernelspec": {
      "display_name": "Python 3",
      "name": "python3"
    },
    "language_info": {
      "name": "python"
    },
    "accelerator": "GPU"
  },
  "cells": [
    {
      "cell_type": "markdown",
      "metadata": {
        "id": "view-in-github",
        "colab_type": "text"
      },
      "source": [
        "<a href=\"https://colab.research.google.com/github/AkhilVinayakp/HAR_LSTM_CNN/blob/main/LSmt_cnn_UCIHAR.ipynb\" target=\"_parent\"><img src=\"https://colab.research.google.com/assets/colab-badge.svg\" alt=\"Open In Colab\"/></a>"
      ]
    },
    {
      "cell_type": "code",
      "metadata": {
        "colab": {
          "base_uri": "https://localhost:8080/",
          "height": 54
        },
        "id": "ky9mLzrP4Uki",
        "outputId": "680984e1-12d1-4ccb-f220-4c28365ea28c"
      },
      "source": [
        "\"\"\"\n",
        "contains from raw data preprcessing to model creation\n",
        "preprocessing\n",
        "  1.linear interpolation\n",
        "  2.MinMaxScaling\n",
        "\n",
        "Segmentation\n",
        "  1.windowing\n",
        "Model Training\n",
        "  1.lstm cnn\n",
        "  \n",
        "  freezed\n",
        "\"\"\""
      ],
      "execution_count": 117,
      "outputs": [
        {
          "output_type": "execute_result",
          "data": {
            "application/vnd.google.colaboratory.intrinsic+json": {
              "type": "string"
            },
            "text/plain": [
              "'\\ncontains from raw data preprcessing to model creation\\npreprocessing\\n  1.linear interpolation\\n  2.MinMaxScaling\\n\\nSegmentation\\n  1.windowing\\nModel Training\\n  1.lstm cnn\\n  \\n  freezed\\n'"
            ]
          },
          "metadata": {
            "tags": []
          },
          "execution_count": 117
        }
      ]
    },
    {
      "cell_type": "code",
      "metadata": {
        "id": "BE6E-j795Cmu"
      },
      "source": [
        "# imports\n",
        "import tensorflow as tf\n",
        "import requests\n",
        "import pandas as pd\n",
        "import numpy as np\n",
        "from zipfile import ZipFile"
      ],
      "execution_count": 118,
      "outputs": []
    },
    {
      "cell_type": "code",
      "metadata": {
        "colab": {
          "base_uri": "https://localhost:8080/"
        },
        "id": "jpvkBpNY8ByG",
        "outputId": "1f9183c3-6026-424f-a93a-4ac2b745bdd7"
      },
      "source": [
        "url = 'https://archive.ics.uci.edu/ml/machine-learning-databases/00240/UCI%20HAR%20Dataset.zip'\n",
        "r = requests.get(url=url, allow_redirects = False)\n",
        "open('uci.zip','wb').write(r.content)"
      ],
      "execution_count": 119,
      "outputs": [
        {
          "output_type": "execute_result",
          "data": {
            "text/plain": [
              "60999314"
            ]
          },
          "metadata": {
            "tags": []
          },
          "execution_count": 119
        }
      ]
    },
    {
      "cell_type": "code",
      "metadata": {
        "colab": {
          "base_uri": "https://localhost:8080/"
        },
        "id": "5ifamj6H9-CT",
        "outputId": "13dfac79-ff41-4e95-cdaa-8c1454eaf0b2"
      },
      "source": [
        "!ls"
      ],
      "execution_count": 120,
      "outputs": [
        {
          "output_type": "stream",
          "text": [
            "activity_labels.txt  features.txt  test   uci.zip\n",
            "features_info.txt    README.txt    train\n"
          ],
          "name": "stdout"
        }
      ]
    },
    {
      "cell_type": "code",
      "metadata": {
        "id": "D0ewOKsb-Let"
      },
      "source": [
        "with ZipFile('uci.zip') as zip:\n",
        "  zip.extractall()"
      ],
      "execution_count": 121,
      "outputs": []
    },
    {
      "cell_type": "code",
      "metadata": {
        "colab": {
          "base_uri": "https://localhost:8080/"
        },
        "id": "2xNyesPS-i4X",
        "outputId": "118da1aa-079a-4d54-b042-757bead6b170"
      },
      "source": [
        "!ls"
      ],
      "execution_count": 122,
      "outputs": [
        {
          "output_type": "stream",
          "text": [
            " activity_labels.txt   features.txt   README.txt   train\t      uci.zip\n",
            " features_info.txt     __MACOSX       test\t  'UCI HAR Dataset'\n"
          ],
          "name": "stdout"
        }
      ]
    },
    {
      "cell_type": "code",
      "metadata": {
        "colab": {
          "base_uri": "https://localhost:8080/"
        },
        "id": "Z_72WgiE_dGY",
        "outputId": "328bb861-309f-4457-978b-ca904fa5cc68"
      },
      "source": [
        "%cd 'UCI HAR Dataset'"
      ],
      "execution_count": 123,
      "outputs": [
        {
          "output_type": "stream",
          "text": [
            "/content/UCI HAR Dataset/UCI HAR Dataset/UCI HAR Dataset\n"
          ],
          "name": "stdout"
        }
      ]
    },
    {
      "cell_type": "code",
      "metadata": {
        "colab": {
          "base_uri": "https://localhost:8080/"
        },
        "id": "n3-tMmR__jqg",
        "outputId": "28202034-428e-4c92-d8dc-63019fbc6f48"
      },
      "source": [
        "!ls"
      ],
      "execution_count": 124,
      "outputs": [
        {
          "output_type": "stream",
          "text": [
            "activity_labels.txt  features_info.txt\tfeatures.txt  README.txt  test\ttrain\n"
          ],
          "name": "stdout"
        }
      ]
    },
    {
      "cell_type": "code",
      "metadata": {
        "id": "6OLCN3FxXZqA"
      },
      "source": [
        ""
      ],
      "execution_count": 124,
      "outputs": []
    },
    {
      "cell_type": "code",
      "metadata": {
        "id": "hnwUBLFzSuH3"
      },
      "source": [
        "# reading available for 3 axis seperatly adding function to load each as dataframe\n",
        "def load_axis_data(path):\n",
        "  df = pd.read_csv(path, header = None, delim_whitespace=True)\n",
        "  return df"
      ],
      "execution_count": 125,
      "outputs": []
    },
    {
      "cell_type": "code",
      "metadata": {
        "id": "tzOIwSlw_lYY"
      },
      "source": [
        "df_X = load_axis_data('train/Inertial Signals/total_acc_x_train.txt')"
      ],
      "execution_count": 126,
      "outputs": []
    },
    {
      "cell_type": "code",
      "metadata": {
        "id": "ONZXhtUnZ5cI"
      },
      "source": [
        "df_y = load_axis_data('train/Inertial Signals/total_acc_y_train.txt')\n",
        "df_z = load_axis_data('train/Inertial Signals/total_acc_z_train.txt')\n"
      ],
      "execution_count": 127,
      "outputs": []
    },
    {
      "cell_type": "code",
      "metadata": {
        "colab": {
          "base_uri": "https://localhost:8080/"
        },
        "id": "H2HgT48RaU8H",
        "outputId": "abd752ad-0ec9-4652-f2c5-6f1c5012cc83"
      },
      "source": [
        "# printing the shape of each \n",
        "print(f\"shape of x axis {df_X.shape}\")\n",
        "print(f\"shape of y axis {df_y.shape}\")\n",
        "print(f\"shape of z axis {df_z.shape}\")"
      ],
      "execution_count": 128,
      "outputs": [
        {
          "output_type": "stream",
          "text": [
            "shape of x axis (7352, 128)\n",
            "shape of y axis (7352, 128)\n",
            "shape of z axis (7352, 128)\n"
          ],
          "name": "stdout"
        }
      ]
    },
    {
      "cell_type": "code",
      "metadata": {
        "id": "XB01DBz6_-Rh"
      },
      "source": [
        "# stacking each values to one variable\n",
        "st_df = np.dstack([df_X,df_y,df_z])"
      ],
      "execution_count": 129,
      "outputs": []
    },
    {
      "cell_type": "code",
      "metadata": {
        "colab": {
          "base_uri": "https://localhost:8080/"
        },
        "id": "qQJChJ6OcME3",
        "outputId": "4f881897-0762-449e-9d5a-25fc420a3612"
      },
      "source": [
        "st_df.shape"
      ],
      "execution_count": 130,
      "outputs": [
        {
          "output_type": "execute_result",
          "data": {
            "text/plain": [
              "(7352, 128, 3)"
            ]
          },
          "metadata": {
            "tags": []
          },
          "execution_count": 130
        }
      ]
    },
    {
      "cell_type": "code",
      "metadata": {
        "colab": {
          "base_uri": "https://localhost:8080/"
        },
        "id": "8n8QF9e-so-W",
        "outputId": "b36ea520-4c6d-482b-c3e8-3815300badbc"
      },
      "source": [
        "st_df.dtype"
      ],
      "execution_count": 131,
      "outputs": [
        {
          "output_type": "execute_result",
          "data": {
            "text/plain": [
              "dtype('float64')"
            ]
          },
          "metadata": {
            "tags": []
          },
          "execution_count": 131
        }
      ]
    },
    {
      "cell_type": "code",
      "metadata": {
        "colab": {
          "base_uri": "https://localhost:8080/"
        },
        "id": "s4kbScA8m512",
        "outputId": "b98b8abe-ceaa-4ae6-bd6d-2f556eacd824"
      },
      "source": [
        "type(st_df)"
      ],
      "execution_count": 132,
      "outputs": [
        {
          "output_type": "execute_result",
          "data": {
            "text/plain": [
              "numpy.ndarray"
            ]
          },
          "metadata": {
            "tags": []
          },
          "execution_count": 132
        }
      ]
    },
    {
      "cell_type": "code",
      "metadata": {
        "id": "o9TYBsPjcPXK"
      },
      "source": [
        "# loading the train labels \n",
        "df_train_labels = load_axis_data('train/y_train.txt')\n",
        "df_train_labels[0] = df_train_labels[0].astype(np.int64)"
      ],
      "execution_count": 161,
      "outputs": []
    },
    {
      "cell_type": "code",
      "metadata": {
        "colab": {
          "base_uri": "https://localhost:8080/"
        },
        "id": "3xhOMsyWeCsS",
        "outputId": "43363a6c-f951-44c9-9bca-5a3224c959c9"
      },
      "source": [
        "df_train_labels.shape"
      ],
      "execution_count": 162,
      "outputs": [
        {
          "output_type": "execute_result",
          "data": {
            "text/plain": [
              "(7352, 1)"
            ]
          },
          "metadata": {
            "tags": []
          },
          "execution_count": 162
        }
      ]
    },
    {
      "cell_type": "code",
      "metadata": {
        "colab": {
          "base_uri": "https://localhost:8080/"
        },
        "id": "L-3SCpGNpn9Y",
        "outputId": "0022dbd3-eb9f-4623-941b-263086bd0e8f"
      },
      "source": [
        "df_train_labels.dtypes"
      ],
      "execution_count": 163,
      "outputs": [
        {
          "output_type": "execute_result",
          "data": {
            "text/plain": [
              "0    int64\n",
              "dtype: object"
            ]
          },
          "metadata": {
            "tags": []
          },
          "execution_count": 163
        }
      ]
    },
    {
      "cell_type": "code",
      "metadata": {
        "colab": {
          "base_uri": "https://localhost:8080/",
          "height": 206
        },
        "id": "LUi0es4BeR9T",
        "outputId": "dde4f553-08d3-4e97-c550-9f554c84b3e7"
      },
      "source": [
        "df_train_labels.head()"
      ],
      "execution_count": 164,
      "outputs": [
        {
          "output_type": "execute_result",
          "data": {
            "text/html": [
              "<div>\n",
              "<style scoped>\n",
              "    .dataframe tbody tr th:only-of-type {\n",
              "        vertical-align: middle;\n",
              "    }\n",
              "\n",
              "    .dataframe tbody tr th {\n",
              "        vertical-align: top;\n",
              "    }\n",
              "\n",
              "    .dataframe thead th {\n",
              "        text-align: right;\n",
              "    }\n",
              "</style>\n",
              "<table border=\"1\" class=\"dataframe\">\n",
              "  <thead>\n",
              "    <tr style=\"text-align: right;\">\n",
              "      <th></th>\n",
              "      <th>0</th>\n",
              "    </tr>\n",
              "  </thead>\n",
              "  <tbody>\n",
              "    <tr>\n",
              "      <th>0</th>\n",
              "      <td>5</td>\n",
              "    </tr>\n",
              "    <tr>\n",
              "      <th>1</th>\n",
              "      <td>5</td>\n",
              "    </tr>\n",
              "    <tr>\n",
              "      <th>2</th>\n",
              "      <td>5</td>\n",
              "    </tr>\n",
              "    <tr>\n",
              "      <th>3</th>\n",
              "      <td>5</td>\n",
              "    </tr>\n",
              "    <tr>\n",
              "      <th>4</th>\n",
              "      <td>5</td>\n",
              "    </tr>\n",
              "  </tbody>\n",
              "</table>\n",
              "</div>"
            ],
            "text/plain": [
              "   0\n",
              "0  5\n",
              "1  5\n",
              "2  5\n",
              "3  5\n",
              "4  5"
            ]
          },
          "metadata": {
            "tags": []
          },
          "execution_count": 164
        }
      ]
    },
    {
      "cell_type": "code",
      "metadata": {
        "id": "UHPOJtQEePOu"
      },
      "source": [
        "# from sklearn.preprocessing import OneHotEncoder"
      ],
      "execution_count": 137,
      "outputs": []
    },
    {
      "cell_type": "code",
      "metadata": {
        "id": "hGCxXrS9fCW6"
      },
      "source": [
        "# enc = OneHotEncoder()\n",
        "# df_train_labels =  enc.fit_transform(df_train_labels)\n",
        "df_train_labels = tf.one_hot(df_train_labels, depth=6)"
      ],
      "execution_count": 170,
      "outputs": []
    },
    {
      "cell_type": "code",
      "metadata": {
        "id": "29ggqGiKvKtu"
      },
      "source": [
        ""
      ],
      "execution_count": 170,
      "outputs": []
    },
    {
      "cell_type": "code",
      "metadata": {
        "colab": {
          "base_uri": "https://localhost:8080/"
        },
        "id": "VQ9T8OBEfMhH",
        "outputId": "a5f19737-9a74-4d56-e21a-d2b94a5af243"
      },
      "source": [
        "df_train_labels.shape"
      ],
      "execution_count": 171,
      "outputs": [
        {
          "output_type": "execute_result",
          "data": {
            "text/plain": [
              "TensorShape([7352, 1, 6])"
            ]
          },
          "metadata": {
            "tags": []
          },
          "execution_count": 171
        }
      ]
    },
    {
      "cell_type": "code",
      "metadata": {
        "colab": {
          "base_uri": "https://localhost:8080/"
        },
        "id": "KB8j8ls2qY2G",
        "outputId": "aecc2f43-3a6b-4ed5-c10a-6fcceda7edea"
      },
      "source": [
        "df_train_labels.dtype"
      ],
      "execution_count": 172,
      "outputs": [
        {
          "output_type": "execute_result",
          "data": {
            "text/plain": [
              "tf.float32"
            ]
          },
          "metadata": {
            "tags": []
          },
          "execution_count": 172
        }
      ]
    },
    {
      "cell_type": "code",
      "metadata": {
        "id": "V_hP9tcsfQcJ"
      },
      "source": [
        ""
      ],
      "execution_count": 140,
      "outputs": []
    },
    {
      "cell_type": "code",
      "metadata": {
        "id": "XcEZBWdiBcCq"
      },
      "source": [
        "df_X_test = load_axis_data('test/Inertial Signals/total_acc_x_test.txt')\n",
        "df_y_test = load_axis_data('test/Inertial Signals/total_acc_y_test.txt')\n",
        "df_z_test = load_axis_data('test/Inertial Signals/total_acc_z_test.txt')\n",
        "st_df_test = np.dstack([df_X_test,df_y_test,df_z_test])"
      ],
      "execution_count": 141,
      "outputs": []
    },
    {
      "cell_type": "code",
      "metadata": {
        "colab": {
          "base_uri": "https://localhost:8080/"
        },
        "id": "DzGChXXofccL",
        "outputId": "f0a4a125-c384-4e71-f75b-6adcb32e115b"
      },
      "source": [
        "st_df_test.shape"
      ],
      "execution_count": 142,
      "outputs": [
        {
          "output_type": "execute_result",
          "data": {
            "text/plain": [
              "(2947, 128, 3)"
            ]
          },
          "metadata": {
            "tags": []
          },
          "execution_count": 142
        }
      ]
    },
    {
      "cell_type": "code",
      "metadata": {
        "colab": {
          "base_uri": "https://localhost:8080/"
        },
        "id": "01dxBeTTf3-L",
        "outputId": "6895e497-b2d7-46b3-a0f2-4f6fac091929"
      },
      "source": [
        "df_test_labels = load_axis_data('test/y_test.txt')\n",
        "df_test_labels[0] = df_test_labels[0].astype(np.int64)\n",
        "df_test_labels.dtypes"
      ],
      "execution_count": 174,
      "outputs": [
        {
          "output_type": "execute_result",
          "data": {
            "text/plain": [
              "0    int64\n",
              "dtype: object"
            ]
          },
          "metadata": {
            "tags": []
          },
          "execution_count": 174
        }
      ]
    },
    {
      "cell_type": "code",
      "metadata": {
        "id": "IiyM_s3vpY6G"
      },
      "source": [
        ""
      ],
      "execution_count": 143,
      "outputs": []
    },
    {
      "cell_type": "code",
      "metadata": {
        "id": "rydBqLNRoyP2"
      },
      "source": [
        "df_test_labels =  tf.one_hot(df_test_labels, depth=6)"
      ],
      "execution_count": 175,
      "outputs": []
    },
    {
      "cell_type": "code",
      "metadata": {
        "colab": {
          "base_uri": "https://localhost:8080/"
        },
        "id": "bhSDtBE5qy5O",
        "outputId": "7f9193f7-48e4-40e8-b819-811c00e2372e"
      },
      "source": [
        "df_test_labels.dtype"
      ],
      "execution_count": 176,
      "outputs": [
        {
          "output_type": "execute_result",
          "data": {
            "text/plain": [
              "tf.float32"
            ]
          },
          "metadata": {
            "tags": []
          },
          "execution_count": 176
        }
      ]
    },
    {
      "cell_type": "code",
      "metadata": {
        "colab": {
          "base_uri": "https://localhost:8080/"
        },
        "id": "PAy3CrabgHb0",
        "outputId": "e066e8fb-c481-4471-95b0-3431543d81ef"
      },
      "source": [
        "df_test_labels.shape"
      ],
      "execution_count": 177,
      "outputs": [
        {
          "output_type": "execute_result",
          "data": {
            "text/plain": [
              "TensorShape([2947, 1, 6])"
            ]
          },
          "metadata": {
            "tags": []
          },
          "execution_count": 177
        }
      ]
    },
    {
      "cell_type": "code",
      "metadata": {
        "id": "Um-eb4vona03"
      },
      "source": [
        ""
      ],
      "execution_count": 146,
      "outputs": []
    },
    {
      "cell_type": "code",
      "metadata": {
        "colab": {
          "base_uri": "https://localhost:8080/"
        },
        "id": "w9H_SHThs5zX",
        "outputId": "8278d71c-1447-4dae-e00f-92aaa4be5bca"
      },
      "source": [
        "df_test_labels.dtype"
      ],
      "execution_count": 178,
      "outputs": [
        {
          "output_type": "execute_result",
          "data": {
            "text/plain": [
              "tf.float32"
            ]
          },
          "metadata": {
            "tags": []
          },
          "execution_count": 178
        }
      ]
    },
    {
      "cell_type": "code",
      "metadata": {
        "id": "ULMt8N3rgKV7"
      },
      "source": [
        "# model creation and testing "
      ],
      "execution_count": 148,
      "outputs": []
    },
    {
      "cell_type": "code",
      "metadata": {
        "id": "mQhvt2k5gQKk"
      },
      "source": [
        "# # adding globel average pooling to the model\n",
        "# codding lstm layers and cnn\n",
        "model = tf.keras.models.Sequential([\n",
        "  tf.keras.layers.Lambda(lambda x: x,\n",
        "                      input_shape=[128, 3]),\n",
        "  tf.keras.layers.LSTM(32, return_sequences=True),\n",
        "  tf.keras.layers.LSTM(32, return_sequences=True),\n",
        "  # tf.keras.layers.SpatialDropout1D(0.2),\n",
        "  # tf.keras.layers.Lambda(lambda x: tf.expand_dims(x, axis=-1)),\n",
        "  # tf.keras.layers.Reshape((128,64,1)),\n",
        "  tf.keras.layers.Conv1D(64,5,strides=2),\n",
        "  tf.keras.layers.MaxPooling1D(2, strides = 2),\n",
        "  # tf.keras.layers.Dropout(.4),\n",
        "  tf.keras.layers.Conv1D(128,3,strides=1),  \n",
        "  # tf.keras.layers.MaxPooling2D((2, 2), strides = (2,2)),\n",
        "  # tf.keras.layers.Lambda(lambda x: tf.expand_dims(x, axis=-1)),\n",
        "  # parameters ?\n",
        "  tf.keras.layers.GlobalAveragePooling1D(),\n",
        "  tf.keras.layers.Dense(6, activation='softmax')\n",
        "  \n",
        "])"
      ],
      "execution_count": 149,
      "outputs": []
    },
    {
      "cell_type": "code",
      "metadata": {
        "colab": {
          "base_uri": "https://localhost:8080/"
        },
        "id": "jnTvJgTwgTzz",
        "outputId": "cf934edb-f05a-4a89-b58b-c1a290e86259"
      },
      "source": [
        "model.summary()"
      ],
      "execution_count": 150,
      "outputs": [
        {
          "output_type": "stream",
          "text": [
            "Model: \"sequential_3\"\n",
            "_________________________________________________________________\n",
            "Layer (type)                 Output Shape              Param #   \n",
            "=================================================================\n",
            "lambda_3 (Lambda)            (None, 128, 3)            0         \n",
            "_________________________________________________________________\n",
            "lstm_6 (LSTM)                (None, 128, 32)           4608      \n",
            "_________________________________________________________________\n",
            "lstm_7 (LSTM)                (None, 128, 32)           8320      \n",
            "_________________________________________________________________\n",
            "conv1d_6 (Conv1D)            (None, 62, 64)            10304     \n",
            "_________________________________________________________________\n",
            "max_pooling1d_3 (MaxPooling1 (None, 31, 64)            0         \n",
            "_________________________________________________________________\n",
            "conv1d_7 (Conv1D)            (None, 29, 128)           24704     \n",
            "_________________________________________________________________\n",
            "global_average_pooling1d_3 ( (None, 128)               0         \n",
            "_________________________________________________________________\n",
            "dense_3 (Dense)              (None, 6)                 774       \n",
            "=================================================================\n",
            "Total params: 48,710\n",
            "Trainable params: 48,710\n",
            "Non-trainable params: 0\n",
            "_________________________________________________________________\n"
          ],
          "name": "stdout"
        }
      ]
    },
    {
      "cell_type": "code",
      "metadata": {
        "id": "MTMgd1eJgW6K"
      },
      "source": [
        "# designing class back to save the best model\n",
        "from tensorflow.keras.callbacks import ModelCheckpoint\n",
        "save = ModelCheckpoint('best_model_uci_n3.h5', save_best_only = True)"
      ],
      "execution_count": 179,
      "outputs": []
    },
    {
      "cell_type": "code",
      "metadata": {
        "colab": {
          "base_uri": "https://localhost:8080/"
        },
        "id": "v3_iFLDFtEpi",
        "outputId": "bd09a78a-fbb3-4862-986f-ffb30c8cd842"
      },
      "source": [
        "print(st_df.dtype)\n",
        "print(st_df.shape)"
      ],
      "execution_count": 186,
      "outputs": [
        {
          "output_type": "execute_result",
          "data": {
            "text/plain": [
              "TensorShape([7352, 128, 3])"
            ]
          },
          "metadata": {
            "tags": []
          },
          "execution_count": 186
        }
      ]
    },
    {
      "cell_type": "code",
      "metadata": {
        "id": "yEea9bUjt77Z"
      },
      "source": [
        "# st_df = tf.cast(st_df, dtype=tf.float32)"
      ],
      "execution_count": 181,
      "outputs": []
    },
    {
      "cell_type": "code",
      "metadata": {
        "colab": {
          "base_uri": "https://localhost:8080/"
        },
        "id": "Aebmd-v6tJXZ",
        "outputId": "8c881269-9d8a-40d7-ab5b-be999b0d8d6f"
      },
      "source": [
        "# st_df_test = tf.cast(st_df_test, dtype=tf.float32)\n",
        "print(st_df_test.dtype)\n",
        "print(st_df_test.shape)"
      ],
      "execution_count": 187,
      "outputs": [
        {
          "output_type": "stream",
          "text": [
            "<dtype: 'float32'>\n",
            "(2947, 128, 3)\n"
          ],
          "name": "stdout"
        }
      ]
    },
    {
      "cell_type": "code",
      "metadata": {
        "colab": {
          "base_uri": "https://localhost:8080/"
        },
        "id": "i_iUSl0_tNnA",
        "outputId": "4810bd20-a3be-4dc9-9506-9eeeb826574c"
      },
      "source": [
        "# df_train_labels= tf.cast(df_train_labels, dtype=tf.float32)\n",
        "print(df_train_labels.dtype)\n",
        "print(df_train_labels.shape)\n",
        "df_train_labels = tf.reshape(df_train_labels,[7352,6])\n",
        "print(df_train_labels.shape)"
      ],
      "execution_count": 191,
      "outputs": [
        {
          "output_type": "stream",
          "text": [
            "<dtype: 'float32'>\n",
            "(7352, 1, 6)\n",
            "(7352, 6)\n"
          ],
          "name": "stdout"
        }
      ]
    },
    {
      "cell_type": "code",
      "metadata": {
        "colab": {
          "base_uri": "https://localhost:8080/"
        },
        "id": "Ifa4yIqutSDy",
        "outputId": "5b6aa7c7-a5f1-40a4-bb82-8a0ef2b9b6d2"
      },
      "source": [
        "print(df_test_labels.dtype)\n",
        "print(df_test_labels.shape)\n",
        "df_test_labels = tf.reshape(df_test_labels,[2947,6])\n",
        "print(df_test_labels.shape)"
      ],
      "execution_count": 193,
      "outputs": [
        {
          "output_type": "stream",
          "text": [
            "<dtype: 'float32'>\n",
            "(2947, 1, 6)\n",
            "(2947, 6)\n"
          ],
          "name": "stdout"
        }
      ]
    },
    {
      "cell_type": "code",
      "metadata": {
        "colab": {
          "base_uri": "https://localhost:8080/",
          "height": 1000
        },
        "id": "elr2oeVug3Ul",
        "outputId": "74233bcf-5f46-48c4-92e1-a58cd6bdfc10"
      },
      "source": [
        "# with out bidirection\n",
        "optimizer = tf.keras.optimizers.Adam(0.001)\n",
        "model.compile(loss=\"categorical_crossentropy\", optimizer=optimizer, metrics = ['accuracy'] )\n",
        "\n",
        "history = model.fit(x = st_df,y = df_train_labels,validation_data=(st_df_test, df_test_labels), epochs=200,callbacks=[save], verbose=1, batch_size=192) "
      ],
      "execution_count": 194,
      "outputs": [
        {
          "output_type": "stream",
          "text": [
            "Epoch 1/200\n",
            "39/39 [==============================] - 36s 40ms/step - loss: 1.2698 - accuracy: 0.2435 - val_loss: 1.2775 - val_accuracy: 0.1897\n",
            "Epoch 2/200\n",
            "39/39 [==============================] - 1s 17ms/step - loss: 1.3222 - accuracy: 0.2424 - val_loss: 1.6721 - val_accuracy: 0.2548\n",
            "Epoch 3/200\n",
            "39/39 [==============================] - 1s 16ms/step - loss: 1.9559 - accuracy: 0.2542 - val_loss: 2.4671 - val_accuracy: 0.1666\n",
            "Epoch 4/200\n",
            "39/39 [==============================] - 1s 17ms/step - loss: 3.3294 - accuracy: 0.2033 - val_loss: 1.6086 - val_accuracy: 0.1323\n",
            "Epoch 5/200\n",
            "39/39 [==============================] - 1s 16ms/step - loss: 2.6408 - accuracy: 0.2106 - val_loss: 1.7454 - val_accuracy: 0.2464\n",
            "Epoch 6/200\n",
            "39/39 [==============================] - 1s 16ms/step - loss: 3.4387 - accuracy: 0.2002 - val_loss: 2.6195 - val_accuracy: 0.0842\n",
            "Epoch 7/200\n",
            "39/39 [==============================] - 1s 16ms/step - loss: 5.7972 - accuracy: 0.1717 - val_loss: 4.4367 - val_accuracy: 0.3210\n",
            "Epoch 8/200\n",
            "39/39 [==============================] - 1s 16ms/step - loss: 6.4673 - accuracy: 0.2091 - val_loss: 4.4556 - val_accuracy: 0.1211\n",
            "Epoch 9/200\n",
            "39/39 [==============================] - 1s 17ms/step - loss: 9.8304 - accuracy: 0.2305 - val_loss: 1.8343 - val_accuracy: 0.2735\n",
            "Epoch 10/200\n",
            "39/39 [==============================] - 1s 16ms/step - loss: 13.3273 - accuracy: 0.2298 - val_loss: 4.5097 - val_accuracy: 0.3074\n",
            "Epoch 11/200\n",
            "39/39 [==============================] - 1s 17ms/step - loss: 12.7886 - accuracy: 0.2200 - val_loss: 2.7270 - val_accuracy: 0.2389\n",
            "Epoch 12/200\n",
            "39/39 [==============================] - 1s 17ms/step - loss: 8.7552 - accuracy: 0.2149 - val_loss: 2.0075 - val_accuracy: 0.1412\n",
            "Epoch 13/200\n",
            "39/39 [==============================] - 1s 16ms/step - loss: 13.3231 - accuracy: 0.1938 - val_loss: 2.6229 - val_accuracy: 0.2660\n",
            "Epoch 14/200\n",
            "39/39 [==============================] - 1s 16ms/step - loss: 23.2883 - accuracy: 0.2152 - val_loss: 2.5358 - val_accuracy: 0.1184\n",
            "Epoch 15/200\n",
            "39/39 [==============================] - 1s 17ms/step - loss: 9.9392 - accuracy: 0.2050 - val_loss: 2.9405 - val_accuracy: 0.1768\n",
            "Epoch 16/200\n",
            "39/39 [==============================] - 1s 17ms/step - loss: 13.9418 - accuracy: 0.2043 - val_loss: 8.4505 - val_accuracy: 0.1805\n",
            "Epoch 17/200\n",
            "39/39 [==============================] - 1s 17ms/step - loss: 19.5617 - accuracy: 0.1727 - val_loss: 4.1125 - val_accuracy: 0.1585\n",
            "Epoch 18/200\n",
            "39/39 [==============================] - 1s 17ms/step - loss: 25.4696 - accuracy: 0.1892 - val_loss: 3.8993 - val_accuracy: 0.1004\n",
            "Epoch 19/200\n",
            "39/39 [==============================] - 1s 17ms/step - loss: 18.1080 - accuracy: 0.1440 - val_loss: 2.4154 - val_accuracy: 0.3906\n",
            "Epoch 20/200\n",
            "39/39 [==============================] - 1s 17ms/step - loss: 24.9511 - accuracy: 0.2151 - val_loss: 23.3474 - val_accuracy: 0.1683\n",
            "Epoch 21/200\n",
            "39/39 [==============================] - 1s 16ms/step - loss: 42.3590 - accuracy: 0.1950 - val_loss: 3.7089 - val_accuracy: 0.3207\n",
            "Epoch 22/200\n",
            "39/39 [==============================] - 1s 16ms/step - loss: 52.1534 - accuracy: 0.1931 - val_loss: 4.4242 - val_accuracy: 0.2389\n",
            "Epoch 23/200\n",
            "39/39 [==============================] - 1s 17ms/step - loss: 58.1206 - accuracy: 0.1719 - val_loss: 2.8397 - val_accuracy: 0.0967\n",
            "Epoch 24/200\n",
            "39/39 [==============================] - 1s 16ms/step - loss: 52.4261 - accuracy: 0.1905 - val_loss: 10.0100 - val_accuracy: 0.1537\n",
            "Epoch 25/200\n",
            "39/39 [==============================] - 1s 17ms/step - loss: 120.7082 - accuracy: 0.1576 - val_loss: 4.8590 - val_accuracy: 0.1452\n",
            "Epoch 26/200\n",
            "39/39 [==============================] - 1s 17ms/step - loss: 37.6877 - accuracy: 0.1569 - val_loss: 4.7913 - val_accuracy: 0.0920\n",
            "Epoch 27/200\n",
            "39/39 [==============================] - 1s 16ms/step - loss: 54.4287 - accuracy: 0.1723 - val_loss: 3.7903 - val_accuracy: 0.3814\n",
            "Epoch 28/200\n",
            "39/39 [==============================] - 1s 17ms/step - loss: 43.8515 - accuracy: 0.1937 - val_loss: 4.6248 - val_accuracy: 0.1588\n",
            "Epoch 29/200\n",
            "39/39 [==============================] - 1s 17ms/step - loss: 36.8120 - accuracy: 0.1684 - val_loss: 4.4109 - val_accuracy: 0.1999\n",
            "Epoch 30/200\n",
            "39/39 [==============================] - 1s 17ms/step - loss: 99.5191 - accuracy: 0.2034 - val_loss: 6.4708 - val_accuracy: 0.1598\n",
            "Epoch 31/200\n",
            "39/39 [==============================] - 1s 17ms/step - loss: 67.3414 - accuracy: 0.1819 - val_loss: 3.3940 - val_accuracy: 0.1744\n",
            "Epoch 32/200\n",
            "39/39 [==============================] - 1s 17ms/step - loss: 72.5499 - accuracy: 0.2040 - val_loss: 4.3883 - val_accuracy: 0.1822\n",
            "Epoch 33/200\n",
            "39/39 [==============================] - 1s 17ms/step - loss: 74.5994 - accuracy: 0.2090 - val_loss: 7.8079 - val_accuracy: 0.1320\n",
            "Epoch 34/200\n",
            "39/39 [==============================] - 1s 17ms/step - loss: 136.1645 - accuracy: 0.1542 - val_loss: 2.9459 - val_accuracy: 0.2620\n",
            "Epoch 35/200\n",
            "39/39 [==============================] - 1s 16ms/step - loss: 60.7194 - accuracy: 0.1726 - val_loss: 7.7877 - val_accuracy: 0.3631\n",
            "Epoch 36/200\n",
            "39/39 [==============================] - 1s 17ms/step - loss: 134.8678 - accuracy: 0.2116 - val_loss: 6.1120 - val_accuracy: 0.1958\n",
            "Epoch 37/200\n",
            "39/39 [==============================] - 1s 17ms/step - loss: 155.9241 - accuracy: 0.1965 - val_loss: 5.8731 - val_accuracy: 0.2307\n",
            "Epoch 38/200\n",
            "39/39 [==============================] - 1s 16ms/step - loss: 38.9890 - accuracy: 0.1892 - val_loss: 4.7509 - val_accuracy: 0.3006\n",
            "Epoch 39/200\n",
            "39/39 [==============================] - 1s 17ms/step - loss: 68.9479 - accuracy: 0.2013 - val_loss: 7.3387 - val_accuracy: 0.2474\n",
            "Epoch 40/200\n",
            "39/39 [==============================] - 1s 17ms/step - loss: 40.4440 - accuracy: 0.1946 - val_loss: 3.2523 - val_accuracy: 0.3784\n",
            "Epoch 41/200\n",
            "39/39 [==============================] - 1s 17ms/step - loss: 59.3507 - accuracy: 0.2003 - val_loss: 12.2572 - val_accuracy: 0.0984\n",
            "Epoch 42/200\n",
            "39/39 [==============================] - 1s 16ms/step - loss: 42.6463 - accuracy: 0.1691 - val_loss: 8.4740 - val_accuracy: 0.1880\n",
            "Epoch 43/200\n",
            "39/39 [==============================] - 1s 17ms/step - loss: 40.7288 - accuracy: 0.2024 - val_loss: 17.6200 - val_accuracy: 0.1798\n",
            "Epoch 44/200\n",
            "39/39 [==============================] - 1s 17ms/step - loss: 40.8063 - accuracy: 0.1899 - val_loss: 7.1662 - val_accuracy: 0.1466\n",
            "Epoch 45/200\n",
            "39/39 [==============================] - 1s 17ms/step - loss: 106.0483 - accuracy: 0.1938 - val_loss: 8.1788 - val_accuracy: 0.1300\n",
            "Epoch 46/200\n",
            "39/39 [==============================] - 1s 16ms/step - loss: 40.7236 - accuracy: 0.1725 - val_loss: 8.6956 - val_accuracy: 0.1547\n",
            "Epoch 47/200\n",
            "39/39 [==============================] - 1s 17ms/step - loss: 29.7943 - accuracy: 0.1837 - val_loss: 4.5405 - val_accuracy: 0.1384\n",
            "Epoch 48/200\n",
            "39/39 [==============================] - 1s 17ms/step - loss: 59.6615 - accuracy: 0.1849 - val_loss: 31.0446 - val_accuracy: 0.1683\n",
            "Epoch 49/200\n",
            "39/39 [==============================] - 1s 17ms/step - loss: 207.7472 - accuracy: 0.1671 - val_loss: 29.0665 - val_accuracy: 0.1476\n",
            "Epoch 50/200\n",
            "39/39 [==============================] - 1s 17ms/step - loss: 264.7045 - accuracy: 0.1676 - val_loss: 492.0438 - val_accuracy: 0.1344\n",
            "Epoch 51/200\n",
            "39/39 [==============================] - 1s 16ms/step - loss: 554.5907 - accuracy: 0.1762 - val_loss: 53.3355 - val_accuracy: 0.1686\n",
            "Epoch 52/200\n",
            "39/39 [==============================] - 1s 17ms/step - loss: 325.0726 - accuracy: 0.1901 - val_loss: 73.0207 - val_accuracy: 0.0967\n",
            "Epoch 53/200\n",
            "39/39 [==============================] - 1s 17ms/step - loss: 452.7335 - accuracy: 0.1498 - val_loss: 37.2973 - val_accuracy: 0.1758\n",
            "Epoch 54/200\n",
            "39/39 [==============================] - 1s 17ms/step - loss: 344.4889 - accuracy: 0.1765 - val_loss: 112.3498 - val_accuracy: 0.1483\n",
            "Epoch 55/200\n",
            "39/39 [==============================] - 1s 16ms/step - loss: 290.5267 - accuracy: 0.1945 - val_loss: 69.0353 - val_accuracy: 0.1361\n",
            "Epoch 56/200\n",
            "39/39 [==============================] - 1s 17ms/step - loss: 508.9141 - accuracy: 0.1596 - val_loss: 107.9465 - val_accuracy: 0.0648\n",
            "Epoch 57/200\n",
            "39/39 [==============================] - 1s 16ms/step - loss: 440.7127 - accuracy: 0.1347 - val_loss: 144.9814 - val_accuracy: 0.1720\n",
            "Epoch 58/200\n",
            "39/39 [==============================] - 1s 16ms/step - loss: 591.2010 - accuracy: 0.1661 - val_loss: 121.8599 - val_accuracy: 0.1035\n",
            "Epoch 59/200\n",
            "39/39 [==============================] - 1s 17ms/step - loss: 422.8507 - accuracy: 0.1596 - val_loss: 50.8505 - val_accuracy: 0.0719\n",
            "Epoch 60/200\n",
            "39/39 [==============================] - 1s 16ms/step - loss: 750.8296 - accuracy: 0.1420 - val_loss: 103.8690 - val_accuracy: 0.1768\n",
            "Epoch 61/200\n",
            "39/39 [==============================] - 1s 17ms/step - loss: 477.6059 - accuracy: 0.1818 - val_loss: 49.0443 - val_accuracy: 0.1683\n",
            "Epoch 62/200\n",
            "39/39 [==============================] - 1s 17ms/step - loss: 618.0722 - accuracy: 0.1587 - val_loss: 178.8764 - val_accuracy: 0.2450\n",
            "Epoch 63/200\n",
            "39/39 [==============================] - 1s 16ms/step - loss: 498.1539 - accuracy: 0.1732 - val_loss: 155.6836 - val_accuracy: 0.0485\n",
            "Epoch 64/200\n",
            "39/39 [==============================] - 1s 17ms/step - loss: 600.4916 - accuracy: 0.1213 - val_loss: 38.2174 - val_accuracy: 0.1520\n",
            "Epoch 65/200\n",
            "39/39 [==============================] - 1s 17ms/step - loss: 766.1723 - accuracy: 0.1580 - val_loss: 63.1546 - val_accuracy: 0.1161\n",
            "Epoch 66/200\n",
            "39/39 [==============================] - 1s 17ms/step - loss: 480.7901 - accuracy: 0.1586 - val_loss: 71.3933 - val_accuracy: 0.1283\n",
            "Epoch 67/200\n",
            "39/39 [==============================] - 1s 17ms/step - loss: 211.8169 - accuracy: 0.1903 - val_loss: 44.8848 - val_accuracy: 0.1761\n",
            "Epoch 68/200\n",
            "39/39 [==============================] - 1s 17ms/step - loss: 230.1886 - accuracy: 0.2076 - val_loss: 12.2936 - val_accuracy: 0.1836\n",
            "Epoch 69/200\n",
            "39/39 [==============================] - 1s 17ms/step - loss: 309.2106 - accuracy: 0.1777 - val_loss: 94.8409 - val_accuracy: 0.1422\n",
            "Epoch 70/200\n",
            "39/39 [==============================] - 1s 17ms/step - loss: 614.3057 - accuracy: 0.1741 - val_loss: 40.0175 - val_accuracy: 0.1347\n",
            "Epoch 71/200\n",
            "39/39 [==============================] - 1s 17ms/step - loss: 298.3061 - accuracy: 0.1941 - val_loss: 16.1080 - val_accuracy: 0.3515\n",
            "Epoch 72/200\n",
            "39/39 [==============================] - 1s 17ms/step - loss: 180.1014 - accuracy: 0.1976 - val_loss: 14.2998 - val_accuracy: 0.1249\n",
            "Epoch 73/200\n",
            "39/39 [==============================] - 1s 17ms/step - loss: 442.7126 - accuracy: 0.1689 - val_loss: 61.5057 - val_accuracy: 0.2599\n",
            "Epoch 74/200\n",
            "39/39 [==============================] - 1s 16ms/step - loss: 527.9062 - accuracy: 0.1911 - val_loss: 21.9526 - val_accuracy: 0.1666\n",
            "Epoch 75/200\n",
            "39/39 [==============================] - 1s 17ms/step - loss: 726.8467 - accuracy: 0.1762 - val_loss: 79.1815 - val_accuracy: 0.1595\n",
            "Epoch 76/200\n",
            "39/39 [==============================] - 1s 17ms/step - loss: 530.4021 - accuracy: 0.1985 - val_loss: 8.3871 - val_accuracy: 0.1283\n",
            "Epoch 77/200\n",
            "39/39 [==============================] - 1s 17ms/step - loss: 656.0370 - accuracy: 0.1857 - val_loss: 16.8238 - val_accuracy: 0.1574\n",
            "Epoch 78/200\n",
            "39/39 [==============================] - 1s 17ms/step - loss: 460.2387 - accuracy: 0.2022 - val_loss: 26.8902 - val_accuracy: 0.1473\n",
            "Epoch 79/200\n",
            "39/39 [==============================] - 1s 17ms/step - loss: 354.7251 - accuracy: 0.1923 - val_loss: 21.9802 - val_accuracy: 0.1856\n",
            "Epoch 80/200\n",
            "39/39 [==============================] - 1s 17ms/step - loss: 438.0710 - accuracy: 0.1862 - val_loss: 19.5760 - val_accuracy: 0.1876\n",
            "Epoch 81/200\n",
            "39/39 [==============================] - 1s 17ms/step - loss: 411.0337 - accuracy: 0.1882 - val_loss: 15.3908 - val_accuracy: 0.1843\n",
            "Epoch 82/200\n",
            "39/39 [==============================] - 1s 17ms/step - loss: 322.0482 - accuracy: 0.2001 - val_loss: 5.7227 - val_accuracy: 0.3461\n",
            "Epoch 83/200\n",
            "39/39 [==============================] - 1s 17ms/step - loss: 377.7258 - accuracy: 0.1821 - val_loss: 15.6133 - val_accuracy: 0.1561\n",
            "Epoch 84/200\n",
            "39/39 [==============================] - 1s 17ms/step - loss: 261.7211 - accuracy: 0.1967 - val_loss: 11.1769 - val_accuracy: 0.1595\n",
            "Epoch 85/200\n",
            "39/39 [==============================] - 1s 17ms/step - loss: 253.2320 - accuracy: 0.2140 - val_loss: 25.2459 - val_accuracy: 0.1120\n",
            "Epoch 86/200\n",
            "39/39 [==============================] - 1s 17ms/step - loss: 499.3901 - accuracy: 0.1583 - val_loss: 66.7454 - val_accuracy: 0.3359\n",
            "Epoch 87/200\n",
            "39/39 [==============================] - 1s 17ms/step - loss: 249.4283 - accuracy: 0.1926 - val_loss: 28.8848 - val_accuracy: 0.1612\n",
            "Epoch 88/200\n",
            "39/39 [==============================] - 1s 17ms/step - loss: 407.0758 - accuracy: 0.1936 - val_loss: 105.6627 - val_accuracy: 0.2029\n",
            "Epoch 89/200\n",
            "39/39 [==============================] - 1s 17ms/step - loss: 666.5948 - accuracy: 0.2038 - val_loss: 61.6504 - val_accuracy: 0.1605\n",
            "Epoch 90/200\n",
            "39/39 [==============================] - 1s 17ms/step - loss: 321.9955 - accuracy: 0.1773 - val_loss: 30.3203 - val_accuracy: 0.1473\n",
            "Epoch 91/200\n",
            "39/39 [==============================] - 1s 17ms/step - loss: 441.5557 - accuracy: 0.1709 - val_loss: 35.7002 - val_accuracy: 0.3159\n",
            "Epoch 92/200\n",
            "39/39 [==============================] - 1s 17ms/step - loss: 285.8917 - accuracy: 0.1977 - val_loss: 137.7026 - val_accuracy: 0.1632\n",
            "Epoch 93/200\n",
            "39/39 [==============================] - 1s 17ms/step - loss: 464.3234 - accuracy: 0.1745 - val_loss: 28.2119 - val_accuracy: 0.1235\n",
            "Epoch 94/200\n",
            "39/39 [==============================] - 1s 17ms/step - loss: 479.9428 - accuracy: 0.1944 - val_loss: 29.1865 - val_accuracy: 0.2864\n",
            "Epoch 95/200\n",
            "39/39 [==============================] - 1s 17ms/step - loss: 407.6185 - accuracy: 0.2118 - val_loss: 114.8234 - val_accuracy: 0.1632\n",
            "Epoch 96/200\n",
            "39/39 [==============================] - 1s 17ms/step - loss: 281.8091 - accuracy: 0.1882 - val_loss: 30.8734 - val_accuracy: 0.1754\n",
            "Epoch 97/200\n",
            "39/39 [==============================] - 1s 16ms/step - loss: 463.1428 - accuracy: 0.2017 - val_loss: 128.4762 - val_accuracy: 0.1717\n",
            "Epoch 98/200\n",
            "39/39 [==============================] - 1s 17ms/step - loss: 792.5374 - accuracy: 0.2068 - val_loss: 57.6576 - val_accuracy: 0.2206\n",
            "Epoch 99/200\n",
            "39/39 [==============================] - 1s 17ms/step - loss: 462.9362 - accuracy: 0.1717 - val_loss: 4.7084 - val_accuracy: 0.0896\n",
            "Epoch 100/200\n",
            "39/39 [==============================] - 1s 17ms/step - loss: 376.4072 - accuracy: 0.1586 - val_loss: 65.4606 - val_accuracy: 0.1344\n",
            "Epoch 101/200\n",
            "39/39 [==============================] - 1s 17ms/step - loss: 501.8341 - accuracy: 0.1708 - val_loss: 84.9785 - val_accuracy: 0.1985\n",
            "Epoch 102/200\n",
            "39/39 [==============================] - 1s 17ms/step - loss: 525.9122 - accuracy: 0.1939 - val_loss: 61.4250 - val_accuracy: 0.1340\n",
            "Epoch 103/200\n",
            "39/39 [==============================] - 1s 17ms/step - loss: 438.8511 - accuracy: 0.1928 - val_loss: 10.5260 - val_accuracy: 0.3088\n",
            "Epoch 104/200\n",
            "39/39 [==============================] - 1s 17ms/step - loss: 736.3900 - accuracy: 0.1620 - val_loss: 11.4022 - val_accuracy: 0.1293\n",
            "Epoch 105/200\n",
            "39/39 [==============================] - 1s 17ms/step - loss: 539.2348 - accuracy: 0.1782 - val_loss: 15.5046 - val_accuracy: 0.1330\n",
            "Epoch 106/200\n",
            "39/39 [==============================] - 1s 17ms/step - loss: 366.7203 - accuracy: 0.1782 - val_loss: 57.2563 - val_accuracy: 0.1330\n",
            "Epoch 107/200\n",
            "39/39 [==============================] - 1s 18ms/step - loss: 400.5521 - accuracy: 0.1747 - val_loss: 7.5427 - val_accuracy: 0.2124\n",
            "Epoch 108/200\n",
            "39/39 [==============================] - 1s 17ms/step - loss: 535.4027 - accuracy: 0.2090 - val_loss: 20.8695 - val_accuracy: 0.1574\n",
            "Epoch 109/200\n",
            "39/39 [==============================] - 1s 17ms/step - loss: 277.1351 - accuracy: 0.2019 - val_loss: 7.0003 - val_accuracy: 0.1116\n",
            "Epoch 110/200\n",
            "39/39 [==============================] - 1s 17ms/step - loss: 306.3014 - accuracy: 0.1964 - val_loss: 32.9752 - val_accuracy: 0.1344\n",
            "Epoch 111/200\n",
            "39/39 [==============================] - 1s 17ms/step - loss: 902.1828 - accuracy: 0.1666 - val_loss: 20.8395 - val_accuracy: 0.2111\n",
            "Epoch 112/200\n",
            "39/39 [==============================] - 1s 17ms/step - loss: 495.7316 - accuracy: 0.1936 - val_loss: 20.4516 - val_accuracy: 0.1327\n",
            "Epoch 113/200\n",
            "39/39 [==============================] - 1s 17ms/step - loss: 304.7147 - accuracy: 0.1712 - val_loss: 105.9440 - val_accuracy: 0.3064\n",
            "Epoch 114/200\n",
            "39/39 [==============================] - 1s 17ms/step - loss: 967.0367 - accuracy: 0.1940 - val_loss: 57.7065 - val_accuracy: 0.2440\n",
            "Epoch 115/200\n",
            "39/39 [==============================] - 1s 17ms/step - loss: 1025.8883 - accuracy: 0.2078 - val_loss: 11.5951 - val_accuracy: 0.1395\n",
            "Epoch 116/200\n",
            "39/39 [==============================] - 1s 17ms/step - loss: 467.6613 - accuracy: 0.2103 - val_loss: 169.5182 - val_accuracy: 0.2145\n",
            "Epoch 117/200\n",
            "39/39 [==============================] - 1s 17ms/step - loss: 414.4377 - accuracy: 0.1968 - val_loss: 7.9505 - val_accuracy: 0.0960\n",
            "Epoch 118/200\n",
            "39/39 [==============================] - 1s 17ms/step - loss: 1035.4138 - accuracy: 0.1621 - val_loss: 100.9375 - val_accuracy: 0.1870\n",
            "Epoch 119/200\n",
            "39/39 [==============================] - 1s 17ms/step - loss: 438.3229 - accuracy: 0.2114 - val_loss: 35.1351 - val_accuracy: 0.1754\n",
            "Epoch 120/200\n",
            "39/39 [==============================] - 1s 17ms/step - loss: 589.8766 - accuracy: 0.1911 - val_loss: 21.0531 - val_accuracy: 0.1337\n",
            "Epoch 121/200\n",
            "39/39 [==============================] - 1s 17ms/step - loss: 609.8090 - accuracy: 0.1981 - val_loss: 9.6474 - val_accuracy: 0.0875\n",
            "Epoch 122/200\n",
            "39/39 [==============================] - 1s 17ms/step - loss: 883.9391 - accuracy: 0.1651 - val_loss: 159.1124 - val_accuracy: 0.2630\n",
            "Epoch 123/200\n",
            "39/39 [==============================] - 1s 17ms/step - loss: 1595.1724 - accuracy: 0.2178 - val_loss: 59.3487 - val_accuracy: 0.2518\n",
            "Epoch 124/200\n",
            "39/39 [==============================] - 1s 17ms/step - loss: 558.4171 - accuracy: 0.2033 - val_loss: 15.5734 - val_accuracy: 0.2399\n",
            "Epoch 125/200\n",
            "39/39 [==============================] - 1s 17ms/step - loss: 890.5380 - accuracy: 0.1987 - val_loss: 61.1515 - val_accuracy: 0.1683\n",
            "Epoch 126/200\n",
            "39/39 [==============================] - 1s 18ms/step - loss: 574.9570 - accuracy: 0.1799 - val_loss: 12.4997 - val_accuracy: 0.1239\n",
            "Epoch 127/200\n",
            "39/39 [==============================] - 1s 17ms/step - loss: 572.1248 - accuracy: 0.1673 - val_loss: 118.4531 - val_accuracy: 0.1924\n",
            "Epoch 128/200\n",
            "39/39 [==============================] - 1s 17ms/step - loss: 530.9908 - accuracy: 0.1851 - val_loss: 40.9251 - val_accuracy: 0.1276\n",
            "Epoch 129/200\n",
            "39/39 [==============================] - 1s 17ms/step - loss: 565.1656 - accuracy: 0.1687 - val_loss: 30.3110 - val_accuracy: 0.1802\n",
            "Epoch 130/200\n",
            "39/39 [==============================] - 1s 17ms/step - loss: 324.6465 - accuracy: 0.1893 - val_loss: 7.2929 - val_accuracy: 0.0886\n",
            "Epoch 131/200\n",
            "39/39 [==============================] - 1s 17ms/step - loss: 959.8958 - accuracy: 0.1806 - val_loss: 17.6549 - val_accuracy: 0.0855\n",
            "Epoch 132/200\n",
            "39/39 [==============================] - 1s 17ms/step - loss: 899.5948 - accuracy: 0.1810 - val_loss: 162.0704 - val_accuracy: 0.1924\n",
            "Epoch 133/200\n",
            "39/39 [==============================] - 1s 17ms/step - loss: 836.5428 - accuracy: 0.2036 - val_loss: 21.2165 - val_accuracy: 0.1659\n",
            "Epoch 134/200\n",
            "39/39 [==============================] - 1s 17ms/step - loss: 1288.8186 - accuracy: 0.1804 - val_loss: 28.8897 - val_accuracy: 0.1306\n",
            "Epoch 135/200\n",
            "39/39 [==============================] - 1s 17ms/step - loss: 584.6581 - accuracy: 0.1699 - val_loss: 57.7313 - val_accuracy: 0.1595\n",
            "Epoch 136/200\n",
            "39/39 [==============================] - 1s 17ms/step - loss: 855.6707 - accuracy: 0.1858 - val_loss: 32.8961 - val_accuracy: 0.1653\n",
            "Epoch 137/200\n",
            "39/39 [==============================] - 1s 17ms/step - loss: 672.5523 - accuracy: 0.1711 - val_loss: 88.8331 - val_accuracy: 0.2168\n",
            "Epoch 138/200\n",
            "39/39 [==============================] - 1s 16ms/step - loss: 747.0808 - accuracy: 0.2011 - val_loss: 17.4297 - val_accuracy: 0.1602\n",
            "Epoch 139/200\n",
            "39/39 [==============================] - 1s 17ms/step - loss: 635.5937 - accuracy: 0.1953 - val_loss: 28.4790 - val_accuracy: 0.2501\n",
            "Epoch 140/200\n",
            "39/39 [==============================] - 1s 17ms/step - loss: 484.5949 - accuracy: 0.2127 - val_loss: 11.4793 - val_accuracy: 0.1965\n",
            "Epoch 141/200\n",
            "39/39 [==============================] - 1s 17ms/step - loss: 274.5405 - accuracy: 0.1989 - val_loss: 96.0713 - val_accuracy: 0.2063\n",
            "Epoch 142/200\n",
            "39/39 [==============================] - 1s 18ms/step - loss: 1004.1858 - accuracy: 0.1846 - val_loss: 52.0101 - val_accuracy: 0.3353\n",
            "Epoch 143/200\n",
            "39/39 [==============================] - 1s 17ms/step - loss: 1030.3353 - accuracy: 0.2049 - val_loss: 19.8738 - val_accuracy: 0.1374\n",
            "Epoch 144/200\n",
            "39/39 [==============================] - 1s 17ms/step - loss: 892.3798 - accuracy: 0.2043 - val_loss: 57.6847 - val_accuracy: 0.1035\n",
            "Epoch 145/200\n",
            "39/39 [==============================] - 1s 17ms/step - loss: 454.6053 - accuracy: 0.1825 - val_loss: 24.3596 - val_accuracy: 0.2487\n",
            "Epoch 146/200\n",
            "39/39 [==============================] - 1s 17ms/step - loss: 388.7236 - accuracy: 0.1979 - val_loss: 13.5322 - val_accuracy: 0.1133\n",
            "Epoch 147/200\n",
            "39/39 [==============================] - 1s 17ms/step - loss: 883.6393 - accuracy: 0.1949 - val_loss: 48.3125 - val_accuracy: 0.2311\n",
            "Epoch 148/200\n",
            "39/39 [==============================] - 1s 17ms/step - loss: 1245.1694 - accuracy: 0.1887 - val_loss: 63.0472 - val_accuracy: 0.1802\n",
            "Epoch 149/200\n",
            "39/39 [==============================] - 1s 17ms/step - loss: 1019.9878 - accuracy: 0.1680 - val_loss: 11.5318 - val_accuracy: 0.1239\n",
            "Epoch 150/200\n",
            "39/39 [==============================] - 1s 17ms/step - loss: 664.6126 - accuracy: 0.1646 - val_loss: 8.8635 - val_accuracy: 0.1432\n",
            "Epoch 151/200\n",
            "39/39 [==============================] - 1s 17ms/step - loss: 793.0608 - accuracy: 0.1851 - val_loss: 34.8306 - val_accuracy: 0.3159\n",
            "Epoch 152/200\n",
            "39/39 [==============================] - 1s 17ms/step - loss: 880.2195 - accuracy: 0.2006 - val_loss: 139.9587 - val_accuracy: 0.1415\n",
            "Epoch 153/200\n",
            "39/39 [==============================] - 1s 17ms/step - loss: 959.2930 - accuracy: 0.1874 - val_loss: 25.2313 - val_accuracy: 0.1028\n",
            "Epoch 154/200\n",
            "21/39 [===============>..............] - ETA: 0s - loss: 1198.0168 - accuracy: 0.1541"
          ],
          "name": "stdout"
        },
        {
          "output_type": "error",
          "ename": "KeyboardInterrupt",
          "evalue": "ignored",
          "traceback": [
            "\u001b[0;31m---------------------------------------------------------------------------\u001b[0m",
            "\u001b[0;31mKeyboardInterrupt\u001b[0m                         Traceback (most recent call last)",
            "\u001b[0;32m<ipython-input-194-3d20128e33f6>\u001b[0m in \u001b[0;36m<module>\u001b[0;34m()\u001b[0m\n\u001b[1;32m      3\u001b[0m \u001b[0mmodel\u001b[0m\u001b[0;34m.\u001b[0m\u001b[0mcompile\u001b[0m\u001b[0;34m(\u001b[0m\u001b[0mloss\u001b[0m\u001b[0;34m=\u001b[0m\u001b[0;34m\"categorical_crossentropy\"\u001b[0m\u001b[0;34m,\u001b[0m \u001b[0moptimizer\u001b[0m\u001b[0;34m=\u001b[0m\u001b[0moptimizer\u001b[0m\u001b[0;34m,\u001b[0m \u001b[0mmetrics\u001b[0m \u001b[0;34m=\u001b[0m \u001b[0;34m[\u001b[0m\u001b[0;34m'accuracy'\u001b[0m\u001b[0;34m]\u001b[0m \u001b[0;34m)\u001b[0m\u001b[0;34m\u001b[0m\u001b[0;34m\u001b[0m\u001b[0m\n\u001b[1;32m      4\u001b[0m \u001b[0;34m\u001b[0m\u001b[0m\n\u001b[0;32m----> 5\u001b[0;31m \u001b[0mhistory\u001b[0m \u001b[0;34m=\u001b[0m \u001b[0mmodel\u001b[0m\u001b[0;34m.\u001b[0m\u001b[0mfit\u001b[0m\u001b[0;34m(\u001b[0m\u001b[0mx\u001b[0m \u001b[0;34m=\u001b[0m \u001b[0mst_df\u001b[0m\u001b[0;34m,\u001b[0m\u001b[0my\u001b[0m \u001b[0;34m=\u001b[0m \u001b[0mdf_train_labels\u001b[0m\u001b[0;34m,\u001b[0m\u001b[0mvalidation_data\u001b[0m\u001b[0;34m=\u001b[0m\u001b[0;34m(\u001b[0m\u001b[0mst_df_test\u001b[0m\u001b[0;34m,\u001b[0m \u001b[0mdf_test_labels\u001b[0m\u001b[0;34m)\u001b[0m\u001b[0;34m,\u001b[0m \u001b[0mepochs\u001b[0m\u001b[0;34m=\u001b[0m\u001b[0;36m200\u001b[0m\u001b[0;34m,\u001b[0m\u001b[0mcallbacks\u001b[0m\u001b[0;34m=\u001b[0m\u001b[0;34m[\u001b[0m\u001b[0msave\u001b[0m\u001b[0;34m]\u001b[0m\u001b[0;34m,\u001b[0m \u001b[0mverbose\u001b[0m\u001b[0;34m=\u001b[0m\u001b[0;36m1\u001b[0m\u001b[0;34m,\u001b[0m \u001b[0mbatch_size\u001b[0m\u001b[0;34m=\u001b[0m\u001b[0;36m192\u001b[0m\u001b[0;34m)\u001b[0m\u001b[0;34m\u001b[0m\u001b[0;34m\u001b[0m\u001b[0m\n\u001b[0m",
            "\u001b[0;32m/usr/local/lib/python3.7/dist-packages/tensorflow/python/keras/engine/training.py\u001b[0m in \u001b[0;36mfit\u001b[0;34m(self, x, y, batch_size, epochs, verbose, callbacks, validation_split, validation_data, shuffle, class_weight, sample_weight, initial_epoch, steps_per_epoch, validation_steps, validation_batch_size, validation_freq, max_queue_size, workers, use_multiprocessing)\u001b[0m\n\u001b[1;32m   1098\u001b[0m                 _r=1):\n\u001b[1;32m   1099\u001b[0m               \u001b[0mcallbacks\u001b[0m\u001b[0;34m.\u001b[0m\u001b[0mon_train_batch_begin\u001b[0m\u001b[0;34m(\u001b[0m\u001b[0mstep\u001b[0m\u001b[0;34m)\u001b[0m\u001b[0;34m\u001b[0m\u001b[0;34m\u001b[0m\u001b[0m\n\u001b[0;32m-> 1100\u001b[0;31m               \u001b[0mtmp_logs\u001b[0m \u001b[0;34m=\u001b[0m \u001b[0mself\u001b[0m\u001b[0;34m.\u001b[0m\u001b[0mtrain_function\u001b[0m\u001b[0;34m(\u001b[0m\u001b[0miterator\u001b[0m\u001b[0;34m)\u001b[0m\u001b[0;34m\u001b[0m\u001b[0;34m\u001b[0m\u001b[0m\n\u001b[0m\u001b[1;32m   1101\u001b[0m               \u001b[0;32mif\u001b[0m \u001b[0mdata_handler\u001b[0m\u001b[0;34m.\u001b[0m\u001b[0mshould_sync\u001b[0m\u001b[0;34m:\u001b[0m\u001b[0;34m\u001b[0m\u001b[0;34m\u001b[0m\u001b[0m\n\u001b[1;32m   1102\u001b[0m                 \u001b[0mcontext\u001b[0m\u001b[0;34m.\u001b[0m\u001b[0masync_wait\u001b[0m\u001b[0;34m(\u001b[0m\u001b[0;34m)\u001b[0m\u001b[0;34m\u001b[0m\u001b[0;34m\u001b[0m\u001b[0m\n",
            "\u001b[0;32m/usr/local/lib/python3.7/dist-packages/tensorflow/python/eager/def_function.py\u001b[0m in \u001b[0;36m__call__\u001b[0;34m(self, *args, **kwds)\u001b[0m\n\u001b[1;32m    826\u001b[0m     \u001b[0mtracing_count\u001b[0m \u001b[0;34m=\u001b[0m \u001b[0mself\u001b[0m\u001b[0;34m.\u001b[0m\u001b[0mexperimental_get_tracing_count\u001b[0m\u001b[0;34m(\u001b[0m\u001b[0;34m)\u001b[0m\u001b[0;34m\u001b[0m\u001b[0;34m\u001b[0m\u001b[0m\n\u001b[1;32m    827\u001b[0m     \u001b[0;32mwith\u001b[0m \u001b[0mtrace\u001b[0m\u001b[0;34m.\u001b[0m\u001b[0mTrace\u001b[0m\u001b[0;34m(\u001b[0m\u001b[0mself\u001b[0m\u001b[0;34m.\u001b[0m\u001b[0m_name\u001b[0m\u001b[0;34m)\u001b[0m \u001b[0;32mas\u001b[0m \u001b[0mtm\u001b[0m\u001b[0;34m:\u001b[0m\u001b[0;34m\u001b[0m\u001b[0;34m\u001b[0m\u001b[0m\n\u001b[0;32m--> 828\u001b[0;31m       \u001b[0mresult\u001b[0m \u001b[0;34m=\u001b[0m \u001b[0mself\u001b[0m\u001b[0;34m.\u001b[0m\u001b[0m_call\u001b[0m\u001b[0;34m(\u001b[0m\u001b[0;34m*\u001b[0m\u001b[0margs\u001b[0m\u001b[0;34m,\u001b[0m \u001b[0;34m**\u001b[0m\u001b[0mkwds\u001b[0m\u001b[0;34m)\u001b[0m\u001b[0;34m\u001b[0m\u001b[0;34m\u001b[0m\u001b[0m\n\u001b[0m\u001b[1;32m    829\u001b[0m       \u001b[0mcompiler\u001b[0m \u001b[0;34m=\u001b[0m \u001b[0;34m\"xla\"\u001b[0m \u001b[0;32mif\u001b[0m \u001b[0mself\u001b[0m\u001b[0;34m.\u001b[0m\u001b[0m_experimental_compile\u001b[0m \u001b[0;32melse\u001b[0m \u001b[0;34m\"nonXla\"\u001b[0m\u001b[0;34m\u001b[0m\u001b[0;34m\u001b[0m\u001b[0m\n\u001b[1;32m    830\u001b[0m       \u001b[0mnew_tracing_count\u001b[0m \u001b[0;34m=\u001b[0m \u001b[0mself\u001b[0m\u001b[0;34m.\u001b[0m\u001b[0mexperimental_get_tracing_count\u001b[0m\u001b[0;34m(\u001b[0m\u001b[0;34m)\u001b[0m\u001b[0;34m\u001b[0m\u001b[0;34m\u001b[0m\u001b[0m\n",
            "\u001b[0;32m/usr/local/lib/python3.7/dist-packages/tensorflow/python/eager/def_function.py\u001b[0m in \u001b[0;36m_call\u001b[0;34m(self, *args, **kwds)\u001b[0m\n\u001b[1;32m    853\u001b[0m       \u001b[0;31m# In this case we have created variables on the first call, so we run the\u001b[0m\u001b[0;34m\u001b[0m\u001b[0;34m\u001b[0m\u001b[0;34m\u001b[0m\u001b[0m\n\u001b[1;32m    854\u001b[0m       \u001b[0;31m# defunned version which is guaranteed to never create variables.\u001b[0m\u001b[0;34m\u001b[0m\u001b[0;34m\u001b[0m\u001b[0;34m\u001b[0m\u001b[0m\n\u001b[0;32m--> 855\u001b[0;31m       \u001b[0;32mreturn\u001b[0m \u001b[0mself\u001b[0m\u001b[0;34m.\u001b[0m\u001b[0m_stateless_fn\u001b[0m\u001b[0;34m(\u001b[0m\u001b[0;34m*\u001b[0m\u001b[0margs\u001b[0m\u001b[0;34m,\u001b[0m \u001b[0;34m**\u001b[0m\u001b[0mkwds\u001b[0m\u001b[0;34m)\u001b[0m  \u001b[0;31m# pylint: disable=not-callable\u001b[0m\u001b[0;34m\u001b[0m\u001b[0;34m\u001b[0m\u001b[0m\n\u001b[0m\u001b[1;32m    856\u001b[0m     \u001b[0;32melif\u001b[0m \u001b[0mself\u001b[0m\u001b[0;34m.\u001b[0m\u001b[0m_stateful_fn\u001b[0m \u001b[0;32mis\u001b[0m \u001b[0;32mnot\u001b[0m \u001b[0;32mNone\u001b[0m\u001b[0;34m:\u001b[0m\u001b[0;34m\u001b[0m\u001b[0;34m\u001b[0m\u001b[0m\n\u001b[1;32m    857\u001b[0m       \u001b[0;31m# Release the lock early so that multiple threads can perform the call\u001b[0m\u001b[0;34m\u001b[0m\u001b[0;34m\u001b[0m\u001b[0;34m\u001b[0m\u001b[0m\n",
            "\u001b[0;32m/usr/local/lib/python3.7/dist-packages/tensorflow/python/eager/function.py\u001b[0m in \u001b[0;36m__call__\u001b[0;34m(self, *args, **kwargs)\u001b[0m\n\u001b[1;32m   2941\u001b[0m        filtered_flat_args) = self._maybe_define_function(args, kwargs)\n\u001b[1;32m   2942\u001b[0m     return graph_function._call_flat(\n\u001b[0;32m-> 2943\u001b[0;31m         filtered_flat_args, captured_inputs=graph_function.captured_inputs)  # pylint: disable=protected-access\n\u001b[0m\u001b[1;32m   2944\u001b[0m \u001b[0;34m\u001b[0m\u001b[0m\n\u001b[1;32m   2945\u001b[0m   \u001b[0;34m@\u001b[0m\u001b[0mproperty\u001b[0m\u001b[0;34m\u001b[0m\u001b[0;34m\u001b[0m\u001b[0m\n",
            "\u001b[0;32m/usr/local/lib/python3.7/dist-packages/tensorflow/python/eager/function.py\u001b[0m in \u001b[0;36m_call_flat\u001b[0;34m(self, args, captured_inputs, cancellation_manager)\u001b[0m\n\u001b[1;32m   1917\u001b[0m       \u001b[0;31m# No tape is watching; skip to running the function.\u001b[0m\u001b[0;34m\u001b[0m\u001b[0;34m\u001b[0m\u001b[0;34m\u001b[0m\u001b[0m\n\u001b[1;32m   1918\u001b[0m       return self._build_call_outputs(self._inference_function.call(\n\u001b[0;32m-> 1919\u001b[0;31m           ctx, args, cancellation_manager=cancellation_manager))\n\u001b[0m\u001b[1;32m   1920\u001b[0m     forward_backward = self._select_forward_and_backward_functions(\n\u001b[1;32m   1921\u001b[0m         \u001b[0margs\u001b[0m\u001b[0;34m,\u001b[0m\u001b[0;34m\u001b[0m\u001b[0;34m\u001b[0m\u001b[0m\n",
            "\u001b[0;32m/usr/local/lib/python3.7/dist-packages/tensorflow/python/eager/function.py\u001b[0m in \u001b[0;36mcall\u001b[0;34m(self, ctx, args, cancellation_manager)\u001b[0m\n\u001b[1;32m    558\u001b[0m               \u001b[0minputs\u001b[0m\u001b[0;34m=\u001b[0m\u001b[0margs\u001b[0m\u001b[0;34m,\u001b[0m\u001b[0;34m\u001b[0m\u001b[0;34m\u001b[0m\u001b[0m\n\u001b[1;32m    559\u001b[0m               \u001b[0mattrs\u001b[0m\u001b[0;34m=\u001b[0m\u001b[0mattrs\u001b[0m\u001b[0;34m,\u001b[0m\u001b[0;34m\u001b[0m\u001b[0;34m\u001b[0m\u001b[0m\n\u001b[0;32m--> 560\u001b[0;31m               ctx=ctx)\n\u001b[0m\u001b[1;32m    561\u001b[0m         \u001b[0;32melse\u001b[0m\u001b[0;34m:\u001b[0m\u001b[0;34m\u001b[0m\u001b[0;34m\u001b[0m\u001b[0m\n\u001b[1;32m    562\u001b[0m           outputs = execute.execute_with_cancellation(\n",
            "\u001b[0;32m/usr/local/lib/python3.7/dist-packages/tensorflow/python/eager/execute.py\u001b[0m in \u001b[0;36mquick_execute\u001b[0;34m(op_name, num_outputs, inputs, attrs, ctx, name)\u001b[0m\n\u001b[1;32m     58\u001b[0m     \u001b[0mctx\u001b[0m\u001b[0;34m.\u001b[0m\u001b[0mensure_initialized\u001b[0m\u001b[0;34m(\u001b[0m\u001b[0;34m)\u001b[0m\u001b[0;34m\u001b[0m\u001b[0;34m\u001b[0m\u001b[0m\n\u001b[1;32m     59\u001b[0m     tensors = pywrap_tfe.TFE_Py_Execute(ctx._handle, device_name, op_name,\n\u001b[0;32m---> 60\u001b[0;31m                                         inputs, attrs, num_outputs)\n\u001b[0m\u001b[1;32m     61\u001b[0m   \u001b[0;32mexcept\u001b[0m \u001b[0mcore\u001b[0m\u001b[0;34m.\u001b[0m\u001b[0m_NotOkStatusException\u001b[0m \u001b[0;32mas\u001b[0m \u001b[0me\u001b[0m\u001b[0;34m:\u001b[0m\u001b[0;34m\u001b[0m\u001b[0;34m\u001b[0m\u001b[0m\n\u001b[1;32m     62\u001b[0m     \u001b[0;32mif\u001b[0m \u001b[0mname\u001b[0m \u001b[0;32mis\u001b[0m \u001b[0;32mnot\u001b[0m \u001b[0;32mNone\u001b[0m\u001b[0;34m:\u001b[0m\u001b[0;34m\u001b[0m\u001b[0;34m\u001b[0m\u001b[0m\n",
            "\u001b[0;31mKeyboardInterrupt\u001b[0m: "
          ]
        }
      ]
    },
    {
      "cell_type": "code",
      "metadata": {
        "id": "mltivHrIhBoR"
      },
      "source": [
        "import matplotlib.pyplot as plt\n",
        "m_acc = history.history['accuracy']\n",
        "fig, ax = plt.subplots(figsize = (15,5))\n",
        "ax.plot(m_acc, color = 'r')\n",
        "ax.plot(history.history['val_accuracy'], color = 'b')\n",
        "# plt.legend()"
      ],
      "execution_count": null,
      "outputs": []
    },
    {
      "cell_type": "code",
      "metadata": {
        "id": "6sDuiZQOhEEI"
      },
      "source": [
        "loss = history.history['loss']\n",
        "fig, ax = plt.subplots(figsize = (15,5))\n",
        "ax.plot(loss, color = 'r')\n",
        "ax.plot(history.history['val_loss'], color = 'b')"
      ],
      "execution_count": null,
      "outputs": []
    }
  ]
}