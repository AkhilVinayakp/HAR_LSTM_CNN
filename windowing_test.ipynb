{
  "nbformat": 4,
  "nbformat_minor": 0,
  "metadata": {
    "kernelspec": {
      "display_name": "Python 3",
      "language": "python",
      "name": "python3"
    },
    "language_info": {
      "codemirror_mode": {
        "name": "ipython",
        "version": 3
      },
      "file_extension": ".py",
      "mimetype": "text/x-python",
      "name": "python",
      "nbconvert_exporter": "python",
      "pygments_lexer": "ipython3",
      "version": "3.8.3"
    },
    "colab": {
      "name": "windowing_test.ipynb",
      "provenance": []
    }
  },
  "cells": [
    {
      "cell_type": "code",
      "metadata": {
        "id": "gOEpv3Yt9Cin"
      },
      "source": [
        "import tensorflow as tf\r\n",
        "import pandas as pd\r\n",
        "import numpy as np\r\n",
        "import matplotlib.pyplot as plt"
      ],
      "execution_count": 4,
      "outputs": []
    },
    {
      "cell_type": "code",
      "metadata": {
        "id": "RLCpwkDm9Ki8"
      },
      "source": [
        ""
      ],
      "execution_count": null,
      "outputs": []
    },
    {
      "cell_type": "code",
      "metadata": {
        "id": "t32vYa2L9O6a",
        "outputId": "db772ce8-ca70-425e-ae6d-315cad971ba8",
        "colab": {
          "base_uri": "https://localhost:8080/"
        }
      },
      "source": [
        "from google.colab import drive\n",
        "drive.mount('/content/drive')"
      ],
      "execution_count": 1,
      "outputs": [
        {
          "output_type": "stream",
          "text": [
            "Mounted at /content/drive\n"
          ],
          "name": "stdout"
        }
      ]
    },
    {
      "cell_type": "code",
      "metadata": {
        "id": "zAktdhGy9Ycf",
        "outputId": "4ce9f93e-bd99-4b39-bf2c-a1dec84193e1",
        "colab": {
          "base_uri": "https://localhost:8080/",
          "height": 54
        }
      },
      "source": [
        "%cd /content/drive/My\\ Drive/datasets \r\n",
        "%pwd"
      ],
      "execution_count": 2,
      "outputs": [
        {
          "output_type": "stream",
          "text": [
            "/content/drive/My Drive/datasets\n"
          ],
          "name": "stdout"
        },
        {
          "output_type": "execute_result",
          "data": {
            "application/vnd.google.colaboratory.intrinsic+json": {
              "type": "string"
            },
            "text/plain": [
              "'/content/drive/My Drive/datasets'"
            ]
          },
          "metadata": {
            "tags": []
          },
          "execution_count": 2
        }
      ]
    },
    {
      "cell_type": "code",
      "metadata": {
        "id": "YUYWik4x9tH6"
      },
      "source": [
        "df =  pd.read_csv('mini.csv')"
      ],
      "execution_count": 5,
      "outputs": []
    },
    {
      "cell_type": "code",
      "metadata": {
        "id": "60F3VNtY9zrp",
        "outputId": "536115de-821b-4bb0-95e4-d4a2ac7dfc5b",
        "colab": {
          "base_uri": "https://localhost:8080/",
          "height": 206
        }
      },
      "source": [
        "df.head()"
      ],
      "execution_count": 6,
      "outputs": [
        {
          "output_type": "execute_result",
          "data": {
            "text/html": [
              "<div>\n",
              "<style scoped>\n",
              "    .dataframe tbody tr th:only-of-type {\n",
              "        vertical-align: middle;\n",
              "    }\n",
              "\n",
              "    .dataframe tbody tr th {\n",
              "        vertical-align: top;\n",
              "    }\n",
              "\n",
              "    .dataframe thead th {\n",
              "        text-align: right;\n",
              "    }\n",
              "</style>\n",
              "<table border=\"1\" class=\"dataframe\">\n",
              "  <thead>\n",
              "    <tr style=\"text-align: right;\">\n",
              "      <th></th>\n",
              "      <th>user</th>\n",
              "      <th>activity</th>\n",
              "      <th>x-axis</th>\n",
              "      <th>y-axis</th>\n",
              "      <th>z-axis</th>\n",
              "    </tr>\n",
              "  </thead>\n",
              "  <tbody>\n",
              "    <tr>\n",
              "      <th>0</th>\n",
              "      <td>14</td>\n",
              "      <td>Downstairs</td>\n",
              "      <td>17.97</td>\n",
              "      <td>19.50</td>\n",
              "      <td>-4.40</td>\n",
              "    </tr>\n",
              "    <tr>\n",
              "      <th>1</th>\n",
              "      <td>7</td>\n",
              "      <td>Upstairs</td>\n",
              "      <td>2.91</td>\n",
              "      <td>5.60</td>\n",
              "      <td>-1.04</td>\n",
              "    </tr>\n",
              "    <tr>\n",
              "      <th>2</th>\n",
              "      <td>29</td>\n",
              "      <td>Jogging</td>\n",
              "      <td>0.00</td>\n",
              "      <td>0.00</td>\n",
              "      <td>0.00</td>\n",
              "    </tr>\n",
              "    <tr>\n",
              "      <th>3</th>\n",
              "      <td>15</td>\n",
              "      <td>Jogging</td>\n",
              "      <td>0.00</td>\n",
              "      <td>0.00</td>\n",
              "      <td>0.00</td>\n",
              "    </tr>\n",
              "    <tr>\n",
              "      <th>4</th>\n",
              "      <td>8</td>\n",
              "      <td>Jogging</td>\n",
              "      <td>-1.54</td>\n",
              "      <td>-8.73</td>\n",
              "      <td>-8.62</td>\n",
              "    </tr>\n",
              "  </tbody>\n",
              "</table>\n",
              "</div>"
            ],
            "text/plain": [
              "   user    activity  x-axis  y-axis  z-axis\n",
              "0    14  Downstairs   17.97   19.50   -4.40\n",
              "1     7    Upstairs    2.91    5.60   -1.04\n",
              "2    29     Jogging    0.00    0.00    0.00\n",
              "3    15     Jogging    0.00    0.00    0.00\n",
              "4     8     Jogging   -1.54   -8.73   -8.62"
            ]
          },
          "metadata": {
            "tags": []
          },
          "execution_count": 6
        }
      ]
    },
    {
      "cell_type": "code",
      "metadata": {
        "id": "C7SpLfe3-hfj"
      },
      "source": [
        "series = df.values"
      ],
      "execution_count": 9,
      "outputs": []
    },
    {
      "cell_type": "code",
      "metadata": {
        "id": "HrSsPBAc-hmz",
        "outputId": "073885ba-2bf4-4bf4-f9f7-48fe62825370",
        "colab": {
          "base_uri": "https://localhost:8080/"
        }
      },
      "source": [
        "series.shape"
      ],
      "execution_count": 10,
      "outputs": [
        {
          "output_type": "execute_result",
          "data": {
            "text/plain": [
              "(110, 5)"
            ]
          },
          "metadata": {
            "tags": []
          },
          "execution_count": 10
        }
      ]
    },
    {
      "cell_type": "code",
      "metadata": {
        "id": "kR21W6vqGpWW",
        "outputId": "6311e568-1787-43b7-f771-42031fe412a6",
        "colab": {
          "base_uri": "https://localhost:8080/"
        }
      },
      "source": [
        "series"
      ],
      "execution_count": 47,
      "outputs": [
        {
          "output_type": "execute_result",
          "data": {
            "text/plain": [
              "array([[14, 'Downstairs', 17.97, 19.5, -4.4],\n",
              "       [7, 'Upstairs', 2.91, 5.6, -1.04],\n",
              "       [29, 'Jogging', 0.0, 0.0, 0.0],\n",
              "       [15, 'Jogging', 0.0, 0.0, 0.0],\n",
              "       [8, 'Jogging', -1.54, -8.73, -8.62],\n",
              "       [19, 'Jogging', -6.24, -4.29, 4.99],\n",
              "       [18, 'Sitting', 5.43, 1.76, 8.39],\n",
              "       [30, 'Upstairs', 9.72, 1.14, 0.34],\n",
              "       [28, 'Walking', 2.72, 7.35, 3.2552630000000002],\n",
              "       [35, 'Walking', 1.14, 9.7, 2.8738932999999998],\n",
              "       [19, 'Walking', -2.45, 6.36, -0.5],\n",
              "       [20, 'Jogging', 0.0, 0.0, 0.0],\n",
              "       [1, 'Jogging', 14.82, 1.14, 5.52],\n",
              "       [10, 'Upstairs', -5.28, 18.47, 5.94],\n",
              "       [32, 'Jogging', 0.0, 0.0, 0.0],\n",
              "       [33, 'Jogging', 5.625203599999999, 9.084772, 6.633109599999999],\n",
              "       [26, 'Walking', 13.59, 3.64, -2.56],\n",
              "       [26, 'Jogging', 9.38, -0.99, -6.05],\n",
              "       [22, 'Walking', -0.69, 15.89, 0.72],\n",
              "       [14, 'Downstairs', -3.3, 15.43, -3.26],\n",
              "       [19, 'Upstairs', -12.72, 8.62, 1.84],\n",
              "       [6, 'Downstairs', 9.15, 12.22, -0.61291564],\n",
              "       [1, 'Jogging', -3.17, -3.06, -3.3],\n",
              "       [14, 'Jogging', 6.66, -3.72, -0.61],\n",
              "       [7, 'Sitting', -5.56, -3.45, 7.35],\n",
              "       [25, 'Walking', 3.53, 5.43, -2.37],\n",
              "       [20, 'Walking', -5.63, 10.31, -3.6366330000000002],\n",
              "       [6, 'Walking', 4.75, 6.51, -1.8387468999999996],\n",
              "       [7, 'Walking', 5.33, 6.36, -1.69],\n",
              "       [7, 'Upstairs', 8.39, 5.22, -0.84],\n",
              "       [33, 'Walking', -1.46, 9.96, 2.070293],\n",
              "       [17, 'Walking', 1.08, 4.94, 1.23],\n",
              "       [36, 'Downstairs', -0.11, 8.73, 1.334794],\n",
              "       [26, 'Walking', 4.86, 9.19, -3.79],\n",
              "       [21, 'Walking', 1.14, 7.06, 1.61],\n",
              "       [7, 'Jogging', -19.08, 19.72, 3.41],\n",
              "       [32, 'Upstairs', -0.04, 9.34, -1.1441092],\n",
              "       [14, 'Walking', -3.95, 11.03, 3.6],\n",
              "       [6, 'Jogging', 16.86, 0.34, -4.2086873],\n",
              "       [14, 'Jogging', 4.86, 2.41, 1.69],\n",
              "       [20, 'Walking', 8.62, 8.62, -1.2666923],\n",
              "       [26, 'Jogging', -0.3, 1.92, -1.57],\n",
              "       [29, 'Walking', 6.13, 5.18, 1.607201],\n",
              "       [36, 'Walking', -0.08, 3.79, 2.152015],\n",
              "       [32, 'Walking', -3.17, -1.84, -4.440233],\n",
              "       [32, 'Walking', -6.51, 12.07, -3.0237172],\n",
              "       [18, 'Jogging', -3.34, 5.37, -1.3075534],\n",
              "       [22, 'Downstairs', -1.12, 18.35, -5.56],\n",
              "       [16, 'Sitting', 5.52, 2.49, 8.2],\n",
              "       [35, 'Jogging', 1.8, -2.68, -2.4925237],\n",
              "       [34, 'Walking', -0.61, 0.72, -2.6],\n",
              "       [15, 'Jogging', 12.3, 19.42, -0.61291564],\n",
              "       [20, 'Sitting', -4.29, 3.99, 8.05],\n",
              "       [36, 'Standing', -0.53, 9.43, 3.0645783],\n",
              "       [28, 'Standing', 1.42, 9.96, 1.1441092],\n",
              "       [26, 'Walking', 6.21, 11.22, 11.22],\n",
              "       [29, 'Downstairs', -5.63, 7.67, 1.4165162],\n",
              "       [15, 'Walking', -1.08, 6.59, 7.164303],\n",
              "       [36, 'Jogging', 4.14, -3.26, -3.4050870000000004],\n",
              "       [8, 'Jogging', 19.7, 12.68, -2.98],\n",
              "       [8, 'Walking', 3.72, 10.46, -0.42],\n",
              "       [27, 'Walking', 1.18, 5.24, -1.607201],\n",
              "       [13, 'Walking', 1.18, 12.83, 5.325556],\n",
              "       [11, 'Jogging', -1.33, 2.26, 1.69],\n",
              "       [20, 'Sitting', -0.42, 5.05, 9.28],\n",
              "       [26, 'Jogging', -5.94, 9.28, 0.8],\n",
              "       [14, 'Upstairs', 12.72, 9.47, 6.44],\n",
              "       [31, 'Jogging', -2.87, 3.95, 0.57],\n",
              "       [15, 'Walking', 3.79, 7.5, -1.7297841],\n",
              "       [18, 'Walking', 6.78, 10.76, -0.50395286],\n",
              "       [36, 'Walking', -1.5, 5.6, 0.7627395],\n",
              "       [15, 'Upstairs', -3.17, 5.9, 1.0760075],\n",
              "       [9, 'Walking', 13.76, 2.98, 1.57],\n",
              "       [9, 'Walking', 2.53, 16.02, 1.04],\n",
              "       [17, 'Jogging', 1.7570249, 11.413852, 4.2086873],\n",
              "       [12, 'Jogging', 9.49, 11.11, -3.79],\n",
              "       [8, 'Walking', 3.68, 6.28, 0.19],\n",
              "       [28, 'Walking', 3.76, 13.25, 2.5333846],\n",
              "       [20, 'Upstairs', 4.06, 12.83, 8.349273],\n",
              "       [32, 'Walking', -3.98, 0.65, -4.0180025000000015],\n",
              "       [10, 'Downstairs', -6.09, 15.66, -0.84],\n",
              "       [3, 'Downstairs', -8.73, 3.95, 5.18],\n",
              "       [32, 'Walking', 7.59, 10.19, 3.5957718],\n",
              "       [29, 'Jogging', 0.31, 0.99, 0.42223078],\n",
              "       [20, 'Walking', 2.96, 14.25, -1.7978859],\n",
              "       [12, 'Jogging', 8.08, 18.92, -4.75],\n",
              "       [18, 'Walking', 2.64, 7.74, 0.8036005],\n",
              "       [19, 'Walking', -14.29, 15.02, 8.92],\n",
              "       [1, 'Jogging', -14.14, -9.49, -5.24],\n",
              "       [19, 'Jogging', -6.55, -2.56, 0.89],\n",
              "       [8, 'Upstairs', 4.48, 13.63, 2.6],\n",
              "       [19, 'Standing', -5.18, 8.08, -1.42],\n",
              "       [12, 'Jogging', 0.34, 1.04, 3.02],\n",
              "       [24, 'Jogging', -19.04, 5.05, 4.02],\n",
              "       [16, 'Walking', 6.51, 4.1, -3.4459480000000005],\n",
              "       [20, 'Upstairs', 0.8, 2.83, 2.2609777],\n",
              "       [33, 'Sitting', 5.9, 2.49, 7.78],\n",
              "       [27, 'Walking', 7.74, 6.36, 3.4868089999999996],\n",
              "       [8, 'Walking', 10.61, 8.01, -1.27],\n",
              "       [5, 'Upstairs', 2.64, 13.21, 0.7627395],\n",
              "       [7, 'Jogging', -15.28, 15.98, -14.48],\n",
              "       [19, 'Standing', -5.6, 7.82, -1.23],\n",
              "       [3, 'Jogging', -17.69, 5.48, 8.47],\n",
              "       [27, 'Standing', 0.93, 10.0, -1.2258313],\n",
              "       [30, 'Walking', -4.52, 11.11, -13.53],\n",
              "       [23, 'Downstairs', 4.79, 9.53, -0.11],\n",
              "       [31, 'Downstairs', -1.38, 8.12, 2.91],\n",
              "       [14, 'Jogging', 11.6, 12.18, -1.46],\n",
              "       [19, 'Walking', 14.1, 5.67, -0.23],\n",
              "       [8, 'Walking', 3.45, 6.47, -2.53]], dtype=object)"
            ]
          },
          "metadata": {
            "tags": []
          },
          "execution_count": 47
        }
      ]
    },
    {
      "cell_type": "code",
      "metadata": {
        "id": "5hzS8jMK-hth"
      },
      "source": [
        "sr = np.arange(0,50)\r\n",
        "sr = sr.reshape(10,5)"
      ],
      "execution_count": 31,
      "outputs": []
    },
    {
      "cell_type": "code",
      "metadata": {
        "id": "NnGx6Q0sArqR",
        "outputId": "b9e4b72b-f4a4-4f19-f267-f386c80994c7",
        "colab": {
          "base_uri": "https://localhost:8080/"
        }
      },
      "source": [
        "sr"
      ],
      "execution_count": 32,
      "outputs": [
        {
          "output_type": "execute_result",
          "data": {
            "text/plain": [
              "array([[ 0,  1,  2,  3,  4],\n",
              "       [ 5,  6,  7,  8,  9],\n",
              "       [10, 11, 12, 13, 14],\n",
              "       [15, 16, 17, 18, 19],\n",
              "       [20, 21, 22, 23, 24],\n",
              "       [25, 26, 27, 28, 29],\n",
              "       [30, 31, 32, 33, 34],\n",
              "       [35, 36, 37, 38, 39],\n",
              "       [40, 41, 42, 43, 44],\n",
              "       [45, 46, 47, 48, 49]])"
            ]
          },
          "metadata": {
            "tags": []
          },
          "execution_count": 32
        }
      ]
    },
    {
      "cell_type": "code",
      "metadata": {
        "id": "wZ1oa2c496aJ"
      },
      "source": [
        "def windowed_dataset(series, window_size,shift_size, batch_size,shuffle_buffer):\r\n",
        "  dataset = tf.data.Dataset.from_tensor_slices(series)\r\n",
        "  dataset = dataset.window(window_size +1, shift = shift_size, drop_remainder = True)\r\n",
        "  dataset = dataset.flat_map(lambda window: window.batch(window_size+1))\r\n",
        "  dataset = dataset.shuffle(shuffle_buffer).map(lambda window :  (window[:-1], window[-1]))\r\n",
        "  dataset = dataset.batch(batch_size).prefetch(1)\r\n",
        "  return dataset"
      ],
      "execution_count": 7,
      "outputs": []
    },
    {
      "cell_type": "code",
      "metadata": {
        "id": "kSmL7CHh-KWZ",
        "outputId": "575497af-f0eb-4c16-b469-162e173497ef",
        "colab": {
          "base_uri": "https://localhost:8080/"
        }
      },
      "source": [
        "# the data often load as batches\r\n",
        "# batches can be created by using batch() method\r\n",
        "dataset = tf.data.Dataset.range(50)\r\n",
        "dataset = dataset.window(6,shift=3, drop_remainder=True)\r\n",
        "dataset = dataset.flat_map(lambda window : window.batch(6))\r\n",
        "dataset =  dataset.map(lambda window: (window[:-1],window[-1:]))\r\n",
        "# shuffling the values\r\n",
        "# dataset = dataset.shuffle(buffer_size=40)\r\n",
        "# creating the batches\r\n",
        "# dataset = dataset.batch(2).prefetch(1) # the value of prefetch ?\r\n",
        "# printing out the data\r\n",
        "for x, y in dataset:\r\n",
        "  print(\"x = \", x.numpy())\r\n",
        "  print(\"y = \", y.numpy())"
      ],
      "execution_count": 18,
      "outputs": [
        {
          "output_type": "stream",
          "text": [
            "x =  [0 1 2 3 4]\n",
            "y =  [5]\n",
            "x =  [3 4 5 6 7]\n",
            "y =  [8]\n",
            "x =  [ 6  7  8  9 10]\n",
            "y =  [11]\n",
            "x =  [ 9 10 11 12 13]\n",
            "y =  [14]\n",
            "x =  [12 13 14 15 16]\n",
            "y =  [17]\n",
            "x =  [15 16 17 18 19]\n",
            "y =  [20]\n",
            "x =  [18 19 20 21 22]\n",
            "y =  [23]\n",
            "x =  [21 22 23 24 25]\n",
            "y =  [26]\n",
            "x =  [24 25 26 27 28]\n",
            "y =  [29]\n",
            "x =  [27 28 29 30 31]\n",
            "y =  [32]\n",
            "x =  [30 31 32 33 34]\n",
            "y =  [35]\n",
            "x =  [33 34 35 36 37]\n",
            "y =  [38]\n",
            "x =  [36 37 38 39 40]\n",
            "y =  [41]\n",
            "x =  [39 40 41 42 43]\n",
            "y =  [44]\n",
            "x =  [42 43 44 45 46]\n",
            "y =  [47]\n"
          ],
          "name": "stdout"
        }
      ]
    },
    {
      "cell_type": "code",
      "metadata": {
        "id": "GDScxiSz-QeJ",
        "outputId": "c68cbe55-a4b6-4027-e80c-15786c7e3b2a",
        "colab": {
          "base_uri": "https://localhost:8080/"
        }
      },
      "source": [
        "dataset = tf.data.Dataset.from_tensor_slices(sr)\r\n",
        "dataset = dataset.window(4,2, drop_remainder= True)\r\n",
        "for window_data in dataset:\r\n",
        "  for val in window_data:\r\n",
        "    print(val.numpy())\r\n",
        "  print()"
      ],
      "execution_count": 34,
      "outputs": [
        {
          "output_type": "stream",
          "text": [
            "[0 1 2 3 4]\n",
            "[5 6 7 8 9]\n",
            "[10 11 12 13 14]\n",
            "[15 16 17 18 19]\n",
            "\n",
            "[10 11 12 13 14]\n",
            "[15 16 17 18 19]\n",
            "[20 21 22 23 24]\n",
            "[25 26 27 28 29]\n",
            "\n",
            "[20 21 22 23 24]\n",
            "[25 26 27 28 29]\n",
            "[30 31 32 33 34]\n",
            "[35 36 37 38 39]\n",
            "\n",
            "[30 31 32 33 34]\n",
            "[35 36 37 38 39]\n",
            "[40 41 42 43 44]\n",
            "[45 46 47 48 49]\n",
            "\n"
          ],
          "name": "stdout"
        }
      ]
    },
    {
      "cell_type": "code",
      "metadata": {
        "id": "ToNoMwMv-fY7",
        "outputId": "f3f5ec85-c3d8-48c2-82a3-f07af7326f59",
        "colab": {
          "base_uri": "https://localhost:8080/"
        }
      },
      "source": [
        "dataset = tf.data.Dataset.from_tensor_slices(sr)\r\n",
        "dataset = dataset.window(6,shift=3, drop_remainder=True)\r\n",
        "dataset = dataset.flat_map(lambda window : window.batch(6))\r\n",
        "for window in dataset:\r\n",
        "  print(\"window data\")\r\n",
        "  print(window.numpy())"
      ],
      "execution_count": 35,
      "outputs": [
        {
          "output_type": "stream",
          "text": [
            "window data\n",
            "[[ 0  1  2  3  4]\n",
            " [ 5  6  7  8  9]\n",
            " [10 11 12 13 14]\n",
            " [15 16 17 18 19]\n",
            " [20 21 22 23 24]\n",
            " [25 26 27 28 29]]\n",
            "window data\n",
            "[[15 16 17 18 19]\n",
            " [20 21 22 23 24]\n",
            " [25 26 27 28 29]\n",
            " [30 31 32 33 34]\n",
            " [35 36 37 38 39]\n",
            " [40 41 42 43 44]]\n"
          ],
          "name": "stdout"
        }
      ]
    },
    {
      "cell_type": "code",
      "metadata": {
        "id": "2daY_XgY-f1D",
        "outputId": "c080c591-a8dd-4511-cc10-15ab88631109",
        "colab": {
          "base_uri": "https://localhost:8080/"
        }
      },
      "source": [
        "dataset = tf.data.Dataset.from_tensor_slices(sr)\r\n",
        "dataset = dataset.window(6,shift=3, drop_remainder=True)\r\n",
        "dataset = dataset.flat_map(lambda window : window.batch(6))\r\n",
        "# after creating the window batches use map to map the features and labels\r\n",
        "dataset =  dataset.map(lambda window: (window[:,:-1],window[5,4]))\r\n",
        "# printing out the data\r\n",
        "for x, y in dataset:\r\n",
        "  print('x = ',x.numpy(), 'y = ', y.numpy())"
      ],
      "execution_count": 61,
      "outputs": [
        {
          "output_type": "stream",
          "text": [
            "x =  [[ 0  1  2  3]\n",
            " [ 5  6  7  8]\n",
            " [10 11 12 13]\n",
            " [15 16 17 18]\n",
            " [20 21 22 23]\n",
            " [25 26 27 28]] y =  29\n",
            "x =  [[15 16 17 18]\n",
            " [20 21 22 23]\n",
            " [25 26 27 28]\n",
            " [30 31 32 33]\n",
            " [35 36 37 38]\n",
            " [40 41 42 43]] y =  44\n"
          ],
          "name": "stdout"
        }
      ]
    },
    {
      "cell_type": "code",
      "metadata": {
        "id": "9IhOsBRYFDDb"
      },
      "source": [
        ""
      ],
      "execution_count": 53,
      "outputs": []
    },
    {
      "cell_type": "code",
      "metadata": {
        "id": "em6okVX4GErZ"
      },
      "source": [
        "r = np.arange(0,25)\r\n",
        "r = r.reshape(5,5)"
      ],
      "execution_count": 41,
      "outputs": []
    },
    {
      "cell_type": "code",
      "metadata": {
        "id": "3RZshBKaGT4r",
        "outputId": "b220e1e5-b7fa-4df8-d673-ecc96b50616e",
        "colab": {
          "base_uri": "https://localhost:8080/"
        }
      },
      "source": [
        "r"
      ],
      "execution_count": 44,
      "outputs": [
        {
          "output_type": "execute_result",
          "data": {
            "text/plain": [
              "array([[ 0,  1,  2,  3,  4],\n",
              "       [ 5,  6,  7,  8,  9],\n",
              "       [10, 11, 12, 13, 14],\n",
              "       [15, 16, 17, 18, 19],\n",
              "       [20, 21, 22, 23, 24]])"
            ]
          },
          "metadata": {
            "tags": []
          },
          "execution_count": 44
        }
      ]
    },
    {
      "cell_type": "code",
      "metadata": {
        "id": "AZEgClSJGWck",
        "outputId": "4f740804-77ea-42e0-b563-36e2fbb1cfc0",
        "colab": {
          "base_uri": "https://localhost:8080/"
        }
      },
      "source": [
        "r[:,2:]"
      ],
      "execution_count": 48,
      "outputs": [
        {
          "output_type": "execute_result",
          "data": {
            "text/plain": [
              "array([[ 2,  3,  4],\n",
              "       [ 7,  8,  9],\n",
              "       [12, 13, 14],\n",
              "       [17, 18, 19],\n",
              "       [22, 23, 24]])"
            ]
          },
          "metadata": {
            "tags": []
          },
          "execution_count": 48
        }
      ]
    },
    {
      "cell_type": "code",
      "metadata": {
        "id": "6Gso5C4WGc9C",
        "outputId": "b3b3ce85-ddff-42f2-9a9b-f04ac1475303",
        "colab": {
          "base_uri": "https://localhost:8080/"
        }
      },
      "source": [
        "r[:,1]"
      ],
      "execution_count": 50,
      "outputs": [
        {
          "output_type": "execute_result",
          "data": {
            "text/plain": [
              "array([ 1,  6, 11, 16, 21])"
            ]
          },
          "metadata": {
            "tags": []
          },
          "execution_count": 50
        }
      ]
    },
    {
      "cell_type": "code",
      "metadata": {
        "id": "jcYuEi8qHLpS"
      },
      "source": [
        ""
      ],
      "execution_count": null,
      "outputs": []
    }
  ]
}