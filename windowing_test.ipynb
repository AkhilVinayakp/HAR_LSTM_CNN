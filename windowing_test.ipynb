{
  "nbformat": 4,
  "nbformat_minor": 0,
  "metadata": {
    "kernelspec": {
      "display_name": "Python 3",
      "language": "python",
      "name": "python3"
    },
    "language_info": {
      "codemirror_mode": {
        "name": "ipython",
        "version": 3
      },
      "file_extension": ".py",
      "mimetype": "text/x-python",
      "name": "python",
      "nbconvert_exporter": "python",
      "pygments_lexer": "ipython3",
      "version": "3.8.3"
    },
    "colab": {
      "name": "windowing_test.ipynb",
      "provenance": []
    }
  },
  "cells": [
    {
      "cell_type": "code",
      "metadata": {
        "id": "gOEpv3Yt9Cin"
      },
      "source": [
        "import tensorflow as tf\n",
        "import pandas as pd\n",
        "import numpy as np\n",
        "import matplotlib.pyplot as plt"
      ],
      "execution_count": 1,
      "outputs": []
    },
    {
      "cell_type": "code",
      "metadata": {
        "id": "RLCpwkDm9Ki8"
      },
      "source": [
        ""
      ],
      "execution_count": null,
      "outputs": []
    },
    {
      "cell_type": "code",
      "metadata": {
        "id": "t32vYa2L9O6a",
        "colab": {
          "base_uri": "https://localhost:8080/"
        },
        "outputId": "11947a93-e154-4e93-93f2-8a0baec49d5b"
      },
      "source": [
        "from google.colab import drive\n",
        "drive.mount('/content/drive')"
      ],
      "execution_count": 2,
      "outputs": [
        {
          "output_type": "stream",
          "text": [
            "Mounted at /content/drive\n"
          ],
          "name": "stdout"
        }
      ]
    },
    {
      "cell_type": "code",
      "metadata": {
        "id": "zAktdhGy9Ycf",
        "colab": {
          "base_uri": "https://localhost:8080/",
          "height": 54
        },
        "outputId": "4a316215-bb57-4136-c927-b4a6a918db1e"
      },
      "source": [
        "%cd /content/drive/My\\ Drive/datasets \n",
        "%pwd"
      ],
      "execution_count": 3,
      "outputs": [
        {
          "output_type": "stream",
          "text": [
            "/content/drive/My Drive/datasets\n"
          ],
          "name": "stdout"
        },
        {
          "output_type": "execute_result",
          "data": {
            "application/vnd.google.colaboratory.intrinsic+json": {
              "type": "string"
            },
            "text/plain": [
              "'/content/drive/My Drive/datasets'"
            ]
          },
          "metadata": {
            "tags": []
          },
          "execution_count": 3
        }
      ]
    },
    {
      "cell_type": "code",
      "metadata": {
        "id": "YUYWik4x9tH6"
      },
      "source": [
        "\n",
        "df =  pd.read_csv('inter_norm_mini.csv')"
      ],
      "execution_count": 4,
      "outputs": []
    },
    {
      "cell_type": "code",
      "metadata": {
        "id": "60F3VNtY9zrp",
        "colab": {
          "base_uri": "https://localhost:8080/",
          "height": 206
        },
        "outputId": "28dccb55-7ec8-4164-b4f8-3e9158b5c1eb"
      },
      "source": [
        "df.head()"
      ],
      "execution_count": 5,
      "outputs": [
        {
          "output_type": "execute_result",
          "data": {
            "text/html": [
              "<div>\n",
              "<style scoped>\n",
              "    .dataframe tbody tr th:only-of-type {\n",
              "        vertical-align: middle;\n",
              "    }\n",
              "\n",
              "    .dataframe tbody tr th {\n",
              "        vertical-align: top;\n",
              "    }\n",
              "\n",
              "    .dataframe thead th {\n",
              "        text-align: right;\n",
              "    }\n",
              "</style>\n",
              "<table border=\"1\" class=\"dataframe\">\n",
              "  <thead>\n",
              "    <tr style=\"text-align: right;\">\n",
              "      <th></th>\n",
              "      <th>user</th>\n",
              "      <th>activity</th>\n",
              "      <th>timestamp</th>\n",
              "      <th>x-axis</th>\n",
              "      <th>y-axis</th>\n",
              "      <th>z-axis</th>\n",
              "    </tr>\n",
              "  </thead>\n",
              "  <tbody>\n",
              "    <tr>\n",
              "      <th>0</th>\n",
              "      <td>14</td>\n",
              "      <td>Downstairs</td>\n",
              "      <td>57725432324000</td>\n",
              "      <td>0.668528</td>\n",
              "      <td>0.725448</td>\n",
              "      <td>-0.163691</td>\n",
              "    </tr>\n",
              "    <tr>\n",
              "      <th>1</th>\n",
              "      <td>7</td>\n",
              "      <td>Upstairs</td>\n",
              "      <td>208866321473000</td>\n",
              "      <td>0.454967</td>\n",
              "      <td>0.875538</td>\n",
              "      <td>-0.162600</td>\n",
              "    </tr>\n",
              "    <tr>\n",
              "      <th>2</th>\n",
              "      <td>29</td>\n",
              "      <td>Jogging</td>\n",
              "      <td>0</td>\n",
              "      <td>0.287281</td>\n",
              "      <td>0.887311</td>\n",
              "      <td>-0.360761</td>\n",
              "    </tr>\n",
              "    <tr>\n",
              "      <th>3</th>\n",
              "      <td>15</td>\n",
              "      <td>Jogging</td>\n",
              "      <td>0</td>\n",
              "      <td>0.944283</td>\n",
              "      <td>0.292972</td>\n",
              "      <td>-0.149990</td>\n",
              "    </tr>\n",
              "    <tr>\n",
              "      <th>4</th>\n",
              "      <td>8</td>\n",
              "      <td>Jogging</td>\n",
              "      <td>111020251899000</td>\n",
              "      <td>-0.124547</td>\n",
              "      <td>-0.706035</td>\n",
              "      <td>-0.697139</td>\n",
              "    </tr>\n",
              "  </tbody>\n",
              "</table>\n",
              "</div>"
            ],
            "text/plain": [
              "   user    activity        timestamp    x-axis    y-axis    z-axis\n",
              "0    14  Downstairs   57725432324000  0.668528  0.725448 -0.163691\n",
              "1     7    Upstairs  208866321473000  0.454967  0.875538 -0.162600\n",
              "2    29     Jogging                0  0.287281  0.887311 -0.360761\n",
              "3    15     Jogging                0  0.944283  0.292972 -0.149990\n",
              "4     8     Jogging  111020251899000 -0.124547 -0.706035 -0.697139"
            ]
          },
          "metadata": {
            "tags": []
          },
          "execution_count": 5
        }
      ]
    },
    {
      "cell_type": "code",
      "metadata": {
        "id": "C7SpLfe3-hfj"
      },
      "source": [
        ""
      ],
      "execution_count": null,
      "outputs": []
    },
    {
      "cell_type": "code",
      "metadata": {
        "id": "HrSsPBAc-hmz"
      },
      "source": [
        ""
      ],
      "execution_count": null,
      "outputs": []
    },
    {
      "cell_type": "code",
      "metadata": {
        "id": "71V8ULWgLiQI"
      },
      "source": [
        "# df.interpolate(method='linear', inplace=True) need norm ?"
      ],
      "execution_count": null,
      "outputs": []
    },
    {
      "cell_type": "code",
      "metadata": {
        "id": "39Tt-b_OLlhu",
        "colab": {
          "base_uri": "https://localhost:8080/",
          "height": 206
        },
        "outputId": "96c50e69-d061-4302-faf4-ef7a02372dd6"
      },
      "source": [
        "df.head()"
      ],
      "execution_count": null,
      "outputs": [
        {
          "output_type": "execute_result",
          "data": {
            "text/html": [
              "<div>\n",
              "<style scoped>\n",
              "    .dataframe tbody tr th:only-of-type {\n",
              "        vertical-align: middle;\n",
              "    }\n",
              "\n",
              "    .dataframe tbody tr th {\n",
              "        vertical-align: top;\n",
              "    }\n",
              "\n",
              "    .dataframe thead th {\n",
              "        text-align: right;\n",
              "    }\n",
              "</style>\n",
              "<table border=\"1\" class=\"dataframe\">\n",
              "  <thead>\n",
              "    <tr style=\"text-align: right;\">\n",
              "      <th></th>\n",
              "      <th>user</th>\n",
              "      <th>activity</th>\n",
              "      <th>x-axis</th>\n",
              "      <th>y-axis</th>\n",
              "      <th>z-axis</th>\n",
              "    </tr>\n",
              "  </thead>\n",
              "  <tbody>\n",
              "    <tr>\n",
              "      <th>0</th>\n",
              "      <td>14</td>\n",
              "      <td>Downstairs</td>\n",
              "      <td>0.668528</td>\n",
              "      <td>0.725448</td>\n",
              "      <td>-0.163691</td>\n",
              "    </tr>\n",
              "    <tr>\n",
              "      <th>1</th>\n",
              "      <td>7</td>\n",
              "      <td>Upstairs</td>\n",
              "      <td>0.454967</td>\n",
              "      <td>0.875538</td>\n",
              "      <td>-0.162600</td>\n",
              "    </tr>\n",
              "    <tr>\n",
              "      <th>2</th>\n",
              "      <td>29</td>\n",
              "      <td>Jogging</td>\n",
              "      <td>0.000000</td>\n",
              "      <td>0.000000</td>\n",
              "      <td>0.000000</td>\n",
              "    </tr>\n",
              "    <tr>\n",
              "      <th>3</th>\n",
              "      <td>15</td>\n",
              "      <td>Jogging</td>\n",
              "      <td>0.000000</td>\n",
              "      <td>0.000000</td>\n",
              "      <td>0.000000</td>\n",
              "    </tr>\n",
              "    <tr>\n",
              "      <th>4</th>\n",
              "      <td>8</td>\n",
              "      <td>Jogging</td>\n",
              "      <td>-0.124547</td>\n",
              "      <td>-0.706035</td>\n",
              "      <td>-0.697139</td>\n",
              "    </tr>\n",
              "  </tbody>\n",
              "</table>\n",
              "</div>"
            ],
            "text/plain": [
              "   user    activity    x-axis    y-axis    z-axis\n",
              "0    14  Downstairs  0.668528  0.725448 -0.163691\n",
              "1     7    Upstairs  0.454967  0.875538 -0.162600\n",
              "2    29     Jogging  0.000000  0.000000  0.000000\n",
              "3    15     Jogging  0.000000  0.000000  0.000000\n",
              "4     8     Jogging -0.124547 -0.706035 -0.697139"
            ]
          },
          "metadata": {
            "tags": []
          },
          "execution_count": 7
        }
      ]
    },
    {
      "cell_type": "code",
      "metadata": {
        "id": "kR21W6vqGpWW"
      },
      "source": [
        ""
      ],
      "execution_count": null,
      "outputs": []
    },
    {
      "cell_type": "code",
      "metadata": {
        "id": "5hzS8jMK-hth"
      },
      "source": [
        "sr = np.arange(0,50)\n",
        "sr = sr.reshape(10,5)"
      ],
      "execution_count": null,
      "outputs": []
    },
    {
      "cell_type": "code",
      "metadata": {
        "id": "NnGx6Q0sArqR",
        "colab": {
          "base_uri": "https://localhost:8080/"
        },
        "outputId": "b9e4b72b-f4a4-4f19-f267-f386c80994c7"
      },
      "source": [
        "sr"
      ],
      "execution_count": null,
      "outputs": [
        {
          "output_type": "execute_result",
          "data": {
            "text/plain": [
              "array([[ 0,  1,  2,  3,  4],\n",
              "       [ 5,  6,  7,  8,  9],\n",
              "       [10, 11, 12, 13, 14],\n",
              "       [15, 16, 17, 18, 19],\n",
              "       [20, 21, 22, 23, 24],\n",
              "       [25, 26, 27, 28, 29],\n",
              "       [30, 31, 32, 33, 34],\n",
              "       [35, 36, 37, 38, 39],\n",
              "       [40, 41, 42, 43, 44],\n",
              "       [45, 46, 47, 48, 49]])"
            ]
          },
          "metadata": {
            "tags": []
          },
          "execution_count": 32
        }
      ]
    },
    {
      "cell_type": "code",
      "metadata": {
        "id": "wZ1oa2c496aJ"
      },
      "source": [
        "def windowed_dataset(series, window_size,shift_size, batch_size,shuffle_buffer):\n",
        "  dataset = tf.data.Dataset.from_tensor_slices(series)\n",
        "  dataset = dataset.window(window_size +1, shift = shift_size, drop_remainder = True)\n",
        "  dataset = dataset.flat_map(lambda window: window.batch(window_size+1))\n",
        "  dataset = dataset.shuffle(shuffle_buffer).map(lambda window :  (window[:-1], window[-1]))\n",
        "  dataset = dataset.batch(batch_size).prefetch(1)\n",
        "  return dataset"
      ],
      "execution_count": null,
      "outputs": []
    },
    {
      "cell_type": "code",
      "metadata": {
        "id": "kSmL7CHh-KWZ",
        "colab": {
          "base_uri": "https://localhost:8080/"
        },
        "outputId": "575497af-f0eb-4c16-b469-162e173497ef"
      },
      "source": [
        "# the data often load as batches\n",
        "# batches can be created by using batch() method\n",
        "dataset = tf.data.Dataset.range(50)\n",
        "dataset = dataset.window(6,shift=3, drop_remainder=True)\n",
        "dataset = dataset.flat_map(lambda window : window.batch(6))\n",
        "dataset =  dataset.map(lambda window: (window[:-1],window[-1:]))\n",
        "# shuffling the values\n",
        "# dataset = dataset.shuffle(buffer_size=40)\n",
        "# creating the batches\n",
        "# dataset = dataset.batch(2).prefetch(1) # the value of prefetch ?\n",
        "# printing out the data\n",
        "for x, y in dataset:\n",
        "  print(\"x = \", x.numpy())\n",
        "  print(\"y = \", y.numpy())"
      ],
      "execution_count": null,
      "outputs": [
        {
          "output_type": "stream",
          "text": [
            "x =  [0 1 2 3 4]\n",
            "y =  [5]\n",
            "x =  [3 4 5 6 7]\n",
            "y =  [8]\n",
            "x =  [ 6  7  8  9 10]\n",
            "y =  [11]\n",
            "x =  [ 9 10 11 12 13]\n",
            "y =  [14]\n",
            "x =  [12 13 14 15 16]\n",
            "y =  [17]\n",
            "x =  [15 16 17 18 19]\n",
            "y =  [20]\n",
            "x =  [18 19 20 21 22]\n",
            "y =  [23]\n",
            "x =  [21 22 23 24 25]\n",
            "y =  [26]\n",
            "x =  [24 25 26 27 28]\n",
            "y =  [29]\n",
            "x =  [27 28 29 30 31]\n",
            "y =  [32]\n",
            "x =  [30 31 32 33 34]\n",
            "y =  [35]\n",
            "x =  [33 34 35 36 37]\n",
            "y =  [38]\n",
            "x =  [36 37 38 39 40]\n",
            "y =  [41]\n",
            "x =  [39 40 41 42 43]\n",
            "y =  [44]\n",
            "x =  [42 43 44 45 46]\n",
            "y =  [47]\n"
          ],
          "name": "stdout"
        }
      ]
    },
    {
      "cell_type": "code",
      "metadata": {
        "id": "GDScxiSz-QeJ",
        "colab": {
          "base_uri": "https://localhost:8080/"
        },
        "outputId": "c68cbe55-a4b6-4027-e80c-15786c7e3b2a"
      },
      "source": [
        "dataset = tf.data.Dataset.from_tensor_slices(sr)\n",
        "dataset = dataset.window(4,2, drop_remainder= True)\n",
        "for window_data in dataset:\n",
        "  for val in window_data:\n",
        "    print(val.numpy())\n",
        "  print()"
      ],
      "execution_count": null,
      "outputs": [
        {
          "output_type": "stream",
          "text": [
            "[0 1 2 3 4]\n",
            "[5 6 7 8 9]\n",
            "[10 11 12 13 14]\n",
            "[15 16 17 18 19]\n",
            "\n",
            "[10 11 12 13 14]\n",
            "[15 16 17 18 19]\n",
            "[20 21 22 23 24]\n",
            "[25 26 27 28 29]\n",
            "\n",
            "[20 21 22 23 24]\n",
            "[25 26 27 28 29]\n",
            "[30 31 32 33 34]\n",
            "[35 36 37 38 39]\n",
            "\n",
            "[30 31 32 33 34]\n",
            "[35 36 37 38 39]\n",
            "[40 41 42 43 44]\n",
            "[45 46 47 48 49]\n",
            "\n"
          ],
          "name": "stdout"
        }
      ]
    },
    {
      "cell_type": "code",
      "metadata": {
        "id": "ToNoMwMv-fY7",
        "colab": {
          "base_uri": "https://localhost:8080/"
        },
        "outputId": "f3f5ec85-c3d8-48c2-82a3-f07af7326f59"
      },
      "source": [
        "dataset = tf.data.Dataset.from_tensor_slices(sr)\n",
        "dataset = dataset.window(6,shift=3, drop_remainder=True)\n",
        "dataset = dataset.flat_map(lambda window : window.batch(6))\n",
        "for window in dataset:\n",
        "  print(\"window data\")\n",
        "  print(window.numpy())"
      ],
      "execution_count": null,
      "outputs": [
        {
          "output_type": "stream",
          "text": [
            "window data\n",
            "[[ 0  1  2  3  4]\n",
            " [ 5  6  7  8  9]\n",
            " [10 11 12 13 14]\n",
            " [15 16 17 18 19]\n",
            " [20 21 22 23 24]\n",
            " [25 26 27 28 29]]\n",
            "window data\n",
            "[[15 16 17 18 19]\n",
            " [20 21 22 23 24]\n",
            " [25 26 27 28 29]\n",
            " [30 31 32 33 34]\n",
            " [35 36 37 38 39]\n",
            " [40 41 42 43 44]]\n"
          ],
          "name": "stdout"
        }
      ]
    },
    {
      "cell_type": "code",
      "metadata": {
        "id": "2daY_XgY-f1D",
        "colab": {
          "base_uri": "https://localhost:8080/"
        },
        "outputId": "c080c591-a8dd-4511-cc10-15ab88631109"
      },
      "source": [
        "dataset = tf.data.Dataset.from_tensor_slices(sr)\n",
        "dataset = dataset.window(6,shift=3, drop_remainder=True)\n",
        "dataset = dataset.flat_map(lambda window : window.batch(6))\n",
        "# after creating the window batches use map to map the features and labels\n",
        "dataset =  dataset.map(lambda window: (window[:,:-1],window[5,4]))\n",
        "# printing out the data\n",
        "for x, y in dataset:\n",
        "  print('x = ',x.numpy(), 'y = ', y.numpy())"
      ],
      "execution_count": null,
      "outputs": [
        {
          "output_type": "stream",
          "text": [
            "x =  [[ 0  1  2  3]\n",
            " [ 5  6  7  8]\n",
            " [10 11 12 13]\n",
            " [15 16 17 18]\n",
            " [20 21 22 23]\n",
            " [25 26 27 28]] y =  29\n",
            "x =  [[15 16 17 18]\n",
            " [20 21 22 23]\n",
            " [25 26 27 28]\n",
            " [30 31 32 33]\n",
            " [35 36 37 38]\n",
            " [40 41 42 43]] y =  44\n"
          ],
          "name": "stdout"
        }
      ]
    },
    {
      "cell_type": "code",
      "metadata": {
        "id": "9IhOsBRYFDDb"
      },
      "source": [
        "def windowed_dataset_exp(series, window_size,shift_size, batch_size,shuffle_buffer):\n",
        "  dataset = tf.data.Dataset.from_tensor_slices(series)\n",
        "  dataset = dataset.window(window_size , shift = shift_size, drop_remainder = True)\n",
        "  dataset = dataset.flat_map(lambda window: window.batch(window_size))\n",
        "  dataset = dataset.shuffle(shuffle_buffer).map(lambda window: (window[:,:-1],window[5,4]))\n",
        "  dataset = dataset.batch(batch_size).prefetch(1)\n",
        "  return dataset"
      ],
      "execution_count": null,
      "outputs": []
    },
    {
      "cell_type": "code",
      "metadata": {
        "id": "em6okVX4GErZ"
      },
      "source": [
        "data = windowed_dataset_exp(sr,6,3, 2, 6 )"
      ],
      "execution_count": null,
      "outputs": []
    },
    {
      "cell_type": "code",
      "metadata": {
        "id": "3RZshBKaGT4r",
        "colab": {
          "base_uri": "https://localhost:8080/"
        },
        "outputId": "5875ce67-fcab-4dfc-a01e-d03745f30842"
      },
      "source": [
        "print(data)"
      ],
      "execution_count": null,
      "outputs": [
        {
          "output_type": "stream",
          "text": [
            "<PrefetchDataset shapes: ((None, None, 4), (None,)), types: (tf.int64, tf.int64)>\n"
          ],
          "name": "stdout"
        }
      ]
    },
    {
      "cell_type": "code",
      "metadata": {
        "id": "AZEgClSJGWck",
        "colab": {
          "base_uri": "https://localhost:8080/"
        },
        "outputId": "f55d7c66-f58d-4d64-cea7-b101654e2c79"
      },
      "source": [
        "for x, y in data:\n",
        "  print('x = ',x.numpy(), 'y = ', y.numpy())"
      ],
      "execution_count": null,
      "outputs": [
        {
          "output_type": "stream",
          "text": [
            "x =  [[[ 0  1  2  3]\n",
            "  [ 5  6  7  8]\n",
            "  [10 11 12 13]\n",
            "  [15 16 17 18]\n",
            "  [20 21 22 23]\n",
            "  [25 26 27 28]]\n",
            "\n",
            " [[15 16 17 18]\n",
            "  [20 21 22 23]\n",
            "  [25 26 27 28]\n",
            "  [30 31 32 33]\n",
            "  [35 36 37 38]\n",
            "  [40 41 42 43]]] y =  [29 44]\n"
          ],
          "name": "stdout"
        }
      ]
    },
    {
      "cell_type": "code",
      "metadata": {
        "id": "6Gso5C4WGc9C",
        "colab": {
          "base_uri": "https://localhost:8080/"
        },
        "outputId": "b3b3ce85-ddff-42f2-9a9b-f04ac1475303"
      },
      "source": [
        "r[:,1]"
      ],
      "execution_count": null,
      "outputs": [
        {
          "output_type": "execute_result",
          "data": {
            "text/plain": [
              "array([ 1,  6, 11, 16, 21])"
            ]
          },
          "metadata": {
            "tags": []
          },
          "execution_count": 50
        }
      ]
    },
    {
      "cell_type": "code",
      "metadata": {
        "id": "jcYuEi8qHLpS"
      },
      "source": [
        "# data windowing function test case passed\n",
        "def create_windowed_dataset(series, window_size,shift_size, batch_size,shuffle_buffer):\n",
        "  dataset = tf.data.Dataset.from_tensor_slices(series)\n",
        "  dataset = dataset.window(window_size , shift = shift_size, drop_remainder = True)\n",
        "  dataset = dataset.flat_map(lambda window: window.batch(window_size))\n",
        "  dataset = dataset.shuffle(shuffle_buffer).map(lambda window: (window[:,1:],window[window_size - 1,0]))\n",
        "  dataset = dataset.batch(batch_size).prefetch(1)\n",
        "  return dataset"
      ],
      "execution_count": null,
      "outputs": []
    },
    {
      "cell_type": "code",
      "metadata": {
        "id": "IUCJOell6ff8",
        "colab": {
          "base_uri": "https://localhost:8080/",
          "height": 206
        },
        "outputId": "b55ec423-a43d-41d9-9483-de8d71b4db2d"
      },
      "source": [
        "df.head()"
      ],
      "execution_count": 6,
      "outputs": [
        {
          "output_type": "execute_result",
          "data": {
            "text/html": [
              "<div>\n",
              "<style scoped>\n",
              "    .dataframe tbody tr th:only-of-type {\n",
              "        vertical-align: middle;\n",
              "    }\n",
              "\n",
              "    .dataframe tbody tr th {\n",
              "        vertical-align: top;\n",
              "    }\n",
              "\n",
              "    .dataframe thead th {\n",
              "        text-align: right;\n",
              "    }\n",
              "</style>\n",
              "<table border=\"1\" class=\"dataframe\">\n",
              "  <thead>\n",
              "    <tr style=\"text-align: right;\">\n",
              "      <th></th>\n",
              "      <th>user</th>\n",
              "      <th>activity</th>\n",
              "      <th>timestamp</th>\n",
              "      <th>x-axis</th>\n",
              "      <th>y-axis</th>\n",
              "      <th>z-axis</th>\n",
              "    </tr>\n",
              "  </thead>\n",
              "  <tbody>\n",
              "    <tr>\n",
              "      <th>0</th>\n",
              "      <td>14</td>\n",
              "      <td>Downstairs</td>\n",
              "      <td>57725432324000</td>\n",
              "      <td>0.668528</td>\n",
              "      <td>0.725448</td>\n",
              "      <td>-0.163691</td>\n",
              "    </tr>\n",
              "    <tr>\n",
              "      <th>1</th>\n",
              "      <td>7</td>\n",
              "      <td>Upstairs</td>\n",
              "      <td>208866321473000</td>\n",
              "      <td>0.454967</td>\n",
              "      <td>0.875538</td>\n",
              "      <td>-0.162600</td>\n",
              "    </tr>\n",
              "    <tr>\n",
              "      <th>2</th>\n",
              "      <td>29</td>\n",
              "      <td>Jogging</td>\n",
              "      <td>0</td>\n",
              "      <td>0.287281</td>\n",
              "      <td>0.887311</td>\n",
              "      <td>-0.360761</td>\n",
              "    </tr>\n",
              "    <tr>\n",
              "      <th>3</th>\n",
              "      <td>15</td>\n",
              "      <td>Jogging</td>\n",
              "      <td>0</td>\n",
              "      <td>0.944283</td>\n",
              "      <td>0.292972</td>\n",
              "      <td>-0.149990</td>\n",
              "    </tr>\n",
              "    <tr>\n",
              "      <th>4</th>\n",
              "      <td>8</td>\n",
              "      <td>Jogging</td>\n",
              "      <td>111020251899000</td>\n",
              "      <td>-0.124547</td>\n",
              "      <td>-0.706035</td>\n",
              "      <td>-0.697139</td>\n",
              "    </tr>\n",
              "  </tbody>\n",
              "</table>\n",
              "</div>"
            ],
            "text/plain": [
              "   user    activity        timestamp    x-axis    y-axis    z-axis\n",
              "0    14  Downstairs   57725432324000  0.668528  0.725448 -0.163691\n",
              "1     7    Upstairs  208866321473000  0.454967  0.875538 -0.162600\n",
              "2    29     Jogging                0  0.287281  0.887311 -0.360761\n",
              "3    15     Jogging                0  0.944283  0.292972 -0.149990\n",
              "4     8     Jogging  111020251899000 -0.124547 -0.706035 -0.697139"
            ]
          },
          "metadata": {
            "tags": []
          },
          "execution_count": 6
        }
      ]
    },
    {
      "cell_type": "code",
      "metadata": {
        "id": "eknmguBK6gpk"
      },
      "source": [
        "# datawindowing function OK\n",
        "# encoding the labels"
      ],
      "execution_count": null,
      "outputs": []
    },
    {
      "cell_type": "code",
      "metadata": {
        "id": "RdfO0GSb74Qr",
        "colab": {
          "base_uri": "https://localhost:8080/"
        },
        "outputId": "726e0186-bbc6-4542-d838-909c52bfae67"
      },
      "source": [
        "df.dtypes"
      ],
      "execution_count": 7,
      "outputs": [
        {
          "output_type": "execute_result",
          "data": {
            "text/plain": [
              "user           int64\n",
              "activity      object\n",
              "timestamp      int64\n",
              "x-axis       float64\n",
              "y-axis       float64\n",
              "z-axis       float64\n",
              "dtype: object"
            ]
          },
          "metadata": {
            "tags": []
          },
          "execution_count": 7
        }
      ]
    },
    {
      "cell_type": "code",
      "metadata": {
        "id": "yiW9ZhwyGxWV"
      },
      "source": [
        "from sklearn.preprocessing import LabelEncoder"
      ],
      "execution_count": 8,
      "outputs": []
    },
    {
      "cell_type": "code",
      "metadata": {
        "id": "ODIxYXG0HSji",
        "outputId": "54a1d6eb-a23f-4d85-9985-b02f3b3c7d53",
        "colab": {
          "base_uri": "https://localhost:8080/",
          "height": 340
        }
      },
      "source": [
        "#droping the user columns\n",
        "df.drop('user', axis = 1, inplace=True)"
      ],
      "execution_count": 12,
      "outputs": [
        {
          "output_type": "error",
          "ename": "KeyError",
          "evalue": "ignored",
          "traceback": [
            "\u001b[0;31m---------------------------------------------------------------------------\u001b[0m",
            "\u001b[0;31mKeyError\u001b[0m                                  Traceback (most recent call last)",
            "\u001b[0;32m<ipython-input-12-a55d2e096761>\u001b[0m in \u001b[0;36m<module>\u001b[0;34m()\u001b[0m\n\u001b[1;32m      1\u001b[0m \u001b[0;31m#droping the user columns\u001b[0m\u001b[0;34m\u001b[0m\u001b[0;34m\u001b[0m\u001b[0;34m\u001b[0m\u001b[0m\n\u001b[0;32m----> 2\u001b[0;31m \u001b[0mdf\u001b[0m\u001b[0;34m.\u001b[0m\u001b[0mdrop\u001b[0m\u001b[0;34m(\u001b[0m\u001b[0;34m'user'\u001b[0m\u001b[0;34m,\u001b[0m \u001b[0maxis\u001b[0m \u001b[0;34m=\u001b[0m \u001b[0;36m1\u001b[0m\u001b[0;34m,\u001b[0m \u001b[0minplace\u001b[0m\u001b[0;34m=\u001b[0m\u001b[0;32mTrue\u001b[0m\u001b[0;34m)\u001b[0m\u001b[0;34m\u001b[0m\u001b[0;34m\u001b[0m\u001b[0m\n\u001b[0m",
            "\u001b[0;32m/usr/local/lib/python3.7/dist-packages/pandas/core/frame.py\u001b[0m in \u001b[0;36mdrop\u001b[0;34m(self, labels, axis, index, columns, level, inplace, errors)\u001b[0m\n\u001b[1;32m   4172\u001b[0m             \u001b[0mlevel\u001b[0m\u001b[0;34m=\u001b[0m\u001b[0mlevel\u001b[0m\u001b[0;34m,\u001b[0m\u001b[0;34m\u001b[0m\u001b[0;34m\u001b[0m\u001b[0m\n\u001b[1;32m   4173\u001b[0m             \u001b[0minplace\u001b[0m\u001b[0;34m=\u001b[0m\u001b[0minplace\u001b[0m\u001b[0;34m,\u001b[0m\u001b[0;34m\u001b[0m\u001b[0;34m\u001b[0m\u001b[0m\n\u001b[0;32m-> 4174\u001b[0;31m             \u001b[0merrors\u001b[0m\u001b[0;34m=\u001b[0m\u001b[0merrors\u001b[0m\u001b[0;34m,\u001b[0m\u001b[0;34m\u001b[0m\u001b[0;34m\u001b[0m\u001b[0m\n\u001b[0m\u001b[1;32m   4175\u001b[0m         )\n\u001b[1;32m   4176\u001b[0m \u001b[0;34m\u001b[0m\u001b[0m\n",
            "\u001b[0;32m/usr/local/lib/python3.7/dist-packages/pandas/core/generic.py\u001b[0m in \u001b[0;36mdrop\u001b[0;34m(self, labels, axis, index, columns, level, inplace, errors)\u001b[0m\n\u001b[1;32m   3887\u001b[0m         \u001b[0;32mfor\u001b[0m \u001b[0maxis\u001b[0m\u001b[0;34m,\u001b[0m \u001b[0mlabels\u001b[0m \u001b[0;32min\u001b[0m \u001b[0maxes\u001b[0m\u001b[0;34m.\u001b[0m\u001b[0mitems\u001b[0m\u001b[0;34m(\u001b[0m\u001b[0;34m)\u001b[0m\u001b[0;34m:\u001b[0m\u001b[0;34m\u001b[0m\u001b[0;34m\u001b[0m\u001b[0m\n\u001b[1;32m   3888\u001b[0m             \u001b[0;32mif\u001b[0m \u001b[0mlabels\u001b[0m \u001b[0;32mis\u001b[0m \u001b[0;32mnot\u001b[0m \u001b[0;32mNone\u001b[0m\u001b[0;34m:\u001b[0m\u001b[0;34m\u001b[0m\u001b[0;34m\u001b[0m\u001b[0m\n\u001b[0;32m-> 3889\u001b[0;31m                 \u001b[0mobj\u001b[0m \u001b[0;34m=\u001b[0m \u001b[0mobj\u001b[0m\u001b[0;34m.\u001b[0m\u001b[0m_drop_axis\u001b[0m\u001b[0;34m(\u001b[0m\u001b[0mlabels\u001b[0m\u001b[0;34m,\u001b[0m \u001b[0maxis\u001b[0m\u001b[0;34m,\u001b[0m \u001b[0mlevel\u001b[0m\u001b[0;34m=\u001b[0m\u001b[0mlevel\u001b[0m\u001b[0;34m,\u001b[0m \u001b[0merrors\u001b[0m\u001b[0;34m=\u001b[0m\u001b[0merrors\u001b[0m\u001b[0;34m)\u001b[0m\u001b[0;34m\u001b[0m\u001b[0;34m\u001b[0m\u001b[0m\n\u001b[0m\u001b[1;32m   3890\u001b[0m \u001b[0;34m\u001b[0m\u001b[0m\n\u001b[1;32m   3891\u001b[0m         \u001b[0;32mif\u001b[0m \u001b[0minplace\u001b[0m\u001b[0;34m:\u001b[0m\u001b[0;34m\u001b[0m\u001b[0;34m\u001b[0m\u001b[0m\n",
            "\u001b[0;32m/usr/local/lib/python3.7/dist-packages/pandas/core/generic.py\u001b[0m in \u001b[0;36m_drop_axis\u001b[0;34m(self, labels, axis, level, errors)\u001b[0m\n\u001b[1;32m   3921\u001b[0m                 \u001b[0mnew_axis\u001b[0m \u001b[0;34m=\u001b[0m \u001b[0maxis\u001b[0m\u001b[0;34m.\u001b[0m\u001b[0mdrop\u001b[0m\u001b[0;34m(\u001b[0m\u001b[0mlabels\u001b[0m\u001b[0;34m,\u001b[0m \u001b[0mlevel\u001b[0m\u001b[0;34m=\u001b[0m\u001b[0mlevel\u001b[0m\u001b[0;34m,\u001b[0m \u001b[0merrors\u001b[0m\u001b[0;34m=\u001b[0m\u001b[0merrors\u001b[0m\u001b[0;34m)\u001b[0m\u001b[0;34m\u001b[0m\u001b[0;34m\u001b[0m\u001b[0m\n\u001b[1;32m   3922\u001b[0m             \u001b[0;32melse\u001b[0m\u001b[0;34m:\u001b[0m\u001b[0;34m\u001b[0m\u001b[0;34m\u001b[0m\u001b[0m\n\u001b[0;32m-> 3923\u001b[0;31m                 \u001b[0mnew_axis\u001b[0m \u001b[0;34m=\u001b[0m \u001b[0maxis\u001b[0m\u001b[0;34m.\u001b[0m\u001b[0mdrop\u001b[0m\u001b[0;34m(\u001b[0m\u001b[0mlabels\u001b[0m\u001b[0;34m,\u001b[0m \u001b[0merrors\u001b[0m\u001b[0;34m=\u001b[0m\u001b[0merrors\u001b[0m\u001b[0;34m)\u001b[0m\u001b[0;34m\u001b[0m\u001b[0;34m\u001b[0m\u001b[0m\n\u001b[0m\u001b[1;32m   3924\u001b[0m             \u001b[0mresult\u001b[0m \u001b[0;34m=\u001b[0m \u001b[0mself\u001b[0m\u001b[0;34m.\u001b[0m\u001b[0mreindex\u001b[0m\u001b[0;34m(\u001b[0m\u001b[0;34m**\u001b[0m\u001b[0;34m{\u001b[0m\u001b[0maxis_name\u001b[0m\u001b[0;34m:\u001b[0m \u001b[0mnew_axis\u001b[0m\u001b[0;34m}\u001b[0m\u001b[0;34m)\u001b[0m\u001b[0;34m\u001b[0m\u001b[0;34m\u001b[0m\u001b[0m\n\u001b[1;32m   3925\u001b[0m \u001b[0;34m\u001b[0m\u001b[0m\n",
            "\u001b[0;32m/usr/local/lib/python3.7/dist-packages/pandas/core/indexes/base.py\u001b[0m in \u001b[0;36mdrop\u001b[0;34m(self, labels, errors)\u001b[0m\n\u001b[1;32m   5285\u001b[0m         \u001b[0;32mif\u001b[0m \u001b[0mmask\u001b[0m\u001b[0;34m.\u001b[0m\u001b[0many\u001b[0m\u001b[0;34m(\u001b[0m\u001b[0;34m)\u001b[0m\u001b[0;34m:\u001b[0m\u001b[0;34m\u001b[0m\u001b[0;34m\u001b[0m\u001b[0m\n\u001b[1;32m   5286\u001b[0m             \u001b[0;32mif\u001b[0m \u001b[0merrors\u001b[0m \u001b[0;34m!=\u001b[0m \u001b[0;34m\"ignore\"\u001b[0m\u001b[0;34m:\u001b[0m\u001b[0;34m\u001b[0m\u001b[0;34m\u001b[0m\u001b[0m\n\u001b[0;32m-> 5287\u001b[0;31m                 \u001b[0;32mraise\u001b[0m \u001b[0mKeyError\u001b[0m\u001b[0;34m(\u001b[0m\u001b[0;34mf\"{labels[mask]} not found in axis\"\u001b[0m\u001b[0;34m)\u001b[0m\u001b[0;34m\u001b[0m\u001b[0;34m\u001b[0m\u001b[0m\n\u001b[0m\u001b[1;32m   5288\u001b[0m             \u001b[0mindexer\u001b[0m \u001b[0;34m=\u001b[0m \u001b[0mindexer\u001b[0m\u001b[0;34m[\u001b[0m\u001b[0;34m~\u001b[0m\u001b[0mmask\u001b[0m\u001b[0;34m]\u001b[0m\u001b[0;34m\u001b[0m\u001b[0;34m\u001b[0m\u001b[0m\n\u001b[1;32m   5289\u001b[0m         \u001b[0;32mreturn\u001b[0m \u001b[0mself\u001b[0m\u001b[0;34m.\u001b[0m\u001b[0mdelete\u001b[0m\u001b[0;34m(\u001b[0m\u001b[0mindexer\u001b[0m\u001b[0;34m)\u001b[0m\u001b[0;34m\u001b[0m\u001b[0;34m\u001b[0m\u001b[0m\n",
            "\u001b[0;31mKeyError\u001b[0m: \"['user'] not found in axis\""
          ]
        }
      ]
    },
    {
      "cell_type": "code",
      "metadata": {
        "id": "9uLDQ9NzHwWq",
        "colab": {
          "base_uri": "https://localhost:8080/",
          "height": 424
        },
        "outputId": "bb87475c-71f2-4ae4-cc37-4beb39ead739"
      },
      "source": [
        "df"
      ],
      "execution_count": 10,
      "outputs": [
        {
          "output_type": "execute_result",
          "data": {
            "text/html": [
              "<div>\n",
              "<style scoped>\n",
              "    .dataframe tbody tr th:only-of-type {\n",
              "        vertical-align: middle;\n",
              "    }\n",
              "\n",
              "    .dataframe tbody tr th {\n",
              "        vertical-align: top;\n",
              "    }\n",
              "\n",
              "    .dataframe thead th {\n",
              "        text-align: right;\n",
              "    }\n",
              "</style>\n",
              "<table border=\"1\" class=\"dataframe\">\n",
              "  <thead>\n",
              "    <tr style=\"text-align: right;\">\n",
              "      <th></th>\n",
              "      <th>activity</th>\n",
              "      <th>timestamp</th>\n",
              "      <th>x-axis</th>\n",
              "      <th>y-axis</th>\n",
              "      <th>z-axis</th>\n",
              "    </tr>\n",
              "  </thead>\n",
              "  <tbody>\n",
              "    <tr>\n",
              "      <th>0</th>\n",
              "      <td>Downstairs</td>\n",
              "      <td>57725432324000</td>\n",
              "      <td>0.668528</td>\n",
              "      <td>0.725448</td>\n",
              "      <td>-0.163691</td>\n",
              "    </tr>\n",
              "    <tr>\n",
              "      <th>1</th>\n",
              "      <td>Upstairs</td>\n",
              "      <td>208866321473000</td>\n",
              "      <td>0.454967</td>\n",
              "      <td>0.875538</td>\n",
              "      <td>-0.162600</td>\n",
              "    </tr>\n",
              "    <tr>\n",
              "      <th>2</th>\n",
              "      <td>Jogging</td>\n",
              "      <td>0</td>\n",
              "      <td>0.287281</td>\n",
              "      <td>0.887311</td>\n",
              "      <td>-0.360761</td>\n",
              "    </tr>\n",
              "    <tr>\n",
              "      <th>3</th>\n",
              "      <td>Jogging</td>\n",
              "      <td>0</td>\n",
              "      <td>0.944283</td>\n",
              "      <td>0.292972</td>\n",
              "      <td>-0.149990</td>\n",
              "    </tr>\n",
              "    <tr>\n",
              "      <th>4</th>\n",
              "      <td>Jogging</td>\n",
              "      <td>111020251899000</td>\n",
              "      <td>-0.124547</td>\n",
              "      <td>-0.706035</td>\n",
              "      <td>-0.697139</td>\n",
              "    </tr>\n",
              "    <tr>\n",
              "      <th>...</th>\n",
              "      <td>...</td>\n",
              "      <td>...</td>\n",
              "      <td>...</td>\n",
              "      <td>...</td>\n",
              "      <td>...</td>\n",
              "    </tr>\n",
              "    <tr>\n",
              "      <th>105</th>\n",
              "      <td>Downstairs</td>\n",
              "      <td>1749732310000</td>\n",
              "      <td>0.449064</td>\n",
              "      <td>0.893440</td>\n",
              "      <td>-0.010313</td>\n",
              "    </tr>\n",
              "    <tr>\n",
              "      <th>106</th>\n",
              "      <td>Downstairs</td>\n",
              "      <td>24512351662000</td>\n",
              "      <td>-0.157978</td>\n",
              "      <td>0.929553</td>\n",
              "      <td>0.333128</td>\n",
              "    </tr>\n",
              "    <tr>\n",
              "      <th>107</th>\n",
              "      <td>Jogging</td>\n",
              "      <td>59899442333000</td>\n",
              "      <td>0.687072</td>\n",
              "      <td>0.721425</td>\n",
              "      <td>-0.086476</td>\n",
              "    </tr>\n",
              "    <tr>\n",
              "      <th>108</th>\n",
              "      <td>Walking</td>\n",
              "      <td>129874801576000</td>\n",
              "      <td>0.927688</td>\n",
              "      <td>0.373049</td>\n",
              "      <td>-0.015133</td>\n",
              "    </tr>\n",
              "    <tr>\n",
              "      <th>109</th>\n",
              "      <td>Walking</td>\n",
              "      <td>110576562080000</td>\n",
              "      <td>0.444785</td>\n",
              "      <td>0.834132</td>\n",
              "      <td>-0.326175</td>\n",
              "    </tr>\n",
              "  </tbody>\n",
              "</table>\n",
              "<p>110 rows × 5 columns</p>\n",
              "</div>"
            ],
            "text/plain": [
              "       activity        timestamp    x-axis    y-axis    z-axis\n",
              "0    Downstairs   57725432324000  0.668528  0.725448 -0.163691\n",
              "1      Upstairs  208866321473000  0.454967  0.875538 -0.162600\n",
              "2       Jogging                0  0.287281  0.887311 -0.360761\n",
              "3       Jogging                0  0.944283  0.292972 -0.149990\n",
              "4       Jogging  111020251899000 -0.124547 -0.706035 -0.697139\n",
              "..          ...              ...       ...       ...       ...\n",
              "105  Downstairs    1749732310000  0.449064  0.893440 -0.010313\n",
              "106  Downstairs   24512351662000 -0.157978  0.929553  0.333128\n",
              "107     Jogging   59899442333000  0.687072  0.721425 -0.086476\n",
              "108     Walking  129874801576000  0.927688  0.373049 -0.015133\n",
              "109     Walking  110576562080000  0.444785  0.834132 -0.326175\n",
              "\n",
              "[110 rows x 5 columns]"
            ]
          },
          "metadata": {
            "tags": []
          },
          "execution_count": 10
        }
      ]
    },
    {
      "cell_type": "code",
      "metadata": {
        "id": "1H8cZU_RH2eq"
      },
      "source": [
        "# labelencoder object\n",
        "le = LabelEncoder()\n",
        "df['activity'] = le.fit_transform(df['activity'])"
      ],
      "execution_count": null,
      "outputs": []
    },
    {
      "cell_type": "code",
      "metadata": {
        "id": "Qqu1s4qsIePC",
        "colab": {
          "base_uri": "https://localhost:8080/",
          "height": 424
        },
        "outputId": "b3255e53-b92e-4926-b910-954ab1a91a86"
      },
      "source": [
        "df"
      ],
      "execution_count": 11,
      "outputs": [
        {
          "output_type": "execute_result",
          "data": {
            "text/html": [
              "<div>\n",
              "<style scoped>\n",
              "    .dataframe tbody tr th:only-of-type {\n",
              "        vertical-align: middle;\n",
              "    }\n",
              "\n",
              "    .dataframe tbody tr th {\n",
              "        vertical-align: top;\n",
              "    }\n",
              "\n",
              "    .dataframe thead th {\n",
              "        text-align: right;\n",
              "    }\n",
              "</style>\n",
              "<table border=\"1\" class=\"dataframe\">\n",
              "  <thead>\n",
              "    <tr style=\"text-align: right;\">\n",
              "      <th></th>\n",
              "      <th>activity</th>\n",
              "      <th>timestamp</th>\n",
              "      <th>x-axis</th>\n",
              "      <th>y-axis</th>\n",
              "      <th>z-axis</th>\n",
              "    </tr>\n",
              "  </thead>\n",
              "  <tbody>\n",
              "    <tr>\n",
              "      <th>0</th>\n",
              "      <td>Downstairs</td>\n",
              "      <td>57725432324000</td>\n",
              "      <td>0.668528</td>\n",
              "      <td>0.725448</td>\n",
              "      <td>-0.163691</td>\n",
              "    </tr>\n",
              "    <tr>\n",
              "      <th>1</th>\n",
              "      <td>Upstairs</td>\n",
              "      <td>208866321473000</td>\n",
              "      <td>0.454967</td>\n",
              "      <td>0.875538</td>\n",
              "      <td>-0.162600</td>\n",
              "    </tr>\n",
              "    <tr>\n",
              "      <th>2</th>\n",
              "      <td>Jogging</td>\n",
              "      <td>0</td>\n",
              "      <td>0.287281</td>\n",
              "      <td>0.887311</td>\n",
              "      <td>-0.360761</td>\n",
              "    </tr>\n",
              "    <tr>\n",
              "      <th>3</th>\n",
              "      <td>Jogging</td>\n",
              "      <td>0</td>\n",
              "      <td>0.944283</td>\n",
              "      <td>0.292972</td>\n",
              "      <td>-0.149990</td>\n",
              "    </tr>\n",
              "    <tr>\n",
              "      <th>4</th>\n",
              "      <td>Jogging</td>\n",
              "      <td>111020251899000</td>\n",
              "      <td>-0.124547</td>\n",
              "      <td>-0.706035</td>\n",
              "      <td>-0.697139</td>\n",
              "    </tr>\n",
              "    <tr>\n",
              "      <th>...</th>\n",
              "      <td>...</td>\n",
              "      <td>...</td>\n",
              "      <td>...</td>\n",
              "      <td>...</td>\n",
              "      <td>...</td>\n",
              "    </tr>\n",
              "    <tr>\n",
              "      <th>105</th>\n",
              "      <td>Downstairs</td>\n",
              "      <td>1749732310000</td>\n",
              "      <td>0.449064</td>\n",
              "      <td>0.893440</td>\n",
              "      <td>-0.010313</td>\n",
              "    </tr>\n",
              "    <tr>\n",
              "      <th>106</th>\n",
              "      <td>Downstairs</td>\n",
              "      <td>24512351662000</td>\n",
              "      <td>-0.157978</td>\n",
              "      <td>0.929553</td>\n",
              "      <td>0.333128</td>\n",
              "    </tr>\n",
              "    <tr>\n",
              "      <th>107</th>\n",
              "      <td>Jogging</td>\n",
              "      <td>59899442333000</td>\n",
              "      <td>0.687072</td>\n",
              "      <td>0.721425</td>\n",
              "      <td>-0.086476</td>\n",
              "    </tr>\n",
              "    <tr>\n",
              "      <th>108</th>\n",
              "      <td>Walking</td>\n",
              "      <td>129874801576000</td>\n",
              "      <td>0.927688</td>\n",
              "      <td>0.373049</td>\n",
              "      <td>-0.015133</td>\n",
              "    </tr>\n",
              "    <tr>\n",
              "      <th>109</th>\n",
              "      <td>Walking</td>\n",
              "      <td>110576562080000</td>\n",
              "      <td>0.444785</td>\n",
              "      <td>0.834132</td>\n",
              "      <td>-0.326175</td>\n",
              "    </tr>\n",
              "  </tbody>\n",
              "</table>\n",
              "<p>110 rows × 5 columns</p>\n",
              "</div>"
            ],
            "text/plain": [
              "       activity        timestamp    x-axis    y-axis    z-axis\n",
              "0    Downstairs   57725432324000  0.668528  0.725448 -0.163691\n",
              "1      Upstairs  208866321473000  0.454967  0.875538 -0.162600\n",
              "2       Jogging                0  0.287281  0.887311 -0.360761\n",
              "3       Jogging                0  0.944283  0.292972 -0.149990\n",
              "4       Jogging  111020251899000 -0.124547 -0.706035 -0.697139\n",
              "..          ...              ...       ...       ...       ...\n",
              "105  Downstairs    1749732310000  0.449064  0.893440 -0.010313\n",
              "106  Downstairs   24512351662000 -0.157978  0.929553  0.333128\n",
              "107     Jogging   59899442333000  0.687072  0.721425 -0.086476\n",
              "108     Walking  129874801576000  0.927688  0.373049 -0.015133\n",
              "109     Walking  110576562080000  0.444785  0.834132 -0.326175\n",
              "\n",
              "[110 rows x 5 columns]"
            ]
          },
          "metadata": {
            "tags": []
          },
          "execution_count": 11
        }
      ]
    },
    {
      "cell_type": "code",
      "metadata": {
        "id": "863zdVpKIfuC",
        "colab": {
          "base_uri": "https://localhost:8080/"
        },
        "outputId": "75efbd37-3b9b-4cd2-a368-eca4110e8e8e"
      },
      "source": [
        "df['activity'].unique()"
      ],
      "execution_count": null,
      "outputs": [
        {
          "output_type": "execute_result",
          "data": {
            "text/plain": [
              "array([0, 4, 1, 2, 5, 3])"
            ]
          },
          "metadata": {
            "tags": []
          },
          "execution_count": 17
        }
      ]
    },
    {
      "cell_type": "code",
      "metadata": {
        "id": "KsUVZzQiInMp",
        "colab": {
          "base_uri": "https://localhost:8080/"
        },
        "outputId": "9a6df92a-f5a2-4e01-e5c2-35e7f039c30c"
      },
      "source": [
        "le.inverse_transform(df['activity'].unique())"
      ],
      "execution_count": null,
      "outputs": [
        {
          "output_type": "execute_result",
          "data": {
            "text/plain": [
              "array(['Downstairs', 'Upstairs', 'Jogging', 'Sitting', 'Walking',\n",
              "       'Standing'], dtype=object)"
            ]
          },
          "metadata": {
            "tags": []
          },
          "execution_count": 18
        }
      ]
    },
    {
      "cell_type": "code",
      "metadata": {
        "id": "H5ehVlYvIuzS",
        "colab": {
          "base_uri": "https://localhost:8080/"
        },
        "outputId": "bf667607-ba5b-4e4c-b780-1ec2156bb5a7"
      },
      "source": [
        "df.dtypes"
      ],
      "execution_count": null,
      "outputs": [
        {
          "output_type": "execute_result",
          "data": {
            "text/plain": [
              "activity      int64\n",
              "x-axis      float64\n",
              "y-axis      float64\n",
              "z-axis      float64\n",
              "dtype: object"
            ]
          },
          "metadata": {
            "tags": []
          },
          "execution_count": 19
        }
      ]
    },
    {
      "cell_type": "code",
      "metadata": {
        "id": "WpU14wpePB6s"
      },
      "source": [
        "df"
      ],
      "execution_count": null,
      "outputs": []
    },
    {
      "cell_type": "code",
      "metadata": {
        "id": "qCoCqJO0I2LI"
      },
      "source": [
        "# creating windowed dataset\n",
        "df_windowed = create_windowed_dataset(df, 20, 10, 1, 128)"
      ],
      "execution_count": null,
      "outputs": []
    },
    {
      "cell_type": "code",
      "metadata": {
        "id": "OEM5ClvSJHaA",
        "colab": {
          "base_uri": "https://localhost:8080/"
        },
        "outputId": "859cc63b-b8a7-430f-bdae-8472125e8a3d"
      },
      "source": [
        "count = 0\n",
        "for i , j in df_windowed:\n",
        "  print(count)\n",
        "  count +=1\n",
        "  print('x = ', i, 'y = ',j)"
      ],
      "execution_count": null,
      "outputs": [
        {
          "output_type": "stream",
          "text": [
            "0\n",
            "x =  tf.Tensor(\n",
            "[[[-0.36199418  0.93084219 -0.04993023]\n",
            "  [-0.8014647   0.36263294  0.47555408]\n",
            "  [ 0.5747794   0.77167352  0.27230244]\n",
            "  [ 0.27677702  0.8839008   0.37697992]\n",
            "  [ 0.20184381  0.97171428 -0.12259869]\n",
            "  [ 0.38267834  0.89607353 -0.22496561]\n",
            "  [ 0.3212759   0.94192252  0.0977945 ]\n",
            "  [-0.63316247  0.66550737  0.39522808]\n",
            "  [-0.7936093  -0.53262746 -0.29409567]\n",
            "  [-0.92401931 -0.36114342  0.12555377]\n",
            "  [ 0.3072479   0.93477431  0.17831352]\n",
            "  [-0.5338924   0.83278968 -0.1463566 ]\n",
            "  [ 0.10584969  0.32377551  0.94019427]\n",
            "  [-0.94705918  0.25118954  0.19995682]\n",
            "  [ 0.77224331  0.48635907 -0.4087727 ]\n",
            "  [ 0.21565834  0.76289136  0.60949836]\n",
            "  [ 0.58551313  0.24710639  0.77208342]\n",
            "  [ 0.72968543  0.59958648  0.32871754]\n",
            "  [ 0.79448334  0.59979374 -0.09509838]\n",
            "  [ 0.19566     0.97904116  0.0565294 ]]], shape=(1, 20, 3), dtype=float64) y =  tf.Tensor([4.], shape=(1,), dtype=float64)\n",
            "1\n",
            "x =  tf.Tensor(\n",
            "[[[-0.25652545  0.95769501  0.1304414 ]\n",
            "  [-0.46730622  0.86974975  0.15861987]\n",
            "  [ 0.97132205  0.21035899  0.11082672]\n",
            "  [ 0.1556745   0.98573343  0.06399268]\n",
            "  [ 0.14294859  0.92861182  0.34241173]\n",
            "  [ 0.62868875  0.7360097  -0.25107802]\n",
            "  [ 0.5054063   0.86248684  0.02609435]\n",
            "  [ 0.26849053  0.94614347  0.18090153]\n",
            "  [ 0.25636562  0.81014063  0.52720852]\n",
            "  [-0.69913657  0.1141806  -0.70581219]\n",
            "  [-0.36199418  0.93084219 -0.04993023]\n",
            "  [-0.8014647   0.36263294  0.47555408]\n",
            "  [ 0.5747794   0.77167352  0.27230244]\n",
            "  [ 0.27677702  0.8839008   0.37697992]\n",
            "  [ 0.20184381  0.97171428 -0.12259869]\n",
            "  [ 0.38267834  0.89607353 -0.22496561]\n",
            "  [ 0.3212759   0.94192252  0.0977945 ]\n",
            "  [-0.63316247  0.66550737  0.39522808]\n",
            "  [-0.7936093  -0.53262746 -0.29409567]\n",
            "  [-0.92401931 -0.36114342  0.12555377]]], shape=(1, 20, 3), dtype=float64) y =  tf.Tensor([1.], shape=(1,), dtype=float64)\n",
            "2\n",
            "x =  tf.Tensor(\n",
            "[[[-0.3585072   0.93065542 -0.07316473]\n",
            "  [ 0.          0.          0.        ]\n",
            "  [ 0.93468117  0.07189855  0.34814036]\n",
            "  [-0.2625914   0.91857256  0.29541532]\n",
            "  [ 0.          0.          0.        ]\n",
            "  [ 0.44727076  0.72234769  0.5274113 ]\n",
            "  [ 0.95034663  0.25454465 -0.17902041]\n",
            "  [ 0.83707636 -0.08834815 -0.53990533]\n",
            "  [-0.04333827  0.99803643  0.04522254]\n",
            "  [-0.20481394  0.95766032 -0.20233134]\n",
            "  [-0.821949    0.55701261  0.11889828]\n",
            "  [ 0.59888847  0.79982701 -0.04011673]\n",
            "  [-0.57586414 -0.55588147 -0.59948002]\n",
            "  [ 0.87026412 -0.48609347 -0.07970888]\n",
            "  [-0.56500272 -0.35058622  0.74690108]\n",
            "  [ 0.51184852  0.78734773 -0.34364901]\n",
            "  [-0.45783238  0.83841063 -0.2957315 ]\n",
            "  [ 0.57465643  0.78758176 -0.22245215]\n",
            "  [ 0.62939519  0.75102315 -0.19956433]\n",
            "  [ 0.84602538  0.52637097 -0.08470337]]], shape=(1, 20, 3), dtype=float64) y =  tf.Tensor([4.], shape=(1,), dtype=float64)\n",
            "3\n",
            "x =  tf.Tensor(\n",
            "[[[-0.22053876  0.26030804 -0.94000127]\n",
            "  [ 0.53488269  0.84450583 -0.02665349]\n",
            "  [-0.43088559  0.40075373  0.80853822]\n",
            "  [-0.05337563  0.94968346  0.30862983]\n",
            "  [ 0.14023914  0.9836492   0.11299218]\n",
            "  [ 0.36444961  0.65847418  0.65847418]\n",
            "  [-0.58527729  0.79734935  0.14725662]\n",
            "  [-0.110272    0.67286339  0.73150185]\n",
            "  [ 0.65987666 -0.51961302 -0.54273851]\n",
            "  [ 0.83415229  0.53690614 -0.12618141]\n",
            "  [ 0.33484121  0.94151589 -0.03780465]\n",
            "  [ 0.21046914  0.93462569 -0.28666629]\n",
            "  [ 0.08463995  0.9202801   0.38199557]\n",
            "  [-0.42632147  0.72442595  0.54171675]\n",
            "  [-0.03972223  0.47761254  0.87767215]\n",
            "  [-0.53768979  0.84002714  0.07241613]\n",
            "  [ 0.74317007  0.55328778  0.37625906]\n",
            "  [-0.58384127  0.8035446   0.11595454]\n",
            "  [ 0.44175539  0.87418612 -0.20162043]\n",
            "  [ 0.53268716  0.84538552 -0.03959428]]], shape=(1, 20, 3), dtype=float64) y =  tf.Tensor([5.], shape=(1,), dtype=float64)\n",
            "4\n",
            "x =  tf.Tensor(\n",
            "[[[-0.821949    0.55701261  0.11889828]\n",
            "  [ 0.59888847  0.79982701 -0.04011673]\n",
            "  [-0.57586414 -0.55588147 -0.59948002]\n",
            "  [ 0.87026412 -0.48609347 -0.07970888]\n",
            "  [-0.56500272 -0.35058622  0.74690108]\n",
            "  [ 0.51184852  0.78734773 -0.34364901]\n",
            "  [-0.45783238  0.83841063 -0.2957315 ]\n",
            "  [ 0.57465643  0.78758176 -0.22245215]\n",
            "  [ 0.62939519  0.75102315 -0.19956433]\n",
            "  [ 0.84602538  0.52637097 -0.08470337]\n",
            "  [-0.14206307  0.96914257  0.20144669]\n",
            "  [ 0.20752775  0.94924729  0.23635105]\n",
            "  [-0.01245451  0.98843556  0.15112919]\n",
            "  [ 0.43921277  0.83052786 -0.34251367]\n",
            "  [ 0.15551598  0.96310772  0.21963221]\n",
            "  [-0.69004053  0.71318654  0.12332485]\n",
            "  [-0.00425084  0.99257183 -0.12158571]\n",
            "  [-0.32227625  0.89992583  0.29372013]\n",
            "  [ 0.97004226  0.01956194 -0.24214736]\n",
            "  [ 0.85535017  0.42415512  0.29743658]]], shape=(1, 20, 3), dtype=float64) y =  tf.Tensor([1.], shape=(1,), dtype=float64)\n",
            "5\n",
            "x =  tf.Tensor(\n",
            "[[[-0.14206307  0.96914257  0.20144669]\n",
            "  [ 0.20752775  0.94924729  0.23635105]\n",
            "  [-0.01245451  0.98843556  0.15112919]\n",
            "  [ 0.43921277  0.83052786 -0.34251367]\n",
            "  [ 0.15551598  0.96310772  0.21963221]\n",
            "  [-0.69004053  0.71318654  0.12332485]\n",
            "  [-0.00425084  0.99257183 -0.12158571]\n",
            "  [-0.32227625  0.89992583  0.29372013]\n",
            "  [ 0.97004226  0.01956194 -0.24214736]\n",
            "  [ 0.85535017  0.42415512  0.29743658]\n",
            "  [ 0.70332015  0.70332015 -0.10335153]\n",
            "  [-0.12008361  0.76853509 -0.62843754]\n",
            "  [ 0.7489412   0.63287364  0.196362  ]\n",
            "  [-0.01835245  0.86944746  0.49368442]\n",
            "  [-0.55057487 -0.31957658 -0.77119266]\n",
            "  [-0.46357379  0.85949856 -0.21531736]\n",
            "  [-0.51721011  0.83156236 -0.20247899]\n",
            "  [-0.05831352  0.95540461 -0.28948499]\n",
            "  [ 0.54151359  0.24426972  0.80442236]\n",
            "  [ 0.44132663 -0.65708631 -0.6111206 ]]], shape=(1, 20, 3), dtype=float64) y =  tf.Tensor([1.], shape=(1,), dtype=float64)\n",
            "6\n",
            "x =  tf.Tensor(\n",
            "[[[ 0.70332015  0.70332015 -0.10335153]\n",
            "  [-0.12008361  0.76853509 -0.62843754]\n",
            "  [ 0.7489412   0.63287364  0.196362  ]\n",
            "  [-0.01835245  0.86944746  0.49368442]\n",
            "  [-0.55057487 -0.31957658 -0.77119266]\n",
            "  [-0.46357379  0.85949856 -0.21531736]\n",
            "  [-0.51721011  0.83156236 -0.20247899]\n",
            "  [-0.05831352  0.95540461 -0.28948499]\n",
            "  [ 0.54151359  0.24426972  0.80442236]\n",
            "  [ 0.44132663 -0.65708631 -0.6111206 ]\n",
            "  [-0.22053876  0.26030804 -0.94000127]\n",
            "  [ 0.53488269  0.84450583 -0.02665349]\n",
            "  [-0.43088559  0.40075373  0.80853822]\n",
            "  [-0.05337563  0.94968346  0.30862983]\n",
            "  [ 0.14023914  0.9836492   0.11299218]\n",
            "  [ 0.36444961  0.65847418  0.65847418]\n",
            "  [-0.58527729  0.79734935  0.14725662]\n",
            "  [-0.110272    0.67286339  0.73150185]\n",
            "  [ 0.65987666 -0.51961302 -0.54273851]\n",
            "  [ 0.83415229  0.53690614 -0.12618141]]], shape=(1, 20, 3), dtype=float64) y =  tf.Tensor([1.], shape=(1,), dtype=float64)\n",
            "7\n",
            "x =  tf.Tensor(\n",
            "[[[ 0.6685284   0.72544819 -0.16369087]\n",
            "  [ 0.45496694  0.87553776 -0.16259987]\n",
            "  [ 0.          0.          0.        ]\n",
            "  [ 0.          0.          0.        ]\n",
            "  [-0.12454685 -0.70603506 -0.69713885]\n",
            "  [-0.68807897 -0.47305429  0.55024264]\n",
            "  [ 0.53509978  0.17343934  0.82679322]\n",
            "  [ 0.99259356  0.11641529  0.03472035]\n",
            "  [ 0.32051582  0.86609973  0.38358944]\n",
            "  [ 0.11197539  0.95277305  0.28228537]\n",
            "  [-0.3585072   0.93065542 -0.07316473]\n",
            "  [ 0.          0.          0.        ]\n",
            "  [ 0.93468117  0.07189855  0.34814036]\n",
            "  [-0.2625914   0.91857256  0.29541532]\n",
            "  [ 0.          0.          0.        ]\n",
            "  [ 0.44727076  0.72234769  0.5274113 ]\n",
            "  [ 0.95034663  0.25454465 -0.17902041]\n",
            "  [ 0.83707636 -0.08834815 -0.53990533]\n",
            "  [-0.04333827  0.99803643  0.04522254]\n",
            "  [-0.20481394  0.95766032 -0.20233134]]], shape=(1, 20, 3), dtype=float64) y =  tf.Tensor([0.], shape=(1,), dtype=float64)\n",
            "8\n",
            "x =  tf.Tensor(\n",
            "[[[ 0.33484121  0.94151589 -0.03780465]\n",
            "  [ 0.21046914  0.93462569 -0.28666629]\n",
            "  [ 0.08463995  0.9202801   0.38199557]\n",
            "  [-0.42632147  0.72442595  0.54171675]\n",
            "  [-0.03972223  0.47761254  0.87767215]\n",
            "  [-0.53768979  0.84002714  0.07241613]\n",
            "  [ 0.74317007  0.55328778  0.37625906]\n",
            "  [-0.58384127  0.8035446   0.11595454]\n",
            "  [ 0.44175539  0.87418612 -0.20162043]\n",
            "  [ 0.53268716  0.84538552 -0.03959428]\n",
            "  [-0.25652545  0.95769501  0.1304414 ]\n",
            "  [-0.46730622  0.86974975  0.15861987]\n",
            "  [ 0.97132205  0.21035899  0.11082672]\n",
            "  [ 0.1556745   0.98573343  0.06399268]\n",
            "  [ 0.14294859  0.92861182  0.34241173]\n",
            "  [ 0.62868875  0.7360097  -0.25107802]\n",
            "  [ 0.5054063   0.86248684  0.02609435]\n",
            "  [ 0.26849053  0.94614347  0.18090153]\n",
            "  [ 0.25636562  0.81014063  0.52720852]\n",
            "  [-0.69913657  0.1141806  -0.70581219]]], shape=(1, 20, 3), dtype=float64) y =  tf.Tensor([5.], shape=(1,), dtype=float64)\n",
            "9\n",
            "x =  tf.Tensor(\n",
            "[[[ 0.3072479   0.93477431  0.17831352]\n",
            "  [-0.5338924   0.83278968 -0.1463566 ]\n",
            "  [ 0.10584969  0.32377551  0.94019427]\n",
            "  [-0.94705918  0.25118954  0.19995682]\n",
            "  [ 0.77224331  0.48635907 -0.4087727 ]\n",
            "  [ 0.21565834  0.76289136  0.60949836]\n",
            "  [ 0.58551313  0.24710639  0.77208342]\n",
            "  [ 0.72968543  0.59958648  0.32871754]\n",
            "  [ 0.79448334  0.59979374 -0.09509838]\n",
            "  [ 0.19566     0.97904116  0.0565294 ]\n",
            "  [-0.57814569  0.60463142 -0.54787628]\n",
            "  [-0.57751818  0.80646289 -0.12684774]\n",
            "  [-0.86867423  0.2690975   0.4159226 ]\n",
            "  [ 0.09191825  0.98836833 -0.12115728]\n",
            "  [-0.24998585  0.61445638 -0.74829836]\n",
            "  [ 0.44906384  0.89344016 -0.01031253]\n",
            "  [-0.15797821  0.92955293  0.33312796]\n",
            "  [ 0.68707166  0.72142525 -0.08647626]\n",
            "  [ 0.9276882   0.37304908 -0.0151325 ]\n",
            "  [ 0.44478452  0.83413212 -0.32617531]]], shape=(1, 20, 3), dtype=float64) y =  tf.Tensor([5.], shape=(1,), dtype=float64)\n"
          ],
          "name": "stdout"
        }
      ]
    },
    {
      "cell_type": "code",
      "metadata": {
        "id": "3MQnj2QzJSmg",
        "colab": {
          "base_uri": "https://localhost:8080/"
        },
        "outputId": "3ff1a434-fb4e-459b-ffe3-0de9bd750c7c"
      },
      "source": [
        "df_windowed"
      ],
      "execution_count": null,
      "outputs": [
        {
          "output_type": "execute_result",
          "data": {
            "text/plain": [
              "<PrefetchDataset shapes: ((None, None, 3), (None,)), types: (tf.float64, tf.float64)>"
            ]
          },
          "metadata": {
            "tags": []
          },
          "execution_count": 50
        }
      ]
    },
    {
      "cell_type": "code",
      "metadata": {
        "id": "vztFp7fCJX_X"
      },
      "source": [
        "window_size = 20"
      ],
      "execution_count": null,
      "outputs": []
    },
    {
      "cell_type": "code",
      "metadata": {
        "id": "kCo7IszwKOen"
      },
      "source": [
        "# checking DNN on mini set\n"
      ],
      "execution_count": null,
      "outputs": []
    },
    {
      "cell_type": "code",
      "metadata": {
        "id": "-evqqJKQKgj3",
        "colab": {
          "base_uri": "https://localhost:8080/"
        },
        "outputId": "070ac100-22e0-4337-e9fe-6395a269af3e"
      },
      "source": [
        "model = tf.keras.models.Sequential([\n",
        "  tf.keras.layers.Dense(10, activation=\"relu\", input_shape = (20,3)),\n",
        "  tf.keras.layers.Dense(10, activation=\"relu\"),\n",
        "  tf.keras.layers.Dense(1)\n",
        "])\n",
        "\n",
        "optimizer = tf.keras.optimizers.SGD(lr=8e-6, momentum=0.9)\n",
        "model.compile(loss=\"mse\", optimizer=optimizer)\n",
        "\n",
        "history = model.fit(df_windowed, epochs=200, verbose=1)"
      ],
      "execution_count": null,
      "outputs": [
        {
          "output_type": "stream",
          "text": [
            "Epoch 1/200\n",
            "10/10 [==============================] - 0s 2ms/step - loss: 9.2691\n",
            "Epoch 2/200\n",
            "10/10 [==============================] - 0s 2ms/step - loss: 8.9499\n",
            "Epoch 3/200\n",
            "10/10 [==============================] - 0s 2ms/step - loss: 14.0141\n",
            "Epoch 4/200\n",
            "10/10 [==============================] - 0s 2ms/step - loss: 8.2721\n",
            "Epoch 5/200\n",
            "10/10 [==============================] - 0s 2ms/step - loss: 16.4195\n",
            "Epoch 6/200\n",
            "10/10 [==============================] - 0s 2ms/step - loss: 10.8392\n",
            "Epoch 7/200\n",
            "10/10 [==============================] - 0s 2ms/step - loss: 12.0331\n",
            "Epoch 8/200\n",
            "10/10 [==============================] - 0s 2ms/step - loss: 8.3204\n",
            "Epoch 9/200\n",
            "10/10 [==============================] - 0s 2ms/step - loss: 7.0074\n",
            "Epoch 10/200\n",
            "10/10 [==============================] - 0s 2ms/step - loss: 10.1711\n",
            "Epoch 11/200\n",
            "10/10 [==============================] - 0s 2ms/step - loss: 8.6593\n",
            "Epoch 12/200\n",
            "10/10 [==============================] - 0s 2ms/step - loss: 11.8499\n",
            "Epoch 13/200\n",
            "10/10 [==============================] - 0s 2ms/step - loss: 15.5655\n",
            "Epoch 14/200\n",
            "10/10 [==============================] - 0s 1ms/step - loss: 7.6903\n",
            "Epoch 15/200\n",
            "10/10 [==============================] - 0s 2ms/step - loss: 9.1658\n",
            "Epoch 16/200\n",
            "10/10 [==============================] - 0s 1ms/step - loss: 10.3586\n",
            "Epoch 17/200\n",
            "10/10 [==============================] - 0s 2ms/step - loss: 15.4742\n",
            "Epoch 18/200\n",
            "10/10 [==============================] - 0s 2ms/step - loss: 12.6221\n",
            "Epoch 19/200\n",
            "10/10 [==============================] - 0s 2ms/step - loss: 8.0000\n",
            "Epoch 20/200\n",
            "10/10 [==============================] - 0s 2ms/step - loss: 10.6619\n",
            "Epoch 21/200\n",
            "10/10 [==============================] - 0s 2ms/step - loss: 6.4994\n",
            "Epoch 22/200\n",
            "10/10 [==============================] - 0s 2ms/step - loss: 8.7396\n",
            "Epoch 23/200\n",
            "10/10 [==============================] - 0s 2ms/step - loss: 10.2731\n",
            "Epoch 24/200\n",
            "10/10 [==============================] - 0s 2ms/step - loss: 7.4125\n",
            "Epoch 25/200\n",
            "10/10 [==============================] - 0s 2ms/step - loss: 12.6207\n",
            "Epoch 26/200\n",
            "10/10 [==============================] - 0s 1ms/step - loss: 8.4879\n",
            "Epoch 27/200\n",
            "10/10 [==============================] - 0s 2ms/step - loss: 12.6345\n",
            "Epoch 28/200\n",
            "10/10 [==============================] - 0s 2ms/step - loss: 5.6685\n",
            "Epoch 29/200\n",
            "10/10 [==============================] - 0s 1ms/step - loss: 8.1806\n",
            "Epoch 30/200\n",
            "10/10 [==============================] - 0s 1ms/step - loss: 6.2813\n",
            "Epoch 31/200\n",
            "10/10 [==============================] - 0s 2ms/step - loss: 12.7659\n",
            "Epoch 32/200\n",
            "10/10 [==============================] - 0s 2ms/step - loss: 8.8009\n",
            "Epoch 33/200\n",
            "10/10 [==============================] - 0s 2ms/step - loss: 9.3152\n",
            "Epoch 34/200\n",
            "10/10 [==============================] - 0s 2ms/step - loss: 6.3202\n",
            "Epoch 35/200\n",
            "10/10 [==============================] - 0s 2ms/step - loss: 7.3986\n",
            "Epoch 36/200\n",
            "10/10 [==============================] - 0s 2ms/step - loss: 9.4591\n",
            "Epoch 37/200\n",
            "10/10 [==============================] - 0s 2ms/step - loss: 4.5416\n",
            "Epoch 38/200\n",
            "10/10 [==============================] - 0s 2ms/step - loss: 7.6122\n",
            "Epoch 39/200\n",
            "10/10 [==============================] - 0s 2ms/step - loss: 11.7601\n",
            "Epoch 40/200\n",
            "10/10 [==============================] - 0s 2ms/step - loss: 7.8478\n",
            "Epoch 41/200\n",
            "10/10 [==============================] - 0s 2ms/step - loss: 10.8519\n",
            "Epoch 42/200\n",
            "10/10 [==============================] - 0s 2ms/step - loss: 5.0903\n",
            "Epoch 43/200\n",
            "10/10 [==============================] - 0s 2ms/step - loss: 5.4293\n",
            "Epoch 44/200\n",
            "10/10 [==============================] - 0s 2ms/step - loss: 8.5183\n",
            "Epoch 45/200\n",
            "10/10 [==============================] - 0s 2ms/step - loss: 7.0444\n",
            "Epoch 46/200\n",
            "10/10 [==============================] - 0s 1ms/step - loss: 8.1034\n",
            "Epoch 47/200\n",
            "10/10 [==============================] - 0s 1ms/step - loss: 4.7079\n",
            "Epoch 48/200\n",
            "10/10 [==============================] - 0s 2ms/step - loss: 11.3739\n",
            "Epoch 49/200\n",
            "10/10 [==============================] - 0s 2ms/step - loss: 9.1937\n",
            "Epoch 50/200\n",
            "10/10 [==============================] - 0s 2ms/step - loss: 4.0559\n",
            "Epoch 51/200\n",
            "10/10 [==============================] - 0s 2ms/step - loss: 9.0115\n",
            "Epoch 52/200\n",
            "10/10 [==============================] - 0s 2ms/step - loss: 9.8851\n",
            "Epoch 53/200\n",
            "10/10 [==============================] - 0s 2ms/step - loss: 8.3954\n",
            "Epoch 54/200\n",
            "10/10 [==============================] - 0s 2ms/step - loss: 6.1895\n",
            "Epoch 55/200\n",
            "10/10 [==============================] - 0s 2ms/step - loss: 8.8143\n",
            "Epoch 56/200\n",
            "10/10 [==============================] - 0s 2ms/step - loss: 6.7369\n",
            "Epoch 57/200\n",
            "10/10 [==============================] - 0s 2ms/step - loss: 9.8760\n",
            "Epoch 58/200\n",
            "10/10 [==============================] - 0s 2ms/step - loss: 9.2381\n",
            "Epoch 59/200\n",
            "10/10 [==============================] - 0s 3ms/step - loss: 9.2504\n",
            "Epoch 60/200\n",
            "10/10 [==============================] - 0s 2ms/step - loss: 6.6523\n",
            "Epoch 61/200\n",
            "10/10 [==============================] - 0s 2ms/step - loss: 11.0570\n",
            "Epoch 62/200\n",
            "10/10 [==============================] - 0s 2ms/step - loss: 8.3093\n",
            "Epoch 63/200\n",
            "10/10 [==============================] - 0s 2ms/step - loss: 6.0772\n",
            "Epoch 64/200\n",
            "10/10 [==============================] - 0s 2ms/step - loss: 5.6676\n",
            "Epoch 65/200\n",
            "10/10 [==============================] - 0s 2ms/step - loss: 5.5224\n",
            "Epoch 66/200\n",
            "10/10 [==============================] - 0s 2ms/step - loss: 4.7581\n",
            "Epoch 67/200\n",
            "10/10 [==============================] - 0s 2ms/step - loss: 11.1745\n",
            "Epoch 68/200\n",
            "10/10 [==============================] - 0s 2ms/step - loss: 5.4225\n",
            "Epoch 69/200\n",
            "10/10 [==============================] - 0s 2ms/step - loss: 6.0469\n",
            "Epoch 70/200\n",
            "10/10 [==============================] - 0s 2ms/step - loss: 6.6169\n",
            "Epoch 71/200\n",
            "10/10 [==============================] - 0s 2ms/step - loss: 6.8442\n",
            "Epoch 72/200\n",
            "10/10 [==============================] - 0s 2ms/step - loss: 6.3762\n",
            "Epoch 73/200\n",
            "10/10 [==============================] - 0s 2ms/step - loss: 6.8900\n",
            "Epoch 74/200\n",
            "10/10 [==============================] - 0s 2ms/step - loss: 7.7215\n",
            "Epoch 75/200\n",
            "10/10 [==============================] - 0s 2ms/step - loss: 4.7898\n",
            "Epoch 76/200\n",
            "10/10 [==============================] - 0s 2ms/step - loss: 4.3507\n",
            "Epoch 77/200\n",
            "10/10 [==============================] - 0s 2ms/step - loss: 9.3782\n",
            "Epoch 78/200\n",
            "10/10 [==============================] - 0s 2ms/step - loss: 6.7495\n",
            "Epoch 79/200\n",
            "10/10 [==============================] - 0s 2ms/step - loss: 8.8416\n",
            "Epoch 80/200\n",
            "10/10 [==============================] - 0s 2ms/step - loss: 5.0402\n",
            "Epoch 81/200\n",
            "10/10 [==============================] - 0s 2ms/step - loss: 8.7166\n",
            "Epoch 82/200\n",
            "10/10 [==============================] - 0s 2ms/step - loss: 4.8984\n",
            "Epoch 83/200\n",
            "10/10 [==============================] - 0s 2ms/step - loss: 4.9559\n",
            "Epoch 84/200\n",
            "10/10 [==============================] - 0s 2ms/step - loss: 8.6505\n",
            "Epoch 85/200\n",
            "10/10 [==============================] - 0s 2ms/step - loss: 5.5465\n",
            "Epoch 86/200\n",
            "10/10 [==============================] - 0s 2ms/step - loss: 6.8073\n",
            "Epoch 87/200\n",
            "10/10 [==============================] - 0s 2ms/step - loss: 8.9372\n",
            "Epoch 88/200\n",
            "10/10 [==============================] - 0s 2ms/step - loss: 4.3989\n",
            "Epoch 89/200\n",
            "10/10 [==============================] - 0s 2ms/step - loss: 4.4694\n",
            "Epoch 90/200\n",
            "10/10 [==============================] - 0s 2ms/step - loss: 9.1930\n",
            "Epoch 91/200\n",
            "10/10 [==============================] - 0s 2ms/step - loss: 7.8078\n",
            "Epoch 92/200\n",
            "10/10 [==============================] - 0s 2ms/step - loss: 10.4432\n",
            "Epoch 93/200\n",
            "10/10 [==============================] - 0s 1ms/step - loss: 4.9041\n",
            "Epoch 94/200\n",
            "10/10 [==============================] - 0s 2ms/step - loss: 6.2582\n",
            "Epoch 95/200\n",
            "10/10 [==============================] - 0s 2ms/step - loss: 3.6616\n",
            "Epoch 96/200\n",
            "10/10 [==============================] - 0s 2ms/step - loss: 6.0431\n",
            "Epoch 97/200\n",
            "10/10 [==============================] - 0s 2ms/step - loss: 5.8830\n",
            "Epoch 98/200\n",
            "10/10 [==============================] - 0s 2ms/step - loss: 6.2688\n",
            "Epoch 99/200\n",
            "10/10 [==============================] - 0s 2ms/step - loss: 4.5331\n",
            "Epoch 100/200\n",
            "10/10 [==============================] - 0s 2ms/step - loss: 5.8264\n",
            "Epoch 101/200\n",
            "10/10 [==============================] - 0s 2ms/step - loss: 5.0924\n",
            "Epoch 102/200\n",
            "10/10 [==============================] - 0s 2ms/step - loss: 8.3951\n",
            "Epoch 103/200\n",
            "10/10 [==============================] - 0s 2ms/step - loss: 4.4261\n",
            "Epoch 104/200\n",
            "10/10 [==============================] - 0s 2ms/step - loss: 6.2894\n",
            "Epoch 105/200\n",
            "10/10 [==============================] - 0s 2ms/step - loss: 4.6498\n",
            "Epoch 106/200\n",
            "10/10 [==============================] - 0s 2ms/step - loss: 8.6205\n",
            "Epoch 107/200\n",
            "10/10 [==============================] - 0s 2ms/step - loss: 7.2169\n",
            "Epoch 108/200\n",
            "10/10 [==============================] - 0s 2ms/step - loss: 6.4470\n",
            "Epoch 109/200\n",
            "10/10 [==============================] - 0s 2ms/step - loss: 5.0931\n",
            "Epoch 110/200\n",
            "10/10 [==============================] - 0s 2ms/step - loss: 6.5939\n",
            "Epoch 111/200\n",
            "10/10 [==============================] - 0s 2ms/step - loss: 9.8466\n",
            "Epoch 112/200\n",
            "10/10 [==============================] - 0s 2ms/step - loss: 6.3508\n",
            "Epoch 113/200\n",
            "10/10 [==============================] - 0s 2ms/step - loss: 4.7021\n",
            "Epoch 114/200\n",
            "10/10 [==============================] - 0s 2ms/step - loss: 7.1186\n",
            "Epoch 115/200\n",
            "10/10 [==============================] - 0s 1ms/step - loss: 4.9325\n",
            "Epoch 116/200\n",
            "10/10 [==============================] - 0s 2ms/step - loss: 6.8258\n",
            "Epoch 117/200\n",
            "10/10 [==============================] - 0s 2ms/step - loss: 3.7835\n",
            "Epoch 118/200\n",
            "10/10 [==============================] - 0s 2ms/step - loss: 5.1857\n",
            "Epoch 119/200\n",
            "10/10 [==============================] - 0s 2ms/step - loss: 8.1554\n",
            "Epoch 120/200\n",
            "10/10 [==============================] - 0s 2ms/step - loss: 7.0653\n",
            "Epoch 121/200\n",
            "10/10 [==============================] - 0s 2ms/step - loss: 4.4772\n",
            "Epoch 122/200\n",
            "10/10 [==============================] - 0s 2ms/step - loss: 7.9461\n",
            "Epoch 123/200\n",
            "10/10 [==============================] - 0s 2ms/step - loss: 5.5989\n",
            "Epoch 124/200\n",
            "10/10 [==============================] - 0s 2ms/step - loss: 6.7239\n",
            "Epoch 125/200\n",
            "10/10 [==============================] - 0s 2ms/step - loss: 6.2824\n",
            "Epoch 126/200\n",
            "10/10 [==============================] - 0s 1ms/step - loss: 5.1665\n",
            "Epoch 127/200\n",
            "10/10 [==============================] - 0s 2ms/step - loss: 4.9337\n",
            "Epoch 128/200\n",
            "10/10 [==============================] - 0s 2ms/step - loss: 5.1500\n",
            "Epoch 129/200\n",
            "10/10 [==============================] - 0s 2ms/step - loss: 5.7323\n",
            "Epoch 130/200\n",
            "10/10 [==============================] - 0s 2ms/step - loss: 4.4448\n",
            "Epoch 131/200\n",
            "10/10 [==============================] - 0s 2ms/step - loss: 6.3864\n",
            "Epoch 132/200\n",
            "10/10 [==============================] - 0s 2ms/step - loss: 6.5031\n",
            "Epoch 133/200\n",
            "10/10 [==============================] - 0s 2ms/step - loss: 7.7041\n",
            "Epoch 134/200\n",
            "10/10 [==============================] - 0s 2ms/step - loss: 6.8562\n",
            "Epoch 135/200\n",
            "10/10 [==============================] - 0s 2ms/step - loss: 4.6076\n",
            "Epoch 136/200\n",
            "10/10 [==============================] - 0s 2ms/step - loss: 5.3362\n",
            "Epoch 137/200\n",
            "10/10 [==============================] - 0s 2ms/step - loss: 5.7987\n",
            "Epoch 138/200\n",
            "10/10 [==============================] - 0s 2ms/step - loss: 5.0616\n",
            "Epoch 139/200\n",
            "10/10 [==============================] - 0s 2ms/step - loss: 7.7348\n",
            "Epoch 140/200\n",
            "10/10 [==============================] - 0s 2ms/step - loss: 3.8073\n",
            "Epoch 141/200\n",
            "10/10 [==============================] - 0s 2ms/step - loss: 6.5128\n",
            "Epoch 142/200\n",
            "10/10 [==============================] - 0s 2ms/step - loss: 4.4038\n",
            "Epoch 143/200\n",
            "10/10 [==============================] - 0s 2ms/step - loss: 3.5040\n",
            "Epoch 144/200\n",
            "10/10 [==============================] - 0s 2ms/step - loss: 4.6287\n",
            "Epoch 145/200\n",
            "10/10 [==============================] - 0s 2ms/step - loss: 4.4187\n",
            "Epoch 146/200\n",
            "10/10 [==============================] - 0s 2ms/step - loss: 2.8405\n",
            "Epoch 147/200\n",
            "10/10 [==============================] - 0s 2ms/step - loss: 3.7194\n",
            "Epoch 148/200\n",
            "10/10 [==============================] - 0s 2ms/step - loss: 4.2125\n",
            "Epoch 149/200\n",
            "10/10 [==============================] - 0s 2ms/step - loss: 5.2171\n",
            "Epoch 150/200\n",
            "10/10 [==============================] - 0s 2ms/step - loss: 4.9374\n",
            "Epoch 151/200\n",
            "10/10 [==============================] - 0s 2ms/step - loss: 5.6165\n",
            "Epoch 152/200\n",
            "10/10 [==============================] - 0s 2ms/step - loss: 3.7761\n",
            "Epoch 153/200\n",
            "10/10 [==============================] - 0s 2ms/step - loss: 5.1957\n",
            "Epoch 154/200\n",
            "10/10 [==============================] - 0s 2ms/step - loss: 5.0749\n",
            "Epoch 155/200\n",
            "10/10 [==============================] - 0s 2ms/step - loss: 3.7207\n",
            "Epoch 156/200\n",
            "10/10 [==============================] - 0s 2ms/step - loss: 5.5711\n",
            "Epoch 157/200\n",
            "10/10 [==============================] - 0s 2ms/step - loss: 4.3115\n",
            "Epoch 158/200\n",
            "10/10 [==============================] - 0s 2ms/step - loss: 3.7378\n",
            "Epoch 159/200\n",
            "10/10 [==============================] - 0s 2ms/step - loss: 2.9890\n",
            "Epoch 160/200\n",
            "10/10 [==============================] - 0s 3ms/step - loss: 2.5974\n",
            "Epoch 161/200\n",
            "10/10 [==============================] - 0s 2ms/step - loss: 3.8926\n",
            "Epoch 162/200\n",
            "10/10 [==============================] - 0s 2ms/step - loss: 4.4353\n",
            "Epoch 163/200\n",
            "10/10 [==============================] - 0s 2ms/step - loss: 7.0702\n",
            "Epoch 164/200\n",
            "10/10 [==============================] - 0s 2ms/step - loss: 5.0015\n",
            "Epoch 165/200\n",
            "10/10 [==============================] - 0s 2ms/step - loss: 5.4109\n",
            "Epoch 166/200\n",
            "10/10 [==============================] - 0s 2ms/step - loss: 5.5222\n",
            "Epoch 167/200\n",
            "10/10 [==============================] - 0s 2ms/step - loss: 4.5174\n",
            "Epoch 168/200\n",
            "10/10 [==============================] - 0s 2ms/step - loss: 5.3037\n",
            "Epoch 169/200\n",
            "10/10 [==============================] - 0s 2ms/step - loss: 5.5632\n",
            "Epoch 170/200\n",
            "10/10 [==============================] - 0s 2ms/step - loss: 3.3688\n",
            "Epoch 171/200\n",
            "10/10 [==============================] - 0s 2ms/step - loss: 3.1441\n",
            "Epoch 172/200\n",
            "10/10 [==============================] - 0s 2ms/step - loss: 3.7250\n",
            "Epoch 173/200\n",
            "10/10 [==============================] - 0s 2ms/step - loss: 5.1408\n",
            "Epoch 174/200\n",
            "10/10 [==============================] - 0s 2ms/step - loss: 4.1298\n",
            "Epoch 175/200\n",
            "10/10 [==============================] - 0s 2ms/step - loss: 6.0545\n",
            "Epoch 176/200\n",
            "10/10 [==============================] - 0s 2ms/step - loss: 4.6141\n",
            "Epoch 177/200\n",
            "10/10 [==============================] - 0s 2ms/step - loss: 3.6843\n",
            "Epoch 178/200\n",
            "10/10 [==============================] - 0s 2ms/step - loss: 3.4187\n",
            "Epoch 179/200\n",
            "10/10 [==============================] - 0s 2ms/step - loss: 5.7404\n",
            "Epoch 180/200\n",
            "10/10 [==============================] - 0s 2ms/step - loss: 4.3976\n",
            "Epoch 181/200\n",
            "10/10 [==============================] - 0s 2ms/step - loss: 2.7860\n",
            "Epoch 182/200\n",
            "10/10 [==============================] - 0s 2ms/step - loss: 4.7592\n",
            "Epoch 183/200\n",
            "10/10 [==============================] - 0s 2ms/step - loss: 5.4122\n",
            "Epoch 184/200\n",
            "10/10 [==============================] - 0s 2ms/step - loss: 3.8388\n",
            "Epoch 185/200\n",
            "10/10 [==============================] - 0s 2ms/step - loss: 4.8704\n",
            "Epoch 186/200\n",
            "10/10 [==============================] - 0s 2ms/step - loss: 4.0147\n",
            "Epoch 187/200\n",
            "10/10 [==============================] - 0s 2ms/step - loss: 4.6353\n",
            "Epoch 188/200\n",
            "10/10 [==============================] - 0s 2ms/step - loss: 3.9657\n",
            "Epoch 189/200\n",
            "10/10 [==============================] - 0s 2ms/step - loss: 3.0573\n",
            "Epoch 190/200\n",
            "10/10 [==============================] - 0s 2ms/step - loss: 4.4467\n",
            "Epoch 191/200\n",
            "10/10 [==============================] - 0s 2ms/step - loss: 3.6094\n",
            "Epoch 192/200\n",
            "10/10 [==============================] - 0s 2ms/step - loss: 4.4905\n",
            "Epoch 193/200\n",
            "10/10 [==============================] - 0s 2ms/step - loss: 5.2155\n",
            "Epoch 194/200\n",
            "10/10 [==============================] - 0s 2ms/step - loss: 3.5113\n",
            "Epoch 195/200\n",
            "10/10 [==============================] - 0s 2ms/step - loss: 3.8272\n",
            "Epoch 196/200\n",
            "10/10 [==============================] - 0s 2ms/step - loss: 4.3682\n",
            "Epoch 197/200\n",
            "10/10 [==============================] - 0s 2ms/step - loss: 4.0633\n",
            "Epoch 198/200\n",
            "10/10 [==============================] - 0s 1ms/step - loss: 4.5426\n",
            "Epoch 199/200\n",
            "10/10 [==============================] - 0s 2ms/step - loss: 3.9875\n",
            "Epoch 200/200\n",
            "10/10 [==============================] - 0s 2ms/step - loss: 4.2300\n"
          ],
          "name": "stdout"
        }
      ]
    },
    {
      "cell_type": "code",
      "metadata": {
        "id": "FPOnN6IAKsag"
      },
      "source": [
        ""
      ],
      "execution_count": null,
      "outputs": []
    },
    {
      "cell_type": "code",
      "metadata": {
        "id": "KseybSJwK8Nv",
        "colab": {
          "base_uri": "https://localhost:8080/",
          "height": 265
        },
        "outputId": "b55edc84-bb37-44bb-87d9-4e1f19fd4b32"
      },
      "source": [
        "loss = history.history['loss']\n",
        "epochs = range(len(loss))\n",
        "plt.plot(epochs, loss, 'b', label='Training Loss')\n",
        "plt.show()"
      ],
      "execution_count": null,
      "outputs": [
        {
          "output_type": "display_data",
          "data": {
            "image/png": "[encoded data removed]",
            "text/plain": [
              "<Figure size 432x288 with 1 Axes>"
            ]
          },
          "metadata": {
            "tags": [],
            "needs_background": "light"
          }
        }
      ]
    },
    {
      "cell_type": "code",
      "metadata": {
        "id": "tKOkgaEYVUZP",
        "colab": {
          "base_uri": "https://localhost:8080/",
          "height": 322
        },
        "outputId": "6ebbe66c-2ca7-4146-a84c-2546b2d0b93d"
      },
      "source": [
        "df.loc[:20,1:]"
      ],
      "execution_count": null,
      "outputs": [
        {
          "output_type": "error",
          "ename": "TypeError",
          "evalue": "ignored",
          "traceback": [
            "\u001b[0;31m---------------------------------------------------------------------------\u001b[0m",
            "\u001b[0;31mTypeError\u001b[0m                                 Traceback (most recent call last)",
            "\u001b[0;32m<ipython-input-46-a1908f54167d>\u001b[0m in \u001b[0;36m<module>\u001b[0;34m()\u001b[0m\n\u001b[0;32m----> 1\u001b[0;31m \u001b[0mdf\u001b[0m\u001b[0;34m.\u001b[0m\u001b[0mloc\u001b[0m\u001b[0;34m[\u001b[0m\u001b[0;34m:\u001b[0m\u001b[0;36m20\u001b[0m\u001b[0;34m,\u001b[0m\u001b[0;36m1\u001b[0m\u001b[0;34m:\u001b[0m\u001b[0;34m]\u001b[0m\u001b[0;34m\u001b[0m\u001b[0;34m\u001b[0m\u001b[0m\n\u001b[0m",
            "\u001b[0;32m/usr/local/lib/python3.7/dist-packages/pandas/core/indexing.py\u001b[0m in \u001b[0;36m__getitem__\u001b[0;34m(self, key)\u001b[0m\n\u001b[1;32m    871\u001b[0m                     \u001b[0;31m# AttributeError for IntervalTree get_value\u001b[0m\u001b[0;34m\u001b[0m\u001b[0;34m\u001b[0m\u001b[0;34m\u001b[0m\u001b[0m\n\u001b[1;32m    872\u001b[0m                     \u001b[0;32mpass\u001b[0m\u001b[0;34m\u001b[0m\u001b[0;34m\u001b[0m\u001b[0m\n\u001b[0;32m--> 873\u001b[0;31m             \u001b[0;32mreturn\u001b[0m \u001b[0mself\u001b[0m\u001b[0;34m.\u001b[0m\u001b[0m_getitem_tuple\u001b[0m\u001b[0;34m(\u001b[0m\u001b[0mkey\u001b[0m\u001b[0;34m)\u001b[0m\u001b[0;34m\u001b[0m\u001b[0;34m\u001b[0m\u001b[0m\n\u001b[0m\u001b[1;32m    874\u001b[0m         \u001b[0;32melse\u001b[0m\u001b[0;34m:\u001b[0m\u001b[0;34m\u001b[0m\u001b[0;34m\u001b[0m\u001b[0m\n\u001b[1;32m    875\u001b[0m             \u001b[0;31m# we by definition only have the 0th axis\u001b[0m\u001b[0;34m\u001b[0m\u001b[0;34m\u001b[0m\u001b[0;34m\u001b[0m\u001b[0m\n",
            "\u001b[0;32m/usr/local/lib/python3.7/dist-packages/pandas/core/indexing.py\u001b[0m in \u001b[0;36m_getitem_tuple\u001b[0;34m(self, tup)\u001b[0m\n\u001b[1;32m   1053\u001b[0m             \u001b[0;32mreturn\u001b[0m \u001b[0mself\u001b[0m\u001b[0;34m.\u001b[0m\u001b[0m_multi_take\u001b[0m\u001b[0;34m(\u001b[0m\u001b[0mtup\u001b[0m\u001b[0;34m)\u001b[0m\u001b[0;34m\u001b[0m\u001b[0;34m\u001b[0m\u001b[0m\n\u001b[1;32m   1054\u001b[0m \u001b[0;34m\u001b[0m\u001b[0m\n\u001b[0;32m-> 1055\u001b[0;31m         \u001b[0;32mreturn\u001b[0m \u001b[0mself\u001b[0m\u001b[0;34m.\u001b[0m\u001b[0m_getitem_tuple_same_dim\u001b[0m\u001b[0;34m(\u001b[0m\u001b[0mtup\u001b[0m\u001b[0;34m)\u001b[0m\u001b[0;34m\u001b[0m\u001b[0;34m\u001b[0m\u001b[0m\n\u001b[0m\u001b[1;32m   1056\u001b[0m \u001b[0;34m\u001b[0m\u001b[0m\n\u001b[1;32m   1057\u001b[0m     \u001b[0;32mdef\u001b[0m \u001b[0m_get_label\u001b[0m\u001b[0;34m(\u001b[0m\u001b[0mself\u001b[0m\u001b[0;34m,\u001b[0m \u001b[0mlabel\u001b[0m\u001b[0;34m,\u001b[0m \u001b[0maxis\u001b[0m\u001b[0;34m:\u001b[0m \u001b[0mint\u001b[0m\u001b[0;34m)\u001b[0m\u001b[0;34m:\u001b[0m\u001b[0;34m\u001b[0m\u001b[0;34m\u001b[0m\u001b[0m\n",
            "\u001b[0;32m/usr/local/lib/python3.7/dist-packages/pandas/core/indexing.py\u001b[0m in \u001b[0;36m_getitem_tuple_same_dim\u001b[0;34m(self, tup)\u001b[0m\n\u001b[1;32m    748\u001b[0m                 \u001b[0;32mcontinue\u001b[0m\u001b[0;34m\u001b[0m\u001b[0;34m\u001b[0m\u001b[0m\n\u001b[1;32m    749\u001b[0m \u001b[0;34m\u001b[0m\u001b[0m\n\u001b[0;32m--> 750\u001b[0;31m             \u001b[0mretval\u001b[0m \u001b[0;34m=\u001b[0m \u001b[0mgetattr\u001b[0m\u001b[0;34m(\u001b[0m\u001b[0mretval\u001b[0m\u001b[0;34m,\u001b[0m \u001b[0mself\u001b[0m\u001b[0;34m.\u001b[0m\u001b[0mname\u001b[0m\u001b[0;34m)\u001b[0m\u001b[0;34m.\u001b[0m\u001b[0m_getitem_axis\u001b[0m\u001b[0;34m(\u001b[0m\u001b[0mkey\u001b[0m\u001b[0;34m,\u001b[0m \u001b[0maxis\u001b[0m\u001b[0;34m=\u001b[0m\u001b[0mi\u001b[0m\u001b[0;34m)\u001b[0m\u001b[0;34m\u001b[0m\u001b[0;34m\u001b[0m\u001b[0m\n\u001b[0m\u001b[1;32m    751\u001b[0m             \u001b[0;31m# We should never have retval.ndim < self.ndim, as that should\u001b[0m\u001b[0;34m\u001b[0m\u001b[0;34m\u001b[0m\u001b[0;34m\u001b[0m\u001b[0m\n\u001b[1;32m    752\u001b[0m             \u001b[0;31m#  be handled by the _getitem_lowerdim call above.\u001b[0m\u001b[0;34m\u001b[0m\u001b[0;34m\u001b[0m\u001b[0;34m\u001b[0m\u001b[0m\n",
            "\u001b[0;32m/usr/local/lib/python3.7/dist-packages/pandas/core/indexing.py\u001b[0m in \u001b[0;36m_getitem_axis\u001b[0;34m(self, key, axis)\u001b[0m\n\u001b[1;32m   1086\u001b[0m         \u001b[0;32mif\u001b[0m \u001b[0misinstance\u001b[0m\u001b[0;34m(\u001b[0m\u001b[0mkey\u001b[0m\u001b[0;34m,\u001b[0m \u001b[0mslice\u001b[0m\u001b[0;34m)\u001b[0m\u001b[0;34m:\u001b[0m\u001b[0;34m\u001b[0m\u001b[0;34m\u001b[0m\u001b[0m\n\u001b[1;32m   1087\u001b[0m             \u001b[0mself\u001b[0m\u001b[0;34m.\u001b[0m\u001b[0m_validate_key\u001b[0m\u001b[0;34m(\u001b[0m\u001b[0mkey\u001b[0m\u001b[0;34m,\u001b[0m \u001b[0maxis\u001b[0m\u001b[0;34m)\u001b[0m\u001b[0;34m\u001b[0m\u001b[0;34m\u001b[0m\u001b[0m\n\u001b[0;32m-> 1088\u001b[0;31m             \u001b[0;32mreturn\u001b[0m \u001b[0mself\u001b[0m\u001b[0;34m.\u001b[0m\u001b[0m_get_slice_axis\u001b[0m\u001b[0;34m(\u001b[0m\u001b[0mkey\u001b[0m\u001b[0;34m,\u001b[0m \u001b[0maxis\u001b[0m\u001b[0;34m=\u001b[0m\u001b[0maxis\u001b[0m\u001b[0;34m)\u001b[0m\u001b[0;34m\u001b[0m\u001b[0;34m\u001b[0m\u001b[0m\n\u001b[0m\u001b[1;32m   1089\u001b[0m         \u001b[0;32melif\u001b[0m \u001b[0mcom\u001b[0m\u001b[0;34m.\u001b[0m\u001b[0mis_bool_indexer\u001b[0m\u001b[0;34m(\u001b[0m\u001b[0mkey\u001b[0m\u001b[0;34m)\u001b[0m\u001b[0;34m:\u001b[0m\u001b[0;34m\u001b[0m\u001b[0;34m\u001b[0m\u001b[0m\n\u001b[1;32m   1090\u001b[0m             \u001b[0;32mreturn\u001b[0m \u001b[0mself\u001b[0m\u001b[0;34m.\u001b[0m\u001b[0m_getbool_axis\u001b[0m\u001b[0;34m(\u001b[0m\u001b[0mkey\u001b[0m\u001b[0;34m,\u001b[0m \u001b[0maxis\u001b[0m\u001b[0;34m=\u001b[0m\u001b[0maxis\u001b[0m\u001b[0;34m)\u001b[0m\u001b[0;34m\u001b[0m\u001b[0;34m\u001b[0m\u001b[0m\n",
            "\u001b[0;32m/usr/local/lib/python3.7/dist-packages/pandas/core/indexing.py\u001b[0m in \u001b[0;36m_get_slice_axis\u001b[0;34m(self, slice_obj, axis)\u001b[0m\n\u001b[1;32m   1121\u001b[0m         \u001b[0mlabels\u001b[0m \u001b[0;34m=\u001b[0m \u001b[0mobj\u001b[0m\u001b[0;34m.\u001b[0m\u001b[0m_get_axis\u001b[0m\u001b[0;34m(\u001b[0m\u001b[0maxis\u001b[0m\u001b[0;34m)\u001b[0m\u001b[0;34m\u001b[0m\u001b[0;34m\u001b[0m\u001b[0m\n\u001b[1;32m   1122\u001b[0m         indexer = labels.slice_indexer(\n\u001b[0;32m-> 1123\u001b[0;31m             \u001b[0mslice_obj\u001b[0m\u001b[0;34m.\u001b[0m\u001b[0mstart\u001b[0m\u001b[0;34m,\u001b[0m \u001b[0mslice_obj\u001b[0m\u001b[0;34m.\u001b[0m\u001b[0mstop\u001b[0m\u001b[0;34m,\u001b[0m \u001b[0mslice_obj\u001b[0m\u001b[0;34m.\u001b[0m\u001b[0mstep\u001b[0m\u001b[0;34m,\u001b[0m \u001b[0mkind\u001b[0m\u001b[0;34m=\u001b[0m\u001b[0;34m\"loc\"\u001b[0m\u001b[0;34m\u001b[0m\u001b[0;34m\u001b[0m\u001b[0m\n\u001b[0m\u001b[1;32m   1124\u001b[0m         )\n\u001b[1;32m   1125\u001b[0m \u001b[0;34m\u001b[0m\u001b[0m\n",
            "\u001b[0;32m/usr/local/lib/python3.7/dist-packages/pandas/core/indexes/base.py\u001b[0m in \u001b[0;36mslice_indexer\u001b[0;34m(self, start, end, step, kind)\u001b[0m\n\u001b[1;32m   4967\u001b[0m         \u001b[0mslice\u001b[0m\u001b[0;34m(\u001b[0m\u001b[0;36m1\u001b[0m\u001b[0;34m,\u001b[0m \u001b[0;36m3\u001b[0m\u001b[0;34m,\u001b[0m \u001b[0;32mNone\u001b[0m\u001b[0;34m)\u001b[0m\u001b[0;34m\u001b[0m\u001b[0;34m\u001b[0m\u001b[0m\n\u001b[1;32m   4968\u001b[0m         \"\"\"\n\u001b[0;32m-> 4969\u001b[0;31m         \u001b[0mstart_slice\u001b[0m\u001b[0;34m,\u001b[0m \u001b[0mend_slice\u001b[0m \u001b[0;34m=\u001b[0m \u001b[0mself\u001b[0m\u001b[0;34m.\u001b[0m\u001b[0mslice_locs\u001b[0m\u001b[0;34m(\u001b[0m\u001b[0mstart\u001b[0m\u001b[0;34m,\u001b[0m \u001b[0mend\u001b[0m\u001b[0;34m,\u001b[0m \u001b[0mstep\u001b[0m\u001b[0;34m=\u001b[0m\u001b[0mstep\u001b[0m\u001b[0;34m,\u001b[0m \u001b[0mkind\u001b[0m\u001b[0;34m=\u001b[0m\u001b[0mkind\u001b[0m\u001b[0;34m)\u001b[0m\u001b[0;34m\u001b[0m\u001b[0;34m\u001b[0m\u001b[0m\n\u001b[0m\u001b[1;32m   4970\u001b[0m \u001b[0;34m\u001b[0m\u001b[0m\n\u001b[1;32m   4971\u001b[0m         \u001b[0;31m# return a slice\u001b[0m\u001b[0;34m\u001b[0m\u001b[0;34m\u001b[0m\u001b[0;34m\u001b[0m\u001b[0m\n",
            "\u001b[0;32m/usr/local/lib/python3.7/dist-packages/pandas/core/indexes/base.py\u001b[0m in \u001b[0;36mslice_locs\u001b[0;34m(self, start, end, step, kind)\u001b[0m\n\u001b[1;32m   5170\u001b[0m         \u001b[0mstart_slice\u001b[0m \u001b[0;34m=\u001b[0m \u001b[0;32mNone\u001b[0m\u001b[0;34m\u001b[0m\u001b[0;34m\u001b[0m\u001b[0m\n\u001b[1;32m   5171\u001b[0m         \u001b[0;32mif\u001b[0m \u001b[0mstart\u001b[0m \u001b[0;32mis\u001b[0m \u001b[0;32mnot\u001b[0m \u001b[0;32mNone\u001b[0m\u001b[0;34m:\u001b[0m\u001b[0;34m\u001b[0m\u001b[0;34m\u001b[0m\u001b[0m\n\u001b[0;32m-> 5172\u001b[0;31m             \u001b[0mstart_slice\u001b[0m \u001b[0;34m=\u001b[0m \u001b[0mself\u001b[0m\u001b[0;34m.\u001b[0m\u001b[0mget_slice_bound\u001b[0m\u001b[0;34m(\u001b[0m\u001b[0mstart\u001b[0m\u001b[0;34m,\u001b[0m \u001b[0;34m\"left\"\u001b[0m\u001b[0;34m,\u001b[0m \u001b[0mkind\u001b[0m\u001b[0;34m)\u001b[0m\u001b[0;34m\u001b[0m\u001b[0;34m\u001b[0m\u001b[0m\n\u001b[0m\u001b[1;32m   5173\u001b[0m         \u001b[0;32mif\u001b[0m \u001b[0mstart_slice\u001b[0m \u001b[0;32mis\u001b[0m \u001b[0;32mNone\u001b[0m\u001b[0;34m:\u001b[0m\u001b[0;34m\u001b[0m\u001b[0;34m\u001b[0m\u001b[0m\n\u001b[1;32m   5174\u001b[0m             \u001b[0mstart_slice\u001b[0m \u001b[0;34m=\u001b[0m \u001b[0;36m0\u001b[0m\u001b[0;34m\u001b[0m\u001b[0;34m\u001b[0m\u001b[0m\n",
            "\u001b[0;32m/usr/local/lib/python3.7/dist-packages/pandas/core/indexes/base.py\u001b[0m in \u001b[0;36mget_slice_bound\u001b[0;34m(self, label, side, kind)\u001b[0m\n\u001b[1;32m   5080\u001b[0m         \u001b[0;31m# For datetime indices label may be a string that has to be converted\u001b[0m\u001b[0;34m\u001b[0m\u001b[0;34m\u001b[0m\u001b[0;34m\u001b[0m\u001b[0m\n\u001b[1;32m   5081\u001b[0m         \u001b[0;31m# to datetime boundary according to its resolution.\u001b[0m\u001b[0;34m\u001b[0m\u001b[0;34m\u001b[0m\u001b[0;34m\u001b[0m\u001b[0m\n\u001b[0;32m-> 5082\u001b[0;31m         \u001b[0mlabel\u001b[0m \u001b[0;34m=\u001b[0m \u001b[0mself\u001b[0m\u001b[0;34m.\u001b[0m\u001b[0m_maybe_cast_slice_bound\u001b[0m\u001b[0;34m(\u001b[0m\u001b[0mlabel\u001b[0m\u001b[0;34m,\u001b[0m \u001b[0mside\u001b[0m\u001b[0;34m,\u001b[0m \u001b[0mkind\u001b[0m\u001b[0;34m)\u001b[0m\u001b[0;34m\u001b[0m\u001b[0;34m\u001b[0m\u001b[0m\n\u001b[0m\u001b[1;32m   5083\u001b[0m \u001b[0;34m\u001b[0m\u001b[0m\n\u001b[1;32m   5084\u001b[0m         \u001b[0;31m# we need to look up the label\u001b[0m\u001b[0;34m\u001b[0m\u001b[0;34m\u001b[0m\u001b[0;34m\u001b[0m\u001b[0m\n",
            "\u001b[0;32m/usr/local/lib/python3.7/dist-packages/pandas/core/indexes/base.py\u001b[0m in \u001b[0;36m_maybe_cast_slice_bound\u001b[0;34m(self, label, side, kind)\u001b[0m\n\u001b[1;32m   5032\u001b[0m         \u001b[0;31m# this is rejected (generally .loc gets you here)\u001b[0m\u001b[0;34m\u001b[0m\u001b[0;34m\u001b[0m\u001b[0;34m\u001b[0m\u001b[0m\n\u001b[1;32m   5033\u001b[0m         \u001b[0;32melif\u001b[0m \u001b[0mis_integer\u001b[0m\u001b[0;34m(\u001b[0m\u001b[0mlabel\u001b[0m\u001b[0;34m)\u001b[0m\u001b[0;34m:\u001b[0m\u001b[0;34m\u001b[0m\u001b[0;34m\u001b[0m\u001b[0m\n\u001b[0;32m-> 5034\u001b[0;31m             \u001b[0mself\u001b[0m\u001b[0;34m.\u001b[0m\u001b[0m_invalid_indexer\u001b[0m\u001b[0;34m(\u001b[0m\u001b[0;34m\"slice\"\u001b[0m\u001b[0;34m,\u001b[0m \u001b[0mlabel\u001b[0m\u001b[0;34m)\u001b[0m\u001b[0;34m\u001b[0m\u001b[0;34m\u001b[0m\u001b[0m\n\u001b[0m\u001b[1;32m   5035\u001b[0m \u001b[0;34m\u001b[0m\u001b[0m\n\u001b[1;32m   5036\u001b[0m         \u001b[0;32mreturn\u001b[0m \u001b[0mlabel\u001b[0m\u001b[0;34m\u001b[0m\u001b[0;34m\u001b[0m\u001b[0m\n",
            "\u001b[0;32m/usr/local/lib/python3.7/dist-packages/pandas/core/indexes/base.py\u001b[0m in \u001b[0;36m_invalid_indexer\u001b[0;34m(self, form, key)\u001b[0m\n\u001b[1;32m   3269\u001b[0m         \"\"\"\n\u001b[1;32m   3270\u001b[0m         raise TypeError(\n\u001b[0;32m-> 3271\u001b[0;31m             \u001b[0;34mf\"cannot do {form} indexing on {type(self).__name__} with these \"\u001b[0m\u001b[0;34m\u001b[0m\u001b[0;34m\u001b[0m\u001b[0m\n\u001b[0m\u001b[1;32m   3272\u001b[0m             \u001b[0;34mf\"indexers [{key}] of type {type(key).__name__}\"\u001b[0m\u001b[0;34m\u001b[0m\u001b[0;34m\u001b[0m\u001b[0m\n\u001b[1;32m   3273\u001b[0m         )\n",
            "\u001b[0;31mTypeError\u001b[0m: cannot do slice indexing on Index with these indexers [1] of type int"
          ]
        }
      ]
    },
    {
      "cell_type": "code",
      "metadata": {
        "id": "5eoYBrfZWAj_"
      },
      "source": [
        "################################################################# windowsing Testing 2 ########################################################\n",
        "\n",
        "'''\n",
        "Notes to improve \n",
        "encoding the activity to codes \n",
        "one hot encoding of activity during windowing only\n",
        "'''\n",
        "df =  pd.read_csv('inter_norm_mini.csv')\n",
        "from tensorflow.keras.utils import to_categorical"
      ],
      "execution_count": 13,
      "outputs": []
    },
    {
      "cell_type": "code",
      "metadata": {
        "id": "9eXFBOZ80nRT",
        "outputId": "02b5a09e-1060-4bc2-cfa5-49094b723e6a",
        "colab": {
          "base_uri": "https://localhost:8080/",
          "height": 206
        }
      },
      "source": [
        "df.head()"
      ],
      "execution_count": 14,
      "outputs": [
        {
          "output_type": "execute_result",
          "data": {
            "text/html": [
              "<div>\n",
              "<style scoped>\n",
              "    .dataframe tbody tr th:only-of-type {\n",
              "        vertical-align: middle;\n",
              "    }\n",
              "\n",
              "    .dataframe tbody tr th {\n",
              "        vertical-align: top;\n",
              "    }\n",
              "\n",
              "    .dataframe thead th {\n",
              "        text-align: right;\n",
              "    }\n",
              "</style>\n",
              "<table border=\"1\" class=\"dataframe\">\n",
              "  <thead>\n",
              "    <tr style=\"text-align: right;\">\n",
              "      <th></th>\n",
              "      <th>user</th>\n",
              "      <th>activity</th>\n",
              "      <th>timestamp</th>\n",
              "      <th>x-axis</th>\n",
              "      <th>y-axis</th>\n",
              "      <th>z-axis</th>\n",
              "    </tr>\n",
              "  </thead>\n",
              "  <tbody>\n",
              "    <tr>\n",
              "      <th>0</th>\n",
              "      <td>14</td>\n",
              "      <td>Downstairs</td>\n",
              "      <td>57725432324000</td>\n",
              "      <td>0.668528</td>\n",
              "      <td>0.725448</td>\n",
              "      <td>-0.163691</td>\n",
              "    </tr>\n",
              "    <tr>\n",
              "      <th>1</th>\n",
              "      <td>7</td>\n",
              "      <td>Upstairs</td>\n",
              "      <td>208866321473000</td>\n",
              "      <td>0.454967</td>\n",
              "      <td>0.875538</td>\n",
              "      <td>-0.162600</td>\n",
              "    </tr>\n",
              "    <tr>\n",
              "      <th>2</th>\n",
              "      <td>29</td>\n",
              "      <td>Jogging</td>\n",
              "      <td>0</td>\n",
              "      <td>0.287281</td>\n",
              "      <td>0.887311</td>\n",
              "      <td>-0.360761</td>\n",
              "    </tr>\n",
              "    <tr>\n",
              "      <th>3</th>\n",
              "      <td>15</td>\n",
              "      <td>Jogging</td>\n",
              "      <td>0</td>\n",
              "      <td>0.944283</td>\n",
              "      <td>0.292972</td>\n",
              "      <td>-0.149990</td>\n",
              "    </tr>\n",
              "    <tr>\n",
              "      <th>4</th>\n",
              "      <td>8</td>\n",
              "      <td>Jogging</td>\n",
              "      <td>111020251899000</td>\n",
              "      <td>-0.124547</td>\n",
              "      <td>-0.706035</td>\n",
              "      <td>-0.697139</td>\n",
              "    </tr>\n",
              "  </tbody>\n",
              "</table>\n",
              "</div>"
            ],
            "text/plain": [
              "   user    activity        timestamp    x-axis    y-axis    z-axis\n",
              "0    14  Downstairs   57725432324000  0.668528  0.725448 -0.163691\n",
              "1     7    Upstairs  208866321473000  0.454967  0.875538 -0.162600\n",
              "2    29     Jogging                0  0.287281  0.887311 -0.360761\n",
              "3    15     Jogging                0  0.944283  0.292972 -0.149990\n",
              "4     8     Jogging  111020251899000 -0.124547 -0.706035 -0.697139"
            ]
          },
          "metadata": {
            "tags": []
          },
          "execution_count": 14
        }
      ]
    },
    {
      "cell_type": "code",
      "metadata": {
        "id": "KTPipz4R0o3U"
      },
      "source": [
        "df.drop('user', axis=1,inplace = True)"
      ],
      "execution_count": 15,
      "outputs": []
    },
    {
      "cell_type": "code",
      "metadata": {
        "id": "kuD6KhM_0w-q",
        "outputId": "d5b0b4cd-e723-4cbe-cd11-feed66ab3a43",
        "colab": {
          "base_uri": "https://localhost:8080/",
          "height": 424
        }
      },
      "source": [
        "df"
      ],
      "execution_count": 16,
      "outputs": [
        {
          "output_type": "execute_result",
          "data": {
            "text/html": [
              "<div>\n",
              "<style scoped>\n",
              "    .dataframe tbody tr th:only-of-type {\n",
              "        vertical-align: middle;\n",
              "    }\n",
              "\n",
              "    .dataframe tbody tr th {\n",
              "        vertical-align: top;\n",
              "    }\n",
              "\n",
              "    .dataframe thead th {\n",
              "        text-align: right;\n",
              "    }\n",
              "</style>\n",
              "<table border=\"1\" class=\"dataframe\">\n",
              "  <thead>\n",
              "    <tr style=\"text-align: right;\">\n",
              "      <th></th>\n",
              "      <th>activity</th>\n",
              "      <th>timestamp</th>\n",
              "      <th>x-axis</th>\n",
              "      <th>y-axis</th>\n",
              "      <th>z-axis</th>\n",
              "    </tr>\n",
              "  </thead>\n",
              "  <tbody>\n",
              "    <tr>\n",
              "      <th>0</th>\n",
              "      <td>Downstairs</td>\n",
              "      <td>57725432324000</td>\n",
              "      <td>0.668528</td>\n",
              "      <td>0.725448</td>\n",
              "      <td>-0.163691</td>\n",
              "    </tr>\n",
              "    <tr>\n",
              "      <th>1</th>\n",
              "      <td>Upstairs</td>\n",
              "      <td>208866321473000</td>\n",
              "      <td>0.454967</td>\n",
              "      <td>0.875538</td>\n",
              "      <td>-0.162600</td>\n",
              "    </tr>\n",
              "    <tr>\n",
              "      <th>2</th>\n",
              "      <td>Jogging</td>\n",
              "      <td>0</td>\n",
              "      <td>0.287281</td>\n",
              "      <td>0.887311</td>\n",
              "      <td>-0.360761</td>\n",
              "    </tr>\n",
              "    <tr>\n",
              "      <th>3</th>\n",
              "      <td>Jogging</td>\n",
              "      <td>0</td>\n",
              "      <td>0.944283</td>\n",
              "      <td>0.292972</td>\n",
              "      <td>-0.149990</td>\n",
              "    </tr>\n",
              "    <tr>\n",
              "      <th>4</th>\n",
              "      <td>Jogging</td>\n",
              "      <td>111020251899000</td>\n",
              "      <td>-0.124547</td>\n",
              "      <td>-0.706035</td>\n",
              "      <td>-0.697139</td>\n",
              "    </tr>\n",
              "    <tr>\n",
              "      <th>...</th>\n",
              "      <td>...</td>\n",
              "      <td>...</td>\n",
              "      <td>...</td>\n",
              "      <td>...</td>\n",
              "      <td>...</td>\n",
              "    </tr>\n",
              "    <tr>\n",
              "      <th>105</th>\n",
              "      <td>Downstairs</td>\n",
              "      <td>1749732310000</td>\n",
              "      <td>0.449064</td>\n",
              "      <td>0.893440</td>\n",
              "      <td>-0.010313</td>\n",
              "    </tr>\n",
              "    <tr>\n",
              "      <th>106</th>\n",
              "      <td>Downstairs</td>\n",
              "      <td>24512351662000</td>\n",
              "      <td>-0.157978</td>\n",
              "      <td>0.929553</td>\n",
              "      <td>0.333128</td>\n",
              "    </tr>\n",
              "    <tr>\n",
              "      <th>107</th>\n",
              "      <td>Jogging</td>\n",
              "      <td>59899442333000</td>\n",
              "      <td>0.687072</td>\n",
              "      <td>0.721425</td>\n",
              "      <td>-0.086476</td>\n",
              "    </tr>\n",
              "    <tr>\n",
              "      <th>108</th>\n",
              "      <td>Walking</td>\n",
              "      <td>129874801576000</td>\n",
              "      <td>0.927688</td>\n",
              "      <td>0.373049</td>\n",
              "      <td>-0.015133</td>\n",
              "    </tr>\n",
              "    <tr>\n",
              "      <th>109</th>\n",
              "      <td>Walking</td>\n",
              "      <td>110576562080000</td>\n",
              "      <td>0.444785</td>\n",
              "      <td>0.834132</td>\n",
              "      <td>-0.326175</td>\n",
              "    </tr>\n",
              "  </tbody>\n",
              "</table>\n",
              "<p>110 rows × 5 columns</p>\n",
              "</div>"
            ],
            "text/plain": [
              "       activity        timestamp    x-axis    y-axis    z-axis\n",
              "0    Downstairs   57725432324000  0.668528  0.725448 -0.163691\n",
              "1      Upstairs  208866321473000  0.454967  0.875538 -0.162600\n",
              "2       Jogging                0  0.287281  0.887311 -0.360761\n",
              "3       Jogging                0  0.944283  0.292972 -0.149990\n",
              "4       Jogging  111020251899000 -0.124547 -0.706035 -0.697139\n",
              "..          ...              ...       ...       ...       ...\n",
              "105  Downstairs    1749732310000  0.449064  0.893440 -0.010313\n",
              "106  Downstairs   24512351662000 -0.157978  0.929553  0.333128\n",
              "107     Jogging   59899442333000  0.687072  0.721425 -0.086476\n",
              "108     Walking  129874801576000  0.927688  0.373049 -0.015133\n",
              "109     Walking  110576562080000  0.444785  0.834132 -0.326175\n",
              "\n",
              "[110 rows x 5 columns]"
            ]
          },
          "metadata": {
            "tags": []
          },
          "execution_count": 16
        }
      ]
    },
    {
      "cell_type": "code",
      "metadata": {
        "id": "XwlVMtXN0xlC"
      },
      "source": [
        "df.drop('timestamp', axis=1, inplace=True)"
      ],
      "execution_count": 17,
      "outputs": []
    },
    {
      "cell_type": "code",
      "metadata": {
        "id": "RJAsnsTL08UB",
        "outputId": "907a541d-ca7e-4022-923a-0dfc6e0724a6",
        "colab": {
          "base_uri": "https://localhost:8080/",
          "height": 206
        }
      },
      "source": [
        "df.head()"
      ],
      "execution_count": 18,
      "outputs": [
        {
          "output_type": "execute_result",
          "data": {
            "text/html": [
              "<div>\n",
              "<style scoped>\n",
              "    .dataframe tbody tr th:only-of-type {\n",
              "        vertical-align: middle;\n",
              "    }\n",
              "\n",
              "    .dataframe tbody tr th {\n",
              "        vertical-align: top;\n",
              "    }\n",
              "\n",
              "    .dataframe thead th {\n",
              "        text-align: right;\n",
              "    }\n",
              "</style>\n",
              "<table border=\"1\" class=\"dataframe\">\n",
              "  <thead>\n",
              "    <tr style=\"text-align: right;\">\n",
              "      <th></th>\n",
              "      <th>activity</th>\n",
              "      <th>x-axis</th>\n",
              "      <th>y-axis</th>\n",
              "      <th>z-axis</th>\n",
              "    </tr>\n",
              "  </thead>\n",
              "  <tbody>\n",
              "    <tr>\n",
              "      <th>0</th>\n",
              "      <td>Downstairs</td>\n",
              "      <td>0.668528</td>\n",
              "      <td>0.725448</td>\n",
              "      <td>-0.163691</td>\n",
              "    </tr>\n",
              "    <tr>\n",
              "      <th>1</th>\n",
              "      <td>Upstairs</td>\n",
              "      <td>0.454967</td>\n",
              "      <td>0.875538</td>\n",
              "      <td>-0.162600</td>\n",
              "    </tr>\n",
              "    <tr>\n",
              "      <th>2</th>\n",
              "      <td>Jogging</td>\n",
              "      <td>0.287281</td>\n",
              "      <td>0.887311</td>\n",
              "      <td>-0.360761</td>\n",
              "    </tr>\n",
              "    <tr>\n",
              "      <th>3</th>\n",
              "      <td>Jogging</td>\n",
              "      <td>0.944283</td>\n",
              "      <td>0.292972</td>\n",
              "      <td>-0.149990</td>\n",
              "    </tr>\n",
              "    <tr>\n",
              "      <th>4</th>\n",
              "      <td>Jogging</td>\n",
              "      <td>-0.124547</td>\n",
              "      <td>-0.706035</td>\n",
              "      <td>-0.697139</td>\n",
              "    </tr>\n",
              "  </tbody>\n",
              "</table>\n",
              "</div>"
            ],
            "text/plain": [
              "     activity    x-axis    y-axis    z-axis\n",
              "0  Downstairs  0.668528  0.725448 -0.163691\n",
              "1    Upstairs  0.454967  0.875538 -0.162600\n",
              "2     Jogging  0.287281  0.887311 -0.360761\n",
              "3     Jogging  0.944283  0.292972 -0.149990\n",
              "4     Jogging -0.124547 -0.706035 -0.697139"
            ]
          },
          "metadata": {
            "tags": []
          },
          "execution_count": 18
        }
      ]
    },
    {
      "cell_type": "code",
      "metadata": {
        "id": "mhWBLhHC09v6",
        "outputId": "b7299197-b1a5-4868-de37-4026915481bb",
        "colab": {
          "base_uri": "https://localhost:8080/"
        }
      },
      "source": [
        "df.dtypes"
      ],
      "execution_count": 19,
      "outputs": [
        {
          "output_type": "execute_result",
          "data": {
            "text/plain": [
              "activity     object\n",
              "x-axis      float64\n",
              "y-axis      float64\n",
              "z-axis      float64\n",
              "dtype: object"
            ]
          },
          "metadata": {
            "tags": []
          },
          "execution_count": 19
        }
      ]
    },
    {
      "cell_type": "code",
      "metadata": {
        "id": "SrSyDdFk1o87"
      },
      "source": [
        "df.activity = df.activity.astype('category')"
      ],
      "execution_count": 24,
      "outputs": []
    },
    {
      "cell_type": "code",
      "metadata": {
        "id": "ByShZdZt17uj"
      },
      "source": [
        "df.activity = df.activity.cat.codes"
      ],
      "execution_count": 25,
      "outputs": []
    },
    {
      "cell_type": "code",
      "metadata": {
        "id": "-7lni_dS2A7C"
      },
      "source": [
        ""
      ],
      "execution_count": null,
      "outputs": []
    },
    {
      "cell_type": "code",
      "metadata": {
        "id": "wuhrc_Jf17wy"
      },
      "source": [
        "# splitting to train and test"
      ],
      "execution_count": null,
      "outputs": []
    },
    {
      "cell_type": "code",
      "metadata": {
        "id": "nnAZjAZq1C8S",
        "outputId": "205acdb1-1984-4288-d99d-5e51d677043b",
        "colab": {
          "base_uri": "https://localhost:8080/"
        }
      },
      "source": [
        "df.index"
      ],
      "execution_count": 20,
      "outputs": [
        {
          "output_type": "execute_result",
          "data": {
            "text/plain": [
              "RangeIndex(start=0, stop=110, step=1)"
            ]
          },
          "metadata": {
            "tags": []
          },
          "execution_count": 20
        }
      ]
    },
    {
      "cell_type": "code",
      "metadata": {
        "id": "Pg1EmhDM1jCi"
      },
      "source": [
        "window_size = 20\n",
        "# so last 20 for testing\n",
        "train = df[:90]\n",
        "test = df[90:]"
      ],
      "execution_count": 26,
      "outputs": []
    },
    {
      "cell_type": "code",
      "metadata": {
        "id": "A8SzJqfJ2ecZ",
        "outputId": "03f76671-052d-446c-bce3-a9bd11adcbf0",
        "colab": {
          "base_uri": "https://localhost:8080/"
        }
      },
      "source": [
        "print(train.shape)\n",
        "print(test.shape)"
      ],
      "execution_count": 27,
      "outputs": [
        {
          "output_type": "stream",
          "text": [
            "(90, 4)\n",
            "(20, 4)\n"
          ],
          "name": "stdout"
        }
      ]
    },
    {
      "cell_type": "code",
      "metadata": {
        "id": "4NnJjXf_2jDh"
      },
      "source": [
        "# updating the windowing"
      ],
      "execution_count": 29,
      "outputs": []
    },
    {
      "cell_type": "code",
      "metadata": {
        "id": "my2mqcE_25IJ",
        "outputId": "5f93c8ee-47b5-4c57-94f3-06cd2909410f",
        "colab": {
          "base_uri": "https://localhost:8080/",
          "height": 134
        }
      },
      "source": [
        "# action is a function np.mod() or the last label , fn to be implimented currently only np.mod\n",
        "from statistics import mode\n",
        "@tf.function\n",
        "def create_windowed_dataset(series, window_size,shift_size, batch_size,shuffle_buffer):\n",
        "  dataset = tf.data.Dataset.from_tensor_slices(series)\n",
        "  dataset = dataset.window(window_size , shift = shift_size, drop_remainder = True)\n",
        "  dataset = dataset.flat_map(lambda window: window.batch(window_size))\n",
        "  dataset = dataset.shuffle(shuffle_buffer).map(lambda window: (window[:,1:],to_categorical(mode(window[:,0])))\n",
        "  dataset = dataset.batch(batch_size).prefetch(1)\n",
        "  return dataset"
      ],
      "execution_count": 61,
      "outputs": [
        {
          "output_type": "error",
          "ename": "SyntaxError",
          "evalue": "ignored",
          "traceback": [
            "\u001b[0;36m  File \u001b[0;32m\"<ipython-input-61-215d9fb47b76>\"\u001b[0;36m, line \u001b[0;32m9\u001b[0m\n\u001b[0;31m    dataset = dataset.batch(batch_size).prefetch(1)\u001b[0m\n\u001b[0m          ^\u001b[0m\n\u001b[0;31mSyntaxError\u001b[0m\u001b[0;31m:\u001b[0m invalid syntax\n"
          ]
        }
      ]
    },
    {
      "cell_type": "code",
      "metadata": {
        "id": "byPOS1W08x_o"
      },
      "source": [
        ""
      ],
      "execution_count": null,
      "outputs": []
    },
    {
      "cell_type": "code",
      "metadata": {
        "id": "3YyYD33R3DHy",
        "outputId": "21fb5e2d-8109-4df8-a5e3-f9f0dd19f466",
        "colab": {
          "base_uri": "https://localhost:8080/",
          "height": 206
        }
      },
      "source": [
        "train.head()"
      ],
      "execution_count": 59,
      "outputs": [
        {
          "output_type": "execute_result",
          "data": {
            "text/html": [
              "<div>\n",
              "<style scoped>\n",
              "    .dataframe tbody tr th:only-of-type {\n",
              "        vertical-align: middle;\n",
              "    }\n",
              "\n",
              "    .dataframe tbody tr th {\n",
              "        vertical-align: top;\n",
              "    }\n",
              "\n",
              "    .dataframe thead th {\n",
              "        text-align: right;\n",
              "    }\n",
              "</style>\n",
              "<table border=\"1\" class=\"dataframe\">\n",
              "  <thead>\n",
              "    <tr style=\"text-align: right;\">\n",
              "      <th></th>\n",
              "      <th>activity</th>\n",
              "      <th>x-axis</th>\n",
              "      <th>y-axis</th>\n",
              "      <th>z-axis</th>\n",
              "    </tr>\n",
              "  </thead>\n",
              "  <tbody>\n",
              "    <tr>\n",
              "      <th>0</th>\n",
              "      <td>0</td>\n",
              "      <td>0.668528</td>\n",
              "      <td>0.725448</td>\n",
              "      <td>-0.163691</td>\n",
              "    </tr>\n",
              "    <tr>\n",
              "      <th>1</th>\n",
              "      <td>4</td>\n",
              "      <td>0.454967</td>\n",
              "      <td>0.875538</td>\n",
              "      <td>-0.162600</td>\n",
              "    </tr>\n",
              "    <tr>\n",
              "      <th>2</th>\n",
              "      <td>1</td>\n",
              "      <td>0.287281</td>\n",
              "      <td>0.887311</td>\n",
              "      <td>-0.360761</td>\n",
              "    </tr>\n",
              "    <tr>\n",
              "      <th>3</th>\n",
              "      <td>1</td>\n",
              "      <td>0.944283</td>\n",
              "      <td>0.292972</td>\n",
              "      <td>-0.149990</td>\n",
              "    </tr>\n",
              "    <tr>\n",
              "      <th>4</th>\n",
              "      <td>1</td>\n",
              "      <td>-0.124547</td>\n",
              "      <td>-0.706035</td>\n",
              "      <td>-0.697139</td>\n",
              "    </tr>\n",
              "  </tbody>\n",
              "</table>\n",
              "</div>"
            ],
            "text/plain": [
              "   activity    x-axis    y-axis    z-axis\n",
              "0         0  0.668528  0.725448 -0.163691\n",
              "1         4  0.454967  0.875538 -0.162600\n",
              "2         1  0.287281  0.887311 -0.360761\n",
              "3         1  0.944283  0.292972 -0.149990\n",
              "4         1 -0.124547 -0.706035 -0.697139"
            ]
          },
          "metadata": {
            "tags": []
          },
          "execution_count": 59
        }
      ]
    },
    {
      "cell_type": "code",
      "metadata": {
        "id": "DOa_eNqV3DyC",
        "outputId": "4ffb191e-8342-4a54-d899-fcbe5aadb004",
        "colab": {
          "base_uri": "https://localhost:8080/",
          "height": 413
        }
      },
      "source": [
        "df_windowed = create_windowed_dataset(train, 20, 10, 1, 1)"
      ],
      "execution_count": 60,
      "outputs": [
        {
          "output_type": "error",
          "ename": "AttributeError",
          "evalue": "ignored",
          "traceback": [
            "\u001b[0;31m---------------------------------------------------------------------------\u001b[0m",
            "\u001b[0;31mAttributeError\u001b[0m                            Traceback (most recent call last)",
            "\u001b[0;32m<ipython-input-60-d84ebc811db3>\u001b[0m in \u001b[0;36m<module>\u001b[0;34m()\u001b[0m\n\u001b[0;32m----> 1\u001b[0;31m \u001b[0mdf_windowed\u001b[0m \u001b[0;34m=\u001b[0m \u001b[0mcreate_windowed_dataset\u001b[0m\u001b[0;34m(\u001b[0m\u001b[0mtrain\u001b[0m\u001b[0;34m,\u001b[0m \u001b[0;36m20\u001b[0m\u001b[0;34m,\u001b[0m \u001b[0;36m10\u001b[0m\u001b[0;34m,\u001b[0m \u001b[0;36m1\u001b[0m\u001b[0;34m,\u001b[0m \u001b[0;36m1\u001b[0m\u001b[0;34m)\u001b[0m\u001b[0;34m\u001b[0m\u001b[0;34m\u001b[0m\u001b[0m\n\u001b[0m",
            "\u001b[0;32m/usr/local/lib/python3.7/dist-packages/tensorflow/python/eager/def_function.py\u001b[0m in \u001b[0;36m__call__\u001b[0;34m(self, *args, **kwds)\u001b[0m\n\u001b[1;32m    826\u001b[0m     \u001b[0mtracing_count\u001b[0m \u001b[0;34m=\u001b[0m \u001b[0mself\u001b[0m\u001b[0;34m.\u001b[0m\u001b[0mexperimental_get_tracing_count\u001b[0m\u001b[0;34m(\u001b[0m\u001b[0;34m)\u001b[0m\u001b[0;34m\u001b[0m\u001b[0;34m\u001b[0m\u001b[0m\n\u001b[1;32m    827\u001b[0m     \u001b[0;32mwith\u001b[0m \u001b[0mtrace\u001b[0m\u001b[0;34m.\u001b[0m\u001b[0mTrace\u001b[0m\u001b[0;34m(\u001b[0m\u001b[0mself\u001b[0m\u001b[0;34m.\u001b[0m\u001b[0m_name\u001b[0m\u001b[0;34m)\u001b[0m \u001b[0;32mas\u001b[0m \u001b[0mtm\u001b[0m\u001b[0;34m:\u001b[0m\u001b[0;34m\u001b[0m\u001b[0;34m\u001b[0m\u001b[0m\n\u001b[0;32m--> 828\u001b[0;31m       \u001b[0mresult\u001b[0m \u001b[0;34m=\u001b[0m \u001b[0mself\u001b[0m\u001b[0;34m.\u001b[0m\u001b[0m_call\u001b[0m\u001b[0;34m(\u001b[0m\u001b[0;34m*\u001b[0m\u001b[0margs\u001b[0m\u001b[0;34m,\u001b[0m \u001b[0;34m**\u001b[0m\u001b[0mkwds\u001b[0m\u001b[0;34m)\u001b[0m\u001b[0;34m\u001b[0m\u001b[0;34m\u001b[0m\u001b[0m\n\u001b[0m\u001b[1;32m    829\u001b[0m       \u001b[0mcompiler\u001b[0m \u001b[0;34m=\u001b[0m \u001b[0;34m\"xla\"\u001b[0m \u001b[0;32mif\u001b[0m \u001b[0mself\u001b[0m\u001b[0;34m.\u001b[0m\u001b[0m_experimental_compile\u001b[0m \u001b[0;32melse\u001b[0m \u001b[0;34m\"nonXla\"\u001b[0m\u001b[0;34m\u001b[0m\u001b[0;34m\u001b[0m\u001b[0m\n\u001b[1;32m    830\u001b[0m       \u001b[0mnew_tracing_count\u001b[0m \u001b[0;34m=\u001b[0m \u001b[0mself\u001b[0m\u001b[0;34m.\u001b[0m\u001b[0mexperimental_get_tracing_count\u001b[0m\u001b[0;34m(\u001b[0m\u001b[0;34m)\u001b[0m\u001b[0;34m\u001b[0m\u001b[0;34m\u001b[0m\u001b[0m\n",
            "\u001b[0;32m/usr/local/lib/python3.7/dist-packages/tensorflow/python/eager/def_function.py\u001b[0m in \u001b[0;36m_call\u001b[0;34m(self, *args, **kwds)\u001b[0m\n\u001b[1;32m    869\u001b[0m       \u001b[0;31m# This is the first call of __call__, so we have to initialize.\u001b[0m\u001b[0;34m\u001b[0m\u001b[0;34m\u001b[0m\u001b[0;34m\u001b[0m\u001b[0m\n\u001b[1;32m    870\u001b[0m       \u001b[0minitializers\u001b[0m \u001b[0;34m=\u001b[0m \u001b[0;34m[\u001b[0m\u001b[0;34m]\u001b[0m\u001b[0;34m\u001b[0m\u001b[0;34m\u001b[0m\u001b[0m\n\u001b[0;32m--> 871\u001b[0;31m       \u001b[0mself\u001b[0m\u001b[0;34m.\u001b[0m\u001b[0m_initialize\u001b[0m\u001b[0;34m(\u001b[0m\u001b[0margs\u001b[0m\u001b[0;34m,\u001b[0m \u001b[0mkwds\u001b[0m\u001b[0;34m,\u001b[0m \u001b[0madd_initializers_to\u001b[0m\u001b[0;34m=\u001b[0m\u001b[0minitializers\u001b[0m\u001b[0;34m)\u001b[0m\u001b[0;34m\u001b[0m\u001b[0;34m\u001b[0m\u001b[0m\n\u001b[0m\u001b[1;32m    872\u001b[0m     \u001b[0;32mfinally\u001b[0m\u001b[0;34m:\u001b[0m\u001b[0;34m\u001b[0m\u001b[0;34m\u001b[0m\u001b[0m\n\u001b[1;32m    873\u001b[0m       \u001b[0;31m# At this point we know that the initialization is complete (or less\u001b[0m\u001b[0;34m\u001b[0m\u001b[0;34m\u001b[0m\u001b[0;34m\u001b[0m\u001b[0m\n",
            "\u001b[0;32m/usr/local/lib/python3.7/dist-packages/tensorflow/python/eager/def_function.py\u001b[0m in \u001b[0;36m_initialize\u001b[0;34m(self, args, kwds, add_initializers_to)\u001b[0m\n\u001b[1;32m    724\u001b[0m     self._concrete_stateful_fn = (\n\u001b[1;32m    725\u001b[0m         self._stateful_fn._get_concrete_function_internal_garbage_collected(  # pylint: disable=protected-access\n\u001b[0;32m--> 726\u001b[0;31m             *args, **kwds))\n\u001b[0m\u001b[1;32m    727\u001b[0m \u001b[0;34m\u001b[0m\u001b[0m\n\u001b[1;32m    728\u001b[0m     \u001b[0;32mdef\u001b[0m \u001b[0minvalid_creator_scope\u001b[0m\u001b[0;34m(\u001b[0m\u001b[0;34m*\u001b[0m\u001b[0munused_args\u001b[0m\u001b[0;34m,\u001b[0m \u001b[0;34m**\u001b[0m\u001b[0munused_kwds\u001b[0m\u001b[0;34m)\u001b[0m\u001b[0;34m:\u001b[0m\u001b[0;34m\u001b[0m\u001b[0;34m\u001b[0m\u001b[0m\n",
            "\u001b[0;32m/usr/local/lib/python3.7/dist-packages/tensorflow/python/eager/function.py\u001b[0m in \u001b[0;36m_get_concrete_function_internal_garbage_collected\u001b[0;34m(self, *args, **kwargs)\u001b[0m\n\u001b[1;32m   2967\u001b[0m       \u001b[0margs\u001b[0m\u001b[0;34m,\u001b[0m \u001b[0mkwargs\u001b[0m \u001b[0;34m=\u001b[0m \u001b[0;32mNone\u001b[0m\u001b[0;34m,\u001b[0m \u001b[0;32mNone\u001b[0m\u001b[0;34m\u001b[0m\u001b[0;34m\u001b[0m\u001b[0m\n\u001b[1;32m   2968\u001b[0m     \u001b[0;32mwith\u001b[0m \u001b[0mself\u001b[0m\u001b[0;34m.\u001b[0m\u001b[0m_lock\u001b[0m\u001b[0;34m:\u001b[0m\u001b[0;34m\u001b[0m\u001b[0;34m\u001b[0m\u001b[0m\n\u001b[0;32m-> 2969\u001b[0;31m       \u001b[0mgraph_function\u001b[0m\u001b[0;34m,\u001b[0m \u001b[0m_\u001b[0m \u001b[0;34m=\u001b[0m \u001b[0mself\u001b[0m\u001b[0;34m.\u001b[0m\u001b[0m_maybe_define_function\u001b[0m\u001b[0;34m(\u001b[0m\u001b[0margs\u001b[0m\u001b[0;34m,\u001b[0m \u001b[0mkwargs\u001b[0m\u001b[0;34m)\u001b[0m\u001b[0;34m\u001b[0m\u001b[0;34m\u001b[0m\u001b[0m\n\u001b[0m\u001b[1;32m   2970\u001b[0m     \u001b[0;32mreturn\u001b[0m \u001b[0mgraph_function\u001b[0m\u001b[0;34m\u001b[0m\u001b[0;34m\u001b[0m\u001b[0m\n\u001b[1;32m   2971\u001b[0m \u001b[0;34m\u001b[0m\u001b[0m\n",
            "\u001b[0;32m/usr/local/lib/python3.7/dist-packages/tensorflow/python/eager/function.py\u001b[0m in \u001b[0;36m_maybe_define_function\u001b[0;34m(self, args, kwargs)\u001b[0m\n\u001b[1;32m   3359\u001b[0m \u001b[0;34m\u001b[0m\u001b[0m\n\u001b[1;32m   3360\u001b[0m           \u001b[0mself\u001b[0m\u001b[0;34m.\u001b[0m\u001b[0m_function_cache\u001b[0m\u001b[0;34m.\u001b[0m\u001b[0mmissed\u001b[0m\u001b[0;34m.\u001b[0m\u001b[0madd\u001b[0m\u001b[0;34m(\u001b[0m\u001b[0mcall_context_key\u001b[0m\u001b[0;34m)\u001b[0m\u001b[0;34m\u001b[0m\u001b[0;34m\u001b[0m\u001b[0m\n\u001b[0;32m-> 3361\u001b[0;31m           \u001b[0mgraph_function\u001b[0m \u001b[0;34m=\u001b[0m \u001b[0mself\u001b[0m\u001b[0;34m.\u001b[0m\u001b[0m_create_graph_function\u001b[0m\u001b[0;34m(\u001b[0m\u001b[0margs\u001b[0m\u001b[0;34m,\u001b[0m \u001b[0mkwargs\u001b[0m\u001b[0;34m)\u001b[0m\u001b[0;34m\u001b[0m\u001b[0;34m\u001b[0m\u001b[0m\n\u001b[0m\u001b[1;32m   3362\u001b[0m           \u001b[0mself\u001b[0m\u001b[0;34m.\u001b[0m\u001b[0m_function_cache\u001b[0m\u001b[0;34m.\u001b[0m\u001b[0mprimary\u001b[0m\u001b[0;34m[\u001b[0m\u001b[0mcache_key\u001b[0m\u001b[0;34m]\u001b[0m \u001b[0;34m=\u001b[0m \u001b[0mgraph_function\u001b[0m\u001b[0;34m\u001b[0m\u001b[0;34m\u001b[0m\u001b[0m\n\u001b[1;32m   3363\u001b[0m \u001b[0;34m\u001b[0m\u001b[0m\n",
            "\u001b[0;32m/usr/local/lib/python3.7/dist-packages/tensorflow/python/eager/function.py\u001b[0m in \u001b[0;36m_create_graph_function\u001b[0;34m(self, args, kwargs, override_flat_arg_shapes)\u001b[0m\n\u001b[1;32m   3204\u001b[0m             \u001b[0marg_names\u001b[0m\u001b[0;34m=\u001b[0m\u001b[0marg_names\u001b[0m\u001b[0;34m,\u001b[0m\u001b[0;34m\u001b[0m\u001b[0;34m\u001b[0m\u001b[0m\n\u001b[1;32m   3205\u001b[0m             \u001b[0moverride_flat_arg_shapes\u001b[0m\u001b[0;34m=\u001b[0m\u001b[0moverride_flat_arg_shapes\u001b[0m\u001b[0;34m,\u001b[0m\u001b[0;34m\u001b[0m\u001b[0;34m\u001b[0m\u001b[0m\n\u001b[0;32m-> 3206\u001b[0;31m             capture_by_value=self._capture_by_value),\n\u001b[0m\u001b[1;32m   3207\u001b[0m         \u001b[0mself\u001b[0m\u001b[0;34m.\u001b[0m\u001b[0m_function_attributes\u001b[0m\u001b[0;34m,\u001b[0m\u001b[0;34m\u001b[0m\u001b[0;34m\u001b[0m\u001b[0m\n\u001b[1;32m   3208\u001b[0m         \u001b[0mfunction_spec\u001b[0m\u001b[0;34m=\u001b[0m\u001b[0mself\u001b[0m\u001b[0;34m.\u001b[0m\u001b[0mfunction_spec\u001b[0m\u001b[0;34m,\u001b[0m\u001b[0;34m\u001b[0m\u001b[0;34m\u001b[0m\u001b[0m\n",
            "\u001b[0;32m/usr/local/lib/python3.7/dist-packages/tensorflow/python/framework/func_graph.py\u001b[0m in \u001b[0;36mfunc_graph_from_py_func\u001b[0;34m(name, python_func, args, kwargs, signature, func_graph, autograph, autograph_options, add_control_dependencies, arg_names, op_return_value, collections, capture_by_value, override_flat_arg_shapes)\u001b[0m\n\u001b[1;32m    988\u001b[0m         \u001b[0m_\u001b[0m\u001b[0;34m,\u001b[0m \u001b[0moriginal_func\u001b[0m \u001b[0;34m=\u001b[0m \u001b[0mtf_decorator\u001b[0m\u001b[0;34m.\u001b[0m\u001b[0munwrap\u001b[0m\u001b[0;34m(\u001b[0m\u001b[0mpython_func\u001b[0m\u001b[0;34m)\u001b[0m\u001b[0;34m\u001b[0m\u001b[0;34m\u001b[0m\u001b[0m\n\u001b[1;32m    989\u001b[0m \u001b[0;34m\u001b[0m\u001b[0m\n\u001b[0;32m--> 990\u001b[0;31m       \u001b[0mfunc_outputs\u001b[0m \u001b[0;34m=\u001b[0m \u001b[0mpython_func\u001b[0m\u001b[0;34m(\u001b[0m\u001b[0;34m*\u001b[0m\u001b[0mfunc_args\u001b[0m\u001b[0;34m,\u001b[0m \u001b[0;34m**\u001b[0m\u001b[0mfunc_kwargs\u001b[0m\u001b[0;34m)\u001b[0m\u001b[0;34m\u001b[0m\u001b[0;34m\u001b[0m\u001b[0m\n\u001b[0m\u001b[1;32m    991\u001b[0m \u001b[0;34m\u001b[0m\u001b[0m\n\u001b[1;32m    992\u001b[0m       \u001b[0;31m# invariant: `func_outputs` contains only Tensors, CompositeTensors,\u001b[0m\u001b[0;34m\u001b[0m\u001b[0;34m\u001b[0m\u001b[0;34m\u001b[0m\u001b[0m\n",
            "\u001b[0;32m/usr/local/lib/python3.7/dist-packages/tensorflow/python/eager/def_function.py\u001b[0m in \u001b[0;36mwrapped_fn\u001b[0;34m(*args, **kwds)\u001b[0m\n\u001b[1;32m    632\u001b[0m             \u001b[0mxla_context\u001b[0m\u001b[0;34m.\u001b[0m\u001b[0mExit\u001b[0m\u001b[0;34m(\u001b[0m\u001b[0;34m)\u001b[0m\u001b[0;34m\u001b[0m\u001b[0;34m\u001b[0m\u001b[0m\n\u001b[1;32m    633\u001b[0m         \u001b[0;32melse\u001b[0m\u001b[0;34m:\u001b[0m\u001b[0;34m\u001b[0m\u001b[0;34m\u001b[0m\u001b[0m\n\u001b[0;32m--> 634\u001b[0;31m           \u001b[0mout\u001b[0m \u001b[0;34m=\u001b[0m \u001b[0mweak_wrapped_fn\u001b[0m\u001b[0;34m(\u001b[0m\u001b[0;34m)\u001b[0m\u001b[0;34m.\u001b[0m\u001b[0m__wrapped__\u001b[0m\u001b[0;34m(\u001b[0m\u001b[0;34m*\u001b[0m\u001b[0margs\u001b[0m\u001b[0;34m,\u001b[0m \u001b[0;34m**\u001b[0m\u001b[0mkwds\u001b[0m\u001b[0;34m)\u001b[0m\u001b[0;34m\u001b[0m\u001b[0;34m\u001b[0m\u001b[0m\n\u001b[0m\u001b[1;32m    635\u001b[0m         \u001b[0;32mreturn\u001b[0m \u001b[0mout\u001b[0m\u001b[0;34m\u001b[0m\u001b[0;34m\u001b[0m\u001b[0m\n\u001b[1;32m    636\u001b[0m \u001b[0;34m\u001b[0m\u001b[0m\n",
            "\u001b[0;32m/usr/local/lib/python3.7/dist-packages/tensorflow/python/framework/func_graph.py\u001b[0m in \u001b[0;36mwrapper\u001b[0;34m(*args, **kwargs)\u001b[0m\n\u001b[1;32m    975\u001b[0m           \u001b[0;32mexcept\u001b[0m \u001b[0mException\u001b[0m \u001b[0;32mas\u001b[0m \u001b[0me\u001b[0m\u001b[0;34m:\u001b[0m  \u001b[0;31m# pylint:disable=broad-except\u001b[0m\u001b[0;34m\u001b[0m\u001b[0;34m\u001b[0m\u001b[0m\n\u001b[1;32m    976\u001b[0m             \u001b[0;32mif\u001b[0m \u001b[0mhasattr\u001b[0m\u001b[0;34m(\u001b[0m\u001b[0me\u001b[0m\u001b[0;34m,\u001b[0m \u001b[0;34m\"ag_error_metadata\"\u001b[0m\u001b[0;34m)\u001b[0m\u001b[0;34m:\u001b[0m\u001b[0;34m\u001b[0m\u001b[0;34m\u001b[0m\u001b[0m\n\u001b[0;32m--> 977\u001b[0;31m               \u001b[0;32mraise\u001b[0m \u001b[0me\u001b[0m\u001b[0;34m.\u001b[0m\u001b[0mag_error_metadata\u001b[0m\u001b[0;34m.\u001b[0m\u001b[0mto_exception\u001b[0m\u001b[0;34m(\u001b[0m\u001b[0me\u001b[0m\u001b[0;34m)\u001b[0m\u001b[0;34m\u001b[0m\u001b[0;34m\u001b[0m\u001b[0m\n\u001b[0m\u001b[1;32m    978\u001b[0m             \u001b[0;32melse\u001b[0m\u001b[0;34m:\u001b[0m\u001b[0;34m\u001b[0m\u001b[0;34m\u001b[0m\u001b[0m\n\u001b[1;32m    979\u001b[0m               \u001b[0;32mraise\u001b[0m\u001b[0;34m\u001b[0m\u001b[0;34m\u001b[0m\u001b[0m\n",
            "\u001b[0;31mAttributeError\u001b[0m: in user code:\n\n    <ipython-input-58-6627acbe36bd>:8 create_windowed_dataset  *\n        dataset = dataset.shuffle(shuffle_buffer).map(lambda window: (window[:,1:],to_categorical(mode(window[:,0].numpy()))))\n\n    AttributeError: 'Tensor' object has no attribute 'numpy'\n"
          ]
        }
      ]
    },
    {
      "cell_type": "code",
      "metadata": {
        "id": "GuOq0YHz5hPZ",
        "outputId": "3686eec0-1b78-43d3-c531-42c36b20378d",
        "colab": {
          "base_uri": "https://localhost:8080/"
        }
      },
      "source": [
        "count = 0\n",
        "for i , j in df_windowed:\n",
        "  print(count)\n",
        "  count +=1\n",
        "  print('x = ', i, 'y = ',j)"
      ],
      "execution_count": 50,
      "outputs": [
        {
          "output_type": "stream",
          "text": [
            "0\n",
            "x =  tf.Tensor(\n",
            "[[[ 0.6685284   0.72544819 -0.16369087]\n",
            "  [ 0.45496694  0.87553776 -0.16259987]\n",
            "  [ 0.28728102  0.88731124 -0.36076083]\n",
            "  [ 0.94428294  0.2929721  -0.14999024]\n",
            "  [-0.12454685 -0.70603506 -0.69713885]\n",
            "  [-0.68807897 -0.47305429  0.55024264]\n",
            "  [ 0.53509978  0.17343934  0.82679322]\n",
            "  [ 0.99259356  0.11641529  0.03472035]\n",
            "  [ 0.32051582  0.86609973  0.38358944]\n",
            "  [ 0.11197539  0.95277305  0.28228537]\n",
            "  [-0.3585072   0.93065542 -0.07316473]\n",
            "  [ 0.83627903  0.09824842  0.53942992]\n",
            "  [ 0.93468117  0.07189855  0.34814036]\n",
            "  [-0.2625914   0.91857256  0.29541532]\n",
            "  [-0.54579279  0.81868919 -0.17848877]\n",
            "  [ 0.44727076  0.72234769  0.5274113 ]\n",
            "  [ 0.95034663  0.25454465 -0.17902041]\n",
            "  [ 0.83707636 -0.08834815 -0.53990533]\n",
            "  [-0.04333827  0.99803643  0.04522254]\n",
            "  [-0.20481394  0.95766032 -0.20233134]]], shape=(1, 20, 3), dtype=float64) y =  tf.Tensor([[0. 0. 1.]], shape=(1, 3), dtype=float32)\n",
            "1\n",
            "x =  tf.Tensor(\n",
            "[[[-0.3585072   0.93065542 -0.07316473]\n",
            "  [ 0.83627903  0.09824842  0.53942992]\n",
            "  [ 0.93468117  0.07189855  0.34814036]\n",
            "  [-0.2625914   0.91857256  0.29541532]\n",
            "  [-0.54579279  0.81868919 -0.17848877]\n",
            "  [ 0.44727076  0.72234769  0.5274113 ]\n",
            "  [ 0.95034663  0.25454465 -0.17902041]\n",
            "  [ 0.83707636 -0.08834815 -0.53990533]\n",
            "  [-0.04333827  0.99803643  0.04522254]\n",
            "  [-0.20481394  0.95766032 -0.20233134]\n",
            "  [-0.821949    0.55701261  0.11889828]\n",
            "  [ 0.59888847  0.79982701 -0.04011673]\n",
            "  [-0.57586414 -0.55588147 -0.59948002]\n",
            "  [ 0.87026412 -0.48609347 -0.07970888]\n",
            "  [-0.56500272 -0.35058622  0.74690108]\n",
            "  [ 0.51184852  0.78734773 -0.34364901]\n",
            "  [-0.45783238  0.83841063 -0.2957315 ]\n",
            "  [ 0.57465643  0.78758176 -0.22245215]\n",
            "  [ 0.62939519  0.75102315 -0.19956433]\n",
            "  [ 0.84602538  0.52637097 -0.08470337]]], shape=(1, 20, 3), dtype=float64) y =  tf.Tensor([[0. 0. 1.]], shape=(1, 3), dtype=float32)\n",
            "2\n",
            "x =  tf.Tensor(\n",
            "[[[-0.821949    0.55701261  0.11889828]\n",
            "  [ 0.59888847  0.79982701 -0.04011673]\n",
            "  [-0.57586414 -0.55588147 -0.59948002]\n",
            "  [ 0.87026412 -0.48609347 -0.07970888]\n",
            "  [-0.56500272 -0.35058622  0.74690108]\n",
            "  [ 0.51184852  0.78734773 -0.34364901]\n",
            "  [-0.45783238  0.83841063 -0.2957315 ]\n",
            "  [ 0.57465643  0.78758176 -0.22245215]\n",
            "  [ 0.62939519  0.75102315 -0.19956433]\n",
            "  [ 0.84602538  0.52637097 -0.08470337]\n",
            "  [-0.14206307  0.96914257  0.20144669]\n",
            "  [ 0.20752775  0.94924729  0.23635105]\n",
            "  [-0.01245451  0.98843556  0.15112919]\n",
            "  [ 0.43921277  0.83052786 -0.34251367]\n",
            "  [ 0.15551598  0.96310772  0.21963221]\n",
            "  [-0.69004053  0.71318654  0.12332485]\n",
            "  [-0.00425084  0.99257183 -0.12158571]\n",
            "  [-0.32227625  0.89992583  0.29372013]\n",
            "  [ 0.97004226  0.01956194 -0.24214736]\n",
            "  [ 0.85535017  0.42415512  0.29743658]]], shape=(1, 20, 3), dtype=float64) y =  tf.Tensor([[0. 0. 1.]], shape=(1, 3), dtype=float32)\n",
            "3\n",
            "x =  tf.Tensor(\n",
            "[[[-0.14206307  0.96914257  0.20144669]\n",
            "  [ 0.20752775  0.94924729  0.23635105]\n",
            "  [-0.01245451  0.98843556  0.15112919]\n",
            "  [ 0.43921277  0.83052786 -0.34251367]\n",
            "  [ 0.15551598  0.96310772  0.21963221]\n",
            "  [-0.69004053  0.71318654  0.12332485]\n",
            "  [-0.00425084  0.99257183 -0.12158571]\n",
            "  [-0.32227625  0.89992583  0.29372013]\n",
            "  [ 0.97004226  0.01956194 -0.24214736]\n",
            "  [ 0.85535017  0.42415512  0.29743658]\n",
            "  [ 0.70332015  0.70332015 -0.10335153]\n",
            "  [-0.12008361  0.76853509 -0.62843754]\n",
            "  [ 0.7489412   0.63287364  0.196362  ]\n",
            "  [-0.01835245  0.86944746  0.49368442]\n",
            "  [-0.55057487 -0.31957658 -0.77119266]\n",
            "  [-0.46357379  0.85949856 -0.21531736]\n",
            "  [-0.51721011  0.83156236 -0.20247899]\n",
            "  [-0.05831352  0.95540461 -0.28948499]\n",
            "  [ 0.54151359  0.24426972  0.80442236]\n",
            "  [ 0.44132663 -0.65708631 -0.6111206 ]]], shape=(1, 20, 3), dtype=float64) y =  tf.Tensor([[0. 0. 1.]], shape=(1, 3), dtype=float32)\n",
            "4\n",
            "x =  tf.Tensor(\n",
            "[[[ 0.70332015  0.70332015 -0.10335153]\n",
            "  [-0.12008361  0.76853509 -0.62843754]\n",
            "  [ 0.7489412   0.63287364  0.196362  ]\n",
            "  [-0.01835245  0.86944746  0.49368442]\n",
            "  [-0.55057487 -0.31957658 -0.77119266]\n",
            "  [-0.46357379  0.85949856 -0.21531736]\n",
            "  [-0.51721011  0.83156236 -0.20247899]\n",
            "  [-0.05831352  0.95540461 -0.28948499]\n",
            "  [ 0.54151359  0.24426972  0.80442236]\n",
            "  [ 0.44132663 -0.65708631 -0.6111206 ]\n",
            "  [-0.22053876  0.26030804 -0.94000127]\n",
            "  [ 0.53488269  0.84450583 -0.02665349]\n",
            "  [-0.43088559  0.40075373  0.80853822]\n",
            "  [-0.05337563  0.94968346  0.30862983]\n",
            "  [ 0.14023914  0.9836492   0.11299218]\n",
            "  [ 0.36444961  0.65847418  0.65847418]\n",
            "  [-0.58527729  0.79734935  0.14725662]\n",
            "  [-0.110272    0.67286339  0.73150185]\n",
            "  [ 0.65987666 -0.51961302 -0.54273851]\n",
            "  [ 0.83415229  0.53690614 -0.12618141]]], shape=(1, 20, 3), dtype=float64) y =  tf.Tensor([[0. 0. 1.]], shape=(1, 3), dtype=float32)\n",
            "5\n",
            "x =  tf.Tensor(\n",
            "[[[-0.22053876  0.26030804 -0.94000127]\n",
            "  [ 0.53488269  0.84450583 -0.02665349]\n",
            "  [-0.43088559  0.40075373  0.80853822]\n",
            "  [-0.05337563  0.94968346  0.30862983]\n",
            "  [ 0.14023914  0.9836492   0.11299218]\n",
            "  [ 0.36444961  0.65847418  0.65847418]\n",
            "  [-0.58527729  0.79734935  0.14725662]\n",
            "  [-0.110272    0.67286339  0.73150185]\n",
            "  [ 0.65987666 -0.51961302 -0.54273851]\n",
            "  [ 0.83415229  0.53690614 -0.12618141]\n",
            "  [ 0.33484121  0.94151589 -0.03780465]\n",
            "  [ 0.21046914  0.93462569 -0.28666629]\n",
            "  [ 0.08463995  0.9202801   0.38199557]\n",
            "  [-0.42632147  0.72442595  0.54171675]\n",
            "  [-0.03972223  0.47761254  0.87767215]\n",
            "  [-0.53768979  0.84002714  0.07241613]\n",
            "  [ 0.74317007  0.55328778  0.37625906]\n",
            "  [-0.58384127  0.8035446   0.11595454]\n",
            "  [ 0.44175539  0.87418612 -0.20162043]\n",
            "  [ 0.53268716  0.84538552 -0.03959428]]], shape=(1, 20, 3), dtype=float64) y =  tf.Tensor([[0. 0. 1.]], shape=(1, 3), dtype=float32)\n",
            "6\n",
            "x =  tf.Tensor(\n",
            "[[[ 0.33484121  0.94151589 -0.03780465]\n",
            "  [ 0.21046914  0.93462569 -0.28666629]\n",
            "  [ 0.08463995  0.9202801   0.38199557]\n",
            "  [-0.42632147  0.72442595  0.54171675]\n",
            "  [-0.03972223  0.47761254  0.87767215]\n",
            "  [-0.53768979  0.84002714  0.07241613]\n",
            "  [ 0.74317007  0.55328778  0.37625906]\n",
            "  [-0.58384127  0.8035446   0.11595454]\n",
            "  [ 0.44175539  0.87418612 -0.20162043]\n",
            "  [ 0.53268716  0.84538552 -0.03959428]\n",
            "  [-0.25652545  0.95769501  0.1304414 ]\n",
            "  [-0.46730622  0.86974975  0.15861987]\n",
            "  [ 0.97132205  0.21035899  0.11082672]\n",
            "  [ 0.1556745   0.98573343  0.06399268]\n",
            "  [ 0.14294859  0.92861182  0.34241173]\n",
            "  [ 0.62868875  0.7360097  -0.25107802]\n",
            "  [ 0.5054063   0.86248684  0.02609435]\n",
            "  [ 0.26849053  0.94614347  0.18090153]\n",
            "  [ 0.25636562  0.81014063  0.52720852]\n",
            "  [-0.69913657  0.1141806  -0.70581219]]], shape=(1, 20, 3), dtype=float64) y =  tf.Tensor([[0. 0. 1.]], shape=(1, 3), dtype=float32)\n",
            "7\n",
            "x =  tf.Tensor(\n",
            "[[[-0.25652545  0.95769501  0.1304414 ]\n",
            "  [-0.46730622  0.86974975  0.15861987]\n",
            "  [ 0.97132205  0.21035899  0.11082672]\n",
            "  [ 0.1556745   0.98573343  0.06399268]\n",
            "  [ 0.14294859  0.92861182  0.34241173]\n",
            "  [ 0.62868875  0.7360097  -0.25107802]\n",
            "  [ 0.5054063   0.86248684  0.02609435]\n",
            "  [ 0.26849053  0.94614347  0.18090153]\n",
            "  [ 0.25636562  0.81014063  0.52720852]\n",
            "  [-0.69913657  0.1141806  -0.70581219]\n",
            "  [-0.36199418  0.93084219 -0.04993023]\n",
            "  [-0.8014647   0.36263294  0.47555408]\n",
            "  [ 0.5747794   0.77167352  0.27230244]\n",
            "  [ 0.27677702  0.8839008   0.37697992]\n",
            "  [ 0.20184381  0.97171428 -0.12259869]\n",
            "  [ 0.38267834  0.89607353 -0.22496561]\n",
            "  [ 0.3212759   0.94192252  0.0977945 ]\n",
            "  [-0.63316247  0.66550737  0.39522808]\n",
            "  [-0.7936093  -0.53262746 -0.29409567]\n",
            "  [-0.92401931 -0.36114342  0.12555377]]], shape=(1, 20, 3), dtype=float64) y =  tf.Tensor([[0. 0. 1.]], shape=(1, 3), dtype=float32)\n"
          ],
          "name": "stdout"
        }
      ]
    },
    {
      "cell_type": "code",
      "metadata": {
        "id": "sxdnrwgC6vqI",
        "outputId": "144f032a-36e6-4c0b-b73f-e479530a530b",
        "colab": {
          "base_uri": "https://localhost:8080/",
          "height": 36
        }
      },
      "source": [
        "tf.__version__"
      ],
      "execution_count": 57,
      "outputs": [
        {
          "output_type": "execute_result",
          "data": {
            "application/vnd.google.colaboratory.intrinsic+json": {
              "type": "string"
            },
            "text/plain": [
              "'2.4.1'"
            ]
          },
          "metadata": {
            "tags": []
          },
          "execution_count": 57
        }
      ]
    },
    {
      "cell_type": "code",
      "metadata": {
        "id": "J3U1pS5N8Wdn"
      },
      "source": [
        ""
      ],
      "execution_count": null,
      "outputs": []
    }
  ]
}