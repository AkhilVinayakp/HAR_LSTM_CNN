{
  "nbformat": 4,
  "nbformat_minor": 0,
  "metadata": {
    "colab": {
      "name": "lstm_rnn_filt_data.ipynb",
      "provenance": [],
      "collapsed_sections": [],
      "mount_file_id": "1uZqTvtsLWlzDK9psFlrSU3LITphfmdM0",
      "authorship_tag": "ABX9TyMmWPjeFdv+1WL99628RmfU",
      "include_colab_link": true
    },
    "kernelspec": {
      "name": "python3",
      "display_name": "Python 3"
    },
    "language_info": {
      "name": "python"
    },
    "accelerator": "GPU"
  },
  "cells": [
    {
      "cell_type": "markdown",
      "metadata": {
        "id": "view-in-github",
        "colab_type": "text"
      },
      "source": [
        "<a href=\"https://colab.research.google.com/github/AkhilVinayakp/HAR_LSTM_CNN/blob/main/lstm_rnn_filt_data.ipynb\" target=\"_parent\"><img src=\"https://colab.research.google.com/assets/colab-badge.svg\" alt=\"Open In Colab\"/></a>"
      ]
    },
    {
      "cell_type": "code",
      "metadata": {
        "id": "RxaXWotQqfVu"
      },
      "source": [
        "import pandas as pd\n",
        "import numpy as np\n",
        "import tensorflow as tf\n",
        "import matplotlib.pyplot as plt\n",
        "from scipy.signal import butter, lfilter"
      ],
      "execution_count": 1,
      "outputs": []
    },
    {
      "cell_type": "code",
      "metadata": {
        "colab": {
          "base_uri": "https://localhost:8080/",
          "height": 54
        },
        "id": "RndOFufyqseo",
        "outputId": "4456c763-e3fd-4b31-ab11-81c02493f8b8"
      },
      "source": [
        "%cd /content/drive/My\\ Drive/datasets \n",
        "%pwd"
      ],
      "execution_count": 2,
      "outputs": [
        {
          "output_type": "stream",
          "text": [
            "/content/drive/My Drive/datasets\n"
          ],
          "name": "stdout"
        },
        {
          "output_type": "execute_result",
          "data": {
            "application/vnd.google.colaboratory.intrinsic+json": {
              "type": "string"
            },
            "text/plain": [
              "'/content/drive/My Drive/datasets'"
            ]
          },
          "metadata": {
            "tags": []
          },
          "execution_count": 2
        }
      ]
    },
    {
      "cell_type": "code",
      "metadata": {
        "id": "W8axBi3drGgq"
      },
      "source": [
        "df = pd.read_csv('int_norm.csv')"
      ],
      "execution_count": 3,
      "outputs": []
    },
    {
      "cell_type": "code",
      "metadata": {
        "colab": {
          "base_uri": "https://localhost:8080/",
          "height": 424
        },
        "id": "0F25wT2yrIPW",
        "outputId": "d9677e2e-f85c-4547-96fb-c73932e2cb4e"
      },
      "source": [
        "df"
      ],
      "execution_count": 4,
      "outputs": [
        {
          "output_type": "execute_result",
          "data": {
            "text/html": [
              "<div>\n",
              "<style scoped>\n",
              "    .dataframe tbody tr th:only-of-type {\n",
              "        vertical-align: middle;\n",
              "    }\n",
              "\n",
              "    .dataframe tbody tr th {\n",
              "        vertical-align: top;\n",
              "    }\n",
              "\n",
              "    .dataframe thead th {\n",
              "        text-align: right;\n",
              "    }\n",
              "</style>\n",
              "<table border=\"1\" class=\"dataframe\">\n",
              "  <thead>\n",
              "    <tr style=\"text-align: right;\">\n",
              "      <th></th>\n",
              "      <th>user</th>\n",
              "      <th>activity</th>\n",
              "      <th>timestamp</th>\n",
              "      <th>x-axis</th>\n",
              "      <th>y-axis</th>\n",
              "      <th>z-axis</th>\n",
              "    </tr>\n",
              "  </thead>\n",
              "  <tbody>\n",
              "    <tr>\n",
              "      <th>0</th>\n",
              "      <td>33</td>\n",
              "      <td>Jogging</td>\n",
              "      <td>49105962326000</td>\n",
              "      <td>-0.054655</td>\n",
              "      <td>0.997718</td>\n",
              "      <td>0.039652</td>\n",
              "    </tr>\n",
              "    <tr>\n",
              "      <th>1</th>\n",
              "      <td>33</td>\n",
              "      <td>Jogging</td>\n",
              "      <td>49106062271000</td>\n",
              "      <td>0.405338</td>\n",
              "      <td>0.910910</td>\n",
              "      <td>0.077102</td>\n",
              "    </tr>\n",
              "    <tr>\n",
              "      <th>2</th>\n",
              "      <td>33</td>\n",
              "      <td>Jogging</td>\n",
              "      <td>49106112167000</td>\n",
              "      <td>0.410782</td>\n",
              "      <td>0.911708</td>\n",
              "      <td>-0.006846</td>\n",
              "    </tr>\n",
              "    <tr>\n",
              "      <th>3</th>\n",
              "      <td>33</td>\n",
              "      <td>Jogging</td>\n",
              "      <td>49106222305000</td>\n",
              "      <td>-0.032685</td>\n",
              "      <td>0.986373</td>\n",
              "      <td>0.161248</td>\n",
              "    </tr>\n",
              "    <tr>\n",
              "      <th>4</th>\n",
              "      <td>33</td>\n",
              "      <td>Jogging</td>\n",
              "      <td>49106332290000</td>\n",
              "      <td>-0.083804</td>\n",
              "      <td>0.856341</td>\n",
              "      <td>0.509566</td>\n",
              "    </tr>\n",
              "    <tr>\n",
              "      <th>...</th>\n",
              "      <td>...</td>\n",
              "      <td>...</td>\n",
              "      <td>...</td>\n",
              "      <td>...</td>\n",
              "      <td>...</td>\n",
              "      <td>...</td>\n",
              "    </tr>\n",
              "    <tr>\n",
              "      <th>1098199</th>\n",
              "      <td>19</td>\n",
              "      <td>Sitting</td>\n",
              "      <td>131623331483000</td>\n",
              "      <td>0.968689</td>\n",
              "      <td>-0.168982</td>\n",
              "      <td>0.181898</td>\n",
              "    </tr>\n",
              "    <tr>\n",
              "      <th>1098200</th>\n",
              "      <td>19</td>\n",
              "      <td>Sitting</td>\n",
              "      <td>131623371431000</td>\n",
              "      <td>0.970048</td>\n",
              "      <td>-0.156667</td>\n",
              "      <td>0.185640</td>\n",
              "    </tr>\n",
              "    <tr>\n",
              "      <th>1098201</th>\n",
              "      <td>19</td>\n",
              "      <td>Sitting</td>\n",
              "      <td>131623411592000</td>\n",
              "      <td>0.972323</td>\n",
              "      <td>-0.147776</td>\n",
              "      <td>0.180972</td>\n",
              "    </tr>\n",
              "    <tr>\n",
              "      <th>1098202</th>\n",
              "      <td>19</td>\n",
              "      <td>Sitting</td>\n",
              "      <td>131623491487000</td>\n",
              "      <td>0.969793</td>\n",
              "      <td>-0.157322</td>\n",
              "      <td>0.186416</td>\n",
              "    </tr>\n",
              "    <tr>\n",
              "      <th>1098203</th>\n",
              "      <td>19</td>\n",
              "      <td>Sitting</td>\n",
              "      <td>131623531465000</td>\n",
              "      <td>0.973444</td>\n",
              "      <td>-0.145797</td>\n",
              "      <td>0.176492</td>\n",
              "    </tr>\n",
              "  </tbody>\n",
              "</table>\n",
              "<p>1098204 rows × 6 columns</p>\n",
              "</div>"
            ],
            "text/plain": [
              "         user activity        timestamp    x-axis    y-axis    z-axis\n",
              "0          33  Jogging   49105962326000 -0.054655  0.997718  0.039652\n",
              "1          33  Jogging   49106062271000  0.405338  0.910910  0.077102\n",
              "2          33  Jogging   49106112167000  0.410782  0.911708 -0.006846\n",
              "3          33  Jogging   49106222305000 -0.032685  0.986373  0.161248\n",
              "4          33  Jogging   49106332290000 -0.083804  0.856341  0.509566\n",
              "...       ...      ...              ...       ...       ...       ...\n",
              "1098199    19  Sitting  131623331483000  0.968689 -0.168982  0.181898\n",
              "1098200    19  Sitting  131623371431000  0.970048 -0.156667  0.185640\n",
              "1098201    19  Sitting  131623411592000  0.972323 -0.147776  0.180972\n",
              "1098202    19  Sitting  131623491487000  0.969793 -0.157322  0.186416\n",
              "1098203    19  Sitting  131623531465000  0.973444 -0.145797  0.176492\n",
              "\n",
              "[1098204 rows x 6 columns]"
            ]
          },
          "metadata": {
            "tags": []
          },
          "execution_count": 4
        }
      ]
    },
    {
      "cell_type": "code",
      "metadata": {
        "id": "62mOxswYrfqr"
      },
      "source": [
        "sig_x = df['x-axis'].values"
      ],
      "execution_count": 5,
      "outputs": []
    },
    {
      "cell_type": "code",
      "metadata": {
        "id": "C_-Uk2t9rs0V"
      },
      "source": [
        "# applying the low pass filter\n",
        "order = 5\n",
        "\n",
        "\n",
        "sampling_freq = 50\n",
        "\n",
        "\n",
        "cutoff_freq = .4\n",
        "\n",
        "\n",
        "sampling_duration = 2.56\n",
        "\n",
        "\n",
        "number_of_samples = sampling_freq * sampling_duration\n",
        "normalized_cutoff_freq = 2 * cutoff_freq / sampling_freq\n"
      ],
      "execution_count": 6,
      "outputs": []
    },
    {
      "cell_type": "code",
      "metadata": {
        "id": "jLWQGFiYs7M3"
      },
      "source": [
        "def apply_filt(signal):\n",
        "  numerator_coeffs, denominator_coeffs = butter(order, normalized_cutoff_freq)\n",
        "  filtered_signal = lfilter(numerator_coeffs, denominator_coeffs, signal)\n",
        "  return filtered_signal"
      ],
      "execution_count": 7,
      "outputs": []
    },
    {
      "cell_type": "code",
      "metadata": {
        "id": "H1pWio9CtWqb"
      },
      "source": [
        "sig_x = apply_filt(sig_x)"
      ],
      "execution_count": 8,
      "outputs": []
    },
    {
      "cell_type": "code",
      "metadata": {
        "id": "MS25MBpYtbuz"
      },
      "source": [
        "sig_y = apply_filt(df['y-axis'].values)\n",
        "sig_z = apply_filt(df['z-axis'].values)"
      ],
      "execution_count": 9,
      "outputs": []
    },
    {
      "cell_type": "code",
      "metadata": {
        "colab": {
          "base_uri": "https://localhost:8080/"
        },
        "id": "gc91-PP_vNAe",
        "outputId": "79edc4c8-010f-4384-dad3-7ff205e9dd67"
      },
      "source": [
        "sig_x[:10]"
      ],
      "execution_count": 10,
      "outputs": [
        {
          "output_type": "execute_result",
          "data": {
            "text/plain": [
              "array([-5.05776214e-10, -1.22448749e-09,  1.63107275e-08,  1.36937835e-07,\n",
              "        5.71534589e-07,  1.68654199e-06,  3.99628419e-06,  8.14368134e-06,\n",
              "        1.48744748e-05,  2.49896358e-05])"
            ]
          },
          "metadata": {
            "tags": []
          },
          "execution_count": 10
        }
      ]
    },
    {
      "cell_type": "code",
      "metadata": {
        "colab": {
          "base_uri": "https://localhost:8080/"
        },
        "id": "HbCeW2gkvUsy",
        "outputId": "99957c42-6222-47b8-9874-8564e9429d8e"
      },
      "source": [
        "sig_y[:10]"
      ],
      "execution_count": 11,
      "outputs": [
        {
          "output_type": "execute_result",
          "data": {
            "text/plain": [
              "array([9.23289584e-09, 9.92567300e-08, 5.36609398e-07, 1.97808406e-06,\n",
              "       5.67208716e-06, 1.36169491e-05, 2.86349039e-05, 5.43600753e-05,\n",
              "       9.52123349e-05, 1.56412899e-04])"
            ]
          },
          "metadata": {
            "tags": []
          },
          "execution_count": 11
        }
      ]
    },
    {
      "cell_type": "code",
      "metadata": {
        "id": "5iWiqW_pva4O"
      },
      "source": [
        "df['x-axis'] = sig_x"
      ],
      "execution_count": 12,
      "outputs": []
    },
    {
      "cell_type": "code",
      "metadata": {
        "id": "I_A9WNVfxI75"
      },
      "source": [
        "df['y-axis'] = sig_y\n",
        "df['z-axis'] = sig_z"
      ],
      "execution_count": 13,
      "outputs": []
    },
    {
      "cell_type": "code",
      "metadata": {
        "id": "Bt-5DsNwxPby"
      },
      "source": [
        "def create_windowed_dataset(series, window_size = 128,shift_size=64, batch_size=None,shuffle_buffer=None):\n",
        "  dataset = tf.data.Dataset.from_tensor_slices(series)\n",
        "  dataset = dataset.window(window_size , shift = shift_size, drop_remainder = True)\n",
        "  dataset = dataset.flat_map(lambda window: window.batch(window_size))\n",
        "  dataset = dataset.map(lambda window: ( window[:,1:], tf.one_hot(tf.cast(window[window_size -1 , 0], tf.int64), depth=6) ))\n",
        "  dataset = dataset.shuffle(192)\n",
        "  return dataset"
      ],
      "execution_count": 14,
      "outputs": []
    },
    {
      "cell_type": "code",
      "metadata": {
        "id": "zFknmTBOxfs2"
      },
      "source": [
        "df.drop('timestamp', axis = 1, inplace=True)\n",
        "df.activity = df.activity.astype('category').cat.codes\n",
        "df.activity = df.activity.astype('int64')"
      ],
      "execution_count": 15,
      "outputs": []
    },
    {
      "cell_type": "code",
      "metadata": {
        "id": "VoOVMmbAxhgF"
      },
      "source": [
        "train = df[df['user'] < 31 ]\n",
        "test = df[df['user'] >= 30]"
      ],
      "execution_count": 16,
      "outputs": []
    },
    {
      "cell_type": "code",
      "metadata": {
        "colab": {
          "base_uri": "https://localhost:8080/"
        },
        "id": "8ytto5_3xjrk",
        "outputId": "b1f71980-67bb-479d-d103-b2a44dcf8128"
      },
      "source": [
        "train.drop('user', axis = 1, inplace=True)\n",
        "test.drop('user', axis = 1, inplace=True)\n",
        "train.reset_index(drop = True, inplace = True)\n",
        "test.reset_index(drop=True, inplace=True)"
      ],
      "execution_count": 17,
      "outputs": [
        {
          "output_type": "stream",
          "text": [
            "/usr/local/lib/python3.7/dist-packages/pandas/core/frame.py:4174: SettingWithCopyWarning: \n",
            "A value is trying to be set on a copy of a slice from a DataFrame\n",
            "\n",
            "See the caveats in the documentation: https://pandas.pydata.org/pandas-docs/stable/user_guide/indexing.html#returning-a-view-versus-a-copy\n",
            "  errors=errors,\n"
          ],
          "name": "stderr"
        }
      ]
    },
    {
      "cell_type": "code",
      "metadata": {
        "colab": {
          "base_uri": "https://localhost:8080/"
        },
        "id": "ljwdcJzdxlvx",
        "outputId": "44b3e1b7-004e-4e3b-8f39-17d5ed7bd3bd"
      },
      "source": [
        "print(train.shape)\n",
        "print(test.shape)\n"
      ],
      "execution_count": 18,
      "outputs": [
        {
          "output_type": "stream",
          "text": [
            "(898361, 4)\n",
            "(225178, 4)\n"
          ],
          "name": "stdout"
        }
      ]
    },
    {
      "cell_type": "code",
      "metadata": {
        "colab": {
          "base_uri": "https://localhost:8080/"
        },
        "id": "l_9a4DLExnDm",
        "outputId": "9eb7a544-b597-4913-e658-b50cef085d03"
      },
      "source": [
        "train_windowed  = create_windowed_dataset(train)\n",
        "train_data = list(train_windowed.as_numpy_iterator())\n",
        "len(train_data)"
      ],
      "execution_count": 19,
      "outputs": [
        {
          "output_type": "execute_result",
          "data": {
            "text/plain": [
              "14035"
            ]
          },
          "metadata": {
            "tags": []
          },
          "execution_count": 19
        }
      ]
    },
    {
      "cell_type": "code",
      "metadata": {
        "colab": {
          "base_uri": "https://localhost:8080/"
        },
        "id": "81gPR8B4xwDg",
        "outputId": "13de182c-61d6-45dd-c446-87c559c13e04"
      },
      "source": [
        "train_f = []\n",
        "train_l = []\n",
        "for i in train_data:\n",
        "  train_f.append(i[0])\n",
        "  train_l.append(i[1])\n",
        "\n",
        "# converting to numpy array\n",
        "train_f = np.array(train_f)\n",
        "train_l = np.array(train_l)\n",
        "# shape of each\n",
        "print(f\"train features {train_f.shape}\")\n",
        "print(f\"train labels {train_l.shape}\")"
      ],
      "execution_count": 20,
      "outputs": [
        {
          "output_type": "stream",
          "text": [
            "train features (14035, 128, 3)\n",
            "train labels (14035, 6)\n"
          ],
          "name": "stdout"
        }
      ]
    },
    {
      "cell_type": "code",
      "metadata": {
        "id": "PRNnY7aix663"
      },
      "source": [
        "# creating test set\n",
        "def create_test_windowed(series, window_size = 128):\n",
        "  test = tf.data.Dataset.from_tensor_slices(series)\n",
        "  test = test.window(window_size,shift = 64, drop_remainder = True)\n",
        "  test = test.flat_map(lambda window: window.batch(window_size))\n",
        "  test = test.map(lambda window: (window[:,1:], tf.one_hot(tf.cast(window[window_size -1 , 0], tf.int64), depth=6)))\n",
        "  return test"
      ],
      "execution_count": 21,
      "outputs": []
    },
    {
      "cell_type": "code",
      "metadata": {
        "colab": {
          "base_uri": "https://localhost:8080/"
        },
        "id": "mRxK6Vz7x_P7",
        "outputId": "a06aadcd-7ede-4d69-d41f-536f8fc8691e"
      },
      "source": [
        "test_win = create_test_windowed(test)   # test data set for evaluation\n",
        "test_data = list(test_win.as_numpy_iterator())  # test data set for evaluation\n",
        "test_f = []\n",
        "test_l = []\n",
        "for i in test_data:\n",
        "  test_f.append(i[0])\n",
        "  test_l.append(i[1])\n",
        "\n",
        "test_f = np.array(test_f)\n",
        "test_l = np.array(test_l)\n",
        "# shape of each\n",
        "print(f\"test features {test_f.shape}\")\n",
        "print(f\"test labels {test_l.shape}\")"
      ],
      "execution_count": 22,
      "outputs": [
        {
          "output_type": "stream",
          "text": [
            "test features (3517, 128, 3)\n",
            "test labels (3517, 6)\n"
          ],
          "name": "stdout"
        }
      ]
    },
    {
      "cell_type": "code",
      "metadata": {
        "id": "W0U8CibnyDVH"
      },
      "source": [
        "# # adding globel average pooling to the model\n",
        "# codding lstm layers and cnn\n",
        "model = tf.keras.models.Sequential([\n",
        "  tf.keras.layers.Lambda(lambda x: x,\n",
        "                      input_shape=[128, 3]),\n",
        "  tf.keras.layers.LSTM(32, return_sequences=True),\n",
        "  tf.keras.layers.LSTM(32, return_sequences=True),\n",
        "  # tf.keras.layers.SpatialDropout1D(0.2),\n",
        "  tf.keras.layers.Lambda(lambda x: tf.expand_dims(x, axis=-1)),\n",
        "  # tf.keras.layers.Reshape((128,64,1)),\n",
        "  tf.keras.layers.Conv2D(64,5,strides=(2,2)),\n",
        "  tf.keras.layers.MaxPooling2D((2, 2), strides = (2,2)),\n",
        "  # tf.keras.layers.Dropout(.4),\n",
        "  tf.keras.layers.Conv2D(128,3,strides=(1,1)),  \n",
        "  # tf.keras.layers.MaxPooling2D((2, 2), strides = (2,2)),\n",
        "  # tf.keras.layers.Lambda(lambda x: tf.expand_dims(x, axis=-1)),\n",
        "  # parameters ?\n",
        "  tf.keras.layers.GlobalAveragePooling2D(),\n",
        "  tf.keras.layers.Dense(6, activation='softmax')\n",
        "  \n",
        "])"
      ],
      "execution_count": 43,
      "outputs": []
    },
    {
      "cell_type": "code",
      "metadata": {
        "colab": {
          "base_uri": "https://localhost:8080/"
        },
        "id": "Ns-T1F6c4cH6",
        "outputId": "ed70148d-cf2d-442e-871d-819a74d66e76"
      },
      "source": [
        "model.summary()"
      ],
      "execution_count": 44,
      "outputs": [
        {
          "output_type": "stream",
          "text": [
            "Model: \"sequential_5\"\n",
            "_________________________________________________________________\n",
            "Layer (type)                 Output Shape              Param #   \n",
            "=================================================================\n",
            "lambda_8 (Lambda)            (None, 128, 3)            0         \n",
            "_________________________________________________________________\n",
            "lstm_10 (LSTM)               (None, 128, 32)           4608      \n",
            "_________________________________________________________________\n",
            "lstm_11 (LSTM)               (None, 128, 32)           8320      \n",
            "_________________________________________________________________\n",
            "lambda_9 (Lambda)            (None, 128, 32, 1)        0         \n",
            "_________________________________________________________________\n",
            "conv2d_10 (Conv2D)           (None, 62, 14, 64)        1664      \n",
            "_________________________________________________________________\n",
            "max_pooling2d_5 (MaxPooling2 (None, 31, 7, 64)         0         \n",
            "_________________________________________________________________\n",
            "conv2d_11 (Conv2D)           (None, 29, 5, 128)        73856     \n",
            "_________________________________________________________________\n",
            "global_average_pooling2d_5 ( (None, 128)               0         \n",
            "_________________________________________________________________\n",
            "dense_5 (Dense)              (None, 6)                 774       \n",
            "=================================================================\n",
            "Total params: 89,222\n",
            "Trainable params: 89,222\n",
            "Non-trainable params: 0\n",
            "_________________________________________________________________\n"
          ],
          "name": "stdout"
        }
      ]
    },
    {
      "cell_type": "code",
      "metadata": {
        "id": "9paLXnDLyUQ5"
      },
      "source": [
        "# designing class back to save the best model\n",
        "from tensorflow.keras.callbacks import ModelCheckpoint\n",
        "save = ModelCheckpoint('best_model_n3.h5', save_best_only = True)"
      ],
      "execution_count": 45,
      "outputs": []
    },
    {
      "cell_type": "code",
      "metadata": {
        "colab": {
          "base_uri": "https://localhost:8080/"
        },
        "id": "dKiVdm37yXpR",
        "outputId": "fb821dcf-2bd1-4df6-ae9f-c4bd882cb692"
      },
      "source": [
        "# with out bidirection\n",
        "optimizer = tf.keras.optimizers.Adam(0.001)\n",
        "model.compile(loss=\"categorical_crossentropy\", optimizer=optimizer, metrics = ['accuracy'])\n",
        "\n",
        "history = model.fit(train_f,train_l,validation_data=(test_f, test_l), epochs=100,callbacks=[save], verbose=1, batch_size=192) "
      ],
      "execution_count": 46,
      "outputs": [
        {
          "output_type": "stream",
          "text": [
            "Epoch 1/100\n",
            "74/74 [==============================] - 6s 44ms/step - loss: 1.4525 - accuracy: 0.4653 - val_loss: 1.0828 - val_accuracy: 0.5792\n",
            "Epoch 2/100\n",
            "74/74 [==============================] - 2s 32ms/step - loss: 0.8457 - accuracy: 0.7289 - val_loss: 0.9095 - val_accuracy: 0.7373\n",
            "Epoch 3/100\n",
            "74/74 [==============================] - 2s 32ms/step - loss: 0.7274 - accuracy: 0.7625 - val_loss: 0.9242 - val_accuracy: 0.6508\n",
            "Epoch 4/100\n",
            "74/74 [==============================] - 2s 32ms/step - loss: 0.6813 - accuracy: 0.7707 - val_loss: 0.7934 - val_accuracy: 0.7341\n",
            "Epoch 5/100\n",
            "74/74 [==============================] - 2s 32ms/step - loss: 0.6402 - accuracy: 0.7829 - val_loss: 0.8047 - val_accuracy: 0.7370\n",
            "Epoch 6/100\n",
            "74/74 [==============================] - 2s 32ms/step - loss: 0.6081 - accuracy: 0.7941 - val_loss: 0.8817 - val_accuracy: 0.6761\n",
            "Epoch 7/100\n",
            "74/74 [==============================] - 2s 32ms/step - loss: 0.6262 - accuracy: 0.7920 - val_loss: 0.8337 - val_accuracy: 0.7236\n",
            "Epoch 8/100\n",
            "74/74 [==============================] - 2s 31ms/step - loss: 0.5865 - accuracy: 0.7986 - val_loss: 0.7494 - val_accuracy: 0.7396\n",
            "Epoch 9/100\n",
            "74/74 [==============================] - 2s 32ms/step - loss: 0.5729 - accuracy: 0.8025 - val_loss: 0.7271 - val_accuracy: 0.7455\n",
            "Epoch 10/100\n",
            "74/74 [==============================] - 2s 32ms/step - loss: 0.5704 - accuracy: 0.8089 - val_loss: 0.7918 - val_accuracy: 0.7418\n",
            "Epoch 11/100\n",
            "74/74 [==============================] - 2s 32ms/step - loss: 0.5784 - accuracy: 0.8075 - val_loss: 0.7433 - val_accuracy: 0.7418\n",
            "Epoch 12/100\n",
            "74/74 [==============================] - 2s 32ms/step - loss: 0.5686 - accuracy: 0.8058 - val_loss: 1.0279 - val_accuracy: 0.6730\n",
            "Epoch 13/100\n",
            "74/74 [==============================] - 2s 32ms/step - loss: 0.6101 - accuracy: 0.7963 - val_loss: 0.7019 - val_accuracy: 0.7677\n",
            "Epoch 14/100\n",
            "74/74 [==============================] - 2s 32ms/step - loss: 0.5288 - accuracy: 0.8168 - val_loss: 0.7743 - val_accuracy: 0.7421\n",
            "Epoch 15/100\n",
            "74/74 [==============================] - 2s 32ms/step - loss: 0.5645 - accuracy: 0.8052 - val_loss: 0.8361 - val_accuracy: 0.7120\n",
            "Epoch 16/100\n",
            "74/74 [==============================] - 2s 32ms/step - loss: 0.5541 - accuracy: 0.8070 - val_loss: 0.7712 - val_accuracy: 0.7441\n",
            "Epoch 17/100\n",
            "74/74 [==============================] - 2s 32ms/step - loss: 0.5313 - accuracy: 0.8165 - val_loss: 0.8480 - val_accuracy: 0.7324\n",
            "Epoch 18/100\n",
            "74/74 [==============================] - 2s 32ms/step - loss: 0.5337 - accuracy: 0.8112 - val_loss: 0.7877 - val_accuracy: 0.7546\n",
            "Epoch 19/100\n",
            "74/74 [==============================] - 2s 32ms/step - loss: 0.5255 - accuracy: 0.8124 - val_loss: 0.7883 - val_accuracy: 0.7364\n",
            "Epoch 20/100\n",
            "74/74 [==============================] - 2s 32ms/step - loss: 0.5027 - accuracy: 0.8197 - val_loss: 0.8023 - val_accuracy: 0.7447\n",
            "Epoch 21/100\n",
            "74/74 [==============================] - 2s 31ms/step - loss: 0.5309 - accuracy: 0.8116 - val_loss: 0.8861 - val_accuracy: 0.6841\n",
            "Epoch 22/100\n",
            "74/74 [==============================] - 2s 32ms/step - loss: 0.5038 - accuracy: 0.8231 - val_loss: 0.7768 - val_accuracy: 0.7364\n",
            "Epoch 23/100\n",
            "74/74 [==============================] - 2s 32ms/step - loss: 0.4999 - accuracy: 0.8247 - val_loss: 0.8285 - val_accuracy: 0.7020\n",
            "Epoch 24/100\n",
            "74/74 [==============================] - 2s 32ms/step - loss: 0.4836 - accuracy: 0.8260 - val_loss: 0.8862 - val_accuracy: 0.7012\n",
            "Epoch 25/100\n",
            "74/74 [==============================] - 2s 32ms/step - loss: 0.4661 - accuracy: 0.8322 - val_loss: 0.8173 - val_accuracy: 0.7162\n",
            "Epoch 26/100\n",
            "74/74 [==============================] - 2s 32ms/step - loss: 0.4888 - accuracy: 0.8237 - val_loss: 0.8101 - val_accuracy: 0.7191\n",
            "Epoch 27/100\n",
            "74/74 [==============================] - 2s 31ms/step - loss: 0.4654 - accuracy: 0.8394 - val_loss: 0.8828 - val_accuracy: 0.7137\n",
            "Epoch 28/100\n",
            "74/74 [==============================] - 2s 32ms/step - loss: 0.4697 - accuracy: 0.8336 - val_loss: 0.7975 - val_accuracy: 0.7310\n",
            "Epoch 29/100\n",
            "74/74 [==============================] - 2s 32ms/step - loss: 0.4669 - accuracy: 0.8309 - val_loss: 0.8378 - val_accuracy: 0.7057\n",
            "Epoch 30/100\n",
            "74/74 [==============================] - 2s 33ms/step - loss: 0.4698 - accuracy: 0.8330 - val_loss: 0.8399 - val_accuracy: 0.7040\n",
            "Epoch 31/100\n",
            "74/74 [==============================] - 2s 33ms/step - loss: 0.4539 - accuracy: 0.8369 - val_loss: 0.8675 - val_accuracy: 0.7108\n",
            "Epoch 32/100\n",
            "74/74 [==============================] - 2s 33ms/step - loss: 0.4568 - accuracy: 0.8364 - val_loss: 0.7703 - val_accuracy: 0.7316\n",
            "Epoch 33/100\n",
            "74/74 [==============================] - 2s 33ms/step - loss: 0.5055 - accuracy: 0.8203 - val_loss: 0.8000 - val_accuracy: 0.7268\n",
            "Epoch 34/100\n",
            "74/74 [==============================] - 2s 33ms/step - loss: 0.4814 - accuracy: 0.8261 - val_loss: 0.9152 - val_accuracy: 0.7069\n",
            "Epoch 35/100\n",
            "74/74 [==============================] - 2s 33ms/step - loss: 0.4583 - accuracy: 0.8360 - val_loss: 0.7804 - val_accuracy: 0.7233\n",
            "Epoch 36/100\n",
            "74/74 [==============================] - 2s 33ms/step - loss: 0.4564 - accuracy: 0.8409 - val_loss: 0.7180 - val_accuracy: 0.7461\n",
            "Epoch 37/100\n",
            "74/74 [==============================] - 2s 33ms/step - loss: 0.5108 - accuracy: 0.8122 - val_loss: 0.9215 - val_accuracy: 0.6702\n",
            "Epoch 38/100\n",
            "74/74 [==============================] - 2s 33ms/step - loss: 0.4615 - accuracy: 0.8324 - val_loss: 0.9019 - val_accuracy: 0.6722\n",
            "Epoch 39/100\n",
            "74/74 [==============================] - 2s 33ms/step - loss: 0.4597 - accuracy: 0.8308 - val_loss: 0.8871 - val_accuracy: 0.6742\n",
            "Epoch 40/100\n",
            "74/74 [==============================] - 2s 33ms/step - loss: 0.4356 - accuracy: 0.8461 - val_loss: 0.8140 - val_accuracy: 0.6980\n",
            "Epoch 41/100\n",
            "74/74 [==============================] - 2s 33ms/step - loss: 0.4208 - accuracy: 0.8500 - val_loss: 0.9100 - val_accuracy: 0.6904\n",
            "Epoch 42/100\n",
            "74/74 [==============================] - 2s 34ms/step - loss: 0.4121 - accuracy: 0.8535 - val_loss: 0.8339 - val_accuracy: 0.7083\n",
            "Epoch 43/100\n",
            "74/74 [==============================] - 2s 33ms/step - loss: 0.3995 - accuracy: 0.8537 - val_loss: 0.8368 - val_accuracy: 0.7157\n",
            "Epoch 44/100\n",
            "74/74 [==============================] - 2s 33ms/step - loss: 0.4210 - accuracy: 0.8520 - val_loss: 0.9383 - val_accuracy: 0.6943\n",
            "Epoch 45/100\n",
            "74/74 [==============================] - 2s 33ms/step - loss: 0.4251 - accuracy: 0.8512 - val_loss: 0.8874 - val_accuracy: 0.6932\n",
            "Epoch 46/100\n",
            "74/74 [==============================] - 2s 33ms/step - loss: 0.4267 - accuracy: 0.8446 - val_loss: 1.0144 - val_accuracy: 0.6560\n",
            "Epoch 47/100\n",
            "74/74 [==============================] - 2s 33ms/step - loss: 0.4336 - accuracy: 0.8416 - val_loss: 0.8973 - val_accuracy: 0.7145\n",
            "Epoch 48/100\n",
            "74/74 [==============================] - 2s 34ms/step - loss: 0.4225 - accuracy: 0.8464 - val_loss: 0.9158 - val_accuracy: 0.7103\n",
            "Epoch 49/100\n",
            "74/74 [==============================] - 2s 34ms/step - loss: 0.4162 - accuracy: 0.8505 - val_loss: 1.1010 - val_accuracy: 0.6784\n",
            "Epoch 50/100\n",
            "74/74 [==============================] - 2s 33ms/step - loss: 0.4279 - accuracy: 0.8462 - val_loss: 0.9223 - val_accuracy: 0.6901\n",
            "Epoch 51/100\n",
            "74/74 [==============================] - 2s 33ms/step - loss: 0.3868 - accuracy: 0.8595 - val_loss: 0.9802 - val_accuracy: 0.6918\n",
            "Epoch 52/100\n",
            "74/74 [==============================] - 2s 33ms/step - loss: 0.4121 - accuracy: 0.8514 - val_loss: 0.8686 - val_accuracy: 0.7094\n",
            "Epoch 53/100\n",
            "74/74 [==============================] - 2s 33ms/step - loss: 0.3993 - accuracy: 0.8612 - val_loss: 0.8976 - val_accuracy: 0.6929\n",
            "Epoch 54/100\n",
            "74/74 [==============================] - 2s 33ms/step - loss: 0.3869 - accuracy: 0.8542 - val_loss: 0.9349 - val_accuracy: 0.6915\n",
            "Epoch 55/100\n",
            "74/74 [==============================] - 2s 33ms/step - loss: 0.3890 - accuracy: 0.8570 - val_loss: 0.9014 - val_accuracy: 0.7080\n",
            "Epoch 56/100\n",
            "74/74 [==============================] - 2s 33ms/step - loss: 0.4005 - accuracy: 0.8539 - val_loss: 0.8689 - val_accuracy: 0.7091\n",
            "Epoch 57/100\n",
            "74/74 [==============================] - 2s 33ms/step - loss: 0.3975 - accuracy: 0.8535 - val_loss: 1.1940 - val_accuracy: 0.6517\n",
            "Epoch 58/100\n",
            "74/74 [==============================] - 2s 33ms/step - loss: 0.4750 - accuracy: 0.8319 - val_loss: 0.8626 - val_accuracy: 0.7287\n",
            "Epoch 59/100\n",
            "74/74 [==============================] - 2s 32ms/step - loss: 0.3783 - accuracy: 0.8599 - val_loss: 0.8360 - val_accuracy: 0.7168\n",
            "Epoch 60/100\n",
            "74/74 [==============================] - 2s 32ms/step - loss: 0.3868 - accuracy: 0.8577 - val_loss: 0.8385 - val_accuracy: 0.6963\n",
            "Epoch 61/100\n",
            "74/74 [==============================] - 2s 33ms/step - loss: 0.3805 - accuracy: 0.8638 - val_loss: 0.9513 - val_accuracy: 0.6969\n",
            "Epoch 62/100\n",
            "74/74 [==============================] - 2s 33ms/step - loss: 0.3898 - accuracy: 0.8561 - val_loss: 1.1058 - val_accuracy: 0.6628\n",
            "Epoch 63/100\n",
            "74/74 [==============================] - 2s 33ms/step - loss: 0.4247 - accuracy: 0.8467 - val_loss: 0.9664 - val_accuracy: 0.6995\n",
            "Epoch 64/100\n",
            "74/74 [==============================] - 2s 33ms/step - loss: 0.3770 - accuracy: 0.8637 - val_loss: 0.9021 - val_accuracy: 0.6955\n",
            "Epoch 65/100\n",
            "74/74 [==============================] - 2s 32ms/step - loss: 0.3818 - accuracy: 0.8555 - val_loss: 0.9848 - val_accuracy: 0.7080\n",
            "Epoch 66/100\n",
            "74/74 [==============================] - 2s 32ms/step - loss: 0.3811 - accuracy: 0.8626 - val_loss: 0.9387 - val_accuracy: 0.7131\n",
            "Epoch 67/100\n",
            "74/74 [==============================] - 2s 32ms/step - loss: 0.3762 - accuracy: 0.8613 - val_loss: 0.9470 - val_accuracy: 0.7006\n",
            "Epoch 68/100\n",
            "74/74 [==============================] - 2s 32ms/step - loss: 0.3829 - accuracy: 0.8621 - val_loss: 0.9290 - val_accuracy: 0.7222\n",
            "Epoch 69/100\n",
            "74/74 [==============================] - 2s 32ms/step - loss: 0.3928 - accuracy: 0.8578 - val_loss: 1.0433 - val_accuracy: 0.6850\n",
            "Epoch 70/100\n",
            "74/74 [==============================] - 2s 32ms/step - loss: 0.3714 - accuracy: 0.8645 - val_loss: 0.8847 - val_accuracy: 0.7225\n",
            "Epoch 71/100\n",
            "74/74 [==============================] - 2s 32ms/step - loss: 0.3706 - accuracy: 0.8618 - val_loss: 0.8194 - val_accuracy: 0.7501\n",
            "Epoch 72/100\n",
            "74/74 [==============================] - 2s 32ms/step - loss: 0.3908 - accuracy: 0.8574 - val_loss: 1.0840 - val_accuracy: 0.6670\n",
            "Epoch 73/100\n",
            "74/74 [==============================] - 2s 33ms/step - loss: 0.3683 - accuracy: 0.8649 - val_loss: 1.0135 - val_accuracy: 0.6935\n",
            "Epoch 74/100\n",
            "74/74 [==============================] - 2s 33ms/step - loss: 0.3680 - accuracy: 0.8622 - val_loss: 0.9428 - val_accuracy: 0.7231\n",
            "Epoch 75/100\n",
            "74/74 [==============================] - 2s 32ms/step - loss: 0.3611 - accuracy: 0.8658 - val_loss: 0.9536 - val_accuracy: 0.6881\n",
            "Epoch 76/100\n",
            "74/74 [==============================] - 2s 32ms/step - loss: 0.3916 - accuracy: 0.8595 - val_loss: 0.9482 - val_accuracy: 0.7097\n",
            "Epoch 77/100\n",
            "74/74 [==============================] - 2s 32ms/step - loss: 0.3650 - accuracy: 0.8661 - val_loss: 0.9624 - val_accuracy: 0.6878\n",
            "Epoch 78/100\n",
            "74/74 [==============================] - 2s 32ms/step - loss: 0.3626 - accuracy: 0.8666 - val_loss: 0.9148 - val_accuracy: 0.7208\n",
            "Epoch 79/100\n",
            "74/74 [==============================] - 2s 32ms/step - loss: 0.3908 - accuracy: 0.8539 - val_loss: 0.8773 - val_accuracy: 0.7179\n",
            "Epoch 80/100\n",
            "74/74 [==============================] - 2s 32ms/step - loss: 0.3729 - accuracy: 0.8663 - val_loss: 0.8678 - val_accuracy: 0.7336\n",
            "Epoch 81/100\n",
            "74/74 [==============================] - 2s 32ms/step - loss: 0.3812 - accuracy: 0.8598 - val_loss: 0.9951 - val_accuracy: 0.7185\n",
            "Epoch 82/100\n",
            "74/74 [==============================] - 2s 32ms/step - loss: 0.3630 - accuracy: 0.8654 - val_loss: 0.8627 - val_accuracy: 0.7253\n",
            "Epoch 83/100\n",
            "74/74 [==============================] - 2s 32ms/step - loss: 0.3548 - accuracy: 0.8694 - val_loss: 1.1242 - val_accuracy: 0.6557\n",
            "Epoch 84/100\n",
            "74/74 [==============================] - 2s 32ms/step - loss: 0.3667 - accuracy: 0.8661 - val_loss: 0.9356 - val_accuracy: 0.6969\n",
            "Epoch 85/100\n",
            "74/74 [==============================] - 2s 32ms/step - loss: 0.3608 - accuracy: 0.8672 - val_loss: 0.9441 - val_accuracy: 0.7026\n",
            "Epoch 86/100\n",
            "74/74 [==============================] - 2s 32ms/step - loss: 0.3407 - accuracy: 0.8745 - val_loss: 0.9094 - val_accuracy: 0.7231\n",
            "Epoch 87/100\n",
            "74/74 [==============================] - 2s 33ms/step - loss: 0.3548 - accuracy: 0.8708 - val_loss: 0.9587 - val_accuracy: 0.7097\n",
            "Epoch 88/100\n",
            "74/74 [==============================] - 2s 32ms/step - loss: 0.3625 - accuracy: 0.8691 - val_loss: 0.9480 - val_accuracy: 0.7307\n",
            "Epoch 89/100\n",
            "74/74 [==============================] - 2s 32ms/step - loss: 0.3545 - accuracy: 0.8648 - val_loss: 0.9979 - val_accuracy: 0.6898\n",
            "Epoch 90/100\n",
            "74/74 [==============================] - 2s 32ms/step - loss: 0.3310 - accuracy: 0.8791 - val_loss: 0.8584 - val_accuracy: 0.7381\n",
            "Epoch 91/100\n",
            "74/74 [==============================] - 2s 32ms/step - loss: 0.3459 - accuracy: 0.8695 - val_loss: 0.9972 - val_accuracy: 0.6841\n",
            "Epoch 92/100\n",
            "74/74 [==============================] - 2s 32ms/step - loss: 0.3781 - accuracy: 0.8628 - val_loss: 0.8371 - val_accuracy: 0.7370\n",
            "Epoch 93/100\n",
            "74/74 [==============================] - 2s 32ms/step - loss: 0.3543 - accuracy: 0.8679 - val_loss: 0.9743 - val_accuracy: 0.7154\n",
            "Epoch 94/100\n",
            "74/74 [==============================] - 2s 32ms/step - loss: 0.3895 - accuracy: 0.8606 - val_loss: 1.0318 - val_accuracy: 0.6554\n",
            "Epoch 95/100\n",
            "74/74 [==============================] - 2s 32ms/step - loss: 0.3606 - accuracy: 0.8664 - val_loss: 0.9130 - val_accuracy: 0.7253\n",
            "Epoch 96/100\n",
            "74/74 [==============================] - 2s 32ms/step - loss: 0.3544 - accuracy: 0.8718 - val_loss: 0.9447 - val_accuracy: 0.7071\n",
            "Epoch 97/100\n",
            "74/74 [==============================] - 2s 32ms/step - loss: 0.3460 - accuracy: 0.8678 - val_loss: 0.9959 - val_accuracy: 0.6824\n",
            "Epoch 98/100\n",
            "74/74 [==============================] - 2s 33ms/step - loss: 0.3329 - accuracy: 0.8771 - val_loss: 0.9889 - val_accuracy: 0.7134\n",
            "Epoch 99/100\n",
            "74/74 [==============================] - 2s 32ms/step - loss: 0.3340 - accuracy: 0.8768 - val_loss: 1.0739 - val_accuracy: 0.6909\n",
            "Epoch 100/100\n",
            "74/74 [==============================] - 2s 33ms/step - loss: 0.3663 - accuracy: 0.8672 - val_loss: 0.9389 - val_accuracy: 0.7080\n"
          ],
          "name": "stdout"
        }
      ]
    },
    {
      "cell_type": "code",
      "metadata": {
        "colab": {
          "base_uri": "https://localhost:8080/",
          "height": 338
        },
        "id": "drWi1R_gyYZZ",
        "outputId": "e915932e-f626-431f-e85c-5c07aa8fde6a"
      },
      "source": [
        "import matplotlib.pyplot as plt\n",
        "m_acc = history.history['accuracy']\n",
        "fig, ax = plt.subplots(figsize = (15,5))\n",
        "ax.plot(m_acc, color = 'r')\n",
        "ax.plot(history.history['val_accuracy'], color = 'b')\n",
        "# plt.legend()"
      ],
      "execution_count": 47,
      "outputs": [
        {
          "output_type": "execute_result",
          "data": {
            "text/plain": [
              "[<matplotlib.lines.Line2D at 0x7fc0894af050>]"
            ]
          },
          "metadata": {
            "tags": []
          },
          "execution_count": 47
        },
        {
          "output_type": "display_data",
          "data": {
            "image/png": "[encoded data removed]",
            "text/plain": [
              "<Figure size 1080x360 with 1 Axes>"
            ]
          },
          "metadata": {
            "tags": [],
            "needs_background": "light"
          }
        }
      ]
    },
    {
      "cell_type": "code",
      "metadata": {
        "id": "BZk4DH4BybDB",
        "colab": {
          "base_uri": "https://localhost:8080/"
        },
        "outputId": "edd106fc-b49e-4a70-a458-e343910b4162"
      },
      "source": [
        "b_model = tf.keras.models.load_model('best_model_n3.h5')\n",
        "b_model.evaluate(test_f, test_l)"
      ],
      "execution_count": 30,
      "outputs": [
        {
          "output_type": "stream",
          "text": [
            "110/110 [==============================] - 3s 17ms/step - loss: 0.6856 - accuracy: 0.7637\n"
          ],
          "name": "stdout"
        },
        {
          "output_type": "execute_result",
          "data": {
            "text/plain": [
              "[0.6856177449226379, 0.7637190818786621]"
            ]
          },
          "metadata": {
            "tags": []
          },
          "execution_count": 30
        }
      ]
    },
    {
      "cell_type": "code",
      "metadata": {
        "id": "kAI7v5accGer"
      },
      "source": [
        ""
      ],
      "execution_count": null,
      "outputs": []
    }
  ]
}