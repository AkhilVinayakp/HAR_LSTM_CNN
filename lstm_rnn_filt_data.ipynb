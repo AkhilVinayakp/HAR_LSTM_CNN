{
  "nbformat": 4,
  "nbformat_minor": 0,
  "metadata": {
    "colab": {
      "name": "lstm_rnn_filt_data.ipynb",
      "provenance": [],
      "collapsed_sections": [],
      "mount_file_id": "1uZqTvtsLWlzDK9psFlrSU3LITphfmdM0",
      "authorship_tag": "ABX9TyNm9PGDY74Il6V/Ynm7fn2Y",
      "include_colab_link": true
    },
    "kernelspec": {
      "name": "python3",
      "display_name": "Python 3"
    },
    "language_info": {
      "name": "python"
    },
    "accelerator": "GPU"
  },
  "cells": [
    {
      "cell_type": "markdown",
      "metadata": {
        "id": "view-in-github",
        "colab_type": "text"
      },
      "source": [
        "<a href=\"https://colab.research.google.com/github/AkhilVinayakp/HAR_LSTM_CNN/blob/main/lstm_rnn_filt_data.ipynb\" target=\"_parent\"><img src=\"https://colab.research.google.com/assets/colab-badge.svg\" alt=\"Open In Colab\"/></a>"
      ]
    },
    {
      "cell_type": "code",
      "metadata": {
        "id": "RxaXWotQqfVu"
      },
      "source": [
        "import pandas as pd\n",
        "import numpy as np\n",
        "import tensorflow as tf\n",
        "import matplotlib.pyplot as plt\n",
        "from scipy.signal import butter, lfilter"
      ],
      "execution_count": null,
      "outputs": []
    },
    {
      "cell_type": "code",
      "metadata": {
        "colab": {
          "base_uri": "https://localhost:8080/",
          "height": 54
        },
        "id": "RndOFufyqseo",
        "outputId": "dec9365b-5e8b-43ab-c4cc-fbd545e47616"
      },
      "source": [
        "%cd /content/drive/My\\ Drive/datasets \n",
        "%pwd"
      ],
      "execution_count": null,
      "outputs": [
        {
          "output_type": "stream",
          "text": [
            "/content/drive/My Drive/datasets\n"
          ],
          "name": "stdout"
        },
        {
          "output_type": "execute_result",
          "data": {
            "application/vnd.google.colaboratory.intrinsic+json": {
              "type": "string"
            },
            "text/plain": [
              "'/content/drive/My Drive/datasets'"
            ]
          },
          "metadata": {
            "tags": []
          },
          "execution_count": 2
        }
      ]
    },
    {
      "cell_type": "code",
      "metadata": {
        "id": "W8axBi3drGgq"
      },
      "source": [
        "df = pd.read_csv('int_norm.csv')"
      ],
      "execution_count": null,
      "outputs": []
    },
    {
      "cell_type": "code",
      "metadata": {
        "colab": {
          "base_uri": "https://localhost:8080/",
          "height": 424
        },
        "id": "0F25wT2yrIPW",
        "outputId": "be2c0107-4e2b-42a8-e936-97c1549f4532"
      },
      "source": [
        "df"
      ],
      "execution_count": null,
      "outputs": [
        {
          "output_type": "execute_result",
          "data": {
            "text/html": [
              "<div>\n",
              "<style scoped>\n",
              "    .dataframe tbody tr th:only-of-type {\n",
              "        vertical-align: middle;\n",
              "    }\n",
              "\n",
              "    .dataframe tbody tr th {\n",
              "        vertical-align: top;\n",
              "    }\n",
              "\n",
              "    .dataframe thead th {\n",
              "        text-align: right;\n",
              "    }\n",
              "</style>\n",
              "<table border=\"1\" class=\"dataframe\">\n",
              "  <thead>\n",
              "    <tr style=\"text-align: right;\">\n",
              "      <th></th>\n",
              "      <th>user</th>\n",
              "      <th>activity</th>\n",
              "      <th>timestamp</th>\n",
              "      <th>x-axis</th>\n",
              "      <th>y-axis</th>\n",
              "      <th>z-axis</th>\n",
              "    </tr>\n",
              "  </thead>\n",
              "  <tbody>\n",
              "    <tr>\n",
              "      <th>0</th>\n",
              "      <td>33</td>\n",
              "      <td>Jogging</td>\n",
              "      <td>49105962326000</td>\n",
              "      <td>-0.054655</td>\n",
              "      <td>0.997718</td>\n",
              "      <td>0.039652</td>\n",
              "    </tr>\n",
              "    <tr>\n",
              "      <th>1</th>\n",
              "      <td>33</td>\n",
              "      <td>Jogging</td>\n",
              "      <td>49106062271000</td>\n",
              "      <td>0.405338</td>\n",
              "      <td>0.910910</td>\n",
              "      <td>0.077102</td>\n",
              "    </tr>\n",
              "    <tr>\n",
              "      <th>2</th>\n",
              "      <td>33</td>\n",
              "      <td>Jogging</td>\n",
              "      <td>49106112167000</td>\n",
              "      <td>0.410782</td>\n",
              "      <td>0.911708</td>\n",
              "      <td>-0.006846</td>\n",
              "    </tr>\n",
              "    <tr>\n",
              "      <th>3</th>\n",
              "      <td>33</td>\n",
              "      <td>Jogging</td>\n",
              "      <td>49106222305000</td>\n",
              "      <td>-0.032685</td>\n",
              "      <td>0.986373</td>\n",
              "      <td>0.161248</td>\n",
              "    </tr>\n",
              "    <tr>\n",
              "      <th>4</th>\n",
              "      <td>33</td>\n",
              "      <td>Jogging</td>\n",
              "      <td>49106332290000</td>\n",
              "      <td>-0.083804</td>\n",
              "      <td>0.856341</td>\n",
              "      <td>0.509566</td>\n",
              "    </tr>\n",
              "    <tr>\n",
              "      <th>...</th>\n",
              "      <td>...</td>\n",
              "      <td>...</td>\n",
              "      <td>...</td>\n",
              "      <td>...</td>\n",
              "      <td>...</td>\n",
              "      <td>...</td>\n",
              "    </tr>\n",
              "    <tr>\n",
              "      <th>1098199</th>\n",
              "      <td>19</td>\n",
              "      <td>Sitting</td>\n",
              "      <td>131623331483000</td>\n",
              "      <td>0.968689</td>\n",
              "      <td>-0.168982</td>\n",
              "      <td>0.181898</td>\n",
              "    </tr>\n",
              "    <tr>\n",
              "      <th>1098200</th>\n",
              "      <td>19</td>\n",
              "      <td>Sitting</td>\n",
              "      <td>131623371431000</td>\n",
              "      <td>0.970048</td>\n",
              "      <td>-0.156667</td>\n",
              "      <td>0.185640</td>\n",
              "    </tr>\n",
              "    <tr>\n",
              "      <th>1098201</th>\n",
              "      <td>19</td>\n",
              "      <td>Sitting</td>\n",
              "      <td>131623411592000</td>\n",
              "      <td>0.972323</td>\n",
              "      <td>-0.147776</td>\n",
              "      <td>0.180972</td>\n",
              "    </tr>\n",
              "    <tr>\n",
              "      <th>1098202</th>\n",
              "      <td>19</td>\n",
              "      <td>Sitting</td>\n",
              "      <td>131623491487000</td>\n",
              "      <td>0.969793</td>\n",
              "      <td>-0.157322</td>\n",
              "      <td>0.186416</td>\n",
              "    </tr>\n",
              "    <tr>\n",
              "      <th>1098203</th>\n",
              "      <td>19</td>\n",
              "      <td>Sitting</td>\n",
              "      <td>131623531465000</td>\n",
              "      <td>0.973444</td>\n",
              "      <td>-0.145797</td>\n",
              "      <td>0.176492</td>\n",
              "    </tr>\n",
              "  </tbody>\n",
              "</table>\n",
              "<p>1098204 rows × 6 columns</p>\n",
              "</div>"
            ],
            "text/plain": [
              "         user activity        timestamp    x-axis    y-axis    z-axis\n",
              "0          33  Jogging   49105962326000 -0.054655  0.997718  0.039652\n",
              "1          33  Jogging   49106062271000  0.405338  0.910910  0.077102\n",
              "2          33  Jogging   49106112167000  0.410782  0.911708 -0.006846\n",
              "3          33  Jogging   49106222305000 -0.032685  0.986373  0.161248\n",
              "4          33  Jogging   49106332290000 -0.083804  0.856341  0.509566\n",
              "...       ...      ...              ...       ...       ...       ...\n",
              "1098199    19  Sitting  131623331483000  0.968689 -0.168982  0.181898\n",
              "1098200    19  Sitting  131623371431000  0.970048 -0.156667  0.185640\n",
              "1098201    19  Sitting  131623411592000  0.972323 -0.147776  0.180972\n",
              "1098202    19  Sitting  131623491487000  0.969793 -0.157322  0.186416\n",
              "1098203    19  Sitting  131623531465000  0.973444 -0.145797  0.176492\n",
              "\n",
              "[1098204 rows x 6 columns]"
            ]
          },
          "metadata": {
            "tags": []
          },
          "execution_count": 4
        }
      ]
    },
    {
      "cell_type": "code",
      "metadata": {
        "id": "62mOxswYrfqr"
      },
      "source": [
        "sig_x = df['x-axis'].values"
      ],
      "execution_count": null,
      "outputs": []
    },
    {
      "cell_type": "code",
      "metadata": {
        "id": "C_-Uk2t9rs0V"
      },
      "source": [
        "# applying the low pass filter\n",
        "order = 5\n",
        "\n",
        "\n",
        "sampling_freq = 50\n",
        "\n",
        "\n",
        "cutoff_freq = .4\n",
        "\n",
        "\n",
        "sampling_duration = 2.56\n",
        "\n",
        "\n",
        "number_of_samples = sampling_freq * sampling_duration\n",
        "normalized_cutoff_freq = 2 * cutoff_freq / sampling_freq\n"
      ],
      "execution_count": null,
      "outputs": []
    },
    {
      "cell_type": "code",
      "metadata": {
        "id": "jLWQGFiYs7M3"
      },
      "source": [
        "def apply_filt(signal):\n",
        "  numerator_coeffs, denominator_coeffs = butter(order, normalized_cutoff_freq)\n",
        "  filtered_signal = lfilter(numerator_coeffs, denominator_coeffs, signal)\n",
        "  return filtered_signal"
      ],
      "execution_count": null,
      "outputs": []
    },
    {
      "cell_type": "code",
      "metadata": {
        "id": "H1pWio9CtWqb"
      },
      "source": [
        "sig_x = apply_filt(sig_x)"
      ],
      "execution_count": null,
      "outputs": []
    },
    {
      "cell_type": "code",
      "metadata": {
        "id": "MS25MBpYtbuz"
      },
      "source": [
        "sig_y = apply_filt(df['y-axis'].values)\n",
        "sig_z = apply_filt(df['z-axis'].values)"
      ],
      "execution_count": null,
      "outputs": []
    },
    {
      "cell_type": "code",
      "metadata": {
        "colab": {
          "base_uri": "https://localhost:8080/"
        },
        "id": "gc91-PP_vNAe",
        "outputId": "7ca03f08-7cc3-4f04-8656-f264732d6a82"
      },
      "source": [
        "sig_x[:10]"
      ],
      "execution_count": null,
      "outputs": [
        {
          "output_type": "execute_result",
          "data": {
            "text/plain": [
              "array([-5.05776214e-10, -1.22448749e-09,  1.63107275e-08,  1.36937835e-07,\n",
              "        5.71534589e-07,  1.68654199e-06,  3.99628419e-06,  8.14368134e-06,\n",
              "        1.48744748e-05,  2.49896358e-05])"
            ]
          },
          "metadata": {
            "tags": []
          },
          "execution_count": 10
        }
      ]
    },
    {
      "cell_type": "code",
      "metadata": {
        "colab": {
          "base_uri": "https://localhost:8080/"
        },
        "id": "HbCeW2gkvUsy",
        "outputId": "ac5d1673-553e-4e7f-8159-39e8cdd58636"
      },
      "source": [
        "sig_y[:10]"
      ],
      "execution_count": null,
      "outputs": [
        {
          "output_type": "execute_result",
          "data": {
            "text/plain": [
              "array([9.23289584e-09, 9.92567300e-08, 5.36609398e-07, 1.97808406e-06,\n",
              "       5.67208716e-06, 1.36169491e-05, 2.86349039e-05, 5.43600753e-05,\n",
              "       9.52123349e-05, 1.56412899e-04])"
            ]
          },
          "metadata": {
            "tags": []
          },
          "execution_count": 11
        }
      ]
    },
    {
      "cell_type": "code",
      "metadata": {
        "id": "5iWiqW_pva4O"
      },
      "source": [
        "df['x-axis'] = sig_x"
      ],
      "execution_count": null,
      "outputs": []
    },
    {
      "cell_type": "code",
      "metadata": {
        "id": "I_A9WNVfxI75"
      },
      "source": [
        "df['y-axis'] = sig_y\n",
        "df['z-axis'] = sig_z"
      ],
      "execution_count": null,
      "outputs": []
    },
    {
      "cell_type": "code",
      "metadata": {
        "id": "Bt-5DsNwxPby"
      },
      "source": [
        "def create_windowed_dataset(series, window_size = 128,shift_size=64, batch_size=None,shuffle_buffer=None):\n",
        "  dataset = tf.data.Dataset.from_tensor_slices(series)\n",
        "  dataset = dataset.window(window_size , shift = shift_size, drop_remainder = True)\n",
        "  dataset = dataset.flat_map(lambda window: window.batch(window_size))\n",
        "  dataset = dataset.map(lambda window: ( window[:,1:], tf.one_hot(tf.cast(window[window_size -1 , 0], tf.int64), depth=6) ))\n",
        "  dataset = dataset.shuffle(192)\n",
        "  return dataset"
      ],
      "execution_count": null,
      "outputs": []
    },
    {
      "cell_type": "code",
      "metadata": {
        "id": "zFknmTBOxfs2"
      },
      "source": [
        "df.drop('timestamp', axis = 1, inplace=True)\n",
        "df.activity = df.activity.astype('category').cat.codes\n",
        "df.activity = df.activity.astype('int64')"
      ],
      "execution_count": null,
      "outputs": []
    },
    {
      "cell_type": "code",
      "metadata": {
        "id": "VoOVMmbAxhgF"
      },
      "source": [
        "train = df[df['user'] < 31 ]\n",
        "test = df[df['user'] >= 30]"
      ],
      "execution_count": null,
      "outputs": []
    },
    {
      "cell_type": "code",
      "metadata": {
        "colab": {
          "base_uri": "https://localhost:8080/"
        },
        "id": "8ytto5_3xjrk",
        "outputId": "a6d311fa-05d9-443b-afbf-c163643e363f"
      },
      "source": [
        "train.drop('user', axis = 1, inplace=True)\n",
        "test.drop('user', axis = 1, inplace=True)\n",
        "train.reset_index(drop = True, inplace = True)\n",
        "test.reset_index(drop=True, inplace=True)"
      ],
      "execution_count": null,
      "outputs": [
        {
          "output_type": "stream",
          "text": [
            "/usr/local/lib/python3.7/dist-packages/pandas/core/frame.py:4174: SettingWithCopyWarning: \n",
            "A value is trying to be set on a copy of a slice from a DataFrame\n",
            "\n",
            "See the caveats in the documentation: https://pandas.pydata.org/pandas-docs/stable/user_guide/indexing.html#returning-a-view-versus-a-copy\n",
            "  errors=errors,\n"
          ],
          "name": "stderr"
        }
      ]
    },
    {
      "cell_type": "code",
      "metadata": {
        "colab": {
          "base_uri": "https://localhost:8080/"
        },
        "id": "ljwdcJzdxlvx",
        "outputId": "8270e57e-bef0-4f09-854d-15019be8f976"
      },
      "source": [
        "print(train.shape)\n",
        "print(test.shape)\n"
      ],
      "execution_count": null,
      "outputs": [
        {
          "output_type": "stream",
          "text": [
            "(898361, 4)\n",
            "(225178, 4)\n"
          ],
          "name": "stdout"
        }
      ]
    },
    {
      "cell_type": "code",
      "metadata": {
        "colab": {
          "base_uri": "https://localhost:8080/"
        },
        "id": "l_9a4DLExnDm",
        "outputId": "06f9087b-2c11-44de-a67e-eaf40f418c5d"
      },
      "source": [
        "train_windowed  = create_windowed_dataset(train)\n",
        "train_data = list(train_windowed.as_numpy_iterator())\n",
        "len(train_data)"
      ],
      "execution_count": null,
      "outputs": [
        {
          "output_type": "execute_result",
          "data": {
            "text/plain": [
              "14035"
            ]
          },
          "metadata": {
            "tags": []
          },
          "execution_count": 19
        }
      ]
    },
    {
      "cell_type": "code",
      "metadata": {
        "colab": {
          "base_uri": "https://localhost:8080/"
        },
        "id": "81gPR8B4xwDg",
        "outputId": "852bb2c1-ba0f-4da5-ef22-b086f86b31f5"
      },
      "source": [
        "train_f = []\n",
        "train_l = []\n",
        "for i in train_data:\n",
        "  train_f.append(i[0])\n",
        "  train_l.append(i[1])\n",
        "\n",
        "# converting to numpy array\n",
        "train_f = np.array(train_f)\n",
        "train_l = np.array(train_l)\n",
        "# shape of each\n",
        "print(f\"train features {train_f.shape}\")\n",
        "print(f\"train labels {train_l.shape}\")"
      ],
      "execution_count": null,
      "outputs": [
        {
          "output_type": "stream",
          "text": [
            "train features (14035, 128, 3)\n",
            "train labels (14035, 6)\n"
          ],
          "name": "stdout"
        }
      ]
    },
    {
      "cell_type": "code",
      "metadata": {
        "id": "PRNnY7aix663"
      },
      "source": [
        "# creating test set\n",
        "def create_test_windowed(series, window_size = 128):\n",
        "  test = tf.data.Dataset.from_tensor_slices(series)\n",
        "  test = test.window(window_size,shift = 64, drop_remainder = True)\n",
        "  test = test.flat_map(lambda window: window.batch(window_size))\n",
        "  test = test.map(lambda window: (window[:,1:], tf.one_hot(tf.cast(window[window_size -1 , 0], tf.int64), depth=6)))\n",
        "  return test"
      ],
      "execution_count": null,
      "outputs": []
    },
    {
      "cell_type": "code",
      "metadata": {
        "colab": {
          "base_uri": "https://localhost:8080/"
        },
        "id": "mRxK6Vz7x_P7",
        "outputId": "c04a503c-a5a3-4767-c7eb-5e8c10de8431"
      },
      "source": [
        "test_win = create_test_windowed(test)   # test data set for evaluation\n",
        "test_data = list(test_win.as_numpy_iterator())  # test data set for evaluation\n",
        "test_f = []\n",
        "test_l = []\n",
        "for i in test_data:\n",
        "  test_f.append(i[0])\n",
        "  test_l.append(i[1])\n",
        "\n",
        "test_f = np.array(test_f)\n",
        "test_l = np.array(test_l)\n",
        "# shape of each\n",
        "print(f\"test features {test_f.shape}\")\n",
        "print(f\"test labels {test_l.shape}\")"
      ],
      "execution_count": null,
      "outputs": [
        {
          "output_type": "stream",
          "text": [
            "test features (3517, 128, 3)\n",
            "test labels (3517, 6)\n"
          ],
          "name": "stdout"
        }
      ]
    },
    {
      "cell_type": "code",
      "metadata": {
        "id": "W0U8CibnyDVH"
      },
      "source": [
        "# # adding globel average pooling to the model\n",
        "# codding lstm layers and cnn\n",
        "model = tf.keras.models.Sequential([\n",
        "  tf.keras.layers.Lambda(lambda x: x,\n",
        "                      input_shape=[128, 3]),\n",
        "  tf.keras.layers.Bidirectional(tf.keras.layers.LSTM(32, return_sequences=True)),\n",
        "  tf.keras.layers.Bidirectional(tf.keras.layers.LSTM(32, return_sequences=True)),\n",
        "  # tf.keras.layers.SpatialDropout1D(0.2),\n",
        "  # tf.keras.layers.Lambda(lambda x: tf.expand_dims(x, axis=-1)),\n",
        "  tf.keras.layers.Reshape((128,64,1)),\n",
        "  tf.keras.layers.Conv2D(128,5,strides=(2,2)),\n",
        "  tf.keras.layers.MaxPooling2D((2, 2), strides = (2,2)),\n",
        "  # tf.keras.layers.Dropout(.4),\n",
        "  tf.keras.layers.Conv2D(64,3,strides=(1,1)),  \n",
        "  # tf.keras.layers.MaxPooling2D((2, 2), strides = (2,2)),\n",
        "  # tf.keras.layers.Lambda(lambda x: tf.expand_dims(x, axis=-1)),\n",
        "  # parameters ?\n",
        "  tf.keras.layers.GlobalAveragePooling2D(),\n",
        "  tf.keras.layers.Dense(6, activation='softmax')\n",
        "  \n",
        "])"
      ],
      "execution_count": null,
      "outputs": []
    },
    {
      "cell_type": "code",
      "metadata": {
        "colab": {
          "base_uri": "https://localhost:8080/"
        },
        "id": "Ns-T1F6c4cH6",
        "outputId": "3b220d16-ea24-4e26-d84b-01c6f50ee879"
      },
      "source": [
        "model.summary()"
      ],
      "execution_count": null,
      "outputs": [
        {
          "output_type": "stream",
          "text": [
            "Model: \"sequential_7\"\n",
            "_________________________________________________________________\n",
            "Layer (type)                 Output Shape              Param #   \n",
            "=================================================================\n",
            "lambda_12 (Lambda)           (None, 128, 3)            0         \n",
            "_________________________________________________________________\n",
            "bidirectional_14 (Bidirectio (None, 128, 64)           9216      \n",
            "_________________________________________________________________\n",
            "bidirectional_15 (Bidirectio (None, 128, 64)           24832     \n",
            "_________________________________________________________________\n",
            "reshape_2 (Reshape)          (None, 128, 64, 1)        0         \n",
            "_________________________________________________________________\n",
            "conv2d_14 (Conv2D)           (None, 62, 30, 128)       3328      \n",
            "_________________________________________________________________\n",
            "max_pooling2d_9 (MaxPooling2 (None, 31, 15, 128)       0         \n",
            "_________________________________________________________________\n",
            "conv2d_15 (Conv2D)           (None, 29, 13, 64)        73792     \n",
            "_________________________________________________________________\n",
            "global_average_pooling2d_6 ( (None, 64)                0         \n",
            "_________________________________________________________________\n",
            "dense_7 (Dense)              (None, 6)                 390       \n",
            "=================================================================\n",
            "Total params: 111,558\n",
            "Trainable params: 111,558\n",
            "Non-trainable params: 0\n",
            "_________________________________________________________________\n"
          ],
          "name": "stdout"
        }
      ]
    },
    {
      "cell_type": "code",
      "metadata": {
        "id": "9paLXnDLyUQ5"
      },
      "source": [
        "# designing class back to save the best model\n",
        "from tensorflow.keras.callbacks import ModelCheckpoint\n",
        "save = ModelCheckpoint('best_model_n3.h5', save_best_only = True)"
      ],
      "execution_count": null,
      "outputs": []
    },
    {
      "cell_type": "code",
      "metadata": {
        "colab": {
          "base_uri": "https://localhost:8080/"
        },
        "id": "dKiVdm37yXpR",
        "outputId": "1f297b23-bfc8-4b4a-d7f7-c5ae12c2b100"
      },
      "source": [
        "# with out bidirection\n",
        "optimizer = tf.keras.optimizers.Adam(0.001)\n",
        "model.compile(loss=\"categorical_crossentropy\", optimizer=optimizer, metrics = ['accuracy'])\n",
        "\n",
        "history = model.fit(train_f,train_l,validation_data=(test_f, test_l), epochs=200,callbacks=[save], verbose=1, batch_size=192) "
      ],
      "execution_count": null,
      "outputs": [
        {
          "output_type": "stream",
          "text": [
            "Epoch 1/200\n",
            "74/74 [==============================] - 10s 72ms/step - loss: 1.4586 - accuracy: 0.4536 - val_loss: 1.0675 - val_accuracy: 0.6989\n",
            "Epoch 2/200\n",
            "74/74 [==============================] - 4s 56ms/step - loss: 0.8196 - accuracy: 0.7310 - val_loss: 1.4654 - val_accuracy: 0.5763\n",
            "Epoch 3/200\n",
            "74/74 [==============================] - 4s 56ms/step - loss: 0.7239 - accuracy: 0.7611 - val_loss: 0.8773 - val_accuracy: 0.7086\n",
            "Epoch 4/200\n",
            "74/74 [==============================] - 4s 56ms/step - loss: 0.6513 - accuracy: 0.7818 - val_loss: 0.8099 - val_accuracy: 0.7373\n",
            "Epoch 5/200\n",
            "74/74 [==============================] - 4s 56ms/step - loss: 0.6255 - accuracy: 0.7915 - val_loss: 0.8799 - val_accuracy: 0.6935\n",
            "Epoch 6/200\n",
            "74/74 [==============================] - 4s 56ms/step - loss: 0.6043 - accuracy: 0.7945 - val_loss: 0.7773 - val_accuracy: 0.7359\n",
            "Epoch 7/200\n",
            "74/74 [==============================] - 4s 56ms/step - loss: 0.5657 - accuracy: 0.8094 - val_loss: 0.7894 - val_accuracy: 0.7228\n",
            "Epoch 8/200\n",
            "74/74 [==============================] - 4s 56ms/step - loss: 0.5771 - accuracy: 0.8030 - val_loss: 0.7945 - val_accuracy: 0.7222\n",
            "Epoch 9/200\n",
            "74/74 [==============================] - 4s 56ms/step - loss: 0.5750 - accuracy: 0.8013 - val_loss: 0.7402 - val_accuracy: 0.7390\n",
            "Epoch 10/200\n",
            "74/74 [==============================] - 4s 56ms/step - loss: 0.5688 - accuracy: 0.8012 - val_loss: 0.7760 - val_accuracy: 0.7341\n",
            "Epoch 11/200\n",
            "74/74 [==============================] - 4s 56ms/step - loss: 0.6054 - accuracy: 0.7938 - val_loss: 0.7775 - val_accuracy: 0.7489\n",
            "Epoch 12/200\n",
            "74/74 [==============================] - 4s 56ms/step - loss: 0.5528 - accuracy: 0.8074 - val_loss: 1.9128 - val_accuracy: 0.5906\n",
            "Epoch 13/200\n",
            "74/74 [==============================] - 4s 55ms/step - loss: 0.7281 - accuracy: 0.7662 - val_loss: 0.8498 - val_accuracy: 0.7424\n",
            "Epoch 14/200\n",
            "74/74 [==============================] - 4s 56ms/step - loss: 0.5371 - accuracy: 0.8132 - val_loss: 0.8509 - val_accuracy: 0.6631\n",
            "Epoch 15/200\n",
            "74/74 [==============================] - 4s 55ms/step - loss: 0.5233 - accuracy: 0.8149 - val_loss: 0.8967 - val_accuracy: 0.7196\n",
            "Epoch 16/200\n",
            "74/74 [==============================] - 4s 55ms/step - loss: 0.5307 - accuracy: 0.8136 - val_loss: 0.8603 - val_accuracy: 0.7185\n",
            "Epoch 17/200\n",
            "74/74 [==============================] - 4s 55ms/step - loss: 0.5140 - accuracy: 0.8178 - val_loss: 0.8221 - val_accuracy: 0.7319\n",
            "Epoch 18/200\n",
            "74/74 [==============================] - 4s 56ms/step - loss: 0.5048 - accuracy: 0.8224 - val_loss: 0.8608 - val_accuracy: 0.7302\n",
            "Epoch 19/200\n",
            "74/74 [==============================] - 4s 55ms/step - loss: 0.5001 - accuracy: 0.8196 - val_loss: 0.8642 - val_accuracy: 0.6861\n",
            "Epoch 20/200\n",
            "74/74 [==============================] - 4s 55ms/step - loss: 0.4755 - accuracy: 0.8322 - val_loss: 0.9194 - val_accuracy: 0.7373\n",
            "Epoch 21/200\n",
            "74/74 [==============================] - 4s 56ms/step - loss: 0.4846 - accuracy: 0.8273 - val_loss: 0.8792 - val_accuracy: 0.7404\n",
            "Epoch 22/200\n",
            "74/74 [==============================] - 4s 56ms/step - loss: 0.4815 - accuracy: 0.8310 - val_loss: 0.8982 - val_accuracy: 0.7313\n",
            "Epoch 23/200\n",
            "74/74 [==============================] - 4s 55ms/step - loss: 0.4512 - accuracy: 0.8372 - val_loss: 0.8394 - val_accuracy: 0.7228\n",
            "Epoch 24/200\n",
            "74/74 [==============================] - 4s 56ms/step - loss: 0.4786 - accuracy: 0.8366 - val_loss: 1.0244 - val_accuracy: 0.7009\n",
            "Epoch 25/200\n",
            "74/74 [==============================] - 4s 56ms/step - loss: 0.4534 - accuracy: 0.8446 - val_loss: 0.8662 - val_accuracy: 0.7330\n",
            "Epoch 26/200\n",
            "74/74 [==============================] - 4s 56ms/step - loss: 0.4498 - accuracy: 0.8352 - val_loss: 1.0214 - val_accuracy: 0.7179\n",
            "Epoch 27/200\n",
            "74/74 [==============================] - 4s 56ms/step - loss: 0.4576 - accuracy: 0.8371 - val_loss: 0.9495 - val_accuracy: 0.7026\n",
            "Epoch 28/200\n",
            "74/74 [==============================] - 4s 56ms/step - loss: 0.4348 - accuracy: 0.8484 - val_loss: 1.2074 - val_accuracy: 0.6659\n",
            "Epoch 29/200\n",
            "74/74 [==============================] - 4s 56ms/step - loss: 0.4461 - accuracy: 0.8446 - val_loss: 0.9708 - val_accuracy: 0.7185\n",
            "Epoch 30/200\n",
            "74/74 [==============================] - 4s 56ms/step - loss: 0.4453 - accuracy: 0.8449 - val_loss: 1.0148 - val_accuracy: 0.7105\n",
            "Epoch 31/200\n",
            "74/74 [==============================] - 4s 56ms/step - loss: 0.4231 - accuracy: 0.8505 - val_loss: 1.1017 - val_accuracy: 0.6622\n",
            "Epoch 32/200\n",
            "74/74 [==============================] - 4s 56ms/step - loss: 0.4204 - accuracy: 0.8481 - val_loss: 0.8967 - val_accuracy: 0.7285\n",
            "Epoch 33/200\n",
            "74/74 [==============================] - 4s 56ms/step - loss: 0.4437 - accuracy: 0.8419 - val_loss: 1.2111 - val_accuracy: 0.6742\n",
            "Epoch 34/200\n",
            "74/74 [==============================] - 4s 56ms/step - loss: 0.4415 - accuracy: 0.8474 - val_loss: 1.0207 - val_accuracy: 0.7114\n",
            "Epoch 35/200\n",
            "74/74 [==============================] - 4s 56ms/step - loss: 0.4224 - accuracy: 0.8497 - val_loss: 1.0979 - val_accuracy: 0.6941\n",
            "Epoch 36/200\n",
            "74/74 [==============================] - 4s 56ms/step - loss: 0.4714 - accuracy: 0.8348 - val_loss: 0.8621 - val_accuracy: 0.7239\n",
            "Epoch 37/200\n",
            "74/74 [==============================] - 4s 55ms/step - loss: 0.4137 - accuracy: 0.8541 - val_loss: 0.9470 - val_accuracy: 0.7378\n",
            "Epoch 38/200\n",
            "74/74 [==============================] - 4s 55ms/step - loss: 0.6943 - accuracy: 0.7716 - val_loss: 0.9982 - val_accuracy: 0.6224\n",
            "Epoch 39/200\n",
            "74/74 [==============================] - 4s 55ms/step - loss: 0.5712 - accuracy: 0.8088 - val_loss: 1.0722 - val_accuracy: 0.6508\n",
            "Epoch 40/200\n",
            "74/74 [==============================] - 4s 56ms/step - loss: 0.5070 - accuracy: 0.8292 - val_loss: 0.7816 - val_accuracy: 0.7450\n",
            "Epoch 41/200\n",
            "74/74 [==============================] - 4s 56ms/step - loss: 0.4875 - accuracy: 0.8288 - val_loss: 0.7415 - val_accuracy: 0.7418\n",
            "Epoch 42/200\n",
            "74/74 [==============================] - 4s 56ms/step - loss: 0.4673 - accuracy: 0.8394 - val_loss: 0.8654 - val_accuracy: 0.7179\n",
            "Epoch 43/200\n",
            "74/74 [==============================] - 4s 55ms/step - loss: 0.4406 - accuracy: 0.8463 - val_loss: 0.8737 - val_accuracy: 0.7100\n",
            "Epoch 44/200\n",
            "74/74 [==============================] - 4s 55ms/step - loss: 0.4926 - accuracy: 0.8320 - val_loss: 0.9510 - val_accuracy: 0.7250\n",
            "Epoch 45/200\n",
            "74/74 [==============================] - 4s 56ms/step - loss: 0.4684 - accuracy: 0.8342 - val_loss: 0.8511 - val_accuracy: 0.7387\n",
            "Epoch 46/200\n",
            "74/74 [==============================] - 4s 56ms/step - loss: 0.4328 - accuracy: 0.8515 - val_loss: 0.9085 - val_accuracy: 0.7424\n",
            "Epoch 47/200\n",
            "74/74 [==============================] - 4s 57ms/step - loss: 0.4144 - accuracy: 0.8571 - val_loss: 0.8873 - val_accuracy: 0.7458\n",
            "Epoch 48/200\n",
            "74/74 [==============================] - 4s 56ms/step - loss: 0.4401 - accuracy: 0.8454 - val_loss: 0.9796 - val_accuracy: 0.7177\n",
            "Epoch 49/200\n",
            "74/74 [==============================] - 4s 56ms/step - loss: 0.4365 - accuracy: 0.8484 - val_loss: 0.9493 - val_accuracy: 0.7145\n",
            "Epoch 50/200\n",
            "74/74 [==============================] - 4s 57ms/step - loss: 0.4259 - accuracy: 0.8521 - val_loss: 1.0224 - val_accuracy: 0.6801\n",
            "Epoch 51/200\n",
            "74/74 [==============================] - 4s 56ms/step - loss: 0.3974 - accuracy: 0.8618 - val_loss: 1.0419 - val_accuracy: 0.7134\n",
            "Epoch 52/200\n",
            "74/74 [==============================] - 4s 56ms/step - loss: 0.3792 - accuracy: 0.8634 - val_loss: 0.9990 - val_accuracy: 0.7123\n",
            "Epoch 53/200\n",
            "74/74 [==============================] - 4s 56ms/step - loss: 0.3966 - accuracy: 0.8595 - val_loss: 1.1441 - val_accuracy: 0.6850\n",
            "Epoch 54/200\n",
            "74/74 [==============================] - 4s 56ms/step - loss: 0.3869 - accuracy: 0.8608 - val_loss: 0.9784 - val_accuracy: 0.7125\n",
            "Epoch 55/200\n",
            "74/74 [==============================] - 4s 56ms/step - loss: 0.3833 - accuracy: 0.8652 - val_loss: 0.9840 - val_accuracy: 0.7086\n",
            "Epoch 56/200\n",
            "74/74 [==============================] - 4s 56ms/step - loss: 0.3681 - accuracy: 0.8685 - val_loss: 1.0116 - val_accuracy: 0.6978\n",
            "Epoch 57/200\n",
            "74/74 [==============================] - 4s 56ms/step - loss: 0.4048 - accuracy: 0.8589 - val_loss: 0.9852 - val_accuracy: 0.7103\n",
            "Epoch 58/200\n",
            "74/74 [==============================] - 4s 56ms/step - loss: 0.3849 - accuracy: 0.8702 - val_loss: 1.0854 - val_accuracy: 0.6955\n",
            "Epoch 59/200\n",
            "74/74 [==============================] - 4s 56ms/step - loss: 0.3733 - accuracy: 0.8692 - val_loss: 1.1315 - val_accuracy: 0.7105\n",
            "Epoch 60/200\n",
            "74/74 [==============================] - 4s 56ms/step - loss: 0.3831 - accuracy: 0.8634 - val_loss: 1.1600 - val_accuracy: 0.7080\n",
            "Epoch 61/200\n",
            "74/74 [==============================] - 4s 56ms/step - loss: 0.3621 - accuracy: 0.8754 - val_loss: 1.0051 - val_accuracy: 0.7330\n",
            "Epoch 62/200\n",
            "74/74 [==============================] - 4s 56ms/step - loss: 0.3847 - accuracy: 0.8595 - val_loss: 0.9858 - val_accuracy: 0.7219\n",
            "Epoch 63/200\n",
            "74/74 [==============================] - 4s 57ms/step - loss: 0.3633 - accuracy: 0.8697 - val_loss: 1.1659 - val_accuracy: 0.6943\n",
            "Epoch 64/200\n",
            "74/74 [==============================] - 4s 56ms/step - loss: 0.3953 - accuracy: 0.8632 - val_loss: 1.0746 - val_accuracy: 0.6938\n",
            "Epoch 65/200\n",
            "74/74 [==============================] - 4s 56ms/step - loss: 0.3920 - accuracy: 0.8601 - val_loss: 1.0315 - val_accuracy: 0.7219\n",
            "Epoch 66/200\n",
            "74/74 [==============================] - 4s 56ms/step - loss: 0.3330 - accuracy: 0.8837 - val_loss: 0.9932 - val_accuracy: 0.7117\n",
            "Epoch 67/200\n",
            "74/74 [==============================] - 4s 57ms/step - loss: 0.3497 - accuracy: 0.8777 - val_loss: 1.0364 - val_accuracy: 0.7236\n",
            "Epoch 68/200\n",
            "74/74 [==============================] - 4s 56ms/step - loss: 0.3583 - accuracy: 0.8733 - val_loss: 1.1169 - val_accuracy: 0.6793\n",
            "Epoch 69/200\n",
            "74/74 [==============================] - 4s 56ms/step - loss: 0.3602 - accuracy: 0.8724 - val_loss: 1.3306 - val_accuracy: 0.6619\n",
            "Epoch 70/200\n",
            "74/74 [==============================] - 4s 56ms/step - loss: 0.4079 - accuracy: 0.8518 - val_loss: 1.0354 - val_accuracy: 0.7464\n",
            "Epoch 71/200\n",
            "74/74 [==============================] - 4s 56ms/step - loss: 0.3608 - accuracy: 0.8715 - val_loss: 1.0443 - val_accuracy: 0.7256\n",
            "Epoch 72/200\n",
            "74/74 [==============================] - 4s 56ms/step - loss: 0.6095 - accuracy: 0.8038 - val_loss: 0.8568 - val_accuracy: 0.7051\n",
            "Epoch 73/200\n",
            "74/74 [==============================] - 4s 57ms/step - loss: 0.4754 - accuracy: 0.8360 - val_loss: 0.8322 - val_accuracy: 0.7228\n",
            "Epoch 74/200\n",
            "74/74 [==============================] - 4s 56ms/step - loss: 0.4269 - accuracy: 0.8562 - val_loss: 0.9243 - val_accuracy: 0.7262\n",
            "Epoch 75/200\n",
            "74/74 [==============================] - 4s 57ms/step - loss: 0.4163 - accuracy: 0.8561 - val_loss: 1.0303 - val_accuracy: 0.7182\n",
            "Epoch 76/200\n",
            "74/74 [==============================] - 4s 56ms/step - loss: 0.4119 - accuracy: 0.8560 - val_loss: 0.9042 - val_accuracy: 0.7344\n",
            "Epoch 77/200\n",
            "74/74 [==============================] - 4s 56ms/step - loss: 0.4055 - accuracy: 0.8606 - val_loss: 0.9609 - val_accuracy: 0.7319\n",
            "Epoch 78/200\n",
            "74/74 [==============================] - 4s 57ms/step - loss: 0.3923 - accuracy: 0.8617 - val_loss: 1.0117 - val_accuracy: 0.7185\n",
            "Epoch 79/200\n",
            "74/74 [==============================] - 4s 56ms/step - loss: 0.3947 - accuracy: 0.8632 - val_loss: 1.0058 - val_accuracy: 0.7367\n",
            "Epoch 80/200\n",
            "74/74 [==============================] - 4s 56ms/step - loss: 0.4124 - accuracy: 0.8567 - val_loss: 1.1406 - val_accuracy: 0.7074\n",
            "Epoch 81/200\n",
            "74/74 [==============================] - 4s 57ms/step - loss: 0.3740 - accuracy: 0.8651 - val_loss: 0.9793 - val_accuracy: 0.7151\n",
            "Epoch 82/200\n",
            "74/74 [==============================] - 4s 57ms/step - loss: 0.3928 - accuracy: 0.8578 - val_loss: 1.0152 - val_accuracy: 0.7361\n",
            "Epoch 83/200\n",
            "74/74 [==============================] - 4s 57ms/step - loss: 0.3674 - accuracy: 0.8736 - val_loss: 1.1769 - val_accuracy: 0.7219\n",
            "Epoch 84/200\n",
            "74/74 [==============================] - 4s 56ms/step - loss: 0.3727 - accuracy: 0.8655 - val_loss: 1.0516 - val_accuracy: 0.7029\n",
            "Epoch 85/200\n",
            "74/74 [==============================] - 4s 56ms/step - loss: 0.3624 - accuracy: 0.8721 - val_loss: 1.0985 - val_accuracy: 0.6858\n",
            "Epoch 86/200\n",
            "74/74 [==============================] - 4s 56ms/step - loss: 0.3884 - accuracy: 0.8582 - val_loss: 1.0289 - val_accuracy: 0.7296\n",
            "Epoch 87/200\n",
            "74/74 [==============================] - 4s 57ms/step - loss: 0.3645 - accuracy: 0.8716 - val_loss: 1.2625 - val_accuracy: 0.6779\n",
            "Epoch 88/200\n",
            "74/74 [==============================] - 4s 56ms/step - loss: 0.3629 - accuracy: 0.8693 - val_loss: 1.0510 - val_accuracy: 0.7407\n",
            "Epoch 89/200\n",
            "74/74 [==============================] - 4s 57ms/step - loss: 0.3593 - accuracy: 0.8744 - val_loss: 1.1138 - val_accuracy: 0.7177\n",
            "Epoch 90/200\n",
            "74/74 [==============================] - 4s 57ms/step - loss: 0.3522 - accuracy: 0.8707 - val_loss: 1.1838 - val_accuracy: 0.7134\n",
            "Epoch 91/200\n",
            "74/74 [==============================] - 4s 57ms/step - loss: 0.3632 - accuracy: 0.8685 - val_loss: 1.0559 - val_accuracy: 0.7441\n",
            "Epoch 92/200\n",
            "74/74 [==============================] - 4s 56ms/step - loss: 0.3744 - accuracy: 0.8661 - val_loss: 0.9924 - val_accuracy: 0.7310\n",
            "Epoch 93/200\n",
            "74/74 [==============================] - 4s 56ms/step - loss: 0.4534 - accuracy: 0.8405 - val_loss: 1.2788 - val_accuracy: 0.6827\n",
            "Epoch 94/200\n",
            "74/74 [==============================] - 4s 56ms/step - loss: 0.3690 - accuracy: 0.8690 - val_loss: 1.0544 - val_accuracy: 0.7100\n",
            "Epoch 95/200\n",
            "74/74 [==============================] - 4s 56ms/step - loss: 0.3488 - accuracy: 0.8714 - val_loss: 1.2460 - val_accuracy: 0.7179\n",
            "Epoch 96/200\n",
            "74/74 [==============================] - 4s 56ms/step - loss: 0.3536 - accuracy: 0.8742 - val_loss: 1.1442 - val_accuracy: 0.7103\n",
            "Epoch 97/200\n",
            "74/74 [==============================] - 4s 57ms/step - loss: 0.3336 - accuracy: 0.8785 - val_loss: 1.1972 - val_accuracy: 0.7282\n",
            "Epoch 98/200\n",
            "74/74 [==============================] - 4s 56ms/step - loss: 0.3566 - accuracy: 0.8693 - val_loss: 1.1501 - val_accuracy: 0.7265\n",
            "Epoch 99/200\n",
            "74/74 [==============================] - 4s 57ms/step - loss: 0.3266 - accuracy: 0.8826 - val_loss: 1.2575 - val_accuracy: 0.7066\n",
            "Epoch 100/200\n",
            "74/74 [==============================] - 4s 56ms/step - loss: 0.3529 - accuracy: 0.8779 - val_loss: 1.2458 - val_accuracy: 0.7009\n",
            "Epoch 101/200\n",
            "74/74 [==============================] - 4s 56ms/step - loss: 0.3281 - accuracy: 0.8814 - val_loss: 1.1068 - val_accuracy: 0.7174\n",
            "Epoch 102/200\n",
            "74/74 [==============================] - 4s 57ms/step - loss: 0.3499 - accuracy: 0.8750 - val_loss: 1.0183 - val_accuracy: 0.7279\n",
            "Epoch 103/200\n",
            "74/74 [==============================] - 4s 57ms/step - loss: 0.3254 - accuracy: 0.8817 - val_loss: 1.2272 - val_accuracy: 0.7134\n",
            "Epoch 104/200\n",
            "74/74 [==============================] - 4s 57ms/step - loss: 0.3188 - accuracy: 0.8846 - val_loss: 1.1149 - val_accuracy: 0.7219\n",
            "Epoch 105/200\n",
            "74/74 [==============================] - 4s 58ms/step - loss: 0.3183 - accuracy: 0.8893 - val_loss: 1.1761 - val_accuracy: 0.7000\n",
            "Epoch 106/200\n",
            "74/74 [==============================] - 4s 57ms/step - loss: 0.3252 - accuracy: 0.8827 - val_loss: 1.2369 - val_accuracy: 0.7228\n",
            "Epoch 107/200\n",
            "74/74 [==============================] - 4s 57ms/step - loss: 0.3245 - accuracy: 0.8833 - val_loss: 1.1909 - val_accuracy: 0.7305\n",
            "Epoch 108/200\n",
            "74/74 [==============================] - 4s 56ms/step - loss: 0.3180 - accuracy: 0.8836 - val_loss: 1.1950 - val_accuracy: 0.7253\n",
            "Epoch 109/200\n",
            "74/74 [==============================] - 4s 57ms/step - loss: 0.2958 - accuracy: 0.8933 - val_loss: 1.3187 - val_accuracy: 0.6656\n",
            "Epoch 110/200\n",
            "74/74 [==============================] - 4s 57ms/step - loss: 0.3421 - accuracy: 0.8785 - val_loss: 0.9874 - val_accuracy: 0.7356\n",
            "Epoch 111/200\n",
            "74/74 [==============================] - 4s 57ms/step - loss: 0.3305 - accuracy: 0.8802 - val_loss: 1.0403 - val_accuracy: 0.7231\n",
            "Epoch 112/200\n",
            "74/74 [==============================] - 4s 57ms/step - loss: 0.3318 - accuracy: 0.8749 - val_loss: 1.0795 - val_accuracy: 0.7120\n",
            "Epoch 113/200\n",
            "74/74 [==============================] - 4s 58ms/step - loss: 0.3464 - accuracy: 0.8721 - val_loss: 1.2725 - val_accuracy: 0.6909\n",
            "Epoch 114/200\n",
            "74/74 [==============================] - 4s 57ms/step - loss: 0.3240 - accuracy: 0.8825 - val_loss: 1.0757 - val_accuracy: 0.7347\n",
            "Epoch 115/200\n",
            "74/74 [==============================] - 4s 57ms/step - loss: 0.3131 - accuracy: 0.8904 - val_loss: 0.9895 - val_accuracy: 0.7125\n",
            "Epoch 116/200\n",
            "74/74 [==============================] - 4s 57ms/step - loss: 0.3490 - accuracy: 0.8758 - val_loss: 1.0280 - val_accuracy: 0.7214\n",
            "Epoch 117/200\n",
            "74/74 [==============================] - 4s 57ms/step - loss: 0.3332 - accuracy: 0.8800 - val_loss: 1.0199 - val_accuracy: 0.7094\n",
            "Epoch 118/200\n",
            "74/74 [==============================] - 4s 57ms/step - loss: 0.3171 - accuracy: 0.8886 - val_loss: 0.9654 - val_accuracy: 0.7401\n",
            "Epoch 119/200\n",
            "74/74 [==============================] - 4s 57ms/step - loss: 0.3219 - accuracy: 0.8850 - val_loss: 1.1212 - val_accuracy: 0.7313\n",
            "Epoch 120/200\n",
            "74/74 [==============================] - 4s 57ms/step - loss: 0.3126 - accuracy: 0.8864 - val_loss: 1.0563 - val_accuracy: 0.7313\n",
            "Epoch 121/200\n",
            "74/74 [==============================] - 4s 57ms/step - loss: 0.3121 - accuracy: 0.8876 - val_loss: 1.0050 - val_accuracy: 0.7489\n",
            "Epoch 122/200\n",
            "74/74 [==============================] - 4s 57ms/step - loss: 0.3127 - accuracy: 0.8886 - val_loss: 1.2924 - val_accuracy: 0.7023\n",
            "Epoch 123/200\n",
            "74/74 [==============================] - 4s 57ms/step - loss: 0.3658 - accuracy: 0.8721 - val_loss: 1.2300 - val_accuracy: 0.6776\n",
            "Epoch 124/200\n",
            "74/74 [==============================] - 4s 57ms/step - loss: 0.3756 - accuracy: 0.8636 - val_loss: 1.0052 - val_accuracy: 0.6690\n",
            "Epoch 125/200\n",
            "74/74 [==============================] - 4s 57ms/step - loss: 0.3942 - accuracy: 0.8624 - val_loss: 1.0468 - val_accuracy: 0.6838\n",
            "Epoch 126/200\n",
            "74/74 [==============================] - 4s 57ms/step - loss: 0.3727 - accuracy: 0.8647 - val_loss: 1.0403 - val_accuracy: 0.7134\n",
            "Epoch 127/200\n",
            "74/74 [==============================] - 4s 57ms/step - loss: 0.3491 - accuracy: 0.8747 - val_loss: 1.0874 - val_accuracy: 0.7191\n",
            "Epoch 128/200\n",
            "74/74 [==============================] - 4s 57ms/step - loss: 0.3434 - accuracy: 0.8769 - val_loss: 1.0999 - val_accuracy: 0.6918\n",
            "Epoch 129/200\n",
            "74/74 [==============================] - 4s 57ms/step - loss: 0.3348 - accuracy: 0.8823 - val_loss: 1.0572 - val_accuracy: 0.7327\n",
            "Epoch 130/200\n",
            "74/74 [==============================] - 4s 57ms/step - loss: 0.3080 - accuracy: 0.8893 - val_loss: 1.0185 - val_accuracy: 0.7242\n",
            "Epoch 131/200\n",
            "74/74 [==============================] - 4s 57ms/step - loss: 0.3258 - accuracy: 0.8851 - val_loss: 1.0657 - val_accuracy: 0.7174\n",
            "Epoch 132/200\n",
            "74/74 [==============================] - 4s 57ms/step - loss: 0.3331 - accuracy: 0.8794 - val_loss: 1.0400 - val_accuracy: 0.7287\n",
            "Epoch 133/200\n",
            "74/74 [==============================] - 4s 57ms/step - loss: 0.3051 - accuracy: 0.8900 - val_loss: 1.2174 - val_accuracy: 0.7088\n",
            "Epoch 134/200\n",
            "74/74 [==============================] - 4s 57ms/step - loss: 0.3107 - accuracy: 0.8900 - val_loss: 1.0611 - val_accuracy: 0.7216\n",
            "Epoch 135/200\n",
            "74/74 [==============================] - 4s 57ms/step - loss: 0.2876 - accuracy: 0.8932 - val_loss: 1.0389 - val_accuracy: 0.7228\n",
            "Epoch 136/200\n",
            "74/74 [==============================] - 4s 57ms/step - loss: 0.3188 - accuracy: 0.8853 - val_loss: 1.0933 - val_accuracy: 0.7088\n",
            "Epoch 137/200\n",
            "74/74 [==============================] - 4s 57ms/step - loss: 0.3001 - accuracy: 0.8909 - val_loss: 1.1580 - val_accuracy: 0.7242\n",
            "Epoch 138/200\n",
            "74/74 [==============================] - 4s 57ms/step - loss: 0.2750 - accuracy: 0.8996 - val_loss: 1.1738 - val_accuracy: 0.7094\n",
            "Epoch 139/200\n",
            "74/74 [==============================] - 4s 56ms/step - loss: 0.2848 - accuracy: 0.8993 - val_loss: 1.1445 - val_accuracy: 0.7177\n",
            "Epoch 140/200\n",
            "74/74 [==============================] - 4s 56ms/step - loss: 0.3048 - accuracy: 0.8914 - val_loss: 1.2221 - val_accuracy: 0.7171\n",
            "Epoch 141/200\n",
            "74/74 [==============================] - 4s 56ms/step - loss: 0.2810 - accuracy: 0.8959 - val_loss: 1.2319 - val_accuracy: 0.7054\n",
            "Epoch 142/200\n",
            "74/74 [==============================] - 4s 57ms/step - loss: 0.3023 - accuracy: 0.8889 - val_loss: 0.8954 - val_accuracy: 0.7432\n",
            "Epoch 143/200\n",
            "74/74 [==============================] - 4s 56ms/step - loss: 0.3811 - accuracy: 0.8596 - val_loss: 0.8792 - val_accuracy: 0.7424\n",
            "Epoch 144/200\n",
            "74/74 [==============================] - 4s 57ms/step - loss: 0.3247 - accuracy: 0.8800 - val_loss: 0.9475 - val_accuracy: 0.7117\n",
            "Epoch 145/200\n",
            "74/74 [==============================] - 4s 57ms/step - loss: 0.3416 - accuracy: 0.8760 - val_loss: 0.8167 - val_accuracy: 0.7336\n",
            "Epoch 146/200\n",
            "74/74 [==============================] - 4s 57ms/step - loss: 0.3197 - accuracy: 0.8847 - val_loss: 0.9353 - val_accuracy: 0.7205\n",
            "Epoch 147/200\n",
            "74/74 [==============================] - 4s 57ms/step - loss: 0.3612 - accuracy: 0.8738 - val_loss: 0.9006 - val_accuracy: 0.7029\n",
            "Epoch 148/200\n",
            "74/74 [==============================] - 4s 57ms/step - loss: 0.3913 - accuracy: 0.8584 - val_loss: 0.9774 - val_accuracy: 0.7100\n",
            "Epoch 149/200\n",
            "74/74 [==============================] - 4s 56ms/step - loss: 0.3455 - accuracy: 0.8754 - val_loss: 0.9681 - val_accuracy: 0.7305\n",
            "Epoch 150/200\n",
            "74/74 [==============================] - 4s 57ms/step - loss: 0.3249 - accuracy: 0.8824 - val_loss: 0.9759 - val_accuracy: 0.7401\n",
            "Epoch 151/200\n",
            "74/74 [==============================] - 4s 56ms/step - loss: 0.3216 - accuracy: 0.8860 - val_loss: 0.9907 - val_accuracy: 0.7060\n",
            "Epoch 152/200\n",
            "74/74 [==============================] - 4s 57ms/step - loss: 0.3122 - accuracy: 0.8895 - val_loss: 0.9677 - val_accuracy: 0.7333\n",
            "Epoch 153/200\n",
            "74/74 [==============================] - 4s 57ms/step - loss: 0.3155 - accuracy: 0.8865 - val_loss: 0.9375 - val_accuracy: 0.7196\n",
            "Epoch 154/200\n",
            "74/74 [==============================] - 4s 57ms/step - loss: 0.3732 - accuracy: 0.8650 - val_loss: 1.1054 - val_accuracy: 0.7069\n",
            "Epoch 155/200\n",
            "74/74 [==============================] - 4s 57ms/step - loss: 0.3287 - accuracy: 0.8825 - val_loss: 0.9313 - val_accuracy: 0.7194\n",
            "Epoch 156/200\n",
            "74/74 [==============================] - 4s 57ms/step - loss: 0.3583 - accuracy: 0.8724 - val_loss: 0.8530 - val_accuracy: 0.7498\n",
            "Epoch 157/200\n",
            "74/74 [==============================] - 4s 57ms/step - loss: 0.3862 - accuracy: 0.8675 - val_loss: 0.8077 - val_accuracy: 0.7421\n",
            "Epoch 158/200\n",
            "74/74 [==============================] - 4s 57ms/step - loss: 0.3348 - accuracy: 0.8737 - val_loss: 1.0402 - val_accuracy: 0.7145\n",
            "Epoch 159/200\n",
            "74/74 [==============================] - 4s 57ms/step - loss: 0.3089 - accuracy: 0.8862 - val_loss: 1.1104 - val_accuracy: 0.7086\n",
            "Epoch 160/200\n",
            "74/74 [==============================] - 4s 57ms/step - loss: 0.3074 - accuracy: 0.8879 - val_loss: 1.2137 - val_accuracy: 0.6938\n",
            "Epoch 161/200\n",
            "74/74 [==============================] - 4s 57ms/step - loss: 0.3169 - accuracy: 0.8856 - val_loss: 0.9609 - val_accuracy: 0.7100\n",
            "Epoch 162/200\n",
            "74/74 [==============================] - 4s 58ms/step - loss: 0.4327 - accuracy: 0.8485 - val_loss: 0.8885 - val_accuracy: 0.6969\n",
            "Epoch 163/200\n",
            "74/74 [==============================] - 4s 57ms/step - loss: 0.3570 - accuracy: 0.8668 - val_loss: 1.0278 - val_accuracy: 0.6887\n",
            "Epoch 164/200\n",
            "74/74 [==============================] - 4s 57ms/step - loss: 0.3448 - accuracy: 0.8773 - val_loss: 1.0013 - val_accuracy: 0.7262\n",
            "Epoch 165/200\n",
            "74/74 [==============================] - 4s 57ms/step - loss: 0.3113 - accuracy: 0.8865 - val_loss: 1.1423 - val_accuracy: 0.6648\n",
            "Epoch 166/200\n",
            "74/74 [==============================] - 4s 57ms/step - loss: 0.3027 - accuracy: 0.8915 - val_loss: 1.0135 - val_accuracy: 0.6909\n",
            "Epoch 167/200\n",
            "74/74 [==============================] - 4s 57ms/step - loss: 0.3043 - accuracy: 0.8889 - val_loss: 1.0959 - val_accuracy: 0.7063\n",
            "Epoch 168/200\n",
            "74/74 [==============================] - 4s 58ms/step - loss: 0.3201 - accuracy: 0.8832 - val_loss: 1.0681 - val_accuracy: 0.7029\n",
            "Epoch 169/200\n",
            "74/74 [==============================] - 4s 58ms/step - loss: 0.2958 - accuracy: 0.8904 - val_loss: 1.1048 - val_accuracy: 0.6995\n",
            "Epoch 170/200\n",
            "74/74 [==============================] - 4s 57ms/step - loss: 0.2707 - accuracy: 0.9011 - val_loss: 1.3397 - val_accuracy: 0.6670\n",
            "Epoch 171/200\n",
            "74/74 [==============================] - 4s 57ms/step - loss: 0.3149 - accuracy: 0.8869 - val_loss: 1.2980 - val_accuracy: 0.6833\n",
            "Epoch 172/200\n",
            "74/74 [==============================] - 4s 57ms/step - loss: 0.2783 - accuracy: 0.8991 - val_loss: 1.2325 - val_accuracy: 0.6969\n",
            "Epoch 173/200\n",
            "74/74 [==============================] - 4s 57ms/step - loss: 0.2809 - accuracy: 0.9004 - val_loss: 1.3874 - val_accuracy: 0.6835\n",
            "Epoch 174/200\n",
            "74/74 [==============================] - 4s 57ms/step - loss: 0.2632 - accuracy: 0.9055 - val_loss: 1.3995 - val_accuracy: 0.6881\n",
            "Epoch 175/200\n",
            "74/74 [==============================] - 4s 57ms/step - loss: 0.2713 - accuracy: 0.9017 - val_loss: 1.2921 - val_accuracy: 0.7216\n",
            "Epoch 176/200\n",
            "74/74 [==============================] - 4s 57ms/step - loss: 0.2918 - accuracy: 0.8930 - val_loss: 1.3740 - val_accuracy: 0.6906\n",
            "Epoch 177/200\n",
            "74/74 [==============================] - 4s 57ms/step - loss: 0.2755 - accuracy: 0.9015 - val_loss: 1.2162 - val_accuracy: 0.7160\n",
            "Epoch 178/200\n",
            "74/74 [==============================] - 4s 57ms/step - loss: 0.3228 - accuracy: 0.8855 - val_loss: 1.7071 - val_accuracy: 0.6636\n",
            "Epoch 179/200\n",
            "74/74 [==============================] - 4s 57ms/step - loss: 0.2749 - accuracy: 0.9009 - val_loss: 1.2457 - val_accuracy: 0.7083\n",
            "Epoch 180/200\n",
            "74/74 [==============================] - 4s 57ms/step - loss: 0.2757 - accuracy: 0.9026 - val_loss: 1.1413 - val_accuracy: 0.7046\n",
            "Epoch 181/200\n",
            "74/74 [==============================] - 4s 57ms/step - loss: 0.2605 - accuracy: 0.9050 - val_loss: 1.1799 - val_accuracy: 0.7202\n",
            "Epoch 182/200\n",
            "74/74 [==============================] - 4s 57ms/step - loss: 0.2564 - accuracy: 0.9126 - val_loss: 1.4338 - val_accuracy: 0.6875\n",
            "Epoch 183/200\n",
            "74/74 [==============================] - 4s 58ms/step - loss: 0.2654 - accuracy: 0.9047 - val_loss: 1.3629 - val_accuracy: 0.7097\n",
            "Epoch 184/200\n",
            "74/74 [==============================] - 4s 58ms/step - loss: 0.2818 - accuracy: 0.8984 - val_loss: 1.3498 - val_accuracy: 0.6921\n",
            "Epoch 185/200\n",
            "74/74 [==============================] - 4s 58ms/step - loss: 0.2820 - accuracy: 0.8982 - val_loss: 1.3079 - val_accuracy: 0.7086\n",
            "Epoch 186/200\n",
            "74/74 [==============================] - 4s 57ms/step - loss: 0.2930 - accuracy: 0.8932 - val_loss: 1.5045 - val_accuracy: 0.6887\n",
            "Epoch 187/200\n",
            "74/74 [==============================] - 4s 58ms/step - loss: 0.2900 - accuracy: 0.8921 - val_loss: 1.2660 - val_accuracy: 0.7040\n",
            "Epoch 188/200\n",
            "74/74 [==============================] - 4s 58ms/step - loss: 0.2607 - accuracy: 0.9057 - val_loss: 1.2509 - val_accuracy: 0.7120\n",
            "Epoch 189/200\n",
            "74/74 [==============================] - 4s 58ms/step - loss: 0.2537 - accuracy: 0.9103 - val_loss: 1.4118 - val_accuracy: 0.6929\n",
            "Epoch 190/200\n",
            "74/74 [==============================] - 4s 58ms/step - loss: 0.2598 - accuracy: 0.9070 - val_loss: 1.1528 - val_accuracy: 0.7228\n",
            "Epoch 191/200\n",
            "74/74 [==============================] - 4s 58ms/step - loss: 0.2378 - accuracy: 0.9143 - val_loss: 1.3970 - val_accuracy: 0.7120\n",
            "Epoch 192/200\n",
            "74/74 [==============================] - 4s 58ms/step - loss: 0.2478 - accuracy: 0.9107 - val_loss: 1.3570 - val_accuracy: 0.7100\n",
            "Epoch 193/200\n",
            "74/74 [==============================] - 4s 57ms/step - loss: 0.2618 - accuracy: 0.9094 - val_loss: 1.2591 - val_accuracy: 0.7108\n",
            "Epoch 194/200\n",
            "74/74 [==============================] - 4s 58ms/step - loss: 0.2432 - accuracy: 0.9078 - val_loss: 1.4964 - val_accuracy: 0.6869\n",
            "Epoch 195/200\n",
            "74/74 [==============================] - 4s 58ms/step - loss: 0.2396 - accuracy: 0.9106 - val_loss: 1.4349 - val_accuracy: 0.6995\n",
            "Epoch 196/200\n",
            "74/74 [==============================] - 4s 58ms/step - loss: 0.2467 - accuracy: 0.9143 - val_loss: 1.6345 - val_accuracy: 0.6798\n",
            "Epoch 197/200\n",
            "74/74 [==============================] - 4s 57ms/step - loss: 0.2462 - accuracy: 0.9115 - val_loss: 1.5274 - val_accuracy: 0.6824\n",
            "Epoch 198/200\n",
            "74/74 [==============================] - 4s 58ms/step - loss: 0.2762 - accuracy: 0.9047 - val_loss: 1.0963 - val_accuracy: 0.7171\n",
            "Epoch 199/200\n",
            "74/74 [==============================] - 4s 58ms/step - loss: 0.2945 - accuracy: 0.8950 - val_loss: 1.1569 - val_accuracy: 0.7324\n",
            "Epoch 200/200\n",
            "74/74 [==============================] - 4s 58ms/step - loss: 0.2815 - accuracy: 0.9012 - val_loss: 1.0714 - val_accuracy: 0.6648\n"
          ],
          "name": "stdout"
        }
      ]
    },
    {
      "cell_type": "code",
      "metadata": {
        "colab": {
          "base_uri": "https://localhost:8080/",
          "height": 338
        },
        "id": "drWi1R_gyYZZ",
        "outputId": "807f1054-ac1a-4a06-b8e8-6957730ff2c5"
      },
      "source": [
        "import matplotlib.pyplot as plt\n",
        "m_acc = history.history['accuracy']\n",
        "fig, ax = plt.subplots(figsize = (15,5))\n",
        "ax.plot(m_acc, color = 'r')\n",
        "ax.plot(history.history['val_accuracy'], color = 'b')\n",
        "# plt.legend()"
      ],
      "execution_count": null,
      "outputs": [
        {
          "output_type": "execute_result",
          "data": {
            "text/plain": [
              "[<matplotlib.lines.Line2D at 0x7f4e1bb3dad0>]"
            ]
          },
          "metadata": {
            "tags": []
          },
          "execution_count": 47
        },
        {
          "output_type": "display_data",
          "data": {
            "image/png": "[encoded data removed]",
            "text/plain": [
              "<Figure size 1080x360 with 1 Axes>"
            ]
          },
          "metadata": {
            "tags": [],
            "needs_background": "light"
          }
        }
      ]
    },
    {
      "cell_type": "code",
      "metadata": {
        "id": "BZk4DH4BybDB"
      },
      "source": [
        "b_model = tf.keras.models.load_model('best_model_n3.h5')\n",
        "b_model.evaluate(test_f, test_l)"
      ],
      "execution_count": null,
      "outputs": []
    }
  ]
}