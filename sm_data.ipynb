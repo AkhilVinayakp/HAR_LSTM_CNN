{
 "cells": [
  {
   "cell_type": "code",
   "execution_count": 19,
   "metadata": {},
   "outputs": [],
   "source": [
    "import pandas as pd\n",
    "import numpy as np\n",
    "import matplotlib.pyplot as plt"
   ]
  },
  {
   "cell_type": "code",
   "execution_count": 2,
   "metadata": {},
   "outputs": [],
   "source": [
    "from sklearn.model_selection import train_test_split"
   ]
  },
  {
   "cell_type": "code",
   "execution_count": 5,
   "metadata": {},
   "outputs": [],
   "source": [
    "df = pd.read_csv('data/inter.csv')"
   ]
  },
  {
   "cell_type": "code",
   "execution_count": 9,
   "metadata": {},
   "outputs": [],
   "source": [
    "col = df['activity']"
   ]
  },
  {
   "cell_type": "code",
   "execution_count": 15,
   "metadata": {},
   "outputs": [],
   "source": [
    "x, y = train_test_split(df, test_size = .0001, random_state = 32, stratify  = col)"
   ]
  },
  {
   "cell_type": "code",
   "execution_count": 16,
   "metadata": {},
   "outputs": [
    {
     "name": "stdout",
     "output_type": "stream",
     "text": [
      "(1098094, 5)\n",
      "(110, 5)\n"
     ]
    }
   ],
   "source": [
    "print(x.shape)\n",
    "print(y.shape)"
   ]
  },
  {
   "cell_type": "code",
   "execution_count": 17,
   "metadata": {},
   "outputs": [
    {
     "data": {
      "text/html": [
       "<div>\n",
       "<style scoped>\n",
       "    .dataframe tbody tr th:only-of-type {\n",
       "        vertical-align: middle;\n",
       "    }\n",
       "\n",
       "    .dataframe tbody tr th {\n",
       "        vertical-align: top;\n",
       "    }\n",
       "\n",
       "    .dataframe thead th {\n",
       "        text-align: right;\n",
       "    }\n",
       "</style>\n",
       "<table border=\"1\" class=\"dataframe\">\n",
       "  <thead>\n",
       "    <tr style=\"text-align: right;\">\n",
       "      <th></th>\n",
       "      <th>user</th>\n",
       "      <th>activity</th>\n",
       "      <th>x-axis</th>\n",
       "      <th>y-axis</th>\n",
       "      <th>z-axis</th>\n",
       "    </tr>\n",
       "  </thead>\n",
       "  <tbody>\n",
       "    <tr>\n",
       "      <th>558136</th>\n",
       "      <td>14</td>\n",
       "      <td>Downstairs</td>\n",
       "      <td>17.97</td>\n",
       "      <td>19.50</td>\n",
       "      <td>-4.40</td>\n",
       "    </tr>\n",
       "    <tr>\n",
       "      <th>1044362</th>\n",
       "      <td>7</td>\n",
       "      <td>Upstairs</td>\n",
       "      <td>2.91</td>\n",
       "      <td>5.60</td>\n",
       "      <td>-1.04</td>\n",
       "    </tr>\n",
       "    <tr>\n",
       "      <th>89089</th>\n",
       "      <td>29</td>\n",
       "      <td>Jogging</td>\n",
       "      <td>0.00</td>\n",
       "      <td>0.00</td>\n",
       "      <td>0.00</td>\n",
       "    </tr>\n",
       "    <tr>\n",
       "      <th>137597</th>\n",
       "      <td>15</td>\n",
       "      <td>Jogging</td>\n",
       "      <td>0.00</td>\n",
       "      <td>0.00</td>\n",
       "      <td>0.00</td>\n",
       "    </tr>\n",
       "    <tr>\n",
       "      <th>762308</th>\n",
       "      <td>8</td>\n",
       "      <td>Jogging</td>\n",
       "      <td>-1.54</td>\n",
       "      <td>-8.73</td>\n",
       "      <td>-8.62</td>\n",
       "    </tr>\n",
       "  </tbody>\n",
       "</table>\n",
       "</div>"
      ],
      "text/plain": [
       "         user    activity  x-axis  y-axis  z-axis\n",
       "558136     14  Downstairs   17.97   19.50   -4.40\n",
       "1044362     7    Upstairs    2.91    5.60   -1.04\n",
       "89089      29     Jogging    0.00    0.00    0.00\n",
       "137597     15     Jogging    0.00    0.00    0.00\n",
       "762308      8     Jogging   -1.54   -8.73   -8.62"
      ]
     },
     "execution_count": 17,
     "metadata": {},
     "output_type": "execute_result"
    }
   ],
   "source": [
    "y.head()"
   ]
  },
  {
   "cell_type": "code",
   "execution_count": 18,
   "metadata": {},
   "outputs": [
    {
     "data": {
      "text/html": [
       "<div>\n",
       "<style scoped>\n",
       "    .dataframe tbody tr th:only-of-type {\n",
       "        vertical-align: middle;\n",
       "    }\n",
       "\n",
       "    .dataframe tbody tr th {\n",
       "        vertical-align: top;\n",
       "    }\n",
       "\n",
       "    .dataframe thead th {\n",
       "        text-align: right;\n",
       "    }\n",
       "</style>\n",
       "<table border=\"1\" class=\"dataframe\">\n",
       "  <thead>\n",
       "    <tr style=\"text-align: right;\">\n",
       "      <th></th>\n",
       "      <th>index</th>\n",
       "      <th>user</th>\n",
       "      <th>activity</th>\n",
       "      <th>x-axis</th>\n",
       "      <th>y-axis</th>\n",
       "      <th>z-axis</th>\n",
       "    </tr>\n",
       "  </thead>\n",
       "  <tbody>\n",
       "    <tr>\n",
       "      <th>0</th>\n",
       "      <td>558136</td>\n",
       "      <td>14</td>\n",
       "      <td>Downstairs</td>\n",
       "      <td>17.97</td>\n",
       "      <td>19.50</td>\n",
       "      <td>-4.40</td>\n",
       "    </tr>\n",
       "    <tr>\n",
       "      <th>1</th>\n",
       "      <td>1044362</td>\n",
       "      <td>7</td>\n",
       "      <td>Upstairs</td>\n",
       "      <td>2.91</td>\n",
       "      <td>5.60</td>\n",
       "      <td>-1.04</td>\n",
       "    </tr>\n",
       "    <tr>\n",
       "      <th>2</th>\n",
       "      <td>89089</td>\n",
       "      <td>29</td>\n",
       "      <td>Jogging</td>\n",
       "      <td>0.00</td>\n",
       "      <td>0.00</td>\n",
       "      <td>0.00</td>\n",
       "    </tr>\n",
       "    <tr>\n",
       "      <th>3</th>\n",
       "      <td>137597</td>\n",
       "      <td>15</td>\n",
       "      <td>Jogging</td>\n",
       "      <td>0.00</td>\n",
       "      <td>0.00</td>\n",
       "      <td>0.00</td>\n",
       "    </tr>\n",
       "    <tr>\n",
       "      <th>4</th>\n",
       "      <td>762308</td>\n",
       "      <td>8</td>\n",
       "      <td>Jogging</td>\n",
       "      <td>-1.54</td>\n",
       "      <td>-8.73</td>\n",
       "      <td>-8.62</td>\n",
       "    </tr>\n",
       "    <tr>\n",
       "      <th>...</th>\n",
       "      <td>...</td>\n",
       "      <td>...</td>\n",
       "      <td>...</td>\n",
       "      <td>...</td>\n",
       "      <td>...</td>\n",
       "      <td>...</td>\n",
       "    </tr>\n",
       "    <tr>\n",
       "      <th>105</th>\n",
       "      <td>669291</td>\n",
       "      <td>23</td>\n",
       "      <td>Downstairs</td>\n",
       "      <td>4.79</td>\n",
       "      <td>9.53</td>\n",
       "      <td>-0.11</td>\n",
       "    </tr>\n",
       "    <tr>\n",
       "      <th>106</th>\n",
       "      <td>822185</td>\n",
       "      <td>31</td>\n",
       "      <td>Downstairs</td>\n",
       "      <td>-1.38</td>\n",
       "      <td>8.12</td>\n",
       "      <td>2.91</td>\n",
       "    </tr>\n",
       "    <tr>\n",
       "      <th>107</th>\n",
       "      <td>523606</td>\n",
       "      <td>14</td>\n",
       "      <td>Jogging</td>\n",
       "      <td>11.60</td>\n",
       "      <td>12.18</td>\n",
       "      <td>-1.46</td>\n",
       "    </tr>\n",
       "    <tr>\n",
       "      <th>108</th>\n",
       "      <td>1057521</td>\n",
       "      <td>19</td>\n",
       "      <td>Walking</td>\n",
       "      <td>14.10</td>\n",
       "      <td>5.67</td>\n",
       "      <td>-0.23</td>\n",
       "    </tr>\n",
       "    <tr>\n",
       "      <th>109</th>\n",
       "      <td>758145</td>\n",
       "      <td>8</td>\n",
       "      <td>Walking</td>\n",
       "      <td>3.45</td>\n",
       "      <td>6.47</td>\n",
       "      <td>-2.53</td>\n",
       "    </tr>\n",
       "  </tbody>\n",
       "</table>\n",
       "<p>110 rows × 6 columns</p>\n",
       "</div>"
      ],
      "text/plain": [
       "       index  user    activity  x-axis  y-axis  z-axis\n",
       "0     558136    14  Downstairs   17.97   19.50   -4.40\n",
       "1    1044362     7    Upstairs    2.91    5.60   -1.04\n",
       "2      89089    29     Jogging    0.00    0.00    0.00\n",
       "3     137597    15     Jogging    0.00    0.00    0.00\n",
       "4     762308     8     Jogging   -1.54   -8.73   -8.62\n",
       "..       ...   ...         ...     ...     ...     ...\n",
       "105   669291    23  Downstairs    4.79    9.53   -0.11\n",
       "106   822185    31  Downstairs   -1.38    8.12    2.91\n",
       "107   523606    14     Jogging   11.60   12.18   -1.46\n",
       "108  1057521    19     Walking   14.10    5.67   -0.23\n",
       "109   758145     8     Walking    3.45    6.47   -2.53\n",
       "\n",
       "[110 rows x 6 columns]"
      ]
     },
     "execution_count": 18,
     "metadata": {},
     "output_type": "execute_result"
    }
   ],
   "source": [
    "y.reset_index()"
   ]
  },
  {
   "cell_type": "code",
   "execution_count": 22,
   "metadata": {},
   "outputs": [],
   "source": [
    "y.to_csv('data/mini.csv', index = False)"
   ]
  },
  {
   "cell_type": "code",
   "execution_count": null,
   "metadata": {},
   "outputs": [],
   "source": []
  }
 ],
 "metadata": {
  "kernelspec": {
   "display_name": "Python 3",
   "language": "python",
   "name": "python3"
  },
  "language_info": {
   "codemirror_mode": {
    "name": "ipython",
    "version": 3
   },
   "file_extension": ".py",
   "mimetype": "text/x-python",
   "name": "python",
   "nbconvert_exporter": "python",
   "pygments_lexer": "ipython3",
   "version": "3.8.3"
  }
 },
 "nbformat": 4,
 "nbformat_minor": 4
}
