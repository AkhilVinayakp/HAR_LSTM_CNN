{
  "nbformat": 4,
  "nbformat_minor": 0,
  "metadata": {
    "colab": {
      "name": "Lstm_Cnn_model_inp.ipynb",
      "provenance": [],
      "collapsed_sections": [],
      "mount_file_id": "1UJMpoEJQXryPZAgdb1Q-UBtnKnFbCs0b",
      "authorship_tag": "ABX9TyOM1/PL7oGyLzPNvYtyFeuB",
      "include_colab_link": true
    },
    "kernelspec": {
      "display_name": "Python 3",
      "name": "python3"
    },
    "language_info": {
      "name": "python"
    },
    "accelerator": "GPU"
  },
  "cells": [
    {
      "cell_type": "markdown",
      "metadata": {
        "id": "view-in-github",
        "colab_type": "text"
      },
      "source": [
        "<a href=\"https://colab.research.google.com/github/AkhilVinayakp/HAR_LSTM_CNN/blob/main/Lstm_Cnn_model_inp.ipynb\" target=\"_parent\"><img src=\"https://colab.research.google.com/assets/colab-badge.svg\" alt=\"Open In Colab\"/></a>"
      ]
    },
    {
      "cell_type": "code",
      "metadata": {
        "colab": {
          "base_uri": "https://localhost:8080/",
          "height": 36
        },
        "id": "E2iAX3vdyQyC",
        "outputId": "377b4945-dec1-4a05-e979-5c4f626f9ca0"
      },
      "source": [
        "'''\n",
        "april 23  test final\n",
        "'''"
      ],
      "execution_count": null,
      "outputs": [
        {
          "output_type": "execute_result",
          "data": {
            "application/vnd.google.colaboratory.intrinsic+json": {
              "type": "string"
            },
            "text/plain": [
              "'\\napril 23  test final\\n'"
            ]
          },
          "metadata": {
            "tags": []
          },
          "execution_count": 1
        }
      ]
    },
    {
      "cell_type": "code",
      "metadata": {
        "colab": {
          "base_uri": "https://localhost:8080/"
        },
        "id": "6IgzeHe2F2d0",
        "outputId": "5f1ba5e8-22d6-4582-9bed-c737525b4b4d"
      },
      "source": [
        "!python --version"
      ],
      "execution_count": null,
      "outputs": [
        {
          "output_type": "stream",
          "text": [
            "Python 3.7.10\n"
          ],
          "name": "stdout"
        }
      ]
    },
    {
      "cell_type": "code",
      "metadata": {
        "id": "NIVB5a_tF9_X"
      },
      "source": [
        "!cat /proc/meminfo"
      ],
      "execution_count": null,
      "outputs": []
    },
    {
      "cell_type": "code",
      "metadata": {
        "colab": {
          "base_uri": "https://localhost:8080/"
        },
        "id": "ECKRFOqq83Wg",
        "outputId": "d18331ea-c446-4d36-8be0-ccef2dbd7f2f"
      },
      "source": [
        "!nvidia-smi"
      ],
      "execution_count": null,
      "outputs": [
        {
          "output_type": "stream",
          "text": [
            "Mon May  3 01:53:51 2021       \n",
            "+-----------------------------------------------------------------------------+\n",
            "| NVIDIA-SMI 465.19.01    Driver Version: 460.32.03    CUDA Version: 11.2     |\n",
            "|-------------------------------+----------------------+----------------------+\n",
            "| GPU  Name        Persistence-M| Bus-Id        Disp.A | Volatile Uncorr. ECC |\n",
            "| Fan  Temp  Perf  Pwr:Usage/Cap|         Memory-Usage | GPU-Util  Compute M. |\n",
            "|                               |                      |               MIG M. |\n",
            "|===============================+======================+======================|\n",
            "|   0  Tesla T4            Off  | 00000000:00:04.0 Off |                    0 |\n",
            "| N/A   48C    P8     9W /  70W |      0MiB / 15109MiB |      0%      Default |\n",
            "|                               |                      |                  N/A |\n",
            "+-------------------------------+----------------------+----------------------+\n",
            "                                                                               \n",
            "+-----------------------------------------------------------------------------+\n",
            "| Processes:                                                                  |\n",
            "|  GPU   GI   CI        PID   Type   Process name                  GPU Memory |\n",
            "|        ID   ID                                                   Usage      |\n",
            "|=============================================================================|\n",
            "|  No running processes found                                                 |\n",
            "+-----------------------------------------------------------------------------+\n"
          ],
          "name": "stdout"
        }
      ]
    },
    {
      "cell_type": "code",
      "metadata": {
        "id": "ysB2LamaJ2HA"
      },
      "source": [
        "import tensorflow as tf\n",
        "import pandas as pd\n",
        "import numpy as np\n",
        "import matplotlib.pyplot as plt"
      ],
      "execution_count": null,
      "outputs": []
    },
    {
      "cell_type": "code",
      "metadata": {
        "id": "EXa3OKRwISNN"
      },
      "source": [
        "from tensorflow import keras"
      ],
      "execution_count": null,
      "outputs": []
    },
    {
      "cell_type": "code",
      "metadata": {
        "colab": {
          "base_uri": "https://localhost:8080/",
          "height": 36
        },
        "id": "hybn5n2FIKGm",
        "outputId": "1749c486-7c7b-45c8-fe93-ff05c40781fe"
      },
      "source": [
        "keras.__version__"
      ],
      "execution_count": null,
      "outputs": [
        {
          "output_type": "execute_result",
          "data": {
            "application/vnd.google.colaboratory.intrinsic+json": {
              "type": "string"
            },
            "text/plain": [
              "'2.4.0'"
            ]
          },
          "metadata": {
            "tags": []
          },
          "execution_count": 7
        }
      ]
    },
    {
      "cell_type": "code",
      "metadata": {
        "colab": {
          "base_uri": "https://localhost:8080/",
          "height": 54
        },
        "id": "jrWG6-AgKA_J",
        "outputId": "b9aecc69-e870-41c1-9cec-b047a8ac1dc6"
      },
      "source": [
        "%cd /content/drive/My\\ Drive/datasets \n",
        "%pwd"
      ],
      "execution_count": null,
      "outputs": [
        {
          "output_type": "stream",
          "text": [
            "/content/drive/My Drive/datasets\n"
          ],
          "name": "stdout"
        },
        {
          "output_type": "execute_result",
          "data": {
            "application/vnd.google.colaboratory.intrinsic+json": {
              "type": "string"
            },
            "text/plain": [
              "'/content/drive/My Drive/datasets'"
            ]
          },
          "metadata": {
            "tags": []
          },
          "execution_count": 8
        }
      ]
    },
    {
      "cell_type": "code",
      "metadata": {
        "id": "tw4KPSlgKBMu"
      },
      "source": [
        "\n",
        "df =  pd.read_csv('int_norm.csv')"
      ],
      "execution_count": null,
      "outputs": []
    },
    {
      "cell_type": "code",
      "metadata": {
        "colab": {
          "base_uri": "https://localhost:8080/"
        },
        "id": "osom7hIcKECg",
        "outputId": "0b9537ad-af97-4442-df08-4674b307850c"
      },
      "source": [
        "df.shape"
      ],
      "execution_count": null,
      "outputs": [
        {
          "output_type": "execute_result",
          "data": {
            "text/plain": [
              "(1098204, 6)"
            ]
          },
          "metadata": {
            "tags": []
          },
          "execution_count": 10
        }
      ]
    },
    {
      "cell_type": "code",
      "metadata": {
        "id": "b8VebeFoKFrV"
      },
      "source": [
        "def create_windowed_dataset(series, window_size,shift_size, batch_size,shuffle_buffer):\n",
        "  dataset = tf.data.Dataset.from_tensor_slices(series)\n",
        "  dataset = dataset.window(window_size , shift = shift_size, drop_remainder = True)\n",
        "  dataset = dataset.flat_map(lambda window: window.batch(window_size))\n",
        "  dataset = dataset.map(lambda window: ( window[:,1:], tf.one_hot(tf.cast(window[window_size -1 , 0], tf.int64), depth=6) ))\n",
        "  dataset = dataset.shuffle(shuffle_buffer)\n",
        "  dataset = dataset.batch(batch_size).prefetch(1)\n",
        "  return dataset"
      ],
      "execution_count": null,
      "outputs": []
    },
    {
      "cell_type": "code",
      "metadata": {
        "id": "WBMeh6jNKKg4"
      },
      "source": [
        "df.drop('timestamp', axis = 1, inplace=True)"
      ],
      "execution_count": null,
      "outputs": []
    },
    {
      "cell_type": "code",
      "metadata": {
        "id": "7tw6c_W6KNDX"
      },
      "source": [
        "df.activity = df.activity.astype('category').cat.codes\n",
        "df.activity = df.activity.astype('int64')"
      ],
      "execution_count": null,
      "outputs": []
    },
    {
      "cell_type": "code",
      "metadata": {
        "id": "2epXqU7LKWUH"
      },
      "source": [
        "train = df[df['user'] < 31 ]\n",
        "test = df[df['user'] > 30]"
      ],
      "execution_count": null,
      "outputs": []
    },
    {
      "cell_type": "code",
      "metadata": {
        "colab": {
          "base_uri": "https://localhost:8080/"
        },
        "id": "2TZrOk5sKb_p",
        "outputId": "98481bdd-4d16-4072-8cd0-4508ee1e4891"
      },
      "source": [
        "train.drop('user', axis = 1, inplace=True)\n",
        "test.drop('user', axis = 1, inplace=True)\n",
        "train.reset_index(drop = True, inplace = True)\n",
        "test.reset_index(drop=True, inplace=True)"
      ],
      "execution_count": null,
      "outputs": [
        {
          "output_type": "stream",
          "text": [
            "/usr/local/lib/python3.7/dist-packages/pandas/core/frame.py:4174: SettingWithCopyWarning: \n",
            "A value is trying to be set on a copy of a slice from a DataFrame\n",
            "\n",
            "See the caveats in the documentation: https://pandas.pydata.org/pandas-docs/stable/user_guide/indexing.html#returning-a-view-versus-a-copy\n",
            "  errors=errors,\n"
          ],
          "name": "stderr"
        }
      ]
    },
    {
      "cell_type": "code",
      "metadata": {
        "colab": {
          "base_uri": "https://localhost:8080/"
        },
        "id": "Br_6FSAXh4Cc",
        "outputId": "2d429a68-98b9-4182-a507-77201156676c"
      },
      "source": [
        "print(train.shape)\n",
        "print(test.shape)"
      ],
      "execution_count": null,
      "outputs": [
        {
          "output_type": "stream",
          "text": [
            "(898361, 4)\n",
            "(199843, 4)\n"
          ],
          "name": "stdout"
        }
      ]
    },
    {
      "cell_type": "code",
      "metadata": {
        "colab": {
          "base_uri": "https://localhost:8080/"
        },
        "id": "m4_VVQdIKxWW",
        "outputId": "f393e525-b0c8-4af9-fc12-c5bee1bb611f"
      },
      "source": [
        "print(train.shape)\n",
        "print(test.shape)"
      ],
      "execution_count": null,
      "outputs": [
        {
          "output_type": "stream",
          "text": [
            "(898361, 4)\n",
            "(199843, 4)\n"
          ],
          "name": "stdout"
        }
      ]
    },
    {
      "cell_type": "code",
      "metadata": {
        "colab": {
          "base_uri": "https://localhost:8080/",
          "height": 206
        },
        "id": "rpWjLVPCK3NH",
        "outputId": "00715ae2-5c37-43b8-ea6f-05773d841f87"
      },
      "source": [
        "train.head()"
      ],
      "execution_count": null,
      "outputs": [
        {
          "output_type": "execute_result",
          "data": {
            "text/html": [
              "<div>\n",
              "<style scoped>\n",
              "    .dataframe tbody tr th:only-of-type {\n",
              "        vertical-align: middle;\n",
              "    }\n",
              "\n",
              "    .dataframe tbody tr th {\n",
              "        vertical-align: top;\n",
              "    }\n",
              "\n",
              "    .dataframe thead th {\n",
              "        text-align: right;\n",
              "    }\n",
              "</style>\n",
              "<table border=\"1\" class=\"dataframe\">\n",
              "  <thead>\n",
              "    <tr style=\"text-align: right;\">\n",
              "      <th></th>\n",
              "      <th>activity</th>\n",
              "      <th>x-axis</th>\n",
              "      <th>y-axis</th>\n",
              "      <th>z-axis</th>\n",
              "    </tr>\n",
              "  </thead>\n",
              "  <tbody>\n",
              "    <tr>\n",
              "      <th>0</th>\n",
              "      <td>5</td>\n",
              "      <td>0.058149</td>\n",
              "      <td>0.996847</td>\n",
              "      <td>-0.053996</td>\n",
              "    </tr>\n",
              "    <tr>\n",
              "      <th>1</th>\n",
              "      <td>5</td>\n",
              "      <td>-0.000000</td>\n",
              "      <td>0.998427</td>\n",
              "      <td>-0.056061</td>\n",
              "    </tr>\n",
              "    <tr>\n",
              "      <th>2</th>\n",
              "      <td>5</td>\n",
              "      <td>-0.023448</td>\n",
              "      <td>0.997247</td>\n",
              "      <td>-0.070345</td>\n",
              "    </tr>\n",
              "    <tr>\n",
              "      <th>3</th>\n",
              "      <td>5</td>\n",
              "      <td>0.014845</td>\n",
              "      <td>0.998642</td>\n",
              "      <td>-0.049932</td>\n",
              "    </tr>\n",
              "    <tr>\n",
              "      <th>4</th>\n",
              "      <td>5</td>\n",
              "      <td>0.014737</td>\n",
              "      <td>0.998072</td>\n",
              "      <td>-0.060286</td>\n",
              "    </tr>\n",
              "  </tbody>\n",
              "</table>\n",
              "</div>"
            ],
            "text/plain": [
              "   activity    x-axis    y-axis    z-axis\n",
              "0         5  0.058149  0.996847 -0.053996\n",
              "1         5 -0.000000  0.998427 -0.056061\n",
              "2         5 -0.023448  0.997247 -0.070345\n",
              "3         5  0.014845  0.998642 -0.049932\n",
              "4         5  0.014737  0.998072 -0.060286"
            ]
          },
          "metadata": {
            "tags": []
          },
          "execution_count": 18
        }
      ]
    },
    {
      "cell_type": "code",
      "metadata": {
        "colab": {
          "base_uri": "https://localhost:8080/",
          "height": 206
        },
        "id": "xLr7__bNK6OJ",
        "outputId": "646ffb09-fbe8-4af5-dd5a-1acbe60b5d8d"
      },
      "source": [
        "test.head()"
      ],
      "execution_count": null,
      "outputs": [
        {
          "output_type": "execute_result",
          "data": {
            "text/html": [
              "<div>\n",
              "<style scoped>\n",
              "    .dataframe tbody tr th:only-of-type {\n",
              "        vertical-align: middle;\n",
              "    }\n",
              "\n",
              "    .dataframe tbody tr th {\n",
              "        vertical-align: top;\n",
              "    }\n",
              "\n",
              "    .dataframe thead th {\n",
              "        text-align: right;\n",
              "    }\n",
              "</style>\n",
              "<table border=\"1\" class=\"dataframe\">\n",
              "  <thead>\n",
              "    <tr style=\"text-align: right;\">\n",
              "      <th></th>\n",
              "      <th>activity</th>\n",
              "      <th>x-axis</th>\n",
              "      <th>y-axis</th>\n",
              "      <th>z-axis</th>\n",
              "    </tr>\n",
              "  </thead>\n",
              "  <tbody>\n",
              "    <tr>\n",
              "      <th>0</th>\n",
              "      <td>1</td>\n",
              "      <td>-0.054655</td>\n",
              "      <td>0.997718</td>\n",
              "      <td>0.039652</td>\n",
              "    </tr>\n",
              "    <tr>\n",
              "      <th>1</th>\n",
              "      <td>1</td>\n",
              "      <td>0.405338</td>\n",
              "      <td>0.910910</td>\n",
              "      <td>0.077102</td>\n",
              "    </tr>\n",
              "    <tr>\n",
              "      <th>2</th>\n",
              "      <td>1</td>\n",
              "      <td>0.410782</td>\n",
              "      <td>0.911708</td>\n",
              "      <td>-0.006846</td>\n",
              "    </tr>\n",
              "    <tr>\n",
              "      <th>3</th>\n",
              "      <td>1</td>\n",
              "      <td>-0.032685</td>\n",
              "      <td>0.986373</td>\n",
              "      <td>0.161248</td>\n",
              "    </tr>\n",
              "    <tr>\n",
              "      <th>4</th>\n",
              "      <td>1</td>\n",
              "      <td>-0.083804</td>\n",
              "      <td>0.856341</td>\n",
              "      <td>0.509566</td>\n",
              "    </tr>\n",
              "  </tbody>\n",
              "</table>\n",
              "</div>"
            ],
            "text/plain": [
              "   activity    x-axis    y-axis    z-axis\n",
              "0         1 -0.054655  0.997718  0.039652\n",
              "1         1  0.405338  0.910910  0.077102\n",
              "2         1  0.410782  0.911708 -0.006846\n",
              "3         1 -0.032685  0.986373  0.161248\n",
              "4         1 -0.083804  0.856341  0.509566"
            ]
          },
          "metadata": {
            "tags": []
          },
          "execution_count": 19
        }
      ]
    },
    {
      "cell_type": "code",
      "metadata": {
        "id": "pOmxb9g0MKW2"
      },
      "source": [
        "# creating test set\n",
        "def create_test_windowed(series, window_size = 128):\n",
        "  test = tf.data.Dataset.from_tensor_slices(series)\n",
        "  test = test.window(window_size,shift = 64, drop_remainder = True)\n",
        "  test = test.flat_map(lambda window: window.batch(window_size))\n",
        "  test = test.map(lambda window: (window[:,1:], tf.one_hot(tf.cast(window[window_size -1 , 0], tf.int64), depth=6)))\n",
        "  return test"
      ],
      "execution_count": null,
      "outputs": []
    },
    {
      "cell_type": "code",
      "metadata": {
        "id": "Eibk1g7RRgSQ"
      },
      "source": [
        "test_win = create_test_windowed(test)   # test data set for evaluation"
      ],
      "execution_count": null,
      "outputs": []
    },
    {
      "cell_type": "code",
      "metadata": {
        "id": "-aQ7-STzRtys"
      },
      "source": [
        ""
      ],
      "execution_count": null,
      "outputs": []
    },
    {
      "cell_type": "code",
      "metadata": {
        "id": "LaWS6MLm0T7x"
      },
      "source": [
        "test_data = list(test_win.as_numpy_iterator())"
      ],
      "execution_count": null,
      "outputs": []
    },
    {
      "cell_type": "code",
      "metadata": {
        "id": "BwcUnBhJ0T70"
      },
      "source": [
        "test_f = []\n",
        "test_l = []\n",
        "for i in test_data:\n",
        "  test_f.append(i[0])\n",
        "  test_l.append(i[1])"
      ],
      "execution_count": null,
      "outputs": []
    },
    {
      "cell_type": "code",
      "metadata": {
        "id": "Hhk4fR9x0T72"
      },
      "source": [
        "test_f = np.array(test_f)"
      ],
      "execution_count": null,
      "outputs": []
    },
    {
      "cell_type": "code",
      "metadata": {
        "colab": {
          "base_uri": "https://localhost:8080/"
        },
        "id": "zJvzygJ-iGar",
        "outputId": "d0a38cc7-c107-4c25-edc5-d9aa8a40ec73"
      },
      "source": [
        "test_f.shape"
      ],
      "execution_count": null,
      "outputs": [
        {
          "output_type": "execute_result",
          "data": {
            "text/plain": [
              "(3121, 128, 3)"
            ]
          },
          "metadata": {
            "tags": []
          },
          "execution_count": 25
        }
      ]
    },
    {
      "cell_type": "code",
      "metadata": {
        "colab": {
          "base_uri": "https://localhost:8080/"
        },
        "id": "Q-f9VNMQ0T74",
        "outputId": "597c9288-5395-4552-910b-521c3cdaeb90"
      },
      "source": [
        "test_f.shape"
      ],
      "execution_count": null,
      "outputs": [
        {
          "output_type": "execute_result",
          "data": {
            "text/plain": [
              "(3121, 128, 3)"
            ]
          },
          "metadata": {
            "tags": []
          },
          "execution_count": 26
        }
      ]
    },
    {
      "cell_type": "code",
      "metadata": {
        "id": "00XGa2tm0T77"
      },
      "source": [
        "\n",
        "test_l = np.array(test_l)"
      ],
      "execution_count": null,
      "outputs": []
    },
    {
      "cell_type": "code",
      "metadata": {
        "colab": {
          "base_uri": "https://localhost:8080/"
        },
        "id": "uNCxJ-Ce0T78",
        "outputId": "85640072-14af-4c26-96d4-73bd5147cb11"
      },
      "source": [
        "test_l.shape"
      ],
      "execution_count": null,
      "outputs": [
        {
          "output_type": "execute_result",
          "data": {
            "text/plain": [
              "(3121, 6)"
            ]
          },
          "metadata": {
            "tags": []
          },
          "execution_count": 28
        }
      ]
    },
    {
      "cell_type": "code",
      "metadata": {
        "colab": {
          "base_uri": "https://localhost:8080/"
        },
        "id": "zwTwuTjy0T79",
        "outputId": "3482dc0f-9a20-42a0-913e-240cc95cacf7"
      },
      "source": [
        "x_val = test_f[:200]\n",
        "y_val = test_l[:200]\n",
        "print(x_val.shape)\n",
        "print(y_val.shape)"
      ],
      "execution_count": null,
      "outputs": [
        {
          "output_type": "stream",
          "text": [
            "(200, 128, 3)\n",
            "(200, 6)\n"
          ],
          "name": "stdout"
        }
      ]
    },
    {
      "cell_type": "code",
      "metadata": {
        "id": "ru6g2EwJRltG"
      },
      "source": [
        ""
      ],
      "execution_count": null,
      "outputs": []
    },
    {
      "cell_type": "code",
      "metadata": {
        "id": "p4b7H1hwK7PX"
      },
      "source": [
        "train_windowed = create_windowed_dataset(train, 128, 64, 192, 128)"
      ],
      "execution_count": null,
      "outputs": []
    },
    {
      "cell_type": "code",
      "metadata": {
        "id": "Wr4wyV3z9QzY"
      },
      "source": [
        ""
      ],
      "execution_count": null,
      "outputs": []
    },
    {
      "cell_type": "markdown",
      "metadata": {
        "id": "hUY8qdTNlKYB"
      },
      "source": [
        "Run the model According to choice\n",
        "1.Model available in the paper\n",
        "2.Bidiractional model"
      ]
    },
    {
      "cell_type": "code",
      "metadata": {
        "id": "MWpCCym4LQdo"
      },
      "source": [
        ""
      ],
      "execution_count": null,
      "outputs": []
    },
    {
      "cell_type": "code",
      "metadata": {
        "id": "W0U8CibnyDVH"
      },
      "source": [
        "# # adding globel average pooling to the model\n",
        "# codding lstm layers and cnn\n",
        "model = tf.keras.models.Sequential([\n",
        "  tf.keras.layers.Lambda(lambda x: x,\n",
        "                      input_shape=[128, 3]),\n",
        "  tf.keras.layers.RNN(tf.keras.layers.LSTMCell(32), return_sequences=True),\n",
        "  tf.keras.layers.RNN(tf.keras.layers.LSTMCell(32), return_sequences=True),\n",
        "  # tf.keras.layers.LSTMCell(32),\n",
        "  # tf.keras.layers.LSTMCell(32),\n",
        "  # tf.keras.layers.SpatialDropout1D(0.2),\n",
        "  # tf.keras.layers.Lambda(lambda x: tf.expand_dims(x, axis=-1)),\n",
        "  # tf.keras.layers.Reshape((128,64,1)),\n",
        "  tf.keras.layers.Conv1D(64,5,strides=2),\n",
        "  tf.keras.layers.MaxPooling1D(2, strides = 2),\n",
        "  # tf.keras.layers.Dropout(.4),\n",
        "  tf.keras.layers.Conv1D(128,3,strides=1),  \n",
        "  # tf.keras.layers.MaxPooling2D((2, 2), strides = (2,2)),\n",
        "  # tf.keras.layers.Lambda(lambda x: tf.expand_dims(x, axis=-1)),\n",
        "  # parameters ?\n",
        "  tf.keras.layers.GlobalAveragePooling1D(),\n",
        "  tf.keras.layers.BatchNormalization(),\n",
        "  tf.keras.layers.Dense(6, activation='softmax')\n",
        "  \n",
        "])"
      ],
      "execution_count": null,
      "outputs": []
    },
    {
      "cell_type": "code",
      "metadata": {
        "colab": {
          "base_uri": "https://localhost:8080/"
        },
        "id": "gs_f5L5x9R8t",
        "outputId": "3709e362-be7b-4305-d772-d4be9947f6bf"
      },
      "source": [
        "model.summary()"
      ],
      "execution_count": null,
      "outputs": [
        {
          "output_type": "stream",
          "text": [
            "Model: \"sequential_5\"\n",
            "_________________________________________________________________\n",
            "Layer (type)                 Output Shape              Param #   \n",
            "=================================================================\n",
            "lambda_9 (Lambda)            (None, 128, 3)            0         \n",
            "_________________________________________________________________\n",
            "rnn_10 (RNN)                 (None, 128, 32)           4608      \n",
            "_________________________________________________________________\n",
            "rnn_11 (RNN)                 (None, 128, 32)           8320      \n",
            "_________________________________________________________________\n",
            "conv1d_4 (Conv1D)            (None, 62, 64)            10304     \n",
            "_________________________________________________________________\n",
            "max_pooling1d_3 (MaxPooling1 (None, 31, 64)            0         \n",
            "_________________________________________________________________\n",
            "conv1d_5 (Conv1D)            (None, 29, 128)           24704     \n",
            "_________________________________________________________________\n",
            "global_average_pooling1d_4 ( (None, 128)               0         \n",
            "_________________________________________________________________\n",
            "batch_normalization_5 (Batch (None, 128)               512       \n",
            "_________________________________________________________________\n",
            "dense_5 (Dense)              (None, 6)                 774       \n",
            "=================================================================\n",
            "Total params: 49,222\n",
            "Trainable params: 48,966\n",
            "Non-trainable params: 256\n",
            "_________________________________________________________________\n"
          ],
          "name": "stdout"
        }
      ]
    },
    {
      "cell_type": "code",
      "metadata": {
        "id": "Zh5I73XCA8Rd"
      },
      "source": [
        "\n"
      ],
      "execution_count": null,
      "outputs": []
    },
    {
      "cell_type": "code",
      "metadata": {
        "id": "9paLXnDLyUQ5"
      },
      "source": [
        "# designing class back to save the best model\n",
        "from tensorflow.keras.callbacks import ModelCheckpoint\n",
        "save = ModelCheckpoint('best_model_n3.h5', save_best_only = True)"
      ],
      "execution_count": null,
      "outputs": []
    },
    {
      "cell_type": "code",
      "metadata": {
        "id": "UvvrAAAoBUGu"
      },
      "source": [
        "\n",
        "\n",
        "\n"
      ],
      "execution_count": null,
      "outputs": []
    },
    {
      "cell_type": "code",
      "metadata": {
        "colab": {
          "base_uri": "https://localhost:8080/"
        },
        "id": "RHKe8lH7LaDG",
        "outputId": "49152146-44bd-4993-d00f-b722655175d0"
      },
      "source": [
        "# with out bidirection\n",
        "optimizer = tf.keras.optimizers.Adam(0.001)\n",
        "model.compile(loss=\"categorical_crossentropy\", optimizer=optimizer, metrics = ['accuracy'])\n",
        "\n",
        "history = model.fit(train_windowed,validation_data=(test_f, test_l), epochs=200,callbacks=[save], verbose=1, batch_size=192) "
      ],
      "execution_count": null,
      "outputs": [
        {
          "output_type": "stream",
          "text": [
            "Epoch 1/200\n",
            "74/74 [==============================] - 22s 255ms/step - loss: 1.2735 - accuracy: 0.6865 - val_loss: 1.5228 - val_accuracy: 0.3739\n",
            "Epoch 2/200\n",
            "74/74 [==============================] - 19s 257ms/step - loss: 1.0785 - accuracy: 0.7039 - val_loss: 1.3502 - val_accuracy: 0.5883\n",
            "Epoch 3/200\n",
            "74/74 [==============================] - 19s 257ms/step - loss: 0.9502 - accuracy: 0.7377 - val_loss: 1.6846 - val_accuracy: 0.2003\n",
            "Epoch 4/200\n",
            "74/74 [==============================] - 19s 253ms/step - loss: 0.9286 - accuracy: 0.7266 - val_loss: 1.1221 - val_accuracy: 0.6386\n",
            "Epoch 5/200\n",
            "74/74 [==============================] - 19s 257ms/step - loss: 0.8990 - accuracy: 0.7350 - val_loss: 1.2428 - val_accuracy: 0.6229\n",
            "Epoch 6/200\n",
            "74/74 [==============================] - 19s 254ms/step - loss: 0.8509 - accuracy: 0.7371 - val_loss: 1.2268 - val_accuracy: 0.6527\n",
            "Epoch 7/200\n",
            "74/74 [==============================] - 19s 257ms/step - loss: 0.8257 - accuracy: 0.7428 - val_loss: 1.3126 - val_accuracy: 0.7296\n",
            "Epoch 8/200\n",
            "74/74 [==============================] - 19s 255ms/step - loss: 0.7701 - accuracy: 0.7551 - val_loss: 1.1234 - val_accuracy: 0.7344\n",
            "Epoch 9/200\n",
            "74/74 [==============================] - 19s 254ms/step - loss: 0.7500 - accuracy: 0.7667 - val_loss: 1.0815 - val_accuracy: 0.7385\n",
            "Epoch 10/200\n",
            "74/74 [==============================] - 19s 255ms/step - loss: 0.7479 - accuracy: 0.7596 - val_loss: 0.7544 - val_accuracy: 0.7334\n",
            "Epoch 11/200\n",
            "74/74 [==============================] - 19s 257ms/step - loss: 0.7058 - accuracy: 0.7788 - val_loss: 0.9744 - val_accuracy: 0.7523\n",
            "Epoch 12/200\n",
            "74/74 [==============================] - 19s 254ms/step - loss: 0.6899 - accuracy: 0.7808 - val_loss: 0.7024 - val_accuracy: 0.7770\n",
            "Epoch 13/200\n",
            "74/74 [==============================] - 19s 254ms/step - loss: 0.7482 - accuracy: 0.7689 - val_loss: 1.0891 - val_accuracy: 0.7196\n",
            "Epoch 14/200\n",
            "74/74 [==============================] - 19s 254ms/step - loss: 0.7414 - accuracy: 0.7715 - val_loss: 1.1111 - val_accuracy: 0.7296\n",
            "Epoch 15/200\n",
            "74/74 [==============================] - 19s 254ms/step - loss: 0.7022 - accuracy: 0.7850 - val_loss: 0.8215 - val_accuracy: 0.6889\n",
            "Epoch 16/200\n",
            "74/74 [==============================] - 19s 259ms/step - loss: 0.6466 - accuracy: 0.8008 - val_loss: 0.9837 - val_accuracy: 0.7177\n",
            "Epoch 17/200\n",
            "74/74 [==============================] - 19s 255ms/step - loss: 0.6371 - accuracy: 0.7998 - val_loss: 0.9983 - val_accuracy: 0.7591\n",
            "Epoch 18/200\n",
            "74/74 [==============================] - 19s 255ms/step - loss: 0.6270 - accuracy: 0.8121 - val_loss: 1.0302 - val_accuracy: 0.7661\n",
            "Epoch 19/200\n",
            "74/74 [==============================] - 19s 258ms/step - loss: 0.6041 - accuracy: 0.8092 - val_loss: 0.9274 - val_accuracy: 0.7799\n",
            "Epoch 20/200\n",
            "74/74 [==============================] - 19s 258ms/step - loss: 0.5953 - accuracy: 0.8135 - val_loss: 0.8679 - val_accuracy: 0.7664\n",
            "Epoch 21/200\n",
            "74/74 [==============================] - 19s 258ms/step - loss: 0.5874 - accuracy: 0.8176 - val_loss: 0.9299 - val_accuracy: 0.7722\n",
            "Epoch 22/200\n",
            "74/74 [==============================] - 19s 259ms/step - loss: 0.5434 - accuracy: 0.8303 - val_loss: 0.9616 - val_accuracy: 0.7690\n",
            "Epoch 23/200\n",
            "74/74 [==============================] - 19s 258ms/step - loss: 0.5446 - accuracy: 0.8305 - val_loss: 0.7408 - val_accuracy: 0.7818\n",
            "Epoch 24/200\n",
            "74/74 [==============================] - 19s 259ms/step - loss: 0.5604 - accuracy: 0.8293 - val_loss: 0.8033 - val_accuracy: 0.7773\n",
            "Epoch 25/200\n",
            "74/74 [==============================] - 19s 259ms/step - loss: 0.5390 - accuracy: 0.8238 - val_loss: 0.6866 - val_accuracy: 0.8013\n",
            "Epoch 26/200\n",
            "74/74 [==============================] - 19s 260ms/step - loss: 0.5504 - accuracy: 0.8295 - val_loss: 0.6423 - val_accuracy: 0.8068\n",
            "Epoch 27/200\n",
            "74/74 [==============================] - 19s 261ms/step - loss: 0.5328 - accuracy: 0.8362 - val_loss: 0.6403 - val_accuracy: 0.7876\n",
            "Epoch 28/200\n",
            "74/74 [==============================] - 19s 258ms/step - loss: 0.4945 - accuracy: 0.8451 - val_loss: 0.7140 - val_accuracy: 0.7824\n",
            "Epoch 29/200\n",
            "74/74 [==============================] - 19s 257ms/step - loss: 0.5044 - accuracy: 0.8376 - val_loss: 0.8309 - val_accuracy: 0.7648\n",
            "Epoch 30/200\n",
            "74/74 [==============================] - 19s 260ms/step - loss: 0.5186 - accuracy: 0.8296 - val_loss: 0.6789 - val_accuracy: 0.7898\n",
            "Epoch 31/200\n",
            "74/74 [==============================] - 19s 260ms/step - loss: 0.4668 - accuracy: 0.8477 - val_loss: 0.6597 - val_accuracy: 0.7888\n",
            "Epoch 32/200\n",
            "74/74 [==============================] - 19s 261ms/step - loss: 0.4607 - accuracy: 0.8524 - val_loss: 0.7064 - val_accuracy: 0.7767\n",
            "Epoch 33/200\n",
            "74/74 [==============================] - 19s 260ms/step - loss: 0.4543 - accuracy: 0.8453 - val_loss: 0.6829 - val_accuracy: 0.7799\n",
            "Epoch 34/200\n",
            "74/74 [==============================] - 19s 258ms/step - loss: 0.4686 - accuracy: 0.8457 - val_loss: 0.8010 - val_accuracy: 0.7562\n",
            "Epoch 35/200\n",
            "74/74 [==============================] - 19s 258ms/step - loss: 0.4621 - accuracy: 0.8416 - val_loss: 0.6909 - val_accuracy: 0.7687\n",
            "Epoch 36/200\n",
            "74/74 [==============================] - 19s 257ms/step - loss: 0.4387 - accuracy: 0.8594 - val_loss: 0.7467 - val_accuracy: 0.7789\n",
            "Epoch 37/200\n",
            "74/74 [==============================] - 19s 257ms/step - loss: 0.4224 - accuracy: 0.8598 - val_loss: 0.6212 - val_accuracy: 0.8142\n",
            "Epoch 38/200\n",
            "74/74 [==============================] - 19s 258ms/step - loss: 0.4128 - accuracy: 0.8592 - val_loss: 0.7840 - val_accuracy: 0.7626\n",
            "Epoch 39/200\n",
            "74/74 [==============================] - 19s 258ms/step - loss: 0.4098 - accuracy: 0.8600 - val_loss: 0.6410 - val_accuracy: 0.7805\n",
            "Epoch 40/200\n",
            "74/74 [==============================] - 19s 256ms/step - loss: 0.4044 - accuracy: 0.8651 - val_loss: 0.6786 - val_accuracy: 0.7844\n",
            "Epoch 41/200\n",
            "74/74 [==============================] - 19s 259ms/step - loss: 0.4038 - accuracy: 0.8618 - val_loss: 0.6930 - val_accuracy: 0.7709\n",
            "Epoch 42/200\n",
            "74/74 [==============================] - 19s 258ms/step - loss: 0.3828 - accuracy: 0.8701 - val_loss: 1.0355 - val_accuracy: 0.7177\n",
            "Epoch 43/200\n",
            "74/74 [==============================] - 19s 258ms/step - loss: 0.4110 - accuracy: 0.8692 - val_loss: 0.6740 - val_accuracy: 0.7885\n",
            "Epoch 44/200\n",
            "74/74 [==============================] - 19s 256ms/step - loss: 0.3869 - accuracy: 0.8685 - val_loss: 0.6880 - val_accuracy: 0.7687\n",
            "Epoch 45/200\n",
            "74/74 [==============================] - 19s 255ms/step - loss: 0.3968 - accuracy: 0.8709 - val_loss: 0.6132 - val_accuracy: 0.8029\n",
            "Epoch 46/200\n",
            "74/74 [==============================] - 19s 255ms/step - loss: 0.3677 - accuracy: 0.8770 - val_loss: 0.6164 - val_accuracy: 0.8036\n",
            "Epoch 47/200\n",
            "74/74 [==============================] - 19s 254ms/step - loss: 0.3767 - accuracy: 0.8758 - val_loss: 0.6493 - val_accuracy: 0.7972\n",
            "Epoch 48/200\n",
            "74/74 [==============================] - 19s 256ms/step - loss: 0.3610 - accuracy: 0.8760 - val_loss: 0.6444 - val_accuracy: 0.8106\n",
            "Epoch 49/200\n",
            "74/74 [==============================] - 19s 256ms/step - loss: 0.3768 - accuracy: 0.8716 - val_loss: 0.6131 - val_accuracy: 0.7908\n",
            "Epoch 50/200\n",
            "74/74 [==============================] - 19s 258ms/step - loss: 0.3644 - accuracy: 0.8815 - val_loss: 0.6891 - val_accuracy: 0.7985\n",
            "Epoch 51/200\n",
            "74/74 [==============================] - 19s 258ms/step - loss: 0.3546 - accuracy: 0.8836 - val_loss: 0.5813 - val_accuracy: 0.8045\n",
            "Epoch 52/200\n",
            "74/74 [==============================] - 19s 258ms/step - loss: 0.3557 - accuracy: 0.8765 - val_loss: 0.6328 - val_accuracy: 0.8052\n",
            "Epoch 53/200\n",
            "74/74 [==============================] - 19s 257ms/step - loss: 0.3535 - accuracy: 0.8865 - val_loss: 0.6074 - val_accuracy: 0.7908\n",
            "Epoch 54/200\n",
            "74/74 [==============================] - 19s 257ms/step - loss: 0.3687 - accuracy: 0.8930 - val_loss: 0.8555 - val_accuracy: 0.7526\n",
            "Epoch 55/200\n",
            "74/74 [==============================] - 19s 256ms/step - loss: 0.3830 - accuracy: 0.8901 - val_loss: 0.7639 - val_accuracy: 0.7828\n",
            "Epoch 56/200\n",
            "74/74 [==============================] - 19s 255ms/step - loss: 0.3695 - accuracy: 0.8821 - val_loss: 0.4547 - val_accuracy: 0.8683\n",
            "Epoch 57/200\n",
            "74/74 [==============================] - 19s 258ms/step - loss: 0.3323 - accuracy: 0.8895 - val_loss: 0.5527 - val_accuracy: 0.8049\n",
            "Epoch 58/200\n",
            "74/74 [==============================] - 19s 257ms/step - loss: 0.3580 - accuracy: 0.8881 - val_loss: 0.5048 - val_accuracy: 0.8113\n",
            "Epoch 59/200\n",
            "74/74 [==============================] - 19s 258ms/step - loss: 0.3040 - accuracy: 0.9018 - val_loss: 0.5309 - val_accuracy: 0.8257\n",
            "Epoch 60/200\n",
            "74/74 [==============================] - 19s 257ms/step - loss: 0.3161 - accuracy: 0.8935 - val_loss: 0.5019 - val_accuracy: 0.8369\n",
            "Epoch 61/200\n",
            "74/74 [==============================] - 19s 256ms/step - loss: 0.2870 - accuracy: 0.9057 - val_loss: 0.4936 - val_accuracy: 0.8337\n",
            "Epoch 62/200\n",
            "74/74 [==============================] - 19s 255ms/step - loss: 0.2838 - accuracy: 0.9082 - val_loss: 0.5543 - val_accuracy: 0.8212\n",
            "Epoch 63/200\n",
            "74/74 [==============================] - 19s 258ms/step - loss: 0.2814 - accuracy: 0.9143 - val_loss: 0.5535 - val_accuracy: 0.8183\n",
            "Epoch 64/200\n",
            "74/74 [==============================] - 19s 256ms/step - loss: 0.3048 - accuracy: 0.8986 - val_loss: 0.4824 - val_accuracy: 0.8500\n",
            "Epoch 65/200\n",
            "74/74 [==============================] - 19s 256ms/step - loss: 0.2766 - accuracy: 0.9087 - val_loss: 0.5941 - val_accuracy: 0.8001\n",
            "Epoch 66/200\n",
            "74/74 [==============================] - 19s 257ms/step - loss: 0.2587 - accuracy: 0.9242 - val_loss: 0.5515 - val_accuracy: 0.8193\n",
            "Epoch 67/200\n",
            "74/74 [==============================] - 19s 254ms/step - loss: 0.2649 - accuracy: 0.9219 - val_loss: 0.5068 - val_accuracy: 0.8286\n",
            "Epoch 68/200\n",
            "74/74 [==============================] - 19s 255ms/step - loss: 0.2482 - accuracy: 0.9292 - val_loss: 0.5472 - val_accuracy: 0.8276\n",
            "Epoch 69/200\n",
            "74/74 [==============================] - 19s 256ms/step - loss: 0.2658 - accuracy: 0.9197 - val_loss: 0.5130 - val_accuracy: 0.8392\n",
            "Epoch 70/200\n",
            "74/74 [==============================] - 19s 255ms/step - loss: 0.2415 - accuracy: 0.9307 - val_loss: 0.5639 - val_accuracy: 0.8260\n",
            "Epoch 71/200\n",
            "74/74 [==============================] - 19s 256ms/step - loss: 0.2641 - accuracy: 0.9187 - val_loss: 0.5801 - val_accuracy: 0.8180\n",
            "Epoch 72/200\n",
            "74/74 [==============================] - 19s 256ms/step - loss: 0.2530 - accuracy: 0.9273 - val_loss: 0.5810 - val_accuracy: 0.8154\n",
            "Epoch 73/200\n",
            "74/74 [==============================] - 19s 255ms/step - loss: 0.3191 - accuracy: 0.9043 - val_loss: 0.5174 - val_accuracy: 0.8513\n",
            "Epoch 74/200\n",
            "74/74 [==============================] - 19s 255ms/step - loss: 0.3023 - accuracy: 0.9110 - val_loss: 0.5089 - val_accuracy: 0.8395\n",
            "Epoch 75/200\n",
            "74/74 [==============================] - 19s 257ms/step - loss: 0.2877 - accuracy: 0.9171 - val_loss: 0.4973 - val_accuracy: 0.8472\n",
            "Epoch 76/200\n",
            "74/74 [==============================] - 19s 259ms/step - loss: 0.2380 - accuracy: 0.9266 - val_loss: 0.4758 - val_accuracy: 0.8597\n",
            "Epoch 77/200\n",
            "74/74 [==============================] - 19s 257ms/step - loss: 0.2364 - accuracy: 0.9328 - val_loss: 0.4272 - val_accuracy: 0.8693\n",
            "Epoch 78/200\n",
            "74/74 [==============================] - 19s 255ms/step - loss: 0.2393 - accuracy: 0.9282 - val_loss: 0.4566 - val_accuracy: 0.8606\n",
            "Epoch 79/200\n",
            "74/74 [==============================] - 19s 256ms/step - loss: 0.2640 - accuracy: 0.9117 - val_loss: 0.4650 - val_accuracy: 0.8622\n",
            "Epoch 80/200\n",
            "74/74 [==============================] - 19s 258ms/step - loss: 0.2534 - accuracy: 0.9258 - val_loss: 0.4223 - val_accuracy: 0.8747\n",
            "Epoch 81/200\n",
            "74/74 [==============================] - 19s 256ms/step - loss: 0.2288 - accuracy: 0.9355 - val_loss: 0.4593 - val_accuracy: 0.8408\n",
            "Epoch 82/200\n",
            "74/74 [==============================] - 19s 257ms/step - loss: 0.2344 - accuracy: 0.9232 - val_loss: 0.4368 - val_accuracy: 0.8715\n",
            "Epoch 83/200\n",
            "74/74 [==============================] - 19s 256ms/step - loss: 0.2212 - accuracy: 0.9346 - val_loss: 0.4402 - val_accuracy: 0.8616\n",
            "Epoch 84/200\n",
            "74/74 [==============================] - 19s 256ms/step - loss: 0.2149 - accuracy: 0.9383 - val_loss: 0.4703 - val_accuracy: 0.8526\n",
            "Epoch 85/200\n",
            "74/74 [==============================] - 19s 257ms/step - loss: 0.2334 - accuracy: 0.9316 - val_loss: 0.4690 - val_accuracy: 0.8542\n",
            "Epoch 86/200\n",
            "74/74 [==============================] - 19s 257ms/step - loss: 0.2107 - accuracy: 0.9457 - val_loss: 0.4419 - val_accuracy: 0.8613\n",
            "Epoch 87/200\n",
            "74/74 [==============================] - 19s 256ms/step - loss: 0.2177 - accuracy: 0.9345 - val_loss: 0.4879 - val_accuracy: 0.8517\n",
            "Epoch 88/200\n",
            "74/74 [==============================] - 19s 257ms/step - loss: 0.1948 - accuracy: 0.9449 - val_loss: 0.5830 - val_accuracy: 0.8170\n",
            "Epoch 89/200\n",
            "74/74 [==============================] - 19s 256ms/step - loss: 0.1995 - accuracy: 0.9447 - val_loss: 0.6145 - val_accuracy: 0.7940\n",
            "Epoch 90/200\n",
            "74/74 [==============================] - 19s 259ms/step - loss: 0.2072 - accuracy: 0.9368 - val_loss: 0.6194 - val_accuracy: 0.8001\n",
            "Epoch 91/200\n",
            "74/74 [==============================] - 19s 258ms/step - loss: 0.2257 - accuracy: 0.9322 - val_loss: 0.7177 - val_accuracy: 0.7690\n",
            "Epoch 92/200\n",
            "74/74 [==============================] - 19s 261ms/step - loss: 0.2255 - accuracy: 0.9352 - val_loss: 0.5341 - val_accuracy: 0.8404\n",
            "Epoch 93/200\n",
            "74/74 [==============================] - 20s 263ms/step - loss: 0.1978 - accuracy: 0.9456 - val_loss: 0.5484 - val_accuracy: 0.8260\n",
            "Epoch 94/200\n",
            "74/74 [==============================] - 19s 260ms/step - loss: 0.2018 - accuracy: 0.9456 - val_loss: 0.8038 - val_accuracy: 0.7546\n",
            "Epoch 95/200\n",
            "74/74 [==============================] - 19s 260ms/step - loss: 0.1997 - accuracy: 0.9464 - val_loss: 0.5125 - val_accuracy: 0.8411\n",
            "Epoch 96/200\n",
            "74/74 [==============================] - 19s 261ms/step - loss: 0.1884 - accuracy: 0.9469 - val_loss: 0.5990 - val_accuracy: 0.8074\n",
            "Epoch 97/200\n",
            "74/74 [==============================] - 19s 259ms/step - loss: 0.1979 - accuracy: 0.9445 - val_loss: 0.5561 - val_accuracy: 0.8369\n",
            "Epoch 98/200\n",
            "74/74 [==============================] - 19s 259ms/step - loss: 0.1798 - accuracy: 0.9542 - val_loss: 0.5625 - val_accuracy: 0.8267\n",
            "Epoch 99/200\n",
            "74/74 [==============================] - 19s 260ms/step - loss: 0.1750 - accuracy: 0.9543 - val_loss: 0.5388 - val_accuracy: 0.8343\n",
            "Epoch 100/200\n",
            "74/74 [==============================] - 19s 258ms/step - loss: 0.1660 - accuracy: 0.9577 - val_loss: 0.7323 - val_accuracy: 0.7709\n",
            "Epoch 101/200\n",
            "74/74 [==============================] - 19s 257ms/step - loss: 0.1777 - accuracy: 0.9533 - val_loss: 0.5021 - val_accuracy: 0.8366\n",
            "Epoch 102/200\n",
            "74/74 [==============================] - 19s 258ms/step - loss: 0.1645 - accuracy: 0.9574 - val_loss: 0.6326 - val_accuracy: 0.8065\n",
            "Epoch 103/200\n",
            "74/74 [==============================] - 19s 258ms/step - loss: 0.1716 - accuracy: 0.9542 - val_loss: 0.6925 - val_accuracy: 0.7764\n",
            "Epoch 104/200\n",
            "74/74 [==============================] - 19s 256ms/step - loss: 0.1545 - accuracy: 0.9598 - val_loss: 0.4621 - val_accuracy: 0.8590\n",
            "Epoch 105/200\n",
            "74/74 [==============================] - 19s 258ms/step - loss: 0.1545 - accuracy: 0.9574 - val_loss: 0.5492 - val_accuracy: 0.8161\n",
            "Epoch 106/200\n",
            "74/74 [==============================] - 19s 256ms/step - loss: 0.1629 - accuracy: 0.9577 - val_loss: 0.5735 - val_accuracy: 0.8132\n",
            "Epoch 107/200\n",
            "74/74 [==============================] - 19s 256ms/step - loss: 0.1726 - accuracy: 0.9519 - val_loss: 0.5966 - val_accuracy: 0.8340\n",
            "Epoch 108/200\n",
            "74/74 [==============================] - 19s 259ms/step - loss: 0.1919 - accuracy: 0.9490 - val_loss: 0.7542 - val_accuracy: 0.7799\n",
            "Epoch 109/200\n",
            "74/74 [==============================] - 19s 258ms/step - loss: 0.2236 - accuracy: 0.9401 - val_loss: 0.5363 - val_accuracy: 0.8254\n",
            "Epoch 110/200\n",
            "74/74 [==============================] - 19s 259ms/step - loss: 0.1857 - accuracy: 0.9487 - val_loss: 0.5993 - val_accuracy: 0.8058\n",
            "Epoch 111/200\n",
            "74/74 [==============================] - 19s 257ms/step - loss: 0.1653 - accuracy: 0.9551 - val_loss: 0.5765 - val_accuracy: 0.8196\n",
            "Epoch 112/200\n",
            "74/74 [==============================] - 19s 259ms/step - loss: 0.1594 - accuracy: 0.9571 - val_loss: 0.5094 - val_accuracy: 0.8395\n",
            "Epoch 113/200\n",
            "74/74 [==============================] - 19s 258ms/step - loss: 0.1566 - accuracy: 0.9568 - val_loss: 0.5036 - val_accuracy: 0.8446\n",
            "Epoch 114/200\n",
            "74/74 [==============================] - 19s 258ms/step - loss: 0.1460 - accuracy: 0.9613 - val_loss: 0.9500 - val_accuracy: 0.7193\n",
            "Epoch 115/200\n",
            "74/74 [==============================] - 19s 258ms/step - loss: 0.1528 - accuracy: 0.9598 - val_loss: 0.5562 - val_accuracy: 0.8302\n",
            "Epoch 116/200\n",
            "74/74 [==============================] - 19s 258ms/step - loss: 0.1427 - accuracy: 0.9615 - val_loss: 0.6358 - val_accuracy: 0.7748\n",
            "Epoch 117/200\n",
            "74/74 [==============================] - 19s 256ms/step - loss: 0.1387 - accuracy: 0.9653 - val_loss: 0.6447 - val_accuracy: 0.7860\n",
            "Epoch 118/200\n",
            "74/74 [==============================] - 19s 258ms/step - loss: 0.1395 - accuracy: 0.9620 - val_loss: 0.5375 - val_accuracy: 0.8279\n",
            "Epoch 119/200\n",
            "74/74 [==============================] - 19s 258ms/step - loss: 0.1651 - accuracy: 0.9560 - val_loss: 0.5233 - val_accuracy: 0.8283\n",
            "Epoch 120/200\n",
            "74/74 [==============================] - 19s 256ms/step - loss: 0.2034 - accuracy: 0.9441 - val_loss: 0.8310 - val_accuracy: 0.7933\n",
            "Epoch 121/200\n",
            "74/74 [==============================] - 19s 256ms/step - loss: 0.2554 - accuracy: 0.9295 - val_loss: 0.5382 - val_accuracy: 0.8340\n",
            "Epoch 122/200\n",
            "74/74 [==============================] - 19s 256ms/step - loss: 0.1974 - accuracy: 0.9428 - val_loss: 0.6526 - val_accuracy: 0.8065\n",
            "Epoch 123/200\n",
            "74/74 [==============================] - 19s 256ms/step - loss: 0.1670 - accuracy: 0.9574 - val_loss: 0.4654 - val_accuracy: 0.8420\n",
            "Epoch 124/200\n",
            "74/74 [==============================] - 19s 257ms/step - loss: 0.1658 - accuracy: 0.9535 - val_loss: 0.6857 - val_accuracy: 0.7876\n",
            "Epoch 125/200\n",
            "74/74 [==============================] - 19s 258ms/step - loss: 0.1410 - accuracy: 0.9625 - val_loss: 0.4111 - val_accuracy: 0.8632\n",
            "Epoch 126/200\n",
            "74/74 [==============================] - 19s 259ms/step - loss: 0.1270 - accuracy: 0.9645 - val_loss: 0.6148 - val_accuracy: 0.8033\n",
            "Epoch 127/200\n",
            "74/74 [==============================] - 19s 257ms/step - loss: 0.1293 - accuracy: 0.9654 - val_loss: 0.3813 - val_accuracy: 0.8782\n",
            "Epoch 128/200\n",
            "74/74 [==============================] - 19s 257ms/step - loss: 0.1261 - accuracy: 0.9668 - val_loss: 0.4619 - val_accuracy: 0.8481\n",
            "Epoch 129/200\n",
            "74/74 [==============================] - 19s 257ms/step - loss: 0.1185 - accuracy: 0.9699 - val_loss: 0.4589 - val_accuracy: 0.8533\n",
            "Epoch 130/200\n",
            "74/74 [==============================] - 19s 256ms/step - loss: 0.1211 - accuracy: 0.9680 - val_loss: 0.4221 - val_accuracy: 0.8738\n",
            "Epoch 131/200\n",
            "74/74 [==============================] - 19s 257ms/step - loss: 0.1201 - accuracy: 0.9694 - val_loss: 0.5306 - val_accuracy: 0.8363\n",
            "Epoch 132/200\n",
            "74/74 [==============================] - 19s 257ms/step - loss: 0.1127 - accuracy: 0.9705 - val_loss: 0.5574 - val_accuracy: 0.8270\n",
            "Epoch 133/200\n",
            "74/74 [==============================] - 19s 257ms/step - loss: 0.1173 - accuracy: 0.9696 - val_loss: 0.5242 - val_accuracy: 0.8267\n",
            "Epoch 134/200\n",
            "74/74 [==============================] - 19s 256ms/step - loss: 0.1248 - accuracy: 0.9658 - val_loss: 0.5705 - val_accuracy: 0.8491\n",
            "Epoch 135/200\n",
            "74/74 [==============================] - 19s 258ms/step - loss: 0.1267 - accuracy: 0.9688 - val_loss: 0.6270 - val_accuracy: 0.8222\n",
            "Epoch 136/200\n",
            "74/74 [==============================] - 19s 257ms/step - loss: 0.1305 - accuracy: 0.9628 - val_loss: 0.5414 - val_accuracy: 0.8392\n",
            "Epoch 137/200\n",
            "74/74 [==============================] - 19s 259ms/step - loss: 0.1422 - accuracy: 0.9591 - val_loss: 0.5251 - val_accuracy: 0.8238\n",
            "Epoch 138/200\n",
            "74/74 [==============================] - 19s 257ms/step - loss: 0.1222 - accuracy: 0.9660 - val_loss: 0.5822 - val_accuracy: 0.8110\n",
            "Epoch 139/200\n",
            "74/74 [==============================] - 19s 257ms/step - loss: 0.1359 - accuracy: 0.9627 - val_loss: 0.7419 - val_accuracy: 0.8020\n",
            "Epoch 140/200\n",
            "74/74 [==============================] - 19s 257ms/step - loss: 0.1242 - accuracy: 0.9658 - val_loss: 0.4970 - val_accuracy: 0.8408\n",
            "Epoch 141/200\n",
            "74/74 [==============================] - 19s 258ms/step - loss: 0.1179 - accuracy: 0.9677 - val_loss: 0.4727 - val_accuracy: 0.8545\n",
            "Epoch 142/200\n",
            "74/74 [==============================] - 20s 263ms/step - loss: 0.1088 - accuracy: 0.9705 - val_loss: 0.5043 - val_accuracy: 0.8452\n",
            "Epoch 143/200\n",
            "74/74 [==============================] - 19s 258ms/step - loss: 0.1103 - accuracy: 0.9698 - val_loss: 0.6409 - val_accuracy: 0.8145\n",
            "Epoch 144/200\n",
            "74/74 [==============================] - 19s 260ms/step - loss: 0.1492 - accuracy: 0.9612 - val_loss: 0.5457 - val_accuracy: 0.8536\n",
            "Epoch 145/200\n",
            "74/74 [==============================] - 19s 259ms/step - loss: 0.1429 - accuracy: 0.9597 - val_loss: 0.5787 - val_accuracy: 0.8100\n",
            "Epoch 146/200\n",
            "74/74 [==============================] - 19s 259ms/step - loss: 0.1281 - accuracy: 0.9632 - val_loss: 0.5313 - val_accuracy: 0.8395\n",
            "Epoch 147/200\n",
            "74/74 [==============================] - 19s 259ms/step - loss: 0.1150 - accuracy: 0.9698 - val_loss: 0.5348 - val_accuracy: 0.8484\n",
            "Epoch 148/200\n",
            "74/74 [==============================] - 19s 258ms/step - loss: 0.1132 - accuracy: 0.9693 - val_loss: 0.5344 - val_accuracy: 0.8510\n",
            "Epoch 149/200\n",
            "74/74 [==============================] - 19s 257ms/step - loss: 0.1032 - accuracy: 0.9720 - val_loss: 0.5548 - val_accuracy: 0.8507\n",
            "Epoch 150/200\n",
            "74/74 [==============================] - 19s 255ms/step - loss: 0.1024 - accuracy: 0.9716 - val_loss: 0.4914 - val_accuracy: 0.8459\n",
            "Epoch 151/200\n",
            "74/74 [==============================] - 19s 257ms/step - loss: 0.0985 - accuracy: 0.9731 - val_loss: 0.5297 - val_accuracy: 0.8360\n",
            "Epoch 152/200\n",
            "74/74 [==============================] - 19s 255ms/step - loss: 0.1070 - accuracy: 0.9701 - val_loss: 0.7037 - val_accuracy: 0.8222\n",
            "Epoch 153/200\n",
            "74/74 [==============================] - 19s 256ms/step - loss: 0.1226 - accuracy: 0.9649 - val_loss: 0.6038 - val_accuracy: 0.8196\n",
            "Epoch 154/200\n",
            "74/74 [==============================] - 19s 257ms/step - loss: 0.1382 - accuracy: 0.9590 - val_loss: 0.5247 - val_accuracy: 0.8561\n",
            "Epoch 155/200\n",
            "74/74 [==============================] - 19s 256ms/step - loss: 0.1091 - accuracy: 0.9677 - val_loss: 0.5508 - val_accuracy: 0.8340\n",
            "Epoch 156/200\n",
            "74/74 [==============================] - 19s 260ms/step - loss: 0.1108 - accuracy: 0.9694 - val_loss: 0.6644 - val_accuracy: 0.8337\n",
            "Epoch 157/200\n",
            "74/74 [==============================] - 19s 260ms/step - loss: 0.1331 - accuracy: 0.9664 - val_loss: 0.7061 - val_accuracy: 0.8026\n",
            "Epoch 158/200\n",
            "74/74 [==============================] - 19s 261ms/step - loss: 0.1156 - accuracy: 0.9695 - val_loss: 0.6387 - val_accuracy: 0.8180\n",
            "Epoch 159/200\n",
            "74/74 [==============================] - 19s 260ms/step - loss: 0.1070 - accuracy: 0.9703 - val_loss: 0.5559 - val_accuracy: 0.8443\n",
            "Epoch 160/200\n",
            "74/74 [==============================] - 20s 264ms/step - loss: 0.0932 - accuracy: 0.9762 - val_loss: 0.6194 - val_accuracy: 0.8215\n",
            "Epoch 161/200\n",
            "74/74 [==============================] - 19s 262ms/step - loss: 0.1492 - accuracy: 0.9525 - val_loss: 0.5589 - val_accuracy: 0.8584\n",
            "Epoch 162/200\n",
            "74/74 [==============================] - 19s 262ms/step - loss: 0.3056 - accuracy: 0.9152 - val_loss: 0.4403 - val_accuracy: 0.8677\n",
            "Epoch 163/200\n",
            "74/74 [==============================] - 19s 259ms/step - loss: 0.1733 - accuracy: 0.9516 - val_loss: 0.4295 - val_accuracy: 0.8843\n",
            "Epoch 164/200\n",
            "74/74 [==============================] - 19s 261ms/step - loss: 0.1212 - accuracy: 0.9668 - val_loss: 0.5848 - val_accuracy: 0.8299\n",
            "Epoch 165/200\n",
            "74/74 [==============================] - 19s 261ms/step - loss: 0.1401 - accuracy: 0.9590 - val_loss: 0.4841 - val_accuracy: 0.8520\n",
            "Epoch 166/200\n",
            "74/74 [==============================] - 19s 259ms/step - loss: 0.1265 - accuracy: 0.9663 - val_loss: 0.4331 - val_accuracy: 0.8869\n",
            "Epoch 167/200\n",
            "74/74 [==============================] - 19s 260ms/step - loss: 0.1742 - accuracy: 0.9560 - val_loss: 0.5837 - val_accuracy: 0.8549\n",
            "Epoch 168/200\n",
            "74/74 [==============================] - 19s 261ms/step - loss: 0.1696 - accuracy: 0.9577 - val_loss: 0.4692 - val_accuracy: 0.8690\n",
            "Epoch 169/200\n",
            "74/74 [==============================] - 19s 258ms/step - loss: 0.1372 - accuracy: 0.9619 - val_loss: 0.4208 - val_accuracy: 0.8757\n",
            "Epoch 170/200\n",
            "74/74 [==============================] - 19s 260ms/step - loss: 0.1098 - accuracy: 0.9713 - val_loss: 0.3908 - val_accuracy: 0.8914\n",
            "Epoch 171/200\n",
            "74/74 [==============================] - 19s 260ms/step - loss: 0.0946 - accuracy: 0.9744 - val_loss: 0.3998 - val_accuracy: 0.8907\n",
            "Epoch 172/200\n",
            "74/74 [==============================] - 19s 261ms/step - loss: 0.0958 - accuracy: 0.9749 - val_loss: 0.3948 - val_accuracy: 0.8920\n",
            "Epoch 173/200\n",
            "74/74 [==============================] - 19s 260ms/step - loss: 0.0853 - accuracy: 0.9777 - val_loss: 0.4292 - val_accuracy: 0.8754\n",
            "Epoch 174/200\n",
            "74/74 [==============================] - 19s 259ms/step - loss: 0.0835 - accuracy: 0.9775 - val_loss: 0.4041 - val_accuracy: 0.8805\n",
            "Epoch 175/200\n",
            "74/74 [==============================] - 20s 263ms/step - loss: 0.0902 - accuracy: 0.9738 - val_loss: 0.4385 - val_accuracy: 0.8718\n",
            "Epoch 176/200\n",
            "74/74 [==============================] - 19s 261ms/step - loss: 0.0848 - accuracy: 0.9755 - val_loss: 0.4644 - val_accuracy: 0.8661\n",
            "Epoch 177/200\n",
            "74/74 [==============================] - 19s 260ms/step - loss: 0.0884 - accuracy: 0.9771 - val_loss: 0.4559 - val_accuracy: 0.8680\n",
            "Epoch 178/200\n",
            "74/74 [==============================] - 19s 260ms/step - loss: 0.0882 - accuracy: 0.9743 - val_loss: 0.6464 - val_accuracy: 0.8283\n",
            "Epoch 179/200\n",
            "74/74 [==============================] - 19s 261ms/step - loss: 0.1287 - accuracy: 0.9623 - val_loss: 0.3637 - val_accuracy: 0.8981\n",
            "Epoch 180/200\n",
            "74/74 [==============================] - 19s 260ms/step - loss: 0.1159 - accuracy: 0.9638 - val_loss: 0.4777 - val_accuracy: 0.8542\n",
            "Epoch 181/200\n",
            "74/74 [==============================] - 20s 264ms/step - loss: 0.0994 - accuracy: 0.9710 - val_loss: 0.4060 - val_accuracy: 0.8882\n",
            "Epoch 182/200\n",
            "74/74 [==============================] - 19s 262ms/step - loss: 0.0886 - accuracy: 0.9761 - val_loss: 0.3713 - val_accuracy: 0.8879\n",
            "Epoch 183/200\n",
            "74/74 [==============================] - 20s 262ms/step - loss: 0.0772 - accuracy: 0.9795 - val_loss: 0.4025 - val_accuracy: 0.8840\n",
            "Epoch 184/200\n",
            "74/74 [==============================] - 19s 261ms/step - loss: 0.0761 - accuracy: 0.9795 - val_loss: 0.3935 - val_accuracy: 0.8907\n",
            "Epoch 185/200\n",
            "74/74 [==============================] - 19s 260ms/step - loss: 0.0756 - accuracy: 0.9798 - val_loss: 0.4081 - val_accuracy: 0.8786\n",
            "Epoch 186/200\n",
            "74/74 [==============================] - 19s 261ms/step - loss: 0.0710 - accuracy: 0.9812 - val_loss: 0.4951 - val_accuracy: 0.8593\n",
            "Epoch 187/200\n",
            "74/74 [==============================] - 19s 262ms/step - loss: 0.0757 - accuracy: 0.9781 - val_loss: 0.5172 - val_accuracy: 0.8632\n",
            "Epoch 188/200\n",
            "74/74 [==============================] - 19s 261ms/step - loss: 0.0707 - accuracy: 0.9809 - val_loss: 0.4205 - val_accuracy: 0.8901\n",
            "Epoch 189/200\n",
            "74/74 [==============================] - 19s 262ms/step - loss: 0.0689 - accuracy: 0.9812 - val_loss: 0.4680 - val_accuracy: 0.8542\n",
            "Epoch 190/200\n",
            "74/74 [==============================] - 20s 263ms/step - loss: 0.0792 - accuracy: 0.9784 - val_loss: 0.5677 - val_accuracy: 0.8481\n",
            "Epoch 191/200\n",
            "74/74 [==============================] - 20s 264ms/step - loss: 0.0727 - accuracy: 0.9789 - val_loss: 0.4787 - val_accuracy: 0.8417\n",
            "Epoch 192/200\n",
            "74/74 [==============================] - 20s 265ms/step - loss: 0.0694 - accuracy: 0.9820 - val_loss: 0.5289 - val_accuracy: 0.8613\n",
            "Epoch 193/200\n",
            "74/74 [==============================] - 19s 261ms/step - loss: 0.0634 - accuracy: 0.9816 - val_loss: 0.4318 - val_accuracy: 0.8757\n",
            "Epoch 194/200\n",
            "74/74 [==============================] - 19s 261ms/step - loss: 0.0654 - accuracy: 0.9815 - val_loss: 0.4783 - val_accuracy: 0.8635\n",
            "Epoch 195/200\n",
            "74/74 [==============================] - 19s 262ms/step - loss: 0.0674 - accuracy: 0.9811 - val_loss: 0.4476 - val_accuracy: 0.8629\n",
            "Epoch 196/200\n",
            "74/74 [==============================] - 19s 261ms/step - loss: 0.0742 - accuracy: 0.9774 - val_loss: 0.4718 - val_accuracy: 0.8856\n",
            "Epoch 197/200\n",
            "74/74 [==============================] - 19s 261ms/step - loss: 0.0972 - accuracy: 0.9729 - val_loss: 0.5608 - val_accuracy: 0.8440\n",
            "Epoch 198/200\n",
            "74/74 [==============================] - 20s 263ms/step - loss: 0.0813 - accuracy: 0.9770 - val_loss: 0.6547 - val_accuracy: 0.8321\n",
            "Epoch 199/200\n",
            "74/74 [==============================] - 19s 261ms/step - loss: 0.0921 - accuracy: 0.9739 - val_loss: 0.4791 - val_accuracy: 0.8686\n",
            "Epoch 200/200\n",
            "74/74 [==============================] - 19s 262ms/step - loss: 0.0823 - accuracy: 0.9742 - val_loss: 0.5098 - val_accuracy: 0.8613\n"
          ],
          "name": "stdout"
        }
      ]
    },
    {
      "cell_type": "code",
      "metadata": {
        "id": "ADfI6zRsMup0"
      },
      "source": [
        ""
      ],
      "execution_count": null,
      "outputs": []
    },
    {
      "cell_type": "code",
      "metadata": {
        "colab": {
          "base_uri": "https://localhost:8080/",
          "height": 338
        },
        "id": "drWi1R_gyYZZ",
        "outputId": "455616b0-4dec-4998-8533-e35384a6c5c9"
      },
      "source": [
        "import matplotlib.pyplot as plt\n",
        "m_acc = history.history['accuracy']\n",
        "fig, ax = plt.subplots(figsize = (15,5))\n",
        "ax.plot(m_acc, color = 'r')\n",
        "ax.plot(history.history['val_accuracy'], color = 'b')\n",
        "# plt.legend()"
      ],
      "execution_count": null,
      "outputs": [
        {
          "output_type": "execute_result",
          "data": {
            "text/plain": [
              "[<matplotlib.lines.Line2D at 0x7f54e21e14d0>]"
            ]
          },
          "metadata": {
            "tags": []
          },
          "execution_count": 42
        },
        {
          "output_type": "display_data",
          "data": {
            "image/png": "[encoded data removed]",
            "text/plain": [
              "<Figure size 1080x360 with 1 Axes>"
            ]
          },
          "metadata": {
            "tags": []
          }
        }
      ]
    },
    {
      "cell_type": "code",
      "metadata": {
        "colab": {
          "base_uri": "https://localhost:8080/"
        },
        "id": "vBJ3ZeEesQui",
        "outputId": "52c2b0a7-d182-4f8b-8667-3955e39cabde"
      },
      "source": [
        "b_2model = tf.keras.models.load_model('best_model_n3.h5')\n",
        "b_2model.evaluate(test_f, test_l)"
      ],
      "execution_count": null,
      "outputs": [
        {
          "output_type": "stream",
          "text": [
            "98/98 [==============================] - 3s 25ms/step - loss: 0.3637 - accuracy: 0.8981\n"
          ],
          "name": "stdout"
        },
        {
          "output_type": "execute_result",
          "data": {
            "text/plain": [
              "[0.3637402355670929, 0.8981095552444458]"
            ]
          },
          "metadata": {
            "tags": []
          },
          "execution_count": 43
        }
      ]
    },
    {
      "cell_type": "code",
      "metadata": {
        "colab": {
          "base_uri": "https://localhost:8080/",
          "height": 338
        },
        "id": "8Xe2jqlfSk5H",
        "outputId": "599dcc9a-865e-4394-993a-f0380d4bb344"
      },
      "source": [
        "loss = history.history['loss']\n",
        "fig, ax = plt.subplots(figsize = (15,5))\n",
        "ax.plot(loss, color = 'r')\n",
        "ax.plot(history.history['val_loss'], color = 'b')"
      ],
      "execution_count": null,
      "outputs": [
        {
          "output_type": "execute_result",
          "data": {
            "text/plain": [
              "[<matplotlib.lines.Line2D at 0x7f54de55cfd0>]"
            ]
          },
          "metadata": {
            "tags": []
          },
          "execution_count": 44
        },
        {
          "output_type": "display_data",
          "data": {
            "image/png": "[encoded data removed]",
            "text/plain": [
              "<Figure size 1080x360 with 1 Axes>"
            ]
          },
          "metadata": {
            "tags": []
          }
        }
      ]
    },
    {
      "cell_type": "code",
      "metadata": {
        "id": "eRFHo3AESla-"
      },
      "source": [
        ""
      ],
      "execution_count": null,
      "outputs": []
    },
    {
      "cell_type": "markdown",
      "metadata": {
        "id": "zuf4PX0slZKX"
      },
      "source": [
        ""
      ]
    },
    {
      "cell_type": "markdown",
      "metadata": {
        "id": "bcjm-M6jlY2e"
      },
      "source": [
        ""
      ]
    },
    {
      "cell_type": "markdown",
      "metadata": {
        "id": "wDZJIP-JlYoV"
      },
      "source": [
        "Model 2. Using Bidirectional LSTM"
      ]
    },
    {
      "cell_type": "code",
      "metadata": {
        "id": "kkYkSxkClfQ-"
      },
      "source": [
        "# # adding globel average pooling to the model\n",
        "# codding lstm layers and cnn\n",
        "model = tf.keras.models.Sequential([\n",
        "  tf.keras.layers.Lambda(lambda x: x,\n",
        "                      input_shape=[128, 3]),\n",
        "  tf.keras.layers.Bidirectional(tf.keras.layers.RNN(tf.keras.layers.LSTMCell(32), return_sequences=True)),\n",
        "  tf.keras.layers.Bidirectional(tf.keras.layers.RNN(tf.keras.layers.LSTMCell(32), return_sequences=True)),\n",
        "  # tf.keras.layers.Bidirectional(tf.keras.layers.LSTM(32, return_sequences=True)),\n",
        "  # tf.keras.layers.SpatialDropout1D(0.2),\n",
        "  # tf.keras.layers.Lambda(lambda x: tf.expand_dims(x, axis=-1)),\n",
        "  # tf.keras.layers.Reshape((128,64,1)),\n",
        "  # tf.keras.layers.Dropout(0.4),\n",
        "  tf.keras.layers.Conv1D(64,5,strides=2),\n",
        "  tf.keras.layers.MaxPooling1D(2, strides = 2),\n",
        "  tf.keras.layers.Dropout(.4),\n",
        "  tf.keras.layers.Conv1D(128,3,strides=1),  \n",
        "  # tf.keras.layers.MaxPooling2D((2, 2), strides = (2,2)),\n",
        "  # tf.keras.layers.Lambda(lambda x: tf.expand_dims(x, axis=-1)),\n",
        "  # parameters ?\n",
        "  tf.keras.layers.GlobalAveragePooling1D(),\n",
        "  tf.keras.layers.BatchNormalization(),\n",
        "  tf.keras.layers.Dense(6, activation='softmax')\n",
        "  \n",
        "])"
      ],
      "execution_count": null,
      "outputs": []
    },
    {
      "cell_type": "code",
      "metadata": {
        "colab": {
          "base_uri": "https://localhost:8080/"
        },
        "id": "g1Q2xm0GlyTA",
        "outputId": "081acf4b-31ea-42cd-a2c0-1047a565fdbc"
      },
      "source": [
        "model.summary()"
      ],
      "execution_count": null,
      "outputs": [
        {
          "output_type": "stream",
          "text": [
            "Model: \"sequential_2\"\n",
            "_________________________________________________________________\n",
            "Layer (type)                 Output Shape              Param #   \n",
            "=================================================================\n",
            "lambda_3 (Lambda)            (None, 128, 3)            0         \n",
            "_________________________________________________________________\n",
            "bidirectional_4 (Bidirection (None, 128, 64)           9216      \n",
            "_________________________________________________________________\n",
            "bidirectional_5 (Bidirection (None, 128, 64)           24832     \n",
            "_________________________________________________________________\n",
            "conv1d_4 (Conv1D)            (None, 62, 64)            20544     \n",
            "_________________________________________________________________\n",
            "max_pooling1d_1 (MaxPooling1 (None, 31, 64)            0         \n",
            "_________________________________________________________________\n",
            "dropout_2 (Dropout)          (None, 31, 64)            0         \n",
            "_________________________________________________________________\n",
            "conv1d_5 (Conv1D)            (None, 29, 128)           24704     \n",
            "_________________________________________________________________\n",
            "global_average_pooling1d_1 ( (None, 128)               0         \n",
            "_________________________________________________________________\n",
            "batch_normalization_2 (Batch (None, 128)               512       \n",
            "_________________________________________________________________\n",
            "dense_2 (Dense)              (None, 6)                 774       \n",
            "=================================================================\n",
            "Total params: 80,582\n",
            "Trainable params: 80,326\n",
            "Non-trainable params: 256\n",
            "_________________________________________________________________\n"
          ],
          "name": "stdout"
        }
      ]
    },
    {
      "cell_type": "code",
      "metadata": {
        "id": "p6RRk_Msl0vW"
      },
      "source": [
        "from tensorflow.keras.callbacks import ModelCheckpoint\n",
        "save = ModelCheckpoint('best_model_n3_bid.h5', save_best_only = True)"
      ],
      "execution_count": null,
      "outputs": []
    },
    {
      "cell_type": "code",
      "metadata": {
        "colab": {
          "base_uri": "https://localhost:8080/"
        },
        "id": "-KyXV0gpmYX_",
        "outputId": "11eac5fe-f80a-4768-c305-38742cb2e780"
      },
      "source": [
        "\n",
        "optimizer = tf.keras.optimizers.Adam(0.001)\n",
        "model.compile(loss=\"categorical_crossentropy\", optimizer=optimizer, metrics = ['accuracy'])\n",
        "\n",
        "history = model.fit(train_windowed,validation_data=(test_f, test_l), epochs=200,callbacks=[save], verbose=1, batch_size=192) "
      ],
      "execution_count": null,
      "outputs": [
        {
          "output_type": "stream",
          "text": [
            "Epoch 1/200\n",
            "74/74 [==============================] - 52s 661ms/step - loss: 1.3282 - accuracy: 0.6452 - val_loss: 1.6555 - val_accuracy: 0.4399\n",
            "Epoch 2/200\n",
            "74/74 [==============================] - 48s 649ms/step - loss: 1.0563 - accuracy: 0.6915 - val_loss: 1.1756 - val_accuracy: 0.6610\n",
            "Epoch 3/200\n",
            "74/74 [==============================] - 49s 655ms/step - loss: 0.9714 - accuracy: 0.7221 - val_loss: 1.6361 - val_accuracy: 0.6120\n",
            "Epoch 4/200\n",
            "74/74 [==============================] - 50s 673ms/step - loss: 0.8862 - accuracy: 0.7448 - val_loss: 1.3304 - val_accuracy: 0.6411\n",
            "Epoch 5/200\n",
            "74/74 [==============================] - 51s 686ms/step - loss: 0.8956 - accuracy: 0.7277 - val_loss: 1.0065 - val_accuracy: 0.7286\n",
            "Epoch 6/200\n",
            "74/74 [==============================] - 50s 670ms/step - loss: 0.8712 - accuracy: 0.7140 - val_loss: 0.9677 - val_accuracy: 0.6706\n",
            "Epoch 7/200\n",
            "74/74 [==============================] - 49s 668ms/step - loss: 0.8211 - accuracy: 0.7461 - val_loss: 0.9559 - val_accuracy: 0.6979\n",
            "Epoch 8/200\n",
            "74/74 [==============================] - 50s 671ms/step - loss: 0.7826 - accuracy: 0.7517 - val_loss: 0.8746 - val_accuracy: 0.7094\n",
            "Epoch 9/200\n",
            "74/74 [==============================] - 50s 674ms/step - loss: 0.8062 - accuracy: 0.7436 - val_loss: 0.7714 - val_accuracy: 0.7328\n",
            "Epoch 10/200\n",
            "74/74 [==============================] - 50s 669ms/step - loss: 0.7183 - accuracy: 0.7546 - val_loss: 0.8055 - val_accuracy: 0.6870\n",
            "Epoch 11/200\n",
            "74/74 [==============================] - 50s 671ms/step - loss: 0.7235 - accuracy: 0.7694 - val_loss: 0.7600 - val_accuracy: 0.7363\n",
            "Epoch 12/200\n",
            "74/74 [==============================] - 49s 664ms/step - loss: 0.7175 - accuracy: 0.7634 - val_loss: 0.9174 - val_accuracy: 0.6831\n",
            "Epoch 13/200\n",
            "74/74 [==============================] - 49s 666ms/step - loss: 0.6970 - accuracy: 0.7712 - val_loss: 0.7994 - val_accuracy: 0.7200\n",
            "Epoch 14/200\n",
            "74/74 [==============================] - 49s 666ms/step - loss: 0.6661 - accuracy: 0.7827 - val_loss: 0.7423 - val_accuracy: 0.7325\n",
            "Epoch 15/200\n",
            "74/74 [==============================] - 48s 654ms/step - loss: 0.7698 - accuracy: 0.7503 - val_loss: 0.9337 - val_accuracy: 0.7344\n",
            "Epoch 16/200\n",
            "74/74 [==============================] - 49s 662ms/step - loss: 0.6748 - accuracy: 0.7959 - val_loss: 0.7761 - val_accuracy: 0.7683\n",
            "Epoch 17/200\n",
            "74/74 [==============================] - 49s 660ms/step - loss: 0.7031 - accuracy: 0.7786 - val_loss: 0.8236 - val_accuracy: 0.7501\n",
            "Epoch 18/200\n",
            "74/74 [==============================] - 49s 667ms/step - loss: 0.6187 - accuracy: 0.8054 - val_loss: 0.7077 - val_accuracy: 0.7808\n",
            "Epoch 19/200\n",
            "74/74 [==============================] - 49s 660ms/step - loss: 0.6956 - accuracy: 0.7917 - val_loss: 1.0526 - val_accuracy: 0.6937\n",
            "Epoch 20/200\n",
            "74/74 [==============================] - 49s 655ms/step - loss: 0.5843 - accuracy: 0.8191 - val_loss: 0.9727 - val_accuracy: 0.7017\n",
            "Epoch 21/200\n",
            "74/74 [==============================] - 49s 662ms/step - loss: 0.5887 - accuracy: 0.8136 - val_loss: 0.8223 - val_accuracy: 0.7494\n",
            "Epoch 22/200\n",
            "74/74 [==============================] - 48s 654ms/step - loss: 0.5905 - accuracy: 0.8157 - val_loss: 0.7816 - val_accuracy: 0.7504\n",
            "Epoch 23/200\n",
            "74/74 [==============================] - 49s 667ms/step - loss: 0.5793 - accuracy: 0.8157 - val_loss: 0.7583 - val_accuracy: 0.7715\n",
            "Epoch 24/200\n",
            "74/74 [==============================] - 49s 657ms/step - loss: 0.5864 - accuracy: 0.8147 - val_loss: 0.6493 - val_accuracy: 0.8049\n",
            "Epoch 25/200\n",
            "74/74 [==============================] - 49s 660ms/step - loss: 0.5529 - accuracy: 0.8233 - val_loss: 0.6812 - val_accuracy: 0.7860\n",
            "Epoch 26/200\n",
            "74/74 [==============================] - 49s 666ms/step - loss: 0.5375 - accuracy: 0.8263 - val_loss: 0.6061 - val_accuracy: 0.8138\n",
            "Epoch 27/200\n",
            "74/74 [==============================] - 49s 661ms/step - loss: 0.5183 - accuracy: 0.8320 - val_loss: 0.7172 - val_accuracy: 0.7895\n",
            "Epoch 28/200\n",
            "74/74 [==============================] - 49s 662ms/step - loss: 0.5875 - accuracy: 0.8257 - val_loss: 0.7113 - val_accuracy: 0.7863\n",
            "Epoch 29/200\n",
            "74/74 [==============================] - 49s 658ms/step - loss: 0.5294 - accuracy: 0.8310 - val_loss: 0.6562 - val_accuracy: 0.7831\n",
            "Epoch 30/200\n",
            "74/74 [==============================] - 49s 660ms/step - loss: 0.5054 - accuracy: 0.8390 - val_loss: 0.7838 - val_accuracy: 0.7824\n",
            "Epoch 31/200\n",
            "74/74 [==============================] - 49s 663ms/step - loss: 0.4996 - accuracy: 0.8424 - val_loss: 0.5699 - val_accuracy: 0.8251\n",
            "Epoch 32/200\n",
            "74/74 [==============================] - 49s 661ms/step - loss: 0.4485 - accuracy: 0.8569 - val_loss: 0.5852 - val_accuracy: 0.8135\n",
            "Epoch 33/200\n",
            "74/74 [==============================] - 49s 662ms/step - loss: 0.4200 - accuracy: 0.8709 - val_loss: 0.7020 - val_accuracy: 0.8045\n",
            "Epoch 34/200\n",
            "74/74 [==============================] - 49s 666ms/step - loss: 0.4347 - accuracy: 0.8667 - val_loss: 0.5718 - val_accuracy: 0.8190\n",
            "Epoch 35/200\n",
            "74/74 [==============================] - 49s 661ms/step - loss: 0.4319 - accuracy: 0.8716 - val_loss: 0.6764 - val_accuracy: 0.8017\n",
            "Epoch 36/200\n",
            "74/74 [==============================] - 49s 659ms/step - loss: 0.4299 - accuracy: 0.8699 - val_loss: 0.6778 - val_accuracy: 0.7981\n",
            "Epoch 37/200\n",
            "74/74 [==============================] - 49s 657ms/step - loss: 0.4042 - accuracy: 0.8753 - val_loss: 0.9585 - val_accuracy: 0.7129\n",
            "Epoch 38/200\n",
            "74/74 [==============================] - 49s 657ms/step - loss: 0.4126 - accuracy: 0.8741 - val_loss: 0.6752 - val_accuracy: 0.8039\n",
            "Epoch 39/200\n",
            "74/74 [==============================] - 49s 658ms/step - loss: 0.3941 - accuracy: 0.8733 - val_loss: 0.5727 - val_accuracy: 0.8235\n",
            "Epoch 40/200\n",
            "74/74 [==============================] - 49s 656ms/step - loss: 0.3858 - accuracy: 0.8787 - val_loss: 0.8263 - val_accuracy: 0.7546\n",
            "Epoch 41/200\n",
            "74/74 [==============================] - 49s 656ms/step - loss: 0.3855 - accuracy: 0.8802 - val_loss: 0.6578 - val_accuracy: 0.7927\n",
            "Epoch 42/200\n",
            "74/74 [==============================] - 49s 660ms/step - loss: 0.3826 - accuracy: 0.8843 - val_loss: 0.9044 - val_accuracy: 0.7437\n",
            "Epoch 43/200\n",
            "74/74 [==============================] - 49s 657ms/step - loss: 0.4033 - accuracy: 0.8734 - val_loss: 0.7220 - val_accuracy: 0.7661\n",
            "Epoch 44/200\n",
            "74/74 [==============================] - 49s 663ms/step - loss: 0.4636 - accuracy: 0.8614 - val_loss: 0.5607 - val_accuracy: 0.8247\n",
            "Epoch 45/200\n",
            "74/74 [==============================] - 49s 658ms/step - loss: 0.3984 - accuracy: 0.8772 - val_loss: 0.6727 - val_accuracy: 0.7808\n",
            "Epoch 46/200\n",
            "74/74 [==============================] - 49s 655ms/step - loss: 0.3661 - accuracy: 0.8794 - val_loss: 0.5262 - val_accuracy: 0.8257\n",
            "Epoch 47/200\n",
            "74/74 [==============================] - 49s 659ms/step - loss: 0.3409 - accuracy: 0.8916 - val_loss: 0.7420 - val_accuracy: 0.7760\n",
            "Epoch 48/200\n",
            "74/74 [==============================] - 49s 654ms/step - loss: 0.3347 - accuracy: 0.8975 - val_loss: 0.8322 - val_accuracy: 0.7764\n",
            "Epoch 49/200\n",
            "74/74 [==============================] - 49s 663ms/step - loss: 0.3512 - accuracy: 0.8929 - val_loss: 0.8243 - val_accuracy: 0.7584\n",
            "Epoch 50/200\n",
            "74/74 [==============================] - 48s 653ms/step - loss: 0.3223 - accuracy: 0.8998 - val_loss: 0.8892 - val_accuracy: 0.7558\n",
            "Epoch 51/200\n",
            "74/74 [==============================] - 48s 650ms/step - loss: 0.3134 - accuracy: 0.9036 - val_loss: 0.7156 - val_accuracy: 0.7792\n",
            "Epoch 52/200\n",
            "74/74 [==============================] - 49s 657ms/step - loss: 0.3051 - accuracy: 0.9033 - val_loss: 0.9076 - val_accuracy: 0.7075\n",
            "Epoch 53/200\n",
            "74/74 [==============================] - 48s 655ms/step - loss: 0.3052 - accuracy: 0.9041 - val_loss: 0.7542 - val_accuracy: 0.7347\n",
            "Epoch 54/200\n",
            "74/74 [==============================] - 49s 665ms/step - loss: 0.3000 - accuracy: 0.9061 - val_loss: 1.1137 - val_accuracy: 0.6610\n",
            "Epoch 55/200\n",
            "74/74 [==============================] - 49s 659ms/step - loss: 0.3089 - accuracy: 0.9005 - val_loss: 1.1453 - val_accuracy: 0.6556\n",
            "Epoch 56/200\n",
            "74/74 [==============================] - 48s 648ms/step - loss: 0.3095 - accuracy: 0.9016 - val_loss: 0.7419 - val_accuracy: 0.7808\n",
            "Epoch 57/200\n",
            "74/74 [==============================] - 48s 648ms/step - loss: 0.3002 - accuracy: 0.9089 - val_loss: 0.9323 - val_accuracy: 0.7501\n",
            "Epoch 58/200\n",
            "74/74 [==============================] - 48s 647ms/step - loss: 0.2907 - accuracy: 0.9095 - val_loss: 0.8840 - val_accuracy: 0.7161\n",
            "Epoch 59/200\n",
            "74/74 [==============================] - 49s 663ms/step - loss: 0.2819 - accuracy: 0.9133 - val_loss: 1.0728 - val_accuracy: 0.6741\n",
            "Epoch 60/200\n",
            "74/74 [==============================] - 48s 652ms/step - loss: 0.2903 - accuracy: 0.9064 - val_loss: 1.2163 - val_accuracy: 0.6578\n",
            "Epoch 61/200\n",
            "74/74 [==============================] - 48s 648ms/step - loss: 0.3068 - accuracy: 0.9097 - val_loss: 0.7845 - val_accuracy: 0.7478\n",
            "Epoch 62/200\n",
            "74/74 [==============================] - 49s 656ms/step - loss: 0.2930 - accuracy: 0.9123 - val_loss: 0.9844 - val_accuracy: 0.7350\n",
            "Epoch 63/200\n",
            "74/74 [==============================] - 48s 647ms/step - loss: 0.2859 - accuracy: 0.9081 - val_loss: 0.8680 - val_accuracy: 0.7411\n",
            "Epoch 64/200\n",
            "74/74 [==============================] - 48s 643ms/step - loss: 0.2632 - accuracy: 0.9221 - val_loss: 0.8393 - val_accuracy: 0.7430\n",
            "Epoch 65/200\n",
            "74/74 [==============================] - 48s 648ms/step - loss: 0.2421 - accuracy: 0.9289 - val_loss: 0.8671 - val_accuracy: 0.7360\n",
            "Epoch 66/200\n",
            "74/74 [==============================] - 48s 648ms/step - loss: 0.2460 - accuracy: 0.9265 - val_loss: 0.9829 - val_accuracy: 0.7232\n",
            "Epoch 67/200\n",
            "74/74 [==============================] - 48s 652ms/step - loss: 0.2369 - accuracy: 0.9281 - val_loss: 0.9607 - val_accuracy: 0.7039\n",
            "Epoch 68/200\n",
            "74/74 [==============================] - 48s 646ms/step - loss: 0.2405 - accuracy: 0.9281 - val_loss: 1.1023 - val_accuracy: 0.7248\n",
            "Epoch 69/200\n",
            "74/74 [==============================] - 48s 651ms/step - loss: 0.2489 - accuracy: 0.9264 - val_loss: 1.0385 - val_accuracy: 0.6854\n",
            "Epoch 70/200\n",
            "74/74 [==============================] - 48s 654ms/step - loss: 0.2491 - accuracy: 0.9248 - val_loss: 0.9286 - val_accuracy: 0.7302\n",
            "Epoch 71/200\n",
            "74/74 [==============================] - 48s 647ms/step - loss: 0.2328 - accuracy: 0.9324 - val_loss: 0.8253 - val_accuracy: 0.7395\n",
            "Epoch 72/200\n",
            "74/74 [==============================] - 48s 649ms/step - loss: 0.2262 - accuracy: 0.9324 - val_loss: 0.6552 - val_accuracy: 0.7975\n",
            "Epoch 73/200\n",
            "74/74 [==============================] - 48s 650ms/step - loss: 0.2202 - accuracy: 0.9360 - val_loss: 0.6913 - val_accuracy: 0.8020\n",
            "Epoch 74/200\n",
            "74/74 [==============================] - 48s 649ms/step - loss: 0.2082 - accuracy: 0.9415 - val_loss: 0.7585 - val_accuracy: 0.7699\n",
            "Epoch 75/200\n",
            "74/74 [==============================] - 48s 647ms/step - loss: 0.2081 - accuracy: 0.9377 - val_loss: 0.5826 - val_accuracy: 0.8158\n",
            "Epoch 76/200\n",
            "74/74 [==============================] - 48s 648ms/step - loss: 0.1930 - accuracy: 0.9432 - val_loss: 0.6164 - val_accuracy: 0.8058\n",
            "Epoch 77/200\n",
            "74/74 [==============================] - 48s 647ms/step - loss: 0.2001 - accuracy: 0.9419 - val_loss: 0.5994 - val_accuracy: 0.7949\n",
            "Epoch 78/200\n",
            "74/74 [==============================] - 48s 643ms/step - loss: 0.1953 - accuracy: 0.9455 - val_loss: 0.6222 - val_accuracy: 0.8420\n",
            "Epoch 79/200\n",
            "74/74 [==============================] - 48s 651ms/step - loss: 0.1862 - accuracy: 0.9499 - val_loss: 0.7354 - val_accuracy: 0.7840\n",
            "Epoch 80/200\n",
            "74/74 [==============================] - 48s 644ms/step - loss: 0.1750 - accuracy: 0.9505 - val_loss: 0.7087 - val_accuracy: 0.7888\n",
            "Epoch 81/200\n",
            "74/74 [==============================] - 48s 650ms/step - loss: 0.1851 - accuracy: 0.9468 - val_loss: 0.6089 - val_accuracy: 0.8039\n",
            "Epoch 82/200\n",
            "74/74 [==============================] - 47s 639ms/step - loss: 0.2002 - accuracy: 0.9421 - val_loss: 0.6049 - val_accuracy: 0.8145\n",
            "Epoch 83/200\n",
            "74/74 [==============================] - 48s 644ms/step - loss: 0.2153 - accuracy: 0.9445 - val_loss: 0.6524 - val_accuracy: 0.8190\n",
            "Epoch 84/200\n",
            "74/74 [==============================] - 48s 642ms/step - loss: 0.2279 - accuracy: 0.9308 - val_loss: 0.8000 - val_accuracy: 0.7863\n",
            "Epoch 85/200\n",
            "74/74 [==============================] - 48s 647ms/step - loss: 0.1957 - accuracy: 0.9448 - val_loss: 0.5937 - val_accuracy: 0.8369\n",
            "Epoch 86/200\n",
            "74/74 [==============================] - 48s 643ms/step - loss: 0.1707 - accuracy: 0.9525 - val_loss: 0.6477 - val_accuracy: 0.8135\n",
            "Epoch 87/200\n",
            "74/74 [==============================] - 48s 643ms/step - loss: 0.1543 - accuracy: 0.9565 - val_loss: 0.5922 - val_accuracy: 0.8324\n",
            "Epoch 88/200\n",
            "74/74 [==============================] - 48s 646ms/step - loss: 0.1404 - accuracy: 0.9616 - val_loss: 0.4981 - val_accuracy: 0.8484\n",
            "Epoch 89/200\n",
            "74/74 [==============================] - 48s 642ms/step - loss: 0.1518 - accuracy: 0.9582 - val_loss: 0.6277 - val_accuracy: 0.8260\n",
            "Epoch 90/200\n",
            "74/74 [==============================] - 48s 646ms/step - loss: 0.1445 - accuracy: 0.9602 - val_loss: 0.5278 - val_accuracy: 0.8340\n",
            "Epoch 91/200\n",
            "74/74 [==============================] - 48s 649ms/step - loss: 0.1573 - accuracy: 0.9546 - val_loss: 0.5044 - val_accuracy: 0.8500\n",
            "Epoch 92/200\n",
            "74/74 [==============================] - 48s 644ms/step - loss: 0.1425 - accuracy: 0.9619 - val_loss: 0.5233 - val_accuracy: 0.8408\n",
            "Epoch 93/200\n",
            "74/74 [==============================] - 47s 640ms/step - loss: 0.1283 - accuracy: 0.9649 - val_loss: 0.4445 - val_accuracy: 0.8805\n",
            "Epoch 94/200\n",
            "74/74 [==============================] - 48s 650ms/step - loss: 0.1250 - accuracy: 0.9664 - val_loss: 0.4417 - val_accuracy: 0.8741\n",
            "Epoch 95/200\n",
            "74/74 [==============================] - 48s 650ms/step - loss: 0.1218 - accuracy: 0.9679 - val_loss: 0.5128 - val_accuracy: 0.8392\n",
            "Epoch 96/200\n",
            "74/74 [==============================] - 48s 643ms/step - loss: 0.1327 - accuracy: 0.9632 - val_loss: 0.5402 - val_accuracy: 0.8430\n",
            "Epoch 97/200\n",
            "74/74 [==============================] - 48s 648ms/step - loss: 0.1244 - accuracy: 0.9674 - val_loss: 0.5580 - val_accuracy: 0.8757\n",
            "Epoch 98/200\n",
            "74/74 [==============================] - 48s 651ms/step - loss: 0.1656 - accuracy: 0.9515 - val_loss: 0.9046 - val_accuracy: 0.7738\n",
            "Epoch 99/200\n",
            "74/74 [==============================] - 48s 647ms/step - loss: 0.1391 - accuracy: 0.9591 - val_loss: 0.7329 - val_accuracy: 0.7767\n",
            "Epoch 100/200\n",
            "74/74 [==============================] - 48s 654ms/step - loss: 0.1472 - accuracy: 0.9583 - val_loss: 0.5176 - val_accuracy: 0.8533\n",
            "Epoch 101/200\n",
            "74/74 [==============================] - 48s 653ms/step - loss: 0.1478 - accuracy: 0.9583 - val_loss: 0.7200 - val_accuracy: 0.7994\n",
            "Epoch 102/200\n",
            "74/74 [==============================] - 48s 652ms/step - loss: 0.1742 - accuracy: 0.9463 - val_loss: 0.5688 - val_accuracy: 0.8289\n",
            "Epoch 103/200\n",
            "74/74 [==============================] - 49s 656ms/step - loss: 0.1274 - accuracy: 0.9657 - val_loss: 0.5693 - val_accuracy: 0.8398\n",
            "Epoch 104/200\n",
            "74/74 [==============================] - 48s 647ms/step - loss: 0.2004 - accuracy: 0.9430 - val_loss: 0.4162 - val_accuracy: 0.8837\n",
            "Epoch 105/200\n",
            "74/74 [==============================] - 48s 651ms/step - loss: 0.1861 - accuracy: 0.9495 - val_loss: 0.6043 - val_accuracy: 0.8440\n",
            "Epoch 106/200\n",
            "74/74 [==============================] - 48s 651ms/step - loss: 0.1582 - accuracy: 0.9558 - val_loss: 0.4352 - val_accuracy: 0.8549\n",
            "Epoch 107/200\n",
            "74/74 [==============================] - 48s 652ms/step - loss: 0.1287 - accuracy: 0.9626 - val_loss: 0.3940 - val_accuracy: 0.8808\n",
            "Epoch 108/200\n",
            "74/74 [==============================] - 48s 653ms/step - loss: 0.1193 - accuracy: 0.9688 - val_loss: 0.4476 - val_accuracy: 0.8744\n",
            "Epoch 109/200\n",
            "74/74 [==============================] - 48s 647ms/step - loss: 0.1061 - accuracy: 0.9693 - val_loss: 0.4054 - val_accuracy: 0.8779\n",
            "Epoch 110/200\n",
            "74/74 [==============================] - 50s 671ms/step - loss: 0.1112 - accuracy: 0.9697 - val_loss: 0.4733 - val_accuracy: 0.8645\n",
            "Epoch 111/200\n",
            "74/74 [==============================] - 48s 648ms/step - loss: 0.1144 - accuracy: 0.9678 - val_loss: 0.4172 - val_accuracy: 0.8879\n",
            "Epoch 112/200\n",
            "74/74 [==============================] - 48s 652ms/step - loss: 0.1118 - accuracy: 0.9694 - val_loss: 0.4309 - val_accuracy: 0.8863\n",
            "Epoch 113/200\n",
            "74/74 [==============================] - 48s 654ms/step - loss: 0.1567 - accuracy: 0.9530 - val_loss: 0.5095 - val_accuracy: 0.8529\n",
            "Epoch 114/200\n",
            "74/74 [==============================] - 48s 647ms/step - loss: 0.1448 - accuracy: 0.9560 - val_loss: 0.5203 - val_accuracy: 0.8661\n",
            "Epoch 115/200\n",
            "74/74 [==============================] - 48s 649ms/step - loss: 0.1132 - accuracy: 0.9684 - val_loss: 0.4520 - val_accuracy: 0.8635\n",
            "Epoch 116/200\n",
            "74/74 [==============================] - 48s 649ms/step - loss: 0.1077 - accuracy: 0.9707 - val_loss: 0.4835 - val_accuracy: 0.8686\n",
            "Epoch 117/200\n",
            "74/74 [==============================] - 48s 646ms/step - loss: 0.1047 - accuracy: 0.9686 - val_loss: 0.4801 - val_accuracy: 0.8677\n",
            "Epoch 118/200\n",
            "74/74 [==============================] - 48s 650ms/step - loss: 0.0885 - accuracy: 0.9766 - val_loss: 0.4364 - val_accuracy: 0.8901\n",
            "Epoch 119/200\n",
            "74/74 [==============================] - 48s 647ms/step - loss: 0.0883 - accuracy: 0.9764 - val_loss: 0.4245 - val_accuracy: 0.8782\n",
            "Epoch 120/200\n",
            "74/74 [==============================] - 49s 659ms/step - loss: 0.0798 - accuracy: 0.9798 - val_loss: 0.4405 - val_accuracy: 0.8882\n",
            "Epoch 121/200\n",
            "74/74 [==============================] - 48s 652ms/step - loss: 0.0858 - accuracy: 0.9773 - val_loss: 0.3850 - val_accuracy: 0.8837\n",
            "Epoch 122/200\n",
            "74/74 [==============================] - 48s 647ms/step - loss: 0.0776 - accuracy: 0.9785 - val_loss: 0.5233 - val_accuracy: 0.8670\n",
            "Epoch 123/200\n",
            "74/74 [==============================] - 48s 647ms/step - loss: 0.0749 - accuracy: 0.9783 - val_loss: 0.5088 - val_accuracy: 0.8693\n",
            "Epoch 124/200\n",
            "74/74 [==============================] - 48s 640ms/step - loss: 0.0781 - accuracy: 0.9767 - val_loss: 0.4602 - val_accuracy: 0.8776\n",
            "Epoch 125/200\n",
            "74/74 [==============================] - 48s 648ms/step - loss: 0.0745 - accuracy: 0.9806 - val_loss: 0.4732 - val_accuracy: 0.8747\n",
            "Epoch 126/200\n",
            "74/74 [==============================] - 47s 638ms/step - loss: 0.0860 - accuracy: 0.9766 - val_loss: 0.6781 - val_accuracy: 0.8094\n",
            "Epoch 127/200\n",
            "74/74 [==============================] - 48s 642ms/step - loss: 0.1135 - accuracy: 0.9634 - val_loss: 0.5506 - val_accuracy: 0.8680\n",
            "Epoch 128/200\n",
            "74/74 [==============================] - 48s 646ms/step - loss: 0.1137 - accuracy: 0.9679 - val_loss: 0.6075 - val_accuracy: 0.8690\n",
            "Epoch 129/200\n",
            "74/74 [==============================] - 48s 650ms/step - loss: 0.1198 - accuracy: 0.9664 - val_loss: 0.4756 - val_accuracy: 0.8770\n",
            "Epoch 130/200\n",
            "74/74 [==============================] - 49s 660ms/step - loss: 0.0979 - accuracy: 0.9735 - val_loss: 0.4529 - val_accuracy: 0.8760\n",
            "Epoch 131/200\n",
            "74/74 [==============================] - 50s 669ms/step - loss: 0.0936 - accuracy: 0.9735 - val_loss: 0.5414 - val_accuracy: 0.8885\n",
            "Epoch 132/200\n",
            "74/74 [==============================] - 49s 665ms/step - loss: 0.0920 - accuracy: 0.9717 - val_loss: 0.4942 - val_accuracy: 0.8843\n",
            "Epoch 133/200\n",
            "74/74 [==============================] - 49s 654ms/step - loss: 0.0828 - accuracy: 0.9766 - val_loss: 0.3861 - val_accuracy: 0.8994\n",
            "Epoch 134/200\n",
            "74/74 [==============================] - 48s 652ms/step - loss: 0.0687 - accuracy: 0.9812 - val_loss: 0.4724 - val_accuracy: 0.8837\n",
            "Epoch 135/200\n",
            "74/74 [==============================] - 49s 656ms/step - loss: 0.0623 - accuracy: 0.9831 - val_loss: 0.4202 - val_accuracy: 0.8930\n",
            "Epoch 136/200\n",
            "74/74 [==============================] - 48s 653ms/step - loss: 0.0614 - accuracy: 0.9835 - val_loss: 0.6324 - val_accuracy: 0.8613\n",
            "Epoch 137/200\n",
            "74/74 [==============================] - 48s 648ms/step - loss: 0.1128 - accuracy: 0.9666 - val_loss: 0.5986 - val_accuracy: 0.8488\n",
            "Epoch 138/200\n",
            "74/74 [==============================] - 49s 657ms/step - loss: 0.1323 - accuracy: 0.9630 - val_loss: 0.5569 - val_accuracy: 0.8712\n",
            "Epoch 139/200\n",
            "74/74 [==============================] - 49s 654ms/step - loss: 0.0929 - accuracy: 0.9740 - val_loss: 0.4221 - val_accuracy: 0.8872\n",
            "Epoch 140/200\n",
            "74/74 [==============================] - 48s 647ms/step - loss: 0.0753 - accuracy: 0.9784 - val_loss: 0.3931 - val_accuracy: 0.8991\n",
            "Epoch 141/200\n",
            "74/74 [==============================] - 48s 645ms/step - loss: 0.0657 - accuracy: 0.9816 - val_loss: 0.4407 - val_accuracy: 0.8946\n",
            "Epoch 142/200\n",
            "74/74 [==============================] - 48s 644ms/step - loss: 0.0618 - accuracy: 0.9827 - val_loss: 0.4183 - val_accuracy: 0.8872\n",
            "Epoch 143/200\n",
            "74/74 [==============================] - 47s 639ms/step - loss: 0.0600 - accuracy: 0.9818 - val_loss: 0.7604 - val_accuracy: 0.8260\n",
            "Epoch 144/200\n",
            "74/74 [==============================] - 48s 650ms/step - loss: 0.1679 - accuracy: 0.9567 - val_loss: 0.8723 - val_accuracy: 0.7978\n",
            "Epoch 145/200\n",
            "74/74 [==============================] - 48s 647ms/step - loss: 0.1549 - accuracy: 0.9580 - val_loss: 0.6301 - val_accuracy: 0.8494\n",
            "Epoch 146/200\n",
            "74/74 [==============================] - 47s 640ms/step - loss: 0.1320 - accuracy: 0.9642 - val_loss: 0.6269 - val_accuracy: 0.8436\n",
            "Epoch 147/200\n",
            "74/74 [==============================] - 48s 652ms/step - loss: 0.0954 - accuracy: 0.9755 - val_loss: 0.4756 - val_accuracy: 0.8661\n",
            "Epoch 148/200\n",
            "74/74 [==============================] - 47s 640ms/step - loss: 0.0801 - accuracy: 0.9783 - val_loss: 0.4855 - val_accuracy: 0.8811\n",
            "Epoch 149/200\n",
            "74/74 [==============================] - 48s 647ms/step - loss: 0.0652 - accuracy: 0.9825 - val_loss: 0.4793 - val_accuracy: 0.8747\n",
            "Epoch 150/200\n",
            "74/74 [==============================] - 48s 641ms/step - loss: 0.0611 - accuracy: 0.9811 - val_loss: 0.4191 - val_accuracy: 0.8991\n",
            "Epoch 151/200\n",
            "74/74 [==============================] - 48s 641ms/step - loss: 0.0585 - accuracy: 0.9826 - val_loss: 0.3933 - val_accuracy: 0.8991\n",
            "Epoch 152/200\n",
            "74/74 [==============================] - 48s 644ms/step - loss: 0.0544 - accuracy: 0.9850 - val_loss: 0.4502 - val_accuracy: 0.8949\n",
            "Epoch 153/200\n",
            "74/74 [==============================] - 48s 649ms/step - loss: 0.0487 - accuracy: 0.9862 - val_loss: 0.5116 - val_accuracy: 0.8667\n",
            "Epoch 154/200\n",
            "74/74 [==============================] - 48s 652ms/step - loss: 0.0513 - accuracy: 0.9868 - val_loss: 0.4735 - val_accuracy: 0.8904\n",
            "Epoch 155/200\n",
            "74/74 [==============================] - 48s 645ms/step - loss: 0.0425 - accuracy: 0.9886 - val_loss: 0.4887 - val_accuracy: 0.8824\n",
            "Epoch 156/200\n",
            "74/74 [==============================] - 48s 644ms/step - loss: 0.0397 - accuracy: 0.9898 - val_loss: 0.4532 - val_accuracy: 0.8955\n",
            "Epoch 157/200\n",
            "74/74 [==============================] - 47s 639ms/step - loss: 0.0480 - accuracy: 0.9863 - val_loss: 0.5987 - val_accuracy: 0.8494\n",
            "Epoch 158/200\n",
            "74/74 [==============================] - 47s 639ms/step - loss: 0.0496 - accuracy: 0.9868 - val_loss: 0.5789 - val_accuracy: 0.8789\n",
            "Epoch 159/200\n",
            "74/74 [==============================] - 48s 647ms/step - loss: 0.0392 - accuracy: 0.9891 - val_loss: 0.5089 - val_accuracy: 0.8741\n",
            "Epoch 160/200\n",
            "74/74 [==============================] - 48s 646ms/step - loss: 0.0430 - accuracy: 0.9873 - val_loss: 0.5224 - val_accuracy: 0.8888\n",
            "Epoch 161/200\n",
            "74/74 [==============================] - 48s 644ms/step - loss: 0.0412 - accuracy: 0.9887 - val_loss: 0.4567 - val_accuracy: 0.8978\n",
            "Epoch 162/200\n",
            "74/74 [==============================] - 49s 656ms/step - loss: 0.0453 - accuracy: 0.9887 - val_loss: 0.5666 - val_accuracy: 0.8853\n",
            "Epoch 163/200\n",
            "74/74 [==============================] - 48s 647ms/step - loss: 0.0515 - accuracy: 0.9843 - val_loss: 0.4792 - val_accuracy: 0.8914\n",
            "Epoch 164/200\n",
            "74/74 [==============================] - 47s 634ms/step - loss: 0.0592 - accuracy: 0.9826 - val_loss: 0.4561 - val_accuracy: 0.8879\n",
            "Epoch 165/200\n",
            "74/74 [==============================] - 48s 643ms/step - loss: 0.0535 - accuracy: 0.9847 - val_loss: 0.5244 - val_accuracy: 0.8757\n",
            "Epoch 166/200\n",
            "74/74 [==============================] - 48s 643ms/step - loss: 0.0576 - accuracy: 0.9836 - val_loss: 0.5847 - val_accuracy: 0.8674\n",
            "Epoch 167/200\n",
            "74/74 [==============================] - 48s 649ms/step - loss: 0.0692 - accuracy: 0.9782 - val_loss: 0.5586 - val_accuracy: 0.8901\n",
            "Epoch 168/200\n",
            "74/74 [==============================] - 47s 641ms/step - loss: 0.0560 - accuracy: 0.9825 - val_loss: 0.4666 - val_accuracy: 0.8875\n",
            "Epoch 169/200\n",
            "74/74 [==============================] - 49s 656ms/step - loss: 0.0416 - accuracy: 0.9884 - val_loss: 0.4512 - val_accuracy: 0.8927\n",
            "Epoch 170/200\n",
            "74/74 [==============================] - 48s 647ms/step - loss: 0.0425 - accuracy: 0.9877 - val_loss: 0.5508 - val_accuracy: 0.8690\n",
            "Epoch 171/200\n",
            "74/74 [==============================] - 48s 645ms/step - loss: 0.0390 - accuracy: 0.9895 - val_loss: 0.4778 - val_accuracy: 0.8895\n",
            "Epoch 172/200\n",
            "74/74 [==============================] - 48s 642ms/step - loss: 0.0275 - accuracy: 0.9926 - val_loss: 0.4800 - val_accuracy: 0.8885\n",
            "Epoch 173/200\n",
            "74/74 [==============================] - 48s 641ms/step - loss: 0.0285 - accuracy: 0.9930 - val_loss: 0.6369 - val_accuracy: 0.8558\n",
            "Epoch 174/200\n",
            "74/74 [==============================] - 48s 643ms/step - loss: 0.0767 - accuracy: 0.9786 - val_loss: 1.1041 - val_accuracy: 0.7600\n",
            "Epoch 175/200\n",
            "74/74 [==============================] - 48s 644ms/step - loss: 0.1764 - accuracy: 0.9513 - val_loss: 0.7619 - val_accuracy: 0.8664\n",
            "Epoch 176/200\n",
            "74/74 [==============================] - 48s 650ms/step - loss: 0.2125 - accuracy: 0.9417 - val_loss: 0.7143 - val_accuracy: 0.8372\n",
            "Epoch 177/200\n",
            "74/74 [==============================] - 48s 644ms/step - loss: 0.1546 - accuracy: 0.9557 - val_loss: 0.4363 - val_accuracy: 0.8709\n",
            "Epoch 178/200\n",
            "74/74 [==============================] - 48s 653ms/step - loss: 0.1056 - accuracy: 0.9663 - val_loss: 0.3514 - val_accuracy: 0.9061\n",
            "Epoch 179/200\n",
            "74/74 [==============================] - 48s 642ms/step - loss: 0.0582 - accuracy: 0.9842 - val_loss: 0.3460 - val_accuracy: 0.9109\n",
            "Epoch 180/200\n",
            "74/74 [==============================] - 48s 646ms/step - loss: 0.0464 - accuracy: 0.9875 - val_loss: 0.3944 - val_accuracy: 0.8981\n",
            "Epoch 181/200\n",
            "74/74 [==============================] - 48s 644ms/step - loss: 0.0393 - accuracy: 0.9895 - val_loss: 0.4121 - val_accuracy: 0.8975\n",
            "Epoch 182/200\n",
            "74/74 [==============================] - 48s 644ms/step - loss: 0.0322 - accuracy: 0.9914 - val_loss: 0.4318 - val_accuracy: 0.8917\n",
            "Epoch 183/200\n",
            "74/74 [==============================] - 48s 650ms/step - loss: 0.0343 - accuracy: 0.9912 - val_loss: 0.4254 - val_accuracy: 0.9045\n",
            "Epoch 184/200\n",
            "74/74 [==============================] - 48s 651ms/step - loss: 0.0307 - accuracy: 0.9927 - val_loss: 0.4338 - val_accuracy: 0.9064\n",
            "Epoch 185/200\n",
            "74/74 [==============================] - 48s 647ms/step - loss: 0.0275 - accuracy: 0.9924 - val_loss: 0.4531 - val_accuracy: 0.8981\n",
            "Epoch 186/200\n",
            "74/74 [==============================] - 48s 645ms/step - loss: 0.0254 - accuracy: 0.9924 - val_loss: 0.4755 - val_accuracy: 0.9007\n",
            "Epoch 187/200\n",
            "74/74 [==============================] - 48s 649ms/step - loss: 0.0213 - accuracy: 0.9951 - val_loss: 0.4897 - val_accuracy: 0.8991\n",
            "Epoch 188/200\n",
            "74/74 [==============================] - 47s 638ms/step - loss: 0.0214 - accuracy: 0.9942 - val_loss: 0.4869 - val_accuracy: 0.8988\n",
            "Epoch 189/200\n",
            "74/74 [==============================] - 48s 641ms/step - loss: 0.0294 - accuracy: 0.9918 - val_loss: 0.4760 - val_accuracy: 0.9055\n",
            "Epoch 190/200\n",
            "74/74 [==============================] - 48s 642ms/step - loss: 0.0367 - accuracy: 0.9888 - val_loss: 0.4925 - val_accuracy: 0.9036\n",
            "Epoch 191/200\n",
            "74/74 [==============================] - 49s 660ms/step - loss: 0.0306 - accuracy: 0.9923 - val_loss: 0.8384 - val_accuracy: 0.8337\n",
            "Epoch 192/200\n",
            "74/74 [==============================] - 48s 648ms/step - loss: 0.1070 - accuracy: 0.9723 - val_loss: 0.7922 - val_accuracy: 0.8440\n",
            "Epoch 193/200\n",
            "74/74 [==============================] - 47s 636ms/step - loss: 0.1301 - accuracy: 0.9653 - val_loss: 0.5674 - val_accuracy: 0.8792\n",
            "Epoch 194/200\n",
            "74/74 [==============================] - 48s 641ms/step - loss: 0.0865 - accuracy: 0.9729 - val_loss: 0.6364 - val_accuracy: 0.8507\n",
            "Epoch 195/200\n",
            "74/74 [==============================] - 47s 640ms/step - loss: 0.0786 - accuracy: 0.9751 - val_loss: 0.6613 - val_accuracy: 0.8638\n",
            "Epoch 196/200\n",
            "74/74 [==============================] - 48s 645ms/step - loss: 0.0568 - accuracy: 0.9849 - val_loss: 0.4763 - val_accuracy: 0.8757\n",
            "Epoch 197/200\n",
            "74/74 [==============================] - 48s 643ms/step - loss: 0.0511 - accuracy: 0.9855 - val_loss: 0.5252 - val_accuracy: 0.8798\n",
            "Epoch 198/200\n",
            "74/74 [==============================] - 48s 646ms/step - loss: 0.0362 - accuracy: 0.9897 - val_loss: 0.4536 - val_accuracy: 0.8920\n",
            "Epoch 199/200\n",
            "74/74 [==============================] - 48s 643ms/step - loss: 0.0294 - accuracy: 0.9915 - val_loss: 0.4905 - val_accuracy: 0.8853\n",
            "Epoch 200/200\n",
            "74/74 [==============================] - 48s 648ms/step - loss: 0.0264 - accuracy: 0.9929 - val_loss: 0.5025 - val_accuracy: 0.8991\n"
          ],
          "name": "stdout"
        }
      ]
    },
    {
      "cell_type": "code",
      "metadata": {
        "id": "hC-ZjUdNmclX"
      },
      "source": [
        ""
      ],
      "execution_count": null,
      "outputs": []
    },
    {
      "cell_type": "code",
      "metadata": {
        "id": "rNQBCCeEai-b"
      },
      "source": [
        "b_model = tf.keras.models.load_model('best_model_n3_bid.h5')"
      ],
      "execution_count": null,
      "outputs": []
    },
    {
      "cell_type": "code",
      "metadata": {
        "colab": {
          "base_uri": "https://localhost:8080/"
        },
        "id": "tFS0YeeitDAu",
        "outputId": "75271858-7162-4e59-e58a-e156f44359ed"
      },
      "source": [
        "b_model.evaluate(test_f, test_l)"
      ],
      "execution_count": null,
      "outputs": [
        {
          "output_type": "stream",
          "text": [
            "98/98 [==============================] - 7s 62ms/step - loss: 0.3460 - accuracy: 0.9109\n"
          ],
          "name": "stdout"
        },
        {
          "output_type": "execute_result",
          "data": {
            "text/plain": [
              "[0.3460378050804138, 0.9109259843826294]"
            ]
          },
          "metadata": {
            "tags": []
          },
          "execution_count": 42
        }
      ]
    },
    {
      "cell_type": "code",
      "metadata": {
        "colab": {
          "base_uri": "https://localhost:8080/",
          "height": 338
        },
        "id": "QPnxqxJy3bZ4",
        "outputId": "b2a6f97d-37a5-49c5-87b4-a97d56f39460"
      },
      "source": [
        "import matplotlib.pyplot as plt\n",
        "m_acc = history.history['accuracy']\n",
        "fig, ax = plt.subplots(figsize = (15,5))\n",
        "ax.plot(m_acc, color = 'r')\n",
        "ax.plot(history.history['val_accuracy'], color = 'b')\n",
        "# plt.legend()"
      ],
      "execution_count": null,
      "outputs": [
        {
          "output_type": "execute_result",
          "data": {
            "text/plain": [
              "[<matplotlib.lines.Line2D at 0x7f645c18c5d0>]"
            ]
          },
          "metadata": {
            "tags": []
          },
          "execution_count": 43
        },
        {
          "output_type": "display_data",
          "data": {
            "image/png": "[encoded data removed]",
            "text/plain": [
              "<Figure size 1080x360 with 1 Axes>"
            ]
          },
          "metadata": {
            "tags": [],
            "needs_background": "light"
          }
        }
      ]
    },
    {
      "cell_type": "code",
      "metadata": {
        "colab": {
          "base_uri": "https://localhost:8080/",
          "height": 338
        },
        "id": "qcBbhHPt30Vb",
        "outputId": "98f6ce6f-de12-4cdc-d3ae-d431097189a1"
      },
      "source": [
        "loss = history.history['loss']\n",
        "fig, ax = plt.subplots(figsize = (15,5))\n",
        "ax.plot(loss, color = 'r')\n",
        "ax.plot(history.history['val_loss'], color = 'b')"
      ],
      "execution_count": null,
      "outputs": [
        {
          "output_type": "execute_result",
          "data": {
            "text/plain": [
              "[<matplotlib.lines.Line2D at 0x7f645c055cd0>]"
            ]
          },
          "metadata": {
            "tags": []
          },
          "execution_count": 44
        },
        {
          "output_type": "display_data",
          "data": {
            "image/png": "[encoded data removed]",
            "text/plain": [
              "<Figure size 1080x360 with 1 Axes>"
            ]
          },
          "metadata": {
            "tags": [],
            "needs_background": "light"
          }
        }
      ]
    },
    {
      "cell_type": "code",
      "metadata": {
        "id": "ZDGhWwCR31GI"
      },
      "source": [
        "# # adding globel average pooling to the model\n",
        "# codding lstm layers and cnn\n",
        "model_si_bi = tf.keras.models.Sequential([\n",
        "  tf.keras.layers.Lambda(lambda x: x,\n",
        "                      input_shape=[128, 3]),\n",
        "  tf.keras.layers.Bidirectional(tf.keras.layers.RNN(tf.keras.layers.LSTMCell(32), return_sequences=True)),\n",
        "  # tf.keras.layers.Bidirectional(tf.keras.layers.RNN(tf.keras.layers.LSTMCell(32), return_sequences=True)),\n",
        "  # tf.keras.layers.Bidirectional(tf.keras.layers.LSTM(32, return_sequences=True)),\n",
        "  # tf.keras.layers.SpatialDropout1D(0.2),\n",
        "  # tf.keras.layers.Lambda(lambda x: tf.expand_dims(x, axis=-1)),\n",
        "  # tf.keras.layers.Reshape((128,64,1)),\n",
        "  # tf.keras.layers.Dropout(0.4),\n",
        "  tf.keras.layers.Conv1D(64,5,strides=2),\n",
        "  tf.keras.layers.MaxPooling1D(2, strides = 2),\n",
        "  tf.keras.layers.Dropout(.4),\n",
        "  tf.keras.layers.Conv1D(128,3,strides=1),  \n",
        "  # tf.keras.layers.MaxPooling2D((2, 2), strides = (2,2)),\n",
        "  # tf.keras.layers.Lambda(lambda x: tf.expand_dims(x, axis=-1)),\n",
        "  # parameters ?\n",
        "  tf.keras.layers.GlobalAveragePooling1D(),\n",
        "  tf.keras.layers.BatchNormalization(),\n",
        "  tf.keras.layers.Dense(6, activation='softmax')\n",
        "  \n",
        "])"
      ],
      "execution_count": null,
      "outputs": []
    },
    {
      "cell_type": "code",
      "metadata": {
        "id": "-mPOyroev-j9"
      },
      "source": [
        "from tensorflow.keras.callbacks import ModelCheckpoint\n",
        "save = ModelCheckpoint('best_model_n3_si_bid.h5', save_best_only = True)"
      ],
      "execution_count": null,
      "outputs": []
    },
    {
      "cell_type": "code",
      "metadata": {
        "colab": {
          "base_uri": "https://localhost:8080/"
        },
        "id": "FFxgxaGLwEYc",
        "outputId": "38983026-2dda-4b35-e10b-7211034a352d"
      },
      "source": [
        "\n",
        "optimizer = tf.keras.optimizers.Adam(0.001)\n",
        "model_si_bi.compile(loss=\"categorical_crossentropy\", optimizer=optimizer, metrics = ['accuracy'])\n",
        "\n",
        "history = model_si_bi.fit(train_windowed,validation_data=(test_f, test_l), epochs=200,callbacks=[save], verbose=1, batch_size=192) "
      ],
      "execution_count": null,
      "outputs": [
        {
          "output_type": "stream",
          "text": [
            "Epoch 1/200\n",
            "74/74 [==============================] - 29s 363ms/step - loss: 1.3949 - accuracy: 0.6159 - val_loss: 1.5978 - val_accuracy: 0.3896\n",
            "Epoch 2/200\n",
            "74/74 [==============================] - 26s 351ms/step - loss: 1.0974 - accuracy: 0.6630 - val_loss: 1.3275 - val_accuracy: 0.5066\n",
            "Epoch 3/200\n",
            "74/74 [==============================] - 26s 351ms/step - loss: 0.9711 - accuracy: 0.6971 - val_loss: 1.1323 - val_accuracy: 0.6389\n",
            "Epoch 4/200\n",
            "74/74 [==============================] - 26s 354ms/step - loss: 0.9380 - accuracy: 0.6979 - val_loss: 1.0820 - val_accuracy: 0.6562\n",
            "Epoch 5/200\n",
            "74/74 [==============================] - 26s 357ms/step - loss: 0.8956 - accuracy: 0.7152 - val_loss: 0.9780 - val_accuracy: 0.7200\n",
            "Epoch 6/200\n",
            "74/74 [==============================] - 26s 354ms/step - loss: 0.8511 - accuracy: 0.7240 - val_loss: 1.0051 - val_accuracy: 0.7139\n",
            "Epoch 7/200\n",
            "74/74 [==============================] - 27s 360ms/step - loss: 0.8292 - accuracy: 0.7367 - val_loss: 1.0540 - val_accuracy: 0.7110\n",
            "Epoch 8/200\n",
            "74/74 [==============================] - 27s 360ms/step - loss: 0.8178 - accuracy: 0.7348 - val_loss: 1.0999 - val_accuracy: 0.6863\n",
            "Epoch 9/200\n",
            "74/74 [==============================] - 26s 356ms/step - loss: 0.8024 - accuracy: 0.7403 - val_loss: 1.0789 - val_accuracy: 0.6966\n",
            "Epoch 10/200\n",
            "74/74 [==============================] - 27s 359ms/step - loss: 0.7996 - accuracy: 0.7394 - val_loss: 1.0447 - val_accuracy: 0.7091\n",
            "Epoch 11/200\n",
            "74/74 [==============================] - 26s 354ms/step - loss: 0.7792 - accuracy: 0.7541 - val_loss: 0.8904 - val_accuracy: 0.7084\n",
            "Epoch 12/200\n",
            "74/74 [==============================] - 27s 357ms/step - loss: 0.7259 - accuracy: 0.7637 - val_loss: 0.8832 - val_accuracy: 0.7011\n",
            "Epoch 13/200\n",
            "74/74 [==============================] - 27s 360ms/step - loss: 0.7094 - accuracy: 0.7669 - val_loss: 0.8051 - val_accuracy: 0.7196\n",
            "Epoch 14/200\n",
            "74/74 [==============================] - 27s 360ms/step - loss: 0.7020 - accuracy: 0.7759 - val_loss: 0.9745 - val_accuracy: 0.6725\n",
            "Epoch 15/200\n",
            "74/74 [==============================] - 27s 362ms/step - loss: 0.6635 - accuracy: 0.7804 - val_loss: 0.7998 - val_accuracy: 0.6825\n",
            "Epoch 16/200\n",
            "74/74 [==============================] - 27s 362ms/step - loss: 0.6768 - accuracy: 0.7828 - val_loss: 1.2552 - val_accuracy: 0.7267\n",
            "Epoch 17/200\n",
            "74/74 [==============================] - 27s 364ms/step - loss: 0.6405 - accuracy: 0.7955 - val_loss: 0.8141 - val_accuracy: 0.7020\n",
            "Epoch 18/200\n",
            "74/74 [==============================] - 26s 357ms/step - loss: 0.6405 - accuracy: 0.7964 - val_loss: 0.7436 - val_accuracy: 0.6972\n",
            "Epoch 19/200\n",
            "74/74 [==============================] - 27s 361ms/step - loss: 0.6066 - accuracy: 0.8122 - val_loss: 0.7441 - val_accuracy: 0.6921\n",
            "Epoch 20/200\n",
            "74/74 [==============================] - 27s 362ms/step - loss: 0.5857 - accuracy: 0.8133 - val_loss: 0.7406 - val_accuracy: 0.7190\n",
            "Epoch 21/200\n",
            "74/74 [==============================] - 27s 357ms/step - loss: 0.5423 - accuracy: 0.8262 - val_loss: 0.6487 - val_accuracy: 0.7696\n",
            "Epoch 22/200\n",
            "74/74 [==============================] - 26s 357ms/step - loss: 0.5393 - accuracy: 0.8328 - val_loss: 0.6713 - val_accuracy: 0.7533\n",
            "Epoch 23/200\n",
            "74/74 [==============================] - 26s 357ms/step - loss: 0.5072 - accuracy: 0.8426 - val_loss: 0.6022 - val_accuracy: 0.7988\n",
            "Epoch 24/200\n",
            "74/74 [==============================] - 27s 359ms/step - loss: 0.4851 - accuracy: 0.8506 - val_loss: 0.5972 - val_accuracy: 0.7844\n",
            "Epoch 25/200\n",
            "74/74 [==============================] - 27s 360ms/step - loss: 0.4836 - accuracy: 0.8544 - val_loss: 0.7458 - val_accuracy: 0.7930\n",
            "Epoch 26/200\n",
            "74/74 [==============================] - 27s 358ms/step - loss: 0.4419 - accuracy: 0.8653 - val_loss: 0.6025 - val_accuracy: 0.8225\n",
            "Epoch 27/200\n",
            "74/74 [==============================] - 27s 358ms/step - loss: 0.4279 - accuracy: 0.8709 - val_loss: 0.6348 - val_accuracy: 0.8151\n",
            "Epoch 28/200\n",
            "74/74 [==============================] - 27s 360ms/step - loss: 0.4113 - accuracy: 0.8710 - val_loss: 0.6623 - val_accuracy: 0.8164\n",
            "Epoch 29/200\n",
            "74/74 [==============================] - 27s 359ms/step - loss: 0.4115 - accuracy: 0.8788 - val_loss: 0.5654 - val_accuracy: 0.8225\n",
            "Epoch 30/200\n",
            "74/74 [==============================] - 27s 359ms/step - loss: 0.3903 - accuracy: 0.8771 - val_loss: 0.6990 - val_accuracy: 0.8110\n",
            "Epoch 31/200\n",
            "74/74 [==============================] - 27s 360ms/step - loss: 0.3791 - accuracy: 0.8834 - val_loss: 0.6027 - val_accuracy: 0.8174\n",
            "Epoch 32/200\n",
            "74/74 [==============================] - 27s 360ms/step - loss: 0.3685 - accuracy: 0.8830 - val_loss: 0.6341 - val_accuracy: 0.8241\n",
            "Epoch 33/200\n",
            "74/74 [==============================] - 26s 351ms/step - loss: 0.4024 - accuracy: 0.8758 - val_loss: 0.5795 - val_accuracy: 0.8292\n",
            "Epoch 34/200\n",
            "74/74 [==============================] - 26s 347ms/step - loss: 0.3685 - accuracy: 0.8876 - val_loss: 0.5632 - val_accuracy: 0.8360\n",
            "Epoch 35/200\n",
            "74/74 [==============================] - 26s 346ms/step - loss: 0.3642 - accuracy: 0.8842 - val_loss: 0.7643 - val_accuracy: 0.8148\n",
            "Epoch 36/200\n",
            "74/74 [==============================] - 26s 344ms/step - loss: 0.3365 - accuracy: 0.8962 - val_loss: 0.6685 - val_accuracy: 0.8215\n",
            "Epoch 37/200\n",
            "74/74 [==============================] - 26s 347ms/step - loss: 0.3428 - accuracy: 0.8934 - val_loss: 0.5463 - val_accuracy: 0.8305\n",
            "Epoch 38/200\n",
            "74/74 [==============================] - 26s 344ms/step - loss: 0.3331 - accuracy: 0.8996 - val_loss: 0.5700 - val_accuracy: 0.8286\n",
            "Epoch 39/200\n",
            "74/74 [==============================] - 26s 345ms/step - loss: 0.3078 - accuracy: 0.9050 - val_loss: 0.5698 - val_accuracy: 0.8311\n",
            "Epoch 40/200\n",
            "74/74 [==============================] - 26s 345ms/step - loss: 0.3113 - accuracy: 0.9026 - val_loss: 0.5157 - val_accuracy: 0.8491\n",
            "Epoch 41/200\n",
            "74/74 [==============================] - 25s 340ms/step - loss: 0.3006 - accuracy: 0.9048 - val_loss: 0.5836 - val_accuracy: 0.8401\n",
            "Epoch 42/200\n",
            "74/74 [==============================] - 25s 336ms/step - loss: 0.2986 - accuracy: 0.9109 - val_loss: 0.6102 - val_accuracy: 0.8151\n",
            "Epoch 43/200\n",
            "74/74 [==============================] - 26s 344ms/step - loss: 0.3112 - accuracy: 0.9019 - val_loss: 0.5399 - val_accuracy: 0.8459\n",
            "Epoch 44/200\n",
            "74/74 [==============================] - 26s 348ms/step - loss: 0.2784 - accuracy: 0.9152 - val_loss: 0.5724 - val_accuracy: 0.8254\n",
            "Epoch 45/200\n",
            "74/74 [==============================] - 26s 346ms/step - loss: 0.2785 - accuracy: 0.9145 - val_loss: 0.6085 - val_accuracy: 0.8327\n",
            "Epoch 46/200\n",
            "74/74 [==============================] - 26s 347ms/step - loss: 0.2740 - accuracy: 0.9186 - val_loss: 0.5068 - val_accuracy: 0.8513\n",
            "Epoch 47/200\n",
            "74/74 [==============================] - 25s 341ms/step - loss: 0.2909 - accuracy: 0.9129 - val_loss: 0.4712 - val_accuracy: 0.8545\n",
            "Epoch 48/200\n",
            "74/74 [==============================] - 25s 341ms/step - loss: 0.3028 - accuracy: 0.9079 - val_loss: 0.5710 - val_accuracy: 0.8379\n",
            "Epoch 49/200\n",
            "74/74 [==============================] - 25s 341ms/step - loss: 0.3042 - accuracy: 0.9152 - val_loss: 0.5820 - val_accuracy: 0.8177\n",
            "Epoch 50/200\n",
            "74/74 [==============================] - 25s 332ms/step - loss: 0.2883 - accuracy: 0.9106 - val_loss: 0.6268 - val_accuracy: 0.8225\n",
            "Epoch 51/200\n",
            "74/74 [==============================] - 25s 343ms/step - loss: 0.2841 - accuracy: 0.9156 - val_loss: 0.5176 - val_accuracy: 0.8334\n",
            "Epoch 52/200\n",
            "74/74 [==============================] - 25s 341ms/step - loss: 0.2636 - accuracy: 0.9215 - val_loss: 0.6040 - val_accuracy: 0.8186\n",
            "Epoch 53/200\n",
            "74/74 [==============================] - 25s 338ms/step - loss: 0.2706 - accuracy: 0.9163 - val_loss: 0.5242 - val_accuracy: 0.8283\n",
            "Epoch 54/200\n",
            "74/74 [==============================] - 25s 338ms/step - loss: 0.2528 - accuracy: 0.9260 - val_loss: 0.5868 - val_accuracy: 0.8225\n",
            "Epoch 55/200\n",
            "74/74 [==============================] - 25s 339ms/step - loss: 0.2395 - accuracy: 0.9291 - val_loss: 0.5507 - val_accuracy: 0.8295\n",
            "Epoch 56/200\n",
            "74/74 [==============================] - 25s 342ms/step - loss: 0.2375 - accuracy: 0.9347 - val_loss: 0.4967 - val_accuracy: 0.8456\n",
            "Epoch 57/200\n",
            "74/74 [==============================] - 25s 341ms/step - loss: 0.2546 - accuracy: 0.9291 - val_loss: 0.6021 - val_accuracy: 0.8087\n",
            "Epoch 58/200\n",
            "74/74 [==============================] - 25s 341ms/step - loss: 0.2802 - accuracy: 0.9162 - val_loss: 0.5186 - val_accuracy: 0.8382\n",
            "Epoch 59/200\n",
            "74/74 [==============================] - 25s 335ms/step - loss: 0.2509 - accuracy: 0.9264 - val_loss: 0.4480 - val_accuracy: 0.8606\n",
            "Epoch 60/200\n",
            "74/74 [==============================] - 25s 339ms/step - loss: 0.2432 - accuracy: 0.9283 - val_loss: 0.5626 - val_accuracy: 0.8417\n",
            "Epoch 61/200\n",
            "74/74 [==============================] - 25s 340ms/step - loss: 0.2301 - accuracy: 0.9319 - val_loss: 0.4328 - val_accuracy: 0.8587\n",
            "Epoch 62/200\n",
            "74/74 [==============================] - 25s 340ms/step - loss: 0.2276 - accuracy: 0.9337 - val_loss: 0.5402 - val_accuracy: 0.8385\n",
            "Epoch 63/200\n",
            "74/74 [==============================] - 26s 346ms/step - loss: 0.2147 - accuracy: 0.9393 - val_loss: 0.4620 - val_accuracy: 0.8587\n",
            "Epoch 64/200\n",
            "74/74 [==============================] - 25s 339ms/step - loss: 0.2536 - accuracy: 0.9202 - val_loss: 0.5266 - val_accuracy: 0.8356\n",
            "Epoch 65/200\n",
            "74/74 [==============================] - 25s 336ms/step - loss: 0.2251 - accuracy: 0.9326 - val_loss: 0.4679 - val_accuracy: 0.8452\n",
            "Epoch 66/200\n",
            "74/74 [==============================] - 25s 342ms/step - loss: 0.2155 - accuracy: 0.9357 - val_loss: 0.4544 - val_accuracy: 0.8597\n",
            "Epoch 67/200\n",
            "74/74 [==============================] - 26s 346ms/step - loss: 0.2043 - accuracy: 0.9448 - val_loss: 0.4552 - val_accuracy: 0.8433\n",
            "Epoch 68/200\n",
            "74/74 [==============================] - 25s 342ms/step - loss: 0.1961 - accuracy: 0.9439 - val_loss: 0.4713 - val_accuracy: 0.8507\n",
            "Epoch 69/200\n",
            "74/74 [==============================] - 26s 344ms/step - loss: 0.2089 - accuracy: 0.9419 - val_loss: 0.4358 - val_accuracy: 0.8533\n",
            "Epoch 70/200\n",
            "74/74 [==============================] - 25s 343ms/step - loss: 0.1932 - accuracy: 0.9466 - val_loss: 0.4704 - val_accuracy: 0.8331\n",
            "Epoch 71/200\n",
            "74/74 [==============================] - 25s 337ms/step - loss: 0.2072 - accuracy: 0.9436 - val_loss: 0.6241 - val_accuracy: 0.8315\n",
            "Epoch 72/200\n",
            "74/74 [==============================] - 25s 342ms/step - loss: 0.1948 - accuracy: 0.9473 - val_loss: 0.4095 - val_accuracy: 0.8709\n",
            "Epoch 73/200\n",
            "74/74 [==============================] - 25s 338ms/step - loss: 0.1888 - accuracy: 0.9495 - val_loss: 0.4556 - val_accuracy: 0.8459\n",
            "Epoch 74/200\n",
            "74/74 [==============================] - 25s 337ms/step - loss: 0.1832 - accuracy: 0.9509 - val_loss: 0.4922 - val_accuracy: 0.8510\n",
            "Epoch 75/200\n",
            "74/74 [==============================] - 25s 341ms/step - loss: 0.1834 - accuracy: 0.9517 - val_loss: 0.4153 - val_accuracy: 0.8690\n",
            "Epoch 76/200\n",
            "74/74 [==============================] - 25s 338ms/step - loss: 0.1807 - accuracy: 0.9516 - val_loss: 0.4311 - val_accuracy: 0.8789\n",
            "Epoch 77/200\n",
            "74/74 [==============================] - 25s 336ms/step - loss: 0.1812 - accuracy: 0.9522 - val_loss: 0.5755 - val_accuracy: 0.8199\n",
            "Epoch 78/200\n",
            "74/74 [==============================] - 25s 334ms/step - loss: 0.1773 - accuracy: 0.9511 - val_loss: 0.3980 - val_accuracy: 0.8802\n",
            "Epoch 79/200\n",
            "74/74 [==============================] - 25s 343ms/step - loss: 0.2254 - accuracy: 0.9333 - val_loss: 0.7721 - val_accuracy: 0.8039\n",
            "Epoch 80/200\n",
            "74/74 [==============================] - 27s 358ms/step - loss: 0.2713 - accuracy: 0.9259 - val_loss: 0.6215 - val_accuracy: 0.8295\n",
            "Epoch 81/200\n",
            "74/74 [==============================] - 26s 353ms/step - loss: 0.2243 - accuracy: 0.9367 - val_loss: 0.4443 - val_accuracy: 0.8600\n",
            "Epoch 82/200\n",
            "74/74 [==============================] - 25s 342ms/step - loss: 0.2044 - accuracy: 0.9424 - val_loss: 0.4792 - val_accuracy: 0.8558\n",
            "Epoch 83/200\n",
            "74/74 [==============================] - 26s 348ms/step - loss: 0.1855 - accuracy: 0.9501 - val_loss: 0.4751 - val_accuracy: 0.8545\n",
            "Epoch 84/200\n",
            "74/74 [==============================] - 26s 344ms/step - loss: 0.1767 - accuracy: 0.9521 - val_loss: 0.3988 - val_accuracy: 0.8763\n",
            "Epoch 85/200\n",
            "74/74 [==============================] - 25s 340ms/step - loss: 0.1739 - accuracy: 0.9551 - val_loss: 0.4080 - val_accuracy: 0.8747\n",
            "Epoch 86/200\n",
            "74/74 [==============================] - 25s 340ms/step - loss: 0.1676 - accuracy: 0.9549 - val_loss: 0.4172 - val_accuracy: 0.8702\n",
            "Epoch 87/200\n",
            "74/74 [==============================] - 26s 345ms/step - loss: 0.1699 - accuracy: 0.9531 - val_loss: 0.3929 - val_accuracy: 0.8763\n",
            "Epoch 88/200\n",
            "74/74 [==============================] - 25s 343ms/step - loss: 0.1791 - accuracy: 0.9549 - val_loss: 0.4281 - val_accuracy: 0.8741\n",
            "Epoch 89/200\n",
            "74/74 [==============================] - 26s 348ms/step - loss: 0.1693 - accuracy: 0.9545 - val_loss: 0.3764 - val_accuracy: 0.8667\n",
            "Epoch 90/200\n",
            "74/74 [==============================] - 26s 346ms/step - loss: 0.1511 - accuracy: 0.9598 - val_loss: 0.4220 - val_accuracy: 0.8603\n",
            "Epoch 91/200\n",
            "53/74 [====================>.........] - ETA: 7s - loss: 0.1590 - accuracy: 0.9567"
          ],
          "name": "stdout"
        }
      ]
    },
    {
      "cell_type": "code",
      "metadata": {
        "id": "FCQ5beO0wN_B"
      },
      "source": [
        ""
      ],
      "execution_count": null,
      "outputs": []
    }
  ]
}