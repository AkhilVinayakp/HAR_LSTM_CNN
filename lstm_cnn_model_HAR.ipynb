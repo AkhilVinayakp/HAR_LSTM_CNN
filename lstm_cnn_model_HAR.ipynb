{
  "nbformat": 4,
  "nbformat_minor": 0,
  "metadata": {
    "accelerator": "GPU",
    "colab": {
      "name": "lstm_cnn_model_HAR.ipynb",
      "provenance": [],
      "collapsed_sections": [],
      "mount_file_id": "1UAHKwx0R6jAxhvNEVZjOVJKEofFK0qLS",
      "authorship_tag": "ABX9TyMT6gCheP4zqytaNw/RVuMZ",
      "include_colab_link": true
    },
    "kernelspec": {
      "display_name": "Python 3",
      "name": "python3"
    },
    "language_info": {
      "name": "python"
    }
  },
  "cells": [
    {
      "cell_type": "markdown",
      "metadata": {
        "id": "view-in-github",
        "colab_type": "text"
      },
      "source": [
        "<a href=\"https://colab.research.google.com/github/AkhilVinayakp/HAR_LSTM_CNN/blob/main/lstm_cnn_model_HAR.ipynb\" target=\"_parent\"><img src=\"https://colab.research.google.com/assets/colab-badge.svg\" alt=\"Open In Colab\"/></a>"
      ]
    },
    {
      "cell_type": "code",
      "metadata": {
        "id": "ysB2LamaJ2HA"
      },
      "source": [
        "import tensorflow as tf\n",
        "import pandas as pd\n",
        "import numpy as np\n",
        "import matplotlib.pyplot as plt"
      ],
      "execution_count": 1,
      "outputs": []
    },
    {
      "cell_type": "code",
      "metadata": {
        "colab": {
          "base_uri": "https://localhost:8080/",
          "height": 54
        },
        "id": "jrWG6-AgKA_J",
        "outputId": "ef3f80d8-b77f-46cf-f8ae-83cecbc97d33"
      },
      "source": [
        "%cd /content/drive/My\\ Drive/datasets \n",
        "%pwd"
      ],
      "execution_count": 2,
      "outputs": [
        {
          "output_type": "stream",
          "text": [
            "/content/drive/My Drive/datasets\n"
          ],
          "name": "stdout"
        },
        {
          "output_type": "execute_result",
          "data": {
            "application/vnd.google.colaboratory.intrinsic+json": {
              "type": "string"
            },
            "text/plain": [
              "'/content/drive/My Drive/datasets'"
            ]
          },
          "metadata": {
            "tags": []
          },
          "execution_count": 2
        }
      ]
    },
    {
      "cell_type": "code",
      "metadata": {
        "id": "tw4KPSlgKBMu"
      },
      "source": [
        "\n",
        "df =  pd.read_csv('int_norm.csv')"
      ],
      "execution_count": 3,
      "outputs": []
    },
    {
      "cell_type": "code",
      "metadata": {
        "colab": {
          "base_uri": "https://localhost:8080/"
        },
        "id": "osom7hIcKECg",
        "outputId": "e1029259-8b9a-4d48-c565-f605c8d81ea8"
      },
      "source": [
        "df.shape"
      ],
      "execution_count": 4,
      "outputs": [
        {
          "output_type": "execute_result",
          "data": {
            "text/plain": [
              "(1098204, 6)"
            ]
          },
          "metadata": {
            "tags": []
          },
          "execution_count": 4
        }
      ]
    },
    {
      "cell_type": "code",
      "metadata": {
        "id": "b8VebeFoKFrV"
      },
      "source": [
        "def create_windowed_dataset(series, window_size,shift_size, batch_size,shuffle_buffer):\n",
        "  dataset = tf.data.Dataset.from_tensor_slices(series)\n",
        "  dataset = dataset.window(window_size , shift = shift_size, drop_remainder = True)\n",
        "  dataset = dataset.flat_map(lambda window: window.batch(window_size))\n",
        "  dataset = dataset.map(lambda window: ( window[:,1:], tf.one_hot(tf.cast(window[window_size -1 , 0], tf.int64), depth=6) ))\n",
        "  dataset = dataset.shuffle(shuffle_buffer)\n",
        "  dataset = dataset.batch(batch_size).prefetch(1)\n",
        "  return dataset"
      ],
      "execution_count": 5,
      "outputs": []
    },
    {
      "cell_type": "code",
      "metadata": {
        "id": "WBMeh6jNKKg4"
      },
      "source": [
        "df.drop('timestamp', axis = 1, inplace=True)"
      ],
      "execution_count": 6,
      "outputs": []
    },
    {
      "cell_type": "code",
      "metadata": {
        "id": "7tw6c_W6KNDX"
      },
      "source": [
        "df.activity = df.activity.astype('category').cat.codes\n",
        "df.activity = df.activity.astype('int64')"
      ],
      "execution_count": 7,
      "outputs": []
    },
    {
      "cell_type": "code",
      "metadata": {
        "id": "2epXqU7LKWUH"
      },
      "source": [
        "train = df[df['user'] < 31 ]\n",
        "test = df[df['user'] > 30]"
      ],
      "execution_count": 8,
      "outputs": []
    },
    {
      "cell_type": "code",
      "metadata": {
        "colab": {
          "base_uri": "https://localhost:8080/"
        },
        "id": "2TZrOk5sKb_p",
        "outputId": "10d6efea-31b4-4c38-87f3-1ec44704e4ed"
      },
      "source": [
        "train.drop('user', axis = 1, inplace=True)\n",
        "test.drop('user', axis = 1, inplace=True)\n",
        "train.reset_index(drop = True, inplace = True)\n",
        "test.reset_index(drop=True, inplace=True)"
      ],
      "execution_count": 9,
      "outputs": [
        {
          "output_type": "stream",
          "text": [
            "/usr/local/lib/python3.7/dist-packages/pandas/core/frame.py:4174: SettingWithCopyWarning: \n",
            "A value is trying to be set on a copy of a slice from a DataFrame\n",
            "\n",
            "See the caveats in the documentation: https://pandas.pydata.org/pandas-docs/stable/user_guide/indexing.html#returning-a-view-versus-a-copy\n",
            "  errors=errors,\n"
          ],
          "name": "stderr"
        }
      ]
    },
    {
      "cell_type": "code",
      "metadata": {
        "colab": {
          "base_uri": "https://localhost:8080/"
        },
        "id": "m4_VVQdIKxWW",
        "outputId": "129c0d05-5ab3-4698-be7c-ec3cddc96657"
      },
      "source": [
        "print(train.shape)\n",
        "print(test.shape)"
      ],
      "execution_count": 10,
      "outputs": [
        {
          "output_type": "stream",
          "text": [
            "(898361, 4)\n",
            "(199843, 4)\n"
          ],
          "name": "stdout"
        }
      ]
    },
    {
      "cell_type": "code",
      "metadata": {
        "colab": {
          "base_uri": "https://localhost:8080/",
          "height": 206
        },
        "id": "rpWjLVPCK3NH",
        "outputId": "cc2f3f77-3c91-4fe7-ee7c-638c5108060c"
      },
      "source": [
        "train.head()"
      ],
      "execution_count": 11,
      "outputs": [
        {
          "output_type": "execute_result",
          "data": {
            "text/html": [
              "<div>\n",
              "<style scoped>\n",
              "    .dataframe tbody tr th:only-of-type {\n",
              "        vertical-align: middle;\n",
              "    }\n",
              "\n",
              "    .dataframe tbody tr th {\n",
              "        vertical-align: top;\n",
              "    }\n",
              "\n",
              "    .dataframe thead th {\n",
              "        text-align: right;\n",
              "    }\n",
              "</style>\n",
              "<table border=\"1\" class=\"dataframe\">\n",
              "  <thead>\n",
              "    <tr style=\"text-align: right;\">\n",
              "      <th></th>\n",
              "      <th>activity</th>\n",
              "      <th>x-axis</th>\n",
              "      <th>y-axis</th>\n",
              "      <th>z-axis</th>\n",
              "    </tr>\n",
              "  </thead>\n",
              "  <tbody>\n",
              "    <tr>\n",
              "      <th>0</th>\n",
              "      <td>5</td>\n",
              "      <td>0.058149</td>\n",
              "      <td>0.996847</td>\n",
              "      <td>-0.053996</td>\n",
              "    </tr>\n",
              "    <tr>\n",
              "      <th>1</th>\n",
              "      <td>5</td>\n",
              "      <td>-0.000000</td>\n",
              "      <td>0.998427</td>\n",
              "      <td>-0.056061</td>\n",
              "    </tr>\n",
              "    <tr>\n",
              "      <th>2</th>\n",
              "      <td>5</td>\n",
              "      <td>-0.023448</td>\n",
              "      <td>0.997247</td>\n",
              "      <td>-0.070345</td>\n",
              "    </tr>\n",
              "    <tr>\n",
              "      <th>3</th>\n",
              "      <td>5</td>\n",
              "      <td>0.014845</td>\n",
              "      <td>0.998642</td>\n",
              "      <td>-0.049932</td>\n",
              "    </tr>\n",
              "    <tr>\n",
              "      <th>4</th>\n",
              "      <td>5</td>\n",
              "      <td>0.014737</td>\n",
              "      <td>0.998072</td>\n",
              "      <td>-0.060286</td>\n",
              "    </tr>\n",
              "  </tbody>\n",
              "</table>\n",
              "</div>"
            ],
            "text/plain": [
              "   activity    x-axis    y-axis    z-axis\n",
              "0         5  0.058149  0.996847 -0.053996\n",
              "1         5 -0.000000  0.998427 -0.056061\n",
              "2         5 -0.023448  0.997247 -0.070345\n",
              "3         5  0.014845  0.998642 -0.049932\n",
              "4         5  0.014737  0.998072 -0.060286"
            ]
          },
          "metadata": {
            "tags": []
          },
          "execution_count": 11
        }
      ]
    },
    {
      "cell_type": "code",
      "metadata": {
        "colab": {
          "base_uri": "https://localhost:8080/",
          "height": 206
        },
        "id": "xLr7__bNK6OJ",
        "outputId": "e4c9dddc-4044-4f2e-95c1-8e5ed32dea19"
      },
      "source": [
        "test.head()"
      ],
      "execution_count": 12,
      "outputs": [
        {
          "output_type": "execute_result",
          "data": {
            "text/html": [
              "<div>\n",
              "<style scoped>\n",
              "    .dataframe tbody tr th:only-of-type {\n",
              "        vertical-align: middle;\n",
              "    }\n",
              "\n",
              "    .dataframe tbody tr th {\n",
              "        vertical-align: top;\n",
              "    }\n",
              "\n",
              "    .dataframe thead th {\n",
              "        text-align: right;\n",
              "    }\n",
              "</style>\n",
              "<table border=\"1\" class=\"dataframe\">\n",
              "  <thead>\n",
              "    <tr style=\"text-align: right;\">\n",
              "      <th></th>\n",
              "      <th>activity</th>\n",
              "      <th>x-axis</th>\n",
              "      <th>y-axis</th>\n",
              "      <th>z-axis</th>\n",
              "    </tr>\n",
              "  </thead>\n",
              "  <tbody>\n",
              "    <tr>\n",
              "      <th>0</th>\n",
              "      <td>1</td>\n",
              "      <td>-0.054655</td>\n",
              "      <td>0.997718</td>\n",
              "      <td>0.039652</td>\n",
              "    </tr>\n",
              "    <tr>\n",
              "      <th>1</th>\n",
              "      <td>1</td>\n",
              "      <td>0.405338</td>\n",
              "      <td>0.910910</td>\n",
              "      <td>0.077102</td>\n",
              "    </tr>\n",
              "    <tr>\n",
              "      <th>2</th>\n",
              "      <td>1</td>\n",
              "      <td>0.410782</td>\n",
              "      <td>0.911708</td>\n",
              "      <td>-0.006846</td>\n",
              "    </tr>\n",
              "    <tr>\n",
              "      <th>3</th>\n",
              "      <td>1</td>\n",
              "      <td>-0.032685</td>\n",
              "      <td>0.986373</td>\n",
              "      <td>0.161248</td>\n",
              "    </tr>\n",
              "    <tr>\n",
              "      <th>4</th>\n",
              "      <td>1</td>\n",
              "      <td>-0.083804</td>\n",
              "      <td>0.856341</td>\n",
              "      <td>0.509566</td>\n",
              "    </tr>\n",
              "  </tbody>\n",
              "</table>\n",
              "</div>"
            ],
            "text/plain": [
              "   activity    x-axis    y-axis    z-axis\n",
              "0         1 -0.054655  0.997718  0.039652\n",
              "1         1  0.405338  0.910910  0.077102\n",
              "2         1  0.410782  0.911708 -0.006846\n",
              "3         1 -0.032685  0.986373  0.161248\n",
              "4         1 -0.083804  0.856341  0.509566"
            ]
          },
          "metadata": {
            "tags": []
          },
          "execution_count": 12
        }
      ]
    },
    {
      "cell_type": "code",
      "metadata": {
        "id": "pOmxb9g0MKW2"
      },
      "source": [
        "# creating test set\n",
        "def create_test_windowed(series, window_size = 128):\n",
        "  test = tf.data.Dataset.from_tensor_slices(series)\n",
        "  test = test.window(window_size, drop_remainder = True)\n",
        "  test = test.flat_map(lambda window: window.batch(window_size))\n",
        "  test = test.map(lambda window: (window[:,1:], tf.one_hot(tf.cast(window[window_size -1 , 0], tf.int64), depth=6)))\n",
        "  return test"
      ],
      "execution_count": 13,
      "outputs": []
    },
    {
      "cell_type": "code",
      "metadata": {
        "id": "Eibk1g7RRgSQ"
      },
      "source": [
        "test_win = create_test_windowed(test)   # test data set for evaluation"
      ],
      "execution_count": 14,
      "outputs": []
    },
    {
      "cell_type": "code",
      "metadata": {
        "id": "-aQ7-STzRtys"
      },
      "source": [
        ""
      ],
      "execution_count": 14,
      "outputs": []
    },
    {
      "cell_type": "code",
      "metadata": {
        "id": "LaWS6MLm0T7x"
      },
      "source": [
        "test_data = list(test_win.as_numpy_iterator())"
      ],
      "execution_count": 15,
      "outputs": []
    },
    {
      "cell_type": "code",
      "metadata": {
        "id": "BwcUnBhJ0T70"
      },
      "source": [
        "test_f = []\n",
        "test_l = []\n",
        "for i in test_data:\n",
        "  test_f.append(i[0])\n",
        "  test_l.append(i[1])"
      ],
      "execution_count": 16,
      "outputs": []
    },
    {
      "cell_type": "code",
      "metadata": {
        "id": "Hhk4fR9x0T72"
      },
      "source": [
        "test_f = np.array(test_f)"
      ],
      "execution_count": 17,
      "outputs": []
    },
    {
      "cell_type": "code",
      "metadata": {
        "colab": {
          "base_uri": "https://localhost:8080/"
        },
        "id": "Q-f9VNMQ0T74",
        "outputId": "faf4c3f3-d75e-4f32-9469-2d071d923281"
      },
      "source": [
        "test_f.shape"
      ],
      "execution_count": 18,
      "outputs": [
        {
          "output_type": "execute_result",
          "data": {
            "text/plain": [
              "(1561, 128, 3)"
            ]
          },
          "metadata": {
            "tags": []
          },
          "execution_count": 18
        }
      ]
    },
    {
      "cell_type": "code",
      "metadata": {
        "id": "00XGa2tm0T77"
      },
      "source": [
        "test_l = np.array(test_l)"
      ],
      "execution_count": 19,
      "outputs": []
    },
    {
      "cell_type": "code",
      "metadata": {
        "colab": {
          "base_uri": "https://localhost:8080/"
        },
        "id": "uNCxJ-Ce0T78",
        "outputId": "ff29136e-9212-4933-89fb-13ce060a32dc"
      },
      "source": [
        "test_l.shape"
      ],
      "execution_count": 20,
      "outputs": [
        {
          "output_type": "execute_result",
          "data": {
            "text/plain": [
              "(1561, 6)"
            ]
          },
          "metadata": {
            "tags": []
          },
          "execution_count": 20
        }
      ]
    },
    {
      "cell_type": "code",
      "metadata": {
        "colab": {
          "base_uri": "https://localhost:8080/"
        },
        "id": "zwTwuTjy0T79",
        "outputId": "4f9f4543-22ee-4188-bc91-2b580a12daa8"
      },
      "source": [
        "x_val = test_f[:200]\n",
        "y_val = test_l[:200]\n",
        "print(x_val.shape)\n",
        "print(y_val.shape)"
      ],
      "execution_count": 21,
      "outputs": [
        {
          "output_type": "stream",
          "text": [
            "(200, 128, 3)\n",
            "(200, 6)\n"
          ],
          "name": "stdout"
        }
      ]
    },
    {
      "cell_type": "code",
      "metadata": {
        "id": "ru6g2EwJRltG"
      },
      "source": [
        ""
      ],
      "execution_count": 21,
      "outputs": []
    },
    {
      "cell_type": "code",
      "metadata": {
        "id": "p4b7H1hwK7PX"
      },
      "source": [
        "train_windowed = create_windowed_dataset(train, 128, 64, 192, 128)"
      ],
      "execution_count": 22,
      "outputs": []
    },
    {
      "cell_type": "code",
      "metadata": {
        "id": "MWpCCym4LQdo"
      },
      "source": [
        "# # adding globel average pooling to the model\n",
        "# codding lstm layers and cnn\n",
        "model = tf.keras.models.Sequential([\n",
        "  tf.keras.layers.Lambda(lambda x: x,\n",
        "                      input_shape=[128, 3]),\n",
        "  tf.keras.layers.LSTM(32, return_sequences=True),\n",
        "  tf.keras.layers.LSTM(32, return_sequences=True),\n",
        "  tf.keras.layers.Lambda(lambda x: tf.expand_dims(x, axis=-1)),\n",
        "  tf.keras.layers.Conv2D(64,5,strides=(2,2)),\n",
        "  tf.keras.layers.MaxPooling2D((2, 2), strides = (2,2)),\n",
        "  \n",
        "  tf.keras.layers.Conv2D(128,3,strides=(1,1)),  \n",
        "  tf.keras.layers.GlobalAveragePooling2D(),\n",
        "  # tf.keras.layers.Lambda(lambda x: tf.expand_dims(x, axis=-1)),\n",
        "  # parameters ?\n",
        "  tf.keras.layers.BatchNormalization(),\n",
        "  tf.keras.layers.Dense(6, activation='softmax')\n",
        "  \n",
        "])"
      ],
      "execution_count": 23,
      "outputs": []
    },
    {
      "cell_type": "code",
      "metadata": {
        "colab": {
          "base_uri": "https://localhost:8080/"
        },
        "id": "5E6VeHTzLXnf",
        "outputId": "1523c91a-5325-4dee-f7c7-749fb2c5f0e4"
      },
      "source": [
        "model.summary()"
      ],
      "execution_count": 24,
      "outputs": [
        {
          "output_type": "stream",
          "text": [
            "Model: \"sequential\"\n",
            "_________________________________________________________________\n",
            "Layer (type)                 Output Shape              Param #   \n",
            "=================================================================\n",
            "lambda (Lambda)              (None, 128, 3)            0         \n",
            "_________________________________________________________________\n",
            "lstm (LSTM)                  (None, 128, 32)           4608      \n",
            "_________________________________________________________________\n",
            "lstm_1 (LSTM)                (None, 128, 32)           8320      \n",
            "_________________________________________________________________\n",
            "lambda_1 (Lambda)            (None, 128, 32, 1)        0         \n",
            "_________________________________________________________________\n",
            "conv2d (Conv2D)              (None, 62, 14, 64)        1664      \n",
            "_________________________________________________________________\n",
            "max_pooling2d (MaxPooling2D) (None, 31, 7, 64)         0         \n",
            "_________________________________________________________________\n",
            "conv2d_1 (Conv2D)            (None, 29, 5, 128)        73856     \n",
            "_________________________________________________________________\n",
            "global_average_pooling2d (Gl (None, 128)               0         \n",
            "_________________________________________________________________\n",
            "batch_normalization (BatchNo (None, 128)               512       \n",
            "_________________________________________________________________\n",
            "dense (Dense)                (None, 6)                 774       \n",
            "=================================================================\n",
            "Total params: 89,734\n",
            "Trainable params: 89,478\n",
            "Non-trainable params: 256\n",
            "_________________________________________________________________\n"
          ],
          "name": "stdout"
        }
      ]
    },
    {
      "cell_type": "code",
      "metadata": {
        "id": "WRcLJEOSsBlB"
      },
      "source": [
        "# designing class back to save the best model\n",
        "from tensorflow.keras.callbacks import ModelCheckpoint\n",
        "save = ModelCheckpoint('best_trained_model.h5', save_best_only = True)"
      ],
      "execution_count": 25,
      "outputs": []
    },
    {
      "cell_type": "code",
      "metadata": {
        "id": "tfYvWvnNvtGI"
      },
      "source": [
        "\n",
        "train = train_windowed.take(round(13654*0.7))\n",
        "val = train_windowed.skip(round(13654*0.7))"
      ],
      "execution_count": 26,
      "outputs": []
    },
    {
      "cell_type": "code",
      "metadata": {
        "colab": {
          "base_uri": "https://localhost:8080/"
        },
        "id": "RHKe8lH7LaDG",
        "outputId": "92467ce0-0556-4dec-ed42-21cecadc1a3c"
      },
      "source": [
        "# with out bidirection\n",
        "optimizer = tf.keras.optimizers.Adam(0.001)\n",
        "model.compile(loss=\"categorical_crossentropy\", optimizer=optimizer, metrics = ['accuracy'])\n",
        "\n",
        "history = model.fit(train_windowed, validation_data=(test_f, test_l), epochs=200,callbacks=[save], verbose=1, batch_size=192)"
      ],
      "execution_count": 27,
      "outputs": [
        {
          "output_type": "stream",
          "text": [
            "Epoch 1/200\n",
            "74/74 [==============================] - 40s 66ms/step - loss: 1.3404 - accuracy: 0.6017 - val_loss: 1.6423 - val_accuracy: 0.3555\n",
            "Epoch 2/200\n",
            "74/74 [==============================] - 4s 52ms/step - loss: 0.9550 - accuracy: 0.7241 - val_loss: 1.6089 - val_accuracy: 0.3555\n",
            "Epoch 3/200\n",
            "74/74 [==============================] - 4s 52ms/step - loss: 0.8986 - accuracy: 0.7549 - val_loss: 1.6497 - val_accuracy: 0.3555\n",
            "Epoch 4/200\n",
            "74/74 [==============================] - 4s 54ms/step - loss: 0.8635 - accuracy: 0.7539 - val_loss: 1.6031 - val_accuracy: 0.3555\n",
            "Epoch 5/200\n",
            "74/74 [==============================] - 4s 52ms/step - loss: 0.8569 - accuracy: 0.7422 - val_loss: 1.4786 - val_accuracy: 0.3863\n",
            "Epoch 6/200\n",
            "74/74 [==============================] - 4s 52ms/step - loss: 0.8474 - accuracy: 0.7334 - val_loss: 1.4301 - val_accuracy: 0.4331\n",
            "Epoch 7/200\n",
            "74/74 [==============================] - 4s 53ms/step - loss: 0.8188 - accuracy: 0.7463 - val_loss: 1.3566 - val_accuracy: 0.5753\n",
            "Epoch 8/200\n",
            "74/74 [==============================] - 4s 53ms/step - loss: 0.8127 - accuracy: 0.7447 - val_loss: 2.3824 - val_accuracy: 0.4010\n",
            "Epoch 9/200\n",
            "74/74 [==============================] - 4s 52ms/step - loss: 0.7929 - accuracy: 0.7450 - val_loss: 2.3782 - val_accuracy: 0.4542\n",
            "Epoch 10/200\n",
            "74/74 [==============================] - 4s 53ms/step - loss: 0.8026 - accuracy: 0.7440 - val_loss: 1.2180 - val_accuracy: 0.7265\n",
            "Epoch 11/200\n",
            "74/74 [==============================] - 4s 53ms/step - loss: 0.8104 - accuracy: 0.7425 - val_loss: 2.1191 - val_accuracy: 0.6278\n",
            "Epoch 12/200\n",
            "74/74 [==============================] - 4s 54ms/step - loss: 0.7799 - accuracy: 0.7496 - val_loss: 1.8932 - val_accuracy: 0.7060\n",
            "Epoch 13/200\n",
            "74/74 [==============================] - 4s 52ms/step - loss: 0.7743 - accuracy: 0.7504 - val_loss: 1.7125 - val_accuracy: 0.6150\n",
            "Epoch 14/200\n",
            "74/74 [==============================] - 4s 52ms/step - loss: 0.7573 - accuracy: 0.7647 - val_loss: 1.3283 - val_accuracy: 0.7066\n",
            "Epoch 15/200\n",
            "74/74 [==============================] - 4s 52ms/step - loss: 0.7386 - accuracy: 0.7672 - val_loss: 1.4242 - val_accuracy: 0.6470\n",
            "Epoch 16/200\n",
            "74/74 [==============================] - 4s 53ms/step - loss: 0.7207 - accuracy: 0.7792 - val_loss: 1.3196 - val_accuracy: 0.6329\n",
            "Epoch 17/200\n",
            "74/74 [==============================] - 4s 52ms/step - loss: 0.7127 - accuracy: 0.7729 - val_loss: 0.8356 - val_accuracy: 0.7220\n",
            "Epoch 18/200\n",
            "74/74 [==============================] - 4s 51ms/step - loss: 0.7058 - accuracy: 0.7712 - val_loss: 1.5527 - val_accuracy: 0.4625\n",
            "Epoch 19/200\n",
            "74/74 [==============================] - 4s 53ms/step - loss: 0.6857 - accuracy: 0.7730 - val_loss: 0.7577 - val_accuracy: 0.6887\n",
            "Epoch 20/200\n",
            "74/74 [==============================] - 4s 52ms/step - loss: 0.6639 - accuracy: 0.7756 - val_loss: 1.4940 - val_accuracy: 0.6348\n",
            "Epoch 21/200\n",
            "74/74 [==============================] - 4s 52ms/step - loss: 0.6295 - accuracy: 0.7969 - val_loss: 1.7039 - val_accuracy: 0.6092\n",
            "Epoch 22/200\n",
            "74/74 [==============================] - 4s 52ms/step - loss: 0.6178 - accuracy: 0.8062 - val_loss: 1.2120 - val_accuracy: 0.5996\n",
            "Epoch 23/200\n",
            "74/74 [==============================] - 4s 53ms/step - loss: 0.6274 - accuracy: 0.7922 - val_loss: 1.0093 - val_accuracy: 0.6022\n",
            "Epoch 24/200\n",
            "74/74 [==============================] - 4s 51ms/step - loss: 0.6220 - accuracy: 0.8019 - val_loss: 1.2892 - val_accuracy: 0.5163\n",
            "Epoch 25/200\n",
            "74/74 [==============================] - 4s 52ms/step - loss: 0.5553 - accuracy: 0.8223 - val_loss: 1.3225 - val_accuracy: 0.6746\n",
            "Epoch 26/200\n",
            "74/74 [==============================] - 4s 52ms/step - loss: 0.5310 - accuracy: 0.8300 - val_loss: 0.7130 - val_accuracy: 0.7783\n",
            "Epoch 27/200\n",
            "74/74 [==============================] - 4s 54ms/step - loss: 0.5304 - accuracy: 0.8333 - val_loss: 0.9795 - val_accuracy: 0.7623\n",
            "Epoch 28/200\n",
            "74/74 [==============================] - 4s 53ms/step - loss: 0.5105 - accuracy: 0.8336 - val_loss: 2.1025 - val_accuracy: 0.3491\n",
            "Epoch 29/200\n",
            "74/74 [==============================] - 4s 53ms/step - loss: 0.5344 - accuracy: 0.8254 - val_loss: 0.8535 - val_accuracy: 0.7617\n",
            "Epoch 30/200\n",
            "74/74 [==============================] - 4s 51ms/step - loss: 0.4859 - accuracy: 0.8430 - val_loss: 1.1727 - val_accuracy: 0.7290\n",
            "Epoch 31/200\n",
            "74/74 [==============================] - 4s 51ms/step - loss: 0.4974 - accuracy: 0.8450 - val_loss: 1.0224 - val_accuracy: 0.6240\n",
            "Epoch 32/200\n",
            "74/74 [==============================] - 4s 52ms/step - loss: 0.4768 - accuracy: 0.8578 - val_loss: 0.9881 - val_accuracy: 0.7028\n",
            "Epoch 33/200\n",
            "74/74 [==============================] - 4s 52ms/step - loss: 0.4577 - accuracy: 0.8597 - val_loss: 2.7132 - val_accuracy: 0.2005\n",
            "Epoch 34/200\n",
            "74/74 [==============================] - 4s 51ms/step - loss: 0.4430 - accuracy: 0.8667 - val_loss: 1.7147 - val_accuracy: 0.3972\n",
            "Epoch 35/200\n",
            "74/74 [==============================] - 4s 51ms/step - loss: 0.4311 - accuracy: 0.8669 - val_loss: 1.0541 - val_accuracy: 0.6419\n",
            "Epoch 36/200\n",
            "74/74 [==============================] - 4s 50ms/step - loss: 0.4264 - accuracy: 0.8680 - val_loss: 0.7111 - val_accuracy: 0.8008\n",
            "Epoch 37/200\n",
            "74/74 [==============================] - 4s 51ms/step - loss: 0.4048 - accuracy: 0.8728 - val_loss: 0.7371 - val_accuracy: 0.7316\n",
            "Epoch 38/200\n",
            "74/74 [==============================] - 4s 52ms/step - loss: 0.4167 - accuracy: 0.8700 - val_loss: 0.5568 - val_accuracy: 0.8078\n",
            "Epoch 39/200\n",
            "74/74 [==============================] - 4s 51ms/step - loss: 0.4065 - accuracy: 0.8697 - val_loss: 0.6182 - val_accuracy: 0.8290\n",
            "Epoch 40/200\n",
            "74/74 [==============================] - 4s 51ms/step - loss: 0.3889 - accuracy: 0.8715 - val_loss: 1.0271 - val_accuracy: 0.7072\n",
            "Epoch 41/200\n",
            "74/74 [==============================] - 4s 52ms/step - loss: 0.4040 - accuracy: 0.8735 - val_loss: 0.8586 - val_accuracy: 0.7245\n",
            "Epoch 42/200\n",
            "74/74 [==============================] - 4s 51ms/step - loss: 0.3883 - accuracy: 0.8844 - val_loss: 0.7557 - val_accuracy: 0.7726\n",
            "Epoch 43/200\n",
            "74/74 [==============================] - 4s 51ms/step - loss: 0.4490 - accuracy: 0.8645 - val_loss: 0.7892 - val_accuracy: 0.8136\n",
            "Epoch 44/200\n",
            "74/74 [==============================] - 4s 51ms/step - loss: 0.4288 - accuracy: 0.8665 - val_loss: 1.2454 - val_accuracy: 0.6848\n",
            "Epoch 45/200\n",
            "74/74 [==============================] - 4s 50ms/step - loss: 0.3732 - accuracy: 0.8867 - val_loss: 0.7499 - val_accuracy: 0.7008\n",
            "Epoch 46/200\n",
            "74/74 [==============================] - 4s 50ms/step - loss: 0.3690 - accuracy: 0.8872 - val_loss: 0.9757 - val_accuracy: 0.7976\n",
            "Epoch 47/200\n",
            "74/74 [==============================] - 4s 51ms/step - loss: 0.3633 - accuracy: 0.8874 - val_loss: 1.0676 - val_accuracy: 0.7912\n",
            "Epoch 48/200\n",
            "74/74 [==============================] - 4s 52ms/step - loss: 0.3557 - accuracy: 0.8907 - val_loss: 0.7812 - val_accuracy: 0.7976\n",
            "Epoch 49/200\n",
            "74/74 [==============================] - 4s 50ms/step - loss: 0.3587 - accuracy: 0.8902 - val_loss: 0.8052 - val_accuracy: 0.7950\n",
            "Epoch 50/200\n",
            "74/74 [==============================] - 4s 50ms/step - loss: 0.3666 - accuracy: 0.8835 - val_loss: 0.6168 - val_accuracy: 0.8296\n",
            "Epoch 51/200\n",
            "74/74 [==============================] - 4s 51ms/step - loss: 0.3385 - accuracy: 0.8943 - val_loss: 0.5761 - val_accuracy: 0.8309\n",
            "Epoch 52/200\n",
            "74/74 [==============================] - 4s 51ms/step - loss: 0.3299 - accuracy: 0.8948 - val_loss: 0.7705 - val_accuracy: 0.7681\n",
            "Epoch 53/200\n",
            "74/74 [==============================] - 4s 50ms/step - loss: 0.3298 - accuracy: 0.8979 - val_loss: 0.7849 - val_accuracy: 0.7976\n",
            "Epoch 54/200\n",
            "74/74 [==============================] - 4s 51ms/step - loss: 0.3214 - accuracy: 0.9015 - val_loss: 0.9672 - val_accuracy: 0.7918\n",
            "Epoch 55/200\n",
            "74/74 [==============================] - 4s 51ms/step - loss: 0.3269 - accuracy: 0.9002 - val_loss: 0.8211 - val_accuracy: 0.7931\n",
            "Epoch 56/200\n",
            "74/74 [==============================] - 4s 52ms/step - loss: 0.3117 - accuracy: 0.8999 - val_loss: 0.7123 - val_accuracy: 0.8097\n",
            "Epoch 57/200\n",
            "74/74 [==============================] - 4s 54ms/step - loss: 0.3334 - accuracy: 0.8940 - val_loss: 0.9048 - val_accuracy: 0.7707\n",
            "Epoch 58/200\n",
            "74/74 [==============================] - 4s 52ms/step - loss: 0.3129 - accuracy: 0.9090 - val_loss: 1.1110 - val_accuracy: 0.7777\n",
            "Epoch 59/200\n",
            "74/74 [==============================] - 4s 52ms/step - loss: 0.3212 - accuracy: 0.8996 - val_loss: 0.7841 - val_accuracy: 0.7572\n",
            "Epoch 60/200\n",
            "74/74 [==============================] - 4s 51ms/step - loss: 0.3206 - accuracy: 0.8993 - val_loss: 1.4626 - val_accuracy: 0.6438\n",
            "Epoch 61/200\n",
            "74/74 [==============================] - 4s 50ms/step - loss: 0.3182 - accuracy: 0.9039 - val_loss: 0.5936 - val_accuracy: 0.8283\n",
            "Epoch 62/200\n",
            "74/74 [==============================] - 4s 51ms/step - loss: 0.2979 - accuracy: 0.9064 - val_loss: 0.8415 - val_accuracy: 0.6848\n",
            "Epoch 63/200\n",
            "74/74 [==============================] - 4s 52ms/step - loss: 0.2853 - accuracy: 0.9152 - val_loss: 1.2226 - val_accuracy: 0.5496\n",
            "Epoch 64/200\n",
            "74/74 [==============================] - 4s 51ms/step - loss: 0.2778 - accuracy: 0.9202 - val_loss: 1.6213 - val_accuracy: 0.5234\n",
            "Epoch 65/200\n",
            "74/74 [==============================] - 4s 53ms/step - loss: 0.2880 - accuracy: 0.9160 - val_loss: 1.6265 - val_accuracy: 0.5042\n",
            "Epoch 66/200\n",
            "74/74 [==============================] - 4s 51ms/step - loss: 0.2739 - accuracy: 0.9196 - val_loss: 0.8244 - val_accuracy: 0.7828\n",
            "Epoch 67/200\n",
            "74/74 [==============================] - 4s 50ms/step - loss: 0.2817 - accuracy: 0.9153 - val_loss: 0.6925 - val_accuracy: 0.7732\n",
            "Epoch 68/200\n",
            "74/74 [==============================] - 4s 51ms/step - loss: 0.2794 - accuracy: 0.9184 - val_loss: 0.9174 - val_accuracy: 0.8097\n",
            "Epoch 69/200\n",
            "74/74 [==============================] - 4s 51ms/step - loss: 0.2647 - accuracy: 0.9222 - val_loss: 1.1847 - val_accuracy: 0.5573\n",
            "Epoch 70/200\n",
            "74/74 [==============================] - 4s 51ms/step - loss: 0.2879 - accuracy: 0.9119 - val_loss: 0.8961 - val_accuracy: 0.6355\n",
            "Epoch 71/200\n",
            "74/74 [==============================] - 4s 52ms/step - loss: 0.2578 - accuracy: 0.9255 - val_loss: 0.8952 - val_accuracy: 0.7297\n",
            "Epoch 72/200\n",
            "74/74 [==============================] - 4s 51ms/step - loss: 0.2679 - accuracy: 0.9176 - val_loss: 1.0686 - val_accuracy: 0.6259\n",
            "Epoch 73/200\n",
            "74/74 [==============================] - 4s 51ms/step - loss: 0.2458 - accuracy: 0.9325 - val_loss: 1.0090 - val_accuracy: 0.7783\n",
            "Epoch 74/200\n",
            "74/74 [==============================] - 4s 51ms/step - loss: 0.2500 - accuracy: 0.9257 - val_loss: 1.1881 - val_accuracy: 0.6323\n",
            "Epoch 75/200\n",
            "74/74 [==============================] - 4s 52ms/step - loss: 0.2380 - accuracy: 0.9336 - val_loss: 0.7708 - val_accuracy: 0.7623\n",
            "Epoch 76/200\n",
            "74/74 [==============================] - 4s 51ms/step - loss: 0.2424 - accuracy: 0.9281 - val_loss: 0.8939 - val_accuracy: 0.7463\n",
            "Epoch 77/200\n",
            "74/74 [==============================] - 4s 51ms/step - loss: 0.2221 - accuracy: 0.9376 - val_loss: 1.2097 - val_accuracy: 0.7444\n",
            "Epoch 78/200\n",
            "74/74 [==============================] - 4s 51ms/step - loss: 0.2341 - accuracy: 0.9321 - val_loss: 1.1215 - val_accuracy: 0.7489\n",
            "Epoch 79/200\n",
            "74/74 [==============================] - 4s 52ms/step - loss: 0.2074 - accuracy: 0.9447 - val_loss: 1.3834 - val_accuracy: 0.8110\n",
            "Epoch 80/200\n",
            "74/74 [==============================] - 4s 52ms/step - loss: 0.2265 - accuracy: 0.9374 - val_loss: 1.0625 - val_accuracy: 0.7745\n",
            "Epoch 81/200\n",
            "74/74 [==============================] - 4s 52ms/step - loss: 0.2588 - accuracy: 0.9338 - val_loss: 1.1246 - val_accuracy: 0.7092\n",
            "Epoch 82/200\n",
            "74/74 [==============================] - 4s 52ms/step - loss: 0.2260 - accuracy: 0.9354 - val_loss: 1.4189 - val_accuracy: 0.6605\n",
            "Epoch 83/200\n",
            "74/74 [==============================] - 4s 51ms/step - loss: 0.2181 - accuracy: 0.9392 - val_loss: 0.9407 - val_accuracy: 0.7098\n",
            "Epoch 84/200\n",
            "74/74 [==============================] - 4s 52ms/step - loss: 0.2037 - accuracy: 0.9440 - val_loss: 2.3693 - val_accuracy: 0.5215\n",
            "Epoch 85/200\n",
            "74/74 [==============================] - 4s 51ms/step - loss: 0.2022 - accuracy: 0.9456 - val_loss: 1.6843 - val_accuracy: 0.6348\n",
            "Epoch 86/200\n",
            "74/74 [==============================] - 4s 51ms/step - loss: 0.1938 - accuracy: 0.9466 - val_loss: 1.2902 - val_accuracy: 0.6342\n",
            "Epoch 87/200\n",
            "74/74 [==============================] - 4s 51ms/step - loss: 0.2000 - accuracy: 0.9445 - val_loss: 2.4695 - val_accuracy: 0.5420\n",
            "Epoch 88/200\n",
            "74/74 [==============================] - 4s 51ms/step - loss: 0.1848 - accuracy: 0.9494 - val_loss: 1.7047 - val_accuracy: 0.5900\n",
            "Epoch 89/200\n",
            "74/74 [==============================] - 4s 51ms/step - loss: 0.1958 - accuracy: 0.9449 - val_loss: 1.7468 - val_accuracy: 0.5964\n",
            "Epoch 90/200\n",
            "74/74 [==============================] - 4s 52ms/step - loss: 0.1835 - accuracy: 0.9512 - val_loss: 1.5950 - val_accuracy: 0.5836\n",
            "Epoch 91/200\n",
            "74/74 [==============================] - 4s 51ms/step - loss: 0.1806 - accuracy: 0.9521 - val_loss: 1.3459 - val_accuracy: 0.6432\n",
            "Epoch 92/200\n",
            "74/74 [==============================] - 4s 51ms/step - loss: 0.1704 - accuracy: 0.9543 - val_loss: 0.6654 - val_accuracy: 0.7591\n",
            "Epoch 93/200\n",
            "74/74 [==============================] - 4s 52ms/step - loss: 0.1743 - accuracy: 0.9523 - val_loss: 3.4253 - val_accuracy: 0.3094\n",
            "Epoch 94/200\n",
            "74/74 [==============================] - 4s 51ms/step - loss: 0.1864 - accuracy: 0.9494 - val_loss: 1.2649 - val_accuracy: 0.6015\n",
            "Epoch 95/200\n",
            "74/74 [==============================] - 4s 50ms/step - loss: 0.1718 - accuracy: 0.9560 - val_loss: 0.6702 - val_accuracy: 0.7803\n",
            "Epoch 96/200\n",
            "74/74 [==============================] - 4s 52ms/step - loss: 0.1765 - accuracy: 0.9547 - val_loss: 2.3654 - val_accuracy: 0.4068\n",
            "Epoch 97/200\n",
            "74/74 [==============================] - 4s 51ms/step - loss: 0.2053 - accuracy: 0.9435 - val_loss: 4.5394 - val_accuracy: 0.2402\n",
            "Epoch 98/200\n",
            "74/74 [==============================] - 4s 52ms/step - loss: 0.2112 - accuracy: 0.9427 - val_loss: 1.6026 - val_accuracy: 0.5099\n",
            "Epoch 99/200\n",
            "74/74 [==============================] - 4s 51ms/step - loss: 0.2629 - accuracy: 0.9221 - val_loss: 1.9229 - val_accuracy: 0.5317\n",
            "Epoch 100/200\n",
            "74/74 [==============================] - 4s 52ms/step - loss: 0.2645 - accuracy: 0.9307 - val_loss: 4.6741 - val_accuracy: 0.2857\n",
            "Epoch 101/200\n",
            "74/74 [==============================] - 4s 52ms/step - loss: 0.2141 - accuracy: 0.9399 - val_loss: 3.8685 - val_accuracy: 0.3760\n",
            "Epoch 102/200\n",
            "74/74 [==============================] - 4s 51ms/step - loss: 0.2174 - accuracy: 0.9480 - val_loss: 4.0250 - val_accuracy: 0.2422\n",
            "Epoch 103/200\n",
            "74/74 [==============================] - 4s 52ms/step - loss: 0.1989 - accuracy: 0.9460 - val_loss: 0.6295 - val_accuracy: 0.7867\n",
            "Epoch 104/200\n",
            "74/74 [==============================] - 4s 52ms/step - loss: 0.1790 - accuracy: 0.9502 - val_loss: 2.3844 - val_accuracy: 0.4741\n",
            "Epoch 105/200\n",
            "74/74 [==============================] - 4s 51ms/step - loss: 0.1683 - accuracy: 0.9564 - val_loss: 0.8693 - val_accuracy: 0.7380\n",
            "Epoch 106/200\n",
            "74/74 [==============================] - 4s 51ms/step - loss: 0.1566 - accuracy: 0.9585 - val_loss: 1.2701 - val_accuracy: 0.6470\n",
            "Epoch 107/200\n",
            "74/74 [==============================] - 4s 52ms/step - loss: 0.1537 - accuracy: 0.9610 - val_loss: 0.7032 - val_accuracy: 0.7598\n",
            "Epoch 108/200\n",
            "74/74 [==============================] - 4s 53ms/step - loss: 0.1528 - accuracy: 0.9620 - val_loss: 0.6188 - val_accuracy: 0.7912\n",
            "Epoch 109/200\n",
            "74/74 [==============================] - 4s 54ms/step - loss: 0.1421 - accuracy: 0.9638 - val_loss: 0.8030 - val_accuracy: 0.7406\n",
            "Epoch 110/200\n",
            "74/74 [==============================] - 4s 52ms/step - loss: 0.1371 - accuracy: 0.9635 - val_loss: 0.9149 - val_accuracy: 0.7233\n",
            "Epoch 111/200\n",
            "74/74 [==============================] - 4s 52ms/step - loss: 0.1493 - accuracy: 0.9599 - val_loss: 0.5500 - val_accuracy: 0.8104\n",
            "Epoch 112/200\n",
            "74/74 [==============================] - 4s 52ms/step - loss: 0.1424 - accuracy: 0.9635 - val_loss: 1.3611 - val_accuracy: 0.6611\n",
            "Epoch 113/200\n",
            "74/74 [==============================] - 4s 53ms/step - loss: 0.1425 - accuracy: 0.9594 - val_loss: 1.3787 - val_accuracy: 0.6182\n",
            "Epoch 114/200\n",
            "74/74 [==============================] - 4s 52ms/step - loss: 0.1398 - accuracy: 0.9635 - val_loss: 0.4395 - val_accuracy: 0.8719\n",
            "Epoch 115/200\n",
            "74/74 [==============================] - 4s 52ms/step - loss: 0.1352 - accuracy: 0.9653 - val_loss: 1.9111 - val_accuracy: 0.5887\n",
            "Epoch 116/200\n",
            "74/74 [==============================] - 4s 53ms/step - loss: 0.1663 - accuracy: 0.9537 - val_loss: 1.3230 - val_accuracy: 0.6400\n",
            "Epoch 117/200\n",
            "74/74 [==============================] - 4s 52ms/step - loss: 0.2377 - accuracy: 0.9350 - val_loss: 0.6472 - val_accuracy: 0.8033\n",
            "Epoch 118/200\n",
            "74/74 [==============================] - 4s 52ms/step - loss: 0.1886 - accuracy: 0.9523 - val_loss: 0.6070 - val_accuracy: 0.8213\n",
            "Epoch 119/200\n",
            "74/74 [==============================] - 4s 51ms/step - loss: 0.1576 - accuracy: 0.9596 - val_loss: 0.7834 - val_accuracy: 0.7194\n",
            "Epoch 120/200\n",
            "74/74 [==============================] - 4s 51ms/step - loss: 0.1398 - accuracy: 0.9625 - val_loss: 0.8232 - val_accuracy: 0.7175\n",
            "Epoch 121/200\n",
            "74/74 [==============================] - 4s 52ms/step - loss: 0.1300 - accuracy: 0.9645 - val_loss: 1.4474 - val_accuracy: 0.5926\n",
            "Epoch 122/200\n",
            "74/74 [==============================] - 4s 52ms/step - loss: 0.1267 - accuracy: 0.9658 - val_loss: 0.6497 - val_accuracy: 0.7771\n",
            "Epoch 123/200\n",
            "74/74 [==============================] - 4s 51ms/step - loss: 0.1166 - accuracy: 0.9697 - val_loss: 0.6020 - val_accuracy: 0.8046\n",
            "Epoch 124/200\n",
            "74/74 [==============================] - 4s 51ms/step - loss: 0.1200 - accuracy: 0.9681 - val_loss: 0.8960 - val_accuracy: 0.7956\n",
            "Epoch 125/200\n",
            "74/74 [==============================] - 4s 52ms/step - loss: 0.1245 - accuracy: 0.9678 - val_loss: 0.8843 - val_accuracy: 0.7181\n",
            "Epoch 126/200\n",
            "74/74 [==============================] - 4s 52ms/step - loss: 0.1359 - accuracy: 0.9622 - val_loss: 1.0914 - val_accuracy: 0.6611\n",
            "Epoch 127/200\n",
            "74/74 [==============================] - 4s 52ms/step - loss: 0.1256 - accuracy: 0.9672 - val_loss: 0.8681 - val_accuracy: 0.7502\n",
            "Epoch 128/200\n",
            "74/74 [==============================] - 4s 51ms/step - loss: 0.1260 - accuracy: 0.9656 - val_loss: 1.1624 - val_accuracy: 0.6598\n",
            "Epoch 129/200\n",
            "74/74 [==============================] - 4s 51ms/step - loss: 0.1237 - accuracy: 0.9655 - val_loss: 0.8399 - val_accuracy: 0.7655\n",
            "Epoch 130/200\n",
            "74/74 [==============================] - 4s 51ms/step - loss: 0.1126 - accuracy: 0.9707 - val_loss: 1.9359 - val_accuracy: 0.6143\n",
            "Epoch 131/200\n",
            "74/74 [==============================] - 4s 53ms/step - loss: 0.1053 - accuracy: 0.9704 - val_loss: 1.4032 - val_accuracy: 0.6598\n",
            "Epoch 132/200\n",
            "74/74 [==============================] - 4s 52ms/step - loss: 0.1126 - accuracy: 0.9688 - val_loss: 2.5628 - val_accuracy: 0.5234\n",
            "Epoch 133/200\n",
            "74/74 [==============================] - 4s 52ms/step - loss: 0.1108 - accuracy: 0.9693 - val_loss: 1.1045 - val_accuracy: 0.6400\n",
            "Epoch 134/200\n",
            "74/74 [==============================] - 4s 52ms/step - loss: 0.1065 - accuracy: 0.9717 - val_loss: 0.6830 - val_accuracy: 0.8366\n",
            "Epoch 135/200\n",
            "74/74 [==============================] - 4s 51ms/step - loss: 0.1109 - accuracy: 0.9695 - val_loss: 3.5349 - val_accuracy: 0.3549\n",
            "Epoch 136/200\n",
            "74/74 [==============================] - 4s 52ms/step - loss: 0.1327 - accuracy: 0.9625 - val_loss: 3.5592 - val_accuracy: 0.3696\n",
            "Epoch 137/200\n",
            "74/74 [==============================] - 4s 51ms/step - loss: 0.1942 - accuracy: 0.9409 - val_loss: 0.9737 - val_accuracy: 0.7438\n",
            "Epoch 138/200\n",
            "74/74 [==============================] - 4s 51ms/step - loss: 0.1523 - accuracy: 0.9547 - val_loss: 0.7286 - val_accuracy: 0.8040\n",
            "Epoch 139/200\n",
            "74/74 [==============================] - 4s 52ms/step - loss: 0.1307 - accuracy: 0.9644 - val_loss: 0.9859 - val_accuracy: 0.7098\n",
            "Epoch 140/200\n",
            "74/74 [==============================] - 4s 52ms/step - loss: 0.1171 - accuracy: 0.9690 - val_loss: 2.2266 - val_accuracy: 0.5394\n",
            "Epoch 141/200\n",
            "74/74 [==============================] - 4s 52ms/step - loss: 0.1082 - accuracy: 0.9715 - val_loss: 0.9061 - val_accuracy: 0.6803\n",
            "Epoch 142/200\n",
            "74/74 [==============================] - 4s 52ms/step - loss: 0.1117 - accuracy: 0.9707 - val_loss: 1.8529 - val_accuracy: 0.5913\n",
            "Epoch 143/200\n",
            "74/74 [==============================] - 4s 51ms/step - loss: 0.1035 - accuracy: 0.9738 - val_loss: 0.8377 - val_accuracy: 0.7168\n",
            "Epoch 144/200\n",
            "74/74 [==============================] - 4s 52ms/step - loss: 0.0955 - accuracy: 0.9737 - val_loss: 0.8036 - val_accuracy: 0.7559\n",
            "Epoch 145/200\n",
            "74/74 [==============================] - 4s 52ms/step - loss: 0.0978 - accuracy: 0.9759 - val_loss: 1.2486 - val_accuracy: 0.6547\n",
            "Epoch 146/200\n",
            "74/74 [==============================] - 4s 52ms/step - loss: 0.0901 - accuracy: 0.9764 - val_loss: 0.9095 - val_accuracy: 0.7412\n",
            "Epoch 147/200\n",
            "74/74 [==============================] - 4s 53ms/step - loss: 0.0886 - accuracy: 0.9779 - val_loss: 1.2341 - val_accuracy: 0.6976\n",
            "Epoch 148/200\n",
            "74/74 [==============================] - 4s 52ms/step - loss: 0.0904 - accuracy: 0.9771 - val_loss: 0.6817 - val_accuracy: 0.8149\n",
            "Epoch 149/200\n",
            "74/74 [==============================] - 4s 52ms/step - loss: 0.0879 - accuracy: 0.9752 - val_loss: 1.0771 - val_accuracy: 0.6816\n",
            "Epoch 150/200\n",
            "74/74 [==============================] - 4s 53ms/step - loss: 0.0896 - accuracy: 0.9768 - val_loss: 1.1248 - val_accuracy: 0.7258\n",
            "Epoch 151/200\n",
            "74/74 [==============================] - 4s 52ms/step - loss: 0.1004 - accuracy: 0.9752 - val_loss: 2.6296 - val_accuracy: 0.5714\n",
            "Epoch 152/200\n",
            "74/74 [==============================] - 4s 51ms/step - loss: 0.1013 - accuracy: 0.9720 - val_loss: 1.7607 - val_accuracy: 0.6457\n",
            "Epoch 153/200\n",
            "74/74 [==============================] - 4s 53ms/step - loss: 0.0915 - accuracy: 0.9750 - val_loss: 0.6983 - val_accuracy: 0.7822\n",
            "Epoch 154/200\n",
            "74/74 [==============================] - 4s 53ms/step - loss: 0.0893 - accuracy: 0.9736 - val_loss: 2.7230 - val_accuracy: 0.4779\n",
            "Epoch 155/200\n",
            "74/74 [==============================] - 4s 53ms/step - loss: 0.1052 - accuracy: 0.9706 - val_loss: 1.7843 - val_accuracy: 0.5913\n",
            "Epoch 156/200\n",
            "74/74 [==============================] - 4s 52ms/step - loss: 0.1070 - accuracy: 0.9716 - val_loss: 0.5115 - val_accuracy: 0.8360\n",
            "Epoch 157/200\n",
            "74/74 [==============================] - 4s 53ms/step - loss: 0.0904 - accuracy: 0.9753 - val_loss: 1.6166 - val_accuracy: 0.6618\n",
            "Epoch 158/200\n",
            "74/74 [==============================] - 4s 53ms/step - loss: 0.0925 - accuracy: 0.9746 - val_loss: 1.0826 - val_accuracy: 0.7822\n",
            "Epoch 159/200\n",
            "74/74 [==============================] - 4s 52ms/step - loss: 0.0818 - accuracy: 0.9783 - val_loss: 0.8276 - val_accuracy: 0.8142\n",
            "Epoch 160/200\n",
            "74/74 [==============================] - 4s 53ms/step - loss: 0.0863 - accuracy: 0.9761 - val_loss: 0.5612 - val_accuracy: 0.8565\n",
            "Epoch 161/200\n",
            "74/74 [==============================] - 4s 52ms/step - loss: 0.0792 - accuracy: 0.9792 - val_loss: 1.1324 - val_accuracy: 0.7508\n",
            "Epoch 162/200\n",
            "74/74 [==============================] - 4s 53ms/step - loss: 0.0797 - accuracy: 0.9807 - val_loss: 0.4444 - val_accuracy: 0.8559\n",
            "Epoch 163/200\n",
            "74/74 [==============================] - 4s 52ms/step - loss: 0.0679 - accuracy: 0.9825 - val_loss: 0.8934 - val_accuracy: 0.7265\n",
            "Epoch 164/200\n",
            "74/74 [==============================] - 4s 53ms/step - loss: 0.0703 - accuracy: 0.9800 - val_loss: 0.7791 - val_accuracy: 0.8008\n",
            "Epoch 165/200\n",
            "74/74 [==============================] - 4s 51ms/step - loss: 0.0696 - accuracy: 0.9824 - val_loss: 0.4346 - val_accuracy: 0.8578\n",
            "Epoch 166/200\n",
            "74/74 [==============================] - 4s 54ms/step - loss: 0.0952 - accuracy: 0.9729 - val_loss: 0.8319 - val_accuracy: 0.7675\n",
            "Epoch 167/200\n",
            "74/74 [==============================] - 4s 51ms/step - loss: 0.0972 - accuracy: 0.9745 - val_loss: 0.9786 - val_accuracy: 0.7668\n",
            "Epoch 168/200\n",
            "74/74 [==============================] - 4s 51ms/step - loss: 0.0968 - accuracy: 0.9727 - val_loss: 1.9962 - val_accuracy: 0.6105\n",
            "Epoch 169/200\n",
            "74/74 [==============================] - 4s 52ms/step - loss: 0.0925 - accuracy: 0.9756 - val_loss: 1.3491 - val_accuracy: 0.6791\n",
            "Epoch 170/200\n",
            "74/74 [==============================] - 4s 52ms/step - loss: 0.0872 - accuracy: 0.9739 - val_loss: 0.9278 - val_accuracy: 0.7739\n",
            "Epoch 171/200\n",
            "74/74 [==============================] - 4s 52ms/step - loss: 0.0990 - accuracy: 0.9700 - val_loss: 1.2093 - val_accuracy: 0.7092\n",
            "Epoch 172/200\n",
            "74/74 [==============================] - 4s 53ms/step - loss: 0.0808 - accuracy: 0.9772 - val_loss: 0.4775 - val_accuracy: 0.8520\n",
            "Epoch 173/200\n",
            "74/74 [==============================] - 4s 52ms/step - loss: 0.0763 - accuracy: 0.9798 - val_loss: 0.7539 - val_accuracy: 0.7636\n",
            "Epoch 174/200\n",
            "74/74 [==============================] - 4s 51ms/step - loss: 0.0721 - accuracy: 0.9798 - val_loss: 0.7543 - val_accuracy: 0.7931\n",
            "Epoch 175/200\n",
            "74/74 [==============================] - 4s 53ms/step - loss: 0.0619 - accuracy: 0.9844 - val_loss: 1.6665 - val_accuracy: 0.6425\n",
            "Epoch 176/200\n",
            "74/74 [==============================] - 4s 52ms/step - loss: 0.0782 - accuracy: 0.9798 - val_loss: 1.1131 - val_accuracy: 0.7386\n",
            "Epoch 177/200\n",
            "74/74 [==============================] - 4s 51ms/step - loss: 0.0915 - accuracy: 0.9740 - val_loss: 1.5768 - val_accuracy: 0.6528\n",
            "Epoch 178/200\n",
            "74/74 [==============================] - 4s 52ms/step - loss: 0.0956 - accuracy: 0.9717 - val_loss: 1.0850 - val_accuracy: 0.7598\n",
            "Epoch 179/200\n",
            "74/74 [==============================] - 4s 51ms/step - loss: 0.0778 - accuracy: 0.9796 - val_loss: 0.7728 - val_accuracy: 0.8123\n",
            "Epoch 180/200\n",
            "74/74 [==============================] - 4s 52ms/step - loss: 0.0864 - accuracy: 0.9771 - val_loss: 0.8121 - val_accuracy: 0.8020\n",
            "Epoch 181/200\n",
            "74/74 [==============================] - 4s 52ms/step - loss: 0.1469 - accuracy: 0.9653 - val_loss: 2.8837 - val_accuracy: 0.5721\n",
            "Epoch 182/200\n",
            "74/74 [==============================] - 4s 52ms/step - loss: 0.2166 - accuracy: 0.9463 - val_loss: 1.0032 - val_accuracy: 0.7758\n",
            "Epoch 183/200\n",
            "74/74 [==============================] - 4s 53ms/step - loss: 0.1298 - accuracy: 0.9616 - val_loss: 2.2356 - val_accuracy: 0.5349\n",
            "Epoch 184/200\n",
            "74/74 [==============================] - 4s 52ms/step - loss: 0.0927 - accuracy: 0.9746 - val_loss: 0.5714 - val_accuracy: 0.8360\n",
            "Epoch 185/200\n",
            "74/74 [==============================] - 4s 52ms/step - loss: 0.0788 - accuracy: 0.9782 - val_loss: 0.6465 - val_accuracy: 0.8213\n",
            "Epoch 186/200\n",
            "74/74 [==============================] - 4s 54ms/step - loss: 0.0666 - accuracy: 0.9817 - val_loss: 0.5410 - val_accuracy: 0.8648\n",
            "Epoch 187/200\n",
            "74/74 [==============================] - 4s 55ms/step - loss: 0.0699 - accuracy: 0.9810 - val_loss: 0.4179 - val_accuracy: 0.8783\n",
            "Epoch 188/200\n",
            "74/74 [==============================] - 4s 53ms/step - loss: 0.0626 - accuracy: 0.9834 - val_loss: 0.4853 - val_accuracy: 0.8648\n",
            "Epoch 189/200\n",
            "74/74 [==============================] - 4s 53ms/step - loss: 0.0641 - accuracy: 0.9831 - val_loss: 0.5428 - val_accuracy: 0.8738\n",
            "Epoch 190/200\n",
            "74/74 [==============================] - 4s 52ms/step - loss: 0.0539 - accuracy: 0.9867 - val_loss: 0.6244 - val_accuracy: 0.8495\n",
            "Epoch 191/200\n",
            "74/74 [==============================] - 4s 51ms/step - loss: 0.0529 - accuracy: 0.9883 - val_loss: 0.9626 - val_accuracy: 0.7841\n",
            "Epoch 192/200\n",
            "74/74 [==============================] - 4s 54ms/step - loss: 0.0508 - accuracy: 0.9868 - val_loss: 0.6903 - val_accuracy: 0.8046\n",
            "Epoch 193/200\n",
            "74/74 [==============================] - 4s 52ms/step - loss: 0.0533 - accuracy: 0.9868 - val_loss: 0.7707 - val_accuracy: 0.7937\n",
            "Epoch 194/200\n",
            "74/74 [==============================] - 4s 52ms/step - loss: 0.0522 - accuracy: 0.9847 - val_loss: 1.8107 - val_accuracy: 0.6637\n",
            "Epoch 195/200\n",
            "74/74 [==============================] - 4s 52ms/step - loss: 0.0702 - accuracy: 0.9814 - val_loss: 4.9591 - val_accuracy: 0.4747\n",
            "Epoch 196/200\n",
            "74/74 [==============================] - 4s 53ms/step - loss: 0.0615 - accuracy: 0.9829 - val_loss: 1.4955 - val_accuracy: 0.6662\n",
            "Epoch 197/200\n",
            "74/74 [==============================] - 4s 52ms/step - loss: 0.0568 - accuracy: 0.9827 - val_loss: 0.9989 - val_accuracy: 0.7694\n",
            "Epoch 198/200\n",
            "74/74 [==============================] - 4s 53ms/step - loss: 0.0725 - accuracy: 0.9808 - val_loss: 0.6234 - val_accuracy: 0.8386\n",
            "Epoch 199/200\n",
            "74/74 [==============================] - 4s 53ms/step - loss: 0.0528 - accuracy: 0.9857 - val_loss: 1.2342 - val_accuracy: 0.7457\n",
            "Epoch 200/200\n",
            "74/74 [==============================] - 4s 54ms/step - loss: 0.0543 - accuracy: 0.9859 - val_loss: 0.6752 - val_accuracy: 0.8110\n"
          ],
          "name": "stdout"
        }
      ]
    },
    {
      "cell_type": "code",
      "metadata": {
        "id": "ScP8d4L0Lg-W"
      },
      "source": [
        "# model.save('prime_model.h5')"
      ],
      "execution_count": null,
      "outputs": []
    },
    {
      "cell_type": "code",
      "metadata": {
        "colab": {
          "base_uri": "https://localhost:8080/",
          "height": 338
        },
        "id": "G9XAE607mPhs",
        "outputId": "5b8be265-0a35-41ac-bd8a-07f03161428c"
      },
      "source": [
        "m_acc = history.history['accuracy']\n",
        "fig, ax = plt.subplots(figsize = (15,5))\n",
        "ax.plot(m_acc, color = 'r')\n",
        "ax.plot(history.history['loss'], color = 'b')"
      ],
      "execution_count": 28,
      "outputs": [
        {
          "output_type": "execute_result",
          "data": {
            "text/plain": [
              "[<matplotlib.lines.Line2D at 0x7fe42210a990>]"
            ]
          },
          "metadata": {
            "tags": []
          },
          "execution_count": 28
        },
        {
          "output_type": "display_data",
          "data": {
            "image/png": "[encoded data removed]",
            "text/plain": [
              "<Figure size 1080x360 with 1 Axes>"
            ]
          },
          "metadata": {
            "tags": [],
            "needs_background": "light"
          }
        }
      ]
    },
    {
      "cell_type": "code",
      "metadata": {
        "colab": {
          "base_uri": "https://localhost:8080/",
          "height": 356
        },
        "id": "iPCa-fzpPF19",
        "outputId": "332acac7-fc28-4635-cd7b-4c61b2663e96"
      },
      "source": [
        "m_acc = history.history['accuracy']\n",
        "fig, ax = plt.subplots(figsize = (15,5))\n",
        "ax.plot(m_acc, color = 'r')\n",
        "ax.plot(history.history['val_accuracy'], color = 'b')\n",
        "# plt.legend()"
      ],
      "execution_count": 35,
      "outputs": [
        {
          "output_type": "stream",
          "text": [
            "No handles with labels found to put in legend.\n"
          ],
          "name": "stderr"
        },
        {
          "output_type": "execute_result",
          "data": {
            "text/plain": [
              "<matplotlib.legend.Legend at 0x7fe3940e1510>"
            ]
          },
          "metadata": {
            "tags": []
          },
          "execution_count": 35
        },
        {
          "output_type": "display_data",
          "data": {
            "image/png": "[encoded data removed]",
            "text/plain": [
              "<Figure size 1080x360 with 1 Axes>"
            ]
          },
          "metadata": {
            "tags": [],
            "needs_background": "light"
          }
        }
      ]
    },
    {
      "cell_type": "code",
      "metadata": {
        "colab": {
          "base_uri": "https://localhost:8080/"
        },
        "id": "N0hO7ST7rox4",
        "outputId": "3e49b646-0bfc-424d-ba96-d27355699e81"
      },
      "source": [
        "eval = model.evaluate(test_f,test_l)"
      ],
      "execution_count": 30,
      "outputs": [
        {
          "output_type": "stream",
          "text": [
            "49/49 [==============================] - 0s 8ms/step - loss: 0.6752 - accuracy: 0.8110\n"
          ],
          "name": "stdout"
        }
      ]
    },
    {
      "cell_type": "code",
      "metadata": {
        "id": "JqS4MIPXrybB"
      },
      "source": [
        "b_model = tf.keras.models.load_model('best_trained_model.h5')"
      ],
      "execution_count": 33,
      "outputs": []
    },
    {
      "cell_type": "code",
      "metadata": {
        "id": "Yi86CSU9r3eI",
        "colab": {
          "base_uri": "https://localhost:8080/"
        },
        "outputId": "aecf397f-a996-43c3-94c7-dd6b03137b49"
      },
      "source": [
        "b_model.evaluate(test_f, test_l)"
      ],
      "execution_count": 34,
      "outputs": [
        {
          "output_type": "stream",
          "text": [
            "49/49 [==============================] - 1s 8ms/step - loss: 0.4179 - accuracy: 0.8783\n"
          ],
          "name": "stdout"
        },
        {
          "output_type": "execute_result",
          "data": {
            "text/plain": [
              "[0.41786670684814453, 0.8782831430435181]"
            ]
          },
          "metadata": {
            "tags": []
          },
          "execution_count": 34
        }
      ]
    },
    {
      "cell_type": "code",
      "metadata": {
        "id": "6p9xDKyVQcVe"
      },
      "source": [
        ""
      ],
      "execution_count": null,
      "outputs": []
    },
    {
      "cell_type": "code",
      "metadata": {
        "id": "-7IJK3uGVRE9"
      },
      "source": [
        ""
      ],
      "execution_count": null,
      "outputs": []
    },
    {
      "cell_type": "code",
      "metadata": {
        "id": "Ot829cnfVRCm"
      },
      "source": [
        ""
      ],
      "execution_count": null,
      "outputs": []
    },
    {
      "cell_type": "code",
      "metadata": {
        "id": "99NloevHxfAb"
      },
      "source": [
        "# # adding globel average pooling to the model\n",
        "# codding lstm layers and cnn\n",
        "model_bi_dir = tf.keras.models.Sequential([\n",
        "  tf.keras.layers.Lambda(lambda x: x,\n",
        "                      input_shape=[128, 3]),\n",
        "  tf.keras.layers.Bidirectional(tf.keras.layers.LSTM(32, return_sequences=True)),\n",
        "  tf.keras.layers.Bidirectional(tf.keras.layers.LSTM(32, return_sequences=True)),\n",
        "  tf.keras.layers.Lambda(lambda x: tf.expand_dims(x, axis=-1)),\n",
        "  tf.keras.layers.Conv2D(64,5,strides=(2,2)),\n",
        "  tf.keras.layers.MaxPooling2D((2, 2), strides = (2,2)),\n",
        "  \n",
        "  tf.keras.layers.Conv2D(128,3,strides=(1,1)),  \n",
        "  tf.keras.layers.GlobalAveragePooling2D(),\n",
        "  # tf.keras.layers.Lambda(lambda x: tf.expand_dims(x, axis=-1)),\n",
        "  # parameters ?\n",
        "  tf.keras.layers.BatchNormalization(),\n",
        "  tf.keras.layers.Dense(6, activation='softmax')\n",
        "  \n",
        "])"
      ],
      "execution_count": 36,
      "outputs": []
    },
    {
      "cell_type": "code",
      "metadata": {
        "colab": {
          "base_uri": "https://localhost:8080/"
        },
        "id": "Jw8EoHyiVn_F",
        "outputId": "f5de5685-5ed6-445a-e548-de3248a2fc05"
      },
      "source": [
        "model_bi_dir.summary()"
      ],
      "execution_count": 39,
      "outputs": [
        {
          "output_type": "stream",
          "text": [
            "Model: \"sequential_1\"\n",
            "_________________________________________________________________\n",
            "Layer (type)                 Output Shape              Param #   \n",
            "=================================================================\n",
            "lambda_2 (Lambda)            (None, 128, 3)            0         \n",
            "_________________________________________________________________\n",
            "bidirectional (Bidirectional (None, 128, 64)           9216      \n",
            "_________________________________________________________________\n",
            "bidirectional_1 (Bidirection (None, 128, 64)           24832     \n",
            "_________________________________________________________________\n",
            "lambda_3 (Lambda)            (None, 128, 64, 1)        0         \n",
            "_________________________________________________________________\n",
            "conv2d_2 (Conv2D)            (None, 62, 30, 64)        1664      \n",
            "_________________________________________________________________\n",
            "max_pooling2d_1 (MaxPooling2 (None, 31, 15, 64)        0         \n",
            "_________________________________________________________________\n",
            "conv2d_3 (Conv2D)            (None, 29, 13, 128)       73856     \n",
            "_________________________________________________________________\n",
            "global_average_pooling2d_1 ( (None, 128)               0         \n",
            "_________________________________________________________________\n",
            "batch_normalization_1 (Batch (None, 128)               512       \n",
            "_________________________________________________________________\n",
            "dense_1 (Dense)              (None, 6)                 774       \n",
            "=================================================================\n",
            "Total params: 110,854\n",
            "Trainable params: 110,598\n",
            "Non-trainable params: 256\n",
            "_________________________________________________________________\n"
          ],
          "name": "stdout"
        }
      ]
    },
    {
      "cell_type": "code",
      "metadata": {
        "id": "dbEpOTIGVQ_y"
      },
      "source": [
        "from tensorflow.keras.callbacks import ModelCheckpoint\n",
        "save_bi = ModelCheckpoint('best_trained_model_bi.h5', save_best_only = True)"
      ],
      "execution_count": 40,
      "outputs": []
    },
    {
      "cell_type": "code",
      "metadata": {
        "colab": {
          "base_uri": "https://localhost:8080/"
        },
        "id": "ajObWSLDVQ7r",
        "outputId": "4fd3f7d5-cd9c-4b61-8b77-4376b8c99cb4"
      },
      "source": [
        "optimizer = tf.keras.optimizers.Adam(0.001)\n",
        "model_bi_dir.compile(loss=\"categorical_crossentropy\", optimizer=optimizer, metrics = ['accuracy'])\n",
        "\n",
        "history = model_bi_dir.fit(train_windowed, validation_data=(test_f, test_l), epochs=200,callbacks=[save], verbose=1, batch_size=192)"
      ],
      "execution_count": 42,
      "outputs": [
        {
          "output_type": "stream",
          "text": [
            "Epoch 1/200\n",
            "74/74 [==============================] - 11s 82ms/step - loss: 1.4130 - accuracy: 0.5878 - val_loss: 1.6151 - val_accuracy: 0.3555\n",
            "Epoch 2/200\n",
            "74/74 [==============================] - 5s 64ms/step - loss: 0.9919 - accuracy: 0.7295 - val_loss: 1.5585 - val_accuracy: 0.3555\n",
            "Epoch 3/200\n",
            "74/74 [==============================] - 5s 65ms/step - loss: 0.9159 - accuracy: 0.7398 - val_loss: 1.5424 - val_accuracy: 0.3555\n",
            "Epoch 4/200\n",
            "74/74 [==============================] - 5s 65ms/step - loss: 0.8870 - accuracy: 0.7428 - val_loss: 1.5253 - val_accuracy: 0.3568\n",
            "Epoch 5/200\n",
            "74/74 [==============================] - 5s 65ms/step - loss: 0.8563 - accuracy: 0.7465 - val_loss: 1.5405 - val_accuracy: 0.3581\n",
            "Epoch 6/200\n",
            "74/74 [==============================] - 5s 65ms/step - loss: 0.8053 - accuracy: 0.7520 - val_loss: 2.1952 - val_accuracy: 0.3857\n",
            "Epoch 7/200\n",
            "74/74 [==============================] - 5s 66ms/step - loss: 0.8073 - accuracy: 0.7559 - val_loss: 1.3069 - val_accuracy: 0.6400\n",
            "Epoch 8/200\n",
            "74/74 [==============================] - 5s 65ms/step - loss: 0.7891 - accuracy: 0.7525 - val_loss: 1.7706 - val_accuracy: 0.6496\n",
            "Epoch 9/200\n",
            "74/74 [==============================] - 5s 66ms/step - loss: 0.7696 - accuracy: 0.7616 - val_loss: 1.1623 - val_accuracy: 0.7284\n",
            "Epoch 10/200\n",
            "74/74 [==============================] - 5s 64ms/step - loss: 0.7607 - accuracy: 0.7611 - val_loss: 1.5833 - val_accuracy: 0.7034\n",
            "Epoch 11/200\n",
            "74/74 [==============================] - 5s 66ms/step - loss: 0.7841 - accuracy: 0.7552 - val_loss: 1.7659 - val_accuracy: 0.7201\n",
            "Epoch 12/200\n",
            "74/74 [==============================] - 5s 66ms/step - loss: 0.7665 - accuracy: 0.7557 - val_loss: 2.8241 - val_accuracy: 0.6726\n",
            "Epoch 13/200\n",
            "74/74 [==============================] - 5s 65ms/step - loss: 0.7028 - accuracy: 0.7763 - val_loss: 2.6633 - val_accuracy: 0.6528\n",
            "Epoch 14/200\n",
            "74/74 [==============================] - 5s 66ms/step - loss: 0.6930 - accuracy: 0.7799 - val_loss: 1.0699 - val_accuracy: 0.7386\n",
            "Epoch 15/200\n",
            "74/74 [==============================] - 5s 66ms/step - loss: 0.6711 - accuracy: 0.7855 - val_loss: 1.6298 - val_accuracy: 0.6425\n",
            "Epoch 16/200\n",
            "74/74 [==============================] - 5s 64ms/step - loss: 0.6582 - accuracy: 0.7929 - val_loss: 2.0677 - val_accuracy: 0.6547\n",
            "Epoch 17/200\n",
            "74/74 [==============================] - 5s 65ms/step - loss: 0.6624 - accuracy: 0.7885 - val_loss: 3.2544 - val_accuracy: 0.4433\n",
            "Epoch 18/200\n",
            "74/74 [==============================] - 5s 65ms/step - loss: 0.6316 - accuracy: 0.7925 - val_loss: 1.7021 - val_accuracy: 0.6092\n",
            "Epoch 19/200\n",
            "74/74 [==============================] - 5s 66ms/step - loss: 0.6489 - accuracy: 0.7985 - val_loss: 1.7267 - val_accuracy: 0.6438\n",
            "Epoch 20/200\n",
            "74/74 [==============================] - 5s 66ms/step - loss: 0.6060 - accuracy: 0.7996 - val_loss: 1.5839 - val_accuracy: 0.5625\n",
            "Epoch 21/200\n",
            "74/74 [==============================] - 5s 66ms/step - loss: 0.6047 - accuracy: 0.8145 - val_loss: 0.8841 - val_accuracy: 0.7072\n",
            "Epoch 22/200\n",
            "74/74 [==============================] - 5s 64ms/step - loss: 0.5885 - accuracy: 0.8168 - val_loss: 1.0554 - val_accuracy: 0.7425\n",
            "Epoch 23/200\n",
            "74/74 [==============================] - 5s 65ms/step - loss: 0.5909 - accuracy: 0.8126 - val_loss: 1.7822 - val_accuracy: 0.5298\n",
            "Epoch 24/200\n",
            "74/74 [==============================] - 5s 64ms/step - loss: 0.5827 - accuracy: 0.8109 - val_loss: 1.7315 - val_accuracy: 0.3376\n",
            "Epoch 25/200\n",
            "74/74 [==============================] - 5s 67ms/step - loss: 0.5440 - accuracy: 0.8329 - val_loss: 0.9544 - val_accuracy: 0.7764\n",
            "Epoch 26/200\n",
            "74/74 [==============================] - 5s 66ms/step - loss: 0.5160 - accuracy: 0.8435 - val_loss: 0.7858 - val_accuracy: 0.7726\n",
            "Epoch 27/200\n",
            "74/74 [==============================] - 5s 66ms/step - loss: 0.5314 - accuracy: 0.8286 - val_loss: 1.1270 - val_accuracy: 0.6662\n",
            "Epoch 28/200\n",
            "74/74 [==============================] - 5s 65ms/step - loss: 0.5188 - accuracy: 0.8357 - val_loss: 1.6678 - val_accuracy: 0.4049\n",
            "Epoch 29/200\n",
            "74/74 [==============================] - 5s 67ms/step - loss: 0.4821 - accuracy: 0.8518 - val_loss: 1.1930 - val_accuracy: 0.5496\n",
            "Epoch 30/200\n",
            "74/74 [==============================] - 5s 65ms/step - loss: 0.4804 - accuracy: 0.8479 - val_loss: 2.1941 - val_accuracy: 0.4894\n",
            "Epoch 31/200\n",
            "74/74 [==============================] - 5s 66ms/step - loss: 0.4572 - accuracy: 0.8618 - val_loss: 2.6909 - val_accuracy: 0.4856\n",
            "Epoch 32/200\n",
            "74/74 [==============================] - 5s 66ms/step - loss: 0.4540 - accuracy: 0.8568 - val_loss: 1.1999 - val_accuracy: 0.5874\n",
            "Epoch 33/200\n",
            "74/74 [==============================] - 5s 66ms/step - loss: 0.4263 - accuracy: 0.8756 - val_loss: 2.0577 - val_accuracy: 0.5074\n",
            "Epoch 34/200\n",
            "74/74 [==============================] - 5s 66ms/step - loss: 0.4255 - accuracy: 0.8676 - val_loss: 3.1974 - val_accuracy: 0.2716\n",
            "Epoch 35/200\n",
            "74/74 [==============================] - 5s 65ms/step - loss: 0.4096 - accuracy: 0.8742 - val_loss: 1.6800 - val_accuracy: 0.5400\n",
            "Epoch 36/200\n",
            "74/74 [==============================] - 5s 65ms/step - loss: 0.4232 - accuracy: 0.8786 - val_loss: 1.8325 - val_accuracy: 0.5368\n",
            "Epoch 37/200\n",
            "74/74 [==============================] - 5s 66ms/step - loss: 0.4257 - accuracy: 0.8748 - val_loss: 2.3609 - val_accuracy: 0.4785\n",
            "Epoch 38/200\n",
            "74/74 [==============================] - 5s 65ms/step - loss: 0.3912 - accuracy: 0.8905 - val_loss: 0.7408 - val_accuracy: 0.8040\n",
            "Epoch 39/200\n",
            "74/74 [==============================] - 5s 65ms/step - loss: 0.3949 - accuracy: 0.8895 - val_loss: 0.8869 - val_accuracy: 0.7220\n",
            "Epoch 40/200\n",
            "74/74 [==============================] - 5s 64ms/step - loss: 0.3753 - accuracy: 0.8936 - val_loss: 2.1985 - val_accuracy: 0.3908\n",
            "Epoch 41/200\n",
            "74/74 [==============================] - 5s 65ms/step - loss: 0.3448 - accuracy: 0.9004 - val_loss: 2.6661 - val_accuracy: 0.3786\n",
            "Epoch 42/200\n",
            "74/74 [==============================] - 5s 65ms/step - loss: 0.3421 - accuracy: 0.9007 - val_loss: 4.8370 - val_accuracy: 0.1800\n",
            "Epoch 43/200\n",
            "74/74 [==============================] - 5s 66ms/step - loss: 0.3447 - accuracy: 0.9010 - val_loss: 2.2454 - val_accuracy: 0.4427\n",
            "Epoch 44/200\n",
            "74/74 [==============================] - 5s 65ms/step - loss: 0.3355 - accuracy: 0.9044 - val_loss: 0.9154 - val_accuracy: 0.7860\n",
            "Epoch 45/200\n",
            "74/74 [==============================] - 5s 67ms/step - loss: 0.3387 - accuracy: 0.8993 - val_loss: 1.8151 - val_accuracy: 0.5144\n",
            "Epoch 46/200\n",
            "74/74 [==============================] - 5s 66ms/step - loss: 0.3236 - accuracy: 0.9080 - val_loss: 5.2558 - val_accuracy: 0.1749\n",
            "Epoch 47/200\n",
            "74/74 [==============================] - 5s 65ms/step - loss: 0.3093 - accuracy: 0.9129 - val_loss: 7.7035 - val_accuracy: 0.1807\n",
            "Epoch 48/200\n",
            "74/74 [==============================] - 5s 66ms/step - loss: 0.3101 - accuracy: 0.9088 - val_loss: 5.2162 - val_accuracy: 0.2018\n",
            "Epoch 49/200\n",
            "74/74 [==============================] - 5s 67ms/step - loss: 0.2859 - accuracy: 0.9207 - val_loss: 5.0422 - val_accuracy: 0.3517\n",
            "Epoch 50/200\n",
            "74/74 [==============================] - 5s 66ms/step - loss: 0.2794 - accuracy: 0.9181 - val_loss: 1.4430 - val_accuracy: 0.6150\n",
            "Epoch 51/200\n",
            "74/74 [==============================] - 5s 65ms/step - loss: 0.2794 - accuracy: 0.9208 - val_loss: 1.8235 - val_accuracy: 0.5631\n",
            "Epoch 52/200\n",
            "74/74 [==============================] - 5s 66ms/step - loss: 0.2575 - accuracy: 0.9261 - val_loss: 1.3164 - val_accuracy: 0.7707\n",
            "Epoch 53/200\n",
            "74/74 [==============================] - 5s 65ms/step - loss: 0.2565 - accuracy: 0.9252 - val_loss: 1.0357 - val_accuracy: 0.6899\n",
            "Epoch 54/200\n",
            "74/74 [==============================] - 5s 65ms/step - loss: 0.2498 - accuracy: 0.9275 - val_loss: 2.6217 - val_accuracy: 0.4830\n",
            "Epoch 55/200\n",
            "74/74 [==============================] - 5s 64ms/step - loss: 0.2469 - accuracy: 0.9272 - val_loss: 1.2230 - val_accuracy: 0.6701\n",
            "Epoch 56/200\n",
            "74/74 [==============================] - 5s 64ms/step - loss: 0.2389 - accuracy: 0.9276 - val_loss: 2.6512 - val_accuracy: 0.4414\n",
            "Epoch 57/200\n",
            "74/74 [==============================] - 5s 64ms/step - loss: 0.2327 - accuracy: 0.9348 - val_loss: 1.8331 - val_accuracy: 0.5766\n",
            "Epoch 58/200\n",
            "74/74 [==============================] - 5s 66ms/step - loss: 0.2555 - accuracy: 0.9254 - val_loss: 1.9434 - val_accuracy: 0.5548\n",
            "Epoch 59/200\n",
            "74/74 [==============================] - 5s 65ms/step - loss: 0.2657 - accuracy: 0.9243 - val_loss: 2.3526 - val_accuracy: 0.4926\n",
            "Epoch 60/200\n",
            "74/74 [==============================] - 5s 66ms/step - loss: 0.2510 - accuracy: 0.9270 - val_loss: 4.8193 - val_accuracy: 0.4606\n",
            "Epoch 61/200\n",
            "74/74 [==============================] - 5s 66ms/step - loss: 0.2268 - accuracy: 0.9377 - val_loss: 3.9213 - val_accuracy: 0.3453\n",
            "Epoch 62/200\n",
            "74/74 [==============================] - 5s 65ms/step - loss: 0.2031 - accuracy: 0.9419 - val_loss: 2.0166 - val_accuracy: 0.5516\n",
            "Epoch 63/200\n",
            "74/74 [==============================] - 5s 64ms/step - loss: 0.2016 - accuracy: 0.9445 - val_loss: 0.7085 - val_accuracy: 0.7611\n",
            "Epoch 64/200\n",
            "74/74 [==============================] - 5s 65ms/step - loss: 0.2026 - accuracy: 0.9443 - val_loss: 1.0485 - val_accuracy: 0.7085\n",
            "Epoch 65/200\n",
            "74/74 [==============================] - 5s 65ms/step - loss: 0.1862 - accuracy: 0.9488 - val_loss: 4.1226 - val_accuracy: 0.4849\n",
            "Epoch 66/200\n",
            "74/74 [==============================] - 5s 65ms/step - loss: 0.1842 - accuracy: 0.9458 - val_loss: 2.7343 - val_accuracy: 0.4753\n",
            "Epoch 67/200\n",
            "74/74 [==============================] - 5s 65ms/step - loss: 0.1919 - accuracy: 0.9457 - val_loss: 2.0750 - val_accuracy: 0.6028\n",
            "Epoch 68/200\n",
            "74/74 [==============================] - 5s 65ms/step - loss: 0.1778 - accuracy: 0.9507 - val_loss: 2.0721 - val_accuracy: 0.7521\n",
            "Epoch 69/200\n",
            "74/74 [==============================] - 5s 64ms/step - loss: 0.1820 - accuracy: 0.9488 - val_loss: 3.5380 - val_accuracy: 0.3805\n",
            "Epoch 70/200\n",
            "74/74 [==============================] - 5s 65ms/step - loss: 0.1870 - accuracy: 0.9475 - val_loss: 4.2545 - val_accuracy: 0.2678\n",
            "Epoch 71/200\n",
            "74/74 [==============================] - 5s 68ms/step - loss: 0.2131 - accuracy: 0.9424 - val_loss: 4.1496 - val_accuracy: 0.2396\n",
            "Epoch 72/200\n",
            "74/74 [==============================] - 5s 66ms/step - loss: 0.1727 - accuracy: 0.9542 - val_loss: 2.3270 - val_accuracy: 0.4657\n",
            "Epoch 73/200\n",
            "74/74 [==============================] - 5s 67ms/step - loss: 0.1719 - accuracy: 0.9503 - val_loss: 4.0255 - val_accuracy: 0.3325\n",
            "Epoch 74/200\n",
            "74/74 [==============================] - 5s 65ms/step - loss: 0.1518 - accuracy: 0.9573 - val_loss: 0.9561 - val_accuracy: 0.7277\n",
            "Epoch 75/200\n",
            "74/74 [==============================] - 5s 67ms/step - loss: 0.1556 - accuracy: 0.9558 - val_loss: 0.9685 - val_accuracy: 0.7297\n",
            "Epoch 76/200\n",
            "74/74 [==============================] - 5s 69ms/step - loss: 0.1395 - accuracy: 0.9623 - val_loss: 4.1500 - val_accuracy: 0.4017\n",
            "Epoch 77/200\n",
            "74/74 [==============================] - 5s 70ms/step - loss: 0.1360 - accuracy: 0.9649 - val_loss: 3.9630 - val_accuracy: 0.5151\n",
            "Epoch 78/200\n",
            "74/74 [==============================] - 5s 68ms/step - loss: 0.1418 - accuracy: 0.9604 - val_loss: 1.9539 - val_accuracy: 0.6086\n",
            "Epoch 79/200\n",
            "74/74 [==============================] - 5s 70ms/step - loss: 0.1242 - accuracy: 0.9665 - val_loss: 1.0019 - val_accuracy: 0.7482\n",
            "Epoch 80/200\n",
            "74/74 [==============================] - 5s 70ms/step - loss: 0.1267 - accuracy: 0.9667 - val_loss: 3.8930 - val_accuracy: 0.4696\n",
            "Epoch 81/200\n",
            "74/74 [==============================] - 5s 70ms/step - loss: 0.1321 - accuracy: 0.9632 - val_loss: 1.0214 - val_accuracy: 0.7521\n",
            "Epoch 82/200\n",
            "74/74 [==============================] - 5s 69ms/step - loss: 0.1643 - accuracy: 0.9562 - val_loss: 4.0105 - val_accuracy: 0.5285\n",
            "Epoch 83/200\n",
            "74/74 [==============================] - 5s 68ms/step - loss: 0.2188 - accuracy: 0.9343 - val_loss: 4.7258 - val_accuracy: 0.3069\n",
            "Epoch 84/200\n",
            "74/74 [==============================] - 5s 68ms/step - loss: 0.1995 - accuracy: 0.9408 - val_loss: 3.8552 - val_accuracy: 0.3261\n",
            "Epoch 85/200\n",
            "74/74 [==============================] - 5s 67ms/step - loss: 0.2014 - accuracy: 0.9538 - val_loss: 0.8144 - val_accuracy: 0.7873\n",
            "Epoch 86/200\n",
            "74/74 [==============================] - 5s 67ms/step - loss: 0.1716 - accuracy: 0.9544 - val_loss: 2.9856 - val_accuracy: 0.5259\n",
            "Epoch 87/200\n",
            "74/74 [==============================] - 5s 66ms/step - loss: 0.1575 - accuracy: 0.9584 - val_loss: 2.0316 - val_accuracy: 0.5317\n",
            "Epoch 88/200\n",
            "74/74 [==============================] - 5s 66ms/step - loss: 0.1786 - accuracy: 0.9561 - val_loss: 4.2028 - val_accuracy: 0.4817\n",
            "Epoch 89/200\n",
            "74/74 [==============================] - 5s 67ms/step - loss: 0.2303 - accuracy: 0.9386 - val_loss: 1.2623 - val_accuracy: 0.7040\n",
            "Epoch 90/200\n",
            "74/74 [==============================] - 5s 66ms/step - loss: 0.2300 - accuracy: 0.9342 - val_loss: 1.6910 - val_accuracy: 0.6361\n",
            "Epoch 91/200\n",
            "74/74 [==============================] - 5s 67ms/step - loss: 0.1764 - accuracy: 0.9543 - val_loss: 0.7687 - val_accuracy: 0.7783\n",
            "Epoch 92/200\n",
            "74/74 [==============================] - 5s 66ms/step - loss: 0.1456 - accuracy: 0.9623 - val_loss: 0.9119 - val_accuracy: 0.7719\n",
            "Epoch 93/200\n",
            "74/74 [==============================] - 5s 67ms/step - loss: 0.1336 - accuracy: 0.9643 - val_loss: 0.8081 - val_accuracy: 0.8014\n",
            "Epoch 94/200\n",
            "74/74 [==============================] - 5s 66ms/step - loss: 0.1202 - accuracy: 0.9683 - val_loss: 0.6274 - val_accuracy: 0.8283\n",
            "Epoch 95/200\n",
            "74/74 [==============================] - 5s 66ms/step - loss: 0.1138 - accuracy: 0.9707 - val_loss: 0.8599 - val_accuracy: 0.8168\n",
            "Epoch 96/200\n",
            "74/74 [==============================] - 5s 67ms/step - loss: 0.1135 - accuracy: 0.9707 - val_loss: 0.6038 - val_accuracy: 0.8347\n",
            "Epoch 97/200\n",
            "74/74 [==============================] - 5s 67ms/step - loss: 0.1105 - accuracy: 0.9696 - val_loss: 0.6648 - val_accuracy: 0.8322\n",
            "Epoch 98/200\n",
            "74/74 [==============================] - 5s 65ms/step - loss: 0.1074 - accuracy: 0.9722 - val_loss: 0.7956 - val_accuracy: 0.8149\n",
            "Epoch 99/200\n",
            "74/74 [==============================] - 5s 65ms/step - loss: 0.0991 - accuracy: 0.9744 - val_loss: 0.7472 - val_accuracy: 0.8225\n",
            "Epoch 100/200\n",
            "74/74 [==============================] - 5s 66ms/step - loss: 0.1026 - accuracy: 0.9728 - val_loss: 1.3271 - val_accuracy: 0.7271\n",
            "Epoch 101/200\n",
            "74/74 [==============================] - 5s 66ms/step - loss: 0.0996 - accuracy: 0.9729 - val_loss: 1.0209 - val_accuracy: 0.7732\n",
            "Epoch 102/200\n",
            "74/74 [==============================] - 5s 65ms/step - loss: 0.0986 - accuracy: 0.9734 - val_loss: 1.2693 - val_accuracy: 0.7572\n",
            "Epoch 103/200\n",
            "74/74 [==============================] - 5s 66ms/step - loss: 0.1013 - accuracy: 0.9723 - val_loss: 1.1090 - val_accuracy: 0.7636\n",
            "Epoch 104/200\n",
            "74/74 [==============================] - 5s 67ms/step - loss: 0.1156 - accuracy: 0.9688 - val_loss: 1.1660 - val_accuracy: 0.6912\n",
            "Epoch 105/200\n",
            "74/74 [==============================] - 5s 67ms/step - loss: 0.1155 - accuracy: 0.9689 - val_loss: 1.3988 - val_accuracy: 0.7233\n",
            "Epoch 106/200\n",
            "74/74 [==============================] - 5s 67ms/step - loss: 0.1755 - accuracy: 0.9512 - val_loss: 2.2022 - val_accuracy: 0.5727\n",
            "Epoch 107/200\n",
            "74/74 [==============================] - 5s 66ms/step - loss: 0.1316 - accuracy: 0.9598 - val_loss: 1.4144 - val_accuracy: 0.6233\n",
            "Epoch 108/200\n",
            "74/74 [==============================] - 5s 67ms/step - loss: 0.1183 - accuracy: 0.9676 - val_loss: 1.7015 - val_accuracy: 0.6419\n",
            "Epoch 109/200\n",
            "74/74 [==============================] - 5s 67ms/step - loss: 0.0988 - accuracy: 0.9739 - val_loss: 0.7732 - val_accuracy: 0.7963\n",
            "Epoch 110/200\n",
            "74/74 [==============================] - 5s 66ms/step - loss: 0.1034 - accuracy: 0.9715 - val_loss: 0.9093 - val_accuracy: 0.7681\n",
            "Epoch 111/200\n",
            "74/74 [==============================] - 5s 67ms/step - loss: 0.1015 - accuracy: 0.9731 - val_loss: 0.6721 - val_accuracy: 0.8366\n",
            "Epoch 112/200\n",
            "74/74 [==============================] - 5s 66ms/step - loss: 0.0932 - accuracy: 0.9756 - val_loss: 0.6484 - val_accuracy: 0.8488\n",
            "Epoch 113/200\n",
            "74/74 [==============================] - 5s 67ms/step - loss: 0.0922 - accuracy: 0.9761 - val_loss: 0.8215 - val_accuracy: 0.8091\n",
            "Epoch 114/200\n",
            "74/74 [==============================] - 5s 66ms/step - loss: 0.0900 - accuracy: 0.9763 - val_loss: 1.0167 - val_accuracy: 0.7322\n",
            "Epoch 115/200\n",
            "74/74 [==============================] - 5s 68ms/step - loss: 0.1046 - accuracy: 0.9700 - val_loss: 0.7722 - val_accuracy: 0.8527\n",
            "Epoch 116/200\n",
            "74/74 [==============================] - 5s 69ms/step - loss: 0.0936 - accuracy: 0.9743 - val_loss: 1.0184 - val_accuracy: 0.7764\n",
            "Epoch 117/200\n",
            "74/74 [==============================] - 5s 68ms/step - loss: 0.0986 - accuracy: 0.9744 - val_loss: 1.4429 - val_accuracy: 0.7438\n",
            "Epoch 118/200\n",
            "74/74 [==============================] - 5s 68ms/step - loss: 0.0925 - accuracy: 0.9749 - val_loss: 1.0579 - val_accuracy: 0.8181\n",
            "Epoch 119/200\n",
            "74/74 [==============================] - 5s 69ms/step - loss: 0.1008 - accuracy: 0.9739 - val_loss: 1.0754 - val_accuracy: 0.7803\n",
            "Epoch 120/200\n",
            "74/74 [==============================] - 5s 67ms/step - loss: 0.0904 - accuracy: 0.9754 - val_loss: 2.3003 - val_accuracy: 0.5868\n",
            "Epoch 121/200\n",
            "74/74 [==============================] - 5s 68ms/step - loss: 0.0810 - accuracy: 0.9765 - val_loss: 1.4041 - val_accuracy: 0.7591\n",
            "Epoch 122/200\n",
            "74/74 [==============================] - 5s 68ms/step - loss: 0.0828 - accuracy: 0.9789 - val_loss: 1.5045 - val_accuracy: 0.6957\n",
            "Epoch 123/200\n",
            "74/74 [==============================] - 5s 68ms/step - loss: 0.0727 - accuracy: 0.9803 - val_loss: 1.0832 - val_accuracy: 0.8059\n",
            "Epoch 124/200\n",
            "74/74 [==============================] - 5s 68ms/step - loss: 0.0898 - accuracy: 0.9743 - val_loss: 2.5120 - val_accuracy: 0.5368\n",
            "Epoch 125/200\n",
            "74/74 [==============================] - 5s 68ms/step - loss: 0.0881 - accuracy: 0.9751 - val_loss: 1.5345 - val_accuracy: 0.7201\n",
            "Epoch 126/200\n",
            "74/74 [==============================] - 5s 67ms/step - loss: 0.1037 - accuracy: 0.9721 - val_loss: 4.5982 - val_accuracy: 0.3331\n",
            "Epoch 127/200\n",
            "74/74 [==============================] - 5s 70ms/step - loss: 0.0905 - accuracy: 0.9747 - val_loss: 0.8192 - val_accuracy: 0.8347\n",
            "Epoch 128/200\n",
            "74/74 [==============================] - 5s 69ms/step - loss: 0.0819 - accuracy: 0.9768 - val_loss: 1.2758 - val_accuracy: 0.7700\n",
            "Epoch 129/200\n",
            "74/74 [==============================] - 5s 68ms/step - loss: 0.0687 - accuracy: 0.9816 - val_loss: 1.6336 - val_accuracy: 0.6823\n",
            "Epoch 130/200\n",
            "74/74 [==============================] - 5s 69ms/step - loss: 0.0643 - accuracy: 0.9828 - val_loss: 1.6541 - val_accuracy: 0.7239\n",
            "Epoch 131/200\n",
            "74/74 [==============================] - 5s 69ms/step - loss: 0.0738 - accuracy: 0.9774 - val_loss: 0.8400 - val_accuracy: 0.8392\n",
            "Epoch 132/200\n",
            "74/74 [==============================] - 5s 68ms/step - loss: 0.0793 - accuracy: 0.9777 - val_loss: 2.5264 - val_accuracy: 0.6560\n",
            "Epoch 133/200\n",
            "74/74 [==============================] - 5s 69ms/step - loss: 0.0979 - accuracy: 0.9720 - val_loss: 2.2312 - val_accuracy: 0.5830\n",
            "Epoch 134/200\n",
            "74/74 [==============================] - 5s 69ms/step - loss: 0.1096 - accuracy: 0.9681 - val_loss: 2.4462 - val_accuracy: 0.5951\n",
            "Epoch 135/200\n",
            "74/74 [==============================] - 5s 69ms/step - loss: 0.1005 - accuracy: 0.9726 - val_loss: 4.6393 - val_accuracy: 0.2671\n",
            "Epoch 136/200\n",
            "74/74 [==============================] - 5s 68ms/step - loss: 0.0729 - accuracy: 0.9800 - val_loss: 2.8678 - val_accuracy: 0.6342\n",
            "Epoch 137/200\n",
            "74/74 [==============================] - 5s 68ms/step - loss: 0.0667 - accuracy: 0.9805 - val_loss: 1.2110 - val_accuracy: 0.7867\n",
            "Epoch 138/200\n",
            "74/74 [==============================] - 5s 70ms/step - loss: 0.0604 - accuracy: 0.9832 - val_loss: 4.0694 - val_accuracy: 0.3940\n",
            "Epoch 139/200\n",
            "74/74 [==============================] - 5s 69ms/step - loss: 0.0547 - accuracy: 0.9847 - val_loss: 1.3436 - val_accuracy: 0.7444\n",
            "Epoch 140/200\n",
            "74/74 [==============================] - 5s 69ms/step - loss: 0.0501 - accuracy: 0.9871 - val_loss: 1.1568 - val_accuracy: 0.7758\n",
            "Epoch 141/200\n",
            "74/74 [==============================] - 5s 68ms/step - loss: 0.0605 - accuracy: 0.9819 - val_loss: 1.0420 - val_accuracy: 0.7841\n",
            "Epoch 142/200\n",
            "74/74 [==============================] - 5s 67ms/step - loss: 0.0627 - accuracy: 0.9832 - val_loss: 1.3304 - val_accuracy: 0.7335\n",
            "Epoch 143/200\n",
            "74/74 [==============================] - 5s 68ms/step - loss: 0.0586 - accuracy: 0.9852 - val_loss: 2.0495 - val_accuracy: 0.6784\n",
            "Epoch 144/200\n",
            "74/74 [==============================] - 5s 68ms/step - loss: 0.0482 - accuracy: 0.9876 - val_loss: 4.4365 - val_accuracy: 0.4728\n",
            "Epoch 145/200\n",
            "74/74 [==============================] - 5s 68ms/step - loss: 0.0463 - accuracy: 0.9877 - val_loss: 0.9198 - val_accuracy: 0.7931\n",
            "Epoch 146/200\n",
            "74/74 [==============================] - 5s 68ms/step - loss: 0.0566 - accuracy: 0.9845 - val_loss: 1.6547 - val_accuracy: 0.7514\n",
            "Epoch 147/200\n",
            "74/74 [==============================] - 5s 68ms/step - loss: 0.0626 - accuracy: 0.9823 - val_loss: 1.4098 - val_accuracy: 0.7649\n",
            "Epoch 148/200\n",
            "74/74 [==============================] - 5s 68ms/step - loss: 0.0778 - accuracy: 0.9759 - val_loss: 1.0148 - val_accuracy: 0.7976\n",
            "Epoch 149/200\n",
            "74/74 [==============================] - 5s 68ms/step - loss: 0.1091 - accuracy: 0.9680 - val_loss: 2.2690 - val_accuracy: 0.6477\n",
            "Epoch 150/200\n",
            "74/74 [==============================] - 5s 67ms/step - loss: 0.1746 - accuracy: 0.9513 - val_loss: 3.9211 - val_accuracy: 0.4926\n",
            "Epoch 151/200\n",
            "74/74 [==============================] - 5s 68ms/step - loss: 0.1149 - accuracy: 0.9645 - val_loss: 4.6680 - val_accuracy: 0.3312\n",
            "Epoch 152/200\n",
            "74/74 [==============================] - 5s 68ms/step - loss: 0.0693 - accuracy: 0.9799 - val_loss: 1.0931 - val_accuracy: 0.8008\n",
            "Epoch 153/200\n",
            "74/74 [==============================] - 5s 67ms/step - loss: 0.0530 - accuracy: 0.9853 - val_loss: 1.8018 - val_accuracy: 0.6521\n",
            "Epoch 154/200\n",
            "74/74 [==============================] - 5s 68ms/step - loss: 0.0469 - accuracy: 0.9868 - val_loss: 1.0145 - val_accuracy: 0.8033\n",
            "Epoch 155/200\n",
            "74/74 [==============================] - 5s 68ms/step - loss: 0.0393 - accuracy: 0.9897 - val_loss: 1.1535 - val_accuracy: 0.7713\n",
            "Epoch 156/200\n",
            "74/74 [==============================] - 5s 68ms/step - loss: 0.0355 - accuracy: 0.9907 - val_loss: 1.1989 - val_accuracy: 0.7700\n",
            "Epoch 157/200\n",
            "74/74 [==============================] - 5s 67ms/step - loss: 0.0354 - accuracy: 0.9909 - val_loss: 1.4640 - val_accuracy: 0.7771\n",
            "Epoch 158/200\n",
            "74/74 [==============================] - 5s 66ms/step - loss: 0.0304 - accuracy: 0.9925 - val_loss: 1.4195 - val_accuracy: 0.7732\n",
            "Epoch 159/200\n",
            "74/74 [==============================] - 5s 66ms/step - loss: 0.0277 - accuracy: 0.9927 - val_loss: 3.0998 - val_accuracy: 0.5394\n",
            "Epoch 160/200\n",
            "74/74 [==============================] - 5s 66ms/step - loss: 0.0329 - accuracy: 0.9908 - val_loss: 1.4072 - val_accuracy: 0.7745\n",
            "Epoch 161/200\n",
            "74/74 [==============================] - 5s 66ms/step - loss: 0.0330 - accuracy: 0.9913 - val_loss: 2.1113 - val_accuracy: 0.6560\n",
            "Epoch 162/200\n",
            "74/74 [==============================] - 5s 67ms/step - loss: 0.0593 - accuracy: 0.9816 - val_loss: 9.2048 - val_accuracy: 0.1352\n",
            "Epoch 163/200\n",
            "74/74 [==============================] - 5s 66ms/step - loss: 0.1074 - accuracy: 0.9734 - val_loss: 5.5856 - val_accuracy: 0.4260\n",
            "Epoch 164/200\n",
            "74/74 [==============================] - 5s 67ms/step - loss: 0.1573 - accuracy: 0.9621 - val_loss: 6.1394 - val_accuracy: 0.4568\n",
            "Epoch 165/200\n",
            "74/74 [==============================] - 5s 66ms/step - loss: 0.1655 - accuracy: 0.9581 - val_loss: 1.5269 - val_accuracy: 0.7918\n",
            "Epoch 166/200\n",
            "74/74 [==============================] - 5s 67ms/step - loss: 0.1363 - accuracy: 0.9624 - val_loss: 2.1316 - val_accuracy: 0.6156\n",
            "Epoch 167/200\n",
            "74/74 [==============================] - 5s 67ms/step - loss: 0.0806 - accuracy: 0.9785 - val_loss: 0.7904 - val_accuracy: 0.8219\n",
            "Epoch 168/200\n",
            "74/74 [==============================] - 5s 66ms/step - loss: 0.0540 - accuracy: 0.9848 - val_loss: 0.8562 - val_accuracy: 0.8379\n",
            "Epoch 169/200\n",
            "74/74 [==============================] - 5s 66ms/step - loss: 0.0440 - accuracy: 0.9874 - val_loss: 0.8199 - val_accuracy: 0.8386\n",
            "Epoch 170/200\n",
            "74/74 [==============================] - 5s 67ms/step - loss: 0.0384 - accuracy: 0.9893 - val_loss: 1.0704 - val_accuracy: 0.8187\n",
            "Epoch 171/200\n",
            "74/74 [==============================] - 5s 68ms/step - loss: 0.0349 - accuracy: 0.9904 - val_loss: 0.9140 - val_accuracy: 0.8322\n",
            "Epoch 172/200\n",
            "74/74 [==============================] - 5s 66ms/step - loss: 0.0307 - accuracy: 0.9921 - val_loss: 0.9410 - val_accuracy: 0.8290\n",
            "Epoch 173/200\n",
            "74/74 [==============================] - 5s 66ms/step - loss: 0.0270 - accuracy: 0.9929 - val_loss: 1.1948 - val_accuracy: 0.8219\n",
            "Epoch 174/200\n",
            "74/74 [==============================] - 5s 66ms/step - loss: 0.0280 - accuracy: 0.9925 - val_loss: 1.0130 - val_accuracy: 0.8149\n",
            "Epoch 175/200\n",
            "74/74 [==============================] - 5s 66ms/step - loss: 0.0224 - accuracy: 0.9947 - val_loss: 0.9100 - val_accuracy: 0.8347\n",
            "Epoch 176/200\n",
            "74/74 [==============================] - 5s 66ms/step - loss: 0.0220 - accuracy: 0.9936 - val_loss: 1.0910 - val_accuracy: 0.8302\n",
            "Epoch 177/200\n",
            "74/74 [==============================] - 5s 67ms/step - loss: 0.0223 - accuracy: 0.9936 - val_loss: 1.1358 - val_accuracy: 0.8104\n",
            "Epoch 178/200\n",
            "74/74 [==============================] - 5s 65ms/step - loss: 0.0225 - accuracy: 0.9944 - val_loss: 1.6518 - val_accuracy: 0.7892\n",
            "Epoch 179/200\n",
            "74/74 [==============================] - 5s 66ms/step - loss: 0.0431 - accuracy: 0.9867 - val_loss: 6.4913 - val_accuracy: 0.5119\n",
            "Epoch 180/200\n",
            "74/74 [==============================] - 5s 67ms/step - loss: 0.0531 - accuracy: 0.9842 - val_loss: 2.6130 - val_accuracy: 0.7265\n",
            "Epoch 181/200\n",
            "74/74 [==============================] - 5s 67ms/step - loss: 0.0487 - accuracy: 0.9843 - val_loss: 1.8544 - val_accuracy: 0.7194\n",
            "Epoch 182/200\n",
            "74/74 [==============================] - 5s 67ms/step - loss: 0.0638 - accuracy: 0.9817 - val_loss: 2.8349 - val_accuracy: 0.6143\n",
            "Epoch 183/200\n",
            "74/74 [==============================] - 5s 66ms/step - loss: 0.0406 - accuracy: 0.9891 - val_loss: 0.9997 - val_accuracy: 0.8334\n",
            "Epoch 184/200\n",
            "74/74 [==============================] - 5s 66ms/step - loss: 0.0361 - accuracy: 0.9904 - val_loss: 1.1594 - val_accuracy: 0.7867\n",
            "Epoch 185/200\n",
            "74/74 [==============================] - 5s 66ms/step - loss: 0.0248 - accuracy: 0.9925 - val_loss: 0.9690 - val_accuracy: 0.8527\n",
            "Epoch 186/200\n",
            "74/74 [==============================] - 5s 66ms/step - loss: 0.0263 - accuracy: 0.9940 - val_loss: 2.1545 - val_accuracy: 0.6176\n",
            "Epoch 187/200\n",
            "74/74 [==============================] - 5s 66ms/step - loss: 0.0183 - accuracy: 0.9951 - val_loss: 2.1690 - val_accuracy: 0.6752\n",
            "Epoch 188/200\n",
            "74/74 [==============================] - 5s 67ms/step - loss: 0.0175 - accuracy: 0.9952 - val_loss: 1.1348 - val_accuracy: 0.8085\n",
            "Epoch 189/200\n",
            "74/74 [==============================] - 5s 67ms/step - loss: 0.0360 - accuracy: 0.9893 - val_loss: 1.9815 - val_accuracy: 0.6400\n",
            "Epoch 190/200\n",
            "74/74 [==============================] - 5s 66ms/step - loss: 0.0519 - accuracy: 0.9851 - val_loss: 3.1438 - val_accuracy: 0.6131\n",
            "Epoch 191/200\n",
            "74/74 [==============================] - 5s 67ms/step - loss: 0.0424 - accuracy: 0.9868 - val_loss: 1.6291 - val_accuracy: 0.7514\n",
            "Epoch 192/200\n",
            "74/74 [==============================] - 5s 65ms/step - loss: 0.0525 - accuracy: 0.9831 - val_loss: 5.0131 - val_accuracy: 0.2569\n",
            "Epoch 193/200\n",
            "74/74 [==============================] - 5s 66ms/step - loss: 0.0660 - accuracy: 0.9785 - val_loss: 1.0879 - val_accuracy: 0.8149\n",
            "Epoch 194/200\n",
            "74/74 [==============================] - 5s 65ms/step - loss: 0.0567 - accuracy: 0.9837 - val_loss: 1.3668 - val_accuracy: 0.7514\n",
            "Epoch 195/200\n",
            "74/74 [==============================] - 5s 66ms/step - loss: 0.0388 - accuracy: 0.9886 - val_loss: 2.4230 - val_accuracy: 0.6124\n",
            "Epoch 196/200\n",
            "74/74 [==============================] - 5s 66ms/step - loss: 0.0226 - accuracy: 0.9944 - val_loss: 1.0619 - val_accuracy: 0.8482\n",
            "Epoch 197/200\n",
            "74/74 [==============================] - 5s 66ms/step - loss: 0.0166 - accuracy: 0.9963 - val_loss: 0.9469 - val_accuracy: 0.8463\n",
            "Epoch 198/200\n",
            "74/74 [==============================] - 5s 67ms/step - loss: 0.0155 - accuracy: 0.9962 - val_loss: 3.8572 - val_accuracy: 0.5240\n",
            "Epoch 199/200\n",
            "74/74 [==============================] - 5s 66ms/step - loss: 0.0332 - accuracy: 0.9899 - val_loss: 2.1372 - val_accuracy: 0.6791\n",
            "Epoch 200/200\n",
            "74/74 [==============================] - 5s 67ms/step - loss: 0.0261 - accuracy: 0.9921 - val_loss: 4.1537 - val_accuracy: 0.5554\n"
          ],
          "name": "stdout"
        }
      ]
    },
    {
      "cell_type": "code",
      "metadata": {
        "colab": {
          "base_uri": "https://localhost:8080/",
          "height": 338
        },
        "id": "yl77eOXhVQ4k",
        "outputId": "8d432d87-652e-4f5b-a3ef-271688f45c1e"
      },
      "source": [
        "m_acc = history.history['accuracy']\n",
        "fig, ax = plt.subplots(figsize = (15,5))\n",
        "ax.plot(m_acc, color = 'r')\n",
        "ax.plot(history.history['val_accuracy'], color = 'b')\n",
        "# plt.legend()"
      ],
      "execution_count": 43,
      "outputs": [
        {
          "output_type": "execute_result",
          "data": {
            "text/plain": [
              "[<matplotlib.lines.Line2D at 0x7fe2d9f56c50>]"
            ]
          },
          "metadata": {
            "tags": []
          },
          "execution_count": 43
        },
        {
          "output_type": "display_data",
          "data": {
            "image/png": "[encoded data removed]",
            "text/plain": [
              "<Figure size 1080x360 with 1 Axes>"
            ]
          },
          "metadata": {
            "tags": [],
            "needs_background": "light"
          }
        }
      ]
    },
    {
      "cell_type": "code",
      "metadata": {
        "id": "rNQBCCeEai-b"
      },
      "source": [
        ""
      ],
      "execution_count": null,
      "outputs": []
    }
  ]
}