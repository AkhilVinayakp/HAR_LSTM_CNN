{
  "nbformat": 4,
  "nbformat_minor": 0,
  "metadata": {
    "colab": {
      "name": "lstm_cnn_model_HAR.ipynb",
      "provenance": [],
      "mount_file_id": "1UAHKwx0R6jAxhvNEVZjOVJKEofFK0qLS",
      "authorship_tag": "ABX9TyMzI2EfOI1P8Aa4rygnrUce",
      "include_colab_link": true
    },
    "kernelspec": {
      "name": "python3",
      "display_name": "Python 3"
    },
    "language_info": {
      "name": "python"
    },
    "accelerator": "GPU"
  },
  "cells": [
    {
      "cell_type": "markdown",
      "metadata": {
        "id": "view-in-github",
        "colab_type": "text"
      },
      "source": [
        "<a href=\"https://colab.research.google.com/github/AkhilVinayakp/HAR_LSTM_CNN/blob/main/lstm_cnn_model_HAR.ipynb\" target=\"_parent\"><img src=\"https://colab.research.google.com/assets/colab-badge.svg\" alt=\"Open In Colab\"/></a>"
      ]
    },
    {
      "cell_type": "code",
      "metadata": {
        "id": "ysB2LamaJ2HA"
      },
      "source": [
        "import tensorflow as tf\n",
        "import pandas as pd\n",
        "import numpy as np\n",
        "import matplotlib.pyplot as plt"
      ],
      "execution_count": 1,
      "outputs": []
    },
    {
      "cell_type": "code",
      "metadata": {
        "colab": {
          "base_uri": "https://localhost:8080/",
          "height": 54
        },
        "id": "jrWG6-AgKA_J",
        "outputId": "5a4881bc-16e3-4dbc-a253-6a9d284da32d"
      },
      "source": [
        "%cd /content/drive/My\\ Drive/datasets \n",
        "%pwd"
      ],
      "execution_count": 2,
      "outputs": [
        {
          "output_type": "stream",
          "text": [
            "/content/drive/My Drive/datasets\n"
          ],
          "name": "stdout"
        },
        {
          "output_type": "execute_result",
          "data": {
            "application/vnd.google.colaboratory.intrinsic+json": {
              "type": "string"
            },
            "text/plain": [
              "'/content/drive/My Drive/datasets'"
            ]
          },
          "metadata": {
            "tags": []
          },
          "execution_count": 2
        }
      ]
    },
    {
      "cell_type": "code",
      "metadata": {
        "id": "tw4KPSlgKBMu"
      },
      "source": [
        "\n",
        "df =  pd.read_csv('int_norm.csv')"
      ],
      "execution_count": 3,
      "outputs": []
    },
    {
      "cell_type": "code",
      "metadata": {
        "colab": {
          "base_uri": "https://localhost:8080/"
        },
        "id": "osom7hIcKECg",
        "outputId": "832ced47-7d32-405f-c027-2646cf1a3668"
      },
      "source": [
        "df.shape"
      ],
      "execution_count": 4,
      "outputs": [
        {
          "output_type": "execute_result",
          "data": {
            "text/plain": [
              "(1098204, 6)"
            ]
          },
          "metadata": {
            "tags": []
          },
          "execution_count": 4
        }
      ]
    },
    {
      "cell_type": "code",
      "metadata": {
        "id": "b8VebeFoKFrV"
      },
      "source": [
        "def create_windowed_dataset(series, window_size,shift_size, batch_size,shuffle_buffer):\n",
        "  dataset = tf.data.Dataset.from_tensor_slices(series)\n",
        "  dataset = dataset.window(window_size , shift = shift_size, drop_remainder = True)\n",
        "  dataset = dataset.flat_map(lambda window: window.batch(window_size))\n",
        "  dataset = dataset.map(lambda window: ( window[:,1:], tf.one_hot(tf.cast(window[window_size -1 , 0], tf.int64), depth=6) ))\n",
        "  dataset = dataset.shuffle(shuffle_buffer)\n",
        "  dataset = dataset.batch(batch_size).prefetch(1)\n",
        "  return dataset"
      ],
      "execution_count": 5,
      "outputs": []
    },
    {
      "cell_type": "code",
      "metadata": {
        "id": "WBMeh6jNKKg4"
      },
      "source": [
        "df.drop('timestamp', axis = 1, inplace=True)"
      ],
      "execution_count": 6,
      "outputs": []
    },
    {
      "cell_type": "code",
      "metadata": {
        "id": "7tw6c_W6KNDX"
      },
      "source": [
        "df.activity = df.activity.astype('category').cat.codes\n",
        "df.activity = df.activity.astype('int64')"
      ],
      "execution_count": 7,
      "outputs": []
    },
    {
      "cell_type": "code",
      "metadata": {
        "id": "2epXqU7LKWUH"
      },
      "source": [
        "train = df[df['user'] < 31 ]\n",
        "test = df[df['user'] > 30]"
      ],
      "execution_count": 8,
      "outputs": []
    },
    {
      "cell_type": "code",
      "metadata": {
        "colab": {
          "base_uri": "https://localhost:8080/"
        },
        "id": "2TZrOk5sKb_p",
        "outputId": "46082677-d2aa-4f1f-f7da-dec51859b66f"
      },
      "source": [
        "train.drop('user', axis = 1, inplace=True)\n",
        "test.drop('user', axis = 1, inplace=True)\n",
        "train.reset_index(drop = True, inplace = True)\n",
        "test.reset_index(drop=True, inplace=True)"
      ],
      "execution_count": 9,
      "outputs": [
        {
          "output_type": "stream",
          "text": [
            "/usr/local/lib/python3.7/dist-packages/pandas/core/frame.py:4174: SettingWithCopyWarning: \n",
            "A value is trying to be set on a copy of a slice from a DataFrame\n",
            "\n",
            "See the caveats in the documentation: https://pandas.pydata.org/pandas-docs/stable/user_guide/indexing.html#returning-a-view-versus-a-copy\n",
            "  errors=errors,\n"
          ],
          "name": "stderr"
        }
      ]
    },
    {
      "cell_type": "code",
      "metadata": {
        "colab": {
          "base_uri": "https://localhost:8080/"
        },
        "id": "m4_VVQdIKxWW",
        "outputId": "8fd2277d-d67d-47f3-d04b-f0e2dd35f434"
      },
      "source": [
        "print(train.shape)\n",
        "print(test.shape)"
      ],
      "execution_count": 10,
      "outputs": [
        {
          "output_type": "stream",
          "text": [
            "(898361, 4)\n",
            "(199843, 4)\n"
          ],
          "name": "stdout"
        }
      ]
    },
    {
      "cell_type": "code",
      "metadata": {
        "colab": {
          "base_uri": "https://localhost:8080/",
          "height": 206
        },
        "id": "rpWjLVPCK3NH",
        "outputId": "f879f41c-9f55-4d44-8818-22d1009fca46"
      },
      "source": [
        "train.head()"
      ],
      "execution_count": 11,
      "outputs": [
        {
          "output_type": "execute_result",
          "data": {
            "text/html": [
              "<div>\n",
              "<style scoped>\n",
              "    .dataframe tbody tr th:only-of-type {\n",
              "        vertical-align: middle;\n",
              "    }\n",
              "\n",
              "    .dataframe tbody tr th {\n",
              "        vertical-align: top;\n",
              "    }\n",
              "\n",
              "    .dataframe thead th {\n",
              "        text-align: right;\n",
              "    }\n",
              "</style>\n",
              "<table border=\"1\" class=\"dataframe\">\n",
              "  <thead>\n",
              "    <tr style=\"text-align: right;\">\n",
              "      <th></th>\n",
              "      <th>activity</th>\n",
              "      <th>x-axis</th>\n",
              "      <th>y-axis</th>\n",
              "      <th>z-axis</th>\n",
              "    </tr>\n",
              "  </thead>\n",
              "  <tbody>\n",
              "    <tr>\n",
              "      <th>0</th>\n",
              "      <td>5</td>\n",
              "      <td>0.058149</td>\n",
              "      <td>0.996847</td>\n",
              "      <td>-0.053996</td>\n",
              "    </tr>\n",
              "    <tr>\n",
              "      <th>1</th>\n",
              "      <td>5</td>\n",
              "      <td>-0.000000</td>\n",
              "      <td>0.998427</td>\n",
              "      <td>-0.056061</td>\n",
              "    </tr>\n",
              "    <tr>\n",
              "      <th>2</th>\n",
              "      <td>5</td>\n",
              "      <td>-0.023448</td>\n",
              "      <td>0.997247</td>\n",
              "      <td>-0.070345</td>\n",
              "    </tr>\n",
              "    <tr>\n",
              "      <th>3</th>\n",
              "      <td>5</td>\n",
              "      <td>0.014845</td>\n",
              "      <td>0.998642</td>\n",
              "      <td>-0.049932</td>\n",
              "    </tr>\n",
              "    <tr>\n",
              "      <th>4</th>\n",
              "      <td>5</td>\n",
              "      <td>0.014737</td>\n",
              "      <td>0.998072</td>\n",
              "      <td>-0.060286</td>\n",
              "    </tr>\n",
              "  </tbody>\n",
              "</table>\n",
              "</div>"
            ],
            "text/plain": [
              "   activity    x-axis    y-axis    z-axis\n",
              "0         5  0.058149  0.996847 -0.053996\n",
              "1         5 -0.000000  0.998427 -0.056061\n",
              "2         5 -0.023448  0.997247 -0.070345\n",
              "3         5  0.014845  0.998642 -0.049932\n",
              "4         5  0.014737  0.998072 -0.060286"
            ]
          },
          "metadata": {
            "tags": []
          },
          "execution_count": 11
        }
      ]
    },
    {
      "cell_type": "code",
      "metadata": {
        "colab": {
          "base_uri": "https://localhost:8080/",
          "height": 206
        },
        "id": "xLr7__bNK6OJ",
        "outputId": "c1562a89-c323-4b06-9e2f-899b4c40965a"
      },
      "source": [
        "test.head()"
      ],
      "execution_count": 12,
      "outputs": [
        {
          "output_type": "execute_result",
          "data": {
            "text/html": [
              "<div>\n",
              "<style scoped>\n",
              "    .dataframe tbody tr th:only-of-type {\n",
              "        vertical-align: middle;\n",
              "    }\n",
              "\n",
              "    .dataframe tbody tr th {\n",
              "        vertical-align: top;\n",
              "    }\n",
              "\n",
              "    .dataframe thead th {\n",
              "        text-align: right;\n",
              "    }\n",
              "</style>\n",
              "<table border=\"1\" class=\"dataframe\">\n",
              "  <thead>\n",
              "    <tr style=\"text-align: right;\">\n",
              "      <th></th>\n",
              "      <th>activity</th>\n",
              "      <th>x-axis</th>\n",
              "      <th>y-axis</th>\n",
              "      <th>z-axis</th>\n",
              "    </tr>\n",
              "  </thead>\n",
              "  <tbody>\n",
              "    <tr>\n",
              "      <th>0</th>\n",
              "      <td>1</td>\n",
              "      <td>-0.054655</td>\n",
              "      <td>0.997718</td>\n",
              "      <td>0.039652</td>\n",
              "    </tr>\n",
              "    <tr>\n",
              "      <th>1</th>\n",
              "      <td>1</td>\n",
              "      <td>0.405338</td>\n",
              "      <td>0.910910</td>\n",
              "      <td>0.077102</td>\n",
              "    </tr>\n",
              "    <tr>\n",
              "      <th>2</th>\n",
              "      <td>1</td>\n",
              "      <td>0.410782</td>\n",
              "      <td>0.911708</td>\n",
              "      <td>-0.006846</td>\n",
              "    </tr>\n",
              "    <tr>\n",
              "      <th>3</th>\n",
              "      <td>1</td>\n",
              "      <td>-0.032685</td>\n",
              "      <td>0.986373</td>\n",
              "      <td>0.161248</td>\n",
              "    </tr>\n",
              "    <tr>\n",
              "      <th>4</th>\n",
              "      <td>1</td>\n",
              "      <td>-0.083804</td>\n",
              "      <td>0.856341</td>\n",
              "      <td>0.509566</td>\n",
              "    </tr>\n",
              "  </tbody>\n",
              "</table>\n",
              "</div>"
            ],
            "text/plain": [
              "   activity    x-axis    y-axis    z-axis\n",
              "0         1 -0.054655  0.997718  0.039652\n",
              "1         1  0.405338  0.910910  0.077102\n",
              "2         1  0.410782  0.911708 -0.006846\n",
              "3         1 -0.032685  0.986373  0.161248\n",
              "4         1 -0.083804  0.856341  0.509566"
            ]
          },
          "metadata": {
            "tags": []
          },
          "execution_count": 12
        }
      ]
    },
    {
      "cell_type": "code",
      "metadata": {
        "id": "pOmxb9g0MKW2"
      },
      "source": [
        "# creating test set\n",
        "def create_test_windowed(series, window_size = 128):\n",
        "  test = tf.data.Dataset.from_tensor_slices(series)\n",
        "  test = test.window(window_size, drop_remainder = True)\n",
        "  test = test.flat_map(lambda window: window.batch(window_size))\n",
        "  test = test.map(lambda window: (window[:,1:], tf.one_hot(tf.cast(window[window_size -1 , 0], tf.int64), depth=6)))\n",
        "  return test"
      ],
      "execution_count": 28,
      "outputs": []
    },
    {
      "cell_type": "code",
      "metadata": {
        "id": "Eibk1g7RRgSQ"
      },
      "source": [
        "test_win = create_test_windowed(test)   # test data set for evaluation"
      ],
      "execution_count": 29,
      "outputs": []
    },
    {
      "cell_type": "code",
      "metadata": {
        "id": "Yf7jzyg6RxQ9"
      },
      "source": [
        "for f, l in test_win:\n",
        "  print(f,l)"
      ],
      "execution_count": null,
      "outputs": []
    },
    {
      "cell_type": "code",
      "metadata": {
        "id": "-aQ7-STzRtys"
      },
      "source": [
        ""
      ],
      "execution_count": null,
      "outputs": []
    },
    {
      "cell_type": "code",
      "metadata": {
        "id": "ru6g2EwJRltG"
      },
      "source": [
        ""
      ],
      "execution_count": null,
      "outputs": []
    },
    {
      "cell_type": "code",
      "metadata": {
        "colab": {
          "base_uri": "https://localhost:8080/"
        },
        "id": "JlIDYZ7vN9We",
        "outputId": "3aa2d7a4-877b-44e3-a7d4-48db92e13bab"
      },
      "source": [
        "test_f = np.array(test_f)\n",
        "test_f.shape"
      ],
      "execution_count": 18,
      "outputs": [
        {
          "output_type": "stream",
          "text": [
            "/usr/local/lib/python3.7/dist-packages/ipykernel_launcher.py:1: VisibleDeprecationWarning: Creating an ndarray from ragged nested sequences (which is a list-or-tuple of lists-or-tuples-or ndarrays with different lengths or shapes) is deprecated. If you meant to do this, you must specify 'dtype=object' when creating the ndarray\n",
            "  \"\"\"Entry point for launching an IPython kernel.\n"
          ],
          "name": "stderr"
        },
        {
          "output_type": "execute_result",
          "data": {
            "text/plain": [
              "(1562,)"
            ]
          },
          "metadata": {
            "tags": []
          },
          "execution_count": 18
        }
      ]
    },
    {
      "cell_type": "code",
      "metadata": {
        "id": "P9Ke-uajOTeX"
      },
      "source": [
        "test"
      ],
      "execution_count": null,
      "outputs": []
    },
    {
      "cell_type": "code",
      "metadata": {
        "id": "p4b7H1hwK7PX"
      },
      "source": [
        "train_windowed = create_windowed_dataset(train, 128, 64, 192, 128)"
      ],
      "execution_count": 31,
      "outputs": []
    },
    {
      "cell_type": "code",
      "metadata": {
        "id": "MWpCCym4LQdo"
      },
      "source": [
        "# # adding globel average pooling to the model\n",
        "# codding lstm layers and cnn\n",
        "model = tf.keras.models.Sequential([\n",
        "  tf.keras.layers.Lambda(lambda x: x,\n",
        "                      input_shape=[128, 3]),\n",
        "  tf.keras.layers.LSTM(32, return_sequences=True),\n",
        "  tf.keras.layers.LSTM(32, return_sequences=True),\n",
        "  tf.keras.layers.Lambda(lambda x: tf.expand_dims(x, axis=-1)),\n",
        "  tf.keras.layers.Conv2D(64,5,strides=(2,2)),\n",
        "  tf.keras.layers.MaxPooling2D((2, 2), strides = (2,2)),\n",
        "  \n",
        "  tf.keras.layers.Conv2D(128,3,strides=(1,1)),  \n",
        "  tf.keras.layers.GlobalAveragePooling2D(),\n",
        "  # tf.keras.layers.Lambda(lambda x: tf.expand_dims(x, axis=-1)),\n",
        "  # parameters ?\n",
        "  tf.keras.layers.BatchNormalization(),\n",
        "  tf.keras.layers.Dense(6, activation='softmax')\n",
        "  \n",
        "])"
      ],
      "execution_count": 32,
      "outputs": []
    },
    {
      "cell_type": "code",
      "metadata": {
        "colab": {
          "base_uri": "https://localhost:8080/"
        },
        "id": "5E6VeHTzLXnf",
        "outputId": "1756b697-ca20-4eba-e46f-7358dc38204c"
      },
      "source": [
        "model.summary()"
      ],
      "execution_count": 33,
      "outputs": [
        {
          "output_type": "stream",
          "text": [
            "Model: \"sequential\"\n",
            "_________________________________________________________________\n",
            "Layer (type)                 Output Shape              Param #   \n",
            "=================================================================\n",
            "lambda (Lambda)              (None, 128, 3)            0         \n",
            "_________________________________________________________________\n",
            "lstm (LSTM)                  (None, 128, 32)           4608      \n",
            "_________________________________________________________________\n",
            "lstm_1 (LSTM)                (None, 128, 32)           8320      \n",
            "_________________________________________________________________\n",
            "lambda_1 (Lambda)            (None, 128, 32, 1)        0         \n",
            "_________________________________________________________________\n",
            "conv2d (Conv2D)              (None, 62, 14, 64)        1664      \n",
            "_________________________________________________________________\n",
            "max_pooling2d (MaxPooling2D) (None, 31, 7, 64)         0         \n",
            "_________________________________________________________________\n",
            "conv2d_1 (Conv2D)            (None, 29, 5, 128)        73856     \n",
            "_________________________________________________________________\n",
            "global_average_pooling2d (Gl (None, 128)               0         \n",
            "_________________________________________________________________\n",
            "batch_normalization (BatchNo (None, 128)               512       \n",
            "_________________________________________________________________\n",
            "dense (Dense)                (None, 6)                 774       \n",
            "=================================================================\n",
            "Total params: 89,734\n",
            "Trainable params: 89,478\n",
            "Non-trainable params: 256\n",
            "_________________________________________________________________\n"
          ],
          "name": "stdout"
        }
      ]
    },
    {
      "cell_type": "code",
      "metadata": {
        "colab": {
          "base_uri": "https://localhost:8080/"
        },
        "id": "RHKe8lH7LaDG",
        "outputId": "009f364e-923f-49ce-9efa-f1387fc71c07"
      },
      "source": [
        "# with out bidirection\n",
        "optimizer = tf.keras.optimizers.Adam(0.001)\n",
        "model.compile(loss=\"categorical_crossentropy\", optimizer=optimizer, metrics = ['accuracy'])\n",
        "\n",
        "history = model.fit(train_windowed, epochs=200, verbose=1)"
      ],
      "execution_count": null,
      "outputs": [
        {
          "output_type": "stream",
          "text": [
            "Epoch 1/200\n",
            "74/74 [==============================] - 38s 49ms/step - loss: 1.3885 - accuracy: 0.6010\n",
            "Epoch 2/200\n",
            "74/74 [==============================] - 4s 49ms/step - loss: 0.9687 - accuracy: 0.7204\n",
            "Epoch 3/200\n",
            "74/74 [==============================] - 4s 50ms/step - loss: 0.8965 - accuracy: 0.7478\n",
            "Epoch 4/200\n",
            "74/74 [==============================] - 4s 51ms/step - loss: 0.8730 - accuracy: 0.7390\n",
            "Epoch 5/200\n",
            "74/74 [==============================] - 4s 50ms/step - loss: 0.8259 - accuracy: 0.7567\n",
            "Epoch 6/200\n",
            "74/74 [==============================] - 4s 51ms/step - loss: 0.8291 - accuracy: 0.7530\n",
            "Epoch 7/200\n",
            "74/74 [==============================] - 4s 50ms/step - loss: 0.8071 - accuracy: 0.7557\n",
            "Epoch 8/200\n",
            "74/74 [==============================] - 4s 51ms/step - loss: 0.7952 - accuracy: 0.7599\n",
            "Epoch 9/200\n",
            "74/74 [==============================] - 4s 50ms/step - loss: 0.8075 - accuracy: 0.7508\n",
            "Epoch 10/200\n",
            "74/74 [==============================] - 4s 55ms/step - loss: 0.7818 - accuracy: 0.7549\n",
            "Epoch 11/200\n",
            "74/74 [==============================] - 4s 52ms/step - loss: 0.7720 - accuracy: 0.7606\n",
            "Epoch 12/200\n",
            "74/74 [==============================] - 4s 51ms/step - loss: 0.7807 - accuracy: 0.7472\n",
            "Epoch 13/200\n",
            "74/74 [==============================] - 4s 48ms/step - loss: 0.7541 - accuracy: 0.7631\n",
            "Epoch 14/200\n",
            "74/74 [==============================] - 4s 53ms/step - loss: 0.7670 - accuracy: 0.7563\n",
            "Epoch 15/200\n",
            "74/74 [==============================] - 4s 50ms/step - loss: 0.7359 - accuracy: 0.7620\n",
            "Epoch 16/200\n",
            "74/74 [==============================] - 4s 52ms/step - loss: 0.7229 - accuracy: 0.7726\n",
            "Epoch 17/200\n",
            "74/74 [==============================] - 4s 50ms/step - loss: 0.7157 - accuracy: 0.7739\n",
            "Epoch 18/200\n",
            "74/74 [==============================] - 4s 50ms/step - loss: 0.6808 - accuracy: 0.7796\n",
            "Epoch 19/200\n",
            "74/74 [==============================] - 4s 50ms/step - loss: 0.6805 - accuracy: 0.7705\n",
            "Epoch 20/200\n",
            "74/74 [==============================] - 4s 51ms/step - loss: 0.6509 - accuracy: 0.7994\n",
            "Epoch 21/200\n",
            "74/74 [==============================] - 4s 51ms/step - loss: 0.6438 - accuracy: 0.7927\n",
            "Epoch 22/200\n",
            "74/74 [==============================] - 4s 50ms/step - loss: 0.6149 - accuracy: 0.8040\n",
            "Epoch 23/200\n",
            "74/74 [==============================] - 4s 50ms/step - loss: 0.5785 - accuracy: 0.8082\n",
            "Epoch 24/200\n",
            "74/74 [==============================] - 4s 50ms/step - loss: 0.5652 - accuracy: 0.8228\n",
            "Epoch 25/200\n",
            "74/74 [==============================] - 4s 50ms/step - loss: 0.5625 - accuracy: 0.8178\n",
            "Epoch 26/200\n",
            "74/74 [==============================] - 4s 49ms/step - loss: 0.5423 - accuracy: 0.8343\n",
            "Epoch 27/200\n",
            "74/74 [==============================] - 4s 50ms/step - loss: 0.5601 - accuracy: 0.8241\n",
            "Epoch 28/200\n",
            "74/74 [==============================] - 4s 51ms/step - loss: 0.5114 - accuracy: 0.8407\n",
            "Epoch 29/200\n",
            "74/74 [==============================] - 4s 50ms/step - loss: 0.5327 - accuracy: 0.8287\n",
            "Epoch 30/200\n",
            "74/74 [==============================] - 4s 50ms/step - loss: 0.5069 - accuracy: 0.8414\n",
            "Epoch 31/200\n",
            "74/74 [==============================] - 4s 50ms/step - loss: 0.4769 - accuracy: 0.8585\n",
            "Epoch 32/200\n",
            "74/74 [==============================] - 4s 49ms/step - loss: 0.4813 - accuracy: 0.8480\n",
            "Epoch 33/200\n",
            "74/74 [==============================] - 4s 50ms/step - loss: 0.4681 - accuracy: 0.8575\n",
            "Epoch 34/200\n",
            "74/74 [==============================] - 4s 51ms/step - loss: 0.4543 - accuracy: 0.8611\n",
            "Epoch 35/200\n",
            "74/74 [==============================] - 4s 56ms/step - loss: 0.4470 - accuracy: 0.8645\n",
            "Epoch 36/200\n",
            "74/74 [==============================] - 4s 49ms/step - loss: 0.4276 - accuracy: 0.8715\n",
            "Epoch 37/200\n",
            "74/74 [==============================] - 4s 51ms/step - loss: 0.4303 - accuracy: 0.8719\n",
            "Epoch 38/200\n",
            "74/74 [==============================] - 4s 50ms/step - loss: 0.4184 - accuracy: 0.8788\n",
            "Epoch 39/200\n",
            "74/74 [==============================] - 4s 50ms/step - loss: 0.4136 - accuracy: 0.8738\n",
            "Epoch 40/200\n",
            "74/74 [==============================] - 4s 52ms/step - loss: 0.3906 - accuracy: 0.8819\n",
            "Epoch 41/200\n",
            "74/74 [==============================] - 4s 53ms/step - loss: 0.3950 - accuracy: 0.8801\n",
            "Epoch 42/200\n",
            "74/74 [==============================] - 4s 51ms/step - loss: 0.4073 - accuracy: 0.8783\n",
            "Epoch 43/200\n",
            "74/74 [==============================] - 4s 50ms/step - loss: 0.3690 - accuracy: 0.8910\n",
            "Epoch 44/200\n",
            "74/74 [==============================] - 4s 49ms/step - loss: 0.3729 - accuracy: 0.8908\n",
            "Epoch 45/200\n",
            "74/74 [==============================] - 4s 50ms/step - loss: 0.3657 - accuracy: 0.8851\n",
            "Epoch 46/200\n",
            "74/74 [==============================] - 4s 49ms/step - loss: 0.3786 - accuracy: 0.8932\n",
            "Epoch 47/200\n",
            "74/74 [==============================] - 4s 48ms/step - loss: 0.4308 - accuracy: 0.8704\n",
            "Epoch 48/200\n",
            "74/74 [==============================] - 4s 49ms/step - loss: 0.3774 - accuracy: 0.8911\n",
            "Epoch 49/200\n",
            "74/74 [==============================] - 4s 50ms/step - loss: 0.3630 - accuracy: 0.8911\n",
            "Epoch 50/200\n",
            "74/74 [==============================] - 4s 50ms/step - loss: 0.3327 - accuracy: 0.9076\n",
            "Epoch 51/200\n",
            "74/74 [==============================] - 4s 50ms/step - loss: 0.3438 - accuracy: 0.8980\n",
            "Epoch 52/200\n",
            "74/74 [==============================] - 4s 52ms/step - loss: 0.3214 - accuracy: 0.9049\n",
            "Epoch 53/200\n",
            "74/74 [==============================] - 4s 50ms/step - loss: 0.3206 - accuracy: 0.9052\n",
            "Epoch 54/200\n",
            "74/74 [==============================] - 4s 49ms/step - loss: 0.3227 - accuracy: 0.9058\n",
            "Epoch 55/200\n",
            "74/74 [==============================] - 4s 53ms/step - loss: 0.3071 - accuracy: 0.9062\n",
            "Epoch 56/200\n",
            "74/74 [==============================] - 4s 49ms/step - loss: 0.3099 - accuracy: 0.9054\n",
            "Epoch 57/200\n",
            "74/74 [==============================] - 4s 49ms/step - loss: 0.3024 - accuracy: 0.9094\n",
            "Epoch 58/200\n",
            "74/74 [==============================] - 4s 48ms/step - loss: 0.2941 - accuracy: 0.9118\n",
            "Epoch 59/200\n",
            "74/74 [==============================] - 4s 51ms/step - loss: 0.3148 - accuracy: 0.9134\n",
            "Epoch 60/200\n",
            "74/74 [==============================] - 4s 50ms/step - loss: 0.3136 - accuracy: 0.9084\n",
            "Epoch 61/200\n",
            "74/74 [==============================] - 4s 50ms/step - loss: 0.3257 - accuracy: 0.9051\n",
            "Epoch 62/200\n",
            "74/74 [==============================] - 4s 49ms/step - loss: 0.3322 - accuracy: 0.9062\n",
            "Epoch 63/200\n",
            "74/74 [==============================] - 4s 50ms/step - loss: 0.3286 - accuracy: 0.9052\n",
            "Epoch 64/200\n",
            "74/74 [==============================] - 4s 50ms/step - loss: 0.2843 - accuracy: 0.9170\n",
            "Epoch 65/200\n",
            "74/74 [==============================] - 4s 50ms/step - loss: 0.2882 - accuracy: 0.9173\n",
            "Epoch 66/200\n",
            "74/74 [==============================] - 4s 53ms/step - loss: 0.2802 - accuracy: 0.9223\n",
            "Epoch 67/200\n",
            "74/74 [==============================] - 4s 58ms/step - loss: 0.2628 - accuracy: 0.9288\n",
            "74/74 [==============================] - 4s 58ms/step - loss: 0.2628 - accuracy: 0.9288\n",
            "74/74 [==============================] - 4s 58ms/step - loss: 0.2628 - accuracy: 0.9288\n",
            "74/74 [==============================] - 4s 58ms/step - loss: 0.2628 - accuracy: 0.9288\n",
            "Epoch 68/200\n",
            "Epoch 68/200\n",
            "Epoch 68/200\n",
            "Epoch 68/200\n",
            "74/74 [==============================] - 4s 58ms/step - loss: 0.2604 - accuracy: 0.9233\n",
            "74/74 [==============================] - 4s 58ms/step - loss: 0.2604 - accuracy: 0.9233\n",
            "74/74 [==============================] - 4s 58ms/step - loss: 0.2604 - accuracy: 0.9233\n",
            "74/74 [==============================] - 4s 58ms/step - loss: 0.2604 - accuracy: 0.9233\n",
            "Epoch 69/200\n",
            "Epoch 69/200\n",
            "Epoch 69/200\n",
            "Epoch 69/200\n",
            "74/74 [==============================] - 4s 60ms/step - loss: 0.2401 - accuracy: 0.9338\n",
            "74/74 [==============================] - 4s 60ms/step - loss: 0.2401 - accuracy: 0.9338\n",
            "74/74 [==============================] - 4s 60ms/step - loss: 0.2401 - accuracy: 0.9338\n",
            "74/74 [==============================] - 4s 60ms/step - loss: 0.2401 - accuracy: 0.9338\n",
            "Epoch 70/200\n",
            "Epoch 70/200\n",
            "Epoch 70/200\n",
            "Epoch 70/200\n",
            "67/74 [==========================>...] - ETA: 0s - loss: 0.2405 - accuracy: 0.9282"
          ],
          "name": "stdout"
        }
      ]
    },
    {
      "cell_type": "code",
      "metadata": {
        "id": "ScP8d4L0Lg-W"
      },
      "source": [
        ""
      ],
      "execution_count": null,
      "outputs": []
    }
  ]
}