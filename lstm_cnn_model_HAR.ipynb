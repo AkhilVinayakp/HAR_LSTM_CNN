{
  "nbformat": 4,
  "nbformat_minor": 0,
  "metadata": {
    "accelerator": "GPU",
    "colab": {
      "name": "lstm_cnn_model_HAR.ipynb",
      "provenance": [],
      "collapsed_sections": [],
      "mount_file_id": "1UAHKwx0R6jAxhvNEVZjOVJKEofFK0qLS",
      "authorship_tag": "ABX9TyOfe01p/mOyIzwuXPTkobxe",
      "include_colab_link": true
    },
    "kernelspec": {
      "display_name": "Python 3",
      "name": "python3"
    },
    "language_info": {
      "name": "python"
    }
  },
  "cells": [
    {
      "cell_type": "markdown",
      "metadata": {
        "id": "view-in-github",
        "colab_type": "text"
      },
      "source": [
        "<a href=\"https://colab.research.google.com/github/AkhilVinayakp/HAR_LSTM_CNN/blob/main/lstm_cnn_model_HAR.ipynb\" target=\"_parent\"><img src=\"https://colab.research.google.com/assets/colab-badge.svg\" alt=\"Open In Colab\"/></a>"
      ]
    },
    {
      "cell_type": "code",
      "metadata": {
        "id": "ysB2LamaJ2HA"
      },
      "source": [
        "import tensorflow as tf\n",
        "import pandas as pd\n",
        "import numpy as np\n",
        "import matplotlib.pyplot as plt"
      ],
      "execution_count": 1,
      "outputs": []
    },
    {
      "cell_type": "code",
      "metadata": {
        "colab": {
          "base_uri": "https://localhost:8080/",
          "height": 54
        },
        "id": "jrWG6-AgKA_J",
        "outputId": "96ed7dd6-f0e0-48a5-93cd-655ceb1319e4"
      },
      "source": [
        "%cd /content/drive/My\\ Drive/datasets \n",
        "%pwd"
      ],
      "execution_count": 2,
      "outputs": [
        {
          "output_type": "stream",
          "text": [
            "/content/drive/My Drive/datasets\n"
          ],
          "name": "stdout"
        },
        {
          "output_type": "execute_result",
          "data": {
            "application/vnd.google.colaboratory.intrinsic+json": {
              "type": "string"
            },
            "text/plain": [
              "'/content/drive/My Drive/datasets'"
            ]
          },
          "metadata": {
            "tags": []
          },
          "execution_count": 2
        }
      ]
    },
    {
      "cell_type": "code",
      "metadata": {
        "id": "tw4KPSlgKBMu"
      },
      "source": [
        "\n",
        "df =  pd.read_csv('int_norm.csv')"
      ],
      "execution_count": 3,
      "outputs": []
    },
    {
      "cell_type": "code",
      "metadata": {
        "colab": {
          "base_uri": "https://localhost:8080/"
        },
        "id": "osom7hIcKECg",
        "outputId": "9e6e5819-fdf3-40df-b69e-018ac348fd9c"
      },
      "source": [
        "df.shape"
      ],
      "execution_count": 4,
      "outputs": [
        {
          "output_type": "execute_result",
          "data": {
            "text/plain": [
              "(1098204, 6)"
            ]
          },
          "metadata": {
            "tags": []
          },
          "execution_count": 4
        }
      ]
    },
    {
      "cell_type": "code",
      "metadata": {
        "id": "b8VebeFoKFrV"
      },
      "source": [
        "def create_windowed_dataset(series, window_size,shift_size, batch_size,shuffle_buffer):\n",
        "  dataset = tf.data.Dataset.from_tensor_slices(series)\n",
        "  dataset = dataset.window(window_size , shift = shift_size, drop_remainder = True)\n",
        "  dataset = dataset.flat_map(lambda window: window.batch(window_size))\n",
        "  dataset = dataset.map(lambda window: ( window[:,1:], tf.one_hot(tf.cast(window[window_size -1 , 0], tf.int64), depth=6) ))\n",
        "  dataset = dataset.shuffle(shuffle_buffer)\n",
        "  dataset = dataset.batch(batch_size).prefetch(1)\n",
        "  return dataset"
      ],
      "execution_count": 5,
      "outputs": []
    },
    {
      "cell_type": "code",
      "metadata": {
        "id": "WBMeh6jNKKg4"
      },
      "source": [
        "df.drop('timestamp', axis = 1, inplace=True)"
      ],
      "execution_count": 6,
      "outputs": []
    },
    {
      "cell_type": "code",
      "metadata": {
        "id": "7tw6c_W6KNDX"
      },
      "source": [
        "df.activity = df.activity.astype('category').cat.codes\n",
        "df.activity = df.activity.astype('int64')"
      ],
      "execution_count": 7,
      "outputs": []
    },
    {
      "cell_type": "code",
      "metadata": {
        "id": "2epXqU7LKWUH"
      },
      "source": [
        "train = df[df['user'] < 31 ]\n",
        "test = df[df['user'] >= 30]"
      ],
      "execution_count": 8,
      "outputs": []
    },
    {
      "cell_type": "code",
      "metadata": {
        "colab": {
          "base_uri": "https://localhost:8080/"
        },
        "id": "2TZrOk5sKb_p",
        "outputId": "33bfafe6-bd7f-4076-cbe5-6adeac5398e5"
      },
      "source": [
        "train.drop('user', axis = 1, inplace=True)\n",
        "test.drop('user', axis = 1, inplace=True)\n",
        "train.reset_index(drop = True, inplace = True)\n",
        "test.reset_index(drop=True, inplace=True)"
      ],
      "execution_count": 9,
      "outputs": [
        {
          "output_type": "stream",
          "text": [
            "/usr/local/lib/python3.7/dist-packages/pandas/core/frame.py:4174: SettingWithCopyWarning: \n",
            "A value is trying to be set on a copy of a slice from a DataFrame\n",
            "\n",
            "See the caveats in the documentation: https://pandas.pydata.org/pandas-docs/stable/user_guide/indexing.html#returning-a-view-versus-a-copy\n",
            "  errors=errors,\n"
          ],
          "name": "stderr"
        }
      ]
    },
    {
      "cell_type": "code",
      "metadata": {
        "colab": {
          "base_uri": "https://localhost:8080/"
        },
        "id": "Br_6FSAXh4Cc",
        "outputId": "711b7a40-5265-4e49-dd2b-9c1e4b1f91c9"
      },
      "source": [
        "print(train.shape)\n",
        "print(test.shape)"
      ],
      "execution_count": 10,
      "outputs": [
        {
          "output_type": "stream",
          "text": [
            "(898361, 4)\n",
            "(225178, 4)\n"
          ],
          "name": "stdout"
        }
      ]
    },
    {
      "cell_type": "code",
      "metadata": {
        "colab": {
          "base_uri": "https://localhost:8080/"
        },
        "id": "m4_VVQdIKxWW",
        "outputId": "68b19ebf-38a5-4fc0-e514-589a43ea6479"
      },
      "source": [
        "print(train.shape)\n",
        "print(test.shape)"
      ],
      "execution_count": 11,
      "outputs": [
        {
          "output_type": "stream",
          "text": [
            "(898361, 4)\n",
            "(225178, 4)\n"
          ],
          "name": "stdout"
        }
      ]
    },
    {
      "cell_type": "code",
      "metadata": {
        "colab": {
          "base_uri": "https://localhost:8080/",
          "height": 206
        },
        "id": "rpWjLVPCK3NH",
        "outputId": "5f7f2670-5ecf-4274-ced2-476351ec21d3"
      },
      "source": [
        "train.head()"
      ],
      "execution_count": 12,
      "outputs": [
        {
          "output_type": "execute_result",
          "data": {
            "text/html": [
              "<div>\n",
              "<style scoped>\n",
              "    .dataframe tbody tr th:only-of-type {\n",
              "        vertical-align: middle;\n",
              "    }\n",
              "\n",
              "    .dataframe tbody tr th {\n",
              "        vertical-align: top;\n",
              "    }\n",
              "\n",
              "    .dataframe thead th {\n",
              "        text-align: right;\n",
              "    }\n",
              "</style>\n",
              "<table border=\"1\" class=\"dataframe\">\n",
              "  <thead>\n",
              "    <tr style=\"text-align: right;\">\n",
              "      <th></th>\n",
              "      <th>activity</th>\n",
              "      <th>x-axis</th>\n",
              "      <th>y-axis</th>\n",
              "      <th>z-axis</th>\n",
              "    </tr>\n",
              "  </thead>\n",
              "  <tbody>\n",
              "    <tr>\n",
              "      <th>0</th>\n",
              "      <td>5</td>\n",
              "      <td>0.058149</td>\n",
              "      <td>0.996847</td>\n",
              "      <td>-0.053996</td>\n",
              "    </tr>\n",
              "    <tr>\n",
              "      <th>1</th>\n",
              "      <td>5</td>\n",
              "      <td>-0.000000</td>\n",
              "      <td>0.998427</td>\n",
              "      <td>-0.056061</td>\n",
              "    </tr>\n",
              "    <tr>\n",
              "      <th>2</th>\n",
              "      <td>5</td>\n",
              "      <td>-0.023448</td>\n",
              "      <td>0.997247</td>\n",
              "      <td>-0.070345</td>\n",
              "    </tr>\n",
              "    <tr>\n",
              "      <th>3</th>\n",
              "      <td>5</td>\n",
              "      <td>0.014845</td>\n",
              "      <td>0.998642</td>\n",
              "      <td>-0.049932</td>\n",
              "    </tr>\n",
              "    <tr>\n",
              "      <th>4</th>\n",
              "      <td>5</td>\n",
              "      <td>0.014737</td>\n",
              "      <td>0.998072</td>\n",
              "      <td>-0.060286</td>\n",
              "    </tr>\n",
              "  </tbody>\n",
              "</table>\n",
              "</div>"
            ],
            "text/plain": [
              "   activity    x-axis    y-axis    z-axis\n",
              "0         5  0.058149  0.996847 -0.053996\n",
              "1         5 -0.000000  0.998427 -0.056061\n",
              "2         5 -0.023448  0.997247 -0.070345\n",
              "3         5  0.014845  0.998642 -0.049932\n",
              "4         5  0.014737  0.998072 -0.060286"
            ]
          },
          "metadata": {
            "tags": []
          },
          "execution_count": 12
        }
      ]
    },
    {
      "cell_type": "code",
      "metadata": {
        "colab": {
          "base_uri": "https://localhost:8080/",
          "height": 206
        },
        "id": "xLr7__bNK6OJ",
        "outputId": "03f2b13d-d4ca-43e5-fb3b-72af70c1f4d0"
      },
      "source": [
        "test.head()"
      ],
      "execution_count": 13,
      "outputs": [
        {
          "output_type": "execute_result",
          "data": {
            "text/html": [
              "<div>\n",
              "<style scoped>\n",
              "    .dataframe tbody tr th:only-of-type {\n",
              "        vertical-align: middle;\n",
              "    }\n",
              "\n",
              "    .dataframe tbody tr th {\n",
              "        vertical-align: top;\n",
              "    }\n",
              "\n",
              "    .dataframe thead th {\n",
              "        text-align: right;\n",
              "    }\n",
              "</style>\n",
              "<table border=\"1\" class=\"dataframe\">\n",
              "  <thead>\n",
              "    <tr style=\"text-align: right;\">\n",
              "      <th></th>\n",
              "      <th>activity</th>\n",
              "      <th>x-axis</th>\n",
              "      <th>y-axis</th>\n",
              "      <th>z-axis</th>\n",
              "    </tr>\n",
              "  </thead>\n",
              "  <tbody>\n",
              "    <tr>\n",
              "      <th>0</th>\n",
              "      <td>1</td>\n",
              "      <td>-0.054655</td>\n",
              "      <td>0.997718</td>\n",
              "      <td>0.039652</td>\n",
              "    </tr>\n",
              "    <tr>\n",
              "      <th>1</th>\n",
              "      <td>1</td>\n",
              "      <td>0.405338</td>\n",
              "      <td>0.910910</td>\n",
              "      <td>0.077102</td>\n",
              "    </tr>\n",
              "    <tr>\n",
              "      <th>2</th>\n",
              "      <td>1</td>\n",
              "      <td>0.410782</td>\n",
              "      <td>0.911708</td>\n",
              "      <td>-0.006846</td>\n",
              "    </tr>\n",
              "    <tr>\n",
              "      <th>3</th>\n",
              "      <td>1</td>\n",
              "      <td>-0.032685</td>\n",
              "      <td>0.986373</td>\n",
              "      <td>0.161248</td>\n",
              "    </tr>\n",
              "    <tr>\n",
              "      <th>4</th>\n",
              "      <td>1</td>\n",
              "      <td>-0.083804</td>\n",
              "      <td>0.856341</td>\n",
              "      <td>0.509566</td>\n",
              "    </tr>\n",
              "  </tbody>\n",
              "</table>\n",
              "</div>"
            ],
            "text/plain": [
              "   activity    x-axis    y-axis    z-axis\n",
              "0         1 -0.054655  0.997718  0.039652\n",
              "1         1  0.405338  0.910910  0.077102\n",
              "2         1  0.410782  0.911708 -0.006846\n",
              "3         1 -0.032685  0.986373  0.161248\n",
              "4         1 -0.083804  0.856341  0.509566"
            ]
          },
          "metadata": {
            "tags": []
          },
          "execution_count": 13
        }
      ]
    },
    {
      "cell_type": "code",
      "metadata": {
        "id": "pOmxb9g0MKW2"
      },
      "source": [
        "# creating test set\n",
        "def create_test_windowed(series, window_size = 128):\n",
        "  test = tf.data.Dataset.from_tensor_slices(series)\n",
        "  test = test.window(window_size,shift = 64, drop_remainder = True)\n",
        "  test = test.flat_map(lambda window: window.batch(window_size))\n",
        "  test = test.map(lambda window: (window[:,1:], tf.one_hot(tf.cast(window[window_size -1 , 0], tf.int64), depth=6)))\n",
        "  return test"
      ],
      "execution_count": 14,
      "outputs": []
    },
    {
      "cell_type": "code",
      "metadata": {
        "id": "Eibk1g7RRgSQ"
      },
      "source": [
        "test_win = create_test_windowed(test)   # test data set for evaluation"
      ],
      "execution_count": 15,
      "outputs": []
    },
    {
      "cell_type": "code",
      "metadata": {
        "id": "-aQ7-STzRtys"
      },
      "source": [
        ""
      ],
      "execution_count": 15,
      "outputs": []
    },
    {
      "cell_type": "code",
      "metadata": {
        "id": "LaWS6MLm0T7x"
      },
      "source": [
        "test_data = list(test_win.as_numpy_iterator())"
      ],
      "execution_count": 16,
      "outputs": []
    },
    {
      "cell_type": "code",
      "metadata": {
        "id": "BwcUnBhJ0T70"
      },
      "source": [
        "test_f = []\n",
        "test_l = []\n",
        "for i in test_data:\n",
        "  test_f.append(i[0])\n",
        "  test_l.append(i[1])"
      ],
      "execution_count": 17,
      "outputs": []
    },
    {
      "cell_type": "code",
      "metadata": {
        "id": "Hhk4fR9x0T72"
      },
      "source": [
        "test_f = np.array(test_f)"
      ],
      "execution_count": 18,
      "outputs": []
    },
    {
      "cell_type": "code",
      "metadata": {
        "colab": {
          "base_uri": "https://localhost:8080/"
        },
        "id": "zJvzygJ-iGar",
        "outputId": "fb607d8e-1de9-43b3-eb93-7f83f9e16ecb"
      },
      "source": [
        "test_f.shape"
      ],
      "execution_count": 19,
      "outputs": [
        {
          "output_type": "execute_result",
          "data": {
            "text/plain": [
              "(3517, 128, 3)"
            ]
          },
          "metadata": {
            "tags": []
          },
          "execution_count": 19
        }
      ]
    },
    {
      "cell_type": "code",
      "metadata": {
        "colab": {
          "base_uri": "https://localhost:8080/"
        },
        "id": "Q-f9VNMQ0T74",
        "outputId": "36e87710-4f47-45ee-b679-b436be4c26c9"
      },
      "source": [
        "test_f.shape"
      ],
      "execution_count": 20,
      "outputs": [
        {
          "output_type": "execute_result",
          "data": {
            "text/plain": [
              "(3517, 128, 3)"
            ]
          },
          "metadata": {
            "tags": []
          },
          "execution_count": 20
        }
      ]
    },
    {
      "cell_type": "code",
      "metadata": {
        "id": "00XGa2tm0T77"
      },
      "source": [
        "\n",
        "test_l = np.array(test_l)"
      ],
      "execution_count": 21,
      "outputs": []
    },
    {
      "cell_type": "code",
      "metadata": {
        "colab": {
          "base_uri": "https://localhost:8080/"
        },
        "id": "uNCxJ-Ce0T78",
        "outputId": "847974ab-3ebf-45ae-914e-69d46ea185f7"
      },
      "source": [
        "test_l.shape"
      ],
      "execution_count": 22,
      "outputs": [
        {
          "output_type": "execute_result",
          "data": {
            "text/plain": [
              "(3517, 6)"
            ]
          },
          "metadata": {
            "tags": []
          },
          "execution_count": 22
        }
      ]
    },
    {
      "cell_type": "code",
      "metadata": {
        "colab": {
          "base_uri": "https://localhost:8080/"
        },
        "id": "zwTwuTjy0T79",
        "outputId": "9084e182-5808-4f92-92f9-c55daf35cded"
      },
      "source": [
        "x_val = test_f[:200]\n",
        "y_val = test_l[:200]\n",
        "print(x_val.shape)\n",
        "print(y_val.shape)"
      ],
      "execution_count": 23,
      "outputs": [
        {
          "output_type": "stream",
          "text": [
            "(200, 128, 3)\n",
            "(200, 6)\n"
          ],
          "name": "stdout"
        }
      ]
    },
    {
      "cell_type": "code",
      "metadata": {
        "id": "ru6g2EwJRltG"
      },
      "source": [
        ""
      ],
      "execution_count": 23,
      "outputs": []
    },
    {
      "cell_type": "code",
      "metadata": {
        "id": "p4b7H1hwK7PX"
      },
      "source": [
        "train_windowed = create_windowed_dataset(train, 128, 64, 192, 192)"
      ],
      "execution_count": 24,
      "outputs": []
    },
    {
      "cell_type": "code",
      "metadata": {
        "id": "MWpCCym4LQdo"
      },
      "source": [
        "# # adding globel average pooling to the model\n",
        "# codding lstm layers and cnn\n",
        "model = tf.keras.models.Sequential([\n",
        "  tf.keras.layers.Lambda(lambda x: x,\n",
        "                      input_shape=[128, 3]),\n",
        "  tf.keras.layers.LSTM(32, return_sequences=True),\n",
        "  tf.keras.layers.LSTM(32, return_sequences=True),\n",
        "  tf.keras.layers.Dropout(.2),\n",
        "  tf.keras.layers.Lambda(lambda x: tf.expand_dims(x, axis=-1)),\n",
        "  tf.keras.layers.Conv2D(64,5,strides=(2,2)),\n",
        "  tf.keras.layers.MaxPooling2D((2, 2), strides = (2,2)),\n",
        "  \n",
        "  tf.keras.layers.Conv2D(128,3,strides=(1,1)),  \n",
        "  tf.keras.layers.GlobalAveragePooling2D(),\n",
        "  # tf.keras.layers.Lambda(lambda x: tf.expand_dims(x, axis=-1)),\n",
        "  # parameters ?\n",
        "  # tf.keras.layers.Dropout(0.2),\n",
        "  tf.keras.layers.BatchNormalization(),\n",
        "  tf.keras.layers.Dense(6, activation='softmax')\n",
        "  \n",
        "])"
      ],
      "execution_count": 25,
      "outputs": []
    },
    {
      "cell_type": "code",
      "metadata": {
        "colab": {
          "base_uri": "https://localhost:8080/"
        },
        "id": "5E6VeHTzLXnf",
        "outputId": "d3e56247-d7eb-42ee-899f-60ad3eb06908"
      },
      "source": [
        "model.summary()"
      ],
      "execution_count": 26,
      "outputs": [
        {
          "output_type": "stream",
          "text": [
            "Model: \"sequential\"\n",
            "_________________________________________________________________\n",
            "Layer (type)                 Output Shape              Param #   \n",
            "=================================================================\n",
            "lambda (Lambda)              (None, 128, 3)            0         \n",
            "_________________________________________________________________\n",
            "lstm (LSTM)                  (None, 128, 32)           4608      \n",
            "_________________________________________________________________\n",
            "lstm_1 (LSTM)                (None, 128, 32)           8320      \n",
            "_________________________________________________________________\n",
            "dropout (Dropout)            (None, 128, 32)           0         \n",
            "_________________________________________________________________\n",
            "lambda_1 (Lambda)            (None, 128, 32, 1)        0         \n",
            "_________________________________________________________________\n",
            "conv2d (Conv2D)              (None, 62, 14, 64)        1664      \n",
            "_________________________________________________________________\n",
            "max_pooling2d (MaxPooling2D) (None, 31, 7, 64)         0         \n",
            "_________________________________________________________________\n",
            "conv2d_1 (Conv2D)            (None, 29, 5, 128)        73856     \n",
            "_________________________________________________________________\n",
            "global_average_pooling2d (Gl (None, 128)               0         \n",
            "_________________________________________________________________\n",
            "batch_normalization (BatchNo (None, 128)               512       \n",
            "_________________________________________________________________\n",
            "dense (Dense)                (None, 6)                 774       \n",
            "=================================================================\n",
            "Total params: 89,734\n",
            "Trainable params: 89,478\n",
            "Non-trainable params: 256\n",
            "_________________________________________________________________\n"
          ],
          "name": "stdout"
        }
      ]
    },
    {
      "cell_type": "code",
      "metadata": {
        "id": "WRcLJEOSsBlB"
      },
      "source": [
        "# designing class back to save the best model\n",
        "from tensorflow.keras.callbacks import ModelCheckpoint\n",
        "save = ModelCheckpoint('best_trained_model.h5', save_best_only = True)"
      ],
      "execution_count": 27,
      "outputs": []
    },
    {
      "cell_type": "code",
      "metadata": {
        "id": "tfYvWvnNvtGI"
      },
      "source": [
        "\n",
        "train = train_windowed.take(round(13654*0.7))\n",
        "val = train_windowed.skip(round(13654*0.7))"
      ],
      "execution_count": 28,
      "outputs": []
    },
    {
      "cell_type": "code",
      "metadata": {
        "id": "W0fR38Dcik8D"
      },
      "source": [
        ""
      ],
      "execution_count": 28,
      "outputs": []
    },
    {
      "cell_type": "code",
      "metadata": {
        "colab": {
          "base_uri": "https://localhost:8080/"
        },
        "id": "RHKe8lH7LaDG",
        "outputId": "d61d2e31-ec68-4b2f-9f0a-ad2fcdb53371"
      },
      "source": [
        "# with out bidirection\n",
        "optimizer = tf.keras.optimizers.Adam(0.001)\n",
        "model.compile(loss=\"categorical_crossentropy\", optimizer=optimizer, metrics = ['accuracy'])\n",
        "\n",
        "history = model.fit(train_windowed,validation_data=(test_f, test_l), epochs=200,callbacks=[save], verbose=1, batch_size=192) "
      ],
      "execution_count": 29,
      "outputs": [
        {
          "output_type": "stream",
          "text": [
            "Epoch 1/200\n",
            "74/74 [==============================] - 11s 70ms/step - loss: 1.3181 - accuracy: 0.6263 - val_loss: 1.6402 - val_accuracy: 0.3711\n",
            "Epoch 2/200\n",
            "74/74 [==============================] - 4s 55ms/step - loss: 0.9659 - accuracy: 0.7442 - val_loss: 1.5419 - val_accuracy: 0.3711\n",
            "Epoch 3/200\n",
            "74/74 [==============================] - 4s 56ms/step - loss: 0.8861 - accuracy: 0.7501 - val_loss: 1.4495 - val_accuracy: 0.4129\n",
            "Epoch 4/200\n",
            "74/74 [==============================] - 4s 56ms/step - loss: 0.8842 - accuracy: 0.7261 - val_loss: 1.3927 - val_accuracy: 0.3929\n",
            "Epoch 5/200\n",
            "74/74 [==============================] - 4s 55ms/step - loss: 0.8259 - accuracy: 0.7437 - val_loss: 1.3800 - val_accuracy: 0.4274\n",
            "Epoch 6/200\n",
            "74/74 [==============================] - 4s 54ms/step - loss: 0.8358 - accuracy: 0.7324 - val_loss: 1.4036 - val_accuracy: 0.5445\n",
            "Epoch 7/200\n",
            "74/74 [==============================] - 4s 55ms/step - loss: 0.8118 - accuracy: 0.7465 - val_loss: 1.4469 - val_accuracy: 0.5695\n",
            "Epoch 8/200\n",
            "74/74 [==============================] - 4s 55ms/step - loss: 0.7994 - accuracy: 0.7462 - val_loss: 1.3063 - val_accuracy: 0.6759\n",
            "Epoch 9/200\n",
            "74/74 [==============================] - 4s 56ms/step - loss: 0.7922 - accuracy: 0.7391 - val_loss: 1.5337 - val_accuracy: 0.4748\n",
            "Epoch 10/200\n",
            "74/74 [==============================] - 4s 56ms/step - loss: 0.8006 - accuracy: 0.7430 - val_loss: 2.4987 - val_accuracy: 0.3989\n",
            "Epoch 11/200\n",
            "74/74 [==============================] - 4s 55ms/step - loss: 0.7882 - accuracy: 0.7466 - val_loss: 1.9006 - val_accuracy: 0.5783\n",
            "Epoch 12/200\n",
            "74/74 [==============================] - 4s 54ms/step - loss: 0.7566 - accuracy: 0.7545 - val_loss: 2.2043 - val_accuracy: 0.6491\n",
            "Epoch 13/200\n",
            "74/74 [==============================] - 4s 55ms/step - loss: 0.7774 - accuracy: 0.7437 - val_loss: 3.1636 - val_accuracy: 0.4305\n",
            "Epoch 14/200\n",
            "74/74 [==============================] - 4s 55ms/step - loss: 0.7573 - accuracy: 0.7522 - val_loss: 3.1603 - val_accuracy: 0.4328\n",
            "Epoch 15/200\n",
            "74/74 [==============================] - 4s 54ms/step - loss: 0.7711 - accuracy: 0.7481 - val_loss: 3.4210 - val_accuracy: 0.4046\n",
            "Epoch 16/200\n",
            "74/74 [==============================] - 4s 54ms/step - loss: 0.7379 - accuracy: 0.7605 - val_loss: 4.0911 - val_accuracy: 0.3224\n",
            "Epoch 17/200\n",
            "74/74 [==============================] - 4s 55ms/step - loss: 0.7310 - accuracy: 0.7583 - val_loss: 3.1059 - val_accuracy: 0.3526\n",
            "Epoch 18/200\n",
            "74/74 [==============================] - 4s 55ms/step - loss: 0.7106 - accuracy: 0.7675 - val_loss: 1.6475 - val_accuracy: 0.6779\n",
            "Epoch 19/200\n",
            "74/74 [==============================] - 4s 54ms/step - loss: 0.7243 - accuracy: 0.7651 - val_loss: 3.8385 - val_accuracy: 0.3287\n",
            "Epoch 20/200\n",
            "74/74 [==============================] - 4s 55ms/step - loss: 0.7169 - accuracy: 0.7708 - val_loss: 2.2984 - val_accuracy: 0.6827\n",
            "Epoch 21/200\n",
            "74/74 [==============================] - 4s 54ms/step - loss: 0.7091 - accuracy: 0.7764 - val_loss: 3.8400 - val_accuracy: 0.3784\n",
            "Epoch 22/200\n",
            "74/74 [==============================] - 4s 54ms/step - loss: 0.7057 - accuracy: 0.7685 - val_loss: 3.4088 - val_accuracy: 0.3031\n",
            "Epoch 23/200\n",
            "74/74 [==============================] - 4s 54ms/step - loss: 0.6989 - accuracy: 0.7765 - val_loss: 1.4356 - val_accuracy: 0.5593\n",
            "Epoch 24/200\n",
            "74/74 [==============================] - 4s 55ms/step - loss: 0.6927 - accuracy: 0.7624 - val_loss: 2.6924 - val_accuracy: 0.4916\n",
            "Epoch 25/200\n",
            "74/74 [==============================] - 4s 57ms/step - loss: 0.6439 - accuracy: 0.8013 - val_loss: 2.6553 - val_accuracy: 0.3600\n",
            "Epoch 26/200\n",
            "74/74 [==============================] - 4s 55ms/step - loss: 0.6013 - accuracy: 0.8139 - val_loss: 1.3518 - val_accuracy: 0.5067\n",
            "Epoch 27/200\n",
            "74/74 [==============================] - 4s 56ms/step - loss: 0.5979 - accuracy: 0.8165 - val_loss: 1.4769 - val_accuracy: 0.5744\n",
            "Epoch 28/200\n",
            "74/74 [==============================] - 4s 55ms/step - loss: 0.5838 - accuracy: 0.8166 - val_loss: 1.7205 - val_accuracy: 0.5994\n",
            "Epoch 29/200\n",
            "74/74 [==============================] - 4s 55ms/step - loss: 0.5580 - accuracy: 0.8240 - val_loss: 0.8557 - val_accuracy: 0.7049\n",
            "Epoch 30/200\n",
            "74/74 [==============================] - 4s 54ms/step - loss: 0.5414 - accuracy: 0.8278 - val_loss: 0.9118 - val_accuracy: 0.6463\n",
            "Epoch 31/200\n",
            "74/74 [==============================] - 4s 55ms/step - loss: 0.5321 - accuracy: 0.8291 - val_loss: 1.5320 - val_accuracy: 0.4461\n",
            "Epoch 32/200\n",
            "74/74 [==============================] - 4s 55ms/step - loss: 0.5249 - accuracy: 0.8357 - val_loss: 0.8331 - val_accuracy: 0.6941\n",
            "Epoch 33/200\n",
            "74/74 [==============================] - 4s 55ms/step - loss: 0.5124 - accuracy: 0.8297 - val_loss: 1.0600 - val_accuracy: 0.7057\n",
            "Epoch 34/200\n",
            "74/74 [==============================] - 4s 55ms/step - loss: 0.4691 - accuracy: 0.8458 - val_loss: 1.3000 - val_accuracy: 0.7071\n",
            "Epoch 35/200\n",
            "74/74 [==============================] - 4s 54ms/step - loss: 0.4414 - accuracy: 0.8558 - val_loss: 0.9691 - val_accuracy: 0.7233\n",
            "Epoch 36/200\n",
            "74/74 [==============================] - 4s 54ms/step - loss: 0.4336 - accuracy: 0.8548 - val_loss: 1.2440 - val_accuracy: 0.5923\n",
            "Epoch 37/200\n",
            "74/74 [==============================] - 4s 54ms/step - loss: 0.4198 - accuracy: 0.8598 - val_loss: 2.4646 - val_accuracy: 0.3338\n",
            "Epoch 38/200\n",
            "74/74 [==============================] - 4s 55ms/step - loss: 0.4353 - accuracy: 0.8519 - val_loss: 1.4461 - val_accuracy: 0.4822\n",
            "Epoch 39/200\n",
            "74/74 [==============================] - 4s 54ms/step - loss: 0.4014 - accuracy: 0.8700 - val_loss: 1.7278 - val_accuracy: 0.3887\n",
            "Epoch 40/200\n",
            "74/74 [==============================] - 4s 54ms/step - loss: 0.4011 - accuracy: 0.8657 - val_loss: 1.2306 - val_accuracy: 0.5749\n",
            "Epoch 41/200\n",
            "74/74 [==============================] - 4s 54ms/step - loss: 0.3920 - accuracy: 0.8702 - val_loss: 1.1452 - val_accuracy: 0.6059\n",
            "Epoch 42/200\n",
            "74/74 [==============================] - 4s 55ms/step - loss: 0.4114 - accuracy: 0.8619 - val_loss: 0.8908 - val_accuracy: 0.7336\n",
            "Epoch 43/200\n",
            "74/74 [==============================] - 4s 56ms/step - loss: 0.4207 - accuracy: 0.8688 - val_loss: 0.7760 - val_accuracy: 0.7762\n",
            "Epoch 44/200\n",
            "74/74 [==============================] - 4s 56ms/step - loss: 0.3840 - accuracy: 0.8759 - val_loss: 0.7647 - val_accuracy: 0.7583\n",
            "Epoch 45/200\n",
            "74/74 [==============================] - 4s 56ms/step - loss: 0.3615 - accuracy: 0.8854 - val_loss: 0.7671 - val_accuracy: 0.7276\n",
            "Epoch 46/200\n",
            "74/74 [==============================] - 4s 56ms/step - loss: 0.3585 - accuracy: 0.8891 - val_loss: 0.9293 - val_accuracy: 0.6986\n",
            "Epoch 47/200\n",
            "74/74 [==============================] - 4s 55ms/step - loss: 0.3428 - accuracy: 0.8921 - val_loss: 0.7174 - val_accuracy: 0.7703\n",
            "Epoch 48/200\n",
            "74/74 [==============================] - 4s 55ms/step - loss: 0.3300 - accuracy: 0.8958 - val_loss: 1.2295 - val_accuracy: 0.5633\n",
            "Epoch 49/200\n",
            "74/74 [==============================] - 4s 54ms/step - loss: 0.3217 - accuracy: 0.9036 - val_loss: 1.2729 - val_accuracy: 0.5627\n",
            "Epoch 50/200\n",
            "74/74 [==============================] - 4s 55ms/step - loss: 0.3188 - accuracy: 0.9003 - val_loss: 0.9540 - val_accuracy: 0.7094\n",
            "Epoch 51/200\n",
            "74/74 [==============================] - 4s 55ms/step - loss: 0.3071 - accuracy: 0.9037 - val_loss: 1.0462 - val_accuracy: 0.7541\n",
            "Epoch 52/200\n",
            "74/74 [==============================] - 4s 54ms/step - loss: 0.3079 - accuracy: 0.9014 - val_loss: 1.0673 - val_accuracy: 0.7179\n",
            "Epoch 53/200\n",
            "74/74 [==============================] - 4s 56ms/step - loss: 0.3034 - accuracy: 0.9062 - val_loss: 1.2272 - val_accuracy: 0.6181\n",
            "Epoch 54/200\n",
            "74/74 [==============================] - 4s 54ms/step - loss: 0.3145 - accuracy: 0.9026 - val_loss: 2.5111 - val_accuracy: 0.3295\n",
            "Epoch 55/200\n",
            "74/74 [==============================] - 4s 54ms/step - loss: 0.3065 - accuracy: 0.9004 - val_loss: 0.8800 - val_accuracy: 0.7452\n",
            "Epoch 56/200\n",
            "74/74 [==============================] - 4s 55ms/step - loss: 0.3029 - accuracy: 0.9106 - val_loss: 0.6030 - val_accuracy: 0.8317\n",
            "Epoch 57/200\n",
            "74/74 [==============================] - 4s 54ms/step - loss: 0.3031 - accuracy: 0.9105 - val_loss: 0.7505 - val_accuracy: 0.8064\n",
            "Epoch 58/200\n",
            "74/74 [==============================] - 4s 56ms/step - loss: 0.3015 - accuracy: 0.9059 - val_loss: 1.5537 - val_accuracy: 0.5587\n",
            "Epoch 59/200\n",
            "74/74 [==============================] - 4s 54ms/step - loss: 0.3132 - accuracy: 0.9002 - val_loss: 1.4780 - val_accuracy: 0.5394\n",
            "Epoch 60/200\n",
            "74/74 [==============================] - 4s 54ms/step - loss: 0.3059 - accuracy: 0.9047 - val_loss: 0.8827 - val_accuracy: 0.7438\n",
            "Epoch 61/200\n",
            "74/74 [==============================] - 4s 54ms/step - loss: 0.3230 - accuracy: 0.8991 - val_loss: 0.5934 - val_accuracy: 0.8490\n",
            "Epoch 62/200\n",
            "74/74 [==============================] - 4s 55ms/step - loss: 0.2925 - accuracy: 0.9030 - val_loss: 0.8230 - val_accuracy: 0.7842\n",
            "Epoch 63/200\n",
            "74/74 [==============================] - 4s 56ms/step - loss: 0.2744 - accuracy: 0.9068 - val_loss: 0.6226 - val_accuracy: 0.8160\n",
            "Epoch 64/200\n",
            "74/74 [==============================] - 4s 56ms/step - loss: 0.2765 - accuracy: 0.9127 - val_loss: 0.7413 - val_accuracy: 0.7868\n",
            "Epoch 65/200\n",
            "74/74 [==============================] - 4s 54ms/step - loss: 0.2631 - accuracy: 0.9173 - val_loss: 0.9488 - val_accuracy: 0.7435\n",
            "Epoch 66/200\n",
            "74/74 [==============================] - 4s 54ms/step - loss: 0.2658 - accuracy: 0.9181 - val_loss: 0.7674 - val_accuracy: 0.8138\n",
            "Epoch 67/200\n",
            "74/74 [==============================] - 4s 55ms/step - loss: 0.2583 - accuracy: 0.9210 - val_loss: 1.2239 - val_accuracy: 0.7347\n",
            "Epoch 68/200\n",
            "74/74 [==============================] - 4s 55ms/step - loss: 0.2695 - accuracy: 0.9164 - val_loss: 0.8133 - val_accuracy: 0.8058\n",
            "Epoch 69/200\n",
            "74/74 [==============================] - 4s 55ms/step - loss: 0.2765 - accuracy: 0.9127 - val_loss: 0.7321 - val_accuracy: 0.8058\n",
            "Epoch 70/200\n",
            "74/74 [==============================] - 4s 54ms/step - loss: 0.2577 - accuracy: 0.9192 - val_loss: 0.7917 - val_accuracy: 0.7654\n",
            "Epoch 71/200\n",
            "74/74 [==============================] - 4s 53ms/step - loss: 0.2496 - accuracy: 0.9215 - val_loss: 0.8039 - val_accuracy: 0.7686\n",
            "Epoch 72/200\n",
            "74/74 [==============================] - 4s 53ms/step - loss: 0.2395 - accuracy: 0.9287 - val_loss: 0.5799 - val_accuracy: 0.8280\n",
            "Epoch 73/200\n",
            "74/74 [==============================] - 4s 55ms/step - loss: 0.2370 - accuracy: 0.9302 - val_loss: 0.8651 - val_accuracy: 0.7890\n",
            "Epoch 74/200\n",
            "74/74 [==============================] - 4s 59ms/step - loss: 0.2369 - accuracy: 0.9315 - val_loss: 1.0368 - val_accuracy: 0.7302\n",
            "Epoch 75/200\n",
            "74/74 [==============================] - 4s 57ms/step - loss: 0.2392 - accuracy: 0.9277 - val_loss: 0.9332 - val_accuracy: 0.7771\n",
            "Epoch 76/200\n",
            "74/74 [==============================] - 4s 55ms/step - loss: 0.2496 - accuracy: 0.9292 - val_loss: 1.8876 - val_accuracy: 0.5274\n",
            "Epoch 77/200\n",
            "74/74 [==============================] - 4s 55ms/step - loss: 0.2672 - accuracy: 0.9234 - val_loss: 1.1878 - val_accuracy: 0.7245\n",
            "Epoch 78/200\n",
            "74/74 [==============================] - 4s 56ms/step - loss: 0.2640 - accuracy: 0.9233 - val_loss: 0.8356 - val_accuracy: 0.8058\n",
            "Epoch 79/200\n",
            "74/74 [==============================] - 4s 55ms/step - loss: 0.2504 - accuracy: 0.9209 - val_loss: 0.7379 - val_accuracy: 0.7853\n",
            "Epoch 80/200\n",
            "74/74 [==============================] - 4s 55ms/step - loss: 0.2577 - accuracy: 0.9193 - val_loss: 1.1626 - val_accuracy: 0.7632\n",
            "Epoch 81/200\n",
            "74/74 [==============================] - 4s 55ms/step - loss: 0.2335 - accuracy: 0.9269 - val_loss: 0.8958 - val_accuracy: 0.7964\n",
            "Epoch 82/200\n",
            "74/74 [==============================] - 4s 56ms/step - loss: 0.2218 - accuracy: 0.9334 - val_loss: 0.7546 - val_accuracy: 0.7961\n",
            "Epoch 83/200\n",
            "74/74 [==============================] - 4s 56ms/step - loss: 0.2162 - accuracy: 0.9309 - val_loss: 0.8770 - val_accuracy: 0.7637\n",
            "Epoch 84/200\n",
            "74/74 [==============================] - 4s 54ms/step - loss: 0.2165 - accuracy: 0.9381 - val_loss: 1.6788 - val_accuracy: 0.5883\n",
            "Epoch 85/200\n",
            "74/74 [==============================] - 4s 57ms/step - loss: 0.2138 - accuracy: 0.9374 - val_loss: 1.1046 - val_accuracy: 0.7228\n",
            "Epoch 86/200\n",
            "74/74 [==============================] - 4s 55ms/step - loss: 0.2097 - accuracy: 0.9360 - val_loss: 1.0539 - val_accuracy: 0.7623\n",
            "Epoch 87/200\n",
            "74/74 [==============================] - 4s 54ms/step - loss: 0.2139 - accuracy: 0.9395 - val_loss: 1.1937 - val_accuracy: 0.7310\n",
            "Epoch 88/200\n",
            "74/74 [==============================] - 4s 56ms/step - loss: 0.1929 - accuracy: 0.9444 - val_loss: 1.2773 - val_accuracy: 0.6889\n",
            "Epoch 89/200\n",
            "74/74 [==============================] - 4s 55ms/step - loss: 0.1924 - accuracy: 0.9435 - val_loss: 0.9144 - val_accuracy: 0.7620\n",
            "Epoch 90/200\n",
            "74/74 [==============================] - 4s 57ms/step - loss: 0.1944 - accuracy: 0.9448 - val_loss: 0.9465 - val_accuracy: 0.6813\n",
            "Epoch 91/200\n",
            "74/74 [==============================] - 4s 55ms/step - loss: 0.1871 - accuracy: 0.9460 - val_loss: 0.8879 - val_accuracy: 0.7694\n",
            "Epoch 92/200\n",
            "74/74 [==============================] - 4s 55ms/step - loss: 0.1885 - accuracy: 0.9475 - val_loss: 1.3715 - val_accuracy: 0.5860\n",
            "Epoch 93/200\n",
            "74/74 [==============================] - 4s 56ms/step - loss: 0.1779 - accuracy: 0.9469 - val_loss: 1.1166 - val_accuracy: 0.7054\n",
            "Epoch 94/200\n",
            "74/74 [==============================] - 4s 56ms/step - loss: 0.1769 - accuracy: 0.9511 - val_loss: 1.2328 - val_accuracy: 0.5829\n",
            "Epoch 95/200\n",
            "74/74 [==============================] - 4s 56ms/step - loss: 0.1756 - accuracy: 0.9491 - val_loss: 1.0528 - val_accuracy: 0.6742\n",
            "Epoch 96/200\n",
            "74/74 [==============================] - 4s 56ms/step - loss: 0.1903 - accuracy: 0.9457 - val_loss: 2.0737 - val_accuracy: 0.5857\n",
            "Epoch 97/200\n",
            "74/74 [==============================] - 4s 57ms/step - loss: 0.2078 - accuracy: 0.9336 - val_loss: 1.4138 - val_accuracy: 0.6565\n",
            "Epoch 98/200\n",
            "74/74 [==============================] - 4s 57ms/step - loss: 0.1951 - accuracy: 0.9391 - val_loss: 0.7101 - val_accuracy: 0.7947\n",
            "Epoch 99/200\n",
            "74/74 [==============================] - 4s 57ms/step - loss: 0.1927 - accuracy: 0.9443 - val_loss: 0.9938 - val_accuracy: 0.7202\n",
            "Epoch 100/200\n",
            "74/74 [==============================] - 4s 56ms/step - loss: 0.1801 - accuracy: 0.9465 - val_loss: 1.0803 - val_accuracy: 0.6520\n",
            "Epoch 101/200\n",
            "74/74 [==============================] - 4s 58ms/step - loss: 0.1713 - accuracy: 0.9531 - val_loss: 0.9915 - val_accuracy: 0.6904\n",
            "Epoch 102/200\n",
            "74/74 [==============================] - 4s 56ms/step - loss: 0.1655 - accuracy: 0.9532 - val_loss: 2.0388 - val_accuracy: 0.5024\n",
            "Epoch 103/200\n",
            "74/74 [==============================] - 4s 57ms/step - loss: 0.1611 - accuracy: 0.9543 - val_loss: 1.1919 - val_accuracy: 0.5891\n",
            "Epoch 104/200\n",
            "74/74 [==============================] - 4s 55ms/step - loss: 0.1493 - accuracy: 0.9568 - val_loss: 1.9790 - val_accuracy: 0.5038\n",
            "Epoch 105/200\n",
            "74/74 [==============================] - 4s 57ms/step - loss: 0.1608 - accuracy: 0.9544 - val_loss: 1.9284 - val_accuracy: 0.4990\n",
            "Epoch 106/200\n",
            "74/74 [==============================] - 4s 58ms/step - loss: 0.1489 - accuracy: 0.9549 - val_loss: 2.4860 - val_accuracy: 0.5107\n",
            "Epoch 107/200\n",
            "74/74 [==============================] - 5s 61ms/step - loss: 0.1554 - accuracy: 0.9542 - val_loss: 1.9358 - val_accuracy: 0.5053\n",
            "Epoch 108/200\n",
            "74/74 [==============================] - 5s 61ms/step - loss: 0.1534 - accuracy: 0.9578 - val_loss: 1.0322 - val_accuracy: 0.6807\n",
            "Epoch 109/200\n",
            "74/74 [==============================] - 4s 59ms/step - loss: 0.1566 - accuracy: 0.9563 - val_loss: 1.2485 - val_accuracy: 0.6682\n",
            "Epoch 110/200\n",
            "74/74 [==============================] - 4s 58ms/step - loss: 0.1628 - accuracy: 0.9533 - val_loss: 2.7790 - val_accuracy: 0.4691\n",
            "Epoch 111/200\n",
            "74/74 [==============================] - 5s 61ms/step - loss: 0.1833 - accuracy: 0.9468 - val_loss: 1.9744 - val_accuracy: 0.7643\n",
            "Epoch 112/200\n",
            "74/74 [==============================] - 4s 58ms/step - loss: 0.1757 - accuracy: 0.9504 - val_loss: 1.0746 - val_accuracy: 0.6978\n",
            "Epoch 113/200\n",
            "74/74 [==============================] - 4s 56ms/step - loss: 0.1571 - accuracy: 0.9547 - val_loss: 3.0867 - val_accuracy: 0.4310\n",
            "Epoch 114/200\n",
            "74/74 [==============================] - 4s 59ms/step - loss: 0.1529 - accuracy: 0.9560 - val_loss: 0.9662 - val_accuracy: 0.7208\n",
            "Epoch 115/200\n",
            "74/74 [==============================] - 4s 57ms/step - loss: 0.1443 - accuracy: 0.9588 - val_loss: 1.9944 - val_accuracy: 0.4524\n",
            "Epoch 116/200\n",
            "74/74 [==============================] - 4s 55ms/step - loss: 0.1425 - accuracy: 0.9587 - val_loss: 2.7905 - val_accuracy: 0.5001\n",
            "Epoch 117/200\n",
            "74/74 [==============================] - 4s 56ms/step - loss: 0.1343 - accuracy: 0.9620 - val_loss: 1.9199 - val_accuracy: 0.5903\n",
            "Epoch 118/200\n",
            "74/74 [==============================] - 4s 59ms/step - loss: 0.1381 - accuracy: 0.9606 - val_loss: 1.0380 - val_accuracy: 0.6577\n",
            "Epoch 119/200\n",
            "74/74 [==============================] - 5s 61ms/step - loss: 0.1260 - accuracy: 0.9644 - val_loss: 2.0087 - val_accuracy: 0.5436\n",
            "Epoch 120/200\n",
            "74/74 [==============================] - 5s 60ms/step - loss: 0.1276 - accuracy: 0.9653 - val_loss: 2.0612 - val_accuracy: 0.5240\n",
            "Epoch 121/200\n",
            "74/74 [==============================] - 4s 57ms/step - loss: 0.1303 - accuracy: 0.9645 - val_loss: 1.3722 - val_accuracy: 0.6321\n",
            "Epoch 122/200\n",
            "74/74 [==============================] - 4s 56ms/step - loss: 0.1227 - accuracy: 0.9658 - val_loss: 2.0568 - val_accuracy: 0.4959\n",
            "Epoch 123/200\n",
            "74/74 [==============================] - 4s 57ms/step - loss: 0.1207 - accuracy: 0.9663 - val_loss: 3.7976 - val_accuracy: 0.5306\n",
            "Epoch 124/200\n",
            "74/74 [==============================] - 4s 56ms/step - loss: 0.1292 - accuracy: 0.9633 - val_loss: 1.6892 - val_accuracy: 0.5829\n",
            "Epoch 125/200\n",
            "74/74 [==============================] - 4s 57ms/step - loss: 0.1267 - accuracy: 0.9635 - val_loss: 3.3177 - val_accuracy: 0.5141\n",
            "Epoch 126/200\n",
            "74/74 [==============================] - 4s 56ms/step - loss: 0.1244 - accuracy: 0.9640 - val_loss: 1.8960 - val_accuracy: 0.5431\n",
            "Epoch 127/200\n",
            "74/74 [==============================] - 4s 56ms/step - loss: 0.1211 - accuracy: 0.9649 - val_loss: 2.0628 - val_accuracy: 0.5655\n",
            "Epoch 128/200\n",
            "74/74 [==============================] - 4s 54ms/step - loss: 0.1291 - accuracy: 0.9648 - val_loss: 1.2513 - val_accuracy: 0.6636\n",
            "Epoch 129/200\n",
            "74/74 [==============================] - 4s 57ms/step - loss: 0.1559 - accuracy: 0.9574 - val_loss: 1.6909 - val_accuracy: 0.6463\n",
            "Epoch 130/200\n",
            "74/74 [==============================] - 4s 55ms/step - loss: 0.1845 - accuracy: 0.9475 - val_loss: 1.9030 - val_accuracy: 0.5943\n",
            "Epoch 131/200\n",
            "74/74 [==============================] - 4s 55ms/step - loss: 0.1886 - accuracy: 0.9441 - val_loss: 0.7407 - val_accuracy: 0.7725\n",
            "Epoch 132/200\n",
            "74/74 [==============================] - 4s 56ms/step - loss: 0.1582 - accuracy: 0.9547 - val_loss: 0.6402 - val_accuracy: 0.8129\n",
            "Epoch 133/200\n",
            "74/74 [==============================] - 4s 55ms/step - loss: 0.1379 - accuracy: 0.9631 - val_loss: 0.6328 - val_accuracy: 0.8058\n",
            "Epoch 134/200\n",
            "74/74 [==============================] - 4s 56ms/step - loss: 0.1243 - accuracy: 0.9642 - val_loss: 0.6483 - val_accuracy: 0.8001\n",
            "Epoch 135/200\n",
            "74/74 [==============================] - 4s 54ms/step - loss: 0.1230 - accuracy: 0.9648 - val_loss: 0.7308 - val_accuracy: 0.7958\n",
            "Epoch 136/200\n",
            "74/74 [==============================] - 4s 56ms/step - loss: 0.1160 - accuracy: 0.9681 - val_loss: 1.5163 - val_accuracy: 0.6599\n",
            "Epoch 137/200\n",
            "74/74 [==============================] - 4s 56ms/step - loss: 0.1162 - accuracy: 0.9682 - val_loss: 0.6536 - val_accuracy: 0.7671\n",
            "Epoch 138/200\n",
            "74/74 [==============================] - 4s 55ms/step - loss: 0.1134 - accuracy: 0.9662 - val_loss: 1.1482 - val_accuracy: 0.6531\n",
            "Epoch 139/200\n",
            "74/74 [==============================] - 4s 54ms/step - loss: 0.1081 - accuracy: 0.9707 - val_loss: 0.9568 - val_accuracy: 0.6798\n",
            "Epoch 140/200\n",
            "74/74 [==============================] - 4s 55ms/step - loss: 0.1027 - accuracy: 0.9683 - val_loss: 1.4938 - val_accuracy: 0.6426\n",
            "Epoch 141/200\n",
            "74/74 [==============================] - 4s 56ms/step - loss: 0.1031 - accuracy: 0.9715 - val_loss: 0.8583 - val_accuracy: 0.7600\n",
            "Epoch 142/200\n",
            "74/74 [==============================] - 4s 55ms/step - loss: 0.0998 - accuracy: 0.9721 - val_loss: 1.1837 - val_accuracy: 0.6332\n",
            "Epoch 143/200\n",
            "74/74 [==============================] - 4s 55ms/step - loss: 0.1051 - accuracy: 0.9702 - val_loss: 0.8464 - val_accuracy: 0.7796\n",
            "Epoch 144/200\n",
            "74/74 [==============================] - 4s 55ms/step - loss: 0.1050 - accuracy: 0.9716 - val_loss: 1.2636 - val_accuracy: 0.6568\n",
            "Epoch 145/200\n",
            "74/74 [==============================] - 4s 54ms/step - loss: 0.1074 - accuracy: 0.9701 - val_loss: 1.0240 - val_accuracy: 0.7299\n",
            "Epoch 146/200\n",
            "74/74 [==============================] - 4s 54ms/step - loss: 0.0942 - accuracy: 0.9732 - val_loss: 1.1015 - val_accuracy: 0.7367\n",
            "Epoch 147/200\n",
            "74/74 [==============================] - 4s 54ms/step - loss: 0.1231 - accuracy: 0.9611 - val_loss: 1.7033 - val_accuracy: 0.5402\n",
            "Epoch 148/200\n",
            "74/74 [==============================] - 4s 56ms/step - loss: 0.1311 - accuracy: 0.9608 - val_loss: 1.4716 - val_accuracy: 0.6878\n",
            "Epoch 149/200\n",
            "74/74 [==============================] - 4s 56ms/step - loss: 0.1104 - accuracy: 0.9694 - val_loss: 0.9633 - val_accuracy: 0.7868\n",
            "Epoch 150/200\n",
            "74/74 [==============================] - 4s 55ms/step - loss: 0.1171 - accuracy: 0.9667 - val_loss: 0.5526 - val_accuracy: 0.8132\n",
            "Epoch 151/200\n",
            "74/74 [==============================] - 4s 56ms/step - loss: 0.1130 - accuracy: 0.9685 - val_loss: 1.4194 - val_accuracy: 0.6949\n",
            "Epoch 152/200\n",
            "74/74 [==============================] - 4s 56ms/step - loss: 0.1038 - accuracy: 0.9703 - val_loss: 0.5733 - val_accuracy: 0.8274\n",
            "Epoch 153/200\n",
            "74/74 [==============================] - 4s 56ms/step - loss: 0.0929 - accuracy: 0.9750 - val_loss: 1.4034 - val_accuracy: 0.5965\n",
            "Epoch 154/200\n",
            "74/74 [==============================] - 4s 57ms/step - loss: 0.0917 - accuracy: 0.9742 - val_loss: 1.0579 - val_accuracy: 0.6702\n",
            "Epoch 155/200\n",
            "74/74 [==============================] - 4s 56ms/step - loss: 0.0979 - accuracy: 0.9708 - val_loss: 0.9023 - val_accuracy: 0.7393\n",
            "Epoch 156/200\n",
            "74/74 [==============================] - 4s 55ms/step - loss: 0.0920 - accuracy: 0.9737 - val_loss: 1.2326 - val_accuracy: 0.7214\n",
            "Epoch 157/200\n",
            "74/74 [==============================] - 4s 55ms/step - loss: 0.0902 - accuracy: 0.9734 - val_loss: 1.3335 - val_accuracy: 0.6460\n",
            "Epoch 158/200\n",
            "74/74 [==============================] - 4s 55ms/step - loss: 0.0916 - accuracy: 0.9738 - val_loss: 1.8540 - val_accuracy: 0.5749\n",
            "Epoch 159/200\n",
            "74/74 [==============================] - 4s 55ms/step - loss: 0.0975 - accuracy: 0.9703 - val_loss: 0.7202 - val_accuracy: 0.8163\n",
            "Epoch 160/200\n",
            "74/74 [==============================] - 4s 56ms/step - loss: 0.1211 - accuracy: 0.9662 - val_loss: 1.0911 - val_accuracy: 0.7199\n",
            "Epoch 161/200\n",
            "74/74 [==============================] - 4s 57ms/step - loss: 0.1067 - accuracy: 0.9694 - val_loss: 1.3745 - val_accuracy: 0.6801\n",
            "Epoch 162/200\n",
            "74/74 [==============================] - 4s 55ms/step - loss: 0.1051 - accuracy: 0.9681 - val_loss: 1.3240 - val_accuracy: 0.6707\n",
            "Epoch 163/200\n",
            "74/74 [==============================] - 4s 56ms/step - loss: 0.0926 - accuracy: 0.9750 - val_loss: 0.8834 - val_accuracy: 0.7344\n",
            "Epoch 164/200\n",
            "74/74 [==============================] - 4s 56ms/step - loss: 0.0932 - accuracy: 0.9743 - val_loss: 2.1310 - val_accuracy: 0.6019\n",
            "Epoch 165/200\n",
            "74/74 [==============================] - 4s 55ms/step - loss: 0.1001 - accuracy: 0.9723 - val_loss: 1.8470 - val_accuracy: 0.5326\n",
            "Epoch 166/200\n",
            "74/74 [==============================] - 4s 55ms/step - loss: 0.0970 - accuracy: 0.9690 - val_loss: 2.0453 - val_accuracy: 0.5479\n",
            "Epoch 167/200\n",
            "74/74 [==============================] - 4s 55ms/step - loss: 0.0961 - accuracy: 0.9714 - val_loss: 0.9314 - val_accuracy: 0.7660\n",
            "Epoch 168/200\n",
            "74/74 [==============================] - 4s 57ms/step - loss: 0.0856 - accuracy: 0.9739 - val_loss: 2.9960 - val_accuracy: 0.4859\n",
            "Epoch 169/200\n",
            "74/74 [==============================] - 4s 54ms/step - loss: 0.0806 - accuracy: 0.9778 - val_loss: 1.1798 - val_accuracy: 0.7086\n",
            "Epoch 170/200\n",
            "74/74 [==============================] - 4s 56ms/step - loss: 0.0827 - accuracy: 0.9773 - val_loss: 0.9634 - val_accuracy: 0.7768\n",
            "Epoch 171/200\n",
            "74/74 [==============================] - 4s 56ms/step - loss: 0.0934 - accuracy: 0.9730 - val_loss: 0.7174 - val_accuracy: 0.8257\n",
            "Epoch 172/200\n",
            "74/74 [==============================] - 4s 56ms/step - loss: 0.1527 - accuracy: 0.9582 - val_loss: 3.5447 - val_accuracy: 0.3870\n",
            "Epoch 173/200\n",
            "74/74 [==============================] - 4s 57ms/step - loss: 0.1214 - accuracy: 0.9627 - val_loss: 0.8596 - val_accuracy: 0.7788\n",
            "Epoch 174/200\n",
            "74/74 [==============================] - 4s 56ms/step - loss: 0.1034 - accuracy: 0.9699 - val_loss: 0.8987 - val_accuracy: 0.7521\n",
            "Epoch 175/200\n",
            "74/74 [==============================] - 4s 57ms/step - loss: 0.0848 - accuracy: 0.9761 - val_loss: 0.9620 - val_accuracy: 0.7617\n",
            "Epoch 176/200\n",
            "74/74 [==============================] - 4s 56ms/step - loss: 0.0836 - accuracy: 0.9752 - val_loss: 1.0598 - val_accuracy: 0.7006\n",
            "Epoch 177/200\n",
            "74/74 [==============================] - 4s 56ms/step - loss: 0.0847 - accuracy: 0.9753 - val_loss: 1.4631 - val_accuracy: 0.6267\n",
            "Epoch 178/200\n",
            "74/74 [==============================] - 4s 56ms/step - loss: 0.1060 - accuracy: 0.9720 - val_loss: 2.8078 - val_accuracy: 0.4154\n",
            "Epoch 179/200\n",
            "74/74 [==============================] - 4s 56ms/step - loss: 0.1065 - accuracy: 0.9679 - val_loss: 1.1705 - val_accuracy: 0.7160\n",
            "Epoch 180/200\n",
            "74/74 [==============================] - 4s 55ms/step - loss: 0.1001 - accuracy: 0.9721 - val_loss: 0.9627 - val_accuracy: 0.7705\n",
            "Epoch 181/200\n",
            "74/74 [==============================] - 4s 55ms/step - loss: 0.0825 - accuracy: 0.9765 - val_loss: 1.1672 - val_accuracy: 0.7322\n",
            "Epoch 182/200\n",
            "74/74 [==============================] - 4s 58ms/step - loss: 0.0694 - accuracy: 0.9800 - val_loss: 0.4986 - val_accuracy: 0.8561\n",
            "Epoch 183/200\n",
            "74/74 [==============================] - 4s 57ms/step - loss: 0.0720 - accuracy: 0.9787 - val_loss: 1.0687 - val_accuracy: 0.7262\n",
            "Epoch 184/200\n",
            "74/74 [==============================] - 4s 56ms/step - loss: 0.0731 - accuracy: 0.9784 - val_loss: 0.6659 - val_accuracy: 0.8362\n",
            "Epoch 185/200\n",
            "74/74 [==============================] - 5s 60ms/step - loss: 0.0832 - accuracy: 0.9748 - val_loss: 1.0489 - val_accuracy: 0.7504\n",
            "Epoch 186/200\n",
            "74/74 [==============================] - 4s 56ms/step - loss: 0.0858 - accuracy: 0.9729 - val_loss: 0.6641 - val_accuracy: 0.8396\n",
            "Epoch 187/200\n",
            "74/74 [==============================] - 4s 56ms/step - loss: 0.0785 - accuracy: 0.9769 - val_loss: 1.2019 - val_accuracy: 0.7185\n",
            "Epoch 188/200\n",
            "74/74 [==============================] - 4s 56ms/step - loss: 0.0855 - accuracy: 0.9746 - val_loss: 1.7114 - val_accuracy: 0.6247\n",
            "Epoch 189/200\n",
            "74/74 [==============================] - 4s 56ms/step - loss: 0.0831 - accuracy: 0.9755 - val_loss: 2.5600 - val_accuracy: 0.5550\n",
            "Epoch 190/200\n",
            "74/74 [==============================] - 4s 57ms/step - loss: 0.0717 - accuracy: 0.9797 - val_loss: 1.1683 - val_accuracy: 0.7359\n",
            "Epoch 191/200\n",
            "74/74 [==============================] - 4s 56ms/step - loss: 0.0857 - accuracy: 0.9743 - val_loss: 1.3821 - val_accuracy: 0.6767\n",
            "Epoch 192/200\n",
            "74/74 [==============================] - 5s 61ms/step - loss: 0.1134 - accuracy: 0.9663 - val_loss: 2.6194 - val_accuracy: 0.3958\n",
            "Epoch 193/200\n",
            "74/74 [==============================] - 4s 55ms/step - loss: 0.0934 - accuracy: 0.9718 - val_loss: 0.8613 - val_accuracy: 0.7950\n",
            "Epoch 194/200\n",
            "74/74 [==============================] - 4s 57ms/step - loss: 0.0702 - accuracy: 0.9793 - val_loss: 1.1170 - val_accuracy: 0.7512\n",
            "Epoch 195/200\n",
            "74/74 [==============================] - 4s 55ms/step - loss: 0.0655 - accuracy: 0.9792 - val_loss: 1.4062 - val_accuracy: 0.6142\n",
            "Epoch 196/200\n",
            "74/74 [==============================] - 4s 58ms/step - loss: 0.0699 - accuracy: 0.9801 - val_loss: 0.8920 - val_accuracy: 0.8095\n",
            "Epoch 197/200\n",
            "74/74 [==============================] - 4s 60ms/step - loss: 0.0719 - accuracy: 0.9800 - val_loss: 1.4714 - val_accuracy: 0.6432\n",
            "Epoch 198/200\n",
            "74/74 [==============================] - 4s 56ms/step - loss: 0.0682 - accuracy: 0.9805 - val_loss: 1.8735 - val_accuracy: 0.5997\n",
            "Epoch 199/200\n",
            "74/74 [==============================] - 4s 57ms/step - loss: 0.0572 - accuracy: 0.9837 - val_loss: 2.2662 - val_accuracy: 0.5601\n",
            "Epoch 200/200\n",
            "74/74 [==============================] - 4s 58ms/step - loss: 0.0593 - accuracy: 0.9826 - val_loss: 1.8117 - val_accuracy: 0.5707\n"
          ],
          "name": "stdout"
        }
      ]
    },
    {
      "cell_type": "code",
      "metadata": {
        "id": "ScP8d4L0Lg-W"
      },
      "source": [
        "# model.save('prime_model.h5')"
      ],
      "execution_count": null,
      "outputs": []
    },
    {
      "cell_type": "code",
      "metadata": {
        "colab": {
          "base_uri": "https://localhost:8080/",
          "height": 338
        },
        "id": "G9XAE607mPhs",
        "outputId": "3949d465-9411-4d0b-9844-16d11dec6fb0"
      },
      "source": [
        "m_acc = history.history['accuracy']\n",
        "fig, ax = plt.subplots(figsize = (15,5))\n",
        "ax.plot(m_acc, color = 'r')\n",
        "ax.plot(history.history['loss'], color = 'b')"
      ],
      "execution_count": 30,
      "outputs": [
        {
          "output_type": "execute_result",
          "data": {
            "text/plain": [
              "[<matplotlib.lines.Line2D at 0x7f1686338c50>]"
            ]
          },
          "metadata": {
            "tags": []
          },
          "execution_count": 30
        },
        {
          "output_type": "display_data",
          "data": {
            "image/png": "[encoded data removed]",
            "text/plain": [
              "<Figure size 1080x360 with 1 Axes>"
            ]
          },
          "metadata": {
            "tags": [],
            "needs_background": "light"
          }
        }
      ]
    },
    {
      "cell_type": "code",
      "metadata": {
        "colab": {
          "base_uri": "https://localhost:8080/",
          "height": 338
        },
        "id": "iPCa-fzpPF19",
        "outputId": "7573f251-4c64-4a4b-920d-2bf8a936261e"
      },
      "source": [
        "m_acc = history.history['accuracy']\n",
        "fig, ax = plt.subplots(figsize = (15,5))\n",
        "ax.plot(m_acc, color = 'r')\n",
        "ax.plot(history.history['val_accuracy'], color = 'b')\n",
        "# plt.legend()"
      ],
      "execution_count": 31,
      "outputs": [
        {
          "output_type": "execute_result",
          "data": {
            "text/plain": [
              "[<matplotlib.lines.Line2D at 0x7f1678b75b10>]"
            ]
          },
          "metadata": {
            "tags": []
          },
          "execution_count": 31
        },
        {
          "output_type": "display_data",
          "data": {
            "image/png": "[encoded data removed]",
            "text/plain": [
              "<Figure size 1080x360 with 1 Axes>"
            ]
          },
          "metadata": {
            "tags": [],
            "needs_background": "light"
          }
        }
      ]
    },
    {
      "cell_type": "code",
      "metadata": {
        "colab": {
          "base_uri": "https://localhost:8080/"
        },
        "id": "N0hO7ST7rox4",
        "outputId": "3dcde82e-55ce-410f-ee24-d5fc4bdc0249"
      },
      "source": [
        "eval = model.evaluate(test_f,test_l)"
      ],
      "execution_count": 32,
      "outputs": [
        {
          "output_type": "stream",
          "text": [
            "110/110 [==============================] - 1s 7ms/step - loss: 1.8117 - accuracy: 0.5707\n"
          ],
          "name": "stdout"
        }
      ]
    },
    {
      "cell_type": "code",
      "metadata": {
        "id": "JqS4MIPXrybB"
      },
      "source": [
        "b_model = tf.keras.models.load_model('best_trained_model.h5')"
      ],
      "execution_count": 33,
      "outputs": []
    },
    {
      "cell_type": "code",
      "metadata": {
        "id": "Yi86CSU9r3eI",
        "colab": {
          "base_uri": "https://localhost:8080/"
        },
        "outputId": "55820921-69fd-4ff2-9f71-205b7893fcea"
      },
      "source": [
        "b_model.evaluate(test_f, test_l)"
      ],
      "execution_count": 34,
      "outputs": [
        {
          "output_type": "stream",
          "text": [
            "110/110 [==============================] - 1s 8ms/step - loss: 0.4986 - accuracy: 0.8561\n"
          ],
          "name": "stdout"
        },
        {
          "output_type": "execute_result",
          "data": {
            "text/plain": [
              "[0.4986152648925781, 0.8561273813247681]"
            ]
          },
          "metadata": {
            "tags": []
          },
          "execution_count": 34
        }
      ]
    },
    {
      "cell_type": "code",
      "metadata": {
        "id": "6p9xDKyVQcVe",
        "colab": {
          "base_uri": "https://localhost:8080/"
        },
        "outputId": "59e1caaf-4999-416b-f528-fdd61e7d9803"
      },
      "source": [
        "test_pred = b_model.predict_classes(test_f)"
      ],
      "execution_count": null,
      "outputs": [
        {
          "output_type": "stream",
          "text": [
            "/usr/local/lib/python3.7/dist-packages/tensorflow/python/keras/engine/sequential.py:450: UserWarning: `model.predict_classes()` is deprecated and will be removed after 2021-01-01. Please use instead:* `np.argmax(model.predict(x), axis=-1)`,   if your model does multi-class classification   (e.g. if it uses a `softmax` last-layer activation).* `(model.predict(x) > 0.5).astype(\"int32\")`,   if your model does binary classification   (e.g. if it uses a `sigmoid` last-layer activation).\n",
            "  warnings.warn('`model.predict_classes()` is deprecated and '\n"
          ],
          "name": "stderr"
        }
      ]
    },
    {
      "cell_type": "code",
      "metadata": {
        "colab": {
          "base_uri": "https://localhost:8080/"
        },
        "id": "RvziiR0ZhfhR",
        "outputId": "575ea945-1228-47b7-9fd7-3c8374a522ea"
      },
      "source": [
        "test_pred"
      ],
      "execution_count": null,
      "outputs": [
        {
          "output_type": "execute_result",
          "data": {
            "text/plain": [
              "array([1, 1, 1, ..., 0, 0, 0])"
            ]
          },
          "metadata": {
            "tags": []
          },
          "execution_count": 37
        }
      ]
    },
    {
      "cell_type": "code",
      "metadata": {
        "id": "LYbtn8EVh1nr",
        "colab": {
          "base_uri": "https://localhost:8080/"
        },
        "outputId": "bb01d4fd-edd6-49a9-e322-5f84bcddbfdd"
      },
      "source": [
        "test_l.shape"
      ],
      "execution_count": null,
      "outputs": [
        {
          "output_type": "execute_result",
          "data": {
            "text/plain": [
              "(1561, 6)"
            ]
          },
          "metadata": {
            "tags": []
          },
          "execution_count": 38
        }
      ]
    },
    {
      "cell_type": "code",
      "metadata": {
        "id": "VIcU_Ep8uSNu"
      },
      "source": [
        "from sklearn.preprocessing import OneHotEncoder"
      ],
      "execution_count": null,
      "outputs": []
    },
    {
      "cell_type": "code",
      "metadata": {
        "id": "r3X35XLfuLpl"
      },
      "source": [
        "\n",
        "test_pr = OneHotEncoder().fit_transform(test_pred.reshape(-1,1))"
      ],
      "execution_count": null,
      "outputs": []
    },
    {
      "cell_type": "code",
      "metadata": {
        "colab": {
          "base_uri": "https://localhost:8080/"
        },
        "id": "yHkabBoFuolc",
        "outputId": "c382b1dd-d515-4112-ba9d-7a243024931e"
      },
      "source": [
        "test_pr.shape"
      ],
      "execution_count": null,
      "outputs": [
        {
          "output_type": "execute_result",
          "data": {
            "text/plain": [
              "(1561, 6)"
            ]
          },
          "metadata": {
            "tags": []
          },
          "execution_count": 44
        }
      ]
    },
    {
      "cell_type": "code",
      "metadata": {
        "id": "-7IJK3uGVRE9",
        "colab": {
          "base_uri": "https://localhost:8080/",
          "height": 449
        },
        "outputId": "3767fe35-4c78-42cb-b176-2e480e6109d4"
      },
      "source": [
        "con = tf.math.confusion_matrix(test_l, test_pr)"
      ],
      "execution_count": null,
      "outputs": [
        {
          "output_type": "error",
          "ename": "ValueError",
          "evalue": "ignored",
          "traceback": [
            "\u001b[0;31m---------------------------------------------------------------------------\u001b[0m",
            "\u001b[0;31mValueError\u001b[0m                                Traceback (most recent call last)",
            "\u001b[0;32m<ipython-input-45-7d121f7fedbb>\u001b[0m in \u001b[0;36m<module>\u001b[0;34m()\u001b[0m\n\u001b[0;32m----> 1\u001b[0;31m \u001b[0mcon\u001b[0m \u001b[0;34m=\u001b[0m \u001b[0mtf\u001b[0m\u001b[0;34m.\u001b[0m\u001b[0mmath\u001b[0m\u001b[0;34m.\u001b[0m\u001b[0mconfusion_matrix\u001b[0m\u001b[0;34m(\u001b[0m\u001b[0mtest_l\u001b[0m\u001b[0;34m,\u001b[0m \u001b[0mtest_pr\u001b[0m\u001b[0;34m)\u001b[0m\u001b[0;34m\u001b[0m\u001b[0;34m\u001b[0m\u001b[0m\n\u001b[0m",
            "\u001b[0;32m/usr/local/lib/python3.7/dist-packages/tensorflow/python/util/dispatch.py\u001b[0m in \u001b[0;36mwrapper\u001b[0;34m(*args, **kwargs)\u001b[0m\n\u001b[1;32m    199\u001b[0m     \u001b[0;34m\"\"\"Call target, and fall back on dispatchers if there is a TypeError.\"\"\"\u001b[0m\u001b[0;34m\u001b[0m\u001b[0;34m\u001b[0m\u001b[0m\n\u001b[1;32m    200\u001b[0m     \u001b[0;32mtry\u001b[0m\u001b[0;34m:\u001b[0m\u001b[0;34m\u001b[0m\u001b[0;34m\u001b[0m\u001b[0m\n\u001b[0;32m--> 201\u001b[0;31m       \u001b[0;32mreturn\u001b[0m \u001b[0mtarget\u001b[0m\u001b[0;34m(\u001b[0m\u001b[0;34m*\u001b[0m\u001b[0margs\u001b[0m\u001b[0;34m,\u001b[0m \u001b[0;34m**\u001b[0m\u001b[0mkwargs\u001b[0m\u001b[0;34m)\u001b[0m\u001b[0;34m\u001b[0m\u001b[0;34m\u001b[0m\u001b[0m\n\u001b[0m\u001b[1;32m    202\u001b[0m     \u001b[0;32mexcept\u001b[0m \u001b[0;34m(\u001b[0m\u001b[0mTypeError\u001b[0m\u001b[0;34m,\u001b[0m \u001b[0mValueError\u001b[0m\u001b[0;34m)\u001b[0m\u001b[0;34m:\u001b[0m\u001b[0;34m\u001b[0m\u001b[0;34m\u001b[0m\u001b[0m\n\u001b[1;32m    203\u001b[0m       \u001b[0;31m# Note: convert_to_eager_tensor currently raises a ValueError, not a\u001b[0m\u001b[0;34m\u001b[0m\u001b[0;34m\u001b[0m\u001b[0;34m\u001b[0m\u001b[0m\n",
            "\u001b[0;32m/usr/local/lib/python3.7/dist-packages/tensorflow/python/ops/confusion_matrix.py\u001b[0m in \u001b[0;36mconfusion_matrix\u001b[0;34m(labels, predictions, num_classes, weights, dtype, name)\u001b[0m\n\u001b[1;32m    155\u001b[0m         \u001b[0mops\u001b[0m\u001b[0;34m.\u001b[0m\u001b[0mconvert_to_tensor\u001b[0m\u001b[0;34m(\u001b[0m\u001b[0mlabels\u001b[0m\u001b[0;34m,\u001b[0m \u001b[0mname\u001b[0m\u001b[0;34m=\u001b[0m\u001b[0;34m'labels'\u001b[0m\u001b[0;34m)\u001b[0m\u001b[0;34m,\u001b[0m\u001b[0;34m\u001b[0m\u001b[0;34m\u001b[0m\u001b[0m\n\u001b[1;32m    156\u001b[0m         ops.convert_to_tensor(\n\u001b[0;32m--> 157\u001b[0;31m             predictions, name='predictions'))\n\u001b[0m\u001b[1;32m    158\u001b[0m     \u001b[0mpredictions\u001b[0m \u001b[0;34m=\u001b[0m \u001b[0mmath_ops\u001b[0m\u001b[0;34m.\u001b[0m\u001b[0mcast\u001b[0m\u001b[0;34m(\u001b[0m\u001b[0mpredictions\u001b[0m\u001b[0;34m,\u001b[0m \u001b[0mdtypes\u001b[0m\u001b[0;34m.\u001b[0m\u001b[0mint64\u001b[0m\u001b[0;34m)\u001b[0m\u001b[0;34m\u001b[0m\u001b[0;34m\u001b[0m\u001b[0m\n\u001b[1;32m    159\u001b[0m     \u001b[0mlabels\u001b[0m \u001b[0;34m=\u001b[0m \u001b[0mmath_ops\u001b[0m\u001b[0;34m.\u001b[0m\u001b[0mcast\u001b[0m\u001b[0;34m(\u001b[0m\u001b[0mlabels\u001b[0m\u001b[0;34m,\u001b[0m \u001b[0mdtypes\u001b[0m\u001b[0;34m.\u001b[0m\u001b[0mint64\u001b[0m\u001b[0;34m)\u001b[0m\u001b[0;34m\u001b[0m\u001b[0;34m\u001b[0m\u001b[0m\n",
            "\u001b[0;32m/usr/local/lib/python3.7/dist-packages/tensorflow/python/profiler/trace.py\u001b[0m in \u001b[0;36mwrapped\u001b[0;34m(*args, **kwargs)\u001b[0m\n\u001b[1;32m    161\u001b[0m         \u001b[0;32mwith\u001b[0m \u001b[0mTrace\u001b[0m\u001b[0;34m(\u001b[0m\u001b[0mtrace_name\u001b[0m\u001b[0;34m,\u001b[0m \u001b[0;34m**\u001b[0m\u001b[0mtrace_kwargs\u001b[0m\u001b[0;34m)\u001b[0m\u001b[0;34m:\u001b[0m\u001b[0;34m\u001b[0m\u001b[0;34m\u001b[0m\u001b[0m\n\u001b[1;32m    162\u001b[0m           \u001b[0;32mreturn\u001b[0m \u001b[0mfunc\u001b[0m\u001b[0;34m(\u001b[0m\u001b[0;34m*\u001b[0m\u001b[0margs\u001b[0m\u001b[0;34m,\u001b[0m \u001b[0;34m**\u001b[0m\u001b[0mkwargs\u001b[0m\u001b[0;34m)\u001b[0m\u001b[0;34m\u001b[0m\u001b[0;34m\u001b[0m\u001b[0m\n\u001b[0;32m--> 163\u001b[0;31m       \u001b[0;32mreturn\u001b[0m \u001b[0mfunc\u001b[0m\u001b[0;34m(\u001b[0m\u001b[0;34m*\u001b[0m\u001b[0margs\u001b[0m\u001b[0;34m,\u001b[0m \u001b[0;34m**\u001b[0m\u001b[0mkwargs\u001b[0m\u001b[0;34m)\u001b[0m\u001b[0;34m\u001b[0m\u001b[0;34m\u001b[0m\u001b[0m\n\u001b[0m\u001b[1;32m    164\u001b[0m \u001b[0;34m\u001b[0m\u001b[0m\n\u001b[1;32m    165\u001b[0m     \u001b[0;32mreturn\u001b[0m \u001b[0mwrapped\u001b[0m\u001b[0;34m\u001b[0m\u001b[0;34m\u001b[0m\u001b[0m\n",
            "\u001b[0;32m/usr/local/lib/python3.7/dist-packages/tensorflow/python/framework/ops.py\u001b[0m in \u001b[0;36mconvert_to_tensor\u001b[0;34m(value, dtype, name, as_ref, preferred_dtype, dtype_hint, ctx, accepted_result_types)\u001b[0m\n\u001b[1;32m   1538\u001b[0m \u001b[0;34m\u001b[0m\u001b[0m\n\u001b[1;32m   1539\u001b[0m     \u001b[0;32mif\u001b[0m \u001b[0mret\u001b[0m \u001b[0;32mis\u001b[0m \u001b[0;32mNone\u001b[0m\u001b[0;34m:\u001b[0m\u001b[0;34m\u001b[0m\u001b[0;34m\u001b[0m\u001b[0m\n\u001b[0;32m-> 1540\u001b[0;31m       \u001b[0mret\u001b[0m \u001b[0;34m=\u001b[0m \u001b[0mconversion_func\u001b[0m\u001b[0;34m(\u001b[0m\u001b[0mvalue\u001b[0m\u001b[0;34m,\u001b[0m \u001b[0mdtype\u001b[0m\u001b[0;34m=\u001b[0m\u001b[0mdtype\u001b[0m\u001b[0;34m,\u001b[0m \u001b[0mname\u001b[0m\u001b[0;34m=\u001b[0m\u001b[0mname\u001b[0m\u001b[0;34m,\u001b[0m \u001b[0mas_ref\u001b[0m\u001b[0;34m=\u001b[0m\u001b[0mas_ref\u001b[0m\u001b[0;34m)\u001b[0m\u001b[0;34m\u001b[0m\u001b[0;34m\u001b[0m\u001b[0m\n\u001b[0m\u001b[1;32m   1541\u001b[0m \u001b[0;34m\u001b[0m\u001b[0m\n\u001b[1;32m   1542\u001b[0m     \u001b[0;32mif\u001b[0m \u001b[0mret\u001b[0m \u001b[0;32mis\u001b[0m \u001b[0mNotImplemented\u001b[0m\u001b[0;34m:\u001b[0m\u001b[0;34m\u001b[0m\u001b[0;34m\u001b[0m\u001b[0m\n",
            "\u001b[0;32m/usr/local/lib/python3.7/dist-packages/tensorflow/python/framework/constant_op.py\u001b[0m in \u001b[0;36m_constant_tensor_conversion_function\u001b[0;34m(v, dtype, name, as_ref)\u001b[0m\n\u001b[1;32m    337\u001b[0m                                          as_ref=False):\n\u001b[1;32m    338\u001b[0m   \u001b[0m_\u001b[0m \u001b[0;34m=\u001b[0m \u001b[0mas_ref\u001b[0m\u001b[0;34m\u001b[0m\u001b[0;34m\u001b[0m\u001b[0m\n\u001b[0;32m--> 339\u001b[0;31m   \u001b[0;32mreturn\u001b[0m \u001b[0mconstant\u001b[0m\u001b[0;34m(\u001b[0m\u001b[0mv\u001b[0m\u001b[0;34m,\u001b[0m \u001b[0mdtype\u001b[0m\u001b[0;34m=\u001b[0m\u001b[0mdtype\u001b[0m\u001b[0;34m,\u001b[0m \u001b[0mname\u001b[0m\u001b[0;34m=\u001b[0m\u001b[0mname\u001b[0m\u001b[0;34m)\u001b[0m\u001b[0;34m\u001b[0m\u001b[0;34m\u001b[0m\u001b[0m\n\u001b[0m\u001b[1;32m    340\u001b[0m \u001b[0;34m\u001b[0m\u001b[0m\n\u001b[1;32m    341\u001b[0m \u001b[0;34m\u001b[0m\u001b[0m\n",
            "\u001b[0;32m/usr/local/lib/python3.7/dist-packages/tensorflow/python/framework/constant_op.py\u001b[0m in \u001b[0;36mconstant\u001b[0;34m(value, dtype, shape, name)\u001b[0m\n\u001b[1;32m    263\u001b[0m   \"\"\"\n\u001b[1;32m    264\u001b[0m   return _constant_impl(value, dtype, shape, name, verify_shape=False,\n\u001b[0;32m--> 265\u001b[0;31m                         allow_broadcast=True)\n\u001b[0m\u001b[1;32m    266\u001b[0m \u001b[0;34m\u001b[0m\u001b[0m\n\u001b[1;32m    267\u001b[0m \u001b[0;34m\u001b[0m\u001b[0m\n",
            "\u001b[0;32m/usr/local/lib/python3.7/dist-packages/tensorflow/python/framework/constant_op.py\u001b[0m in \u001b[0;36m_constant_impl\u001b[0;34m(value, dtype, shape, name, verify_shape, allow_broadcast)\u001b[0m\n\u001b[1;32m    274\u001b[0m       \u001b[0;32mwith\u001b[0m \u001b[0mtrace\u001b[0m\u001b[0;34m.\u001b[0m\u001b[0mTrace\u001b[0m\u001b[0;34m(\u001b[0m\u001b[0;34m\"tf.constant\"\u001b[0m\u001b[0;34m)\u001b[0m\u001b[0;34m:\u001b[0m\u001b[0;34m\u001b[0m\u001b[0;34m\u001b[0m\u001b[0m\n\u001b[1;32m    275\u001b[0m         \u001b[0;32mreturn\u001b[0m \u001b[0m_constant_eager_impl\u001b[0m\u001b[0;34m(\u001b[0m\u001b[0mctx\u001b[0m\u001b[0;34m,\u001b[0m \u001b[0mvalue\u001b[0m\u001b[0;34m,\u001b[0m \u001b[0mdtype\u001b[0m\u001b[0;34m,\u001b[0m \u001b[0mshape\u001b[0m\u001b[0;34m,\u001b[0m \u001b[0mverify_shape\u001b[0m\u001b[0;34m)\u001b[0m\u001b[0;34m\u001b[0m\u001b[0;34m\u001b[0m\u001b[0m\n\u001b[0;32m--> 276\u001b[0;31m     \u001b[0;32mreturn\u001b[0m \u001b[0m_constant_eager_impl\u001b[0m\u001b[0;34m(\u001b[0m\u001b[0mctx\u001b[0m\u001b[0;34m,\u001b[0m \u001b[0mvalue\u001b[0m\u001b[0;34m,\u001b[0m \u001b[0mdtype\u001b[0m\u001b[0;34m,\u001b[0m \u001b[0mshape\u001b[0m\u001b[0;34m,\u001b[0m \u001b[0mverify_shape\u001b[0m\u001b[0;34m)\u001b[0m\u001b[0;34m\u001b[0m\u001b[0;34m\u001b[0m\u001b[0m\n\u001b[0m\u001b[1;32m    277\u001b[0m \u001b[0;34m\u001b[0m\u001b[0m\n\u001b[1;32m    278\u001b[0m   \u001b[0mg\u001b[0m \u001b[0;34m=\u001b[0m \u001b[0mops\u001b[0m\u001b[0;34m.\u001b[0m\u001b[0mget_default_graph\u001b[0m\u001b[0;34m(\u001b[0m\u001b[0;34m)\u001b[0m\u001b[0;34m\u001b[0m\u001b[0;34m\u001b[0m\u001b[0m\n",
            "\u001b[0;32m/usr/local/lib/python3.7/dist-packages/tensorflow/python/framework/constant_op.py\u001b[0m in \u001b[0;36m_constant_eager_impl\u001b[0;34m(ctx, value, dtype, shape, verify_shape)\u001b[0m\n\u001b[1;32m    299\u001b[0m \u001b[0;32mdef\u001b[0m \u001b[0m_constant_eager_impl\u001b[0m\u001b[0;34m(\u001b[0m\u001b[0mctx\u001b[0m\u001b[0;34m,\u001b[0m \u001b[0mvalue\u001b[0m\u001b[0;34m,\u001b[0m \u001b[0mdtype\u001b[0m\u001b[0;34m,\u001b[0m \u001b[0mshape\u001b[0m\u001b[0;34m,\u001b[0m \u001b[0mverify_shape\u001b[0m\u001b[0;34m)\u001b[0m\u001b[0;34m:\u001b[0m\u001b[0;34m\u001b[0m\u001b[0;34m\u001b[0m\u001b[0m\n\u001b[1;32m    300\u001b[0m   \u001b[0;34m\"\"\"Implementation of eager constant.\"\"\"\u001b[0m\u001b[0;34m\u001b[0m\u001b[0;34m\u001b[0m\u001b[0m\n\u001b[0;32m--> 301\u001b[0;31m   \u001b[0mt\u001b[0m \u001b[0;34m=\u001b[0m \u001b[0mconvert_to_eager_tensor\u001b[0m\u001b[0;34m(\u001b[0m\u001b[0mvalue\u001b[0m\u001b[0;34m,\u001b[0m \u001b[0mctx\u001b[0m\u001b[0;34m,\u001b[0m \u001b[0mdtype\u001b[0m\u001b[0;34m)\u001b[0m\u001b[0;34m\u001b[0m\u001b[0;34m\u001b[0m\u001b[0m\n\u001b[0m\u001b[1;32m    302\u001b[0m   \u001b[0;32mif\u001b[0m \u001b[0mshape\u001b[0m \u001b[0;32mis\u001b[0m \u001b[0;32mNone\u001b[0m\u001b[0;34m:\u001b[0m\u001b[0;34m\u001b[0m\u001b[0;34m\u001b[0m\u001b[0m\n\u001b[1;32m    303\u001b[0m     \u001b[0;32mreturn\u001b[0m \u001b[0mt\u001b[0m\u001b[0;34m\u001b[0m\u001b[0;34m\u001b[0m\u001b[0m\n",
            "\u001b[0;32m/usr/local/lib/python3.7/dist-packages/tensorflow/python/framework/constant_op.py\u001b[0m in \u001b[0;36mconvert_to_eager_tensor\u001b[0;34m(value, ctx, dtype)\u001b[0m\n\u001b[1;32m     96\u001b[0m       \u001b[0mdtype\u001b[0m \u001b[0;34m=\u001b[0m \u001b[0mdtypes\u001b[0m\u001b[0;34m.\u001b[0m\u001b[0mas_dtype\u001b[0m\u001b[0;34m(\u001b[0m\u001b[0mdtype\u001b[0m\u001b[0;34m)\u001b[0m\u001b[0;34m.\u001b[0m\u001b[0mas_datatype_enum\u001b[0m\u001b[0;34m\u001b[0m\u001b[0;34m\u001b[0m\u001b[0m\n\u001b[1;32m     97\u001b[0m   \u001b[0mctx\u001b[0m\u001b[0;34m.\u001b[0m\u001b[0mensure_initialized\u001b[0m\u001b[0;34m(\u001b[0m\u001b[0;34m)\u001b[0m\u001b[0;34m\u001b[0m\u001b[0;34m\u001b[0m\u001b[0m\n\u001b[0;32m---> 98\u001b[0;31m   \u001b[0;32mreturn\u001b[0m \u001b[0mops\u001b[0m\u001b[0;34m.\u001b[0m\u001b[0mEagerTensor\u001b[0m\u001b[0;34m(\u001b[0m\u001b[0mvalue\u001b[0m\u001b[0;34m,\u001b[0m \u001b[0mctx\u001b[0m\u001b[0;34m.\u001b[0m\u001b[0mdevice_name\u001b[0m\u001b[0;34m,\u001b[0m \u001b[0mdtype\u001b[0m\u001b[0;34m)\u001b[0m\u001b[0;34m\u001b[0m\u001b[0;34m\u001b[0m\u001b[0m\n\u001b[0m\u001b[1;32m     99\u001b[0m \u001b[0;34m\u001b[0m\u001b[0m\n\u001b[1;32m    100\u001b[0m \u001b[0;34m\u001b[0m\u001b[0m\n",
            "\u001b[0;31mValueError\u001b[0m: TypeError: sparse matrix length is ambiguous; use getnnz() or shape[0]\nTraceback (most recent call last):\n\n  File \"/usr/local/lib/python3.7/dist-packages/scipy/sparse/base.py\", line 295, in __len__\n    raise TypeError(\"sparse matrix length is ambiguous; use getnnz()\"\n\nTypeError: sparse matrix length is ambiguous; use getnnz() or shape[0]\n\n"
          ]
        }
      ]
    },
    {
      "cell_type": "code",
      "metadata": {
        "id": "Ot829cnfVRCm"
      },
      "source": [
        ""
      ],
      "execution_count": null,
      "outputs": []
    },
    {
      "cell_type": "code",
      "metadata": {
        "id": "99NloevHxfAb"
      },
      "source": [
        "# # adding globel average pooling to the model\n",
        "# codding lstm layers and cnn\n",
        "model_bi_dir = tf.keras.models.Sequential([\n",
        "  tf.keras.layers.Lambda(lambda x: x,\n",
        "                      input_shape=[128, 3]),\n",
        "  tf.keras.layers.Bidirectional(tf.keras.layers.LSTM(32, return_sequences=True)),\n",
        "  tf.keras.layers.Bidirectional(tf.keras.layers.LSTM(32, return_sequences=True)),\n",
        "  tf.keras.layers.SpatialDropout1D(0.4),\n",
        "  tf.keras.layers.Lambda(lambda x: tf.expand_dims(x, axis=-1)),\n",
        "  tf.keras.layers.Conv2D(64,5,strides=(2,2)),\n",
        "  tf.keras.layers.MaxPooling2D((2, 2), strides = (2,2)),\n",
        "  \n",
        "  tf.keras.layers.Conv2D(128,3,strides=(1,1)),  \n",
        "  tf.keras.layers.GlobalAveragePooling2D(),\n",
        "  # tf.keras.layers.Lambda(lambda x: tf.expand_dims(x, axis=-1)),\n",
        "  # parameters ?\n",
        "  tf.keras.layers.BatchNormalization(),\n",
        "  tf.keras.layers.Dense(6, activation='softmax')\n",
        "  \n",
        "])"
      ],
      "execution_count": 35,
      "outputs": []
    },
    {
      "cell_type": "code",
      "metadata": {
        "colab": {
          "base_uri": "https://localhost:8080/"
        },
        "id": "Jw8EoHyiVn_F",
        "outputId": "197051db-c34a-4446-f548-3941b2732b9d"
      },
      "source": [
        "model_bi_dir.summary()"
      ],
      "execution_count": 36,
      "outputs": [
        {
          "output_type": "stream",
          "text": [
            "Model: \"sequential_1\"\n",
            "_________________________________________________________________\n",
            "Layer (type)                 Output Shape              Param #   \n",
            "=================================================================\n",
            "lambda_2 (Lambda)            (None, 128, 3)            0         \n",
            "_________________________________________________________________\n",
            "bidirectional (Bidirectional (None, 128, 64)           9216      \n",
            "_________________________________________________________________\n",
            "bidirectional_1 (Bidirection (None, 128, 64)           24832     \n",
            "_________________________________________________________________\n",
            "spatial_dropout1d (SpatialDr (None, 128, 64)           0         \n",
            "_________________________________________________________________\n",
            "lambda_3 (Lambda)            (None, 128, 64, 1)        0         \n",
            "_________________________________________________________________\n",
            "conv2d_2 (Conv2D)            (None, 62, 30, 64)        1664      \n",
            "_________________________________________________________________\n",
            "max_pooling2d_1 (MaxPooling2 (None, 31, 15, 64)        0         \n",
            "_________________________________________________________________\n",
            "conv2d_3 (Conv2D)            (None, 29, 13, 128)       73856     \n",
            "_________________________________________________________________\n",
            "global_average_pooling2d_1 ( (None, 128)               0         \n",
            "_________________________________________________________________\n",
            "batch_normalization_1 (Batch (None, 128)               512       \n",
            "_________________________________________________________________\n",
            "dense_1 (Dense)              (None, 6)                 774       \n",
            "=================================================================\n",
            "Total params: 110,854\n",
            "Trainable params: 110,598\n",
            "Non-trainable params: 256\n",
            "_________________________________________________________________\n"
          ],
          "name": "stdout"
        }
      ]
    },
    {
      "cell_type": "code",
      "metadata": {
        "id": "dbEpOTIGVQ_y"
      },
      "source": [
        "from tensorflow.keras.callbacks import ModelCheckpoint\n",
        "save_bi = ModelCheckpoint('best_trained_model_bi.h5', save_best_only = True)"
      ],
      "execution_count": 38,
      "outputs": []
    },
    {
      "cell_type": "code",
      "metadata": {
        "colab": {
          "base_uri": "https://localhost:8080/"
        },
        "id": "ajObWSLDVQ7r",
        "outputId": "47a1556b-e1f5-47ea-cbc9-612dc4973558"
      },
      "source": [
        "optimizer = tf.keras.optimizers.Adam(0.001)\n",
        "model_bi_dir.compile(loss=\"categorical_crossentropy\", optimizer=optimizer, metrics = ['accuracy'])\n",
        "\n",
        "history = model_bi_dir.fit(train_windowed, validation_data=(test_f, test_l), epochs=200,callbacks=[save_bi], verbose=1, batch_size=192)"
      ],
      "execution_count": 39,
      "outputs": [
        {
          "output_type": "stream",
          "text": [
            "Epoch 1/200\n",
            "74/74 [==============================] - 12s 86ms/step - loss: 1.4280 - accuracy: 0.5785 - val_loss: 1.5785 - val_accuracy: 0.3711\n",
            "Epoch 2/200\n",
            "74/74 [==============================] - 5s 70ms/step - loss: 1.0458 - accuracy: 0.6770 - val_loss: 1.5232 - val_accuracy: 0.3711\n",
            "Epoch 3/200\n",
            "74/74 [==============================] - 5s 69ms/step - loss: 0.9462 - accuracy: 0.7061 - val_loss: 1.4693 - val_accuracy: 0.3716\n",
            "Epoch 4/200\n",
            "74/74 [==============================] - 5s 72ms/step - loss: 0.9175 - accuracy: 0.7190 - val_loss: 1.4272 - val_accuracy: 0.3773\n",
            "Epoch 5/200\n",
            "74/74 [==============================] - 5s 70ms/step - loss: 0.8649 - accuracy: 0.7315 - val_loss: 1.3600 - val_accuracy: 0.4660\n",
            "Epoch 6/200\n",
            "74/74 [==============================] - 5s 70ms/step - loss: 0.8230 - accuracy: 0.7421 - val_loss: 1.2143 - val_accuracy: 0.6053\n",
            "Epoch 7/200\n",
            "74/74 [==============================] - 5s 68ms/step - loss: 0.8150 - accuracy: 0.7494 - val_loss: 1.1155 - val_accuracy: 0.5786\n",
            "Epoch 8/200\n",
            "74/74 [==============================] - 5s 72ms/step - loss: 0.7889 - accuracy: 0.7459 - val_loss: 0.9873 - val_accuracy: 0.6616\n",
            "Epoch 9/200\n",
            "74/74 [==============================] - 5s 71ms/step - loss: 0.7810 - accuracy: 0.7451 - val_loss: 1.2161 - val_accuracy: 0.5752\n",
            "Epoch 10/200\n",
            "74/74 [==============================] - 5s 70ms/step - loss: 0.7552 - accuracy: 0.7524 - val_loss: 1.3403 - val_accuracy: 0.5556\n",
            "Epoch 11/200\n",
            "74/74 [==============================] - 5s 70ms/step - loss: 0.7401 - accuracy: 0.7611 - val_loss: 1.0247 - val_accuracy: 0.6545\n",
            "Epoch 12/200\n",
            "74/74 [==============================] - 5s 68ms/step - loss: 0.7401 - accuracy: 0.7612 - val_loss: 0.9765 - val_accuracy: 0.6676\n",
            "Epoch 13/200\n",
            "74/74 [==============================] - 5s 68ms/step - loss: 0.7379 - accuracy: 0.7518 - val_loss: 1.2109 - val_accuracy: 0.4510\n",
            "Epoch 14/200\n",
            "74/74 [==============================] - 5s 69ms/step - loss: 0.7005 - accuracy: 0.7760 - val_loss: 2.4196 - val_accuracy: 0.3762\n",
            "Epoch 15/200\n",
            "74/74 [==============================] - 5s 70ms/step - loss: 0.6742 - accuracy: 0.7776 - val_loss: 2.2665 - val_accuracy: 0.3927\n",
            "Epoch 16/200\n",
            "74/74 [==============================] - 5s 69ms/step - loss: 0.6725 - accuracy: 0.7836 - val_loss: 1.6314 - val_accuracy: 0.5053\n",
            "Epoch 17/200\n",
            "74/74 [==============================] - 5s 67ms/step - loss: 0.6724 - accuracy: 0.7828 - val_loss: 1.2291 - val_accuracy: 0.5744\n",
            "Epoch 18/200\n",
            "74/74 [==============================] - 5s 71ms/step - loss: 0.6171 - accuracy: 0.7974 - val_loss: 1.3564 - val_accuracy: 0.5280\n",
            "Epoch 19/200\n",
            "74/74 [==============================] - 5s 67ms/step - loss: 0.5739 - accuracy: 0.8175 - val_loss: 1.5543 - val_accuracy: 0.5761\n",
            "Epoch 20/200\n",
            "74/74 [==============================] - 5s 69ms/step - loss: 0.5774 - accuracy: 0.8134 - val_loss: 1.3739 - val_accuracy: 0.5857\n",
            "Epoch 21/200\n",
            "74/74 [==============================] - 5s 71ms/step - loss: 0.5518 - accuracy: 0.8207 - val_loss: 3.6030 - val_accuracy: 0.1524\n",
            "Epoch 22/200\n",
            "74/74 [==============================] - 5s 70ms/step - loss: 0.5439 - accuracy: 0.8177 - val_loss: 2.8602 - val_accuracy: 0.3133\n",
            "Epoch 23/200\n",
            "74/74 [==============================] - 5s 68ms/step - loss: 0.4980 - accuracy: 0.8399 - val_loss: 2.3352 - val_accuracy: 0.2784\n",
            "Epoch 24/200\n",
            "74/74 [==============================] - 5s 70ms/step - loss: 0.4910 - accuracy: 0.8393 - val_loss: 1.5763 - val_accuracy: 0.4999\n",
            "Epoch 25/200\n",
            "74/74 [==============================] - 5s 67ms/step - loss: 0.4793 - accuracy: 0.8414 - val_loss: 1.2830 - val_accuracy: 0.6241\n",
            "Epoch 26/200\n",
            "74/74 [==============================] - 5s 69ms/step - loss: 0.4629 - accuracy: 0.8502 - val_loss: 1.7545 - val_accuracy: 0.4970\n",
            "Epoch 27/200\n",
            "74/74 [==============================] - 5s 69ms/step - loss: 0.4625 - accuracy: 0.8468 - val_loss: 2.0950 - val_accuracy: 0.5212\n",
            "Epoch 28/200\n",
            "74/74 [==============================] - 5s 70ms/step - loss: 0.4645 - accuracy: 0.8512 - val_loss: 1.3668 - val_accuracy: 0.5900\n",
            "Epoch 29/200\n",
            "74/74 [==============================] - 5s 71ms/step - loss: 0.4537 - accuracy: 0.8529 - val_loss: 1.1949 - val_accuracy: 0.6363\n",
            "Epoch 30/200\n",
            "74/74 [==============================] - 5s 69ms/step - loss: 0.4326 - accuracy: 0.8621 - val_loss: 0.6744 - val_accuracy: 0.7663\n",
            "Epoch 31/200\n",
            "74/74 [==============================] - 5s 68ms/step - loss: 0.4334 - accuracy: 0.8564 - val_loss: 1.0180 - val_accuracy: 0.6710\n",
            "Epoch 32/200\n",
            "74/74 [==============================] - 5s 69ms/step - loss: 0.4388 - accuracy: 0.8610 - val_loss: 0.6908 - val_accuracy: 0.7893\n",
            "Epoch 33/200\n",
            "74/74 [==============================] - 5s 68ms/step - loss: 0.4037 - accuracy: 0.8691 - val_loss: 0.9147 - val_accuracy: 0.7660\n",
            "Epoch 34/200\n",
            "74/74 [==============================] - 5s 69ms/step - loss: 0.4237 - accuracy: 0.8644 - val_loss: 0.7422 - val_accuracy: 0.7125\n",
            "Epoch 35/200\n",
            "74/74 [==============================] - 5s 69ms/step - loss: 0.3822 - accuracy: 0.8785 - val_loss: 0.6370 - val_accuracy: 0.7876\n",
            "Epoch 36/200\n",
            "74/74 [==============================] - 5s 69ms/step - loss: 0.3732 - accuracy: 0.8792 - val_loss: 0.7449 - val_accuracy: 0.7577\n",
            "Epoch 37/200\n",
            "74/74 [==============================] - 5s 68ms/step - loss: 0.3790 - accuracy: 0.8814 - val_loss: 0.5491 - val_accuracy: 0.8072\n",
            "Epoch 38/200\n",
            "74/74 [==============================] - 5s 70ms/step - loss: 0.3528 - accuracy: 0.8870 - val_loss: 0.4633 - val_accuracy: 0.8402\n",
            "Epoch 39/200\n",
            "74/74 [==============================] - 5s 68ms/step - loss: 0.3522 - accuracy: 0.8876 - val_loss: 0.6071 - val_accuracy: 0.7728\n",
            "Epoch 40/200\n",
            "74/74 [==============================] - 5s 68ms/step - loss: 0.3391 - accuracy: 0.8924 - val_loss: 1.0721 - val_accuracy: 0.7341\n",
            "Epoch 41/200\n",
            "74/74 [==============================] - 5s 70ms/step - loss: 0.3273 - accuracy: 0.9000 - val_loss: 0.5293 - val_accuracy: 0.8291\n",
            "Epoch 42/200\n",
            "74/74 [==============================] - 5s 67ms/step - loss: 0.3485 - accuracy: 0.8921 - val_loss: 0.7204 - val_accuracy: 0.7546\n",
            "Epoch 43/200\n",
            "74/74 [==============================] - 5s 68ms/step - loss: 0.3317 - accuracy: 0.8970 - val_loss: 1.0632 - val_accuracy: 0.7250\n",
            "Epoch 44/200\n",
            "74/74 [==============================] - 5s 67ms/step - loss: 0.3321 - accuracy: 0.8983 - val_loss: 0.5049 - val_accuracy: 0.8243\n",
            "Epoch 45/200\n",
            "74/74 [==============================] - 5s 68ms/step - loss: 0.3127 - accuracy: 0.9046 - val_loss: 0.4478 - val_accuracy: 0.8442\n",
            "Epoch 46/200\n",
            "74/74 [==============================] - 5s 69ms/step - loss: 0.3281 - accuracy: 0.8987 - val_loss: 0.4300 - val_accuracy: 0.8541\n",
            "Epoch 47/200\n",
            "74/74 [==============================] - 5s 69ms/step - loss: 0.3159 - accuracy: 0.9023 - val_loss: 0.4862 - val_accuracy: 0.8146\n",
            "Epoch 48/200\n",
            "74/74 [==============================] - 5s 72ms/step - loss: 0.3016 - accuracy: 0.9090 - val_loss: 0.4274 - val_accuracy: 0.8610\n",
            "Epoch 49/200\n",
            "74/74 [==============================] - 5s 71ms/step - loss: 0.3024 - accuracy: 0.9047 - val_loss: 0.4836 - val_accuracy: 0.8430\n",
            "Epoch 50/200\n",
            "74/74 [==============================] - 5s 71ms/step - loss: 0.3126 - accuracy: 0.9060 - val_loss: 0.5616 - val_accuracy: 0.8277\n",
            "Epoch 51/200\n",
            "74/74 [==============================] - 5s 68ms/step - loss: 0.2894 - accuracy: 0.9067 - val_loss: 0.7809 - val_accuracy: 0.7845\n",
            "Epoch 52/200\n",
            "74/74 [==============================] - 5s 68ms/step - loss: 0.2590 - accuracy: 0.9181 - val_loss: 0.5742 - val_accuracy: 0.8246\n",
            "Epoch 53/200\n",
            "74/74 [==============================] - 5s 68ms/step - loss: 0.2804 - accuracy: 0.9130 - val_loss: 0.5700 - val_accuracy: 0.8172\n",
            "Epoch 54/200\n",
            "74/74 [==============================] - 5s 70ms/step - loss: 0.2792 - accuracy: 0.9109 - val_loss: 0.6651 - val_accuracy: 0.8047\n",
            "Epoch 55/200\n",
            "74/74 [==============================] - 5s 70ms/step - loss: 0.2564 - accuracy: 0.9212 - val_loss: 0.4199 - val_accuracy: 0.8735\n",
            "Epoch 56/200\n",
            "74/74 [==============================] - 5s 68ms/step - loss: 0.2475 - accuracy: 0.9256 - val_loss: 0.4395 - val_accuracy: 0.8530\n",
            "Epoch 57/200\n",
            "74/74 [==============================] - 5s 67ms/step - loss: 0.2539 - accuracy: 0.9206 - val_loss: 0.9364 - val_accuracy: 0.7714\n",
            "Epoch 58/200\n",
            "74/74 [==============================] - 5s 67ms/step - loss: 0.2434 - accuracy: 0.9248 - val_loss: 0.6035 - val_accuracy: 0.8229\n",
            "Epoch 59/200\n",
            "74/74 [==============================] - 5s 69ms/step - loss: 0.2409 - accuracy: 0.9283 - val_loss: 0.4997 - val_accuracy: 0.8402\n",
            "Epoch 60/200\n",
            "74/74 [==============================] - 5s 68ms/step - loss: 0.2434 - accuracy: 0.9270 - val_loss: 0.5181 - val_accuracy: 0.8402\n",
            "Epoch 61/200\n",
            "74/74 [==============================] - 5s 70ms/step - loss: 0.2302 - accuracy: 0.9321 - val_loss: 0.6150 - val_accuracy: 0.8018\n",
            "Epoch 62/200\n",
            "74/74 [==============================] - 5s 70ms/step - loss: 0.2401 - accuracy: 0.9312 - val_loss: 0.4530 - val_accuracy: 0.8587\n",
            "Epoch 63/200\n",
            "74/74 [==============================] - 5s 69ms/step - loss: 0.2230 - accuracy: 0.9354 - val_loss: 0.4931 - val_accuracy: 0.8357\n",
            "Epoch 64/200\n",
            "74/74 [==============================] - 5s 70ms/step - loss: 0.2391 - accuracy: 0.9312 - val_loss: 0.5933 - val_accuracy: 0.8007\n",
            "Epoch 65/200\n",
            "74/74 [==============================] - 5s 70ms/step - loss: 0.2373 - accuracy: 0.9303 - val_loss: 0.5418 - val_accuracy: 0.8462\n",
            "Epoch 66/200\n",
            "74/74 [==============================] - 5s 70ms/step - loss: 0.2239 - accuracy: 0.9350 - val_loss: 0.5541 - val_accuracy: 0.8357\n",
            "Epoch 67/200\n",
            "74/74 [==============================] - 5s 69ms/step - loss: 0.2203 - accuracy: 0.9353 - val_loss: 0.5618 - val_accuracy: 0.8314\n",
            "Epoch 68/200\n",
            "74/74 [==============================] - 5s 70ms/step - loss: 0.2055 - accuracy: 0.9394 - val_loss: 0.3537 - val_accuracy: 0.8922\n",
            "Epoch 69/200\n",
            "74/74 [==============================] - 5s 71ms/step - loss: 0.2032 - accuracy: 0.9400 - val_loss: 0.7194 - val_accuracy: 0.7734\n",
            "Epoch 70/200\n",
            "74/74 [==============================] - 5s 70ms/step - loss: 0.2198 - accuracy: 0.9370 - val_loss: 0.4857 - val_accuracy: 0.8601\n",
            "Epoch 71/200\n",
            "74/74 [==============================] - 5s 70ms/step - loss: 0.2217 - accuracy: 0.9325 - val_loss: 0.5496 - val_accuracy: 0.8200\n",
            "Epoch 72/200\n",
            "74/74 [==============================] - 5s 70ms/step - loss: 0.2066 - accuracy: 0.9407 - val_loss: 0.6434 - val_accuracy: 0.8394\n",
            "Epoch 73/200\n",
            "74/74 [==============================] - 5s 68ms/step - loss: 0.2149 - accuracy: 0.9383 - val_loss: 0.7205 - val_accuracy: 0.7796\n",
            "Epoch 74/200\n",
            "74/74 [==============================] - 5s 68ms/step - loss: 0.2093 - accuracy: 0.9380 - val_loss: 0.6494 - val_accuracy: 0.7993\n",
            "Epoch 75/200\n",
            "74/74 [==============================] - 5s 68ms/step - loss: 0.1961 - accuracy: 0.9437 - val_loss: 0.6644 - val_accuracy: 0.7802\n",
            "Epoch 76/200\n",
            "74/74 [==============================] - 5s 68ms/step - loss: 0.1881 - accuracy: 0.9436 - val_loss: 0.5228 - val_accuracy: 0.8297\n",
            "Epoch 77/200\n",
            "74/74 [==============================] - 5s 70ms/step - loss: 0.1978 - accuracy: 0.9416 - val_loss: 0.6048 - val_accuracy: 0.8112\n",
            "Epoch 78/200\n",
            "74/74 [==============================] - 5s 68ms/step - loss: 0.1812 - accuracy: 0.9462 - val_loss: 0.4567 - val_accuracy: 0.8735\n",
            "Epoch 79/200\n",
            "74/74 [==============================] - 5s 70ms/step - loss: 0.1815 - accuracy: 0.9484 - val_loss: 0.5594 - val_accuracy: 0.8266\n",
            "Epoch 80/200\n",
            "74/74 [==============================] - 5s 71ms/step - loss: 0.1726 - accuracy: 0.9501 - val_loss: 0.5926 - val_accuracy: 0.8433\n",
            "Epoch 81/200\n",
            "74/74 [==============================] - 5s 69ms/step - loss: 0.1678 - accuracy: 0.9499 - val_loss: 0.6948 - val_accuracy: 0.8064\n",
            "Epoch 82/200\n",
            "74/74 [==============================] - 5s 71ms/step - loss: 0.1897 - accuracy: 0.9442 - val_loss: 0.7823 - val_accuracy: 0.7927\n",
            "Epoch 83/200\n",
            "74/74 [==============================] - 5s 68ms/step - loss: 0.1709 - accuracy: 0.9540 - val_loss: 0.5241 - val_accuracy: 0.8601\n",
            "Epoch 84/200\n",
            "74/74 [==============================] - 5s 71ms/step - loss: 0.1734 - accuracy: 0.9471 - val_loss: 1.0439 - val_accuracy: 0.7654\n",
            "Epoch 85/200\n",
            "74/74 [==============================] - 5s 70ms/step - loss: 0.1720 - accuracy: 0.9507 - val_loss: 0.5962 - val_accuracy: 0.8351\n",
            "Epoch 86/200\n",
            "74/74 [==============================] - 5s 68ms/step - loss: 0.1639 - accuracy: 0.9539 - val_loss: 0.5772 - val_accuracy: 0.8450\n",
            "Epoch 87/200\n",
            "74/74 [==============================] - 5s 68ms/step - loss: 0.1703 - accuracy: 0.9514 - val_loss: 0.7775 - val_accuracy: 0.8132\n",
            "Epoch 88/200\n",
            "74/74 [==============================] - 5s 69ms/step - loss: 0.1539 - accuracy: 0.9555 - val_loss: 0.5629 - val_accuracy: 0.8485\n",
            "Epoch 89/200\n",
            "74/74 [==============================] - 5s 69ms/step - loss: 0.1694 - accuracy: 0.9517 - val_loss: 0.5269 - val_accuracy: 0.8564\n",
            "Epoch 90/200\n",
            "74/74 [==============================] - 5s 69ms/step - loss: 0.1709 - accuracy: 0.9497 - val_loss: 0.5830 - val_accuracy: 0.8303\n",
            "Epoch 91/200\n",
            "74/74 [==============================] - 5s 69ms/step - loss: 0.1680 - accuracy: 0.9537 - val_loss: 0.5144 - val_accuracy: 0.8624\n",
            "Epoch 92/200\n",
            "74/74 [==============================] - 5s 69ms/step - loss: 0.1585 - accuracy: 0.9554 - val_loss: 0.4398 - val_accuracy: 0.8783\n",
            "Epoch 93/200\n",
            "74/74 [==============================] - 5s 70ms/step - loss: 0.1737 - accuracy: 0.9499 - val_loss: 0.5861 - val_accuracy: 0.8209\n",
            "Epoch 94/200\n",
            "74/74 [==============================] - 5s 69ms/step - loss: 0.1626 - accuracy: 0.9512 - val_loss: 0.6818 - val_accuracy: 0.7907\n",
            "Epoch 95/200\n",
            "74/74 [==============================] - 5s 71ms/step - loss: 0.1567 - accuracy: 0.9565 - val_loss: 0.6923 - val_accuracy: 0.7899\n",
            "Epoch 96/200\n",
            "74/74 [==============================] - 5s 72ms/step - loss: 0.1522 - accuracy: 0.9544 - val_loss: 0.5970 - val_accuracy: 0.8214\n",
            "Epoch 97/200\n",
            "74/74 [==============================] - 5s 68ms/step - loss: 0.1451 - accuracy: 0.9575 - val_loss: 0.6028 - val_accuracy: 0.8172\n",
            "Epoch 98/200\n",
            "74/74 [==============================] - 5s 71ms/step - loss: 0.1349 - accuracy: 0.9594 - val_loss: 0.6671 - val_accuracy: 0.8007\n",
            "Epoch 99/200\n",
            "74/74 [==============================] - 5s 68ms/step - loss: 0.1427 - accuracy: 0.9589 - val_loss: 0.8741 - val_accuracy: 0.7890\n",
            "Epoch 100/200\n",
            "74/74 [==============================] - 5s 68ms/step - loss: 0.1484 - accuracy: 0.9584 - val_loss: 0.5556 - val_accuracy: 0.8351\n",
            "Epoch 101/200\n",
            "74/74 [==============================] - 5s 70ms/step - loss: 0.1285 - accuracy: 0.9629 - val_loss: 0.7216 - val_accuracy: 0.8007\n",
            "Epoch 102/200\n",
            "74/74 [==============================] - 5s 69ms/step - loss: 0.1658 - accuracy: 0.9516 - val_loss: 0.8912 - val_accuracy: 0.7995\n",
            "Epoch 103/200\n",
            "74/74 [==============================] - 5s 69ms/step - loss: 0.1992 - accuracy: 0.9379 - val_loss: 0.7767 - val_accuracy: 0.7976\n",
            "Epoch 104/200\n",
            "74/74 [==============================] - 5s 70ms/step - loss: 0.1429 - accuracy: 0.9576 - val_loss: 0.5670 - val_accuracy: 0.8433\n",
            "Epoch 105/200\n",
            "74/74 [==============================] - 5s 70ms/step - loss: 0.1456 - accuracy: 0.9642 - val_loss: 0.6900 - val_accuracy: 0.8160\n",
            "Epoch 106/200\n",
            "74/74 [==============================] - 5s 70ms/step - loss: 0.1318 - accuracy: 0.9637 - val_loss: 0.5909 - val_accuracy: 0.8430\n",
            "Epoch 107/200\n",
            "74/74 [==============================] - 5s 70ms/step - loss: 0.1308 - accuracy: 0.9638 - val_loss: 0.5923 - val_accuracy: 0.8351\n",
            "Epoch 108/200\n",
            "74/74 [==============================] - 5s 70ms/step - loss: 0.1172 - accuracy: 0.9656 - val_loss: 0.5967 - val_accuracy: 0.8450\n",
            "Epoch 109/200\n",
            "74/74 [==============================] - 5s 71ms/step - loss: 0.1232 - accuracy: 0.9655 - val_loss: 0.6037 - val_accuracy: 0.8578\n",
            "Epoch 110/200\n",
            "74/74 [==============================] - 5s 68ms/step - loss: 0.1172 - accuracy: 0.9682 - val_loss: 0.6351 - val_accuracy: 0.8322\n",
            "Epoch 111/200\n",
            "74/74 [==============================] - 5s 69ms/step - loss: 0.1505 - accuracy: 0.9569 - val_loss: 0.5528 - val_accuracy: 0.8655\n",
            "Epoch 112/200\n",
            "74/74 [==============================] - 5s 69ms/step - loss: 0.1386 - accuracy: 0.9589 - val_loss: 0.5928 - val_accuracy: 0.8408\n",
            "Epoch 113/200\n",
            "74/74 [==============================] - 5s 68ms/step - loss: 0.1158 - accuracy: 0.9682 - val_loss: 0.6355 - val_accuracy: 0.8240\n",
            "Epoch 114/200\n",
            "74/74 [==============================] - 5s 68ms/step - loss: 0.1265 - accuracy: 0.9622 - val_loss: 0.6005 - val_accuracy: 0.8453\n",
            "Epoch 115/200\n",
            "74/74 [==============================] - 5s 68ms/step - loss: 0.1251 - accuracy: 0.9637 - val_loss: 0.6197 - val_accuracy: 0.8479\n",
            "Epoch 116/200\n",
            "74/74 [==============================] - 5s 69ms/step - loss: 0.1400 - accuracy: 0.9572 - val_loss: 0.8482 - val_accuracy: 0.8212\n",
            "Epoch 117/200\n",
            "74/74 [==============================] - 5s 70ms/step - loss: 0.1147 - accuracy: 0.9698 - val_loss: 0.8113 - val_accuracy: 0.8243\n",
            "Epoch 118/200\n",
            "74/74 [==============================] - 5s 70ms/step - loss: 0.1153 - accuracy: 0.9667 - val_loss: 0.8242 - val_accuracy: 0.8300\n",
            "Epoch 119/200\n",
            "74/74 [==============================] - 5s 70ms/step - loss: 0.1181 - accuracy: 0.9674 - val_loss: 0.7445 - val_accuracy: 0.8285\n",
            "Epoch 120/200\n",
            "74/74 [==============================] - 5s 69ms/step - loss: 0.1275 - accuracy: 0.9633 - val_loss: 0.5841 - val_accuracy: 0.8618\n",
            "Epoch 121/200\n",
            "74/74 [==============================] - 5s 69ms/step - loss: 0.1009 - accuracy: 0.9696 - val_loss: 0.7171 - val_accuracy: 0.8274\n",
            "Epoch 122/200\n",
            "74/74 [==============================] - 5s 71ms/step - loss: 0.1071 - accuracy: 0.9677 - val_loss: 0.7894 - val_accuracy: 0.8223\n",
            "Epoch 123/200\n",
            "74/74 [==============================] - 5s 70ms/step - loss: 0.1097 - accuracy: 0.9698 - val_loss: 0.4194 - val_accuracy: 0.8937\n",
            "Epoch 124/200\n",
            "74/74 [==============================] - 5s 69ms/step - loss: 0.1823 - accuracy: 0.9459 - val_loss: 0.5461 - val_accuracy: 0.8581\n",
            "Epoch 125/200\n",
            "74/74 [==============================] - 5s 71ms/step - loss: 0.1501 - accuracy: 0.9559 - val_loss: 0.8173 - val_accuracy: 0.8010\n",
            "Epoch 126/200\n",
            "74/74 [==============================] - 5s 68ms/step - loss: 0.1495 - accuracy: 0.9546 - val_loss: 0.7626 - val_accuracy: 0.8374\n",
            "Epoch 127/200\n",
            "74/74 [==============================] - 5s 69ms/step - loss: 0.1088 - accuracy: 0.9710 - val_loss: 0.7912 - val_accuracy: 0.8303\n",
            "Epoch 128/200\n",
            "74/74 [==============================] - 5s 70ms/step - loss: 0.1131 - accuracy: 0.9683 - val_loss: 0.7195 - val_accuracy: 0.8209\n",
            "Epoch 129/200\n",
            "74/74 [==============================] - 5s 69ms/step - loss: 0.1036 - accuracy: 0.9683 - val_loss: 0.7558 - val_accuracy: 0.8166\n",
            "Epoch 130/200\n",
            "74/74 [==============================] - 5s 71ms/step - loss: 0.1207 - accuracy: 0.9660 - val_loss: 0.6887 - val_accuracy: 0.8405\n",
            "Epoch 131/200\n",
            "74/74 [==============================] - 5s 70ms/step - loss: 0.1085 - accuracy: 0.9672 - val_loss: 1.1523 - val_accuracy: 0.7674\n",
            "Epoch 132/200\n",
            "74/74 [==============================] - 5s 69ms/step - loss: 0.1067 - accuracy: 0.9722 - val_loss: 0.8890 - val_accuracy: 0.8351\n",
            "Epoch 133/200\n",
            "74/74 [==============================] - 5s 69ms/step - loss: 0.1036 - accuracy: 0.9695 - val_loss: 0.9084 - val_accuracy: 0.7922\n",
            "Epoch 134/200\n",
            "74/74 [==============================] - 5s 69ms/step - loss: 0.1111 - accuracy: 0.9674 - val_loss: 0.7219 - val_accuracy: 0.8140\n",
            "Epoch 135/200\n",
            "74/74 [==============================] - 5s 68ms/step - loss: 0.1279 - accuracy: 0.9630 - val_loss: 0.9720 - val_accuracy: 0.8030\n",
            "Epoch 136/200\n",
            "74/74 [==============================] - 5s 69ms/step - loss: 0.1040 - accuracy: 0.9699 - val_loss: 0.9937 - val_accuracy: 0.8189\n",
            "Epoch 137/200\n",
            "74/74 [==============================] - 5s 69ms/step - loss: 0.1121 - accuracy: 0.9656 - val_loss: 0.9682 - val_accuracy: 0.7862\n",
            "Epoch 138/200\n",
            "74/74 [==============================] - 5s 71ms/step - loss: 0.0928 - accuracy: 0.9740 - val_loss: 0.8857 - val_accuracy: 0.7995\n",
            "Epoch 139/200\n",
            "74/74 [==============================] - 5s 69ms/step - loss: 0.0950 - accuracy: 0.9726 - val_loss: 0.7935 - val_accuracy: 0.8251\n",
            "Epoch 140/200\n",
            "74/74 [==============================] - 5s 71ms/step - loss: 0.1121 - accuracy: 0.9690 - val_loss: 0.7772 - val_accuracy: 0.8376\n",
            "Epoch 141/200\n",
            "74/74 [==============================] - 5s 69ms/step - loss: 0.0886 - accuracy: 0.9755 - val_loss: 0.8235 - val_accuracy: 0.7609\n",
            "Epoch 142/200\n",
            "74/74 [==============================] - 5s 70ms/step - loss: 0.0889 - accuracy: 0.9755 - val_loss: 0.7656 - val_accuracy: 0.8234\n",
            "Epoch 143/200\n",
            "74/74 [==============================] - 5s 70ms/step - loss: 0.0951 - accuracy: 0.9741 - val_loss: 0.6519 - val_accuracy: 0.8322\n",
            "Epoch 144/200\n",
            "74/74 [==============================] - 5s 70ms/step - loss: 0.0855 - accuracy: 0.9776 - val_loss: 1.3860 - val_accuracy: 0.6682\n",
            "Epoch 145/200\n",
            "74/74 [==============================] - 5s 70ms/step - loss: 0.0965 - accuracy: 0.9703 - val_loss: 1.0078 - val_accuracy: 0.7219\n",
            "Epoch 146/200\n",
            "74/74 [==============================] - 5s 68ms/step - loss: 0.0775 - accuracy: 0.9798 - val_loss: 0.7566 - val_accuracy: 0.8112\n",
            "Epoch 147/200\n",
            "74/74 [==============================] - 5s 68ms/step - loss: 0.1010 - accuracy: 0.9734 - val_loss: 1.0949 - val_accuracy: 0.6645\n",
            "Epoch 148/200\n",
            "74/74 [==============================] - 5s 70ms/step - loss: 0.1225 - accuracy: 0.9653 - val_loss: 0.7410 - val_accuracy: 0.7953\n",
            "Epoch 149/200\n",
            "74/74 [==============================] - 5s 68ms/step - loss: 0.0918 - accuracy: 0.9734 - val_loss: 0.6765 - val_accuracy: 0.8402\n",
            "Epoch 150/200\n",
            "74/74 [==============================] - 5s 69ms/step - loss: 0.0891 - accuracy: 0.9731 - val_loss: 0.9303 - val_accuracy: 0.7831\n",
            "Epoch 151/200\n",
            "74/74 [==============================] - 5s 72ms/step - loss: 0.0837 - accuracy: 0.9763 - val_loss: 1.3620 - val_accuracy: 0.6980\n",
            "Epoch 152/200\n",
            "74/74 [==============================] - 5s 70ms/step - loss: 0.1995 - accuracy: 0.9394 - val_loss: 0.4598 - val_accuracy: 0.8686\n",
            "Epoch 153/200\n",
            "74/74 [==============================] - 5s 69ms/step - loss: 0.1159 - accuracy: 0.9683 - val_loss: 0.7041 - val_accuracy: 0.8118\n",
            "Epoch 154/200\n",
            "74/74 [==============================] - 5s 69ms/step - loss: 0.0968 - accuracy: 0.9740 - val_loss: 0.8196 - val_accuracy: 0.7910\n",
            "Epoch 155/200\n",
            "74/74 [==============================] - 5s 71ms/step - loss: 0.1043 - accuracy: 0.9711 - val_loss: 0.6814 - val_accuracy: 0.8217\n",
            "Epoch 156/200\n",
            "74/74 [==============================] - 5s 70ms/step - loss: 0.0911 - accuracy: 0.9757 - val_loss: 0.7346 - val_accuracy: 0.8339\n",
            "Epoch 157/200\n",
            "74/74 [==============================] - 5s 70ms/step - loss: 0.0865 - accuracy: 0.9773 - val_loss: 1.0858 - val_accuracy: 0.6784\n",
            "Epoch 158/200\n",
            "74/74 [==============================] - 5s 70ms/step - loss: 0.0778 - accuracy: 0.9797 - val_loss: 0.7146 - val_accuracy: 0.8371\n",
            "Epoch 159/200\n",
            "74/74 [==============================] - 5s 70ms/step - loss: 0.0679 - accuracy: 0.9823 - val_loss: 0.9240 - val_accuracy: 0.7862\n",
            "Epoch 160/200\n",
            "74/74 [==============================] - 5s 69ms/step - loss: 0.0706 - accuracy: 0.9818 - val_loss: 0.8244 - val_accuracy: 0.8314\n",
            "Epoch 161/200\n",
            "74/74 [==============================] - 5s 70ms/step - loss: 0.0684 - accuracy: 0.9822 - val_loss: 0.7907 - val_accuracy: 0.8209\n",
            "Epoch 162/200\n",
            "74/74 [==============================] - 5s 70ms/step - loss: 0.0622 - accuracy: 0.9839 - val_loss: 0.9063 - val_accuracy: 0.7933\n",
            "Epoch 163/200\n",
            "74/74 [==============================] - 5s 70ms/step - loss: 0.0609 - accuracy: 0.9835 - val_loss: 1.1822 - val_accuracy: 0.6565\n",
            "Epoch 164/200\n",
            "74/74 [==============================] - 5s 72ms/step - loss: 0.0643 - accuracy: 0.9819 - val_loss: 0.7893 - val_accuracy: 0.8271\n",
            "Epoch 165/200\n",
            "74/74 [==============================] - 5s 69ms/step - loss: 0.0829 - accuracy: 0.9749 - val_loss: 1.0371 - val_accuracy: 0.8101\n",
            "Epoch 166/200\n",
            "74/74 [==============================] - 5s 70ms/step - loss: 0.0698 - accuracy: 0.9798 - val_loss: 0.8215 - val_accuracy: 0.8249\n",
            "Epoch 167/200\n",
            "74/74 [==============================] - 5s 70ms/step - loss: 0.0618 - accuracy: 0.9831 - val_loss: 0.7939 - val_accuracy: 0.8365\n",
            "Epoch 168/200\n",
            "74/74 [==============================] - 5s 70ms/step - loss: 0.0732 - accuracy: 0.9781 - val_loss: 0.8886 - val_accuracy: 0.7927\n",
            "Epoch 169/200\n",
            "74/74 [==============================] - 5s 69ms/step - loss: 0.0737 - accuracy: 0.9803 - val_loss: 1.0783 - val_accuracy: 0.7637\n",
            "Epoch 170/200\n",
            "74/74 [==============================] - 5s 72ms/step - loss: 0.0626 - accuracy: 0.9826 - val_loss: 1.1313 - val_accuracy: 0.7151\n",
            "Epoch 171/200\n",
            "74/74 [==============================] - 5s 71ms/step - loss: 0.0577 - accuracy: 0.9840 - val_loss: 0.6630 - val_accuracy: 0.8465\n",
            "Epoch 172/200\n",
            "74/74 [==============================] - 5s 69ms/step - loss: 0.0712 - accuracy: 0.9809 - val_loss: 0.5327 - val_accuracy: 0.8738\n",
            "Epoch 173/200\n",
            "74/74 [==============================] - 5s 70ms/step - loss: 0.0731 - accuracy: 0.9807 - val_loss: 0.7106 - val_accuracy: 0.8428\n",
            "Epoch 174/200\n",
            "74/74 [==============================] - 5s 72ms/step - loss: 0.0668 - accuracy: 0.9822 - val_loss: 0.9630 - val_accuracy: 0.8095\n",
            "Epoch 175/200\n",
            "74/74 [==============================] - 5s 70ms/step - loss: 0.0544 - accuracy: 0.9850 - val_loss: 0.9025 - val_accuracy: 0.8112\n",
            "Epoch 176/200\n",
            "74/74 [==============================] - 5s 69ms/step - loss: 0.0560 - accuracy: 0.9844 - val_loss: 0.8495 - val_accuracy: 0.8294\n",
            "Epoch 177/200\n",
            "74/74 [==============================] - 5s 69ms/step - loss: 0.0583 - accuracy: 0.9848 - val_loss: 1.0462 - val_accuracy: 0.8007\n",
            "Epoch 178/200\n",
            "74/74 [==============================] - 5s 71ms/step - loss: 0.0945 - accuracy: 0.9730 - val_loss: 0.8748 - val_accuracy: 0.8394\n",
            "Epoch 179/200\n",
            "74/74 [==============================] - 5s 70ms/step - loss: 0.0951 - accuracy: 0.9726 - val_loss: 0.8503 - val_accuracy: 0.8223\n",
            "Epoch 180/200\n",
            "74/74 [==============================] - 5s 70ms/step - loss: 0.0659 - accuracy: 0.9817 - val_loss: 0.6901 - val_accuracy: 0.8658\n",
            "Epoch 181/200\n",
            "74/74 [==============================] - 5s 70ms/step - loss: 0.0595 - accuracy: 0.9856 - val_loss: 0.9052 - val_accuracy: 0.8160\n",
            "Epoch 182/200\n",
            "74/74 [==============================] - 5s 69ms/step - loss: 0.0558 - accuracy: 0.9858 - val_loss: 0.8668 - val_accuracy: 0.8285\n",
            "Epoch 183/200\n",
            "74/74 [==============================] - 5s 70ms/step - loss: 0.0626 - accuracy: 0.9839 - val_loss: 0.8562 - val_accuracy: 0.8337\n",
            "Epoch 184/200\n",
            "74/74 [==============================] - 5s 70ms/step - loss: 0.0541 - accuracy: 0.9853 - val_loss: 0.7900 - val_accuracy: 0.8405\n",
            "Epoch 185/200\n",
            "74/74 [==============================] - 5s 69ms/step - loss: 0.0563 - accuracy: 0.9832 - val_loss: 0.8357 - val_accuracy: 0.8473\n",
            "Epoch 186/200\n",
            "74/74 [==============================] - 5s 70ms/step - loss: 0.0478 - accuracy: 0.9884 - val_loss: 1.0186 - val_accuracy: 0.8121\n",
            "Epoch 187/200\n",
            "74/74 [==============================] - 5s 70ms/step - loss: 0.0608 - accuracy: 0.9836 - val_loss: 1.1335 - val_accuracy: 0.7512\n",
            "Epoch 188/200\n",
            "74/74 [==============================] - 5s 72ms/step - loss: 0.2773 - accuracy: 0.9190 - val_loss: 1.1409 - val_accuracy: 0.7816\n",
            "Epoch 189/200\n",
            "74/74 [==============================] - 5s 70ms/step - loss: 0.2456 - accuracy: 0.9241 - val_loss: 0.9462 - val_accuracy: 0.8086\n",
            "Epoch 190/200\n",
            "74/74 [==============================] - 5s 69ms/step - loss: 0.1305 - accuracy: 0.9627 - val_loss: 0.9565 - val_accuracy: 0.7953\n",
            "Epoch 191/200\n",
            "74/74 [==============================] - 5s 69ms/step - loss: 0.0939 - accuracy: 0.9727 - val_loss: 0.8542 - val_accuracy: 0.7526\n",
            "Epoch 192/200\n",
            "74/74 [==============================] - 5s 69ms/step - loss: 0.0786 - accuracy: 0.9781 - val_loss: 0.6788 - val_accuracy: 0.8442\n",
            "Epoch 193/200\n",
            "74/74 [==============================] - 5s 69ms/step - loss: 0.0740 - accuracy: 0.9803 - val_loss: 0.7161 - val_accuracy: 0.8362\n",
            "Epoch 194/200\n",
            "74/74 [==============================] - 5s 70ms/step - loss: 0.0667 - accuracy: 0.9803 - val_loss: 0.7961 - val_accuracy: 0.8067\n",
            "Epoch 195/200\n",
            "74/74 [==============================] - 5s 68ms/step - loss: 0.0617 - accuracy: 0.9825 - val_loss: 0.8104 - val_accuracy: 0.8140\n",
            "Epoch 196/200\n",
            "74/74 [==============================] - 5s 69ms/step - loss: 0.0641 - accuracy: 0.9819 - val_loss: 0.8218 - val_accuracy: 0.8163\n",
            "Epoch 197/200\n",
            "74/74 [==============================] - 5s 69ms/step - loss: 0.0605 - accuracy: 0.9824 - val_loss: 0.7488 - val_accuracy: 0.8408\n",
            "Epoch 198/200\n",
            "74/74 [==============================] - 5s 70ms/step - loss: 0.0542 - accuracy: 0.9845 - val_loss: 0.8231 - val_accuracy: 0.8004\n",
            "Epoch 199/200\n",
            "74/74 [==============================] - 5s 72ms/step - loss: 0.0531 - accuracy: 0.9847 - val_loss: 0.8070 - val_accuracy: 0.7958\n",
            "Epoch 200/200\n",
            "74/74 [==============================] - 5s 70ms/step - loss: 0.0514 - accuracy: 0.9866 - val_loss: 0.8801 - val_accuracy: 0.8112\n"
          ],
          "name": "stdout"
        }
      ]
    },
    {
      "cell_type": "code",
      "metadata": {
        "colab": {
          "base_uri": "https://localhost:8080/",
          "height": 338
        },
        "id": "yl77eOXhVQ4k",
        "outputId": "b1362eb8-239a-46fe-f19d-4a0a4dd614a8"
      },
      "source": [
        "m_acc = history.history['accuracy']\n",
        "fig, ax = plt.subplots(figsize = (15,5))\n",
        "ax.plot(m_acc, color = 'r')\n",
        "ax.plot(history.history['val_accuracy'], color = 'b')\n",
        "# plt.legend()"
      ],
      "execution_count": 40,
      "outputs": [
        {
          "output_type": "execute_result",
          "data": {
            "text/plain": [
              "[<matplotlib.lines.Line2D at 0x7f15fe59c650>]"
            ]
          },
          "metadata": {
            "tags": []
          },
          "execution_count": 40
        },
        {
          "output_type": "display_data",
          "data": {
            "image/png": "[encoded data removed]",
            "text/plain": [
              "<Figure size 1080x360 with 1 Axes>"
            ]
          },
          "metadata": {
            "tags": [],
            "needs_background": "light"
          }
        }
      ]
    },
    {
      "cell_type": "code",
      "metadata": {
        "id": "rNQBCCeEai-b"
      },
      "source": [
        "b_model = tf.keras.models.load_model('best_trained_model.h5')"
      ],
      "execution_count": 42,
      "outputs": []
    },
    {
      "cell_type": "code",
      "metadata": {
        "id": "GuY4Dz3ZxX5K",
        "colab": {
          "base_uri": "https://localhost:8080/"
        },
        "outputId": "f17a9544-eb78-4f04-c514-e31ed379ace5"
      },
      "source": [
        "b_model.evaluate(test_f, test_l)"
      ],
      "execution_count": 43,
      "outputs": [
        {
          "output_type": "stream",
          "text": [
            "110/110 [==============================] - 3s 13ms/step - loss: 0.3537 - accuracy: 0.8922\n"
          ],
          "name": "stdout"
        },
        {
          "output_type": "execute_result",
          "data": {
            "text/plain": [
              "[0.35367393493652344, 0.8922377228736877]"
            ]
          },
          "metadata": {
            "tags": []
          },
          "execution_count": 43
        }
      ]
    },
    {
      "cell_type": "code",
      "metadata": {
        "id": "mSDE3AxOxX72"
      },
      "source": [
        "# hyperparameter tuning\n",
        "# creating a fuction that will return a model\n",
        "def build_model_fn():\n",
        "  pass"
      ],
      "execution_count": null,
      "outputs": []
    }
  ]
}