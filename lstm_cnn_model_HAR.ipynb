{
  "nbformat": 4,
  "nbformat_minor": 0,
  "metadata": {
    "accelerator": "GPU",
    "colab": {
      "name": "lstm_cnn_model_HAR.ipynb",
      "provenance": [],
      "collapsed_sections": [],
      "mount_file_id": "1UAHKwx0R6jAxhvNEVZjOVJKEofFK0qLS",
      "authorship_tag": "ABX9TyNGRgUWzzO3SX/vzHs7IP24",
      "include_colab_link": true
    },
    "kernelspec": {
      "display_name": "Python 3",
      "name": "python3"
    },
    "language_info": {
      "name": "python"
    }
  },
  "cells": [
    {
      "cell_type": "markdown",
      "metadata": {
        "id": "view-in-github",
        "colab_type": "text"
      },
      "source": [
        "<a href=\"https://colab.research.google.com/github/AkhilVinayakp/HAR_LSTM_CNN/blob/main/lstm_cnn_model_HAR.ipynb\" target=\"_parent\"><img src=\"https://colab.research.google.com/assets/colab-badge.svg\" alt=\"Open In Colab\"/></a>"
      ]
    },
    {
      "cell_type": "code",
      "metadata": {
        "id": "ysB2LamaJ2HA"
      },
      "source": [
        "import tensorflow as tf\n",
        "import pandas as pd\n",
        "import numpy as np\n",
        "import matplotlib.pyplot as plt"
      ],
      "execution_count": 2,
      "outputs": []
    },
    {
      "cell_type": "code",
      "metadata": {
        "colab": {
          "base_uri": "https://localhost:8080/",
          "height": 54
        },
        "id": "jrWG6-AgKA_J",
        "outputId": "a2d28e36-6c1d-4576-db8e-1b35c6a25f7e"
      },
      "source": [
        "%cd /content/drive/My\\ Drive/datasets \n",
        "%pwd"
      ],
      "execution_count": 3,
      "outputs": [
        {
          "output_type": "stream",
          "text": [
            "/content/drive/My Drive/datasets\n"
          ],
          "name": "stdout"
        },
        {
          "output_type": "execute_result",
          "data": {
            "application/vnd.google.colaboratory.intrinsic+json": {
              "type": "string"
            },
            "text/plain": [
              "'/content/drive/My Drive/datasets'"
            ]
          },
          "metadata": {
            "tags": []
          },
          "execution_count": 3
        }
      ]
    },
    {
      "cell_type": "code",
      "metadata": {
        "id": "tw4KPSlgKBMu"
      },
      "source": [
        "\n",
        "df =  pd.read_csv('int_norm.csv')"
      ],
      "execution_count": 4,
      "outputs": []
    },
    {
      "cell_type": "code",
      "metadata": {
        "colab": {
          "base_uri": "https://localhost:8080/"
        },
        "id": "osom7hIcKECg",
        "outputId": "31df9d16-17a9-4379-de9a-3a450f997597"
      },
      "source": [
        "df.shape"
      ],
      "execution_count": 5,
      "outputs": [
        {
          "output_type": "execute_result",
          "data": {
            "text/plain": [
              "(1098204, 6)"
            ]
          },
          "metadata": {
            "tags": []
          },
          "execution_count": 5
        }
      ]
    },
    {
      "cell_type": "code",
      "metadata": {
        "id": "b8VebeFoKFrV"
      },
      "source": [
        "def create_windowed_dataset(series, window_size,shift_size, batch_size,shuffle_buffer):\n",
        "  dataset = tf.data.Dataset.from_tensor_slices(series)\n",
        "  dataset = dataset.window(window_size , shift = shift_size, drop_remainder = True)\n",
        "  dataset = dataset.flat_map(lambda window: window.batch(window_size))\n",
        "  dataset = dataset.map(lambda window: ( window[:,1:], tf.one_hot(tf.cast(window[window_size -1 , 0], tf.int64), depth=6) ))\n",
        "  dataset = dataset.shuffle(shuffle_buffer)\n",
        "  dataset = dataset.batch(batch_size).prefetch(1)\n",
        "  return dataset"
      ],
      "execution_count": 6,
      "outputs": []
    },
    {
      "cell_type": "code",
      "metadata": {
        "id": "WBMeh6jNKKg4"
      },
      "source": [
        "df.drop('timestamp', axis = 1, inplace=True)"
      ],
      "execution_count": 7,
      "outputs": []
    },
    {
      "cell_type": "code",
      "metadata": {
        "id": "7tw6c_W6KNDX"
      },
      "source": [
        "df.activity = df.activity.astype('category').cat.codes\n",
        "df.activity = df.activity.astype('int64')"
      ],
      "execution_count": 8,
      "outputs": []
    },
    {
      "cell_type": "code",
      "metadata": {
        "id": "2epXqU7LKWUH"
      },
      "source": [
        "train = df[df['user'] < 31 ]\n",
        "test = df[df['user'] > 30]"
      ],
      "execution_count": 9,
      "outputs": []
    },
    {
      "cell_type": "code",
      "metadata": {
        "colab": {
          "base_uri": "https://localhost:8080/"
        },
        "id": "2TZrOk5sKb_p",
        "outputId": "68bbfc3d-9c5f-4c46-ad97-5a177e5949fe"
      },
      "source": [
        "train.drop('user', axis = 1, inplace=True)\n",
        "test.drop('user', axis = 1, inplace=True)\n",
        "train.reset_index(drop = True, inplace = True)\n",
        "test.reset_index(drop=True, inplace=True)"
      ],
      "execution_count": 10,
      "outputs": [
        {
          "output_type": "stream",
          "text": [
            "/usr/local/lib/python3.7/dist-packages/pandas/core/frame.py:4174: SettingWithCopyWarning: \n",
            "A value is trying to be set on a copy of a slice from a DataFrame\n",
            "\n",
            "See the caveats in the documentation: https://pandas.pydata.org/pandas-docs/stable/user_guide/indexing.html#returning-a-view-versus-a-copy\n",
            "  errors=errors,\n"
          ],
          "name": "stderr"
        }
      ]
    },
    {
      "cell_type": "code",
      "metadata": {
        "colab": {
          "base_uri": "https://localhost:8080/"
        },
        "id": "Br_6FSAXh4Cc",
        "outputId": "268d9f78-0d04-452c-8677-b96211fc64a2"
      },
      "source": [
        "print(train.shape)\n",
        "print(test.shape)"
      ],
      "execution_count": 11,
      "outputs": [
        {
          "output_type": "stream",
          "text": [
            "(898361, 4)\n",
            "(199843, 4)\n"
          ],
          "name": "stdout"
        }
      ]
    },
    {
      "cell_type": "code",
      "metadata": {
        "colab": {
          "base_uri": "https://localhost:8080/"
        },
        "id": "m4_VVQdIKxWW",
        "outputId": "d1a64c3c-01eb-41e0-c2ba-72677af9d493"
      },
      "source": [
        "print(train.shape)\n",
        "print(test.shape)"
      ],
      "execution_count": 12,
      "outputs": [
        {
          "output_type": "stream",
          "text": [
            "(898361, 4)\n",
            "(199843, 4)\n"
          ],
          "name": "stdout"
        }
      ]
    },
    {
      "cell_type": "code",
      "metadata": {
        "colab": {
          "base_uri": "https://localhost:8080/",
          "height": 206
        },
        "id": "rpWjLVPCK3NH",
        "outputId": "3a417852-5674-4cba-d283-acb39f882d8d"
      },
      "source": [
        "train.head()"
      ],
      "execution_count": 13,
      "outputs": [
        {
          "output_type": "execute_result",
          "data": {
            "text/html": [
              "<div>\n",
              "<style scoped>\n",
              "    .dataframe tbody tr th:only-of-type {\n",
              "        vertical-align: middle;\n",
              "    }\n",
              "\n",
              "    .dataframe tbody tr th {\n",
              "        vertical-align: top;\n",
              "    }\n",
              "\n",
              "    .dataframe thead th {\n",
              "        text-align: right;\n",
              "    }\n",
              "</style>\n",
              "<table border=\"1\" class=\"dataframe\">\n",
              "  <thead>\n",
              "    <tr style=\"text-align: right;\">\n",
              "      <th></th>\n",
              "      <th>activity</th>\n",
              "      <th>x-axis</th>\n",
              "      <th>y-axis</th>\n",
              "      <th>z-axis</th>\n",
              "    </tr>\n",
              "  </thead>\n",
              "  <tbody>\n",
              "    <tr>\n",
              "      <th>0</th>\n",
              "      <td>5</td>\n",
              "      <td>0.058149</td>\n",
              "      <td>0.996847</td>\n",
              "      <td>-0.053996</td>\n",
              "    </tr>\n",
              "    <tr>\n",
              "      <th>1</th>\n",
              "      <td>5</td>\n",
              "      <td>-0.000000</td>\n",
              "      <td>0.998427</td>\n",
              "      <td>-0.056061</td>\n",
              "    </tr>\n",
              "    <tr>\n",
              "      <th>2</th>\n",
              "      <td>5</td>\n",
              "      <td>-0.023448</td>\n",
              "      <td>0.997247</td>\n",
              "      <td>-0.070345</td>\n",
              "    </tr>\n",
              "    <tr>\n",
              "      <th>3</th>\n",
              "      <td>5</td>\n",
              "      <td>0.014845</td>\n",
              "      <td>0.998642</td>\n",
              "      <td>-0.049932</td>\n",
              "    </tr>\n",
              "    <tr>\n",
              "      <th>4</th>\n",
              "      <td>5</td>\n",
              "      <td>0.014737</td>\n",
              "      <td>0.998072</td>\n",
              "      <td>-0.060286</td>\n",
              "    </tr>\n",
              "  </tbody>\n",
              "</table>\n",
              "</div>"
            ],
            "text/plain": [
              "   activity    x-axis    y-axis    z-axis\n",
              "0         5  0.058149  0.996847 -0.053996\n",
              "1         5 -0.000000  0.998427 -0.056061\n",
              "2         5 -0.023448  0.997247 -0.070345\n",
              "3         5  0.014845  0.998642 -0.049932\n",
              "4         5  0.014737  0.998072 -0.060286"
            ]
          },
          "metadata": {
            "tags": []
          },
          "execution_count": 13
        }
      ]
    },
    {
      "cell_type": "code",
      "metadata": {
        "colab": {
          "base_uri": "https://localhost:8080/",
          "height": 206
        },
        "id": "xLr7__bNK6OJ",
        "outputId": "18efd838-c175-4eb9-d4b0-18c2d80f920e"
      },
      "source": [
        "test.head()"
      ],
      "execution_count": 14,
      "outputs": [
        {
          "output_type": "execute_result",
          "data": {
            "text/html": [
              "<div>\n",
              "<style scoped>\n",
              "    .dataframe tbody tr th:only-of-type {\n",
              "        vertical-align: middle;\n",
              "    }\n",
              "\n",
              "    .dataframe tbody tr th {\n",
              "        vertical-align: top;\n",
              "    }\n",
              "\n",
              "    .dataframe thead th {\n",
              "        text-align: right;\n",
              "    }\n",
              "</style>\n",
              "<table border=\"1\" class=\"dataframe\">\n",
              "  <thead>\n",
              "    <tr style=\"text-align: right;\">\n",
              "      <th></th>\n",
              "      <th>activity</th>\n",
              "      <th>x-axis</th>\n",
              "      <th>y-axis</th>\n",
              "      <th>z-axis</th>\n",
              "    </tr>\n",
              "  </thead>\n",
              "  <tbody>\n",
              "    <tr>\n",
              "      <th>0</th>\n",
              "      <td>1</td>\n",
              "      <td>-0.054655</td>\n",
              "      <td>0.997718</td>\n",
              "      <td>0.039652</td>\n",
              "    </tr>\n",
              "    <tr>\n",
              "      <th>1</th>\n",
              "      <td>1</td>\n",
              "      <td>0.405338</td>\n",
              "      <td>0.910910</td>\n",
              "      <td>0.077102</td>\n",
              "    </tr>\n",
              "    <tr>\n",
              "      <th>2</th>\n",
              "      <td>1</td>\n",
              "      <td>0.410782</td>\n",
              "      <td>0.911708</td>\n",
              "      <td>-0.006846</td>\n",
              "    </tr>\n",
              "    <tr>\n",
              "      <th>3</th>\n",
              "      <td>1</td>\n",
              "      <td>-0.032685</td>\n",
              "      <td>0.986373</td>\n",
              "      <td>0.161248</td>\n",
              "    </tr>\n",
              "    <tr>\n",
              "      <th>4</th>\n",
              "      <td>1</td>\n",
              "      <td>-0.083804</td>\n",
              "      <td>0.856341</td>\n",
              "      <td>0.509566</td>\n",
              "    </tr>\n",
              "  </tbody>\n",
              "</table>\n",
              "</div>"
            ],
            "text/plain": [
              "   activity    x-axis    y-axis    z-axis\n",
              "0         1 -0.054655  0.997718  0.039652\n",
              "1         1  0.405338  0.910910  0.077102\n",
              "2         1  0.410782  0.911708 -0.006846\n",
              "3         1 -0.032685  0.986373  0.161248\n",
              "4         1 -0.083804  0.856341  0.509566"
            ]
          },
          "metadata": {
            "tags": []
          },
          "execution_count": 14
        }
      ]
    },
    {
      "cell_type": "code",
      "metadata": {
        "id": "pOmxb9g0MKW2"
      },
      "source": [
        "# creating test set\n",
        "def create_test_windowed(series, window_size = 128):\n",
        "  test = tf.data.Dataset.from_tensor_slices(series)\n",
        "  test = test.window(window_size, drop_remainder = True)\n",
        "  test = test.flat_map(lambda window: window.batch(window_size))\n",
        "  test = test.map(lambda window: (window[:,1:], tf.one_hot(tf.cast(window[window_size -1 , 0], tf.int64), depth=6)))\n",
        "  return test"
      ],
      "execution_count": 15,
      "outputs": []
    },
    {
      "cell_type": "code",
      "metadata": {
        "id": "Eibk1g7RRgSQ"
      },
      "source": [
        "test_win = create_test_windowed(test)   # test data set for evaluation"
      ],
      "execution_count": 16,
      "outputs": []
    },
    {
      "cell_type": "code",
      "metadata": {
        "id": "-aQ7-STzRtys"
      },
      "source": [
        ""
      ],
      "execution_count": 16,
      "outputs": []
    },
    {
      "cell_type": "code",
      "metadata": {
        "id": "LaWS6MLm0T7x"
      },
      "source": [
        "test_data = list(test_win.as_numpy_iterator())"
      ],
      "execution_count": 17,
      "outputs": []
    },
    {
      "cell_type": "code",
      "metadata": {
        "id": "BwcUnBhJ0T70"
      },
      "source": [
        "test_f = []\n",
        "test_l = []\n",
        "for i in test_data:\n",
        "  test_f.append(i[0])\n",
        "  test_l.append(i[1])"
      ],
      "execution_count": 18,
      "outputs": []
    },
    {
      "cell_type": "code",
      "metadata": {
        "id": "Hhk4fR9x0T72"
      },
      "source": [
        "test_f = np.array(test_f)"
      ],
      "execution_count": 19,
      "outputs": []
    },
    {
      "cell_type": "code",
      "metadata": {
        "colab": {
          "base_uri": "https://localhost:8080/"
        },
        "id": "zJvzygJ-iGar",
        "outputId": "17f79ca1-dc65-4f6d-c588-ed141328f2f9"
      },
      "source": [
        "test_f.shape"
      ],
      "execution_count": 20,
      "outputs": [
        {
          "output_type": "execute_result",
          "data": {
            "text/plain": [
              "(1561, 128, 3)"
            ]
          },
          "metadata": {
            "tags": []
          },
          "execution_count": 20
        }
      ]
    },
    {
      "cell_type": "code",
      "metadata": {
        "colab": {
          "base_uri": "https://localhost:8080/"
        },
        "id": "Q-f9VNMQ0T74",
        "outputId": "7e98e182-d99b-4ef5-9cb4-edbbc4fe13cb"
      },
      "source": [
        "test_f.shape"
      ],
      "execution_count": 21,
      "outputs": [
        {
          "output_type": "execute_result",
          "data": {
            "text/plain": [
              "(1561, 128, 3)"
            ]
          },
          "metadata": {
            "tags": []
          },
          "execution_count": 21
        }
      ]
    },
    {
      "cell_type": "code",
      "metadata": {
        "id": "00XGa2tm0T77"
      },
      "source": [
        "\n",
        "test_l = np.array(test_l)"
      ],
      "execution_count": 22,
      "outputs": []
    },
    {
      "cell_type": "code",
      "metadata": {
        "colab": {
          "base_uri": "https://localhost:8080/"
        },
        "id": "uNCxJ-Ce0T78",
        "outputId": "3d095696-7c51-4c1d-9c76-e85444549f62"
      },
      "source": [
        "test_l.shape"
      ],
      "execution_count": 23,
      "outputs": [
        {
          "output_type": "execute_result",
          "data": {
            "text/plain": [
              "(1561, 6)"
            ]
          },
          "metadata": {
            "tags": []
          },
          "execution_count": 23
        }
      ]
    },
    {
      "cell_type": "code",
      "metadata": {
        "colab": {
          "base_uri": "https://localhost:8080/"
        },
        "id": "zwTwuTjy0T79",
        "outputId": "fe1a88f5-f547-411d-f0ba-90353ac397f0"
      },
      "source": [
        "x_val = test_f[:200]\n",
        "y_val = test_l[:200]\n",
        "print(x_val.shape)\n",
        "print(y_val.shape)"
      ],
      "execution_count": 24,
      "outputs": [
        {
          "output_type": "stream",
          "text": [
            "(200, 128, 3)\n",
            "(200, 6)\n"
          ],
          "name": "stdout"
        }
      ]
    },
    {
      "cell_type": "code",
      "metadata": {
        "id": "ru6g2EwJRltG"
      },
      "source": [
        ""
      ],
      "execution_count": 24,
      "outputs": []
    },
    {
      "cell_type": "code",
      "metadata": {
        "id": "p4b7H1hwK7PX"
      },
      "source": [
        "train_windowed = create_windowed_dataset(train, 128, 64, 200, 128)"
      ],
      "execution_count": 25,
      "outputs": []
    },
    {
      "cell_type": "code",
      "metadata": {
        "id": "MWpCCym4LQdo"
      },
      "source": [
        "# # adding globel average pooling to the model\n",
        "# codding lstm layers and cnn\n",
        "model = tf.keras.models.Sequential([\n",
        "  tf.keras.layers.Lambda(lambda x: x,\n",
        "                      input_shape=[128, 3]),\n",
        "  tf.keras.layers.LSTM(32, return_sequences=True),\n",
        "  tf.keras.layers.LSTM(32, return_sequences=True),\n",
        "  tf.keras.layers.Dropout(.4),\n",
        "  tf.keras.layers.Lambda(lambda x: tf.expand_dims(x, axis=-1)),\n",
        "  tf.keras.layers.Conv2D(64,5,strides=(2,2)),\n",
        "  tf.keras.layers.MaxPooling2D((2, 2), strides = (2,2)),\n",
        "  \n",
        "  tf.keras.layers.Conv2D(128,3,strides=(1,1)),  \n",
        "  tf.keras.layers.GlobalAveragePooling2D(),\n",
        "  # tf.keras.layers.Lambda(lambda x: tf.expand_dims(x, axis=-1)),\n",
        "  # parameters ?\n",
        "  # tf.keras.layers.Dropout(0.2),\n",
        "  tf.keras.layers.BatchNormalization(),\n",
        "  tf.keras.layers.Dense(6, activation='softmax')\n",
        "  \n",
        "])"
      ],
      "execution_count": 26,
      "outputs": []
    },
    {
      "cell_type": "code",
      "metadata": {
        "colab": {
          "base_uri": "https://localhost:8080/"
        },
        "id": "5E6VeHTzLXnf",
        "outputId": "07b369f5-6f1f-4190-9b35-05531155cee7"
      },
      "source": [
        "model.summary()"
      ],
      "execution_count": 27,
      "outputs": [
        {
          "output_type": "stream",
          "text": [
            "Model: \"sequential\"\n",
            "_________________________________________________________________\n",
            "Layer (type)                 Output Shape              Param #   \n",
            "=================================================================\n",
            "lambda (Lambda)              (None, 128, 3)            0         \n",
            "_________________________________________________________________\n",
            "lstm (LSTM)                  (None, 128, 32)           4608      \n",
            "_________________________________________________________________\n",
            "lstm_1 (LSTM)                (None, 128, 32)           8320      \n",
            "_________________________________________________________________\n",
            "dropout (Dropout)            (None, 128, 32)           0         \n",
            "_________________________________________________________________\n",
            "lambda_1 (Lambda)            (None, 128, 32, 1)        0         \n",
            "_________________________________________________________________\n",
            "conv2d (Conv2D)              (None, 62, 14, 64)        1664      \n",
            "_________________________________________________________________\n",
            "max_pooling2d (MaxPooling2D) (None, 31, 7, 64)         0         \n",
            "_________________________________________________________________\n",
            "conv2d_1 (Conv2D)            (None, 29, 5, 128)        73856     \n",
            "_________________________________________________________________\n",
            "global_average_pooling2d (Gl (None, 128)               0         \n",
            "_________________________________________________________________\n",
            "batch_normalization (BatchNo (None, 128)               512       \n",
            "_________________________________________________________________\n",
            "dense (Dense)                (None, 6)                 774       \n",
            "=================================================================\n",
            "Total params: 89,734\n",
            "Trainable params: 89,478\n",
            "Non-trainable params: 256\n",
            "_________________________________________________________________\n"
          ],
          "name": "stdout"
        }
      ]
    },
    {
      "cell_type": "code",
      "metadata": {
        "id": "WRcLJEOSsBlB"
      },
      "source": [
        "# designing class back to save the best model\n",
        "from tensorflow.keras.callbacks import ModelCheckpoint\n",
        "save = ModelCheckpoint('best_trained_model.h5', save_best_only = True)"
      ],
      "execution_count": 28,
      "outputs": []
    },
    {
      "cell_type": "code",
      "metadata": {
        "id": "tfYvWvnNvtGI"
      },
      "source": [
        "\n",
        "train = train_windowed.take(round(13654*0.7))\n",
        "val = train_windowed.skip(round(13654*0.7))"
      ],
      "execution_count": 29,
      "outputs": []
    },
    {
      "cell_type": "code",
      "metadata": {
        "id": "W0fR38Dcik8D"
      },
      "source": [
        ""
      ],
      "execution_count": 29,
      "outputs": []
    },
    {
      "cell_type": "code",
      "metadata": {
        "colab": {
          "base_uri": "https://localhost:8080/"
        },
        "id": "RHKe8lH7LaDG",
        "outputId": "542af37b-c572-4ce2-9ba0-043cd89a3731"
      },
      "source": [
        "# with out bidirection\n",
        "optimizer = tf.keras.optimizers.Adam(0.001)\n",
        "model.compile(loss=\"categorical_crossentropy\", optimizer=optimizer, metrics = ['accuracy'])\n",
        "\n",
        "history = model.fit(train_windowed,validation_data=(test_f, test_l), epochs=200,callbacks=[save], verbose=1, batch_size=192) "
      ],
      "execution_count": 30,
      "outputs": [
        {
          "output_type": "stream",
          "text": [
            "Epoch 1/200\n",
            "71/71 [==============================] - 10s 68ms/step - loss: 1.3520 - accuracy: 0.6381 - val_loss: 1.6263 - val_accuracy: 0.3555\n",
            "Epoch 2/200\n",
            "71/71 [==============================] - 4s 54ms/step - loss: 0.9589 - accuracy: 0.7241 - val_loss: 1.5384 - val_accuracy: 0.3555\n",
            "Epoch 3/200\n",
            "71/71 [==============================] - 4s 53ms/step - loss: 0.9262 - accuracy: 0.7341 - val_loss: 1.4483 - val_accuracy: 0.3786\n",
            "Epoch 4/200\n",
            "71/71 [==============================] - 4s 53ms/step - loss: 0.8738 - accuracy: 0.7346 - val_loss: 1.4042 - val_accuracy: 0.3626\n",
            "Epoch 5/200\n",
            "71/71 [==============================] - 4s 53ms/step - loss: 0.8648 - accuracy: 0.7306 - val_loss: 1.4369 - val_accuracy: 0.3331\n",
            "Epoch 6/200\n",
            "71/71 [==============================] - 4s 52ms/step - loss: 0.8686 - accuracy: 0.7275 - val_loss: 1.9155 - val_accuracy: 0.3331\n",
            "Epoch 7/200\n",
            "71/71 [==============================] - 4s 54ms/step - loss: 0.8076 - accuracy: 0.7462 - val_loss: 2.7676 - val_accuracy: 0.3331\n",
            "Epoch 8/200\n",
            "71/71 [==============================] - 4s 53ms/step - loss: 0.8056 - accuracy: 0.7416 - val_loss: 2.4282 - val_accuracy: 0.3344\n",
            "Epoch 9/200\n",
            "71/71 [==============================] - 4s 55ms/step - loss: 0.8107 - accuracy: 0.7418 - val_loss: 3.9970 - val_accuracy: 0.3331\n",
            "Epoch 10/200\n",
            "71/71 [==============================] - 4s 53ms/step - loss: 0.8101 - accuracy: 0.7383 - val_loss: 5.1464 - val_accuracy: 0.3331\n",
            "Epoch 11/200\n",
            "71/71 [==============================] - 4s 53ms/step - loss: 0.8042 - accuracy: 0.7414 - val_loss: 3.5953 - val_accuracy: 0.3331\n",
            "Epoch 12/200\n",
            "71/71 [==============================] - 4s 53ms/step - loss: 0.7924 - accuracy: 0.7462 - val_loss: 4.3535 - val_accuracy: 0.3331\n",
            "Epoch 13/200\n",
            "71/71 [==============================] - 4s 54ms/step - loss: 0.7879 - accuracy: 0.7474 - val_loss: 6.6513 - val_accuracy: 0.3331\n",
            "Epoch 14/200\n",
            "71/71 [==============================] - 4s 56ms/step - loss: 0.7776 - accuracy: 0.7473 - val_loss: 10.5935 - val_accuracy: 0.3331\n",
            "Epoch 15/200\n",
            "71/71 [==============================] - 4s 54ms/step - loss: 0.7752 - accuracy: 0.7531 - val_loss: 10.7556 - val_accuracy: 0.3331\n",
            "Epoch 16/200\n",
            "71/71 [==============================] - 4s 54ms/step - loss: 0.7676 - accuracy: 0.7564 - val_loss: 9.9953 - val_accuracy: 0.3331\n",
            "Epoch 17/200\n",
            "71/71 [==============================] - 4s 54ms/step - loss: 0.7555 - accuracy: 0.7619 - val_loss: 5.5417 - val_accuracy: 0.3331\n",
            "Epoch 18/200\n",
            "71/71 [==============================] - 4s 54ms/step - loss: 0.7540 - accuracy: 0.7583 - val_loss: 8.6179 - val_accuracy: 0.3331\n",
            "Epoch 19/200\n",
            "71/71 [==============================] - 4s 55ms/step - loss: 0.7476 - accuracy: 0.7579 - val_loss: 8.9382 - val_accuracy: 0.3331\n",
            "Epoch 20/200\n",
            "71/71 [==============================] - 4s 54ms/step - loss: 0.7490 - accuracy: 0.7591 - val_loss: 1.9750 - val_accuracy: 0.3536\n",
            "Epoch 21/200\n",
            "71/71 [==============================] - 4s 54ms/step - loss: 0.7512 - accuracy: 0.7663 - val_loss: 5.2679 - val_accuracy: 0.3792\n",
            "Epoch 22/200\n",
            "71/71 [==============================] - 4s 53ms/step - loss: 0.7207 - accuracy: 0.7661 - val_loss: 7.4402 - val_accuracy: 0.3331\n",
            "Epoch 23/200\n",
            "71/71 [==============================] - 4s 53ms/step - loss: 0.6848 - accuracy: 0.7731 - val_loss: 10.0134 - val_accuracy: 0.3331\n",
            "Epoch 24/200\n",
            "71/71 [==============================] - 4s 55ms/step - loss: 0.6968 - accuracy: 0.7806 - val_loss: 5.8587 - val_accuracy: 0.3427\n",
            "Epoch 25/200\n",
            "71/71 [==============================] - 4s 54ms/step - loss: 0.6668 - accuracy: 0.7832 - val_loss: 7.3498 - val_accuracy: 0.3504\n",
            "Epoch 26/200\n",
            "71/71 [==============================] - 4s 53ms/step - loss: 0.6320 - accuracy: 0.8017 - val_loss: 11.1215 - val_accuracy: 0.3331\n",
            "Epoch 27/200\n",
            "71/71 [==============================] - 4s 53ms/step - loss: 0.6330 - accuracy: 0.7975 - val_loss: 10.5847 - val_accuracy: 0.3331\n",
            "Epoch 28/200\n",
            "71/71 [==============================] - 4s 53ms/step - loss: 0.6208 - accuracy: 0.8012 - val_loss: 7.5571 - val_accuracy: 0.3786\n",
            "Epoch 29/200\n",
            "71/71 [==============================] - 4s 54ms/step - loss: 0.6232 - accuracy: 0.8002 - val_loss: 7.6246 - val_accuracy: 0.3786\n",
            "Epoch 30/200\n",
            "71/71 [==============================] - 4s 53ms/step - loss: 0.5801 - accuracy: 0.8126 - val_loss: 5.7293 - val_accuracy: 0.3799\n",
            "Epoch 31/200\n",
            "71/71 [==============================] - 4s 52ms/step - loss: 0.5721 - accuracy: 0.8155 - val_loss: 4.2311 - val_accuracy: 0.4138\n",
            "Epoch 32/200\n",
            "71/71 [==============================] - 4s 54ms/step - loss: 0.5642 - accuracy: 0.8176 - val_loss: 7.0522 - val_accuracy: 0.3786\n",
            "Epoch 33/200\n",
            "71/71 [==============================] - 4s 54ms/step - loss: 0.5706 - accuracy: 0.8094 - val_loss: 6.5205 - val_accuracy: 0.4183\n",
            "Epoch 34/200\n",
            "71/71 [==============================] - 4s 52ms/step - loss: 0.5663 - accuracy: 0.8176 - val_loss: 4.3137 - val_accuracy: 0.4183\n",
            "Epoch 35/200\n",
            "71/71 [==============================] - 4s 52ms/step - loss: 0.5386 - accuracy: 0.8264 - val_loss: 2.7170 - val_accuracy: 0.3818\n",
            "Epoch 36/200\n",
            "71/71 [==============================] - 4s 54ms/step - loss: 0.5210 - accuracy: 0.8307 - val_loss: 2.3185 - val_accuracy: 0.4061\n",
            "Epoch 37/200\n",
            "71/71 [==============================] - 4s 54ms/step - loss: 0.5302 - accuracy: 0.8307 - val_loss: 1.3831 - val_accuracy: 0.6355\n",
            "Epoch 38/200\n",
            "71/71 [==============================] - 4s 53ms/step - loss: 0.5091 - accuracy: 0.8367 - val_loss: 3.3775 - val_accuracy: 0.4164\n",
            "Epoch 39/200\n",
            "71/71 [==============================] - 4s 53ms/step - loss: 0.5031 - accuracy: 0.8359 - val_loss: 3.6412 - val_accuracy: 0.4228\n",
            "Epoch 40/200\n",
            "71/71 [==============================] - 4s 54ms/step - loss: 0.5002 - accuracy: 0.8448 - val_loss: 2.7218 - val_accuracy: 0.4113\n",
            "Epoch 41/200\n",
            "71/71 [==============================] - 4s 53ms/step - loss: 0.4961 - accuracy: 0.8417 - val_loss: 3.3896 - val_accuracy: 0.2338\n",
            "Epoch 42/200\n",
            "71/71 [==============================] - 4s 53ms/step - loss: 0.4721 - accuracy: 0.8436 - val_loss: 2.1123 - val_accuracy: 0.3818\n",
            "Epoch 43/200\n",
            "71/71 [==============================] - 4s 53ms/step - loss: 0.4615 - accuracy: 0.8542 - val_loss: 3.7843 - val_accuracy: 0.4587\n",
            "Epoch 44/200\n",
            "71/71 [==============================] - 4s 54ms/step - loss: 0.4604 - accuracy: 0.8482 - val_loss: 3.6370 - val_accuracy: 0.4068\n",
            "Epoch 45/200\n",
            "71/71 [==============================] - 4s 52ms/step - loss: 0.4515 - accuracy: 0.8607 - val_loss: 4.4910 - val_accuracy: 0.4036\n",
            "Epoch 46/200\n",
            "71/71 [==============================] - 4s 53ms/step - loss: 0.4304 - accuracy: 0.8644 - val_loss: 2.2942 - val_accuracy: 0.4773\n",
            "Epoch 47/200\n",
            "71/71 [==============================] - 4s 53ms/step - loss: 0.4432 - accuracy: 0.8578 - val_loss: 1.8132 - val_accuracy: 0.5548\n",
            "Epoch 48/200\n",
            "71/71 [==============================] - 4s 54ms/step - loss: 0.4462 - accuracy: 0.8553 - val_loss: 3.4736 - val_accuracy: 0.4452\n",
            "Epoch 49/200\n",
            "71/71 [==============================] - 4s 52ms/step - loss: 0.4527 - accuracy: 0.8550 - val_loss: 2.2311 - val_accuracy: 0.4933\n",
            "Epoch 50/200\n",
            "71/71 [==============================] - 4s 53ms/step - loss: 0.4031 - accuracy: 0.8664 - val_loss: 2.1616 - val_accuracy: 0.5842\n",
            "Epoch 51/200\n",
            "71/71 [==============================] - 4s 52ms/step - loss: 0.4108 - accuracy: 0.8662 - val_loss: 2.3093 - val_accuracy: 0.4798\n",
            "Epoch 52/200\n",
            "71/71 [==============================] - 4s 52ms/step - loss: 0.3886 - accuracy: 0.8691 - val_loss: 1.8000 - val_accuracy: 0.5618\n",
            "Epoch 53/200\n",
            "71/71 [==============================] - 4s 52ms/step - loss: 0.3953 - accuracy: 0.8675 - val_loss: 3.3797 - val_accuracy: 0.3889\n",
            "Epoch 54/200\n",
            "71/71 [==============================] - 4s 55ms/step - loss: 0.4114 - accuracy: 0.8642 - val_loss: 1.4516 - val_accuracy: 0.6233\n",
            "Epoch 55/200\n",
            "71/71 [==============================] - 4s 54ms/step - loss: 0.3770 - accuracy: 0.8703 - val_loss: 3.9230 - val_accuracy: 0.4010\n",
            "Epoch 56/200\n",
            "71/71 [==============================] - 4s 55ms/step - loss: 0.3681 - accuracy: 0.8815 - val_loss: 1.6390 - val_accuracy: 0.5766\n",
            "Epoch 57/200\n",
            "71/71 [==============================] - 4s 53ms/step - loss: 0.3603 - accuracy: 0.8808 - val_loss: 1.6004 - val_accuracy: 0.5964\n",
            "Epoch 58/200\n",
            "71/71 [==============================] - 4s 53ms/step - loss: 0.3456 - accuracy: 0.8925 - val_loss: 2.0644 - val_accuracy: 0.4798\n",
            "Epoch 59/200\n",
            "71/71 [==============================] - 4s 54ms/step - loss: 0.3707 - accuracy: 0.8806 - val_loss: 1.4799 - val_accuracy: 0.5695\n",
            "Epoch 60/200\n",
            "71/71 [==============================] - 4s 53ms/step - loss: 0.3689 - accuracy: 0.8864 - val_loss: 2.7624 - val_accuracy: 0.4574\n",
            "Epoch 61/200\n",
            "71/71 [==============================] - 4s 53ms/step - loss: 0.3836 - accuracy: 0.8823 - val_loss: 2.3604 - val_accuracy: 0.4619\n",
            "Epoch 62/200\n",
            "71/71 [==============================] - 4s 54ms/step - loss: 0.3561 - accuracy: 0.8847 - val_loss: 1.8644 - val_accuracy: 0.5054\n",
            "Epoch 63/200\n",
            "71/71 [==============================] - 4s 53ms/step - loss: 0.3318 - accuracy: 0.8926 - val_loss: 2.0998 - val_accuracy: 0.4856\n",
            "Epoch 64/200\n",
            "71/71 [==============================] - 4s 54ms/step - loss: 0.3352 - accuracy: 0.8957 - val_loss: 2.7145 - val_accuracy: 0.4222\n",
            "Epoch 65/200\n",
            "71/71 [==============================] - 4s 53ms/step - loss: 0.3292 - accuracy: 0.8965 - val_loss: 2.3398 - val_accuracy: 0.4664\n",
            "Epoch 66/200\n",
            "71/71 [==============================] - 4s 53ms/step - loss: 0.3323 - accuracy: 0.8952 - val_loss: 2.5298 - val_accuracy: 0.4350\n",
            "Epoch 67/200\n",
            "71/71 [==============================] - 4s 54ms/step - loss: 0.3267 - accuracy: 0.8951 - val_loss: 2.3130 - val_accuracy: 0.4568\n",
            "Epoch 68/200\n",
            "71/71 [==============================] - 4s 53ms/step - loss: 0.3191 - accuracy: 0.9034 - val_loss: 2.5871 - val_accuracy: 0.4061\n",
            "Epoch 69/200\n",
            "71/71 [==============================] - 4s 52ms/step - loss: 0.3227 - accuracy: 0.8972 - val_loss: 2.9995 - val_accuracy: 0.3671\n",
            "Epoch 70/200\n",
            "71/71 [==============================] - 4s 53ms/step - loss: 0.3008 - accuracy: 0.9054 - val_loss: 1.8525 - val_accuracy: 0.5356\n",
            "Epoch 71/200\n",
            "71/71 [==============================] - 4s 54ms/step - loss: 0.3072 - accuracy: 0.9021 - val_loss: 2.0429 - val_accuracy: 0.4664\n",
            "Epoch 72/200\n",
            "71/71 [==============================] - 4s 54ms/step - loss: 0.3025 - accuracy: 0.9087 - val_loss: 3.0968 - val_accuracy: 0.4196\n",
            "Epoch 73/200\n",
            "71/71 [==============================] - 4s 54ms/step - loss: 0.2886 - accuracy: 0.9106 - val_loss: 3.6616 - val_accuracy: 0.3985\n",
            "Epoch 74/200\n",
            "71/71 [==============================] - 4s 53ms/step - loss: 0.3057 - accuracy: 0.9051 - val_loss: 3.5210 - val_accuracy: 0.4266\n",
            "Epoch 75/200\n",
            "71/71 [==============================] - 4s 54ms/step - loss: 0.2864 - accuracy: 0.9124 - val_loss: 1.1959 - val_accuracy: 0.6899\n",
            "Epoch 76/200\n",
            "71/71 [==============================] - 4s 52ms/step - loss: 0.3060 - accuracy: 0.9015 - val_loss: 3.0671 - val_accuracy: 0.3613\n",
            "Epoch 77/200\n",
            "71/71 [==============================] - 4s 52ms/step - loss: 0.3048 - accuracy: 0.9072 - val_loss: 1.7729 - val_accuracy: 0.5593\n",
            "Epoch 78/200\n",
            "71/71 [==============================] - 4s 54ms/step - loss: 0.2876 - accuracy: 0.9113 - val_loss: 2.4630 - val_accuracy: 0.4689\n",
            "Epoch 79/200\n",
            "71/71 [==============================] - 4s 54ms/step - loss: 0.2817 - accuracy: 0.9153 - val_loss: 1.3497 - val_accuracy: 0.6457\n",
            "Epoch 80/200\n",
            "71/71 [==============================] - 4s 54ms/step - loss: 0.2831 - accuracy: 0.9142 - val_loss: 1.8410 - val_accuracy: 0.5394\n",
            "Epoch 81/200\n",
            "71/71 [==============================] - 4s 54ms/step - loss: 0.2778 - accuracy: 0.9193 - val_loss: 1.5362 - val_accuracy: 0.5919\n",
            "Epoch 82/200\n",
            "71/71 [==============================] - 4s 54ms/step - loss: 0.2724 - accuracy: 0.9180 - val_loss: 1.5439 - val_accuracy: 0.5580\n",
            "Epoch 83/200\n",
            "71/71 [==============================] - 4s 54ms/step - loss: 0.2841 - accuracy: 0.9128 - val_loss: 1.1413 - val_accuracy: 0.6855\n",
            "Epoch 84/200\n",
            "71/71 [==============================] - 4s 54ms/step - loss: 0.2748 - accuracy: 0.9126 - val_loss: 1.4333 - val_accuracy: 0.6413\n",
            "Epoch 85/200\n",
            "71/71 [==============================] - 4s 54ms/step - loss: 0.2732 - accuracy: 0.9175 - val_loss: 2.1916 - val_accuracy: 0.4984\n",
            "Epoch 86/200\n",
            "71/71 [==============================] - 4s 55ms/step - loss: 0.2503 - accuracy: 0.9258 - val_loss: 2.0182 - val_accuracy: 0.4785\n",
            "Epoch 87/200\n",
            "71/71 [==============================] - 4s 55ms/step - loss: 0.2475 - accuracy: 0.9303 - val_loss: 1.5790 - val_accuracy: 0.6041\n",
            "Epoch 88/200\n",
            "71/71 [==============================] - 4s 53ms/step - loss: 0.2692 - accuracy: 0.9210 - val_loss: 0.8996 - val_accuracy: 0.7886\n",
            "Epoch 89/200\n",
            "71/71 [==============================] - 4s 53ms/step - loss: 0.2349 - accuracy: 0.9342 - val_loss: 1.1513 - val_accuracy: 0.7226\n",
            "Epoch 90/200\n",
            "71/71 [==============================] - 4s 54ms/step - loss: 0.2459 - accuracy: 0.9306 - val_loss: 1.1567 - val_accuracy: 0.7764\n",
            "Epoch 91/200\n",
            "71/71 [==============================] - 4s 52ms/step - loss: 0.2704 - accuracy: 0.9173 - val_loss: 0.9780 - val_accuracy: 0.7617\n",
            "Epoch 92/200\n",
            "71/71 [==============================] - 4s 54ms/step - loss: 0.2606 - accuracy: 0.9248 - val_loss: 1.8764 - val_accuracy: 0.5061\n",
            "Epoch 93/200\n",
            "71/71 [==============================] - 4s 55ms/step - loss: 0.2449 - accuracy: 0.9295 - val_loss: 1.5921 - val_accuracy: 0.5894\n",
            "Epoch 94/200\n",
            "71/71 [==============================] - 4s 55ms/step - loss: 0.2541 - accuracy: 0.9227 - val_loss: 2.5531 - val_accuracy: 0.4273\n",
            "Epoch 95/200\n",
            "71/71 [==============================] - 4s 55ms/step - loss: 0.2496 - accuracy: 0.9294 - val_loss: 2.1498 - val_accuracy: 0.5324\n",
            "Epoch 96/200\n",
            "71/71 [==============================] - 4s 54ms/step - loss: 0.3076 - accuracy: 0.9095 - val_loss: 0.9634 - val_accuracy: 0.7322\n",
            "Epoch 97/200\n",
            "71/71 [==============================] - 4s 53ms/step - loss: 0.3264 - accuracy: 0.9114 - val_loss: 1.5378 - val_accuracy: 0.5894\n",
            "Epoch 98/200\n",
            "71/71 [==============================] - 4s 54ms/step - loss: 0.3768 - accuracy: 0.8959 - val_loss: 1.3708 - val_accuracy: 0.5676\n",
            "Epoch 99/200\n",
            "71/71 [==============================] - 4s 54ms/step - loss: 0.2708 - accuracy: 0.9235 - val_loss: 1.1913 - val_accuracy: 0.6938\n",
            "Epoch 100/200\n",
            "71/71 [==============================] - 4s 53ms/step - loss: 0.2418 - accuracy: 0.9302 - val_loss: 1.3106 - val_accuracy: 0.6528\n",
            "Epoch 101/200\n",
            "71/71 [==============================] - 4s 53ms/step - loss: 0.2281 - accuracy: 0.9343 - val_loss: 1.5207 - val_accuracy: 0.5695\n",
            "Epoch 102/200\n",
            "71/71 [==============================] - 4s 53ms/step - loss: 0.2195 - accuracy: 0.9372 - val_loss: 2.2199 - val_accuracy: 0.4657\n",
            "Epoch 103/200\n",
            "71/71 [==============================] - 4s 54ms/step - loss: 0.2191 - accuracy: 0.9374 - val_loss: 1.3428 - val_accuracy: 0.6355\n",
            "Epoch 104/200\n",
            "71/71 [==============================] - 4s 53ms/step - loss: 0.2138 - accuracy: 0.9384 - val_loss: 1.3783 - val_accuracy: 0.6028\n",
            "Epoch 105/200\n",
            "71/71 [==============================] - 4s 53ms/step - loss: 0.2043 - accuracy: 0.9446 - val_loss: 1.6555 - val_accuracy: 0.6195\n",
            "Epoch 106/200\n",
            "71/71 [==============================] - 4s 56ms/step - loss: 0.2036 - accuracy: 0.9456 - val_loss: 1.4422 - val_accuracy: 0.5759\n",
            "Epoch 107/200\n",
            "71/71 [==============================] - 4s 54ms/step - loss: 0.1919 - accuracy: 0.9472 - val_loss: 1.4471 - val_accuracy: 0.5657\n",
            "Epoch 108/200\n",
            "71/71 [==============================] - 4s 53ms/step - loss: 0.1965 - accuracy: 0.9473 - val_loss: 1.4759 - val_accuracy: 0.5548\n",
            "Epoch 109/200\n",
            "71/71 [==============================] - 4s 53ms/step - loss: 0.1846 - accuracy: 0.9500 - val_loss: 2.0446 - val_accuracy: 0.5227\n",
            "Epoch 110/200\n",
            "71/71 [==============================] - 4s 53ms/step - loss: 0.1833 - accuracy: 0.9478 - val_loss: 1.7236 - val_accuracy: 0.5413\n",
            "Epoch 111/200\n",
            "71/71 [==============================] - 4s 53ms/step - loss: 0.1814 - accuracy: 0.9511 - val_loss: 2.0353 - val_accuracy: 0.5195\n",
            "Epoch 112/200\n",
            "71/71 [==============================] - 4s 53ms/step - loss: 0.1930 - accuracy: 0.9490 - val_loss: 1.3316 - val_accuracy: 0.5894\n",
            "Epoch 113/200\n",
            "71/71 [==============================] - 4s 54ms/step - loss: 0.1835 - accuracy: 0.9512 - val_loss: 1.6245 - val_accuracy: 0.5708\n",
            "Epoch 114/200\n",
            "71/71 [==============================] - 4s 53ms/step - loss: 0.1777 - accuracy: 0.9527 - val_loss: 1.6231 - val_accuracy: 0.5631\n",
            "Epoch 115/200\n",
            "71/71 [==============================] - 4s 55ms/step - loss: 0.1738 - accuracy: 0.9531 - val_loss: 1.6371 - val_accuracy: 0.5759\n",
            "Epoch 116/200\n",
            "71/71 [==============================] - 4s 54ms/step - loss: 0.1744 - accuracy: 0.9534 - val_loss: 1.3346 - val_accuracy: 0.6515\n",
            "Epoch 117/200\n",
            "71/71 [==============================] - 4s 53ms/step - loss: 0.1814 - accuracy: 0.9511 - val_loss: 2.4758 - val_accuracy: 0.5388\n",
            "Epoch 118/200\n",
            "71/71 [==============================] - 4s 54ms/step - loss: 0.1850 - accuracy: 0.9494 - val_loss: 1.8934 - val_accuracy: 0.5701\n",
            "Epoch 119/200\n",
            "71/71 [==============================] - 4s 54ms/step - loss: 0.1720 - accuracy: 0.9540 - val_loss: 1.9003 - val_accuracy: 0.5362\n",
            "Epoch 120/200\n",
            "71/71 [==============================] - 4s 54ms/step - loss: 0.1795 - accuracy: 0.9492 - val_loss: 1.2963 - val_accuracy: 0.6643\n",
            "Epoch 121/200\n",
            "71/71 [==============================] - 4s 54ms/step - loss: 0.2053 - accuracy: 0.9449 - val_loss: 1.8869 - val_accuracy: 0.5432\n",
            "Epoch 122/200\n",
            "71/71 [==============================] - 4s 53ms/step - loss: 0.1966 - accuracy: 0.9475 - val_loss: 2.1409 - val_accuracy: 0.5368\n",
            "Epoch 123/200\n",
            "71/71 [==============================] - 4s 53ms/step - loss: 0.1886 - accuracy: 0.9433 - val_loss: 2.4312 - val_accuracy: 0.4766\n",
            "Epoch 124/200\n",
            "71/71 [==============================] - 4s 54ms/step - loss: 0.1735 - accuracy: 0.9557 - val_loss: 2.7862 - val_accuracy: 0.4965\n",
            "Epoch 125/200\n",
            "71/71 [==============================] - 4s 54ms/step - loss: 0.1631 - accuracy: 0.9544 - val_loss: 2.4923 - val_accuracy: 0.4946\n",
            "Epoch 126/200\n",
            "71/71 [==============================] - 4s 53ms/step - loss: 0.1732 - accuracy: 0.9522 - val_loss: 1.6842 - val_accuracy: 0.6284\n",
            "Epoch 127/200\n",
            "71/71 [==============================] - 4s 54ms/step - loss: 0.1919 - accuracy: 0.9442 - val_loss: 1.2721 - val_accuracy: 0.6983\n",
            "Epoch 128/200\n",
            "71/71 [==============================] - 4s 53ms/step - loss: 0.1764 - accuracy: 0.9491 - val_loss: 2.2015 - val_accuracy: 0.5189\n",
            "Epoch 129/200\n",
            "71/71 [==============================] - 4s 53ms/step - loss: 0.1719 - accuracy: 0.9515 - val_loss: 2.1551 - val_accuracy: 0.4651\n",
            "Epoch 130/200\n",
            "71/71 [==============================] - 4s 53ms/step - loss: 0.1899 - accuracy: 0.9466 - val_loss: 2.1011 - val_accuracy: 0.4773\n",
            "Epoch 131/200\n",
            "71/71 [==============================] - 4s 54ms/step - loss: 0.2064 - accuracy: 0.9451 - val_loss: 1.0974 - val_accuracy: 0.7072\n",
            "Epoch 132/200\n",
            "71/71 [==============================] - 4s 54ms/step - loss: 0.1727 - accuracy: 0.9560 - val_loss: 2.0469 - val_accuracy: 0.5554\n",
            "Epoch 133/200\n",
            "71/71 [==============================] - 4s 54ms/step - loss: 0.1621 - accuracy: 0.9528 - val_loss: 4.4108 - val_accuracy: 0.3523\n",
            "Epoch 134/200\n",
            "71/71 [==============================] - 4s 53ms/step - loss: 0.1881 - accuracy: 0.9444 - val_loss: 1.6439 - val_accuracy: 0.6156\n",
            "Epoch 135/200\n",
            "71/71 [==============================] - 4s 52ms/step - loss: 0.1732 - accuracy: 0.9533 - val_loss: 1.4109 - val_accuracy: 0.6707\n",
            "Epoch 136/200\n",
            "71/71 [==============================] - 4s 54ms/step - loss: 0.1592 - accuracy: 0.9574 - val_loss: 1.0474 - val_accuracy: 0.7258\n",
            "Epoch 137/200\n",
            "71/71 [==============================] - 4s 54ms/step - loss: 0.1552 - accuracy: 0.9559 - val_loss: 1.8874 - val_accuracy: 0.5163\n",
            "Epoch 138/200\n",
            "71/71 [==============================] - 4s 53ms/step - loss: 0.1458 - accuracy: 0.9601 - val_loss: 1.7223 - val_accuracy: 0.5529\n",
            "Epoch 139/200\n",
            "71/71 [==============================] - 4s 54ms/step - loss: 0.1591 - accuracy: 0.9560 - val_loss: 2.9120 - val_accuracy: 0.4305\n",
            "Epoch 140/200\n",
            "71/71 [==============================] - 4s 54ms/step - loss: 0.1563 - accuracy: 0.9562 - val_loss: 2.0332 - val_accuracy: 0.5612\n",
            "Epoch 141/200\n",
            "71/71 [==============================] - 4s 54ms/step - loss: 0.1444 - accuracy: 0.9620 - val_loss: 2.0808 - val_accuracy: 0.5753\n",
            "Epoch 142/200\n",
            "71/71 [==============================] - 4s 53ms/step - loss: 0.1402 - accuracy: 0.9635 - val_loss: 1.1705 - val_accuracy: 0.7406\n",
            "Epoch 143/200\n",
            "71/71 [==============================] - 4s 54ms/step - loss: 0.1461 - accuracy: 0.9601 - val_loss: 2.1190 - val_accuracy: 0.5496\n",
            "Epoch 144/200\n",
            "71/71 [==============================] - 4s 54ms/step - loss: 0.1441 - accuracy: 0.9602 - val_loss: 2.7382 - val_accuracy: 0.4837\n",
            "Epoch 145/200\n",
            "71/71 [==============================] - 4s 54ms/step - loss: 0.1410 - accuracy: 0.9637 - val_loss: 1.3408 - val_accuracy: 0.6227\n",
            "Epoch 146/200\n",
            "71/71 [==============================] - 4s 54ms/step - loss: 0.1489 - accuracy: 0.9596 - val_loss: 1.9310 - val_accuracy: 0.5810\n",
            "Epoch 147/200\n",
            "71/71 [==============================] - 4s 54ms/step - loss: 0.1346 - accuracy: 0.9646 - val_loss: 1.9159 - val_accuracy: 0.5170\n",
            "Epoch 148/200\n",
            "71/71 [==============================] - 4s 55ms/step - loss: 0.1354 - accuracy: 0.9639 - val_loss: 1.0879 - val_accuracy: 0.6829\n",
            "Epoch 149/200\n",
            "71/71 [==============================] - 4s 55ms/step - loss: 0.1370 - accuracy: 0.9629 - val_loss: 2.7111 - val_accuracy: 0.5266\n",
            "Epoch 150/200\n",
            "71/71 [==============================] - 4s 54ms/step - loss: 0.1337 - accuracy: 0.9630 - val_loss: 2.7144 - val_accuracy: 0.5215\n",
            "Epoch 151/200\n",
            "71/71 [==============================] - 4s 54ms/step - loss: 0.1482 - accuracy: 0.9545 - val_loss: 1.7043 - val_accuracy: 0.6246\n",
            "Epoch 152/200\n",
            "71/71 [==============================] - 4s 55ms/step - loss: 0.1598 - accuracy: 0.9550 - val_loss: 1.4634 - val_accuracy: 0.5439\n",
            "Epoch 153/200\n",
            "71/71 [==============================] - 4s 53ms/step - loss: 0.1574 - accuracy: 0.9568 - val_loss: 4.7180 - val_accuracy: 0.4555\n",
            "Epoch 154/200\n",
            "71/71 [==============================] - 4s 54ms/step - loss: 0.1640 - accuracy: 0.9511 - val_loss: 1.7605 - val_accuracy: 0.5926\n",
            "Epoch 155/200\n",
            "71/71 [==============================] - 4s 55ms/step - loss: 0.1319 - accuracy: 0.9644 - val_loss: 1.6243 - val_accuracy: 0.6220\n",
            "Epoch 156/200\n",
            "71/71 [==============================] - 4s 54ms/step - loss: 0.1372 - accuracy: 0.9610 - val_loss: 2.5294 - val_accuracy: 0.5163\n",
            "Epoch 157/200\n",
            "71/71 [==============================] - 4s 55ms/step - loss: 0.1340 - accuracy: 0.9618 - val_loss: 1.1791 - val_accuracy: 0.6477\n",
            "Epoch 158/200\n",
            "71/71 [==============================] - 4s 54ms/step - loss: 0.1363 - accuracy: 0.9649 - val_loss: 2.6072 - val_accuracy: 0.5195\n",
            "Epoch 159/200\n",
            "71/71 [==============================] - 4s 54ms/step - loss: 0.1238 - accuracy: 0.9674 - val_loss: 3.4132 - val_accuracy: 0.4978\n",
            "Epoch 160/200\n",
            "71/71 [==============================] - 4s 53ms/step - loss: 0.1282 - accuracy: 0.9629 - val_loss: 3.0332 - val_accuracy: 0.5388\n",
            "Epoch 161/200\n",
            "71/71 [==============================] - 4s 54ms/step - loss: 0.1202 - accuracy: 0.9668 - val_loss: 3.1597 - val_accuracy: 0.5221\n",
            "Epoch 162/200\n",
            "71/71 [==============================] - 4s 55ms/step - loss: 0.1266 - accuracy: 0.9636 - val_loss: 2.1674 - val_accuracy: 0.5195\n",
            "Epoch 163/200\n",
            "71/71 [==============================] - 4s 55ms/step - loss: 0.1120 - accuracy: 0.9705 - val_loss: 2.9375 - val_accuracy: 0.5548\n",
            "Epoch 164/200\n",
            "71/71 [==============================] - 4s 54ms/step - loss: 0.1192 - accuracy: 0.9676 - val_loss: 0.7374 - val_accuracy: 0.8033\n",
            "Epoch 165/200\n",
            "71/71 [==============================] - 4s 55ms/step - loss: 0.1201 - accuracy: 0.9684 - val_loss: 1.9525 - val_accuracy: 0.6182\n",
            "Epoch 166/200\n",
            "71/71 [==============================] - 4s 56ms/step - loss: 0.1240 - accuracy: 0.9678 - val_loss: 6.1614 - val_accuracy: 0.4196\n",
            "Epoch 167/200\n",
            "71/71 [==============================] - 4s 55ms/step - loss: 0.1354 - accuracy: 0.9639 - val_loss: 0.8290 - val_accuracy: 0.7553\n",
            "Epoch 168/200\n",
            "71/71 [==============================] - 4s 54ms/step - loss: 0.1200 - accuracy: 0.9670 - val_loss: 2.2156 - val_accuracy: 0.4933\n",
            "Epoch 169/200\n",
            "71/71 [==============================] - 4s 54ms/step - loss: 0.1084 - accuracy: 0.9715 - val_loss: 2.7546 - val_accuracy: 0.4779\n",
            "Epoch 170/200\n",
            "71/71 [==============================] - 4s 54ms/step - loss: 0.1103 - accuracy: 0.9697 - val_loss: 3.1175 - val_accuracy: 0.4587\n",
            "Epoch 171/200\n",
            "71/71 [==============================] - 4s 54ms/step - loss: 0.1150 - accuracy: 0.9689 - val_loss: 0.9697 - val_accuracy: 0.6957\n",
            "Epoch 172/200\n",
            "71/71 [==============================] - 4s 55ms/step - loss: 0.1288 - accuracy: 0.9665 - val_loss: 1.7057 - val_accuracy: 0.5452\n",
            "Epoch 173/200\n",
            "71/71 [==============================] - 4s 56ms/step - loss: 0.1228 - accuracy: 0.9666 - val_loss: 2.1060 - val_accuracy: 0.5266\n",
            "Epoch 174/200\n",
            "71/71 [==============================] - 4s 56ms/step - loss: 0.1179 - accuracy: 0.9668 - val_loss: 1.3146 - val_accuracy: 0.6835\n",
            "Epoch 175/200\n",
            "71/71 [==============================] - 4s 54ms/step - loss: 0.1143 - accuracy: 0.9699 - val_loss: 3.3037 - val_accuracy: 0.4971\n",
            "Epoch 176/200\n",
            "71/71 [==============================] - 4s 55ms/step - loss: 0.1010 - accuracy: 0.9739 - val_loss: 4.0238 - val_accuracy: 0.4516\n",
            "Epoch 177/200\n",
            "71/71 [==============================] - 4s 54ms/step - loss: 0.1013 - accuracy: 0.9734 - val_loss: 2.4733 - val_accuracy: 0.5144\n",
            "Epoch 178/200\n",
            "71/71 [==============================] - 4s 55ms/step - loss: 0.1004 - accuracy: 0.9726 - val_loss: 2.5458 - val_accuracy: 0.4689\n",
            "Epoch 179/200\n",
            "71/71 [==============================] - 4s 56ms/step - loss: 0.1002 - accuracy: 0.9731 - val_loss: 3.9641 - val_accuracy: 0.4286\n",
            "Epoch 180/200\n",
            "71/71 [==============================] - 4s 54ms/step - loss: 0.1015 - accuracy: 0.9720 - val_loss: 2.5687 - val_accuracy: 0.5035\n",
            "Epoch 181/200\n",
            "71/71 [==============================] - 4s 54ms/step - loss: 0.0966 - accuracy: 0.9732 - val_loss: 3.0653 - val_accuracy: 0.4817\n",
            "Epoch 182/200\n",
            "71/71 [==============================] - 4s 56ms/step - loss: 0.0984 - accuracy: 0.9747 - val_loss: 1.4383 - val_accuracy: 0.6278\n",
            "Epoch 183/200\n",
            "71/71 [==============================] - 4s 55ms/step - loss: 0.0877 - accuracy: 0.9753 - val_loss: 3.1530 - val_accuracy: 0.4523\n",
            "Epoch 184/200\n",
            "71/71 [==============================] - 4s 56ms/step - loss: 0.0902 - accuracy: 0.9751 - val_loss: 3.2723 - val_accuracy: 0.4766\n",
            "Epoch 185/200\n",
            "71/71 [==============================] - 4s 55ms/step - loss: 0.0926 - accuracy: 0.9759 - val_loss: 3.9104 - val_accuracy: 0.4587\n",
            "Epoch 186/200\n",
            "71/71 [==============================] - 4s 56ms/step - loss: 0.0968 - accuracy: 0.9713 - val_loss: 2.4032 - val_accuracy: 0.5862\n",
            "Epoch 187/200\n",
            "71/71 [==============================] - 4s 54ms/step - loss: 0.1090 - accuracy: 0.9689 - val_loss: 1.1827 - val_accuracy: 0.6963\n",
            "Epoch 188/200\n",
            "71/71 [==============================] - 4s 55ms/step - loss: 0.1094 - accuracy: 0.9709 - val_loss: 2.3968 - val_accuracy: 0.5157\n",
            "Epoch 189/200\n",
            "71/71 [==============================] - 4s 55ms/step - loss: 0.1066 - accuracy: 0.9702 - val_loss: 5.0375 - val_accuracy: 0.4427\n",
            "Epoch 190/200\n",
            "71/71 [==============================] - 4s 55ms/step - loss: 0.0888 - accuracy: 0.9759 - val_loss: 1.6628 - val_accuracy: 0.5074\n",
            "Epoch 191/200\n",
            "71/71 [==============================] - 4s 54ms/step - loss: 0.0932 - accuracy: 0.9755 - val_loss: 2.6183 - val_accuracy: 0.4907\n",
            "Epoch 192/200\n",
            "71/71 [==============================] - 4s 54ms/step - loss: 0.0881 - accuracy: 0.9738 - val_loss: 3.6302 - val_accuracy: 0.4516\n",
            "Epoch 193/200\n",
            "71/71 [==============================] - 4s 54ms/step - loss: 0.0941 - accuracy: 0.9731 - val_loss: 2.7106 - val_accuracy: 0.4875\n",
            "Epoch 194/200\n",
            "71/71 [==============================] - 4s 55ms/step - loss: 0.1071 - accuracy: 0.9687 - val_loss: 2.1083 - val_accuracy: 0.4958\n",
            "Epoch 195/200\n",
            "71/71 [==============================] - 4s 54ms/step - loss: 0.1157 - accuracy: 0.9663 - val_loss: 1.0230 - val_accuracy: 0.7732\n",
            "Epoch 196/200\n",
            "71/71 [==============================] - 4s 55ms/step - loss: 0.1160 - accuracy: 0.9670 - val_loss: 1.5068 - val_accuracy: 0.5432\n",
            "Epoch 197/200\n",
            "71/71 [==============================] - 4s 55ms/step - loss: 0.1077 - accuracy: 0.9706 - val_loss: 1.5325 - val_accuracy: 0.6944\n",
            "Epoch 198/200\n",
            "71/71 [==============================] - 4s 53ms/step - loss: 0.0980 - accuracy: 0.9743 - val_loss: 0.9393 - val_accuracy: 0.7649\n",
            "Epoch 199/200\n",
            "71/71 [==============================] - 4s 55ms/step - loss: 0.0865 - accuracy: 0.9780 - val_loss: 1.9888 - val_accuracy: 0.5734\n",
            "Epoch 200/200\n",
            "71/71 [==============================] - 4s 55ms/step - loss: 0.0788 - accuracy: 0.9798 - val_loss: 2.4031 - val_accuracy: 0.5080\n"
          ],
          "name": "stdout"
        }
      ]
    },
    {
      "cell_type": "code",
      "metadata": {
        "id": "ScP8d4L0Lg-W"
      },
      "source": [
        "# model.save('prime_model.h5')"
      ],
      "execution_count": null,
      "outputs": []
    },
    {
      "cell_type": "code",
      "metadata": {
        "colab": {
          "base_uri": "https://localhost:8080/",
          "height": 338
        },
        "id": "G9XAE607mPhs",
        "outputId": "054e7d8a-9ef0-4d1a-cbca-d3c2e8d4bbab"
      },
      "source": [
        "m_acc = history.history['accuracy']\n",
        "fig, ax = plt.subplots(figsize = (15,5))\n",
        "ax.plot(m_acc, color = 'r')\n",
        "ax.plot(history.history['loss'], color = 'b')"
      ],
      "execution_count": 31,
      "outputs": [
        {
          "output_type": "execute_result",
          "data": {
            "text/plain": [
              "[<matplotlib.lines.Line2D at 0x7fe61020bb90>]"
            ]
          },
          "metadata": {
            "tags": []
          },
          "execution_count": 31
        },
        {
          "output_type": "display_data",
          "data": {
            "image/png": "[encoded data removed]",
            "text/plain": [
              "<Figure size 1080x360 with 1 Axes>"
            ]
          },
          "metadata": {
            "tags": [],
            "needs_background": "light"
          }
        }
      ]
    },
    {
      "cell_type": "code",
      "metadata": {
        "colab": {
          "base_uri": "https://localhost:8080/",
          "height": 338
        },
        "id": "iPCa-fzpPF19",
        "outputId": "b7b42036-8494-40c6-ab53-99bc726e0bc6"
      },
      "source": [
        "m_acc = history.history['accuracy']\n",
        "fig, ax = plt.subplots(figsize = (15,5))\n",
        "ax.plot(m_acc, color = 'r')\n",
        "ax.plot(history.history['val_accuracy'], color = 'b')\n",
        "# plt.legend()"
      ],
      "execution_count": 32,
      "outputs": [
        {
          "output_type": "execute_result",
          "data": {
            "text/plain": [
              "[<matplotlib.lines.Line2D at 0x7fe5c42d7990>]"
            ]
          },
          "metadata": {
            "tags": []
          },
          "execution_count": 32
        },
        {
          "output_type": "display_data",
          "data": {
            "image/png": "[encoded data removed]",
            "text/plain": [
              "<Figure size 1080x360 with 1 Axes>"
            ]
          },
          "metadata": {
            "tags": [],
            "needs_background": "light"
          }
        }
      ]
    },
    {
      "cell_type": "code",
      "metadata": {
        "colab": {
          "base_uri": "https://localhost:8080/"
        },
        "id": "N0hO7ST7rox4",
        "outputId": "c928cf11-a533-4f02-a444-de0458c2ae98"
      },
      "source": [
        "eval = model.evaluate(test_f,test_l)"
      ],
      "execution_count": 33,
      "outputs": [
        {
          "output_type": "stream",
          "text": [
            "49/49 [==============================] - 0s 8ms/step - loss: 2.4031 - accuracy: 0.5080\n"
          ],
          "name": "stdout"
        }
      ]
    },
    {
      "cell_type": "code",
      "metadata": {
        "id": "JqS4MIPXrybB"
      },
      "source": [
        "b_model = tf.keras.models.load_model('best_trained_model.h5')"
      ],
      "execution_count": 34,
      "outputs": []
    },
    {
      "cell_type": "code",
      "metadata": {
        "id": "Yi86CSU9r3eI",
        "colab": {
          "base_uri": "https://localhost:8080/"
        },
        "outputId": "7382f115-8614-4f0c-9190-1614f481eb0b"
      },
      "source": [
        "b_model.evaluate(test_f, test_l)"
      ],
      "execution_count": 35,
      "outputs": [
        {
          "output_type": "stream",
          "text": [
            "49/49 [==============================] - 1s 8ms/step - loss: 0.7374 - accuracy: 0.8033\n"
          ],
          "name": "stdout"
        },
        {
          "output_type": "execute_result",
          "data": {
            "text/plain": [
              "[0.737353503704071, 0.803331196308136]"
            ]
          },
          "metadata": {
            "tags": []
          },
          "execution_count": 35
        }
      ]
    },
    {
      "cell_type": "code",
      "metadata": {
        "id": "6p9xDKyVQcVe",
        "colab": {
          "base_uri": "https://localhost:8080/"
        },
        "outputId": "59e1caaf-4999-416b-f528-fdd61e7d9803"
      },
      "source": [
        "test_pred = b_model.predict_classes(test_f)"
      ],
      "execution_count": 36,
      "outputs": [
        {
          "output_type": "stream",
          "text": [
            "/usr/local/lib/python3.7/dist-packages/tensorflow/python/keras/engine/sequential.py:450: UserWarning: `model.predict_classes()` is deprecated and will be removed after 2021-01-01. Please use instead:* `np.argmax(model.predict(x), axis=-1)`,   if your model does multi-class classification   (e.g. if it uses a `softmax` last-layer activation).* `(model.predict(x) > 0.5).astype(\"int32\")`,   if your model does binary classification   (e.g. if it uses a `sigmoid` last-layer activation).\n",
            "  warnings.warn('`model.predict_classes()` is deprecated and '\n"
          ],
          "name": "stderr"
        }
      ]
    },
    {
      "cell_type": "code",
      "metadata": {
        "colab": {
          "base_uri": "https://localhost:8080/"
        },
        "id": "RvziiR0ZhfhR",
        "outputId": "575ea945-1228-47b7-9fd7-3c8374a522ea"
      },
      "source": [
        "test_pred"
      ],
      "execution_count": 37,
      "outputs": [
        {
          "output_type": "execute_result",
          "data": {
            "text/plain": [
              "array([1, 1, 1, ..., 0, 0, 0])"
            ]
          },
          "metadata": {
            "tags": []
          },
          "execution_count": 37
        }
      ]
    },
    {
      "cell_type": "code",
      "metadata": {
        "id": "LYbtn8EVh1nr",
        "colab": {
          "base_uri": "https://localhost:8080/"
        },
        "outputId": "bb01d4fd-edd6-49a9-e322-5f84bcddbfdd"
      },
      "source": [
        "test_l.shape"
      ],
      "execution_count": 38,
      "outputs": [
        {
          "output_type": "execute_result",
          "data": {
            "text/plain": [
              "(1561, 6)"
            ]
          },
          "metadata": {
            "tags": []
          },
          "execution_count": 38
        }
      ]
    },
    {
      "cell_type": "code",
      "metadata": {
        "id": "VIcU_Ep8uSNu"
      },
      "source": [
        "from sklearn.preprocessing import OneHotEncoder"
      ],
      "execution_count": 41,
      "outputs": []
    },
    {
      "cell_type": "code",
      "metadata": {
        "id": "r3X35XLfuLpl"
      },
      "source": [
        "\n",
        "test_pr = OneHotEncoder().fit_transform(test_pred.reshape(-1,1))"
      ],
      "execution_count": 43,
      "outputs": []
    },
    {
      "cell_type": "code",
      "metadata": {
        "colab": {
          "base_uri": "https://localhost:8080/"
        },
        "id": "yHkabBoFuolc",
        "outputId": "c382b1dd-d515-4112-ba9d-7a243024931e"
      },
      "source": [
        "test_pr.shape"
      ],
      "execution_count": 44,
      "outputs": [
        {
          "output_type": "execute_result",
          "data": {
            "text/plain": [
              "(1561, 6)"
            ]
          },
          "metadata": {
            "tags": []
          },
          "execution_count": 44
        }
      ]
    },
    {
      "cell_type": "code",
      "metadata": {
        "id": "-7IJK3uGVRE9",
        "colab": {
          "base_uri": "https://localhost:8080/",
          "height": 449
        },
        "outputId": "3767fe35-4c78-42cb-b176-2e480e6109d4"
      },
      "source": [
        "con = tf.math.confusion_matrix(test_l, test_pr)"
      ],
      "execution_count": 45,
      "outputs": [
        {
          "output_type": "error",
          "ename": "ValueError",
          "evalue": "ignored",
          "traceback": [
            "\u001b[0;31m---------------------------------------------------------------------------\u001b[0m",
            "\u001b[0;31mValueError\u001b[0m                                Traceback (most recent call last)",
            "\u001b[0;32m<ipython-input-45-7d121f7fedbb>\u001b[0m in \u001b[0;36m<module>\u001b[0;34m()\u001b[0m\n\u001b[0;32m----> 1\u001b[0;31m \u001b[0mcon\u001b[0m \u001b[0;34m=\u001b[0m \u001b[0mtf\u001b[0m\u001b[0;34m.\u001b[0m\u001b[0mmath\u001b[0m\u001b[0;34m.\u001b[0m\u001b[0mconfusion_matrix\u001b[0m\u001b[0;34m(\u001b[0m\u001b[0mtest_l\u001b[0m\u001b[0;34m,\u001b[0m \u001b[0mtest_pr\u001b[0m\u001b[0;34m)\u001b[0m\u001b[0;34m\u001b[0m\u001b[0;34m\u001b[0m\u001b[0m\n\u001b[0m",
            "\u001b[0;32m/usr/local/lib/python3.7/dist-packages/tensorflow/python/util/dispatch.py\u001b[0m in \u001b[0;36mwrapper\u001b[0;34m(*args, **kwargs)\u001b[0m\n\u001b[1;32m    199\u001b[0m     \u001b[0;34m\"\"\"Call target, and fall back on dispatchers if there is a TypeError.\"\"\"\u001b[0m\u001b[0;34m\u001b[0m\u001b[0;34m\u001b[0m\u001b[0m\n\u001b[1;32m    200\u001b[0m     \u001b[0;32mtry\u001b[0m\u001b[0;34m:\u001b[0m\u001b[0;34m\u001b[0m\u001b[0;34m\u001b[0m\u001b[0m\n\u001b[0;32m--> 201\u001b[0;31m       \u001b[0;32mreturn\u001b[0m \u001b[0mtarget\u001b[0m\u001b[0;34m(\u001b[0m\u001b[0;34m*\u001b[0m\u001b[0margs\u001b[0m\u001b[0;34m,\u001b[0m \u001b[0;34m**\u001b[0m\u001b[0mkwargs\u001b[0m\u001b[0;34m)\u001b[0m\u001b[0;34m\u001b[0m\u001b[0;34m\u001b[0m\u001b[0m\n\u001b[0m\u001b[1;32m    202\u001b[0m     \u001b[0;32mexcept\u001b[0m \u001b[0;34m(\u001b[0m\u001b[0mTypeError\u001b[0m\u001b[0;34m,\u001b[0m \u001b[0mValueError\u001b[0m\u001b[0;34m)\u001b[0m\u001b[0;34m:\u001b[0m\u001b[0;34m\u001b[0m\u001b[0;34m\u001b[0m\u001b[0m\n\u001b[1;32m    203\u001b[0m       \u001b[0;31m# Note: convert_to_eager_tensor currently raises a ValueError, not a\u001b[0m\u001b[0;34m\u001b[0m\u001b[0;34m\u001b[0m\u001b[0;34m\u001b[0m\u001b[0m\n",
            "\u001b[0;32m/usr/local/lib/python3.7/dist-packages/tensorflow/python/ops/confusion_matrix.py\u001b[0m in \u001b[0;36mconfusion_matrix\u001b[0;34m(labels, predictions, num_classes, weights, dtype, name)\u001b[0m\n\u001b[1;32m    155\u001b[0m         \u001b[0mops\u001b[0m\u001b[0;34m.\u001b[0m\u001b[0mconvert_to_tensor\u001b[0m\u001b[0;34m(\u001b[0m\u001b[0mlabels\u001b[0m\u001b[0;34m,\u001b[0m \u001b[0mname\u001b[0m\u001b[0;34m=\u001b[0m\u001b[0;34m'labels'\u001b[0m\u001b[0;34m)\u001b[0m\u001b[0;34m,\u001b[0m\u001b[0;34m\u001b[0m\u001b[0;34m\u001b[0m\u001b[0m\n\u001b[1;32m    156\u001b[0m         ops.convert_to_tensor(\n\u001b[0;32m--> 157\u001b[0;31m             predictions, name='predictions'))\n\u001b[0m\u001b[1;32m    158\u001b[0m     \u001b[0mpredictions\u001b[0m \u001b[0;34m=\u001b[0m \u001b[0mmath_ops\u001b[0m\u001b[0;34m.\u001b[0m\u001b[0mcast\u001b[0m\u001b[0;34m(\u001b[0m\u001b[0mpredictions\u001b[0m\u001b[0;34m,\u001b[0m \u001b[0mdtypes\u001b[0m\u001b[0;34m.\u001b[0m\u001b[0mint64\u001b[0m\u001b[0;34m)\u001b[0m\u001b[0;34m\u001b[0m\u001b[0;34m\u001b[0m\u001b[0m\n\u001b[1;32m    159\u001b[0m     \u001b[0mlabels\u001b[0m \u001b[0;34m=\u001b[0m \u001b[0mmath_ops\u001b[0m\u001b[0;34m.\u001b[0m\u001b[0mcast\u001b[0m\u001b[0;34m(\u001b[0m\u001b[0mlabels\u001b[0m\u001b[0;34m,\u001b[0m \u001b[0mdtypes\u001b[0m\u001b[0;34m.\u001b[0m\u001b[0mint64\u001b[0m\u001b[0;34m)\u001b[0m\u001b[0;34m\u001b[0m\u001b[0;34m\u001b[0m\u001b[0m\n",
            "\u001b[0;32m/usr/local/lib/python3.7/dist-packages/tensorflow/python/profiler/trace.py\u001b[0m in \u001b[0;36mwrapped\u001b[0;34m(*args, **kwargs)\u001b[0m\n\u001b[1;32m    161\u001b[0m         \u001b[0;32mwith\u001b[0m \u001b[0mTrace\u001b[0m\u001b[0;34m(\u001b[0m\u001b[0mtrace_name\u001b[0m\u001b[0;34m,\u001b[0m \u001b[0;34m**\u001b[0m\u001b[0mtrace_kwargs\u001b[0m\u001b[0;34m)\u001b[0m\u001b[0;34m:\u001b[0m\u001b[0;34m\u001b[0m\u001b[0;34m\u001b[0m\u001b[0m\n\u001b[1;32m    162\u001b[0m           \u001b[0;32mreturn\u001b[0m \u001b[0mfunc\u001b[0m\u001b[0;34m(\u001b[0m\u001b[0;34m*\u001b[0m\u001b[0margs\u001b[0m\u001b[0;34m,\u001b[0m \u001b[0;34m**\u001b[0m\u001b[0mkwargs\u001b[0m\u001b[0;34m)\u001b[0m\u001b[0;34m\u001b[0m\u001b[0;34m\u001b[0m\u001b[0m\n\u001b[0;32m--> 163\u001b[0;31m       \u001b[0;32mreturn\u001b[0m \u001b[0mfunc\u001b[0m\u001b[0;34m(\u001b[0m\u001b[0;34m*\u001b[0m\u001b[0margs\u001b[0m\u001b[0;34m,\u001b[0m \u001b[0;34m**\u001b[0m\u001b[0mkwargs\u001b[0m\u001b[0;34m)\u001b[0m\u001b[0;34m\u001b[0m\u001b[0;34m\u001b[0m\u001b[0m\n\u001b[0m\u001b[1;32m    164\u001b[0m \u001b[0;34m\u001b[0m\u001b[0m\n\u001b[1;32m    165\u001b[0m     \u001b[0;32mreturn\u001b[0m \u001b[0mwrapped\u001b[0m\u001b[0;34m\u001b[0m\u001b[0;34m\u001b[0m\u001b[0m\n",
            "\u001b[0;32m/usr/local/lib/python3.7/dist-packages/tensorflow/python/framework/ops.py\u001b[0m in \u001b[0;36mconvert_to_tensor\u001b[0;34m(value, dtype, name, as_ref, preferred_dtype, dtype_hint, ctx, accepted_result_types)\u001b[0m\n\u001b[1;32m   1538\u001b[0m \u001b[0;34m\u001b[0m\u001b[0m\n\u001b[1;32m   1539\u001b[0m     \u001b[0;32mif\u001b[0m \u001b[0mret\u001b[0m \u001b[0;32mis\u001b[0m \u001b[0;32mNone\u001b[0m\u001b[0;34m:\u001b[0m\u001b[0;34m\u001b[0m\u001b[0;34m\u001b[0m\u001b[0m\n\u001b[0;32m-> 1540\u001b[0;31m       \u001b[0mret\u001b[0m \u001b[0;34m=\u001b[0m \u001b[0mconversion_func\u001b[0m\u001b[0;34m(\u001b[0m\u001b[0mvalue\u001b[0m\u001b[0;34m,\u001b[0m \u001b[0mdtype\u001b[0m\u001b[0;34m=\u001b[0m\u001b[0mdtype\u001b[0m\u001b[0;34m,\u001b[0m \u001b[0mname\u001b[0m\u001b[0;34m=\u001b[0m\u001b[0mname\u001b[0m\u001b[0;34m,\u001b[0m \u001b[0mas_ref\u001b[0m\u001b[0;34m=\u001b[0m\u001b[0mas_ref\u001b[0m\u001b[0;34m)\u001b[0m\u001b[0;34m\u001b[0m\u001b[0;34m\u001b[0m\u001b[0m\n\u001b[0m\u001b[1;32m   1541\u001b[0m \u001b[0;34m\u001b[0m\u001b[0m\n\u001b[1;32m   1542\u001b[0m     \u001b[0;32mif\u001b[0m \u001b[0mret\u001b[0m \u001b[0;32mis\u001b[0m \u001b[0mNotImplemented\u001b[0m\u001b[0;34m:\u001b[0m\u001b[0;34m\u001b[0m\u001b[0;34m\u001b[0m\u001b[0m\n",
            "\u001b[0;32m/usr/local/lib/python3.7/dist-packages/tensorflow/python/framework/constant_op.py\u001b[0m in \u001b[0;36m_constant_tensor_conversion_function\u001b[0;34m(v, dtype, name, as_ref)\u001b[0m\n\u001b[1;32m    337\u001b[0m                                          as_ref=False):\n\u001b[1;32m    338\u001b[0m   \u001b[0m_\u001b[0m \u001b[0;34m=\u001b[0m \u001b[0mas_ref\u001b[0m\u001b[0;34m\u001b[0m\u001b[0;34m\u001b[0m\u001b[0m\n\u001b[0;32m--> 339\u001b[0;31m   \u001b[0;32mreturn\u001b[0m \u001b[0mconstant\u001b[0m\u001b[0;34m(\u001b[0m\u001b[0mv\u001b[0m\u001b[0;34m,\u001b[0m \u001b[0mdtype\u001b[0m\u001b[0;34m=\u001b[0m\u001b[0mdtype\u001b[0m\u001b[0;34m,\u001b[0m \u001b[0mname\u001b[0m\u001b[0;34m=\u001b[0m\u001b[0mname\u001b[0m\u001b[0;34m)\u001b[0m\u001b[0;34m\u001b[0m\u001b[0;34m\u001b[0m\u001b[0m\n\u001b[0m\u001b[1;32m    340\u001b[0m \u001b[0;34m\u001b[0m\u001b[0m\n\u001b[1;32m    341\u001b[0m \u001b[0;34m\u001b[0m\u001b[0m\n",
            "\u001b[0;32m/usr/local/lib/python3.7/dist-packages/tensorflow/python/framework/constant_op.py\u001b[0m in \u001b[0;36mconstant\u001b[0;34m(value, dtype, shape, name)\u001b[0m\n\u001b[1;32m    263\u001b[0m   \"\"\"\n\u001b[1;32m    264\u001b[0m   return _constant_impl(value, dtype, shape, name, verify_shape=False,\n\u001b[0;32m--> 265\u001b[0;31m                         allow_broadcast=True)\n\u001b[0m\u001b[1;32m    266\u001b[0m \u001b[0;34m\u001b[0m\u001b[0m\n\u001b[1;32m    267\u001b[0m \u001b[0;34m\u001b[0m\u001b[0m\n",
            "\u001b[0;32m/usr/local/lib/python3.7/dist-packages/tensorflow/python/framework/constant_op.py\u001b[0m in \u001b[0;36m_constant_impl\u001b[0;34m(value, dtype, shape, name, verify_shape, allow_broadcast)\u001b[0m\n\u001b[1;32m    274\u001b[0m       \u001b[0;32mwith\u001b[0m \u001b[0mtrace\u001b[0m\u001b[0;34m.\u001b[0m\u001b[0mTrace\u001b[0m\u001b[0;34m(\u001b[0m\u001b[0;34m\"tf.constant\"\u001b[0m\u001b[0;34m)\u001b[0m\u001b[0;34m:\u001b[0m\u001b[0;34m\u001b[0m\u001b[0;34m\u001b[0m\u001b[0m\n\u001b[1;32m    275\u001b[0m         \u001b[0;32mreturn\u001b[0m \u001b[0m_constant_eager_impl\u001b[0m\u001b[0;34m(\u001b[0m\u001b[0mctx\u001b[0m\u001b[0;34m,\u001b[0m \u001b[0mvalue\u001b[0m\u001b[0;34m,\u001b[0m \u001b[0mdtype\u001b[0m\u001b[0;34m,\u001b[0m \u001b[0mshape\u001b[0m\u001b[0;34m,\u001b[0m \u001b[0mverify_shape\u001b[0m\u001b[0;34m)\u001b[0m\u001b[0;34m\u001b[0m\u001b[0;34m\u001b[0m\u001b[0m\n\u001b[0;32m--> 276\u001b[0;31m     \u001b[0;32mreturn\u001b[0m \u001b[0m_constant_eager_impl\u001b[0m\u001b[0;34m(\u001b[0m\u001b[0mctx\u001b[0m\u001b[0;34m,\u001b[0m \u001b[0mvalue\u001b[0m\u001b[0;34m,\u001b[0m \u001b[0mdtype\u001b[0m\u001b[0;34m,\u001b[0m \u001b[0mshape\u001b[0m\u001b[0;34m,\u001b[0m \u001b[0mverify_shape\u001b[0m\u001b[0;34m)\u001b[0m\u001b[0;34m\u001b[0m\u001b[0;34m\u001b[0m\u001b[0m\n\u001b[0m\u001b[1;32m    277\u001b[0m \u001b[0;34m\u001b[0m\u001b[0m\n\u001b[1;32m    278\u001b[0m   \u001b[0mg\u001b[0m \u001b[0;34m=\u001b[0m \u001b[0mops\u001b[0m\u001b[0;34m.\u001b[0m\u001b[0mget_default_graph\u001b[0m\u001b[0;34m(\u001b[0m\u001b[0;34m)\u001b[0m\u001b[0;34m\u001b[0m\u001b[0;34m\u001b[0m\u001b[0m\n",
            "\u001b[0;32m/usr/local/lib/python3.7/dist-packages/tensorflow/python/framework/constant_op.py\u001b[0m in \u001b[0;36m_constant_eager_impl\u001b[0;34m(ctx, value, dtype, shape, verify_shape)\u001b[0m\n\u001b[1;32m    299\u001b[0m \u001b[0;32mdef\u001b[0m \u001b[0m_constant_eager_impl\u001b[0m\u001b[0;34m(\u001b[0m\u001b[0mctx\u001b[0m\u001b[0;34m,\u001b[0m \u001b[0mvalue\u001b[0m\u001b[0;34m,\u001b[0m \u001b[0mdtype\u001b[0m\u001b[0;34m,\u001b[0m \u001b[0mshape\u001b[0m\u001b[0;34m,\u001b[0m \u001b[0mverify_shape\u001b[0m\u001b[0;34m)\u001b[0m\u001b[0;34m:\u001b[0m\u001b[0;34m\u001b[0m\u001b[0;34m\u001b[0m\u001b[0m\n\u001b[1;32m    300\u001b[0m   \u001b[0;34m\"\"\"Implementation of eager constant.\"\"\"\u001b[0m\u001b[0;34m\u001b[0m\u001b[0;34m\u001b[0m\u001b[0m\n\u001b[0;32m--> 301\u001b[0;31m   \u001b[0mt\u001b[0m \u001b[0;34m=\u001b[0m \u001b[0mconvert_to_eager_tensor\u001b[0m\u001b[0;34m(\u001b[0m\u001b[0mvalue\u001b[0m\u001b[0;34m,\u001b[0m \u001b[0mctx\u001b[0m\u001b[0;34m,\u001b[0m \u001b[0mdtype\u001b[0m\u001b[0;34m)\u001b[0m\u001b[0;34m\u001b[0m\u001b[0;34m\u001b[0m\u001b[0m\n\u001b[0m\u001b[1;32m    302\u001b[0m   \u001b[0;32mif\u001b[0m \u001b[0mshape\u001b[0m \u001b[0;32mis\u001b[0m \u001b[0;32mNone\u001b[0m\u001b[0;34m:\u001b[0m\u001b[0;34m\u001b[0m\u001b[0;34m\u001b[0m\u001b[0m\n\u001b[1;32m    303\u001b[0m     \u001b[0;32mreturn\u001b[0m \u001b[0mt\u001b[0m\u001b[0;34m\u001b[0m\u001b[0;34m\u001b[0m\u001b[0m\n",
            "\u001b[0;32m/usr/local/lib/python3.7/dist-packages/tensorflow/python/framework/constant_op.py\u001b[0m in \u001b[0;36mconvert_to_eager_tensor\u001b[0;34m(value, ctx, dtype)\u001b[0m\n\u001b[1;32m     96\u001b[0m       \u001b[0mdtype\u001b[0m \u001b[0;34m=\u001b[0m \u001b[0mdtypes\u001b[0m\u001b[0;34m.\u001b[0m\u001b[0mas_dtype\u001b[0m\u001b[0;34m(\u001b[0m\u001b[0mdtype\u001b[0m\u001b[0;34m)\u001b[0m\u001b[0;34m.\u001b[0m\u001b[0mas_datatype_enum\u001b[0m\u001b[0;34m\u001b[0m\u001b[0;34m\u001b[0m\u001b[0m\n\u001b[1;32m     97\u001b[0m   \u001b[0mctx\u001b[0m\u001b[0;34m.\u001b[0m\u001b[0mensure_initialized\u001b[0m\u001b[0;34m(\u001b[0m\u001b[0;34m)\u001b[0m\u001b[0;34m\u001b[0m\u001b[0;34m\u001b[0m\u001b[0m\n\u001b[0;32m---> 98\u001b[0;31m   \u001b[0;32mreturn\u001b[0m \u001b[0mops\u001b[0m\u001b[0;34m.\u001b[0m\u001b[0mEagerTensor\u001b[0m\u001b[0;34m(\u001b[0m\u001b[0mvalue\u001b[0m\u001b[0;34m,\u001b[0m \u001b[0mctx\u001b[0m\u001b[0;34m.\u001b[0m\u001b[0mdevice_name\u001b[0m\u001b[0;34m,\u001b[0m \u001b[0mdtype\u001b[0m\u001b[0;34m)\u001b[0m\u001b[0;34m\u001b[0m\u001b[0;34m\u001b[0m\u001b[0m\n\u001b[0m\u001b[1;32m     99\u001b[0m \u001b[0;34m\u001b[0m\u001b[0m\n\u001b[1;32m    100\u001b[0m \u001b[0;34m\u001b[0m\u001b[0m\n",
            "\u001b[0;31mValueError\u001b[0m: TypeError: sparse matrix length is ambiguous; use getnnz() or shape[0]\nTraceback (most recent call last):\n\n  File \"/usr/local/lib/python3.7/dist-packages/scipy/sparse/base.py\", line 295, in __len__\n    raise TypeError(\"sparse matrix length is ambiguous; use getnnz()\"\n\nTypeError: sparse matrix length is ambiguous; use getnnz() or shape[0]\n\n"
          ]
        }
      ]
    },
    {
      "cell_type": "code",
      "metadata": {
        "id": "Ot829cnfVRCm"
      },
      "source": [
        ""
      ],
      "execution_count": null,
      "outputs": []
    },
    {
      "cell_type": "code",
      "metadata": {
        "id": "99NloevHxfAb"
      },
      "source": [
        "# # adding globel average pooling to the model\n",
        "# codding lstm layers and cnn\n",
        "model_bi_dir = tf.keras.models.Sequential([\n",
        "  tf.keras.layers.Lambda(lambda x: x,\n",
        "                      input_shape=[128, 3]),\n",
        "  tf.keras.layers.Bidirectional(tf.keras.layers.LSTM(32, return_sequences=True)),\n",
        "  tf.keras.layers.Bidirectional(tf.keras.layers.LSTM(32, return_sequences=True)),\n",
        "  tf.keras.layers.SpatialDropout1D(0.4),\n",
        "  tf.keras.layers.Lambda(lambda x: tf.expand_dims(x, axis=-1)),\n",
        "  tf.keras.layers.Conv2D(64,5,strides=(2,2)),\n",
        "  tf.keras.layers.MaxPooling2D((2, 2), strides = (2,2)),\n",
        "  \n",
        "  tf.keras.layers.Conv2D(128,3,strides=(1,1)),  \n",
        "  tf.keras.layers.GlobalAveragePooling2D(),\n",
        "  # tf.keras.layers.Lambda(lambda x: tf.expand_dims(x, axis=-1)),\n",
        "  # parameters ?\n",
        "  tf.keras.layers.BatchNormalization(),\n",
        "  tf.keras.layers.Dense(6, activation='softmax')\n",
        "  \n",
        "])"
      ],
      "execution_count": 53,
      "outputs": []
    },
    {
      "cell_type": "code",
      "metadata": {
        "colab": {
          "base_uri": "https://localhost:8080/"
        },
        "id": "Jw8EoHyiVn_F",
        "outputId": "944e554c-57b7-42e3-a287-a5e872a48eb2"
      },
      "source": [
        "model_bi_dir.summary()"
      ],
      "execution_count": 54,
      "outputs": [
        {
          "output_type": "stream",
          "text": [
            "Model: \"sequential_2\"\n",
            "_________________________________________________________________\n",
            "Layer (type)                 Output Shape              Param #   \n",
            "=================================================================\n",
            "lambda_4 (Lambda)            (None, 128, 3)            0         \n",
            "_________________________________________________________________\n",
            "bidirectional_2 (Bidirection (None, 128, 64)           9216      \n",
            "_________________________________________________________________\n",
            "bidirectional_3 (Bidirection (None, 128, 64)           24832     \n",
            "_________________________________________________________________\n",
            "spatial_dropout1d (SpatialDr (None, 128, 64)           0         \n",
            "_________________________________________________________________\n",
            "lambda_5 (Lambda)            (None, 128, 64, 1)        0         \n",
            "_________________________________________________________________\n",
            "conv2d_4 (Conv2D)            (None, 62, 30, 64)        1664      \n",
            "_________________________________________________________________\n",
            "max_pooling2d_2 (MaxPooling2 (None, 31, 15, 64)        0         \n",
            "_________________________________________________________________\n",
            "conv2d_5 (Conv2D)            (None, 29, 13, 128)       73856     \n",
            "_________________________________________________________________\n",
            "global_average_pooling2d_2 ( (None, 128)               0         \n",
            "_________________________________________________________________\n",
            "batch_normalization_2 (Batch (None, 128)               512       \n",
            "_________________________________________________________________\n",
            "dense_2 (Dense)              (None, 6)                 774       \n",
            "=================================================================\n",
            "Total params: 110,854\n",
            "Trainable params: 110,598\n",
            "Non-trainable params: 256\n",
            "_________________________________________________________________\n"
          ],
          "name": "stdout"
        }
      ]
    },
    {
      "cell_type": "code",
      "metadata": {
        "id": "dbEpOTIGVQ_y"
      },
      "source": [
        "from tensorflow.keras.callbacks import ModelCheckpoint\n",
        "save_bi = ModelCheckpoint('best_trained_model_bi.h5', save_best_only = True)"
      ],
      "execution_count": 55,
      "outputs": []
    },
    {
      "cell_type": "code",
      "metadata": {
        "colab": {
          "base_uri": "https://localhost:8080/"
        },
        "id": "ajObWSLDVQ7r",
        "outputId": "c5611ca6-9eeb-4d1d-b18b-793d2a8ce75b"
      },
      "source": [
        "optimizer = tf.keras.optimizers.Adam(0.001)\n",
        "model_bi_dir.compile(loss=\"categorical_crossentropy\", optimizer=optimizer, metrics = ['accuracy'])\n",
        "\n",
        "history = model_bi_dir.fit(train_windowed, validation_data=(test_f, test_l), epochs=200,callbacks=[save], verbose=1, batch_size=192)"
      ],
      "execution_count": 56,
      "outputs": [
        {
          "output_type": "stream",
          "text": [
            "Epoch 1/200\n",
            "71/71 [==============================] - 10s 84ms/step - loss: 1.3896 - accuracy: 0.5678 - val_loss: 1.6061 - val_accuracy: 0.3555\n",
            "Epoch 2/200\n",
            "71/71 [==============================] - 5s 64ms/step - loss: 1.0909 - accuracy: 0.6656 - val_loss: 1.5498 - val_accuracy: 0.3555\n",
            "Epoch 3/200\n",
            "71/71 [==============================] - 5s 64ms/step - loss: 1.0026 - accuracy: 0.6953 - val_loss: 1.5222 - val_accuracy: 0.3555\n",
            "Epoch 4/200\n",
            "71/71 [==============================] - 5s 65ms/step - loss: 0.9430 - accuracy: 0.7129 - val_loss: 1.4389 - val_accuracy: 0.3555\n",
            "Epoch 5/200\n",
            "71/71 [==============================] - 5s 64ms/step - loss: 0.9201 - accuracy: 0.7082 - val_loss: 1.3466 - val_accuracy: 0.3799\n",
            "Epoch 6/200\n",
            "71/71 [==============================] - 5s 64ms/step - loss: 0.9041 - accuracy: 0.7128 - val_loss: 1.2877 - val_accuracy: 0.5093\n",
            "Epoch 7/200\n",
            "71/71 [==============================] - 5s 63ms/step - loss: 0.8689 - accuracy: 0.7236 - val_loss: 1.4672 - val_accuracy: 0.3690\n",
            "Epoch 8/200\n",
            "71/71 [==============================] - 5s 64ms/step - loss: 0.8535 - accuracy: 0.7252 - val_loss: 1.0907 - val_accuracy: 0.6534\n",
            "Epoch 9/200\n",
            "71/71 [==============================] - 5s 64ms/step - loss: 0.8239 - accuracy: 0.7420 - val_loss: 1.0131 - val_accuracy: 0.6406\n",
            "Epoch 10/200\n",
            "71/71 [==============================] - 5s 64ms/step - loss: 0.7936 - accuracy: 0.7487 - val_loss: 1.4577 - val_accuracy: 0.5151\n",
            "Epoch 11/200\n",
            "71/71 [==============================] - 5s 64ms/step - loss: 0.8122 - accuracy: 0.7406 - val_loss: 1.6157 - val_accuracy: 0.3889\n",
            "Epoch 12/200\n",
            "71/71 [==============================] - 5s 65ms/step - loss: 0.7883 - accuracy: 0.7471 - val_loss: 0.9001 - val_accuracy: 0.7002\n",
            "Epoch 13/200\n",
            "71/71 [==============================] - 5s 66ms/step - loss: 0.7545 - accuracy: 0.7507 - val_loss: 1.4986 - val_accuracy: 0.4612\n",
            "Epoch 14/200\n",
            "71/71 [==============================] - 5s 64ms/step - loss: 0.7399 - accuracy: 0.7601 - val_loss: 2.4568 - val_accuracy: 0.2345\n",
            "Epoch 15/200\n",
            "71/71 [==============================] - 5s 64ms/step - loss: 0.7230 - accuracy: 0.7673 - val_loss: 1.2135 - val_accuracy: 0.6220\n",
            "Epoch 16/200\n",
            "71/71 [==============================] - 5s 65ms/step - loss: 0.7141 - accuracy: 0.7704 - val_loss: 1.7406 - val_accuracy: 0.3498\n",
            "Epoch 17/200\n",
            "71/71 [==============================] - 5s 65ms/step - loss: 0.7074 - accuracy: 0.7753 - val_loss: 1.9797 - val_accuracy: 0.2710\n",
            "Epoch 18/200\n",
            "71/71 [==============================] - 5s 66ms/step - loss: 0.6816 - accuracy: 0.7834 - val_loss: 1.3583 - val_accuracy: 0.4811\n",
            "Epoch 19/200\n",
            "71/71 [==============================] - 5s 64ms/step - loss: 0.6794 - accuracy: 0.7848 - val_loss: 0.9651 - val_accuracy: 0.6387\n",
            "Epoch 20/200\n",
            "71/71 [==============================] - 5s 64ms/step - loss: 0.6563 - accuracy: 0.7887 - val_loss: 0.8953 - val_accuracy: 0.6976\n",
            "Epoch 21/200\n",
            "71/71 [==============================] - 5s 66ms/step - loss: 0.6416 - accuracy: 0.7951 - val_loss: 1.1295 - val_accuracy: 0.6797\n",
            "Epoch 22/200\n",
            "71/71 [==============================] - 5s 67ms/step - loss: 0.6178 - accuracy: 0.8037 - val_loss: 0.8014 - val_accuracy: 0.7578\n",
            "Epoch 23/200\n",
            "71/71 [==============================] - 5s 66ms/step - loss: 0.5991 - accuracy: 0.8051 - val_loss: 0.7241 - val_accuracy: 0.7194\n",
            "Epoch 24/200\n",
            "71/71 [==============================] - 5s 64ms/step - loss: 0.5751 - accuracy: 0.8159 - val_loss: 0.8596 - val_accuracy: 0.7092\n",
            "Epoch 25/200\n",
            "71/71 [==============================] - 5s 65ms/step - loss: 0.5528 - accuracy: 0.8218 - val_loss: 1.6453 - val_accuracy: 0.4933\n",
            "Epoch 26/200\n",
            "71/71 [==============================] - 5s 66ms/step - loss: 0.5453 - accuracy: 0.8262 - val_loss: 1.0575 - val_accuracy: 0.5868\n",
            "Epoch 27/200\n",
            "71/71 [==============================] - 5s 65ms/step - loss: 0.5360 - accuracy: 0.8310 - val_loss: 1.8895 - val_accuracy: 0.3498\n",
            "Epoch 28/200\n",
            "71/71 [==============================] - 5s 66ms/step - loss: 0.5227 - accuracy: 0.8349 - val_loss: 1.4972 - val_accuracy: 0.6169\n",
            "Epoch 29/200\n",
            "71/71 [==============================] - 5s 64ms/step - loss: 0.5250 - accuracy: 0.8358 - val_loss: 1.1093 - val_accuracy: 0.7207\n",
            "Epoch 30/200\n",
            "71/71 [==============================] - 5s 67ms/step - loss: 0.5101 - accuracy: 0.8402 - val_loss: 0.5892 - val_accuracy: 0.8270\n",
            "Epoch 31/200\n",
            "71/71 [==============================] - 5s 65ms/step - loss: 0.5040 - accuracy: 0.8408 - val_loss: 0.7281 - val_accuracy: 0.7098\n",
            "Epoch 32/200\n",
            "71/71 [==============================] - 5s 65ms/step - loss: 0.4736 - accuracy: 0.8529 - val_loss: 1.3366 - val_accuracy: 0.5766\n",
            "Epoch 33/200\n",
            "71/71 [==============================] - 5s 66ms/step - loss: 0.4758 - accuracy: 0.8508 - val_loss: 1.4262 - val_accuracy: 0.6156\n",
            "Epoch 34/200\n",
            "71/71 [==============================] - 5s 65ms/step - loss: 0.4602 - accuracy: 0.8503 - val_loss: 1.9743 - val_accuracy: 0.5682\n",
            "Epoch 35/200\n",
            "71/71 [==============================] - 5s 66ms/step - loss: 0.4596 - accuracy: 0.8556 - val_loss: 2.0122 - val_accuracy: 0.5426\n",
            "Epoch 36/200\n",
            "71/71 [==============================] - 5s 66ms/step - loss: 0.4690 - accuracy: 0.8599 - val_loss: 1.8813 - val_accuracy: 0.5535\n",
            "Epoch 37/200\n",
            "71/71 [==============================] - 5s 65ms/step - loss: 0.4376 - accuracy: 0.8614 - val_loss: 1.0083 - val_accuracy: 0.6541\n",
            "Epoch 38/200\n",
            "71/71 [==============================] - 5s 65ms/step - loss: 0.4317 - accuracy: 0.8613 - val_loss: 3.2443 - val_accuracy: 0.2607\n",
            "Epoch 39/200\n",
            "71/71 [==============================] - 5s 65ms/step - loss: 0.4272 - accuracy: 0.8649 - val_loss: 1.5834 - val_accuracy: 0.5048\n",
            "Epoch 40/200\n",
            "71/71 [==============================] - 5s 65ms/step - loss: 0.4184 - accuracy: 0.8655 - val_loss: 1.1375 - val_accuracy: 0.6406\n",
            "Epoch 41/200\n",
            "71/71 [==============================] - 5s 65ms/step - loss: 0.4083 - accuracy: 0.8707 - val_loss: 0.7987 - val_accuracy: 0.6887\n",
            "Epoch 42/200\n",
            "71/71 [==============================] - 5s 65ms/step - loss: 0.4136 - accuracy: 0.8667 - val_loss: 0.8810 - val_accuracy: 0.8040\n",
            "Epoch 43/200\n",
            "71/71 [==============================] - 5s 64ms/step - loss: 0.4093 - accuracy: 0.8699 - val_loss: 0.9283 - val_accuracy: 0.6912\n",
            "Epoch 44/200\n",
            "71/71 [==============================] - 5s 67ms/step - loss: 0.4183 - accuracy: 0.8670 - val_loss: 1.0423 - val_accuracy: 0.6521\n",
            "Epoch 45/200\n",
            "71/71 [==============================] - 5s 65ms/step - loss: 0.3918 - accuracy: 0.8759 - val_loss: 0.5089 - val_accuracy: 0.8341\n",
            "Epoch 46/200\n",
            "71/71 [==============================] - 5s 66ms/step - loss: 0.3944 - accuracy: 0.8800 - val_loss: 0.6529 - val_accuracy: 0.8174\n",
            "Epoch 47/200\n",
            "71/71 [==============================] - 5s 65ms/step - loss: 0.3841 - accuracy: 0.8817 - val_loss: 1.0644 - val_accuracy: 0.7450\n",
            "Epoch 48/200\n",
            "71/71 [==============================] - 5s 66ms/step - loss: 0.3732 - accuracy: 0.8823 - val_loss: 0.9406 - val_accuracy: 0.7764\n",
            "Epoch 49/200\n",
            "71/71 [==============================] - 5s 67ms/step - loss: 0.3870 - accuracy: 0.8776 - val_loss: 0.6099 - val_accuracy: 0.7976\n",
            "Epoch 50/200\n",
            "71/71 [==============================] - 5s 67ms/step - loss: 0.3692 - accuracy: 0.8874 - val_loss: 0.5031 - val_accuracy: 0.8475\n",
            "Epoch 51/200\n",
            "71/71 [==============================] - 5s 66ms/step - loss: 0.3623 - accuracy: 0.8878 - val_loss: 0.5735 - val_accuracy: 0.7982\n",
            "Epoch 52/200\n",
            "71/71 [==============================] - 5s 67ms/step - loss: 0.3712 - accuracy: 0.8822 - val_loss: 0.5003 - val_accuracy: 0.8507\n",
            "Epoch 53/200\n",
            "71/71 [==============================] - 5s 65ms/step - loss: 0.3589 - accuracy: 0.8822 - val_loss: 0.5444 - val_accuracy: 0.8193\n",
            "Epoch 54/200\n",
            "71/71 [==============================] - 5s 65ms/step - loss: 0.3578 - accuracy: 0.8903 - val_loss: 1.3429 - val_accuracy: 0.6284\n",
            "Epoch 55/200\n",
            "71/71 [==============================] - 5s 65ms/step - loss: 0.3606 - accuracy: 0.8897 - val_loss: 1.7811 - val_accuracy: 0.5663\n",
            "Epoch 56/200\n",
            "71/71 [==============================] - 5s 66ms/step - loss: 0.3273 - accuracy: 0.8997 - val_loss: 1.4377 - val_accuracy: 0.6079\n",
            "Epoch 57/200\n",
            "71/71 [==============================] - 5s 67ms/step - loss: 0.3520 - accuracy: 0.8899 - val_loss: 0.8088 - val_accuracy: 0.7213\n",
            "Epoch 58/200\n",
            "71/71 [==============================] - 5s 64ms/step - loss: 0.3280 - accuracy: 0.9031 - val_loss: 0.5658 - val_accuracy: 0.8085\n",
            "Epoch 59/200\n",
            "71/71 [==============================] - 5s 66ms/step - loss: 0.3240 - accuracy: 0.9031 - val_loss: 0.5776 - val_accuracy: 0.8040\n",
            "Epoch 60/200\n",
            "71/71 [==============================] - 5s 66ms/step - loss: 0.3119 - accuracy: 0.9121 - val_loss: 0.7436 - val_accuracy: 0.7630\n",
            "Epoch 61/200\n",
            "71/71 [==============================] - 5s 65ms/step - loss: 0.3142 - accuracy: 0.9060 - val_loss: 0.5215 - val_accuracy: 0.8258\n",
            "Epoch 62/200\n",
            "71/71 [==============================] - 5s 65ms/step - loss: 0.2951 - accuracy: 0.9117 - val_loss: 0.6986 - val_accuracy: 0.7598\n",
            "Epoch 63/200\n",
            "71/71 [==============================] - 5s 68ms/step - loss: 0.3083 - accuracy: 0.9103 - val_loss: 0.5520 - val_accuracy: 0.8091\n",
            "Epoch 64/200\n",
            "71/71 [==============================] - 5s 69ms/step - loss: 0.2959 - accuracy: 0.9113 - val_loss: 0.9179 - val_accuracy: 0.7361\n",
            "Epoch 65/200\n",
            "71/71 [==============================] - 5s 65ms/step - loss: 0.2824 - accuracy: 0.9194 - val_loss: 0.7710 - val_accuracy: 0.7450\n",
            "Epoch 66/200\n",
            "71/71 [==============================] - 5s 66ms/step - loss: 0.2929 - accuracy: 0.9096 - val_loss: 0.6666 - val_accuracy: 0.7514\n",
            "Epoch 67/200\n",
            "71/71 [==============================] - 5s 66ms/step - loss: 0.2860 - accuracy: 0.9148 - val_loss: 0.5164 - val_accuracy: 0.8238\n",
            "Epoch 68/200\n",
            "71/71 [==============================] - 5s 66ms/step - loss: 0.2725 - accuracy: 0.9199 - val_loss: 0.4642 - val_accuracy: 0.8469\n",
            "Epoch 69/200\n",
            "71/71 [==============================] - 5s 66ms/step - loss: 0.2804 - accuracy: 0.9173 - val_loss: 0.4722 - val_accuracy: 0.8482\n",
            "Epoch 70/200\n",
            "71/71 [==============================] - 5s 66ms/step - loss: 0.2683 - accuracy: 0.9194 - val_loss: 0.5089 - val_accuracy: 0.8290\n",
            "Epoch 71/200\n",
            "71/71 [==============================] - 5s 66ms/step - loss: 0.2836 - accuracy: 0.9122 - val_loss: 0.5693 - val_accuracy: 0.8072\n",
            "Epoch 72/200\n",
            "71/71 [==============================] - 5s 66ms/step - loss: 0.2586 - accuracy: 0.9249 - val_loss: 0.7246 - val_accuracy: 0.7623\n",
            "Epoch 73/200\n",
            "71/71 [==============================] - 5s 65ms/step - loss: 0.2692 - accuracy: 0.9175 - val_loss: 0.5159 - val_accuracy: 0.8181\n",
            "Epoch 74/200\n",
            "71/71 [==============================] - 5s 65ms/step - loss: 0.2462 - accuracy: 0.9261 - val_loss: 0.6199 - val_accuracy: 0.8040\n",
            "Epoch 75/200\n",
            "71/71 [==============================] - 5s 65ms/step - loss: 0.2461 - accuracy: 0.9277 - val_loss: 0.6294 - val_accuracy: 0.7937\n",
            "Epoch 76/200\n",
            "71/71 [==============================] - 5s 67ms/step - loss: 0.2470 - accuracy: 0.9278 - val_loss: 0.7690 - val_accuracy: 0.7687\n",
            "Epoch 77/200\n",
            "71/71 [==============================] - 5s 67ms/step - loss: 0.2446 - accuracy: 0.9276 - val_loss: 0.4686 - val_accuracy: 0.8475\n",
            "Epoch 78/200\n",
            "71/71 [==============================] - 5s 67ms/step - loss: 0.2555 - accuracy: 0.9235 - val_loss: 0.4582 - val_accuracy: 0.8270\n",
            "Epoch 79/200\n",
            "71/71 [==============================] - 5s 65ms/step - loss: 0.2280 - accuracy: 0.9342 - val_loss: 0.5463 - val_accuracy: 0.8091\n",
            "Epoch 80/200\n",
            "71/71 [==============================] - 5s 65ms/step - loss: 0.2228 - accuracy: 0.9383 - val_loss: 0.8932 - val_accuracy: 0.7373\n",
            "Epoch 81/200\n",
            "71/71 [==============================] - 5s 65ms/step - loss: 0.2172 - accuracy: 0.9373 - val_loss: 0.6289 - val_accuracy: 0.7995\n",
            "Epoch 82/200\n",
            "71/71 [==============================] - 5s 66ms/step - loss: 0.2181 - accuracy: 0.9413 - val_loss: 0.4726 - val_accuracy: 0.8398\n",
            "Epoch 83/200\n",
            "71/71 [==============================] - 5s 65ms/step - loss: 0.2605 - accuracy: 0.9247 - val_loss: 0.6057 - val_accuracy: 0.8110\n",
            "Epoch 84/200\n",
            "71/71 [==============================] - 5s 65ms/step - loss: 0.2053 - accuracy: 0.9422 - val_loss: 0.6370 - val_accuracy: 0.7886\n",
            "Epoch 85/200\n",
            "71/71 [==============================] - 5s 66ms/step - loss: 0.2645 - accuracy: 0.9227 - val_loss: 0.8874 - val_accuracy: 0.7406\n",
            "Epoch 86/200\n",
            "71/71 [==============================] - 5s 68ms/step - loss: 0.3463 - accuracy: 0.8931 - val_loss: 0.6432 - val_accuracy: 0.8174\n",
            "Epoch 87/200\n",
            "71/71 [==============================] - 5s 68ms/step - loss: 0.3244 - accuracy: 0.9075 - val_loss: 0.4242 - val_accuracy: 0.8584\n",
            "Epoch 88/200\n",
            "71/71 [==============================] - 5s 67ms/step - loss: 0.2885 - accuracy: 0.9152 - val_loss: 0.4178 - val_accuracy: 0.8616\n",
            "Epoch 89/200\n",
            "71/71 [==============================] - 5s 65ms/step - loss: 0.2690 - accuracy: 0.9255 - val_loss: 0.4826 - val_accuracy: 0.8341\n",
            "Epoch 90/200\n",
            "71/71 [==============================] - 5s 67ms/step - loss: 0.2420 - accuracy: 0.9341 - val_loss: 0.4590 - val_accuracy: 0.8635\n",
            "Epoch 91/200\n",
            "71/71 [==============================] - 5s 66ms/step - loss: 0.2274 - accuracy: 0.9374 - val_loss: 0.4603 - val_accuracy: 0.8495\n",
            "Epoch 92/200\n",
            "71/71 [==============================] - 5s 66ms/step - loss: 0.2423 - accuracy: 0.9306 - val_loss: 0.5480 - val_accuracy: 0.8373\n",
            "Epoch 93/200\n",
            "71/71 [==============================] - 5s 67ms/step - loss: 0.2210 - accuracy: 0.9387 - val_loss: 0.6543 - val_accuracy: 0.8181\n",
            "Epoch 94/200\n",
            "71/71 [==============================] - 5s 65ms/step - loss: 0.2112 - accuracy: 0.9423 - val_loss: 0.4754 - val_accuracy: 0.8616\n",
            "Epoch 95/200\n",
            "71/71 [==============================] - 5s 66ms/step - loss: 0.1982 - accuracy: 0.9473 - val_loss: 0.6216 - val_accuracy: 0.7924\n",
            "Epoch 96/200\n",
            "71/71 [==============================] - 5s 65ms/step - loss: 0.2334 - accuracy: 0.9344 - val_loss: 0.4765 - val_accuracy: 0.8571\n",
            "Epoch 97/200\n",
            "71/71 [==============================] - 5s 66ms/step - loss: 0.2254 - accuracy: 0.9335 - val_loss: 0.6326 - val_accuracy: 0.7963\n",
            "Epoch 98/200\n",
            "71/71 [==============================] - 5s 66ms/step - loss: 0.2197 - accuracy: 0.9382 - val_loss: 0.4928 - val_accuracy: 0.8450\n",
            "Epoch 99/200\n",
            "71/71 [==============================] - 5s 67ms/step - loss: 0.1975 - accuracy: 0.9441 - val_loss: 0.5490 - val_accuracy: 0.8200\n",
            "Epoch 100/200\n",
            "71/71 [==============================] - 5s 66ms/step - loss: 0.1902 - accuracy: 0.9453 - val_loss: 0.4692 - val_accuracy: 0.8578\n",
            "Epoch 101/200\n",
            "71/71 [==============================] - 5s 67ms/step - loss: 0.1962 - accuracy: 0.9442 - val_loss: 0.4771 - val_accuracy: 0.8456\n",
            "Epoch 102/200\n",
            "71/71 [==============================] - 5s 66ms/step - loss: 0.1921 - accuracy: 0.9470 - val_loss: 0.6239 - val_accuracy: 0.8008\n",
            "Epoch 103/200\n",
            "71/71 [==============================] - 5s 67ms/step - loss: 0.1824 - accuracy: 0.9504 - val_loss: 0.5851 - val_accuracy: 0.8245\n",
            "Epoch 104/200\n",
            "71/71 [==============================] - 5s 66ms/step - loss: 0.1889 - accuracy: 0.9482 - val_loss: 0.6468 - val_accuracy: 0.8059\n",
            "Epoch 105/200\n",
            "71/71 [==============================] - 5s 66ms/step - loss: 0.1924 - accuracy: 0.9465 - val_loss: 0.7186 - val_accuracy: 0.8027\n",
            "Epoch 106/200\n",
            "71/71 [==============================] - 5s 67ms/step - loss: 0.1815 - accuracy: 0.9493 - val_loss: 0.5477 - val_accuracy: 0.8328\n",
            "Epoch 107/200\n",
            "71/71 [==============================] - 5s 67ms/step - loss: 0.1834 - accuracy: 0.9481 - val_loss: 0.5278 - val_accuracy: 0.8546\n",
            "Epoch 108/200\n",
            "71/71 [==============================] - 5s 65ms/step - loss: 0.1791 - accuracy: 0.9510 - val_loss: 0.5631 - val_accuracy: 0.8315\n",
            "Epoch 109/200\n",
            "71/71 [==============================] - 5s 67ms/step - loss: 0.1823 - accuracy: 0.9462 - val_loss: 0.5866 - val_accuracy: 0.8450\n",
            "Epoch 110/200\n",
            "71/71 [==============================] - 5s 67ms/step - loss: 0.1656 - accuracy: 0.9531 - val_loss: 0.6089 - val_accuracy: 0.8322\n",
            "Epoch 111/200\n",
            "71/71 [==============================] - 5s 67ms/step - loss: 0.1619 - accuracy: 0.9569 - val_loss: 0.5009 - val_accuracy: 0.8565\n",
            "Epoch 112/200\n",
            "71/71 [==============================] - 5s 68ms/step - loss: 0.1708 - accuracy: 0.9501 - val_loss: 0.4531 - val_accuracy: 0.8700\n",
            "Epoch 113/200\n",
            "71/71 [==============================] - 5s 66ms/step - loss: 0.1923 - accuracy: 0.9454 - val_loss: 0.5194 - val_accuracy: 0.8277\n",
            "Epoch 114/200\n",
            "71/71 [==============================] - 5s 67ms/step - loss: 0.1787 - accuracy: 0.9526 - val_loss: 0.5345 - val_accuracy: 0.8283\n",
            "Epoch 115/200\n",
            "71/71 [==============================] - 5s 66ms/step - loss: 0.1833 - accuracy: 0.9487 - val_loss: 0.6205 - val_accuracy: 0.8123\n",
            "Epoch 116/200\n",
            "71/71 [==============================] - 5s 66ms/step - loss: 0.1591 - accuracy: 0.9557 - val_loss: 0.5087 - val_accuracy: 0.8507\n",
            "Epoch 117/200\n",
            "71/71 [==============================] - 5s 66ms/step - loss: 0.1622 - accuracy: 0.9546 - val_loss: 0.5585 - val_accuracy: 0.8354\n",
            "Epoch 118/200\n",
            "71/71 [==============================] - 5s 66ms/step - loss: 0.1566 - accuracy: 0.9558 - val_loss: 0.7084 - val_accuracy: 0.8129\n",
            "Epoch 119/200\n",
            "71/71 [==============================] - 5s 68ms/step - loss: 0.1552 - accuracy: 0.9563 - val_loss: 0.8146 - val_accuracy: 0.8225\n",
            "Epoch 120/200\n",
            "71/71 [==============================] - 5s 67ms/step - loss: 0.1509 - accuracy: 0.9564 - val_loss: 0.6003 - val_accuracy: 0.8418\n",
            "Epoch 121/200\n",
            "71/71 [==============================] - 5s 65ms/step - loss: 0.1644 - accuracy: 0.9532 - val_loss: 0.6926 - val_accuracy: 0.8110\n",
            "Epoch 122/200\n",
            "71/71 [==============================] - 5s 66ms/step - loss: 0.1514 - accuracy: 0.9565 - val_loss: 0.7972 - val_accuracy: 0.8059\n",
            "Epoch 123/200\n",
            "71/71 [==============================] - 5s 66ms/step - loss: 0.1508 - accuracy: 0.9587 - val_loss: 0.7211 - val_accuracy: 0.8277\n",
            "Epoch 124/200\n",
            "71/71 [==============================] - 5s 67ms/step - loss: 0.1605 - accuracy: 0.9532 - val_loss: 0.8024 - val_accuracy: 0.7860\n",
            "Epoch 125/200\n",
            "71/71 [==============================] - 5s 66ms/step - loss: 0.1942 - accuracy: 0.9435 - val_loss: 0.7594 - val_accuracy: 0.8059\n",
            "Epoch 126/200\n",
            "71/71 [==============================] - 5s 69ms/step - loss: 0.1598 - accuracy: 0.9558 - val_loss: 0.6596 - val_accuracy: 0.8283\n",
            "Epoch 127/200\n",
            "71/71 [==============================] - 5s 66ms/step - loss: 0.1467 - accuracy: 0.9595 - val_loss: 0.6546 - val_accuracy: 0.8129\n",
            "Epoch 128/200\n",
            "71/71 [==============================] - 5s 66ms/step - loss: 0.1399 - accuracy: 0.9587 - val_loss: 0.5260 - val_accuracy: 0.8456\n",
            "Epoch 129/200\n",
            "71/71 [==============================] - 5s 66ms/step - loss: 0.1402 - accuracy: 0.9616 - val_loss: 0.6029 - val_accuracy: 0.8405\n",
            "Epoch 130/200\n",
            "71/71 [==============================] - 5s 66ms/step - loss: 0.1386 - accuracy: 0.9632 - val_loss: 0.6350 - val_accuracy: 0.8302\n",
            "Epoch 131/200\n",
            "71/71 [==============================] - 5s 66ms/step - loss: 0.1639 - accuracy: 0.9558 - val_loss: 0.8725 - val_accuracy: 0.7521\n",
            "Epoch 132/200\n",
            "71/71 [==============================] - 5s 66ms/step - loss: 0.3355 - accuracy: 0.8986 - val_loss: 1.0685 - val_accuracy: 0.7495\n",
            "Epoch 133/200\n",
            "71/71 [==============================] - 5s 68ms/step - loss: 0.2462 - accuracy: 0.9245 - val_loss: 0.6248 - val_accuracy: 0.8129\n",
            "Epoch 134/200\n",
            "71/71 [==============================] - 5s 66ms/step - loss: 0.1691 - accuracy: 0.9556 - val_loss: 0.8737 - val_accuracy: 0.7617\n",
            "Epoch 135/200\n",
            "71/71 [==============================] - 5s 65ms/step - loss: 0.1611 - accuracy: 0.9527 - val_loss: 0.7445 - val_accuracy: 0.7969\n",
            "Epoch 136/200\n",
            "71/71 [==============================] - 5s 67ms/step - loss: 0.1465 - accuracy: 0.9588 - val_loss: 0.8020 - val_accuracy: 0.8040\n",
            "Epoch 137/200\n",
            "71/71 [==============================] - 5s 66ms/step - loss: 0.1391 - accuracy: 0.9613 - val_loss: 0.7089 - val_accuracy: 0.8110\n",
            "Epoch 138/200\n",
            "71/71 [==============================] - 5s 65ms/step - loss: 0.1368 - accuracy: 0.9613 - val_loss: 0.8074 - val_accuracy: 0.7860\n",
            "Epoch 139/200\n",
            "71/71 [==============================] - 5s 67ms/step - loss: 0.1280 - accuracy: 0.9637 - val_loss: 0.7097 - val_accuracy: 0.8174\n",
            "Epoch 140/200\n",
            "71/71 [==============================] - 5s 67ms/step - loss: 0.1291 - accuracy: 0.9656 - val_loss: 0.8684 - val_accuracy: 0.7950\n",
            "Epoch 141/200\n",
            "71/71 [==============================] - 5s 67ms/step - loss: 0.1234 - accuracy: 0.9666 - val_loss: 0.8456 - val_accuracy: 0.8014\n",
            "Epoch 142/200\n",
            "71/71 [==============================] - 5s 65ms/step - loss: 0.1320 - accuracy: 0.9615 - val_loss: 0.7542 - val_accuracy: 0.8245\n",
            "Epoch 143/200\n",
            "71/71 [==============================] - 5s 67ms/step - loss: 0.1162 - accuracy: 0.9697 - val_loss: 0.8148 - val_accuracy: 0.7988\n",
            "Epoch 144/200\n",
            "71/71 [==============================] - 5s 66ms/step - loss: 0.1227 - accuracy: 0.9670 - val_loss: 0.7243 - val_accuracy: 0.8219\n",
            "Epoch 145/200\n",
            "71/71 [==============================] - 5s 67ms/step - loss: 0.1213 - accuracy: 0.9668 - val_loss: 0.8511 - val_accuracy: 0.8046\n",
            "Epoch 146/200\n",
            "71/71 [==============================] - 5s 67ms/step - loss: 0.1471 - accuracy: 0.9583 - val_loss: 0.6778 - val_accuracy: 0.8110\n",
            "Epoch 147/200\n",
            "71/71 [==============================] - 5s 69ms/step - loss: 0.1181 - accuracy: 0.9676 - val_loss: 0.8058 - val_accuracy: 0.8149\n",
            "Epoch 148/200\n",
            "71/71 [==============================] - 5s 67ms/step - loss: 0.1151 - accuracy: 0.9683 - val_loss: 0.9917 - val_accuracy: 0.7636\n",
            "Epoch 149/200\n",
            "71/71 [==============================] - 5s 67ms/step - loss: 0.1181 - accuracy: 0.9678 - val_loss: 0.9259 - val_accuracy: 0.7918\n",
            "Epoch 150/200\n",
            "71/71 [==============================] - 5s 66ms/step - loss: 0.1136 - accuracy: 0.9667 - val_loss: 0.7857 - val_accuracy: 0.8097\n",
            "Epoch 151/200\n",
            "71/71 [==============================] - 5s 70ms/step - loss: 0.1155 - accuracy: 0.9693 - val_loss: 0.9891 - val_accuracy: 0.7662\n",
            "Epoch 152/200\n",
            "71/71 [==============================] - 5s 68ms/step - loss: 0.1109 - accuracy: 0.9689 - val_loss: 0.7456 - val_accuracy: 0.8104\n",
            "Epoch 153/200\n",
            "71/71 [==============================] - 5s 69ms/step - loss: 0.1448 - accuracy: 0.9600 - val_loss: 0.6296 - val_accuracy: 0.8418\n",
            "Epoch 154/200\n",
            "71/71 [==============================] - 5s 66ms/step - loss: 0.1619 - accuracy: 0.9529 - val_loss: 0.9899 - val_accuracy: 0.7649\n",
            "Epoch 155/200\n",
            "71/71 [==============================] - 5s 67ms/step - loss: 0.1414 - accuracy: 0.9609 - val_loss: 0.7124 - val_accuracy: 0.8251\n",
            "Epoch 156/200\n",
            "71/71 [==============================] - 5s 66ms/step - loss: 0.1293 - accuracy: 0.9654 - val_loss: 0.8523 - val_accuracy: 0.8091\n",
            "Epoch 157/200\n",
            "71/71 [==============================] - 5s 67ms/step - loss: 0.1083 - accuracy: 0.9694 - val_loss: 0.5802 - val_accuracy: 0.8411\n",
            "Epoch 158/200\n",
            "71/71 [==============================] - 5s 67ms/step - loss: 0.1186 - accuracy: 0.9675 - val_loss: 0.5062 - val_accuracy: 0.8475\n",
            "Epoch 159/200\n",
            "71/71 [==============================] - 5s 67ms/step - loss: 0.1069 - accuracy: 0.9697 - val_loss: 0.9239 - val_accuracy: 0.7700\n",
            "Epoch 160/200\n",
            "71/71 [==============================] - 5s 69ms/step - loss: 0.1002 - accuracy: 0.9717 - val_loss: 1.0201 - val_accuracy: 0.7572\n",
            "Epoch 161/200\n",
            "71/71 [==============================] - 5s 67ms/step - loss: 0.1709 - accuracy: 0.9483 - val_loss: 0.9429 - val_accuracy: 0.6931\n",
            "Epoch 162/200\n",
            "71/71 [==============================] - 5s 68ms/step - loss: 0.1537 - accuracy: 0.9565 - val_loss: 0.8990 - val_accuracy: 0.7816\n",
            "Epoch 163/200\n",
            "71/71 [==============================] - 5s 68ms/step - loss: 0.1306 - accuracy: 0.9632 - val_loss: 1.0054 - val_accuracy: 0.7438\n",
            "Epoch 164/200\n",
            "71/71 [==============================] - 5s 69ms/step - loss: 0.1052 - accuracy: 0.9709 - val_loss: 0.9651 - val_accuracy: 0.7546\n",
            "Epoch 165/200\n",
            "71/71 [==============================] - 5s 68ms/step - loss: 0.1077 - accuracy: 0.9718 - val_loss: 0.8342 - val_accuracy: 0.7751\n",
            "Epoch 166/200\n",
            "71/71 [==============================] - 5s 68ms/step - loss: 0.1025 - accuracy: 0.9719 - val_loss: 0.8230 - val_accuracy: 0.7899\n",
            "Epoch 167/200\n",
            "71/71 [==============================] - 5s 68ms/step - loss: 0.0956 - accuracy: 0.9753 - val_loss: 0.8805 - val_accuracy: 0.7796\n",
            "Epoch 168/200\n",
            "71/71 [==============================] - 5s 68ms/step - loss: 0.1141 - accuracy: 0.9694 - val_loss: 1.1107 - val_accuracy: 0.6803\n",
            "Epoch 169/200\n",
            "71/71 [==============================] - 5s 67ms/step - loss: 0.0942 - accuracy: 0.9752 - val_loss: 0.6576 - val_accuracy: 0.8366\n",
            "Epoch 170/200\n",
            "71/71 [==============================] - 5s 69ms/step - loss: 0.0882 - accuracy: 0.9761 - val_loss: 1.0014 - val_accuracy: 0.7444\n",
            "Epoch 171/200\n",
            "71/71 [==============================] - 5s 68ms/step - loss: 0.0882 - accuracy: 0.9776 - val_loss: 0.8903 - val_accuracy: 0.7719\n",
            "Epoch 172/200\n",
            "71/71 [==============================] - 5s 68ms/step - loss: 0.0816 - accuracy: 0.9784 - val_loss: 0.8131 - val_accuracy: 0.7873\n",
            "Epoch 173/200\n",
            "71/71 [==============================] - 5s 69ms/step - loss: 0.0827 - accuracy: 0.9786 - val_loss: 1.0791 - val_accuracy: 0.7265\n",
            "Epoch 174/200\n",
            "71/71 [==============================] - 5s 68ms/step - loss: 0.0865 - accuracy: 0.9757 - val_loss: 1.0357 - val_accuracy: 0.7758\n",
            "Epoch 175/200\n",
            "71/71 [==============================] - 5s 68ms/step - loss: 0.0847 - accuracy: 0.9765 - val_loss: 0.7338 - val_accuracy: 0.8270\n",
            "Epoch 176/200\n",
            "71/71 [==============================] - 5s 70ms/step - loss: 0.0768 - accuracy: 0.9808 - val_loss: 1.1155 - val_accuracy: 0.7316\n",
            "Epoch 177/200\n",
            "71/71 [==============================] - 5s 68ms/step - loss: 0.0851 - accuracy: 0.9764 - val_loss: 0.7067 - val_accuracy: 0.8386\n",
            "Epoch 178/200\n",
            "71/71 [==============================] - 5s 68ms/step - loss: 0.0949 - accuracy: 0.9757 - val_loss: 1.2298 - val_accuracy: 0.6784\n",
            "Epoch 179/200\n",
            "71/71 [==============================] - 5s 69ms/step - loss: 0.1227 - accuracy: 0.9650 - val_loss: 0.7858 - val_accuracy: 0.8020\n",
            "Epoch 180/200\n",
            "71/71 [==============================] - 5s 70ms/step - loss: 0.1146 - accuracy: 0.9664 - val_loss: 0.5428 - val_accuracy: 0.8450\n",
            "Epoch 181/200\n",
            "71/71 [==============================] - 5s 67ms/step - loss: 0.1374 - accuracy: 0.9646 - val_loss: 1.2160 - val_accuracy: 0.6855\n",
            "Epoch 182/200\n",
            "71/71 [==============================] - 5s 68ms/step - loss: 0.1475 - accuracy: 0.9595 - val_loss: 0.6390 - val_accuracy: 0.8386\n",
            "Epoch 183/200\n",
            "71/71 [==============================] - 5s 69ms/step - loss: 0.1235 - accuracy: 0.9665 - val_loss: 0.8119 - val_accuracy: 0.8104\n",
            "Epoch 184/200\n",
            "71/71 [==============================] - 5s 68ms/step - loss: 0.0905 - accuracy: 0.9758 - val_loss: 0.7163 - val_accuracy: 0.8238\n",
            "Epoch 185/200\n",
            "71/71 [==============================] - 5s 67ms/step - loss: 0.0925 - accuracy: 0.9753 - val_loss: 0.7093 - val_accuracy: 0.8168\n",
            "Epoch 186/200\n",
            "71/71 [==============================] - 5s 69ms/step - loss: 0.0932 - accuracy: 0.9755 - val_loss: 0.9117 - val_accuracy: 0.7694\n",
            "Epoch 187/200\n",
            "71/71 [==============================] - 5s 70ms/step - loss: 0.2111 - accuracy: 0.9368 - val_loss: 1.1360 - val_accuracy: 0.7015\n",
            "Epoch 188/200\n",
            "71/71 [==============================] - 5s 70ms/step - loss: 0.1566 - accuracy: 0.9570 - val_loss: 0.5685 - val_accuracy: 0.8232\n",
            "Epoch 189/200\n",
            "71/71 [==============================] - 5s 68ms/step - loss: 0.0990 - accuracy: 0.9719 - val_loss: 1.1042 - val_accuracy: 0.7175\n",
            "Epoch 190/200\n",
            "71/71 [==============================] - 5s 69ms/step - loss: 0.0899 - accuracy: 0.9750 - val_loss: 1.0275 - val_accuracy: 0.7156\n",
            "Epoch 191/200\n",
            "71/71 [==============================] - 5s 68ms/step - loss: 0.0858 - accuracy: 0.9772 - val_loss: 0.7083 - val_accuracy: 0.8373\n",
            "Epoch 192/200\n",
            "71/71 [==============================] - 5s 68ms/step - loss: 0.0746 - accuracy: 0.9809 - val_loss: 0.9601 - val_accuracy: 0.7233\n",
            "Epoch 193/200\n",
            "71/71 [==============================] - 5s 68ms/step - loss: 0.0774 - accuracy: 0.9801 - val_loss: 0.9844 - val_accuracy: 0.7649\n",
            "Epoch 194/200\n",
            "71/71 [==============================] - 5s 69ms/step - loss: 0.0697 - accuracy: 0.9830 - val_loss: 0.9346 - val_accuracy: 0.7553\n",
            "Epoch 195/200\n",
            "71/71 [==============================] - 5s 68ms/step - loss: 0.0694 - accuracy: 0.9831 - val_loss: 1.0068 - val_accuracy: 0.7707\n",
            "Epoch 196/200\n",
            "71/71 [==============================] - 5s 69ms/step - loss: 0.0703 - accuracy: 0.9805 - val_loss: 1.0785 - val_accuracy: 0.7143\n",
            "Epoch 197/200\n",
            "71/71 [==============================] - 5s 67ms/step - loss: 0.0729 - accuracy: 0.9815 - val_loss: 0.9330 - val_accuracy: 0.7771\n",
            "Epoch 198/200\n",
            "71/71 [==============================] - 5s 68ms/step - loss: 0.0601 - accuracy: 0.9841 - val_loss: 0.9742 - val_accuracy: 0.7880\n",
            "Epoch 199/200\n",
            "71/71 [==============================] - 5s 71ms/step - loss: 0.0702 - accuracy: 0.9817 - val_loss: 0.9597 - val_accuracy: 0.7835\n",
            "Epoch 200/200\n",
            "71/71 [==============================] - 5s 71ms/step - loss: 0.0805 - accuracy: 0.9767 - val_loss: 0.8509 - val_accuracy: 0.8020\n"
          ],
          "name": "stdout"
        }
      ]
    },
    {
      "cell_type": "code",
      "metadata": {
        "colab": {
          "base_uri": "https://localhost:8080/",
          "height": 338
        },
        "id": "yl77eOXhVQ4k",
        "outputId": "deb9419a-4bdd-4838-bc34-b9c1a63c9704"
      },
      "source": [
        "m_acc = history.history['accuracy']\n",
        "fig, ax = plt.subplots(figsize = (15,5))\n",
        "ax.plot(m_acc, color = 'r')\n",
        "ax.plot(history.history['val_accuracy'], color = 'b')\n",
        "# plt.legend()"
      ],
      "execution_count": 57,
      "outputs": [
        {
          "output_type": "execute_result",
          "data": {
            "text/plain": [
              "[<matplotlib.lines.Line2D at 0x7fe47fdbfd10>]"
            ]
          },
          "metadata": {
            "tags": []
          },
          "execution_count": 57
        },
        {
          "output_type": "display_data",
          "data": {
            "image/png": "[encoded data removed]",
            "text/plain": [
              "<Figure size 1080x360 with 1 Axes>"
            ]
          },
          "metadata": {
            "tags": [],
            "needs_background": "light"
          }
        }
      ]
    },
    {
      "cell_type": "code",
      "metadata": {
        "id": "rNQBCCeEai-b",
        "colab": {
          "base_uri": "https://localhost:8080/",
          "height": 322
        },
        "outputId": "10114796-e31a-4f50-8084-da2d1876a3c3"
      },
      "source": [
        "b_model = tf.keras.models.load_model('best_trained_model_bi.h5')"
      ],
      "execution_count": 60,
      "outputs": [
        {
          "output_type": "error",
          "ename": "OSError",
          "evalue": "ignored",
          "traceback": [
            "\u001b[0;31m---------------------------------------------------------------------------\u001b[0m",
            "\u001b[0;31mOSError\u001b[0m                                   Traceback (most recent call last)",
            "\u001b[0;32m<ipython-input-60-30f6136cc264>\u001b[0m in \u001b[0;36m<module>\u001b[0;34m()\u001b[0m\n\u001b[0;32m----> 1\u001b[0;31m \u001b[0mb_model\u001b[0m \u001b[0;34m=\u001b[0m \u001b[0mtf\u001b[0m\u001b[0;34m.\u001b[0m\u001b[0mkeras\u001b[0m\u001b[0;34m.\u001b[0m\u001b[0mmodels\u001b[0m\u001b[0;34m.\u001b[0m\u001b[0mload_model\u001b[0m\u001b[0;34m(\u001b[0m\u001b[0;34m'best_trained_model_bi.h5'\u001b[0m\u001b[0;34m)\u001b[0m\u001b[0;34m\u001b[0m\u001b[0;34m\u001b[0m\u001b[0m\n\u001b[0m",
            "\u001b[0;32m/usr/local/lib/python3.7/dist-packages/tensorflow/python/keras/saving/save.py\u001b[0m in \u001b[0;36mload_model\u001b[0;34m(filepath, custom_objects, compile, options)\u001b[0m\n\u001b[1;32m    209\u001b[0m       \u001b[0mfilepath\u001b[0m \u001b[0;34m=\u001b[0m \u001b[0mpath_to_string\u001b[0m\u001b[0;34m(\u001b[0m\u001b[0mfilepath\u001b[0m\u001b[0;34m)\u001b[0m\u001b[0;34m\u001b[0m\u001b[0;34m\u001b[0m\u001b[0m\n\u001b[1;32m    210\u001b[0m       \u001b[0;32mif\u001b[0m \u001b[0misinstance\u001b[0m\u001b[0;34m(\u001b[0m\u001b[0mfilepath\u001b[0m\u001b[0;34m,\u001b[0m \u001b[0msix\u001b[0m\u001b[0;34m.\u001b[0m\u001b[0mstring_types\u001b[0m\u001b[0;34m)\u001b[0m\u001b[0;34m:\u001b[0m\u001b[0;34m\u001b[0m\u001b[0;34m\u001b[0m\u001b[0m\n\u001b[0;32m--> 211\u001b[0;31m         \u001b[0mloader_impl\u001b[0m\u001b[0;34m.\u001b[0m\u001b[0mparse_saved_model\u001b[0m\u001b[0;34m(\u001b[0m\u001b[0mfilepath\u001b[0m\u001b[0;34m)\u001b[0m\u001b[0;34m\u001b[0m\u001b[0;34m\u001b[0m\u001b[0m\n\u001b[0m\u001b[1;32m    212\u001b[0m         \u001b[0;32mreturn\u001b[0m \u001b[0msaved_model_load\u001b[0m\u001b[0;34m.\u001b[0m\u001b[0mload\u001b[0m\u001b[0;34m(\u001b[0m\u001b[0mfilepath\u001b[0m\u001b[0;34m,\u001b[0m \u001b[0mcompile\u001b[0m\u001b[0;34m,\u001b[0m \u001b[0moptions\u001b[0m\u001b[0;34m)\u001b[0m\u001b[0;34m\u001b[0m\u001b[0;34m\u001b[0m\u001b[0m\n\u001b[1;32m    213\u001b[0m \u001b[0;34m\u001b[0m\u001b[0m\n",
            "\u001b[0;32m/usr/local/lib/python3.7/dist-packages/tensorflow/python/saved_model/loader_impl.py\u001b[0m in \u001b[0;36mparse_saved_model\u001b[0;34m(export_dir)\u001b[0m\n\u001b[1;32m    112\u001b[0m                   (export_dir,\n\u001b[1;32m    113\u001b[0m                    \u001b[0mconstants\u001b[0m\u001b[0;34m.\u001b[0m\u001b[0mSAVED_MODEL_FILENAME_PBTXT\u001b[0m\u001b[0;34m,\u001b[0m\u001b[0;34m\u001b[0m\u001b[0;34m\u001b[0m\u001b[0m\n\u001b[0;32m--> 114\u001b[0;31m                    constants.SAVED_MODEL_FILENAME_PB))\n\u001b[0m\u001b[1;32m    115\u001b[0m \u001b[0;34m\u001b[0m\u001b[0m\n\u001b[1;32m    116\u001b[0m \u001b[0;34m\u001b[0m\u001b[0m\n",
            "\u001b[0;31mOSError\u001b[0m: SavedModel file does not exist at: best_trained_model_bi.h5/{saved_model.pbtxt|saved_model.pb}"
          ]
        }
      ]
    },
    {
      "cell_type": "code",
      "metadata": {
        "id": "GuY4Dz3ZxX5K"
      },
      "source": [
        ""
      ],
      "execution_count": null,
      "outputs": []
    },
    {
      "cell_type": "code",
      "metadata": {
        "id": "mSDE3AxOxX72"
      },
      "source": [
        "# hyperparameter tuning\n",
        "# creating a fuction that will return a model\n",
        "def build_model_fn():\n",
        "  pass"
      ],
      "execution_count": null,
      "outputs": []
    }
  ]
}