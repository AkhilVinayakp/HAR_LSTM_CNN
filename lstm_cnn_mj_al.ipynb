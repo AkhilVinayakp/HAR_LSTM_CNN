{
  "nbformat": 4,
  "nbformat_minor": 0,
  "metadata": {
    "colab": {
      "name": "lstm_cnn_mj_al.ipynb",
      "provenance": [],
      "mount_file_id": "1MvAqjbMG3nkIJttp5MZbd26mr0wt8-9-",
      "authorship_tag": "ABX9TyOwt9z+iwdoNEPYI68h0TD8",
      "include_colab_link": true
    },
    "kernelspec": {
      "name": "python3",
      "display_name": "Python 3"
    },
    "language_info": {
      "name": "python"
    }
  },
  "cells": [
    {
      "cell_type": "markdown",
      "metadata": {
        "id": "view-in-github",
        "colab_type": "text"
      },
      "source": [
        "<a href=\"https://colab.research.google.com/github/AkhilVinayakp/HAR_LSTM_CNN/blob/main/lstm_cnn_mj_al.ipynb\" target=\"_parent\"><img src=\"https://colab.research.google.com/assets/colab-badge.svg\" alt=\"Open In Colab\"/></a>"
      ]
    },
    {
      "cell_type": "code",
      "metadata": {
        "id": "cpC2z5_IAfJU"
      },
      "source": [
        "# lstm_cnn_model with wisdm int_norm.csv\n",
        "# testing no. 1 \n",
        "# passing windo"
      ],
      "execution_count": 93,
      "outputs": []
    },
    {
      "cell_type": "code",
      "metadata": {
        "id": "fQzs08YNt7_B"
      },
      "source": [
        ""
      ],
      "execution_count": null,
      "outputs": []
    },
    {
      "cell_type": "code",
      "metadata": {
        "colab": {
          "base_uri": "https://localhost:8080/",
          "height": 54
        },
        "id": "-cPgSvFUAyRF",
        "outputId": "ab8c0690-3e5d-4568-e00f-b21856274530"
      },
      "source": [
        "%cd /content/drive/My\\ Drive/datasets \n",
        "%pwd"
      ],
      "execution_count": 94,
      "outputs": [
        {
          "output_type": "stream",
          "text": [
            "/content/drive/My Drive/datasets\n"
          ],
          "name": "stdout"
        },
        {
          "output_type": "execute_result",
          "data": {
            "application/vnd.google.colaboratory.intrinsic+json": {
              "type": "string"
            },
            "text/plain": [
              "'/content/drive/My Drive/datasets'"
            ]
          },
          "metadata": {
            "tags": []
          },
          "execution_count": 94
        }
      ]
    },
    {
      "cell_type": "code",
      "metadata": {
        "id": "zdqMapC6BVmB"
      },
      "source": [
        "import tensorflow as tf\n",
        "import pandas as pd\n",
        "import numpy as np\n",
        "import matplotlib.pyplot as plt\n",
        "from tensorflow.keras.utils import to_categorical"
      ],
      "execution_count": 95,
      "outputs": []
    },
    {
      "cell_type": "code",
      "metadata": {
        "id": "EZojSMSQBpkC"
      },
      "source": [
        "\n",
        "df =  pd.read_csv('int_norm.csv')"
      ],
      "execution_count": 164,
      "outputs": []
    },
    {
      "cell_type": "code",
      "metadata": {
        "id": "ZMYuVEmMCrWa",
        "colab": {
          "base_uri": "https://localhost:8080/"
        },
        "outputId": "f1277c58-5737-4806-943d-cf68cd20aa36"
      },
      "source": [
        "df.shape"
      ],
      "execution_count": 165,
      "outputs": [
        {
          "output_type": "execute_result",
          "data": {
            "text/plain": [
              "(1098204, 6)"
            ]
          },
          "metadata": {
            "tags": []
          },
          "execution_count": 165
        }
      ]
    },
    {
      "cell_type": "code",
      "metadata": {
        "id": "z9iKqPq4C52x"
      },
      "source": [
        "# creating windowed dataset\n",
        "# data windowing function test case passed\n",
        "def create_windowed_dataset(series, window_size,shift_size, batch_size,shuffle_buffer):\n",
        "  dataset = tf.data.Dataset.from_tensor_slices(series)\n",
        "  dataset = dataset.window(window_size , shift = shift_size, drop_remainder = True)\n",
        "  dataset = dataset.flat_map(lambda window: window.batch(window_size))\n",
        "  dataset = dataset.shuffle(shuffle_buffer).map(lambda window: (window[:,1:],window[window_size - 1,0]))\n",
        "  dataset = dataset.batch(batch_size).prefetch(1)\n",
        "  return dataset"
      ],
      "execution_count": 166,
      "outputs": []
    },
    {
      "cell_type": "code",
      "metadata": {
        "id": "C0JgSWMwGU76",
        "colab": {
          "base_uri": "https://localhost:8080/",
          "height": 206
        },
        "outputId": "9c6f4317-05a9-4ef5-cff3-a3ccb1332eec"
      },
      "source": [
        "df.head()"
      ],
      "execution_count": 167,
      "outputs": [
        {
          "output_type": "execute_result",
          "data": {
            "text/html": [
              "<div>\n",
              "<style scoped>\n",
              "    .dataframe tbody tr th:only-of-type {\n",
              "        vertical-align: middle;\n",
              "    }\n",
              "\n",
              "    .dataframe tbody tr th {\n",
              "        vertical-align: top;\n",
              "    }\n",
              "\n",
              "    .dataframe thead th {\n",
              "        text-align: right;\n",
              "    }\n",
              "</style>\n",
              "<table border=\"1\" class=\"dataframe\">\n",
              "  <thead>\n",
              "    <tr style=\"text-align: right;\">\n",
              "      <th></th>\n",
              "      <th>user</th>\n",
              "      <th>activity</th>\n",
              "      <th>timestamp</th>\n",
              "      <th>x-axis</th>\n",
              "      <th>y-axis</th>\n",
              "      <th>z-axis</th>\n",
              "    </tr>\n",
              "  </thead>\n",
              "  <tbody>\n",
              "    <tr>\n",
              "      <th>0</th>\n",
              "      <td>33</td>\n",
              "      <td>Jogging</td>\n",
              "      <td>49105962326000</td>\n",
              "      <td>-0.054655</td>\n",
              "      <td>0.997718</td>\n",
              "      <td>0.039652</td>\n",
              "    </tr>\n",
              "    <tr>\n",
              "      <th>1</th>\n",
              "      <td>33</td>\n",
              "      <td>Jogging</td>\n",
              "      <td>49106062271000</td>\n",
              "      <td>0.405338</td>\n",
              "      <td>0.910910</td>\n",
              "      <td>0.077102</td>\n",
              "    </tr>\n",
              "    <tr>\n",
              "      <th>2</th>\n",
              "      <td>33</td>\n",
              "      <td>Jogging</td>\n",
              "      <td>49106112167000</td>\n",
              "      <td>0.410782</td>\n",
              "      <td>0.911708</td>\n",
              "      <td>-0.006846</td>\n",
              "    </tr>\n",
              "    <tr>\n",
              "      <th>3</th>\n",
              "      <td>33</td>\n",
              "      <td>Jogging</td>\n",
              "      <td>49106222305000</td>\n",
              "      <td>-0.032685</td>\n",
              "      <td>0.986373</td>\n",
              "      <td>0.161248</td>\n",
              "    </tr>\n",
              "    <tr>\n",
              "      <th>4</th>\n",
              "      <td>33</td>\n",
              "      <td>Jogging</td>\n",
              "      <td>49106332290000</td>\n",
              "      <td>-0.083804</td>\n",
              "      <td>0.856341</td>\n",
              "      <td>0.509566</td>\n",
              "    </tr>\n",
              "  </tbody>\n",
              "</table>\n",
              "</div>"
            ],
            "text/plain": [
              "   user activity       timestamp    x-axis    y-axis    z-axis\n",
              "0    33  Jogging  49105962326000 -0.054655  0.997718  0.039652\n",
              "1    33  Jogging  49106062271000  0.405338  0.910910  0.077102\n",
              "2    33  Jogging  49106112167000  0.410782  0.911708 -0.006846\n",
              "3    33  Jogging  49106222305000 -0.032685  0.986373  0.161248\n",
              "4    33  Jogging  49106332290000 -0.083804  0.856341  0.509566"
            ]
          },
          "metadata": {
            "tags": []
          },
          "execution_count": 167
        }
      ]
    },
    {
      "cell_type": "code",
      "metadata": {
        "id": "8Ky7aGD7GrNy"
      },
      "source": [
        "df.drop('timestamp', axis = 1, inplace=True)"
      ],
      "execution_count": 168,
      "outputs": []
    },
    {
      "cell_type": "code",
      "metadata": {
        "id": "ur4C8Badvwms"
      },
      "source": [
        "# /// added : one hot encoding before spliting\n",
        "\n",
        "df['activity'] = df['activity'].astype(\"category\")\n",
        "df['activity'] = df.activity.cat.codes"
      ],
      "execution_count": 169,
      "outputs": []
    },
    {
      "cell_type": "code",
      "metadata": {
        "id": "PJ3aMOrAvwpi"
      },
      "source": [
        "#  keep the codes encode in the windowing function"
      ],
      "execution_count": 162,
      "outputs": []
    },
    {
      "cell_type": "code",
      "metadata": {
        "colab": {
          "base_uri": "https://localhost:8080/"
        },
        "id": "9alRZdZxvws2",
        "outputId": "7e39a804-fed6-4409-b995-7d60413593b4"
      },
      "source": [
        "# labels"
      ],
      "execution_count": 163,
      "outputs": [
        {
          "output_type": "execute_result",
          "data": {
            "text/plain": [
              "array([[0., 1., 0., 0., 0., 0.],\n",
              "       [0., 1., 0., 0., 0., 0.],\n",
              "       [0., 1., 0., 0., 0., 0.],\n",
              "       ...,\n",
              "       [0., 0., 1., 0., 0., 0.],\n",
              "       [0., 0., 1., 0., 0., 0.],\n",
              "       [0., 0., 1., 0., 0., 0.]], dtype=float32)"
            ]
          },
          "metadata": {
            "tags": []
          },
          "execution_count": 163
        }
      ]
    },
    {
      "cell_type": "code",
      "metadata": {
        "id": "9jobzkNwvwvL"
      },
      "source": [
        "# now for windowing purpose making the labels as part of "
      ],
      "execution_count": null,
      "outputs": []
    },
    {
      "cell_type": "code",
      "metadata": {
        "id": "h8CnOvROGcVB"
      },
      "source": [
        "train = df[df['user'] < 31 ]"
      ],
      "execution_count": 170,
      "outputs": []
    },
    {
      "cell_type": "code",
      "metadata": {
        "id": "6AMFA2YTGnhh"
      },
      "source": [
        "test = df[df['user'] > 30]"
      ],
      "execution_count": 171,
      "outputs": []
    },
    {
      "cell_type": "code",
      "metadata": {
        "colab": {
          "base_uri": "https://localhost:8080/"
        },
        "id": "ACX1LqBIG2Ax",
        "outputId": "fce557eb-2160-4645-8bc2-9219b3b3907a"
      },
      "source": [
        "print(train.shape)\n",
        "print(test.shape)"
      ],
      "execution_count": 172,
      "outputs": [
        {
          "output_type": "stream",
          "text": [
            "(898361, 5)\n",
            "(199843, 5)\n"
          ],
          "name": "stdout"
        }
      ]
    },
    {
      "cell_type": "code",
      "metadata": {
        "colab": {
          "base_uri": "https://localhost:8080/",
          "height": 206
        },
        "id": "a3X2bB3PG6Oy",
        "outputId": "08d83e37-ad13-4220-ab7d-c22d73b5c04e"
      },
      "source": [
        "train.head()"
      ],
      "execution_count": 173,
      "outputs": [
        {
          "output_type": "execute_result",
          "data": {
            "text/html": [
              "<div>\n",
              "<style scoped>\n",
              "    .dataframe tbody tr th:only-of-type {\n",
              "        vertical-align: middle;\n",
              "    }\n",
              "\n",
              "    .dataframe tbody tr th {\n",
              "        vertical-align: top;\n",
              "    }\n",
              "\n",
              "    .dataframe thead th {\n",
              "        text-align: right;\n",
              "    }\n",
              "</style>\n",
              "<table border=\"1\" class=\"dataframe\">\n",
              "  <thead>\n",
              "    <tr style=\"text-align: right;\">\n",
              "      <th></th>\n",
              "      <th>user</th>\n",
              "      <th>activity</th>\n",
              "      <th>x-axis</th>\n",
              "      <th>y-axis</th>\n",
              "      <th>z-axis</th>\n",
              "    </tr>\n",
              "  </thead>\n",
              "  <tbody>\n",
              "    <tr>\n",
              "      <th>8489</th>\n",
              "      <td>17</td>\n",
              "      <td>5</td>\n",
              "      <td>0.058149</td>\n",
              "      <td>0.996847</td>\n",
              "      <td>-0.053996</td>\n",
              "    </tr>\n",
              "    <tr>\n",
              "      <th>8490</th>\n",
              "      <td>17</td>\n",
              "      <td>5</td>\n",
              "      <td>-0.000000</td>\n",
              "      <td>0.998427</td>\n",
              "      <td>-0.056061</td>\n",
              "    </tr>\n",
              "    <tr>\n",
              "      <th>8491</th>\n",
              "      <td>17</td>\n",
              "      <td>5</td>\n",
              "      <td>-0.023448</td>\n",
              "      <td>0.997247</td>\n",
              "      <td>-0.070345</td>\n",
              "    </tr>\n",
              "    <tr>\n",
              "      <th>8492</th>\n",
              "      <td>17</td>\n",
              "      <td>5</td>\n",
              "      <td>0.014845</td>\n",
              "      <td>0.998642</td>\n",
              "      <td>-0.049932</td>\n",
              "    </tr>\n",
              "    <tr>\n",
              "      <th>8493</th>\n",
              "      <td>17</td>\n",
              "      <td>5</td>\n",
              "      <td>0.014737</td>\n",
              "      <td>0.998072</td>\n",
              "      <td>-0.060286</td>\n",
              "    </tr>\n",
              "  </tbody>\n",
              "</table>\n",
              "</div>"
            ],
            "text/plain": [
              "      user  activity    x-axis    y-axis    z-axis\n",
              "8489    17         5  0.058149  0.996847 -0.053996\n",
              "8490    17         5 -0.000000  0.998427 -0.056061\n",
              "8491    17         5 -0.023448  0.997247 -0.070345\n",
              "8492    17         5  0.014845  0.998642 -0.049932\n",
              "8493    17         5  0.014737  0.998072 -0.060286"
            ]
          },
          "metadata": {
            "tags": []
          },
          "execution_count": 173
        }
      ]
    },
    {
      "cell_type": "code",
      "metadata": {
        "colab": {
          "base_uri": "https://localhost:8080/"
        },
        "id": "yF9tgdUAHZCi",
        "outputId": "1c7210ac-1e76-452c-8ade-78a923086747"
      },
      "source": [
        "train.drop('user', axis = 1, inplace=True)\n",
        "test.drop('user', axis = 1, inplace=True)"
      ],
      "execution_count": 174,
      "outputs": [
        {
          "output_type": "stream",
          "text": [
            "/usr/local/lib/python3.7/dist-packages/pandas/core/frame.py:4174: SettingWithCopyWarning: \n",
            "A value is trying to be set on a copy of a slice from a DataFrame\n",
            "\n",
            "See the caveats in the documentation: https://pandas.pydata.org/pandas-docs/stable/user_guide/indexing.html#returning-a-view-versus-a-copy\n",
            "  errors=errors,\n"
          ],
          "name": "stderr"
        }
      ]
    },
    {
      "cell_type": "code",
      "metadata": {
        "id": "B39bWL0ZH49y"
      },
      "source": [
        "train.reset_index(drop = True, inplace = True)"
      ],
      "execution_count": 175,
      "outputs": []
    },
    {
      "cell_type": "code",
      "metadata": {
        "colab": {
          "base_uri": "https://localhost:8080/",
          "height": 206
        },
        "id": "uLoy7mk2IGgi",
        "outputId": "9a77dcf8-8db4-4af1-b50e-4e5c4087828c"
      },
      "source": [
        "train.head()"
      ],
      "execution_count": 176,
      "outputs": [
        {
          "output_type": "execute_result",
          "data": {
            "text/html": [
              "<div>\n",
              "<style scoped>\n",
              "    .dataframe tbody tr th:only-of-type {\n",
              "        vertical-align: middle;\n",
              "    }\n",
              "\n",
              "    .dataframe tbody tr th {\n",
              "        vertical-align: top;\n",
              "    }\n",
              "\n",
              "    .dataframe thead th {\n",
              "        text-align: right;\n",
              "    }\n",
              "</style>\n",
              "<table border=\"1\" class=\"dataframe\">\n",
              "  <thead>\n",
              "    <tr style=\"text-align: right;\">\n",
              "      <th></th>\n",
              "      <th>activity</th>\n",
              "      <th>x-axis</th>\n",
              "      <th>y-axis</th>\n",
              "      <th>z-axis</th>\n",
              "    </tr>\n",
              "  </thead>\n",
              "  <tbody>\n",
              "    <tr>\n",
              "      <th>0</th>\n",
              "      <td>5</td>\n",
              "      <td>0.058149</td>\n",
              "      <td>0.996847</td>\n",
              "      <td>-0.053996</td>\n",
              "    </tr>\n",
              "    <tr>\n",
              "      <th>1</th>\n",
              "      <td>5</td>\n",
              "      <td>-0.000000</td>\n",
              "      <td>0.998427</td>\n",
              "      <td>-0.056061</td>\n",
              "    </tr>\n",
              "    <tr>\n",
              "      <th>2</th>\n",
              "      <td>5</td>\n",
              "      <td>-0.023448</td>\n",
              "      <td>0.997247</td>\n",
              "      <td>-0.070345</td>\n",
              "    </tr>\n",
              "    <tr>\n",
              "      <th>3</th>\n",
              "      <td>5</td>\n",
              "      <td>0.014845</td>\n",
              "      <td>0.998642</td>\n",
              "      <td>-0.049932</td>\n",
              "    </tr>\n",
              "    <tr>\n",
              "      <th>4</th>\n",
              "      <td>5</td>\n",
              "      <td>0.014737</td>\n",
              "      <td>0.998072</td>\n",
              "      <td>-0.060286</td>\n",
              "    </tr>\n",
              "  </tbody>\n",
              "</table>\n",
              "</div>"
            ],
            "text/plain": [
              "   activity    x-axis    y-axis    z-axis\n",
              "0         5  0.058149  0.996847 -0.053996\n",
              "1         5 -0.000000  0.998427 -0.056061\n",
              "2         5 -0.023448  0.997247 -0.070345\n",
              "3         5  0.014845  0.998642 -0.049932\n",
              "4         5  0.014737  0.998072 -0.060286"
            ]
          },
          "metadata": {
            "tags": []
          },
          "execution_count": 176
        }
      ]
    },
    {
      "cell_type": "code",
      "metadata": {
        "colab": {
          "base_uri": "https://localhost:8080/",
          "height": 206
        },
        "id": "_lEB_9o8IW7C",
        "outputId": "d7b3de27-f8b2-4aeb-ace6-e27ab6fc6e09"
      },
      "source": [
        "train.reset_index(drop = True, inplace = True)\n",
        "train.head()"
      ],
      "execution_count": 177,
      "outputs": [
        {
          "output_type": "execute_result",
          "data": {
            "text/html": [
              "<div>\n",
              "<style scoped>\n",
              "    .dataframe tbody tr th:only-of-type {\n",
              "        vertical-align: middle;\n",
              "    }\n",
              "\n",
              "    .dataframe tbody tr th {\n",
              "        vertical-align: top;\n",
              "    }\n",
              "\n",
              "    .dataframe thead th {\n",
              "        text-align: right;\n",
              "    }\n",
              "</style>\n",
              "<table border=\"1\" class=\"dataframe\">\n",
              "  <thead>\n",
              "    <tr style=\"text-align: right;\">\n",
              "      <th></th>\n",
              "      <th>activity</th>\n",
              "      <th>x-axis</th>\n",
              "      <th>y-axis</th>\n",
              "      <th>z-axis</th>\n",
              "    </tr>\n",
              "  </thead>\n",
              "  <tbody>\n",
              "    <tr>\n",
              "      <th>0</th>\n",
              "      <td>5</td>\n",
              "      <td>0.058149</td>\n",
              "      <td>0.996847</td>\n",
              "      <td>-0.053996</td>\n",
              "    </tr>\n",
              "    <tr>\n",
              "      <th>1</th>\n",
              "      <td>5</td>\n",
              "      <td>-0.000000</td>\n",
              "      <td>0.998427</td>\n",
              "      <td>-0.056061</td>\n",
              "    </tr>\n",
              "    <tr>\n",
              "      <th>2</th>\n",
              "      <td>5</td>\n",
              "      <td>-0.023448</td>\n",
              "      <td>0.997247</td>\n",
              "      <td>-0.070345</td>\n",
              "    </tr>\n",
              "    <tr>\n",
              "      <th>3</th>\n",
              "      <td>5</td>\n",
              "      <td>0.014845</td>\n",
              "      <td>0.998642</td>\n",
              "      <td>-0.049932</td>\n",
              "    </tr>\n",
              "    <tr>\n",
              "      <th>4</th>\n",
              "      <td>5</td>\n",
              "      <td>0.014737</td>\n",
              "      <td>0.998072</td>\n",
              "      <td>-0.060286</td>\n",
              "    </tr>\n",
              "  </tbody>\n",
              "</table>\n",
              "</div>"
            ],
            "text/plain": [
              "   activity    x-axis    y-axis    z-axis\n",
              "0         5  0.058149  0.996847 -0.053996\n",
              "1         5 -0.000000  0.998427 -0.056061\n",
              "2         5 -0.023448  0.997247 -0.070345\n",
              "3         5  0.014845  0.998642 -0.049932\n",
              "4         5  0.014737  0.998072 -0.060286"
            ]
          },
          "metadata": {
            "tags": []
          },
          "execution_count": 177
        }
      ]
    },
    {
      "cell_type": "code",
      "metadata": {
        "id": "vgskihZuJHqh"
      },
      "source": [
        "# enoding the labels of the data to categorical\n",
        "from tensorflow.keras.utils import  to_categorical"
      ],
      "execution_count": 146,
      "outputs": []
    },
    {
      "cell_type": "code",
      "metadata": {
        "colab": {
          "base_uri": "https://localhost:8080/"
        },
        "id": "FR4R3e0VNI2w",
        "outputId": "9278703d-9e4a-40d6-d6a5-064340ccb2ea"
      },
      "source": [
        "df.dtypes"
      ],
      "execution_count": 147,
      "outputs": [
        {
          "output_type": "execute_result",
          "data": {
            "text/plain": [
              "user          int64\n",
              "activity     object\n",
              "x-axis      float64\n",
              "y-axis      float64\n",
              "z-axis      float64\n",
              "dtype: object"
            ]
          },
          "metadata": {
            "tags": []
          },
          "execution_count": 147
        }
      ]
    },
    {
      "cell_type": "code",
      "metadata": {
        "id": "M2Wjb4D8NP5-"
      },
      "source": [
        "df['activity'] = df['activity'].astype(\"category\")"
      ],
      "execution_count": 148,
      "outputs": []
    },
    {
      "cell_type": "code",
      "metadata": {
        "id": "Nxe0sAlINQBk"
      },
      "source": [
        "# from sklearn.preprocessing import OneHotEncoder\n",
        "# train['activity']= OneHotEncoder().fit_transform(train['activity'].values.reshape(-1,1))"
      ],
      "execution_count": 149,
      "outputs": []
    },
    {
      "cell_type": "code",
      "metadata": {
        "colab": {
          "base_uri": "https://localhost:8080/"
        },
        "id": "o6JPfL8CNq36",
        "outputId": "fa5b9700-fca0-47a1-cc5d-874d7aa10630"
      },
      "source": [
        "train['activity']"
      ],
      "execution_count": 150,
      "outputs": [
        {
          "output_type": "execute_result",
          "data": {
            "text/plain": [
              "0         Walking\n",
              "1         Walking\n",
              "2         Walking\n",
              "3         Walking\n",
              "4         Walking\n",
              "           ...   \n",
              "898356    Sitting\n",
              "898357    Sitting\n",
              "898358    Sitting\n",
              "898359    Sitting\n",
              "898360    Sitting\n",
              "Name: activity, Length: 898361, dtype: object"
            ]
          },
          "metadata": {
            "tags": []
          },
          "execution_count": 150
        }
      ]
    },
    {
      "cell_type": "code",
      "metadata": {
        "id": "vYJAybjRNq6X"
      },
      "source": [
        "# from sklearn.preprocessing import LabelEncoder\n",
        "# train_target = train['activity'].values"
      ],
      "execution_count": null,
      "outputs": []
    },
    {
      "cell_type": "code",
      "metadata": {
        "colab": {
          "base_uri": "https://localhost:8080/"
        },
        "id": "_AS7PQJ6SY5W",
        "outputId": "61c54bf8-299d-4279-bf31-538a60215afc"
      },
      "source": [
        "# type(train_target)"
      ],
      "execution_count": null,
      "outputs": [
        {
          "output_type": "execute_result",
          "data": {
            "text/plain": [
              "numpy.ndarray"
            ]
          },
          "metadata": {
            "tags": []
          },
          "execution_count": 87
        }
      ]
    },
    {
      "cell_type": "code",
      "metadata": {
        "id": "DRoJmg01SY73"
      },
      "source": [
        "# enc = LabelEncoder()\n",
        "# enc_train_target = enc.fit_transform(train_target)"
      ],
      "execution_count": null,
      "outputs": []
    },
    {
      "cell_type": "code",
      "metadata": {
        "colab": {
          "base_uri": "https://localhost:8080/"
        },
        "id": "I_qDZFgESY9_",
        "outputId": "dd63b673-f0c8-4b04-9d6b-61daa15fa901"
      },
      "source": [
        "# np.unique(enc_train_target)"
      ],
      "execution_count": null,
      "outputs": [
        {
          "output_type": "execute_result",
          "data": {
            "text/plain": [
              "array([0, 1, 2, 3, 4, 5])"
            ]
          },
          "metadata": {
            "tags": []
          },
          "execution_count": 92
        }
      ]
    },
    {
      "cell_type": "code",
      "metadata": {
        "id": "1U8ElY1hSueA",
        "colab": {
          "base_uri": "https://localhost:8080/"
        },
        "outputId": "970913ab-53bf-4d1b-d826-2aa97ba2de9e"
      },
      "source": [
        "# converting to codes\n",
        "train['activity'] = train['activity'].astype(\"category\")\n",
        "train.activity = train.activity.cat.codes"
      ],
      "execution_count": 151,
      "outputs": [
        {
          "output_type": "stream",
          "text": [
            "/usr/local/lib/python3.7/dist-packages/ipykernel_launcher.py:2: SettingWithCopyWarning: \n",
            "A value is trying to be set on a copy of a slice from a DataFrame.\n",
            "Try using .loc[row_indexer,col_indexer] = value instead\n",
            "\n",
            "See the caveats in the documentation: https://pandas.pydata.org/pandas-docs/stable/user_guide/indexing.html#returning-a-view-versus-a-copy\n",
            "  \n",
            "/usr/local/lib/python3.7/dist-packages/pandas/core/generic.py:5170: SettingWithCopyWarning: \n",
            "A value is trying to be set on a copy of a slice from a DataFrame.\n",
            "Try using .loc[row_indexer,col_indexer] = value instead\n",
            "\n",
            "See the caveats in the documentation: https://pandas.pydata.org/pandas-docs/stable/user_guide/indexing.html#returning-a-view-versus-a-copy\n",
            "  self[name] = value\n"
          ],
          "name": "stderr"
        }
      ]
    },
    {
      "cell_type": "code",
      "metadata": {
        "id": "hrmrXVIsSuhh"
      },
      "source": [
        ""
      ],
      "execution_count": null,
      "outputs": []
    },
    {
      "cell_type": "code",
      "metadata": {
        "colab": {
          "base_uri": "https://localhost:8080/",
          "height": 206
        },
        "id": "FXYaW9O0O-Qq",
        "outputId": "2da6623f-428d-4706-d1d4-f3190b26b29a"
      },
      "source": [
        "train.head()"
      ],
      "execution_count": 129,
      "outputs": [
        {
          "output_type": "execute_result",
          "data": {
            "text/html": [
              "<div>\n",
              "<style scoped>\n",
              "    .dataframe tbody tr th:only-of-type {\n",
              "        vertical-align: middle;\n",
              "    }\n",
              "\n",
              "    .dataframe tbody tr th {\n",
              "        vertical-align: top;\n",
              "    }\n",
              "\n",
              "    .dataframe thead th {\n",
              "        text-align: right;\n",
              "    }\n",
              "</style>\n",
              "<table border=\"1\" class=\"dataframe\">\n",
              "  <thead>\n",
              "    <tr style=\"text-align: right;\">\n",
              "      <th></th>\n",
              "      <th>activity</th>\n",
              "      <th>x-axis</th>\n",
              "      <th>y-axis</th>\n",
              "      <th>z-axis</th>\n",
              "    </tr>\n",
              "  </thead>\n",
              "  <tbody>\n",
              "    <tr>\n",
              "      <th>0</th>\n",
              "      <td>5</td>\n",
              "      <td>0.058149</td>\n",
              "      <td>0.996847</td>\n",
              "      <td>-0.053996</td>\n",
              "    </tr>\n",
              "    <tr>\n",
              "      <th>1</th>\n",
              "      <td>5</td>\n",
              "      <td>-0.000000</td>\n",
              "      <td>0.998427</td>\n",
              "      <td>-0.056061</td>\n",
              "    </tr>\n",
              "    <tr>\n",
              "      <th>2</th>\n",
              "      <td>5</td>\n",
              "      <td>-0.023448</td>\n",
              "      <td>0.997247</td>\n",
              "      <td>-0.070345</td>\n",
              "    </tr>\n",
              "    <tr>\n",
              "      <th>3</th>\n",
              "      <td>5</td>\n",
              "      <td>0.014845</td>\n",
              "      <td>0.998642</td>\n",
              "      <td>-0.049932</td>\n",
              "    </tr>\n",
              "    <tr>\n",
              "      <th>4</th>\n",
              "      <td>5</td>\n",
              "      <td>0.014737</td>\n",
              "      <td>0.998072</td>\n",
              "      <td>-0.060286</td>\n",
              "    </tr>\n",
              "  </tbody>\n",
              "</table>\n",
              "</div>"
            ],
            "text/plain": [
              "   activity    x-axis    y-axis    z-axis\n",
              "0         5  0.058149  0.996847 -0.053996\n",
              "1         5 -0.000000  0.998427 -0.056061\n",
              "2         5 -0.023448  0.997247 -0.070345\n",
              "3         5  0.014845  0.998642 -0.049932\n",
              "4         5  0.014737  0.998072 -0.060286"
            ]
          },
          "metadata": {
            "tags": []
          },
          "execution_count": 129
        }
      ]
    },
    {
      "cell_type": "code",
      "metadata": {
        "colab": {
          "base_uri": "https://localhost:8080/"
        },
        "id": "Eq5CtSETQtXj",
        "outputId": "f6a54172-773c-4719-ed5b-8abb52d943d8"
      },
      "source": [
        "train.dtypes"
      ],
      "execution_count": 130,
      "outputs": [
        {
          "output_type": "execute_result",
          "data": {
            "text/plain": [
              "activity       int8\n",
              "x-axis      float64\n",
              "y-axis      float64\n",
              "z-axis      float64\n",
              "dtype: object"
            ]
          },
          "metadata": {
            "tags": []
          },
          "execution_count": 130
        }
      ]
    },
    {
      "cell_type": "code",
      "metadata": {
        "id": "RMscP9IEMFkH"
      },
      "source": [
        "labels = to_categorical(train['activity'].values,num_classes=6, dtype='float32')"
      ],
      "execution_count": 152,
      "outputs": []
    },
    {
      "cell_type": "code",
      "metadata": {
        "colab": {
          "base_uri": "https://localhost:8080/"
        },
        "id": "5hs3XVK2upfe",
        "outputId": "2e4c5ce8-f495-41f7-8aea-3ac3ac15b80c"
      },
      "source": [
        "labels"
      ],
      "execution_count": 153,
      "outputs": [
        {
          "output_type": "execute_result",
          "data": {
            "text/plain": [
              "array([[0., 0., 0., 0., 0., 1.],\n",
              "       [0., 0., 0., 0., 0., 1.],\n",
              "       [0., 0., 0., 0., 0., 1.],\n",
              "       ...,\n",
              "       [0., 0., 1., 0., 0., 0.],\n",
              "       [0., 0., 1., 0., 0., 0.],\n",
              "       [0., 0., 1., 0., 0., 0.]], dtype=float32)"
            ]
          },
          "metadata": {
            "tags": []
          },
          "execution_count": 153
        }
      ]
    },
    {
      "cell_type": "code",
      "metadata": {
        "colab": {
          "base_uri": "https://localhost:8080/"
        },
        "id": "oPqm4wCHvCk9",
        "outputId": "33ca756d-3954-4e33-efdf-0d6df017072d"
      },
      "source": [
        "type(labels)"
      ],
      "execution_count": 154,
      "outputs": [
        {
          "output_type": "execute_result",
          "data": {
            "text/plain": [
              "numpy.ndarray"
            ]
          },
          "metadata": {
            "tags": []
          },
          "execution_count": 154
        }
      ]
    },
    {
      "cell_type": "code",
      "metadata": {
        "id": "mEH03rybvCs8"
      },
      "source": [
        ""
      ],
      "execution_count": null,
      "outputs": []
    },
    {
      "cell_type": "code",
      "metadata": {
        "colab": {
          "base_uri": "https://localhost:8080/",
          "height": 206
        },
        "id": "TNvZ47LmMN5y",
        "outputId": "ab0c6902-3e7f-475a-c5fc-ecf9edde160d"
      },
      "source": [
        "train.head()"
      ],
      "execution_count": 132,
      "outputs": [
        {
          "output_type": "execute_result",
          "data": {
            "text/html": [
              "<div>\n",
              "<style scoped>\n",
              "    .dataframe tbody tr th:only-of-type {\n",
              "        vertical-align: middle;\n",
              "    }\n",
              "\n",
              "    .dataframe tbody tr th {\n",
              "        vertical-align: top;\n",
              "    }\n",
              "\n",
              "    .dataframe thead th {\n",
              "        text-align: right;\n",
              "    }\n",
              "</style>\n",
              "<table border=\"1\" class=\"dataframe\">\n",
              "  <thead>\n",
              "    <tr style=\"text-align: right;\">\n",
              "      <th></th>\n",
              "      <th>activity</th>\n",
              "      <th>x-axis</th>\n",
              "      <th>y-axis</th>\n",
              "      <th>z-axis</th>\n",
              "    </tr>\n",
              "  </thead>\n",
              "  <tbody>\n",
              "    <tr>\n",
              "      <th>0</th>\n",
              "      <td>0.0</td>\n",
              "      <td>0.058149</td>\n",
              "      <td>0.996847</td>\n",
              "      <td>-0.053996</td>\n",
              "    </tr>\n",
              "    <tr>\n",
              "      <th>1</th>\n",
              "      <td>0.0</td>\n",
              "      <td>-0.000000</td>\n",
              "      <td>0.998427</td>\n",
              "      <td>-0.056061</td>\n",
              "    </tr>\n",
              "    <tr>\n",
              "      <th>2</th>\n",
              "      <td>0.0</td>\n",
              "      <td>-0.023448</td>\n",
              "      <td>0.997247</td>\n",
              "      <td>-0.070345</td>\n",
              "    </tr>\n",
              "    <tr>\n",
              "      <th>3</th>\n",
              "      <td>0.0</td>\n",
              "      <td>0.014845</td>\n",
              "      <td>0.998642</td>\n",
              "      <td>-0.049932</td>\n",
              "    </tr>\n",
              "    <tr>\n",
              "      <th>4</th>\n",
              "      <td>0.0</td>\n",
              "      <td>0.014737</td>\n",
              "      <td>0.998072</td>\n",
              "      <td>-0.060286</td>\n",
              "    </tr>\n",
              "  </tbody>\n",
              "</table>\n",
              "</div>"
            ],
            "text/plain": [
              "   activity    x-axis    y-axis    z-axis\n",
              "0       0.0  0.058149  0.996847 -0.053996\n",
              "1       0.0 -0.000000  0.998427 -0.056061\n",
              "2       0.0 -0.023448  0.997247 -0.070345\n",
              "3       0.0  0.014845  0.998642 -0.049932\n",
              "4       0.0  0.014737  0.998072 -0.060286"
            ]
          },
          "metadata": {
            "tags": []
          },
          "execution_count": 132
        }
      ]
    },
    {
      "cell_type": "code",
      "metadata": {
        "colab": {
          "base_uri": "https://localhost:8080/",
          "height": 206
        },
        "id": "JKKU79kaPMBa",
        "outputId": "8e9e27ef-ca40-4cd4-dd0c-ed971c794b93"
      },
      "source": [
        "train.tail()"
      ],
      "execution_count": null,
      "outputs": [
        {
          "output_type": "execute_result",
          "data": {
            "text/html": [
              "<div>\n",
              "<style scoped>\n",
              "    .dataframe tbody tr th:only-of-type {\n",
              "        vertical-align: middle;\n",
              "    }\n",
              "\n",
              "    .dataframe tbody tr th {\n",
              "        vertical-align: top;\n",
              "    }\n",
              "\n",
              "    .dataframe thead th {\n",
              "        text-align: right;\n",
              "    }\n",
              "</style>\n",
              "<table border=\"1\" class=\"dataframe\">\n",
              "  <thead>\n",
              "    <tr style=\"text-align: right;\">\n",
              "      <th></th>\n",
              "      <th>activity</th>\n",
              "      <th>x-axis</th>\n",
              "      <th>y-axis</th>\n",
              "      <th>z-axis</th>\n",
              "    </tr>\n",
              "  </thead>\n",
              "  <tbody>\n",
              "    <tr>\n",
              "      <th>898356</th>\n",
              "      <td>1.0</td>\n",
              "      <td>0.968689</td>\n",
              "      <td>-0.168982</td>\n",
              "      <td>0.181898</td>\n",
              "    </tr>\n",
              "    <tr>\n",
              "      <th>898357</th>\n",
              "      <td>1.0</td>\n",
              "      <td>0.970048</td>\n",
              "      <td>-0.156667</td>\n",
              "      <td>0.185640</td>\n",
              "    </tr>\n",
              "    <tr>\n",
              "      <th>898358</th>\n",
              "      <td>1.0</td>\n",
              "      <td>0.972323</td>\n",
              "      <td>-0.147776</td>\n",
              "      <td>0.180972</td>\n",
              "    </tr>\n",
              "    <tr>\n",
              "      <th>898359</th>\n",
              "      <td>1.0</td>\n",
              "      <td>0.969793</td>\n",
              "      <td>-0.157322</td>\n",
              "      <td>0.186416</td>\n",
              "    </tr>\n",
              "    <tr>\n",
              "      <th>898360</th>\n",
              "      <td>1.0</td>\n",
              "      <td>0.973444</td>\n",
              "      <td>-0.145797</td>\n",
              "      <td>0.176492</td>\n",
              "    </tr>\n",
              "  </tbody>\n",
              "</table>\n",
              "</div>"
            ],
            "text/plain": [
              "        activity    x-axis    y-axis    z-axis\n",
              "898356       1.0  0.968689 -0.168982  0.181898\n",
              "898357       1.0  0.970048 -0.156667  0.185640\n",
              "898358       1.0  0.972323 -0.147776  0.180972\n",
              "898359       1.0  0.969793 -0.157322  0.186416\n",
              "898360       1.0  0.973444 -0.145797  0.176492"
            ]
          },
          "metadata": {
            "tags": []
          },
          "execution_count": 69
        }
      ]
    },
    {
      "cell_type": "code",
      "metadata": {
        "colab": {
          "base_uri": "https://localhost:8080/"
        },
        "id": "sunIpLNeQeTp",
        "outputId": "2d057afe-bb30-419f-a74d-9e3f65fe3249"
      },
      "source": [
        "train.activity.unique()"
      ],
      "execution_count": 178,
      "outputs": [
        {
          "output_type": "execute_result",
          "data": {
            "text/plain": [
              "array([5, 1, 4, 0, 2, 3], dtype=int8)"
            ]
          },
          "metadata": {
            "tags": []
          },
          "execution_count": 178
        }
      ]
    },
    {
      "cell_type": "code",
      "metadata": {
        "id": "tA1iKdKbQ67J"
      },
      "source": [
        "t = tf.Variable(np.arange(2,21))"
      ],
      "execution_count": null,
      "outputs": []
    },
    {
      "cell_type": "code",
      "metadata": {
        "colab": {
          "base_uri": "https://localhost:8080/"
        },
        "id": "50ckez8gRMsR",
        "outputId": "94313480-b223-4d25-a298-3a8cc6446784"
      },
      "source": [
        "t.dtype"
      ],
      "execution_count": null,
      "outputs": [
        {
          "output_type": "execute_result",
          "data": {
            "text/plain": [
              "tf.int64"
            ]
          },
          "metadata": {
            "tags": []
          },
          "execution_count": 59
        }
      ]
    },
    {
      "cell_type": "code",
      "metadata": {
        "colab": {
          "base_uri": "https://localhost:8080/"
        },
        "id": "j7g1WxknROC4",
        "outputId": "2610331b-ba5c-4021-fd39-a537806be3e5"
      },
      "source": [
        "t"
      ],
      "execution_count": null,
      "outputs": [
        {
          "output_type": "execute_result",
          "data": {
            "text/plain": [
              "<tf.Variable 'Variable:0' shape=(19,) dtype=int64, numpy=\n",
              "array([ 2,  3,  4,  5,  6,  7,  8,  9, 10, 11, 12, 13, 14, 15, 16, 17, 18,\n",
              "       19, 20])>"
            ]
          },
          "metadata": {
            "tags": []
          },
          "execution_count": 60
        }
      ]
    },
    {
      "cell_type": "code",
      "metadata": {
        "id": "0W5gjT6fRRlg"
      },
      "source": [
        "m = to_categorical(t.numpy())"
      ],
      "execution_count": null,
      "outputs": []
    },
    {
      "cell_type": "code",
      "metadata": {
        "colab": {
          "base_uri": "https://localhost:8080/"
        },
        "id": "sHQHsM4lRVIQ",
        "outputId": "9fbaf786-5ba1-4b20-8478-3d22badc9b03"
      },
      "source": [
        "m"
      ],
      "execution_count": null,
      "outputs": [
        {
          "output_type": "execute_result",
          "data": {
            "text/plain": [
              "array([[0., 0., 1., 0., 0., 0., 0., 0., 0., 0., 0., 0., 0., 0., 0., 0.,\n",
              "        0., 0., 0., 0., 0.],\n",
              "       [0., 0., 0., 1., 0., 0., 0., 0., 0., 0., 0., 0., 0., 0., 0., 0.,\n",
              "        0., 0., 0., 0., 0.],\n",
              "       [0., 0., 0., 0., 1., 0., 0., 0., 0., 0., 0., 0., 0., 0., 0., 0.,\n",
              "        0., 0., 0., 0., 0.],\n",
              "       [0., 0., 0., 0., 0., 1., 0., 0., 0., 0., 0., 0., 0., 0., 0., 0.,\n",
              "        0., 0., 0., 0., 0.],\n",
              "       [0., 0., 0., 0., 0., 0., 1., 0., 0., 0., 0., 0., 0., 0., 0., 0.,\n",
              "        0., 0., 0., 0., 0.],\n",
              "       [0., 0., 0., 0., 0., 0., 0., 1., 0., 0., 0., 0., 0., 0., 0., 0.,\n",
              "        0., 0., 0., 0., 0.],\n",
              "       [0., 0., 0., 0., 0., 0., 0., 0., 1., 0., 0., 0., 0., 0., 0., 0.,\n",
              "        0., 0., 0., 0., 0.],\n",
              "       [0., 0., 0., 0., 0., 0., 0., 0., 0., 1., 0., 0., 0., 0., 0., 0.,\n",
              "        0., 0., 0., 0., 0.],\n",
              "       [0., 0., 0., 0., 0., 0., 0., 0., 0., 0., 1., 0., 0., 0., 0., 0.,\n",
              "        0., 0., 0., 0., 0.],\n",
              "       [0., 0., 0., 0., 0., 0., 0., 0., 0., 0., 0., 1., 0., 0., 0., 0.,\n",
              "        0., 0., 0., 0., 0.],\n",
              "       [0., 0., 0., 0., 0., 0., 0., 0., 0., 0., 0., 0., 1., 0., 0., 0.,\n",
              "        0., 0., 0., 0., 0.],\n",
              "       [0., 0., 0., 0., 0., 0., 0., 0., 0., 0., 0., 0., 0., 1., 0., 0.,\n",
              "        0., 0., 0., 0., 0.],\n",
              "       [0., 0., 0., 0., 0., 0., 0., 0., 0., 0., 0., 0., 0., 0., 1., 0.,\n",
              "        0., 0., 0., 0., 0.],\n",
              "       [0., 0., 0., 0., 0., 0., 0., 0., 0., 0., 0., 0., 0., 0., 0., 1.,\n",
              "        0., 0., 0., 0., 0.],\n",
              "       [0., 0., 0., 0., 0., 0., 0., 0., 0., 0., 0., 0., 0., 0., 0., 0.,\n",
              "        1., 0., 0., 0., 0.],\n",
              "       [0., 0., 0., 0., 0., 0., 0., 0., 0., 0., 0., 0., 0., 0., 0., 0.,\n",
              "        0., 1., 0., 0., 0.],\n",
              "       [0., 0., 0., 0., 0., 0., 0., 0., 0., 0., 0., 0., 0., 0., 0., 0.,\n",
              "        0., 0., 1., 0., 0.],\n",
              "       [0., 0., 0., 0., 0., 0., 0., 0., 0., 0., 0., 0., 0., 0., 0., 0.,\n",
              "        0., 0., 0., 1., 0.],\n",
              "       [0., 0., 0., 0., 0., 0., 0., 0., 0., 0., 0., 0., 0., 0., 0., 0.,\n",
              "        0., 0., 0., 0., 1.]], dtype=float32)"
            ]
          },
          "metadata": {
            "tags": []
          },
          "execution_count": 66
        }
      ]
    },
    {
      "cell_type": "code",
      "metadata": {
        "id": "ErMSiOHdRtER"
      },
      "source": [
        "###########################################################################################################################################\n",
        "\n",
        "# data windowing isolated windowing of features and labels required\n",
        "\n",
        "\n",
        "\n",
        "###########################################################################################################################################"
      ],
      "execution_count": 97,
      "outputs": []
    },
    {
      "cell_type": "code",
      "metadata": {
        "colab": {
          "base_uri": "https://localhost:8080/",
          "height": 206
        },
        "id": "ZW21pKexY6fB",
        "outputId": "c7510b05-455e-4aed-aa5b-3b49d9f2c895"
      },
      "source": [
        "# Testing for visualizations\n",
        "df.head()"
      ],
      "execution_count": 98,
      "outputs": [
        {
          "output_type": "execute_result",
          "data": {
            "text/html": [
              "<div>\n",
              "<style scoped>\n",
              "    .dataframe tbody tr th:only-of-type {\n",
              "        vertical-align: middle;\n",
              "    }\n",
              "\n",
              "    .dataframe tbody tr th {\n",
              "        vertical-align: top;\n",
              "    }\n",
              "\n",
              "    .dataframe thead th {\n",
              "        text-align: right;\n",
              "    }\n",
              "</style>\n",
              "<table border=\"1\" class=\"dataframe\">\n",
              "  <thead>\n",
              "    <tr style=\"text-align: right;\">\n",
              "      <th></th>\n",
              "      <th>user</th>\n",
              "      <th>activity</th>\n",
              "      <th>timestamp</th>\n",
              "      <th>x-axis</th>\n",
              "      <th>y-axis</th>\n",
              "      <th>z-axis</th>\n",
              "    </tr>\n",
              "  </thead>\n",
              "  <tbody>\n",
              "    <tr>\n",
              "      <th>0</th>\n",
              "      <td>33</td>\n",
              "      <td>Jogging</td>\n",
              "      <td>49105962326000</td>\n",
              "      <td>-0.054655</td>\n",
              "      <td>0.997718</td>\n",
              "      <td>0.039652</td>\n",
              "    </tr>\n",
              "    <tr>\n",
              "      <th>1</th>\n",
              "      <td>33</td>\n",
              "      <td>Jogging</td>\n",
              "      <td>49106062271000</td>\n",
              "      <td>0.405338</td>\n",
              "      <td>0.910910</td>\n",
              "      <td>0.077102</td>\n",
              "    </tr>\n",
              "    <tr>\n",
              "      <th>2</th>\n",
              "      <td>33</td>\n",
              "      <td>Jogging</td>\n",
              "      <td>49106112167000</td>\n",
              "      <td>0.410782</td>\n",
              "      <td>0.911708</td>\n",
              "      <td>-0.006846</td>\n",
              "    </tr>\n",
              "    <tr>\n",
              "      <th>3</th>\n",
              "      <td>33</td>\n",
              "      <td>Jogging</td>\n",
              "      <td>49106222305000</td>\n",
              "      <td>-0.032685</td>\n",
              "      <td>0.986373</td>\n",
              "      <td>0.161248</td>\n",
              "    </tr>\n",
              "    <tr>\n",
              "      <th>4</th>\n",
              "      <td>33</td>\n",
              "      <td>Jogging</td>\n",
              "      <td>49106332290000</td>\n",
              "      <td>-0.083804</td>\n",
              "      <td>0.856341</td>\n",
              "      <td>0.509566</td>\n",
              "    </tr>\n",
              "  </tbody>\n",
              "</table>\n",
              "</div>"
            ],
            "text/plain": [
              "   user activity       timestamp    x-axis    y-axis    z-axis\n",
              "0    33  Jogging  49105962326000 -0.054655  0.997718  0.039652\n",
              "1    33  Jogging  49106062271000  0.405338  0.910910  0.077102\n",
              "2    33  Jogging  49106112167000  0.410782  0.911708 -0.006846\n",
              "3    33  Jogging  49106222305000 -0.032685  0.986373  0.161248\n",
              "4    33  Jogging  49106332290000 -0.083804  0.856341  0.509566"
            ]
          },
          "metadata": {
            "tags": []
          },
          "execution_count": 98
        }
      ]
    },
    {
      "cell_type": "code",
      "metadata": {
        "id": "iZGEO-u2ZZvP"
      },
      "source": [
        "f = df[['activity','x-axis','y-axis','z-axis']]"
      ],
      "execution_count": 100,
      "outputs": []
    },
    {
      "cell_type": "code",
      "metadata": {
        "id": "Quv7lw67ZrZv"
      },
      "source": [
        "import seaborn as sns"
      ],
      "execution_count": 101,
      "outputs": []
    },
    {
      "cell_type": "code",
      "metadata": {
        "colab": {
          "base_uri": "https://localhost:8080/",
          "height": 568
        },
        "id": "vYFPKpp-ZyIu",
        "outputId": "21dd9e63-6ae7-4617-8dff-bb495d81fc90"
      },
      "source": [
        "sns.pairplot(f[:500], hue='activity')"
      ],
      "execution_count": 104,
      "outputs": [
        {
          "output_type": "execute_result",
          "data": {
            "text/plain": [
              "<seaborn.axisgrid.PairGrid at 0x7fe2d08827d0>"
            ]
          },
          "metadata": {
            "tags": []
          },
          "execution_count": 104
        },
        {
          "output_type": "display_data",
          "data": {
            "image/png": "[encoded data removed]",
            "text/plain": [
              "<Figure size 613.25x540 with 12 Axes>"
            ]
          },
          "metadata": {
            "tags": [],
            "needs_background": "light"
          }
        }
      ]
    },
    {
      "cell_type": "code",
      "metadata": {
        "colab": {
          "base_uri": "https://localhost:8080/"
        },
        "id": "4qJkSsTpZ5LO",
        "outputId": "b5028f24-8dd6-43a2-8979-418a7b7c5c70"
      },
      "source": [
        "df['activity'].value_counts()"
      ],
      "execution_count": 106,
      "outputs": [
        {
          "output_type": "execute_result",
          "data": {
            "text/plain": [
              "Walking       424398\n",
              "Jogging       342176\n",
              "Upstairs      122869\n",
              "Downstairs    100427\n",
              "Sitting        59939\n",
              "Standing       48395\n",
              "Name: activity, dtype: int64"
            ]
          },
          "metadata": {
            "tags": []
          },
          "execution_count": 106
        }
      ]
    },
    {
      "cell_type": "code",
      "metadata": {
        "colab": {
          "base_uri": "https://localhost:8080/",
          "height": 283
        },
        "id": "6vQUNDrOjKP1",
        "outputId": "cbfaa7b9-e05f-464c-db75-6ca349985dcb"
      },
      "source": [
        "plt.barh(df['activity'].unique(),df['activity'].value_counts())"
      ],
      "execution_count": 111,
      "outputs": [
        {
          "output_type": "execute_result",
          "data": {
            "text/plain": [
              "<BarContainer object of 6 artists>"
            ]
          },
          "metadata": {
            "tags": []
          },
          "execution_count": 111
        },
        {
          "output_type": "display_data",
          "data": {
            "image/png": "[encoded data removed]",
            "text/plain": [
              "<Figure size 432x288 with 1 Axes>"
            ]
          },
          "metadata": {
            "tags": [],
            "needs_background": "light"
          }
        }
      ]
    },
    {
      "cell_type": "code",
      "metadata": {
        "id": "2h7xb-qmjaVq"
      },
      "source": [
        ""
      ],
      "execution_count": null,
      "outputs": []
    }
  ]
}