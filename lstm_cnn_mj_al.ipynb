{
  "nbformat": 4,
  "nbformat_minor": 0,
  "metadata": {
    "colab": {
      "name": "lstm_cnn_mj_al.ipynb",
      "provenance": [],
      "mount_file_id": "1MvAqjbMG3nkIJttp5MZbd26mr0wt8-9-",
      "authorship_tag": "ABX9TyORK7y7uEk6RTplPD6M1nYF",
      "include_colab_link": true
    },
    "kernelspec": {
      "name": "python3",
      "display_name": "Python 3"
    },
    "language_info": {
      "name": "python"
    }
  },
  "cells": [
    {
      "cell_type": "markdown",
      "metadata": {
        "id": "view-in-github",
        "colab_type": "text"
      },
      "source": [
        "<a href=\"https://colab.research.google.com/github/AkhilVinayakp/HAR_LSTM_CNN/blob/main/lstm_cnn_mj_al.ipynb\" target=\"_parent\"><img src=\"https://colab.research.google.com/assets/colab-badge.svg\" alt=\"Open In Colab\"/></a>"
      ]
    },
    {
      "cell_type": "code",
      "metadata": {
        "id": "cpC2z5_IAfJU"
      },
      "source": [
        "# lstm_cnn_model with wisdm int_norm.csv\n",
        "# testing no. 1 "
      ],
      "execution_count": null,
      "outputs": []
    },
    {
      "cell_type": "code",
      "metadata": {
        "id": "fQzs08YNt7_B"
      },
      "source": [
        ""
      ],
      "execution_count": null,
      "outputs": []
    },
    {
      "cell_type": "code",
      "metadata": {
        "colab": {
          "base_uri": "https://localhost:8080/",
          "height": 54
        },
        "id": "-cPgSvFUAyRF",
        "outputId": "4498e978-a6ae-46bf-d9fb-581c96c249a0"
      },
      "source": [
        "%cd /content/drive/My\\ Drive/datasets \n",
        "%pwd"
      ],
      "execution_count": 1,
      "outputs": [
        {
          "output_type": "stream",
          "text": [
            "/content/drive/My Drive/datasets\n"
          ],
          "name": "stdout"
        },
        {
          "output_type": "execute_result",
          "data": {
            "application/vnd.google.colaboratory.intrinsic+json": {
              "type": "string"
            },
            "text/plain": [
              "'/content/drive/My Drive/datasets'"
            ]
          },
          "metadata": {
            "tags": []
          },
          "execution_count": 1
        }
      ]
    },
    {
      "cell_type": "code",
      "metadata": {
        "id": "zdqMapC6BVmB"
      },
      "source": [
        "import tensorflow as tf\n",
        "import pandas as pd\n",
        "import numpy as np\n",
        "import matplotlib.pyplot as plt\n",
        "from tensorflow.keras.utils import to_categorical"
      ],
      "execution_count": 2,
      "outputs": []
    },
    {
      "cell_type": "code",
      "metadata": {
        "id": "EZojSMSQBpkC"
      },
      "source": [
        "\n",
        "df =  pd.read_csv('int_norm.csv')"
      ],
      "execution_count": 3,
      "outputs": []
    },
    {
      "cell_type": "code",
      "metadata": {
        "id": "ZMYuVEmMCrWa",
        "colab": {
          "base_uri": "https://localhost:8080/"
        },
        "outputId": "7da96502-3d38-494d-891a-b04979b20fe4"
      },
      "source": [
        "df.shape"
      ],
      "execution_count": 4,
      "outputs": [
        {
          "output_type": "execute_result",
          "data": {
            "text/plain": [
              "(1098204, 6)"
            ]
          },
          "metadata": {
            "tags": []
          },
          "execution_count": 4
        }
      ]
    },
    {
      "cell_type": "code",
      "metadata": {
        "id": "z9iKqPq4C52x"
      },
      "source": [
        "# creating windowed dataset\n",
        "# data windowing function test case passed\n",
        "def create_windowed_dataset(series, window_size,shift_size, batch_size,shuffle_buffer):\n",
        "  dataset = tf.data.Dataset.from_tensor_slices(series)\n",
        "  dataset = dataset.window(window_size , shift = shift_size, drop_remainder = True)\n",
        "  dataset = dataset.flat_map(lambda window: window.batch(window_size))\n",
        "  dataset = dataset.shuffle(shuffle_buffer).map(lambda window: (window[:,1:],window[window_size - 1,0]))\n",
        "  dataset = dataset.batch(batch_size).prefetch(1)\n",
        "  return dataset"
      ],
      "execution_count": 5,
      "outputs": []
    },
    {
      "cell_type": "code",
      "metadata": {
        "id": "C0JgSWMwGU76",
        "colab": {
          "base_uri": "https://localhost:8080/",
          "height": 206
        },
        "outputId": "3a75ba09-d4ab-419f-aff2-ca2d4c52b73f"
      },
      "source": [
        "df.head()"
      ],
      "execution_count": 6,
      "outputs": [
        {
          "output_type": "execute_result",
          "data": {
            "text/html": [
              "<div>\n",
              "<style scoped>\n",
              "    .dataframe tbody tr th:only-of-type {\n",
              "        vertical-align: middle;\n",
              "    }\n",
              "\n",
              "    .dataframe tbody tr th {\n",
              "        vertical-align: top;\n",
              "    }\n",
              "\n",
              "    .dataframe thead th {\n",
              "        text-align: right;\n",
              "    }\n",
              "</style>\n",
              "<table border=\"1\" class=\"dataframe\">\n",
              "  <thead>\n",
              "    <tr style=\"text-align: right;\">\n",
              "      <th></th>\n",
              "      <th>user</th>\n",
              "      <th>activity</th>\n",
              "      <th>timestamp</th>\n",
              "      <th>x-axis</th>\n",
              "      <th>y-axis</th>\n",
              "      <th>z-axis</th>\n",
              "    </tr>\n",
              "  </thead>\n",
              "  <tbody>\n",
              "    <tr>\n",
              "      <th>0</th>\n",
              "      <td>33</td>\n",
              "      <td>Jogging</td>\n",
              "      <td>49105962326000</td>\n",
              "      <td>-0.054655</td>\n",
              "      <td>0.997718</td>\n",
              "      <td>0.039652</td>\n",
              "    </tr>\n",
              "    <tr>\n",
              "      <th>1</th>\n",
              "      <td>33</td>\n",
              "      <td>Jogging</td>\n",
              "      <td>49106062271000</td>\n",
              "      <td>0.405338</td>\n",
              "      <td>0.910910</td>\n",
              "      <td>0.077102</td>\n",
              "    </tr>\n",
              "    <tr>\n",
              "      <th>2</th>\n",
              "      <td>33</td>\n",
              "      <td>Jogging</td>\n",
              "      <td>49106112167000</td>\n",
              "      <td>0.410782</td>\n",
              "      <td>0.911708</td>\n",
              "      <td>-0.006846</td>\n",
              "    </tr>\n",
              "    <tr>\n",
              "      <th>3</th>\n",
              "      <td>33</td>\n",
              "      <td>Jogging</td>\n",
              "      <td>49106222305000</td>\n",
              "      <td>-0.032685</td>\n",
              "      <td>0.986373</td>\n",
              "      <td>0.161248</td>\n",
              "    </tr>\n",
              "    <tr>\n",
              "      <th>4</th>\n",
              "      <td>33</td>\n",
              "      <td>Jogging</td>\n",
              "      <td>49106332290000</td>\n",
              "      <td>-0.083804</td>\n",
              "      <td>0.856341</td>\n",
              "      <td>0.509566</td>\n",
              "    </tr>\n",
              "  </tbody>\n",
              "</table>\n",
              "</div>"
            ],
            "text/plain": [
              "   user activity       timestamp    x-axis    y-axis    z-axis\n",
              "0    33  Jogging  49105962326000 -0.054655  0.997718  0.039652\n",
              "1    33  Jogging  49106062271000  0.405338  0.910910  0.077102\n",
              "2    33  Jogging  49106112167000  0.410782  0.911708 -0.006846\n",
              "3    33  Jogging  49106222305000 -0.032685  0.986373  0.161248\n",
              "4    33  Jogging  49106332290000 -0.083804  0.856341  0.509566"
            ]
          },
          "metadata": {
            "tags": []
          },
          "execution_count": 6
        }
      ]
    },
    {
      "cell_type": "code",
      "metadata": {
        "id": "8Ky7aGD7GrNy"
      },
      "source": [
        "df.drop('timestamp', axis = 1, inplace=True)"
      ],
      "execution_count": 7,
      "outputs": []
    },
    {
      "cell_type": "code",
      "metadata": {
        "id": "h8CnOvROGcVB"
      },
      "source": [
        "train = df[df['user'] < 31 ]"
      ],
      "execution_count": 8,
      "outputs": []
    },
    {
      "cell_type": "code",
      "metadata": {
        "id": "6AMFA2YTGnhh"
      },
      "source": [
        "test = df[df['user'] > 30]"
      ],
      "execution_count": 9,
      "outputs": []
    },
    {
      "cell_type": "code",
      "metadata": {
        "colab": {
          "base_uri": "https://localhost:8080/"
        },
        "id": "ACX1LqBIG2Ax",
        "outputId": "fb977ed3-fda9-463a-f9a1-6c6a46a95a95"
      },
      "source": [
        "print(train.shape)\n",
        "print(test.shape)"
      ],
      "execution_count": 10,
      "outputs": [
        {
          "output_type": "stream",
          "text": [
            "(898361, 5)\n",
            "(199843, 5)\n"
          ],
          "name": "stdout"
        }
      ]
    },
    {
      "cell_type": "code",
      "metadata": {
        "colab": {
          "base_uri": "https://localhost:8080/",
          "height": 206
        },
        "id": "a3X2bB3PG6Oy",
        "outputId": "0b71baf4-7e3a-4945-94df-1db56c9de8d1"
      },
      "source": [
        "train.head()"
      ],
      "execution_count": 11,
      "outputs": [
        {
          "output_type": "execute_result",
          "data": {
            "text/html": [
              "<div>\n",
              "<style scoped>\n",
              "    .dataframe tbody tr th:only-of-type {\n",
              "        vertical-align: middle;\n",
              "    }\n",
              "\n",
              "    .dataframe tbody tr th {\n",
              "        vertical-align: top;\n",
              "    }\n",
              "\n",
              "    .dataframe thead th {\n",
              "        text-align: right;\n",
              "    }\n",
              "</style>\n",
              "<table border=\"1\" class=\"dataframe\">\n",
              "  <thead>\n",
              "    <tr style=\"text-align: right;\">\n",
              "      <th></th>\n",
              "      <th>user</th>\n",
              "      <th>activity</th>\n",
              "      <th>x-axis</th>\n",
              "      <th>y-axis</th>\n",
              "      <th>z-axis</th>\n",
              "    </tr>\n",
              "  </thead>\n",
              "  <tbody>\n",
              "    <tr>\n",
              "      <th>8489</th>\n",
              "      <td>17</td>\n",
              "      <td>Walking</td>\n",
              "      <td>0.058149</td>\n",
              "      <td>0.996847</td>\n",
              "      <td>-0.053996</td>\n",
              "    </tr>\n",
              "    <tr>\n",
              "      <th>8490</th>\n",
              "      <td>17</td>\n",
              "      <td>Walking</td>\n",
              "      <td>-0.000000</td>\n",
              "      <td>0.998427</td>\n",
              "      <td>-0.056061</td>\n",
              "    </tr>\n",
              "    <tr>\n",
              "      <th>8491</th>\n",
              "      <td>17</td>\n",
              "      <td>Walking</td>\n",
              "      <td>-0.023448</td>\n",
              "      <td>0.997247</td>\n",
              "      <td>-0.070345</td>\n",
              "    </tr>\n",
              "    <tr>\n",
              "      <th>8492</th>\n",
              "      <td>17</td>\n",
              "      <td>Walking</td>\n",
              "      <td>0.014845</td>\n",
              "      <td>0.998642</td>\n",
              "      <td>-0.049932</td>\n",
              "    </tr>\n",
              "    <tr>\n",
              "      <th>8493</th>\n",
              "      <td>17</td>\n",
              "      <td>Walking</td>\n",
              "      <td>0.014737</td>\n",
              "      <td>0.998072</td>\n",
              "      <td>-0.060286</td>\n",
              "    </tr>\n",
              "  </tbody>\n",
              "</table>\n",
              "</div>"
            ],
            "text/plain": [
              "      user activity    x-axis    y-axis    z-axis\n",
              "8489    17  Walking  0.058149  0.996847 -0.053996\n",
              "8490    17  Walking -0.000000  0.998427 -0.056061\n",
              "8491    17  Walking -0.023448  0.997247 -0.070345\n",
              "8492    17  Walking  0.014845  0.998642 -0.049932\n",
              "8493    17  Walking  0.014737  0.998072 -0.060286"
            ]
          },
          "metadata": {
            "tags": []
          },
          "execution_count": 11
        }
      ]
    },
    {
      "cell_type": "code",
      "metadata": {
        "colab": {
          "base_uri": "https://localhost:8080/"
        },
        "id": "yF9tgdUAHZCi",
        "outputId": "08f11e71-143a-409e-e209-7c3bb9120cdf"
      },
      "source": [
        "train.drop('user', axis = 1, inplace=True)\n",
        "test.drop('user', axis = 1, inplace=True)"
      ],
      "execution_count": 12,
      "outputs": [
        {
          "output_type": "stream",
          "text": [
            "/usr/local/lib/python3.7/dist-packages/pandas/core/frame.py:4174: SettingWithCopyWarning: \n",
            "A value is trying to be set on a copy of a slice from a DataFrame\n",
            "\n",
            "See the caveats in the documentation: https://pandas.pydata.org/pandas-docs/stable/user_guide/indexing.html#returning-a-view-versus-a-copy\n",
            "  errors=errors,\n"
          ],
          "name": "stderr"
        }
      ]
    },
    {
      "cell_type": "code",
      "metadata": {
        "id": "B39bWL0ZH49y"
      },
      "source": [
        "train.reset_index(drop = True, inplace = True)"
      ],
      "execution_count": 13,
      "outputs": []
    },
    {
      "cell_type": "code",
      "metadata": {
        "colab": {
          "base_uri": "https://localhost:8080/",
          "height": 206
        },
        "id": "uLoy7mk2IGgi",
        "outputId": "20facf99-9891-43f2-df12-4c0759831e93"
      },
      "source": [
        "train.head()"
      ],
      "execution_count": 14,
      "outputs": [
        {
          "output_type": "execute_result",
          "data": {
            "text/html": [
              "<div>\n",
              "<style scoped>\n",
              "    .dataframe tbody tr th:only-of-type {\n",
              "        vertical-align: middle;\n",
              "    }\n",
              "\n",
              "    .dataframe tbody tr th {\n",
              "        vertical-align: top;\n",
              "    }\n",
              "\n",
              "    .dataframe thead th {\n",
              "        text-align: right;\n",
              "    }\n",
              "</style>\n",
              "<table border=\"1\" class=\"dataframe\">\n",
              "  <thead>\n",
              "    <tr style=\"text-align: right;\">\n",
              "      <th></th>\n",
              "      <th>activity</th>\n",
              "      <th>x-axis</th>\n",
              "      <th>y-axis</th>\n",
              "      <th>z-axis</th>\n",
              "    </tr>\n",
              "  </thead>\n",
              "  <tbody>\n",
              "    <tr>\n",
              "      <th>0</th>\n",
              "      <td>Walking</td>\n",
              "      <td>0.058149</td>\n",
              "      <td>0.996847</td>\n",
              "      <td>-0.053996</td>\n",
              "    </tr>\n",
              "    <tr>\n",
              "      <th>1</th>\n",
              "      <td>Walking</td>\n",
              "      <td>-0.000000</td>\n",
              "      <td>0.998427</td>\n",
              "      <td>-0.056061</td>\n",
              "    </tr>\n",
              "    <tr>\n",
              "      <th>2</th>\n",
              "      <td>Walking</td>\n",
              "      <td>-0.023448</td>\n",
              "      <td>0.997247</td>\n",
              "      <td>-0.070345</td>\n",
              "    </tr>\n",
              "    <tr>\n",
              "      <th>3</th>\n",
              "      <td>Walking</td>\n",
              "      <td>0.014845</td>\n",
              "      <td>0.998642</td>\n",
              "      <td>-0.049932</td>\n",
              "    </tr>\n",
              "    <tr>\n",
              "      <th>4</th>\n",
              "      <td>Walking</td>\n",
              "      <td>0.014737</td>\n",
              "      <td>0.998072</td>\n",
              "      <td>-0.060286</td>\n",
              "    </tr>\n",
              "  </tbody>\n",
              "</table>\n",
              "</div>"
            ],
            "text/plain": [
              "  activity    x-axis    y-axis    z-axis\n",
              "0  Walking  0.058149  0.996847 -0.053996\n",
              "1  Walking -0.000000  0.998427 -0.056061\n",
              "2  Walking -0.023448  0.997247 -0.070345\n",
              "3  Walking  0.014845  0.998642 -0.049932\n",
              "4  Walking  0.014737  0.998072 -0.060286"
            ]
          },
          "metadata": {
            "tags": []
          },
          "execution_count": 14
        }
      ]
    },
    {
      "cell_type": "code",
      "metadata": {
        "colab": {
          "base_uri": "https://localhost:8080/",
          "height": 206
        },
        "id": "_lEB_9o8IW7C",
        "outputId": "0dd92a98-0048-47a7-a452-188e6b909656"
      },
      "source": [
        "train.reset_index(drop = True, inplace = True)\n",
        "train.head()"
      ],
      "execution_count": 15,
      "outputs": [
        {
          "output_type": "execute_result",
          "data": {
            "text/html": [
              "<div>\n",
              "<style scoped>\n",
              "    .dataframe tbody tr th:only-of-type {\n",
              "        vertical-align: middle;\n",
              "    }\n",
              "\n",
              "    .dataframe tbody tr th {\n",
              "        vertical-align: top;\n",
              "    }\n",
              "\n",
              "    .dataframe thead th {\n",
              "        text-align: right;\n",
              "    }\n",
              "</style>\n",
              "<table border=\"1\" class=\"dataframe\">\n",
              "  <thead>\n",
              "    <tr style=\"text-align: right;\">\n",
              "      <th></th>\n",
              "      <th>activity</th>\n",
              "      <th>x-axis</th>\n",
              "      <th>y-axis</th>\n",
              "      <th>z-axis</th>\n",
              "    </tr>\n",
              "  </thead>\n",
              "  <tbody>\n",
              "    <tr>\n",
              "      <th>0</th>\n",
              "      <td>Walking</td>\n",
              "      <td>0.058149</td>\n",
              "      <td>0.996847</td>\n",
              "      <td>-0.053996</td>\n",
              "    </tr>\n",
              "    <tr>\n",
              "      <th>1</th>\n",
              "      <td>Walking</td>\n",
              "      <td>-0.000000</td>\n",
              "      <td>0.998427</td>\n",
              "      <td>-0.056061</td>\n",
              "    </tr>\n",
              "    <tr>\n",
              "      <th>2</th>\n",
              "      <td>Walking</td>\n",
              "      <td>-0.023448</td>\n",
              "      <td>0.997247</td>\n",
              "      <td>-0.070345</td>\n",
              "    </tr>\n",
              "    <tr>\n",
              "      <th>3</th>\n",
              "      <td>Walking</td>\n",
              "      <td>0.014845</td>\n",
              "      <td>0.998642</td>\n",
              "      <td>-0.049932</td>\n",
              "    </tr>\n",
              "    <tr>\n",
              "      <th>4</th>\n",
              "      <td>Walking</td>\n",
              "      <td>0.014737</td>\n",
              "      <td>0.998072</td>\n",
              "      <td>-0.060286</td>\n",
              "    </tr>\n",
              "  </tbody>\n",
              "</table>\n",
              "</div>"
            ],
            "text/plain": [
              "  activity    x-axis    y-axis    z-axis\n",
              "0  Walking  0.058149  0.996847 -0.053996\n",
              "1  Walking -0.000000  0.998427 -0.056061\n",
              "2  Walking -0.023448  0.997247 -0.070345\n",
              "3  Walking  0.014845  0.998642 -0.049932\n",
              "4  Walking  0.014737  0.998072 -0.060286"
            ]
          },
          "metadata": {
            "tags": []
          },
          "execution_count": 15
        }
      ]
    },
    {
      "cell_type": "code",
      "metadata": {
        "id": "vgskihZuJHqh"
      },
      "source": [
        ""
      ],
      "execution_count": null,
      "outputs": []
    }
  ]
}